{
 "cells": [
  {
   "cell_type": "markdown",
   "metadata": {},
   "source": [
    "# Проект по SQL"
   ]
  },
  {
   "cell_type": "markdown",
   "metadata": {
    "toc": true
   },
   "source": [
    "<h1>Содержание<span class=\"tocSkip\"></span></h1>\n",
    "<div class=\"toc\"><ul class=\"toc-item\"><li><span><a href=\"#Описание-проекта\" data-toc-modified-id=\"Описание-проекта-1\"><span class=\"toc-item-num\">1&nbsp;&nbsp;</span>Описание проекта</a></span></li><li><span><a href=\"#Описание-данных\" data-toc-modified-id=\"Описание-данных-2\"><span class=\"toc-item-num\">2&nbsp;&nbsp;</span>Описание данных</a></span></li><li><span><a href=\"#Подключение-к-базе-данных\" data-toc-modified-id=\"Подключение-к-базе-данных-3\"><span class=\"toc-item-num\">3&nbsp;&nbsp;</span>Подключение к базе данных</a></span></li><li><span><a href=\"#Запрос-№1\" data-toc-modified-id=\"Запрос-№1-4\"><span class=\"toc-item-num\">4&nbsp;&nbsp;</span>Запрос №1</a></span></li><li><span><a href=\"#Запрос-№2\" data-toc-modified-id=\"Запрос-№2-5\"><span class=\"toc-item-num\">5&nbsp;&nbsp;</span>Запрос №2</a></span></li><li><span><a href=\"#Запрос-№3\" data-toc-modified-id=\"Запрос-№3-6\"><span class=\"toc-item-num\">6&nbsp;&nbsp;</span>Запрос №3</a></span></li><li><span><a href=\"#Запрос-№4\" data-toc-modified-id=\"Запрос-№4-7\"><span class=\"toc-item-num\">7&nbsp;&nbsp;</span>Запрос №4</a></span></li><li><span><a href=\"#Запрос-№5\" data-toc-modified-id=\"Запрос-№5-8\"><span class=\"toc-item-num\">8&nbsp;&nbsp;</span>Запрос №5</a></span></li><li><span><a href=\"#Итоговый-вывод\" data-toc-modified-id=\"Итоговый-вывод-9\"><span class=\"toc-item-num\">9&nbsp;&nbsp;</span>Итоговый вывод</a></span></li></ul></div>"
   ]
  },
  {
   "cell_type": "markdown",
   "metadata": {},
   "source": [
    "## Описание проекта"
   ]
  },
  {
   "cell_type": "markdown",
   "metadata": {},
   "source": [
    "Коронавирус застал мир врасплох, изменив привычный порядок вещей. В свободное время жители городов больше не выходят на улицу, не посещают кафе и торговые центры. Зато стало больше времени для книг. Это заметили стартаперы — и бросились создавать приложения для тех, кто любит читать.\n",
    "\n",
    "Компания-заказчик решила быть на волне и купила крупный сервис для чтения книг по подписке.\n",
    "\n",
    "\n",
    "**Задача** — написать запросы на SQL для того, чтобы получить данные, которые помогут сформулировать ценностное предложение для нового продукта.\n",
    "\n",
    "\n",
    "**Исходные данные** — информация о книгах, издательствах, авторах, а также пользовательские обзоры книг."
   ]
  },
  {
   "cell_type": "markdown",
   "metadata": {},
   "source": [
    "## Описание данных"
   ]
  },
  {
   "cell_type": "markdown",
   "metadata": {},
   "source": [
    "**Таблица `books`**\n",
    "\n",
    "Содержит данные о книгах.\n",
    "\n",
    "**Таблица `authors`**\n",
    "\n",
    "Содержит данные об авторах.\n",
    "\n",
    "**Таблица `publishers`**\n",
    "\n",
    "Содержит данные об издательствах.\n",
    "\n",
    "**Таблица `ratings`**\n",
    "\n",
    "Содержит данные о пользовательских оценках книг.\n",
    "\n",
    "**Таблица `reviews`**\n",
    "\n",
    "Содержит данные о пользовательских обзорах на книги."
   ]
  },
  {
   "cell_type": "markdown",
   "metadata": {},
   "source": [
    "## Подключение к базе данных"
   ]
  },
  {
   "cell_type": "code",
   "execution_count": 1,
   "metadata": {},
   "outputs": [],
   "source": [
    "# импортируем библиотеки\n",
    "import pandas as pd\n",
    "from sqlalchemy import text, create_engine"
   ]
  },
  {
   "cell_type": "code",
   "execution_count": 2,
   "metadata": {},
   "outputs": [],
   "source": [
    "# устанавливаем параметры\n",
    "db_config = {'user': '', # имя пользователя\n",
    "'pwd': '', # пароль\n",
    "'host': '',\n",
    "'port': , # порт подключения\n",
    "'db': ''} # название базы данных\n",
    "connection_string = 'postgresql://{user}:{pwd}@{host}:{port}/{db}'.format(**db_config)\n",
    "\n",
    "# сохраняем коннектор\n",
    "engine = create_engine(connection_string, connect_args={'sslmode':'require'})"
   ]
  },
  {
   "cell_type": "markdown",
   "metadata": {},
   "source": [
    "## Запрос №1"
   ]
  },
  {
   "cell_type": "markdown",
   "metadata": {},
   "source": [
    "- Посчитайте, сколько книг вышло после 1 января 2000 года;"
   ]
  },
  {
   "cell_type": "code",
   "execution_count": 3,
   "metadata": {},
   "outputs": [
    {
     "data": {
      "text/html": [
       "<div>\n",
       "<style scoped>\n",
       "    .dataframe tbody tr th:only-of-type {\n",
       "        vertical-align: middle;\n",
       "    }\n",
       "\n",
       "    .dataframe tbody tr th {\n",
       "        vertical-align: top;\n",
       "    }\n",
       "\n",
       "    .dataframe thead th {\n",
       "        text-align: right;\n",
       "    }\n",
       "</style>\n",
       "<table border=\"1\" class=\"dataframe\">\n",
       "  <thead>\n",
       "    <tr style=\"text-align: right;\">\n",
       "      <th></th>\n",
       "      <th>count</th>\n",
       "    </tr>\n",
       "  </thead>\n",
       "  <tbody>\n",
       "    <tr>\n",
       "      <th>0</th>\n",
       "      <td>819</td>\n",
       "    </tr>\n",
       "  </tbody>\n",
       "</table>\n",
       "</div>"
      ],
      "text/plain": [
       "   count\n",
       "0    819"
      ]
     },
     "execution_count": 3,
     "metadata": {},
     "output_type": "execute_result"
    }
   ],
   "source": [
    "# чтобы выполнить SQL-запрос, используем Pandas\n",
    "query = '''\n",
    "SELECT COUNT(book_id)\n",
    "FROM books\n",
    "WHERE publication_date > '2000-01-01';\n",
    "'''\n",
    "\n",
    "pd.io.sql.read_sql(sql=text(query), con = engine)"
   ]
  },
  {
   "cell_type": "markdown",
   "metadata": {},
   "source": [
    "*Вывод:* После 1 января 2000 года вышло 819 книг."
   ]
  },
  {
   "cell_type": "markdown",
   "metadata": {},
   "source": [
    "## Запрос №2"
   ]
  },
  {
   "cell_type": "markdown",
   "metadata": {},
   "source": [
    "- Для каждой книги посчитайте количество обзоров и среднюю оценку;"
   ]
  },
  {
   "cell_type": "code",
   "execution_count": 4,
   "metadata": {},
   "outputs": [
    {
     "data": {
      "text/html": [
       "<div>\n",
       "<style scoped>\n",
       "    .dataframe tbody tr th:only-of-type {\n",
       "        vertical-align: middle;\n",
       "    }\n",
       "\n",
       "    .dataframe tbody tr th {\n",
       "        vertical-align: top;\n",
       "    }\n",
       "\n",
       "    .dataframe thead th {\n",
       "        text-align: right;\n",
       "    }\n",
       "</style>\n",
       "<table border=\"1\" class=\"dataframe\">\n",
       "  <thead>\n",
       "    <tr style=\"text-align: right;\">\n",
       "      <th></th>\n",
       "      <th>book_name</th>\n",
       "      <th>id</th>\n",
       "      <th>reviews</th>\n",
       "      <th>avg_rating</th>\n",
       "    </tr>\n",
       "  </thead>\n",
       "  <tbody>\n",
       "    <tr>\n",
       "      <th>0</th>\n",
       "      <td>'Salem's Lot</td>\n",
       "      <td>1</td>\n",
       "      <td>2.0</td>\n",
       "      <td>3.666667</td>\n",
       "    </tr>\n",
       "    <tr>\n",
       "      <th>1</th>\n",
       "      <td>1 000 Places to See Before You Die</td>\n",
       "      <td>2</td>\n",
       "      <td>1.0</td>\n",
       "      <td>2.500000</td>\n",
       "    </tr>\n",
       "    <tr>\n",
       "      <th>2</th>\n",
       "      <td>13 Little Blue Envelopes (Little Blue Envelope...</td>\n",
       "      <td>3</td>\n",
       "      <td>3.0</td>\n",
       "      <td>4.666667</td>\n",
       "    </tr>\n",
       "    <tr>\n",
       "      <th>3</th>\n",
       "      <td>1491: New Revelations of the Americas Before C...</td>\n",
       "      <td>4</td>\n",
       "      <td>2.0</td>\n",
       "      <td>4.500000</td>\n",
       "    </tr>\n",
       "    <tr>\n",
       "      <th>4</th>\n",
       "      <td>1776</td>\n",
       "      <td>5</td>\n",
       "      <td>4.0</td>\n",
       "      <td>4.000000</td>\n",
       "    </tr>\n",
       "    <tr>\n",
       "      <th>...</th>\n",
       "      <td>...</td>\n",
       "      <td>...</td>\n",
       "      <td>...</td>\n",
       "      <td>...</td>\n",
       "    </tr>\n",
       "    <tr>\n",
       "      <th>995</th>\n",
       "      <td>Wyrd Sisters (Discworld  #6; Witches #2)</td>\n",
       "      <td>996</td>\n",
       "      <td>3.0</td>\n",
       "      <td>3.666667</td>\n",
       "    </tr>\n",
       "    <tr>\n",
       "      <th>996</th>\n",
       "      <td>Xenocide (Ender's Saga  #3)</td>\n",
       "      <td>997</td>\n",
       "      <td>3.0</td>\n",
       "      <td>3.400000</td>\n",
       "    </tr>\n",
       "    <tr>\n",
       "      <th>997</th>\n",
       "      <td>Year of Wonders</td>\n",
       "      <td>998</td>\n",
       "      <td>4.0</td>\n",
       "      <td>3.200000</td>\n",
       "    </tr>\n",
       "    <tr>\n",
       "      <th>998</th>\n",
       "      <td>You Suck (A Love Story  #2)</td>\n",
       "      <td>999</td>\n",
       "      <td>2.0</td>\n",
       "      <td>4.500000</td>\n",
       "    </tr>\n",
       "    <tr>\n",
       "      <th>999</th>\n",
       "      <td>Zen and the Art of Motorcycle Maintenance: An ...</td>\n",
       "      <td>1000</td>\n",
       "      <td>4.0</td>\n",
       "      <td>3.833333</td>\n",
       "    </tr>\n",
       "  </tbody>\n",
       "</table>\n",
       "<p>1000 rows × 4 columns</p>\n",
       "</div>"
      ],
      "text/plain": [
       "                                             book_name    id  reviews  \\\n",
       "0                                         'Salem's Lot     1      2.0   \n",
       "1                   1 000 Places to See Before You Die     2      1.0   \n",
       "2    13 Little Blue Envelopes (Little Blue Envelope...     3      3.0   \n",
       "3    1491: New Revelations of the Americas Before C...     4      2.0   \n",
       "4                                                 1776     5      4.0   \n",
       "..                                                 ...   ...      ...   \n",
       "995           Wyrd Sisters (Discworld  #6; Witches #2)   996      3.0   \n",
       "996                        Xenocide (Ender's Saga  #3)   997      3.0   \n",
       "997                                    Year of Wonders   998      4.0   \n",
       "998                        You Suck (A Love Story  #2)   999      2.0   \n",
       "999  Zen and the Art of Motorcycle Maintenance: An ...  1000      4.0   \n",
       "\n",
       "     avg_rating  \n",
       "0      3.666667  \n",
       "1      2.500000  \n",
       "2      4.666667  \n",
       "3      4.500000  \n",
       "4      4.000000  \n",
       "..          ...  \n",
       "995    3.666667  \n",
       "996    3.400000  \n",
       "997    3.200000  \n",
       "998    4.500000  \n",
       "999    3.833333  \n",
       "\n",
       "[1000 rows x 4 columns]"
      ]
     },
     "execution_count": 4,
     "metadata": {},
     "output_type": "execute_result"
    }
   ],
   "source": [
    "query = ''' \n",
    "SELECT b.title AS book_name,\n",
    "       b.book_id AS id,\n",
    "       sub_rev.n_rev AS reviews,\n",
    "       sub_rat.avg_rat AS avg_rating\n",
    "FROM books b LEFT JOIN (SELECT book_id,\n",
    "                               AVG(rating) AS avg_rat\n",
    "                        FROM ratings\n",
    "                        GROUP BY book_id) AS sub_rat ON sub_rat.book_id = b.book_id\n",
    "             LEFT JOIN (SELECT book_id,\n",
    "                               COUNT(review_id) AS n_rev\n",
    "                        FROM reviews\n",
    "                        GROUP BY book_id) AS sub_rev ON sub_rev.book_id = b.book_id\n",
    "ORDER BY 2;\n",
    "''' \n",
    "\n",
    "pd.io.sql.read_sql(sql=text(query), con = engine)"
   ]
  },
  {
   "cell_type": "markdown",
   "metadata": {},
   "source": [
    "*Вывод:* для решения задачи была сформирована таблица, содержащая информацию об идентификаторах всех книг, их названиях, количестве обзоров и среднем значении рейтинга. Данные отсортированы по идентификаторам книг."
   ]
  },
  {
   "cell_type": "markdown",
   "metadata": {},
   "source": [
    "## Запрос №3"
   ]
  },
  {
   "cell_type": "markdown",
   "metadata": {},
   "source": [
    "- Определите издательство, которое выпустило наибольшее число книг толще 50 страниц — так вы исключите из анализа брошюры."
   ]
  },
  {
   "cell_type": "code",
   "execution_count": 5,
   "metadata": {},
   "outputs": [
    {
     "data": {
      "text/html": [
       "<div>\n",
       "<style scoped>\n",
       "    .dataframe tbody tr th:only-of-type {\n",
       "        vertical-align: middle;\n",
       "    }\n",
       "\n",
       "    .dataframe tbody tr th {\n",
       "        vertical-align: top;\n",
       "    }\n",
       "\n",
       "    .dataframe thead th {\n",
       "        text-align: right;\n",
       "    }\n",
       "</style>\n",
       "<table border=\"1\" class=\"dataframe\">\n",
       "  <thead>\n",
       "    <tr style=\"text-align: right;\">\n",
       "      <th></th>\n",
       "      <th>publisher_id</th>\n",
       "      <th>publisher</th>\n",
       "      <th>books_count</th>\n",
       "    </tr>\n",
       "  </thead>\n",
       "  <tbody>\n",
       "    <tr>\n",
       "      <th>0</th>\n",
       "      <td>212</td>\n",
       "      <td>Penguin Books</td>\n",
       "      <td>42</td>\n",
       "    </tr>\n",
       "  </tbody>\n",
       "</table>\n",
       "</div>"
      ],
      "text/plain": [
       "   publisher_id      publisher  books_count\n",
       "0           212  Penguin Books           42"
      ]
     },
     "execution_count": 5,
     "metadata": {},
     "output_type": "execute_result"
    }
   ],
   "source": [
    "query = '''\n",
    "SELECT b.publisher_id,\n",
    "       publisher,\n",
    "       COUNT(book_id) books_count\n",
    "FROM books b\n",
    "LEFT OUTER JOIN publishers p ON b.publisher_id = p.publisher_id\n",
    "WHERE num_pages > 50\n",
    "GROUP BY 1, 2\n",
    "ORDER BY 3 DESC\n",
    "LIMIT 1;\n",
    "'''\n",
    "\n",
    "pd.io.sql.read_sql(sql=text(query), con = engine)"
   ]
  },
  {
   "cell_type": "markdown",
   "metadata": {},
   "source": [
    "*Вывод:* издательство, которое выпустило наибольшее число книг толще 50 страниц — Penguin Books (42 книги)."
   ]
  },
  {
   "cell_type": "markdown",
   "metadata": {},
   "source": [
    "## Запрос №4"
   ]
  },
  {
   "cell_type": "markdown",
   "metadata": {},
   "source": [
    "- Определите автора с самой высокой средней оценкой книг — учитывайте только книги с 50 и более оценками."
   ]
  },
  {
   "cell_type": "code",
   "execution_count": 6,
   "metadata": {},
   "outputs": [
    {
     "data": {
      "text/html": [
       "<div>\n",
       "<style scoped>\n",
       "    .dataframe tbody tr th:only-of-type {\n",
       "        vertical-align: middle;\n",
       "    }\n",
       "\n",
       "    .dataframe tbody tr th {\n",
       "        vertical-align: top;\n",
       "    }\n",
       "\n",
       "    .dataframe thead th {\n",
       "        text-align: right;\n",
       "    }\n",
       "</style>\n",
       "<table border=\"1\" class=\"dataframe\">\n",
       "  <thead>\n",
       "    <tr style=\"text-align: right;\">\n",
       "      <th></th>\n",
       "      <th>author</th>\n",
       "      <th>true_avg_rating</th>\n",
       "    </tr>\n",
       "  </thead>\n",
       "  <tbody>\n",
       "    <tr>\n",
       "      <th>0</th>\n",
       "      <td>J.K. Rowling/Mary GrandPré</td>\n",
       "      <td>4.283844</td>\n",
       "    </tr>\n",
       "  </tbody>\n",
       "</table>\n",
       "</div>"
      ],
      "text/plain": [
       "                       author  true_avg_rating\n",
       "0  J.K. Rowling/Mary GrandPré         4.283844"
      ]
     },
     "execution_count": 6,
     "metadata": {},
     "output_type": "execute_result"
    }
   ],
   "source": [
    "query = '''\n",
    "WITH pt AS (SELECT a.author_id,\n",
    "                   author,\n",
    "                   b.book_id,\n",
    "                   title,\n",
    "                   AVG(rating) avg_rating\n",
    "            FROM books b\n",
    "            LEFT OUTER JOIN ratings r ON b.book_id = r.book_id\n",
    "            LEFT OUTER JOIN authors a ON b.author_id = a.author_id\n",
    "            GROUP BY 1,2,3,4\n",
    "            HAVING COUNT(rating_id) >= 50)\n",
    "            \n",
    "SELECT author,\n",
    "       AVG(avg_rating) true_avg_rating\n",
    "FROM pt\n",
    "GROUP BY 1\n",
    "ORDER BY 2 DESC\n",
    "LIMIT 1;\n",
    "'''\n",
    "\n",
    "pd.io.sql.read_sql(sql=text(query), con = engine)"
   ]
  },
  {
   "cell_type": "markdown",
   "metadata": {},
   "source": [
    "*Вывод:* автор с самой высокой средней оценкой книг - J.K. Rowling/Mary GrandPré (4.28)."
   ]
  },
  {
   "cell_type": "markdown",
   "metadata": {},
   "source": [
    "## Запрос №5"
   ]
  },
  {
   "cell_type": "markdown",
   "metadata": {},
   "source": [
    "- Посчитайте среднее количество обзоров от пользователей, которые поставили больше 50 оценок."
   ]
  },
  {
   "cell_type": "code",
   "execution_count": 7,
   "metadata": {},
   "outputs": [
    {
     "data": {
      "text/html": [
       "<div>\n",
       "<style scoped>\n",
       "    .dataframe tbody tr th:only-of-type {\n",
       "        vertical-align: middle;\n",
       "    }\n",
       "\n",
       "    .dataframe tbody tr th {\n",
       "        vertical-align: top;\n",
       "    }\n",
       "\n",
       "    .dataframe thead th {\n",
       "        text-align: right;\n",
       "    }\n",
       "</style>\n",
       "<table border=\"1\" class=\"dataframe\">\n",
       "  <thead>\n",
       "    <tr style=\"text-align: right;\">\n",
       "      <th></th>\n",
       "      <th>floor</th>\n",
       "    </tr>\n",
       "  </thead>\n",
       "  <tbody>\n",
       "    <tr>\n",
       "      <th>0</th>\n",
       "      <td>24.0</td>\n",
       "    </tr>\n",
       "  </tbody>\n",
       "</table>\n",
       "</div>"
      ],
      "text/plain": [
       "   floor\n",
       "0   24.0"
      ]
     },
     "execution_count": 7,
     "metadata": {},
     "output_type": "execute_result"
    }
   ],
   "source": [
    "query = '''\n",
    "\n",
    "WITH names AS (SELECT username\n",
    "                FROM ratings\n",
    "                GROUP BY 1\n",
    "                HAVING COUNT(rating_id) > 50),\n",
    "                \n",
    "     counts AS (SELECT names.username,\n",
    "                       COUNT(review_id) rv_count\n",
    "                FROM names\n",
    "                LEFT OUTER JOIN reviews rv ON names.username = rv.username\n",
    "                GROUP BY 1)\n",
    "                \n",
    "SELECT FLOOR(AVG(rv_count)) \n",
    "FROM counts\n",
    "''' \n",
    "\n",
    "pd.io.sql.read_sql(sql=text(query), con = engine)"
   ]
  },
  {
   "cell_type": "markdown",
   "metadata": {},
   "source": [
    "*Вывод:* среднее количество обзоров от пользователей, которые поставили больше 50 оценок составляет 24."
   ]
  },
  {
   "cell_type": "markdown",
   "metadata": {},
   "source": [
    "## Итоговый вывод"
   ]
  },
  {
   "cell_type": "markdown",
   "metadata": {},
   "source": [
    "В рамках проекта была проанализирована база данных, содержащая информацию о книгах, издательствах, авторах, а также пользовательских обзорах книг. Было проделано и установлено следующее:\n",
    "\n",
    "- Запрос 1: После 1 января 2000 года вышло 819 книг.\n",
    "- Запрос 2: для решения задачи была сформирована таблица, содержащая информацию об идентификаторах всех книг, их названиях, количестве обзоров и среднем значении рейтинга. Данные отсортированы по идентификаторам книг.\n",
    "- Запрос 3: издательство, которое выпустило наибольшее число книг толще 50 страниц — Penguin Books (42 книги).\n",
    "- Запрос 4: автор с самой высокой средней оценкой книг - J.K. Rowling/Mary GrandPré (4.28).\n",
    "- Запрос 5: среднее количество обзоров от пользователей, которые поставили больше 50 оценок составляет 24.\n",
    "\n",
    "Полученные данные помогут сформулировать ценностное предложение для нового продукта. Таким образом, цель проекта была достигнута."
   ]
  }
 ],
 "metadata": {
  "ExecuteTimeLog": [
   {
    "duration": 9,
    "start_time": "2023-04-24T16:15:36.568Z"
   },
   {
    "duration": 500,
    "start_time": "2023-04-24T16:19:04.462Z"
   },
   {
    "duration": 14935,
    "start_time": "2023-04-24T16:19:04.963Z"
   },
   {
    "duration": 284,
    "start_time": "2023-04-24T16:19:19.899Z"
   },
   {
    "duration": 75,
    "start_time": "2023-04-24T16:19:20.186Z"
   },
   {
    "duration": 81,
    "start_time": "2023-04-24T16:19:20.263Z"
   },
   {
    "duration": 77,
    "start_time": "2023-04-24T16:19:20.346Z"
   },
   {
    "duration": 76,
    "start_time": "2023-04-24T16:19:20.424Z"
   },
   {
    "duration": 77,
    "start_time": "2023-04-24T17:16:49.383Z"
   },
   {
    "duration": 348,
    "start_time": "2023-04-24T17:18:16.222Z"
   },
   {
    "duration": 82,
    "start_time": "2023-04-24T17:18:24.868Z"
   },
   {
    "duration": 208,
    "start_time": "2023-04-24T17:18:53.896Z"
   },
   {
    "duration": 238,
    "start_time": "2023-04-24T17:19:24.067Z"
   },
   {
    "duration": 210,
    "start_time": "2023-04-24T17:19:33.860Z"
   },
   {
    "duration": 172,
    "start_time": "2023-04-24T17:19:47.920Z"
   },
   {
    "duration": 90,
    "start_time": "2023-04-24T17:20:28.026Z"
   },
   {
    "duration": 83,
    "start_time": "2023-04-24T17:20:33.439Z"
   },
   {
    "duration": 91,
    "start_time": "2023-04-24T17:22:21.260Z"
   },
   {
    "duration": 76,
    "start_time": "2023-04-24T17:25:06.297Z"
   },
   {
    "duration": 82,
    "start_time": "2023-04-24T17:25:26.987Z"
   },
   {
    "duration": 91,
    "start_time": "2023-04-24T17:25:39.510Z"
   },
   {
    "duration": 195,
    "start_time": "2023-04-24T17:31:44.194Z"
   },
   {
    "duration": 385,
    "start_time": "2023-04-24T17:33:43.266Z"
   },
   {
    "duration": 98,
    "start_time": "2023-04-24T17:33:53.320Z"
   },
   {
    "duration": 164,
    "start_time": "2023-04-24T17:37:54.759Z"
   },
   {
    "duration": 95,
    "start_time": "2023-04-24T17:38:06.491Z"
   },
   {
    "duration": 92,
    "start_time": "2023-04-24T17:38:47.668Z"
   },
   {
    "duration": 103,
    "start_time": "2023-04-24T17:40:44.935Z"
   },
   {
    "duration": 91,
    "start_time": "2023-04-24T17:48:14.153Z"
   },
   {
    "duration": 505,
    "start_time": "2023-04-24T17:48:24.786Z"
   },
   {
    "duration": 8972,
    "start_time": "2023-04-24T17:48:25.292Z"
   },
   {
    "duration": 275,
    "start_time": "2023-04-24T17:48:34.265Z"
   },
   {
    "duration": 88,
    "start_time": "2023-04-24T17:48:34.542Z"
   },
   {
    "duration": 228,
    "start_time": "2023-04-24T17:48:34.632Z"
   },
   {
    "duration": 0,
    "start_time": "2023-04-24T17:48:34.862Z"
   },
   {
    "duration": 0,
    "start_time": "2023-04-24T17:48:34.863Z"
   },
   {
    "duration": 86,
    "start_time": "2023-04-24T17:49:34.640Z"
   },
   {
    "duration": 86,
    "start_time": "2023-04-24T17:50:32.004Z"
   },
   {
    "duration": 197,
    "start_time": "2023-04-24T17:51:26.223Z"
   },
   {
    "duration": 163,
    "start_time": "2023-04-24T17:53:24.389Z"
   },
   {
    "duration": 162,
    "start_time": "2023-04-24T17:54:07.050Z"
   },
   {
    "duration": 177,
    "start_time": "2023-04-24T17:54:24.369Z"
   },
   {
    "duration": 170,
    "start_time": "2023-04-24T17:54:54.487Z"
   },
   {
    "duration": 100,
    "start_time": "2023-04-24T17:55:19.070Z"
   },
   {
    "duration": 87,
    "start_time": "2023-04-24T17:55:41.037Z"
   },
   {
    "duration": 163,
    "start_time": "2023-04-24T17:58:40.600Z"
   },
   {
    "duration": 169,
    "start_time": "2023-04-24T17:58:53.987Z"
   },
   {
    "duration": 181,
    "start_time": "2023-04-24T17:59:28.684Z"
   },
   {
    "duration": 165,
    "start_time": "2023-04-24T17:59:43.087Z"
   },
   {
    "duration": 83,
    "start_time": "2023-04-24T17:59:57.209Z"
   },
   {
    "duration": 79,
    "start_time": "2023-04-24T18:00:11.800Z"
   },
   {
    "duration": 79,
    "start_time": "2023-04-24T18:01:14.241Z"
   },
   {
    "duration": 83,
    "start_time": "2023-04-24T18:02:52.416Z"
   },
   {
    "duration": 82,
    "start_time": "2023-04-24T18:10:08.865Z"
   },
   {
    "duration": 176,
    "start_time": "2023-04-24T18:13:07.005Z"
   },
   {
    "duration": 194,
    "start_time": "2023-04-24T18:13:18.249Z"
   },
   {
    "duration": 81,
    "start_time": "2023-04-24T18:13:39.207Z"
   },
   {
    "duration": 90,
    "start_time": "2023-04-24T18:13:51.639Z"
   },
   {
    "duration": 86,
    "start_time": "2023-04-24T18:15:18.071Z"
   },
   {
    "duration": 78,
    "start_time": "2023-04-24T18:22:20.236Z"
   },
   {
    "duration": 684,
    "start_time": "2023-04-24T18:30:02.722Z"
   },
   {
    "duration": 149,
    "start_time": "2023-04-24T18:30:15.338Z"
   },
   {
    "duration": 79,
    "start_time": "2023-04-24T18:30:33.262Z"
   },
   {
    "duration": 81,
    "start_time": "2023-04-24T18:36:25.455Z"
   },
   {
    "duration": 115,
    "start_time": "2023-04-24T18:37:07.899Z"
   },
   {
    "duration": 452,
    "start_time": "2023-04-24T19:23:48.108Z"
   },
   {
    "duration": 8325,
    "start_time": "2023-04-24T19:23:48.563Z"
   },
   {
    "duration": 266,
    "start_time": "2023-04-24T19:23:56.889Z"
   },
   {
    "duration": 84,
    "start_time": "2023-04-24T19:23:57.156Z"
   },
   {
    "duration": 74,
    "start_time": "2023-04-24T19:23:57.241Z"
   },
   {
    "duration": 78,
    "start_time": "2023-04-24T19:23:57.317Z"
   },
   {
    "duration": 78,
    "start_time": "2023-04-24T19:23:57.397Z"
   },
   {
    "duration": 81,
    "start_time": "2023-04-24T19:34:14.844Z"
   },
   {
    "duration": 81,
    "start_time": "2023-04-24T19:34:56.634Z"
   },
   {
    "duration": 80,
    "start_time": "2023-04-24T19:36:51.439Z"
   },
   {
    "duration": 222,
    "start_time": "2023-04-24T19:40:09.508Z"
   },
   {
    "duration": 218,
    "start_time": "2023-04-24T19:40:47.565Z"
   },
   {
    "duration": 78,
    "start_time": "2023-04-24T19:40:59.828Z"
   },
   {
    "duration": 76,
    "start_time": "2023-04-24T19:41:34.978Z"
   },
   {
    "duration": 151,
    "start_time": "2023-04-24T19:47:28.080Z"
   },
   {
    "duration": 155,
    "start_time": "2023-04-24T19:47:43.037Z"
   },
   {
    "duration": 74,
    "start_time": "2023-04-24T19:47:55.746Z"
   },
   {
    "duration": 160,
    "start_time": "2023-04-24T19:52:52.810Z"
   },
   {
    "duration": 159,
    "start_time": "2023-04-24T19:53:23.271Z"
   },
   {
    "duration": 175,
    "start_time": "2023-04-24T19:55:04.607Z"
   },
   {
    "duration": 75,
    "start_time": "2023-04-24T19:55:08.913Z"
   },
   {
    "duration": 188,
    "start_time": "2023-04-24T19:55:36.808Z"
   },
   {
    "duration": 165,
    "start_time": "2023-04-24T19:56:01.178Z"
   },
   {
    "duration": 86,
    "start_time": "2023-04-24T19:56:29.719Z"
   },
   {
    "duration": 76,
    "start_time": "2023-04-24T19:58:17.735Z"
   },
   {
    "duration": 513,
    "start_time": "2023-04-24T20:01:17.767Z"
   },
   {
    "duration": 9711,
    "start_time": "2023-04-24T20:01:18.284Z"
   },
   {
    "duration": 275,
    "start_time": "2023-04-24T20:01:27.997Z"
   },
   {
    "duration": 89,
    "start_time": "2023-04-24T20:01:28.274Z"
   },
   {
    "duration": 79,
    "start_time": "2023-04-24T20:01:28.364Z"
   },
   {
    "duration": 80,
    "start_time": "2023-04-24T20:01:28.445Z"
   },
   {
    "duration": 88,
    "start_time": "2023-04-24T20:01:28.526Z"
   },
   {
    "duration": 473,
    "start_time": "2023-04-24T20:04:57.242Z"
   },
   {
    "duration": 11569,
    "start_time": "2023-04-24T20:04:57.717Z"
   },
   {
    "duration": 269,
    "start_time": "2023-04-24T20:05:09.288Z"
   },
   {
    "duration": 99,
    "start_time": "2023-04-24T20:05:09.559Z"
   },
   {
    "duration": 89,
    "start_time": "2023-04-24T20:05:09.660Z"
   },
   {
    "duration": 88,
    "start_time": "2023-04-24T20:05:09.750Z"
   },
   {
    "duration": 270,
    "start_time": "2023-04-24T20:05:09.839Z"
   },
   {
    "duration": 500,
    "start_time": "2023-04-24T20:06:03.868Z"
   },
   {
    "duration": 9013,
    "start_time": "2023-04-24T20:06:04.370Z"
   },
   {
    "duration": 279,
    "start_time": "2023-04-24T20:06:13.384Z"
   },
   {
    "duration": 88,
    "start_time": "2023-04-24T20:06:13.664Z"
   },
   {
    "duration": 78,
    "start_time": "2023-04-24T20:06:13.754Z"
   },
   {
    "duration": 81,
    "start_time": "2023-04-24T20:06:13.834Z"
   },
   {
    "duration": 81,
    "start_time": "2023-04-24T20:06:13.917Z"
   },
   {
    "duration": 503,
    "start_time": "2023-04-25T20:17:02.847Z"
   },
   {
    "duration": 8749,
    "start_time": "2023-04-25T20:17:03.352Z"
   },
   {
    "duration": 257,
    "start_time": "2023-04-25T20:17:12.103Z"
   },
   {
    "duration": 83,
    "start_time": "2023-04-25T20:17:12.361Z"
   },
   {
    "duration": 75,
    "start_time": "2023-04-25T20:17:12.445Z"
   },
   {
    "duration": 427,
    "start_time": "2023-04-25T20:17:12.522Z"
   },
   {
    "duration": 0,
    "start_time": "2023-04-25T20:17:12.951Z"
   },
   {
    "duration": 78,
    "start_time": "2023-04-25T20:18:24.874Z"
   },
   {
    "duration": 454,
    "start_time": "2023-04-25T20:39:11.198Z"
   },
   {
    "duration": 10353,
    "start_time": "2023-04-25T20:39:11.653Z"
   },
   {
    "duration": 270,
    "start_time": "2023-04-25T20:39:22.008Z"
   },
   {
    "duration": 113,
    "start_time": "2023-04-25T20:39:22.281Z"
   },
   {
    "duration": 77,
    "start_time": "2023-04-25T20:39:22.395Z"
   },
   {
    "duration": 80,
    "start_time": "2023-04-25T20:39:22.474Z"
   },
   {
    "duration": 77,
    "start_time": "2023-04-25T20:39:22.555Z"
   },
   {
    "duration": 433,
    "start_time": "2023-04-25T20:42:59.827Z"
   },
   {
    "duration": 8394,
    "start_time": "2023-04-25T20:43:00.261Z"
   },
   {
    "duration": 251,
    "start_time": "2023-04-25T20:43:08.656Z"
   },
   {
    "duration": 103,
    "start_time": "2023-04-25T20:43:08.909Z"
   },
   {
    "duration": 75,
    "start_time": "2023-04-25T20:43:09.014Z"
   },
   {
    "duration": 82,
    "start_time": "2023-04-25T20:43:09.090Z"
   },
   {
    "duration": 75,
    "start_time": "2023-04-25T20:43:09.173Z"
   },
   {
    "duration": 75,
    "start_time": "2023-04-25T20:43:49.417Z"
   },
   {
    "duration": 105,
    "start_time": "2023-04-25T20:46:57.625Z"
   },
   {
    "duration": 451,
    "start_time": "2023-04-25T20:55:35.091Z"
   },
   {
    "duration": 8091,
    "start_time": "2023-04-25T20:55:35.543Z"
   },
   {
    "duration": 259,
    "start_time": "2023-04-25T20:55:43.636Z"
   },
   {
    "duration": 103,
    "start_time": "2023-04-25T20:55:43.897Z"
   },
   {
    "duration": 74,
    "start_time": "2023-04-25T20:55:44.002Z"
   },
   {
    "duration": 78,
    "start_time": "2023-04-25T20:55:44.078Z"
   },
   {
    "duration": 74,
    "start_time": "2023-04-25T20:55:44.157Z"
   },
   {
    "duration": 531,
    "start_time": "2023-04-25T20:57:54.744Z"
   },
   {
    "duration": 7659,
    "start_time": "2023-04-25T20:57:55.277Z"
   },
   {
    "duration": 247,
    "start_time": "2023-04-25T20:58:02.937Z"
   },
   {
    "duration": 104,
    "start_time": "2023-04-25T20:58:03.186Z"
   },
   {
    "duration": 73,
    "start_time": "2023-04-25T20:58:03.291Z"
   },
   {
    "duration": 77,
    "start_time": "2023-04-25T20:58:03.366Z"
   },
   {
    "duration": 75,
    "start_time": "2023-04-25T20:58:03.445Z"
   },
   {
    "duration": 504,
    "start_time": "2023-05-22T16:31:35.687Z"
   },
   {
    "duration": 4695,
    "start_time": "2023-05-22T16:31:36.193Z"
   },
   {
    "duration": 98,
    "start_time": "2023-05-22T16:31:40.889Z"
   },
   {
    "duration": 25,
    "start_time": "2023-05-22T16:31:40.989Z"
   },
   {
    "duration": 13,
    "start_time": "2023-05-22T16:31:41.015Z"
   },
   {
    "duration": 16,
    "start_time": "2023-05-22T16:31:41.030Z"
   },
   {
    "duration": 14,
    "start_time": "2023-05-22T16:31:41.048Z"
   }
  ],
  "kernelspec": {
   "display_name": "Python 3 (ipykernel)",
   "language": "python",
   "name": "python3"
  },
  "language_info": {
   "codemirror_mode": {
    "name": "ipython",
    "version": 3
   },
   "file_extension": ".py",
   "mimetype": "text/x-python",
   "name": "python",
   "nbconvert_exporter": "python",
   "pygments_lexer": "ipython3",
   "version": "3.9.5"
  },
  "toc": {
   "base_numbering": 1,
   "nav_menu": {},
   "number_sections": true,
   "sideBar": true,
   "skip_h1_title": true,
   "title_cell": "Содержание",
   "title_sidebar": "Содержание",
   "toc_cell": true,
   "toc_position": {
    "height": "calc(100% - 180px)",
    "left": "10px",
    "top": "150px",
    "width": "225.28px"
   },
   "toc_section_display": true,
   "toc_window_display": true
  }
 },
 "nbformat": 4,
 "nbformat_minor": 2
}
