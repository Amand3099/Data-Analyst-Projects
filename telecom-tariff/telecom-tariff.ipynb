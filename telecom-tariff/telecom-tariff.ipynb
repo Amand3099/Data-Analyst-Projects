{
 "cells": [
  {
   "cell_type": "markdown",
   "metadata": {},
   "source": [
    "# Определение перспективного тарифа для телеком-компании"
   ]
  },
  {
   "cell_type": "markdown",
   "metadata": {
    "toc": true
   },
   "source": [
    "<h1>Содержание<span class=\"tocSkip\"></span></h1>\n",
    "<div class=\"toc\"><ul class=\"toc-item\"><li><span><a href=\"#Описание-проекта\" data-toc-modified-id=\"Описание-проекта-1\"><span class=\"toc-item-num\">1&nbsp;&nbsp;</span>Описание проекта</a></span></li><li><span><a href=\"#Выгрузка-данных.-Подготовка-к-анализу.\" data-toc-modified-id=\"Выгрузка-данных.-Подготовка-к-анализу.-2\"><span class=\"toc-item-num\">2&nbsp;&nbsp;</span>Выгрузка данных. Подготовка к анализу.</a></span></li><li><span><a href=\"#Анализ-данных\" data-toc-modified-id=\"Анализ-данных-3\"><span class=\"toc-item-num\">3&nbsp;&nbsp;</span>Анализ данных</a></span></li><li><span><a href=\"#Проверка-гипотез\" data-toc-modified-id=\"Проверка-гипотез-4\"><span class=\"toc-item-num\">4&nbsp;&nbsp;</span>Проверка гипотез</a></span></li><li><span><a href=\"#Общий-вывод\" data-toc-modified-id=\"Общий-вывод-5\"><span class=\"toc-item-num\">5&nbsp;&nbsp;</span>Общий вывод</a></span></li></ul></div>"
   ]
  },
  {
   "cell_type": "markdown",
   "metadata": {},
   "source": [
    "### Описание проекта"
   ]
  },
  {
   "cell_type": "markdown",
   "metadata": {},
   "source": [
    "**Заказчик исследования** — компания «Мегалайн», федеральный оператор сотовой связи.\n",
    "\n",
    "**Задача** — проанализировать поведение клиентов и сделать вывод — какой из двух представленных тарифов лучше.\n",
    "\n",
    "**Исходные данные** — данные 500 пользователей «Мегалайна» за 2018 год.\n",
    "\n",
    "Для каждого пользователя требуется посчитать:\n",
    "\n",
    "- Количество сделанных звонков и израсходованных минут разговора по месяцам;\n",
    "\n",
    "- Количество отправленных сообщений по месяцам;\n",
    "\n",
    "- Объем израсходованного интернет-трафика по месяцам;\n",
    "\n",
    "- Помесячную выручку с каждого пользователя.\n",
    "\n",
    "Необходимо проверить две гипотезы:\n",
    "\n",
    "- Средняя выручка пользователей тарифов «Ультра» и «Смарт» различаются; \n",
    "\n",
    "- Средняя выручка пользователей из Москвы отличается от выручки пользователей из других регионов. "
   ]
  },
  {
   "cell_type": "markdown",
   "metadata": {},
   "source": [
    "### Выгрузка данных. Подготовка к анализу."
   ]
  },
  {
   "cell_type": "code",
   "execution_count": 1,
   "metadata": {},
   "outputs": [],
   "source": [
    "import pandas as pd   # импорт библиотек\n",
    "import numpy as np\n",
    "import seaborn as sns\n",
    "import scipy.stats as st\n",
    "from datetime import datetime, timedelta\n",
    "from matplotlib import pyplot as plt\n",
    "import warnings   # отключение варнингов\n",
    "warnings.filterwarnings(\"ignore\")"
   ]
  },
  {
   "cell_type": "code",
   "execution_count": 2,
   "metadata": {
    "scrolled": false
   },
   "outputs": [
    {
     "data": {
      "text/html": [
       "<div>\n",
       "<style scoped>\n",
       "    .dataframe tbody tr th:only-of-type {\n",
       "        vertical-align: middle;\n",
       "    }\n",
       "\n",
       "    .dataframe tbody tr th {\n",
       "        vertical-align: top;\n",
       "    }\n",
       "\n",
       "    .dataframe thead th {\n",
       "        text-align: right;\n",
       "    }\n",
       "</style>\n",
       "<table border=\"1\" class=\"dataframe\">\n",
       "  <thead>\n",
       "    <tr style=\"text-align: right;\">\n",
       "      <th></th>\n",
       "      <th>id</th>\n",
       "      <th>call_date</th>\n",
       "      <th>duration</th>\n",
       "      <th>user_id</th>\n",
       "    </tr>\n",
       "  </thead>\n",
       "  <tbody>\n",
       "    <tr>\n",
       "      <th>0</th>\n",
       "      <td>1000_0</td>\n",
       "      <td>2018-07-25</td>\n",
       "      <td>0.00</td>\n",
       "      <td>1000</td>\n",
       "    </tr>\n",
       "    <tr>\n",
       "      <th>1</th>\n",
       "      <td>1000_1</td>\n",
       "      <td>2018-08-17</td>\n",
       "      <td>0.00</td>\n",
       "      <td>1000</td>\n",
       "    </tr>\n",
       "    <tr>\n",
       "      <th>2</th>\n",
       "      <td>1000_2</td>\n",
       "      <td>2018-06-11</td>\n",
       "      <td>2.85</td>\n",
       "      <td>1000</td>\n",
       "    </tr>\n",
       "    <tr>\n",
       "      <th>3</th>\n",
       "      <td>1000_3</td>\n",
       "      <td>2018-09-21</td>\n",
       "      <td>13.80</td>\n",
       "      <td>1000</td>\n",
       "    </tr>\n",
       "    <tr>\n",
       "      <th>4</th>\n",
       "      <td>1000_4</td>\n",
       "      <td>2018-12-15</td>\n",
       "      <td>5.18</td>\n",
       "      <td>1000</td>\n",
       "    </tr>\n",
       "  </tbody>\n",
       "</table>\n",
       "</div>"
      ],
      "text/plain": [
       "       id   call_date  duration  user_id\n",
       "0  1000_0  2018-07-25      0.00     1000\n",
       "1  1000_1  2018-08-17      0.00     1000\n",
       "2  1000_2  2018-06-11      2.85     1000\n",
       "3  1000_3  2018-09-21     13.80     1000\n",
       "4  1000_4  2018-12-15      5.18     1000"
      ]
     },
     "metadata": {},
     "output_type": "display_data"
    },
    {
     "data": {
      "text/html": [
       "<div>\n",
       "<style scoped>\n",
       "    .dataframe tbody tr th:only-of-type {\n",
       "        vertical-align: middle;\n",
       "    }\n",
       "\n",
       "    .dataframe tbody tr th {\n",
       "        vertical-align: top;\n",
       "    }\n",
       "\n",
       "    .dataframe thead th {\n",
       "        text-align: right;\n",
       "    }\n",
       "</style>\n",
       "<table border=\"1\" class=\"dataframe\">\n",
       "  <thead>\n",
       "    <tr style=\"text-align: right;\">\n",
       "      <th></th>\n",
       "      <th>Unnamed: 0</th>\n",
       "      <th>id</th>\n",
       "      <th>mb_used</th>\n",
       "      <th>session_date</th>\n",
       "      <th>user_id</th>\n",
       "    </tr>\n",
       "  </thead>\n",
       "  <tbody>\n",
       "    <tr>\n",
       "      <th>0</th>\n",
       "      <td>0</td>\n",
       "      <td>1000_0</td>\n",
       "      <td>112.95</td>\n",
       "      <td>2018-11-25</td>\n",
       "      <td>1000</td>\n",
       "    </tr>\n",
       "    <tr>\n",
       "      <th>1</th>\n",
       "      <td>1</td>\n",
       "      <td>1000_1</td>\n",
       "      <td>1052.81</td>\n",
       "      <td>2018-09-07</td>\n",
       "      <td>1000</td>\n",
       "    </tr>\n",
       "    <tr>\n",
       "      <th>2</th>\n",
       "      <td>2</td>\n",
       "      <td>1000_2</td>\n",
       "      <td>1197.26</td>\n",
       "      <td>2018-06-25</td>\n",
       "      <td>1000</td>\n",
       "    </tr>\n",
       "    <tr>\n",
       "      <th>3</th>\n",
       "      <td>3</td>\n",
       "      <td>1000_3</td>\n",
       "      <td>550.27</td>\n",
       "      <td>2018-08-22</td>\n",
       "      <td>1000</td>\n",
       "    </tr>\n",
       "    <tr>\n",
       "      <th>4</th>\n",
       "      <td>4</td>\n",
       "      <td>1000_4</td>\n",
       "      <td>302.56</td>\n",
       "      <td>2018-09-24</td>\n",
       "      <td>1000</td>\n",
       "    </tr>\n",
       "  </tbody>\n",
       "</table>\n",
       "</div>"
      ],
      "text/plain": [
       "   Unnamed: 0      id  mb_used session_date  user_id\n",
       "0           0  1000_0   112.95   2018-11-25     1000\n",
       "1           1  1000_1  1052.81   2018-09-07     1000\n",
       "2           2  1000_2  1197.26   2018-06-25     1000\n",
       "3           3  1000_3   550.27   2018-08-22     1000\n",
       "4           4  1000_4   302.56   2018-09-24     1000"
      ]
     },
     "metadata": {},
     "output_type": "display_data"
    },
    {
     "data": {
      "text/html": [
       "<div>\n",
       "<style scoped>\n",
       "    .dataframe tbody tr th:only-of-type {\n",
       "        vertical-align: middle;\n",
       "    }\n",
       "\n",
       "    .dataframe tbody tr th {\n",
       "        vertical-align: top;\n",
       "    }\n",
       "\n",
       "    .dataframe thead th {\n",
       "        text-align: right;\n",
       "    }\n",
       "</style>\n",
       "<table border=\"1\" class=\"dataframe\">\n",
       "  <thead>\n",
       "    <tr style=\"text-align: right;\">\n",
       "      <th></th>\n",
       "      <th>id</th>\n",
       "      <th>message_date</th>\n",
       "      <th>user_id</th>\n",
       "    </tr>\n",
       "  </thead>\n",
       "  <tbody>\n",
       "    <tr>\n",
       "      <th>0</th>\n",
       "      <td>1000_0</td>\n",
       "      <td>2018-06-27</td>\n",
       "      <td>1000</td>\n",
       "    </tr>\n",
       "    <tr>\n",
       "      <th>1</th>\n",
       "      <td>1000_1</td>\n",
       "      <td>2018-10-08</td>\n",
       "      <td>1000</td>\n",
       "    </tr>\n",
       "    <tr>\n",
       "      <th>2</th>\n",
       "      <td>1000_2</td>\n",
       "      <td>2018-08-04</td>\n",
       "      <td>1000</td>\n",
       "    </tr>\n",
       "    <tr>\n",
       "      <th>3</th>\n",
       "      <td>1000_3</td>\n",
       "      <td>2018-06-16</td>\n",
       "      <td>1000</td>\n",
       "    </tr>\n",
       "    <tr>\n",
       "      <th>4</th>\n",
       "      <td>1000_4</td>\n",
       "      <td>2018-12-05</td>\n",
       "      <td>1000</td>\n",
       "    </tr>\n",
       "  </tbody>\n",
       "</table>\n",
       "</div>"
      ],
      "text/plain": [
       "       id message_date  user_id\n",
       "0  1000_0   2018-06-27     1000\n",
       "1  1000_1   2018-10-08     1000\n",
       "2  1000_2   2018-08-04     1000\n",
       "3  1000_3   2018-06-16     1000\n",
       "4  1000_4   2018-12-05     1000"
      ]
     },
     "metadata": {},
     "output_type": "display_data"
    },
    {
     "data": {
      "text/html": [
       "<div>\n",
       "<style scoped>\n",
       "    .dataframe tbody tr th:only-of-type {\n",
       "        vertical-align: middle;\n",
       "    }\n",
       "\n",
       "    .dataframe tbody tr th {\n",
       "        vertical-align: top;\n",
       "    }\n",
       "\n",
       "    .dataframe thead th {\n",
       "        text-align: right;\n",
       "    }\n",
       "</style>\n",
       "<table border=\"1\" class=\"dataframe\">\n",
       "  <thead>\n",
       "    <tr style=\"text-align: right;\">\n",
       "      <th></th>\n",
       "      <th>messages_included</th>\n",
       "      <th>mb_per_month_included</th>\n",
       "      <th>minutes_included</th>\n",
       "      <th>rub_monthly_fee</th>\n",
       "      <th>rub_per_gb</th>\n",
       "      <th>rub_per_message</th>\n",
       "      <th>rub_per_minute</th>\n",
       "      <th>tariff_name</th>\n",
       "    </tr>\n",
       "  </thead>\n",
       "  <tbody>\n",
       "    <tr>\n",
       "      <th>0</th>\n",
       "      <td>50</td>\n",
       "      <td>15360</td>\n",
       "      <td>500</td>\n",
       "      <td>550</td>\n",
       "      <td>200</td>\n",
       "      <td>3</td>\n",
       "      <td>3</td>\n",
       "      <td>smart</td>\n",
       "    </tr>\n",
       "    <tr>\n",
       "      <th>1</th>\n",
       "      <td>1000</td>\n",
       "      <td>30720</td>\n",
       "      <td>3000</td>\n",
       "      <td>1950</td>\n",
       "      <td>150</td>\n",
       "      <td>1</td>\n",
       "      <td>1</td>\n",
       "      <td>ultra</td>\n",
       "    </tr>\n",
       "  </tbody>\n",
       "</table>\n",
       "</div>"
      ],
      "text/plain": [
       "   messages_included  mb_per_month_included  minutes_included  \\\n",
       "0                 50                  15360               500   \n",
       "1               1000                  30720              3000   \n",
       "\n",
       "   rub_monthly_fee  rub_per_gb  rub_per_message  rub_per_minute tariff_name  \n",
       "0              550         200                3               3       smart  \n",
       "1             1950         150                1               1       ultra  "
      ]
     },
     "metadata": {},
     "output_type": "display_data"
    },
    {
     "data": {
      "text/html": [
       "<div>\n",
       "<style scoped>\n",
       "    .dataframe tbody tr th:only-of-type {\n",
       "        vertical-align: middle;\n",
       "    }\n",
       "\n",
       "    .dataframe tbody tr th {\n",
       "        vertical-align: top;\n",
       "    }\n",
       "\n",
       "    .dataframe thead th {\n",
       "        text-align: right;\n",
       "    }\n",
       "</style>\n",
       "<table border=\"1\" class=\"dataframe\">\n",
       "  <thead>\n",
       "    <tr style=\"text-align: right;\">\n",
       "      <th></th>\n",
       "      <th>user_id</th>\n",
       "      <th>age</th>\n",
       "      <th>churn_date</th>\n",
       "      <th>city</th>\n",
       "      <th>first_name</th>\n",
       "      <th>last_name</th>\n",
       "      <th>reg_date</th>\n",
       "      <th>tariff</th>\n",
       "    </tr>\n",
       "  </thead>\n",
       "  <tbody>\n",
       "    <tr>\n",
       "      <th>0</th>\n",
       "      <td>1000</td>\n",
       "      <td>52</td>\n",
       "      <td>NaN</td>\n",
       "      <td>Краснодар</td>\n",
       "      <td>Рафаил</td>\n",
       "      <td>Верещагин</td>\n",
       "      <td>2018-05-25</td>\n",
       "      <td>ultra</td>\n",
       "    </tr>\n",
       "    <tr>\n",
       "      <th>1</th>\n",
       "      <td>1001</td>\n",
       "      <td>41</td>\n",
       "      <td>NaN</td>\n",
       "      <td>Москва</td>\n",
       "      <td>Иван</td>\n",
       "      <td>Ежов</td>\n",
       "      <td>2018-11-01</td>\n",
       "      <td>smart</td>\n",
       "    </tr>\n",
       "    <tr>\n",
       "      <th>2</th>\n",
       "      <td>1002</td>\n",
       "      <td>59</td>\n",
       "      <td>NaN</td>\n",
       "      <td>Стерлитамак</td>\n",
       "      <td>Евгений</td>\n",
       "      <td>Абрамович</td>\n",
       "      <td>2018-06-17</td>\n",
       "      <td>smart</td>\n",
       "    </tr>\n",
       "    <tr>\n",
       "      <th>3</th>\n",
       "      <td>1003</td>\n",
       "      <td>23</td>\n",
       "      <td>NaN</td>\n",
       "      <td>Москва</td>\n",
       "      <td>Белла</td>\n",
       "      <td>Белякова</td>\n",
       "      <td>2018-08-17</td>\n",
       "      <td>ultra</td>\n",
       "    </tr>\n",
       "    <tr>\n",
       "      <th>4</th>\n",
       "      <td>1004</td>\n",
       "      <td>68</td>\n",
       "      <td>NaN</td>\n",
       "      <td>Новокузнецк</td>\n",
       "      <td>Татьяна</td>\n",
       "      <td>Авдеенко</td>\n",
       "      <td>2018-05-14</td>\n",
       "      <td>ultra</td>\n",
       "    </tr>\n",
       "  </tbody>\n",
       "</table>\n",
       "</div>"
      ],
      "text/plain": [
       "   user_id  age churn_date         city first_name  last_name    reg_date  \\\n",
       "0     1000   52        NaN    Краснодар     Рафаил  Верещагин  2018-05-25   \n",
       "1     1001   41        NaN       Москва       Иван       Ежов  2018-11-01   \n",
       "2     1002   59        NaN  Стерлитамак    Евгений  Абрамович  2018-06-17   \n",
       "3     1003   23        NaN       Москва      Белла   Белякова  2018-08-17   \n",
       "4     1004   68        NaN  Новокузнецк    Татьяна   Авдеенко  2018-05-14   \n",
       "\n",
       "  tariff  \n",
       "0  ultra  \n",
       "1  smart  \n",
       "2  smart  \n",
       "3  ultra  \n",
       "4  ultra  "
      ]
     },
     "metadata": {},
     "output_type": "display_data"
    }
   ],
   "source": [
    "calls, internet, messages, tariffs, users = (\n",
    "    pd.read_csv('/datasets/calls.csv'), # звонки\n",
    "    pd.read_csv('/datasets/internet.csv'), # интернет\n",
    "    pd.read_csv('/datasets/messages.csv'), # сообщения\n",
    "    pd.read_csv('/datasets/tariffs.csv'), # тарифы\n",
    "    pd.read_csv('/datasets/users.csv') # пользователи\n",
    ")\n",
    "\n",
    "display(calls.head(), internet.head(), messages.head(), tariffs.head(), users.head())"
   ]
  },
  {
   "cell_type": "markdown",
   "metadata": {},
   "source": [
    "Подготовим данные к анализу. Для этого необходимо проверить данные на наличие пропусков, дубликатов и артефактов, убедиться, что типы данных во всех колонках соответствуют сохранённым в них значениям. Ознакомимся с более подробной информацией о каждом из датафреймов. "
   ]
  },
  {
   "cell_type": "code",
   "execution_count": 3,
   "metadata": {
    "scrolled": true
   },
   "outputs": [
    {
     "name": "stdout",
     "output_type": "stream",
     "text": [
      "<class 'pandas.core.frame.DataFrame'>\n",
      "RangeIndex: 202607 entries, 0 to 202606\n",
      "Data columns (total 4 columns):\n",
      " #   Column     Non-Null Count   Dtype  \n",
      "---  ------     --------------   -----  \n",
      " 0   id         202607 non-null  object \n",
      " 1   call_date  202607 non-null  object \n",
      " 2   duration   202607 non-null  float64\n",
      " 3   user_id    202607 non-null  int64  \n",
      "dtypes: float64(1), int64(1), object(2)\n",
      "memory usage: 6.2+ MB\n",
      "\n",
      "id           0\n",
      "call_date    0\n",
      "duration     0\n",
      "user_id      0\n",
      "dtype: int64\n",
      "\n",
      "0\n"
     ]
    }
   ],
   "source": [
    "calls.info() # получение информации о датафрейме calls\n",
    "print()\n",
    "print(calls.isna().sum()) # количество пропусков\n",
    "print()\n",
    "print(calls.duplicated().sum()) # количество дубликатов"
   ]
  },
  {
   "cell_type": "markdown",
   "metadata": {},
   "source": [
    "В датафрейме `calls` не обнаружено пропусков и дубликатов. Однако, есть проблема с типами данных. В частности, столбец 'call_date' (дата звонка) имеет тип 'object' вместо ожидаемого 'datetime64'. Данные в столбце 'duration' (длительность звонка в минутах) необходимо округлить до целых значений в большую сторону, поскольку «Мегалайн» всегда округляет секунды до минут и каждый звонок округляется отдельно, а следовательно в типе 'float64' нет необходимости. В столбце 'id' хранятся уникальные номера звонков типа 'object', в отличие от 'user_id' ('int64'). Однако, учитывая специфику формы записи номеров звонков ('идентификатор пользователя _ номер звонка'), данный столбец можно оставить без изменений.   "
   ]
  },
  {
   "cell_type": "code",
   "execution_count": 4,
   "metadata": {},
   "outputs": [],
   "source": [
    "calls['call_date']= pd.to_datetime(\n",
    "    calls['call_date'], format='%Y-%m-%d') # перевод данных в формат даты\n",
    "calls['duration'] = np.ceil(calls['duration']).astype('int') # округление и замена типа данных на целочисленный"
   ]
  },
  {
   "cell_type": "markdown",
   "metadata": {},
   "source": [
    "Далее, датафрейм `internet`."
   ]
  },
  {
   "cell_type": "code",
   "execution_count": 5,
   "metadata": {},
   "outputs": [
    {
     "name": "stdout",
     "output_type": "stream",
     "text": [
      "<class 'pandas.core.frame.DataFrame'>\n",
      "RangeIndex: 149396 entries, 0 to 149395\n",
      "Data columns (total 5 columns):\n",
      " #   Column        Non-Null Count   Dtype  \n",
      "---  ------        --------------   -----  \n",
      " 0   Unnamed: 0    149396 non-null  int64  \n",
      " 1   id            149396 non-null  object \n",
      " 2   mb_used       149396 non-null  float64\n",
      " 3   session_date  149396 non-null  object \n",
      " 4   user_id       149396 non-null  int64  \n",
      "dtypes: float64(1), int64(2), object(2)\n",
      "memory usage: 5.7+ MB\n",
      "\n",
      "Unnamed: 0      0\n",
      "id              0\n",
      "mb_used         0\n",
      "session_date    0\n",
      "user_id         0\n",
      "dtype: int64\n",
      "\n",
      "0\n"
     ]
    }
   ],
   "source": [
    "internet.info() # получение информации о датафрейме internet\n",
    "print()\n",
    "print(internet.isna().sum()) # количество пропусков\n",
    "print()\n",
    "print(internet.duplicated().sum()) # количество дубликатов"
   ]
  },
  {
   "cell_type": "markdown",
   "metadata": {},
   "source": [
    "Пропусков и дубликатов не обнаружено. Есть проблема с типом данных в столбце 'session_date': следует привести его к 'datetime64'. Данные в столбце 'mb_used' (объём потраченного за сессию интернет-трафика), в отличие от продолжительности звонков, округлять и приводить к типу 'int64' пока нет необходимости, поскольку для веб-трафика отдельные сессии не считаются и вместо этого общая сумма за месяц округляется до гигабайтов в бо́льшую сторону. Примечательно, что в данной таблице появился столбец 'Unnamed: 0' типа 'int64', который отсутствовал в описании данных. Следует также изучить и его."
   ]
  },
  {
   "cell_type": "code",
   "execution_count": 6,
   "metadata": {},
   "outputs": [
    {
     "name": "stdout",
     "output_type": "stream",
     "text": [
      "0    0\n",
      "1    1\n",
      "2    2\n",
      "3    3\n",
      "4    4\n",
      "Name: Unnamed: 0, dtype: int64\n",
      "149391    149391\n",
      "149392    149392\n",
      "149393    149393\n",
      "149394    149394\n",
      "149395    149395\n",
      "Name: Unnamed: 0, dtype: int64\n",
      "149395\n",
      "0\n",
      "False    149396\n",
      "Name: Unnamed: 0, dtype: int64\n"
     ]
    }
   ],
   "source": [
    "internet['session_date']= pd.to_datetime(\n",
    "    internet['session_date'], format='%Y-%m-%d') # перевод данных в формат даты\n",
    "\n",
    "print(internet['Unnamed: 0'].head()) # исследуем столбец 'Unnamed: 0'\n",
    "print(internet['Unnamed: 0'].tail())\n",
    "print(internet['Unnamed: 0'].max())\n",
    "print(internet['Unnamed: 0'].min())\n",
    "print(internet['Unnamed: 0'].duplicated().value_counts())"
   ]
  },
  {
   "cell_type": "markdown",
   "metadata": {},
   "source": [
    "Судя по всему, данный столбец дублирует индексы строк. На это указывает отсутствие пропусков и повторений, а также то, что значения идут по порядку, при минимальном значении 0 и максимальном 149395, что соответствует индексам первой и последней строки. Таким образом, от данного столбца можно избавиться без потери каких-либо данных."
   ]
  },
  {
   "cell_type": "code",
   "execution_count": 7,
   "metadata": {},
   "outputs": [],
   "source": [
    "internet = internet.drop(['Unnamed: 0'], axis=1) # удаление столбца"
   ]
  },
  {
   "cell_type": "markdown",
   "metadata": {},
   "source": [
    "Далее, датафрейм `messages`."
   ]
  },
  {
   "cell_type": "code",
   "execution_count": 8,
   "metadata": {},
   "outputs": [
    {
     "name": "stdout",
     "output_type": "stream",
     "text": [
      "<class 'pandas.core.frame.DataFrame'>\n",
      "RangeIndex: 123036 entries, 0 to 123035\n",
      "Data columns (total 3 columns):\n",
      " #   Column        Non-Null Count   Dtype \n",
      "---  ------        --------------   ----- \n",
      " 0   id            123036 non-null  object\n",
      " 1   message_date  123036 non-null  object\n",
      " 2   user_id       123036 non-null  int64 \n",
      "dtypes: int64(1), object(2)\n",
      "memory usage: 2.8+ MB\n",
      "\n",
      "id              0\n",
      "message_date    0\n",
      "user_id         0\n",
      "dtype: int64\n",
      "\n",
      "0\n"
     ]
    }
   ],
   "source": [
    "messages.info() # получение информации о датафрейме messages\n",
    "print()\n",
    "print(messages.isna().sum()) # количество пропусков\n",
    "print()\n",
    "print(messages.duplicated().sum()) # количество дубликатов"
   ]
  },
  {
   "cell_type": "markdown",
   "metadata": {},
   "source": [
    "Пропусков и дубликатов не обнаружено. Есть проблема с типом данных в столбце 'message_date': следует привести его к 'datetime64'."
   ]
  },
  {
   "cell_type": "code",
   "execution_count": 9,
   "metadata": {},
   "outputs": [],
   "source": [
    "messages['message_date']= pd.to_datetime(\n",
    "    messages['message_date'], format='%Y-%m-%d') # перевод данных в формат даты"
   ]
  },
  {
   "cell_type": "markdown",
   "metadata": {},
   "source": [
    "Далее, датафрейм `tariffs`."
   ]
  },
  {
   "cell_type": "code",
   "execution_count": 10,
   "metadata": {},
   "outputs": [
    {
     "name": "stdout",
     "output_type": "stream",
     "text": [
      "<class 'pandas.core.frame.DataFrame'>\n",
      "RangeIndex: 2 entries, 0 to 1\n",
      "Data columns (total 8 columns):\n",
      " #   Column                 Non-Null Count  Dtype \n",
      "---  ------                 --------------  ----- \n",
      " 0   messages_included      2 non-null      int64 \n",
      " 1   mb_per_month_included  2 non-null      int64 \n",
      " 2   minutes_included       2 non-null      int64 \n",
      " 3   rub_monthly_fee        2 non-null      int64 \n",
      " 4   rub_per_gb             2 non-null      int64 \n",
      " 5   rub_per_message        2 non-null      int64 \n",
      " 6   rub_per_minute         2 non-null      int64 \n",
      " 7   tariff_name            2 non-null      object\n",
      "dtypes: int64(7), object(1)\n",
      "memory usage: 256.0+ bytes\n",
      "\n",
      "messages_included        0\n",
      "mb_per_month_included    0\n",
      "minutes_included         0\n",
      "rub_monthly_fee          0\n",
      "rub_per_gb               0\n",
      "rub_per_message          0\n",
      "rub_per_minute           0\n",
      "tariff_name              0\n",
      "dtype: int64\n",
      "\n",
      "0\n"
     ]
    }
   ],
   "source": [
    "tariffs.info() # получение информации о датафрейме tariffs\n",
    "print()\n",
    "print(tariffs.isna().sum()) # количество пропусков\n",
    "print()\n",
    "print(tariffs.duplicated().sum()) # количество дубликатов"
   ]
  },
  {
   "cell_type": "markdown",
   "metadata": {},
   "source": [
    "В данной таблице проблем не обнаружено. Перейдем к последнему датафрейму `users`."
   ]
  },
  {
   "cell_type": "code",
   "execution_count": 11,
   "metadata": {},
   "outputs": [
    {
     "name": "stdout",
     "output_type": "stream",
     "text": [
      "<class 'pandas.core.frame.DataFrame'>\n",
      "RangeIndex: 500 entries, 0 to 499\n",
      "Data columns (total 8 columns):\n",
      " #   Column      Non-Null Count  Dtype \n",
      "---  ------      --------------  ----- \n",
      " 0   user_id     500 non-null    int64 \n",
      " 1   age         500 non-null    int64 \n",
      " 2   churn_date  38 non-null     object\n",
      " 3   city        500 non-null    object\n",
      " 4   first_name  500 non-null    object\n",
      " 5   last_name   500 non-null    object\n",
      " 6   reg_date    500 non-null    object\n",
      " 7   tariff      500 non-null    object\n",
      "dtypes: int64(2), object(6)\n",
      "memory usage: 31.4+ KB\n",
      "\n",
      "user_id         0\n",
      "age             0\n",
      "churn_date    462\n",
      "city            0\n",
      "first_name      0\n",
      "last_name       0\n",
      "reg_date        0\n",
      "tariff          0\n",
      "dtype: int64\n",
      "\n",
      "0\n"
     ]
    }
   ],
   "source": [
    "users.info() # получение информации о датафрейме users\n",
    "print()\n",
    "print(users.isna().sum()) # количество пропусков\n",
    "print()\n",
    "print(users.duplicated().sum()) # количество дубликатов"
   ]
  },
  {
   "cell_type": "markdown",
   "metadata": {},
   "source": [
    "В датафрейме `users` присутствуют 462 пропуска в столбце 'churn_date'. Однако, согласно описанию проекта, пропуски в столбце churn_date означают, что тариф ещё действовал на момент выгрузки данных, а потому их не следует устранять. Следует привести столбцы 'churn_date' и 'reg_date' к типу 'datetime64'.    "
   ]
  },
  {
   "cell_type": "code",
   "execution_count": 12,
   "metadata": {},
   "outputs": [],
   "source": [
    "users['reg_date']= pd.to_datetime(\n",
    "    users['reg_date'], format='%Y-%m-%d') # перевод данных в формат даты\n",
    "users['churn_date']= pd.to_datetime(\n",
    "    users['churn_date'], format='%Y-%m-%d')\n",
    "users = users.rename(columns={'tariff' : 'tariff_name'})"
   ]
  },
  {
   "cell_type": "markdown",
   "metadata": {},
   "source": [
    "В ходе данного этапа были выявлены и устранены следующие проблемы: столбы 'reg_date', 'churn_date', 'call_date', 'message_date', 'session_date' приведены к типу 'datetime64'; данные в столбце 'duration' (длительность звонка в минутах) были округлены до целых значений в большую сторону; в таблице `internet` был удален столбец 'Unnamed: 0', дублирующий индексы строк.\n",
    "\n",
    "Таким образом, данные приведены в пригодный для анализа вид. "
   ]
  },
  {
   "cell_type": "markdown",
   "metadata": {},
   "source": [
    "### Анализ данных"
   ]
  },
  {
   "cell_type": "markdown",
   "metadata": {},
   "source": [
    "Перейдем к анализу данных. Согласно поставленной цели, необходимо определить, какой из двух тарифов приносит больше денег. Для этого требуется проанализировать поведение клиентов. \n",
    "\n",
    "Расчитаем для каждого пользователя:\n",
    "- количество сделанных звонков и израсходованных минут разговора по месяцам;\n",
    "- количество отправленных сообщений по месяцам;\n",
    "- объем израсходованного интернет-трафика по месяцам;\n",
    "- помесячную выручку с каждого пользователя.\n",
    "\n",
    "Для начала, узнаем сколько пользователей у каждого тарифа."
   ]
  },
  {
   "cell_type": "code",
   "execution_count": 13,
   "metadata": {},
   "outputs": [
    {
     "data": {
      "text/plain": [
       "smart    351\n",
       "ultra    149\n",
       "Name: tariff_name, dtype: int64"
      ]
     },
     "execution_count": 13,
     "metadata": {},
     "output_type": "execute_result"
    }
   ],
   "source": [
    "users['tariff_name'].value_counts() # считаем количество пользователей обоих тарифов"
   ]
  },
  {
   "cell_type": "markdown",
   "metadata": {},
   "source": [
    "Пользователей тарифа smart оказалось больше на 202 человека. Учитывая, что тариф ultra является более дорогим, результат вполне ожидаемый.\n",
    "\n",
    "Далее, расчитаем количество звонков и минут для каждого пользователя по месяцам."
   ]
  },
  {
   "cell_type": "code",
   "execution_count": 14,
   "metadata": {},
   "outputs": [
    {
     "data": {
      "text/html": [
       "<div>\n",
       "<style scoped>\n",
       "    .dataframe tbody tr th:only-of-type {\n",
       "        vertical-align: middle;\n",
       "    }\n",
       "\n",
       "    .dataframe tbody tr th {\n",
       "        vertical-align: top;\n",
       "    }\n",
       "\n",
       "    .dataframe thead th {\n",
       "        text-align: right;\n",
       "    }\n",
       "</style>\n",
       "<table border=\"1\" class=\"dataframe\">\n",
       "  <thead>\n",
       "    <tr style=\"text-align: right;\">\n",
       "      <th></th>\n",
       "      <th></th>\n",
       "      <th>calls_total</th>\n",
       "      <th>minutes_total</th>\n",
       "    </tr>\n",
       "    <tr>\n",
       "      <th>user_id</th>\n",
       "      <th>month</th>\n",
       "      <th></th>\n",
       "      <th></th>\n",
       "    </tr>\n",
       "  </thead>\n",
       "  <tbody>\n",
       "    <tr>\n",
       "      <th rowspan=\"5\" valign=\"top\">1000</th>\n",
       "      <th>5</th>\n",
       "      <td>22</td>\n",
       "      <td>159</td>\n",
       "    </tr>\n",
       "    <tr>\n",
       "      <th>6</th>\n",
       "      <td>43</td>\n",
       "      <td>172</td>\n",
       "    </tr>\n",
       "    <tr>\n",
       "      <th>7</th>\n",
       "      <td>47</td>\n",
       "      <td>340</td>\n",
       "    </tr>\n",
       "    <tr>\n",
       "      <th>8</th>\n",
       "      <td>52</td>\n",
       "      <td>408</td>\n",
       "    </tr>\n",
       "    <tr>\n",
       "      <th>9</th>\n",
       "      <td>58</td>\n",
       "      <td>466</td>\n",
       "    </tr>\n",
       "    <tr>\n",
       "      <th>...</th>\n",
       "      <th>...</th>\n",
       "      <td>...</td>\n",
       "      <td>...</td>\n",
       "    </tr>\n",
       "    <tr>\n",
       "      <th>1498</th>\n",
       "      <th>10</th>\n",
       "      <td>41</td>\n",
       "      <td>247</td>\n",
       "    </tr>\n",
       "    <tr>\n",
       "      <th rowspan=\"4\" valign=\"top\">1499</th>\n",
       "      <th>9</th>\n",
       "      <td>9</td>\n",
       "      <td>70</td>\n",
       "    </tr>\n",
       "    <tr>\n",
       "      <th>10</th>\n",
       "      <td>68</td>\n",
       "      <td>449</td>\n",
       "    </tr>\n",
       "    <tr>\n",
       "      <th>11</th>\n",
       "      <td>74</td>\n",
       "      <td>612</td>\n",
       "    </tr>\n",
       "    <tr>\n",
       "      <th>12</th>\n",
       "      <td>69</td>\n",
       "      <td>492</td>\n",
       "    </tr>\n",
       "  </tbody>\n",
       "</table>\n",
       "<p>3174 rows × 2 columns</p>\n",
       "</div>"
      ],
      "text/plain": [
       "               calls_total  minutes_total\n",
       "user_id month                            \n",
       "1000    5               22            159\n",
       "        6               43            172\n",
       "        7               47            340\n",
       "        8               52            408\n",
       "        9               58            466\n",
       "...                    ...            ...\n",
       "1498    10              41            247\n",
       "1499    9                9             70\n",
       "        10              68            449\n",
       "        11              74            612\n",
       "        12              69            492\n",
       "\n",
       "[3174 rows x 2 columns]"
      ]
     },
     "metadata": {},
     "output_type": "display_data"
    }
   ],
   "source": [
    "calls['month'] = calls['call_date'].dt.month  # создаем столбец с месяцами звонков\n",
    "calls['month'] = calls['month'].dropna()      # устраняем 8 пропусков\n",
    "calls['month'] = calls['month'].astype('int') # переводим номера месяцев в целочисленный вид\n",
    "\n",
    "udpmc = calls.groupby(['user_id', 'month']).agg(calls_total = ('id', 'count'),        # user`s data per month calls (udpmc): \n",
    "                  minutes_total = ('duration', 'sum'))                                # данные о звонках пользователей по месяцам \n",
    "                                                                                \n",
    "display(udpmc.sort_values(by=['user_id', 'month'])) "
   ]
  },
  {
   "cell_type": "code",
   "execution_count": 15,
   "metadata": {
    "scrolled": false
   },
   "outputs": [
    {
     "data": {
      "text/html": [
       "<div>\n",
       "<style scoped>\n",
       "    .dataframe tbody tr th:only-of-type {\n",
       "        vertical-align: middle;\n",
       "    }\n",
       "\n",
       "    .dataframe tbody tr th {\n",
       "        vertical-align: top;\n",
       "    }\n",
       "\n",
       "    .dataframe thead th {\n",
       "        text-align: right;\n",
       "    }\n",
       "</style>\n",
       "<table border=\"1\" class=\"dataframe\">\n",
       "  <thead>\n",
       "    <tr style=\"text-align: right;\">\n",
       "      <th></th>\n",
       "      <th></th>\n",
       "      <th>messages_total</th>\n",
       "    </tr>\n",
       "    <tr>\n",
       "      <th>user_id</th>\n",
       "      <th>month</th>\n",
       "      <th></th>\n",
       "    </tr>\n",
       "  </thead>\n",
       "  <tbody>\n",
       "    <tr>\n",
       "      <th rowspan=\"5\" valign=\"top\">1000</th>\n",
       "      <th>5</th>\n",
       "      <td>22</td>\n",
       "    </tr>\n",
       "    <tr>\n",
       "      <th>6</th>\n",
       "      <td>60</td>\n",
       "    </tr>\n",
       "    <tr>\n",
       "      <th>7</th>\n",
       "      <td>75</td>\n",
       "    </tr>\n",
       "    <tr>\n",
       "      <th>8</th>\n",
       "      <td>81</td>\n",
       "    </tr>\n",
       "    <tr>\n",
       "      <th>9</th>\n",
       "      <td>57</td>\n",
       "    </tr>\n",
       "    <tr>\n",
       "      <th>...</th>\n",
       "      <th>...</th>\n",
       "      <td>...</td>\n",
       "    </tr>\n",
       "    <tr>\n",
       "      <th>1498</th>\n",
       "      <th>10</th>\n",
       "      <td>42</td>\n",
       "    </tr>\n",
       "    <tr>\n",
       "      <th rowspan=\"4\" valign=\"top\">1499</th>\n",
       "      <th>9</th>\n",
       "      <td>11</td>\n",
       "    </tr>\n",
       "    <tr>\n",
       "      <th>10</th>\n",
       "      <td>48</td>\n",
       "    </tr>\n",
       "    <tr>\n",
       "      <th>11</th>\n",
       "      <td>59</td>\n",
       "    </tr>\n",
       "    <tr>\n",
       "      <th>12</th>\n",
       "      <td>66</td>\n",
       "    </tr>\n",
       "  </tbody>\n",
       "</table>\n",
       "<p>2717 rows × 1 columns</p>\n",
       "</div>"
      ],
      "text/plain": [
       "               messages_total\n",
       "user_id month                \n",
       "1000    5                  22\n",
       "        6                  60\n",
       "        7                  75\n",
       "        8                  81\n",
       "        9                  57\n",
       "...                       ...\n",
       "1498    10                 42\n",
       "1499    9                  11\n",
       "        10                 48\n",
       "        11                 59\n",
       "        12                 66\n",
       "\n",
       "[2717 rows x 1 columns]"
      ]
     },
     "metadata": {},
     "output_type": "display_data"
    }
   ],
   "source": [
    "messages['month'] = messages['message_date'].dt.month  # создаем столбец с месяцами сообщений\n",
    "messages['month'] = messages['month'].dropna()         # устраняем пропуски\n",
    "messages['month'] = messages['month'].astype('int')    # переводим номера месяцев в целочисленный вид\n",
    "\n",
    "udpmm = messages.groupby(['user_id', 'month']).agg(messages_total = ('id', 'count')) # user`s data per month messages (udpmm):\n",
    "                                                                                     # данные о сообщениях по месяцам\n",
    "\n",
    "display(udpmm.sort_values(by=['user_id', 'month'])) "
   ]
  },
  {
   "cell_type": "code",
   "execution_count": 16,
   "metadata": {
    "scrolled": false
   },
   "outputs": [
    {
     "data": {
      "text/html": [
       "<div>\n",
       "<style scoped>\n",
       "    .dataframe tbody tr th:only-of-type {\n",
       "        vertical-align: middle;\n",
       "    }\n",
       "\n",
       "    .dataframe tbody tr th {\n",
       "        vertical-align: top;\n",
       "    }\n",
       "\n",
       "    .dataframe thead th {\n",
       "        text-align: right;\n",
       "    }\n",
       "</style>\n",
       "<table border=\"1\" class=\"dataframe\">\n",
       "  <thead>\n",
       "    <tr style=\"text-align: right;\">\n",
       "      <th></th>\n",
       "      <th></th>\n",
       "      <th>mb_used_total</th>\n",
       "    </tr>\n",
       "    <tr>\n",
       "      <th>user_id</th>\n",
       "      <th>month</th>\n",
       "      <th></th>\n",
       "    </tr>\n",
       "  </thead>\n",
       "  <tbody>\n",
       "    <tr>\n",
       "      <th rowspan=\"5\" valign=\"top\">1000</th>\n",
       "      <th>5</th>\n",
       "      <td>2254</td>\n",
       "    </tr>\n",
       "    <tr>\n",
       "      <th>6</th>\n",
       "      <td>23234</td>\n",
       "    </tr>\n",
       "    <tr>\n",
       "      <th>7</th>\n",
       "      <td>14004</td>\n",
       "    </tr>\n",
       "    <tr>\n",
       "      <th>8</th>\n",
       "      <td>14056</td>\n",
       "    </tr>\n",
       "    <tr>\n",
       "      <th>9</th>\n",
       "      <td>14569</td>\n",
       "    </tr>\n",
       "    <tr>\n",
       "      <th>...</th>\n",
       "      <th>...</th>\n",
       "      <td>...</td>\n",
       "    </tr>\n",
       "    <tr>\n",
       "      <th>1498</th>\n",
       "      <th>10</th>\n",
       "      <td>20580</td>\n",
       "    </tr>\n",
       "    <tr>\n",
       "      <th rowspan=\"4\" valign=\"top\">1499</th>\n",
       "      <th>9</th>\n",
       "      <td>1846</td>\n",
       "    </tr>\n",
       "    <tr>\n",
       "      <th>10</th>\n",
       "      <td>17789</td>\n",
       "    </tr>\n",
       "    <tr>\n",
       "      <th>11</th>\n",
       "      <td>17964</td>\n",
       "    </tr>\n",
       "    <tr>\n",
       "      <th>12</th>\n",
       "      <td>13056</td>\n",
       "    </tr>\n",
       "  </tbody>\n",
       "</table>\n",
       "<p>3203 rows × 1 columns</p>\n",
       "</div>"
      ],
      "text/plain": [
       "               mb_used_total\n",
       "user_id month               \n",
       "1000    5               2254\n",
       "        6              23234\n",
       "        7              14004\n",
       "        8              14056\n",
       "        9              14569\n",
       "...                      ...\n",
       "1498    10             20580\n",
       "1499    9               1846\n",
       "        10             17789\n",
       "        11             17964\n",
       "        12             13056\n",
       "\n",
       "[3203 rows x 1 columns]"
      ]
     },
     "metadata": {},
     "output_type": "display_data"
    }
   ],
   "source": [
    "internet['month'] = internet['session_date'].dt.month  # создаем столбец с месяцами сессий\n",
    "internet['month'] = internet['month'].dropna('')         # устраняем пропуски\n",
    "internet['month'] = internet['month'].astype('int')    # переводим номера месяцев в целочисленный вид\n",
    "\n",
    "udpmi = internet.groupby(['user_id', 'month']).agg(mb_used_total = ('mb_used', 'sum')) # user`s data per month internet (udpmi): \n",
    "                                                                                       # данные о трафике по месяцам\n",
    "\n",
    "udpmi['mb_used_total'] = np.ceil(udpmi['mb_used_total']).astype('int') # округляем Мб до целого в большую сторону\n",
    "\n",
    "display(udpmi.sort_values(by=['user_id', 'month']))"
   ]
  },
  {
   "cell_type": "code",
   "execution_count": 17,
   "metadata": {
    "scrolled": false
   },
   "outputs": [
    {
     "name": "stdout",
     "output_type": "stream",
     "text": [
      "<class 'pandas.core.frame.DataFrame'>\n",
      "Int64Index: 3216 entries, 0 to 3175\n",
      "Data columns (total 20 columns):\n",
      " #   Column                 Non-Null Count  Dtype         \n",
      "---  ------                 --------------  -----         \n",
      " 0   user_id                3216 non-null   int64         \n",
      " 1   month                  3216 non-null   int64         \n",
      " 2   first_name             3216 non-null   object        \n",
      " 3   last_name              3216 non-null   object        \n",
      " 4   age                    3216 non-null   int64         \n",
      " 5   reg_date               3216 non-null   datetime64[ns]\n",
      " 6   churn_date             189 non-null    datetime64[ns]\n",
      " 7   city                   3216 non-null   object        \n",
      " 8   tariff_name            3216 non-null   object        \n",
      " 9   calls_total            3216 non-null   int64         \n",
      " 10  minutes_total          3216 non-null   int64         \n",
      " 11  messages_total         3216 non-null   int64         \n",
      " 12  mb_used_total          3216 non-null   int64         \n",
      " 13  rub_monthly_fee        3216 non-null   int64         \n",
      " 14  minutes_included       3216 non-null   int64         \n",
      " 15  messages_included      3216 non-null   int64         \n",
      " 16  mb_per_month_included  3216 non-null   int64         \n",
      " 17  rub_per_minute         3216 non-null   int64         \n",
      " 18  rub_per_message        3216 non-null   int64         \n",
      " 19  rub_per_gb             3216 non-null   int64         \n",
      "dtypes: datetime64[ns](2), int64(14), object(4)\n",
      "memory usage: 527.6+ KB\n"
     ]
    },
    {
     "data": {
      "text/html": [
       "<div>\n",
       "<style scoped>\n",
       "    .dataframe tbody tr th:only-of-type {\n",
       "        vertical-align: middle;\n",
       "    }\n",
       "\n",
       "    .dataframe tbody tr th {\n",
       "        vertical-align: top;\n",
       "    }\n",
       "\n",
       "    .dataframe thead th {\n",
       "        text-align: right;\n",
       "    }\n",
       "</style>\n",
       "<table border=\"1\" class=\"dataframe\">\n",
       "  <thead>\n",
       "    <tr style=\"text-align: right;\">\n",
       "      <th></th>\n",
       "      <th>user_id</th>\n",
       "      <th>month</th>\n",
       "      <th>first_name</th>\n",
       "      <th>last_name</th>\n",
       "      <th>age</th>\n",
       "      <th>reg_date</th>\n",
       "      <th>churn_date</th>\n",
       "      <th>city</th>\n",
       "      <th>tariff_name</th>\n",
       "      <th>calls_total</th>\n",
       "      <th>minutes_total</th>\n",
       "      <th>messages_total</th>\n",
       "      <th>mb_used_total</th>\n",
       "      <th>rub_monthly_fee</th>\n",
       "      <th>minutes_included</th>\n",
       "      <th>messages_included</th>\n",
       "      <th>mb_per_month_included</th>\n",
       "      <th>rub_per_minute</th>\n",
       "      <th>rub_per_message</th>\n",
       "      <th>rub_per_gb</th>\n",
       "    </tr>\n",
       "  </thead>\n",
       "  <tbody>\n",
       "    <tr>\n",
       "      <th>0</th>\n",
       "      <td>1000</td>\n",
       "      <td>5</td>\n",
       "      <td>Рафаил</td>\n",
       "      <td>Верещагин</td>\n",
       "      <td>52</td>\n",
       "      <td>2018-05-25</td>\n",
       "      <td>NaT</td>\n",
       "      <td>Краснодар</td>\n",
       "      <td>ultra</td>\n",
       "      <td>22</td>\n",
       "      <td>159</td>\n",
       "      <td>22</td>\n",
       "      <td>2254</td>\n",
       "      <td>1950</td>\n",
       "      <td>3000</td>\n",
       "      <td>1000</td>\n",
       "      <td>30720</td>\n",
       "      <td>1</td>\n",
       "      <td>1</td>\n",
       "      <td>150</td>\n",
       "    </tr>\n",
       "    <tr>\n",
       "      <th>1</th>\n",
       "      <td>1000</td>\n",
       "      <td>6</td>\n",
       "      <td>Рафаил</td>\n",
       "      <td>Верещагин</td>\n",
       "      <td>52</td>\n",
       "      <td>2018-05-25</td>\n",
       "      <td>NaT</td>\n",
       "      <td>Краснодар</td>\n",
       "      <td>ultra</td>\n",
       "      <td>43</td>\n",
       "      <td>172</td>\n",
       "      <td>60</td>\n",
       "      <td>23234</td>\n",
       "      <td>1950</td>\n",
       "      <td>3000</td>\n",
       "      <td>1000</td>\n",
       "      <td>30720</td>\n",
       "      <td>1</td>\n",
       "      <td>1</td>\n",
       "      <td>150</td>\n",
       "    </tr>\n",
       "    <tr>\n",
       "      <th>2</th>\n",
       "      <td>1000</td>\n",
       "      <td>7</td>\n",
       "      <td>Рафаил</td>\n",
       "      <td>Верещагин</td>\n",
       "      <td>52</td>\n",
       "      <td>2018-05-25</td>\n",
       "      <td>NaT</td>\n",
       "      <td>Краснодар</td>\n",
       "      <td>ultra</td>\n",
       "      <td>47</td>\n",
       "      <td>340</td>\n",
       "      <td>75</td>\n",
       "      <td>14004</td>\n",
       "      <td>1950</td>\n",
       "      <td>3000</td>\n",
       "      <td>1000</td>\n",
       "      <td>30720</td>\n",
       "      <td>1</td>\n",
       "      <td>1</td>\n",
       "      <td>150</td>\n",
       "    </tr>\n",
       "    <tr>\n",
       "      <th>3</th>\n",
       "      <td>1000</td>\n",
       "      <td>8</td>\n",
       "      <td>Рафаил</td>\n",
       "      <td>Верещагин</td>\n",
       "      <td>52</td>\n",
       "      <td>2018-05-25</td>\n",
       "      <td>NaT</td>\n",
       "      <td>Краснодар</td>\n",
       "      <td>ultra</td>\n",
       "      <td>52</td>\n",
       "      <td>408</td>\n",
       "      <td>81</td>\n",
       "      <td>14056</td>\n",
       "      <td>1950</td>\n",
       "      <td>3000</td>\n",
       "      <td>1000</td>\n",
       "      <td>30720</td>\n",
       "      <td>1</td>\n",
       "      <td>1</td>\n",
       "      <td>150</td>\n",
       "    </tr>\n",
       "    <tr>\n",
       "      <th>4</th>\n",
       "      <td>1000</td>\n",
       "      <td>9</td>\n",
       "      <td>Рафаил</td>\n",
       "      <td>Верещагин</td>\n",
       "      <td>52</td>\n",
       "      <td>2018-05-25</td>\n",
       "      <td>NaT</td>\n",
       "      <td>Краснодар</td>\n",
       "      <td>ultra</td>\n",
       "      <td>58</td>\n",
       "      <td>466</td>\n",
       "      <td>57</td>\n",
       "      <td>14569</td>\n",
       "      <td>1950</td>\n",
       "      <td>3000</td>\n",
       "      <td>1000</td>\n",
       "      <td>30720</td>\n",
       "      <td>1</td>\n",
       "      <td>1</td>\n",
       "      <td>150</td>\n",
       "    </tr>\n",
       "  </tbody>\n",
       "</table>\n",
       "</div>"
      ],
      "text/plain": [
       "   user_id  month first_name  last_name  age   reg_date churn_date       city  \\\n",
       "0     1000      5     Рафаил  Верещагин   52 2018-05-25        NaT  Краснодар   \n",
       "1     1000      6     Рафаил  Верещагин   52 2018-05-25        NaT  Краснодар   \n",
       "2     1000      7     Рафаил  Верещагин   52 2018-05-25        NaT  Краснодар   \n",
       "3     1000      8     Рафаил  Верещагин   52 2018-05-25        NaT  Краснодар   \n",
       "4     1000      9     Рафаил  Верещагин   52 2018-05-25        NaT  Краснодар   \n",
       "\n",
       "  tariff_name  calls_total  minutes_total  messages_total  mb_used_total  \\\n",
       "0       ultra           22            159              22           2254   \n",
       "1       ultra           43            172              60          23234   \n",
       "2       ultra           47            340              75          14004   \n",
       "3       ultra           52            408              81          14056   \n",
       "4       ultra           58            466              57          14569   \n",
       "\n",
       "   rub_monthly_fee  minutes_included  messages_included  \\\n",
       "0             1950              3000               1000   \n",
       "1             1950              3000               1000   \n",
       "2             1950              3000               1000   \n",
       "3             1950              3000               1000   \n",
       "4             1950              3000               1000   \n",
       "\n",
       "   mb_per_month_included  rub_per_minute  rub_per_message  rub_per_gb  \n",
       "0                  30720               1                1         150  \n",
       "1                  30720               1                1         150  \n",
       "2                  30720               1                1         150  \n",
       "3                  30720               1                1         150  \n",
       "4                  30720               1                1         150  "
      ]
     },
     "metadata": {},
     "output_type": "display_data"
    }
   ],
   "source": [
    "udpm = udpmc.join(udpmm, on=['user_id', 'month'], how='outer') # создаем объединенный датафрейм user`s data per month (udpm)\n",
    "udpm = udpm.join(udpmi, on=['user_id', 'month'], how='outer')\n",
    "users = users.merge(tariffs, on='tariff_name', how='outer')\n",
    "udpm = udpm.reset_index(level=['user_id', 'month'])\n",
    "udpm = udpm.merge(users, on='user_id', how='outer')\n",
    "\n",
    "udpm = udpm[['user_id', \n",
    "             'month',\n",
    "             'first_name', \n",
    "             'last_name', \n",
    "             'age', \n",
    "             'reg_date', \n",
    "             'churn_date', \n",
    "             'city', \n",
    "             'tariff_name', \n",
    "             'calls_total', \n",
    "             'minutes_total', \n",
    "             'messages_total', \n",
    "             'mb_used_total', \n",
    "             'rub_monthly_fee', \n",
    "             'minutes_included', \n",
    "             'messages_included', \n",
    "             'mb_per_month_included', \n",
    "             'rub_per_minute', \n",
    "             'rub_per_message', \n",
    "             'rub_per_gb']]\n",
    "\n",
    "udpm = udpm.sort_values(by=['user_id', 'month']) # настраиваем сортировку\n",
    "\n",
    "udpm['calls_total'] = udpm['calls_total'].fillna(0) # заполняем пропуски нулями и приводим к типу int\n",
    "udpm['calls_total'] = udpm['calls_total'].astype('int')\n",
    "\n",
    "udpm['minutes_total'] = udpm['minutes_total'].fillna(0)\n",
    "udpm['minutes_total'] = udpm['minutes_total'].astype('int')\n",
    "\n",
    "udpm['messages_total'] = udpm['messages_total'].fillna(0)\n",
    "udpm['messages_total'] = udpm['messages_total'].astype('int')\n",
    "\n",
    "udpm['mb_used_total'] = udpm['mb_used_total'].fillna(0)\n",
    "udpm['mb_used_total'] = udpm['mb_used_total'].astype('int')\n",
    "\n",
    "udpm['month'] = udpm['month'].fillna(0)\n",
    "udpm['month'] = udpm['month'].astype('int')\n",
    "\n",
    "udpm.info() # повторно проверяем типы данных и выводим итоговый датафрейм на экран\n",
    "display(udpm.head())"
   ]
  },
  {
   "cell_type": "code",
   "execution_count": 18,
   "metadata": {},
   "outputs": [
    {
     "data": {
      "text/html": [
       "<div>\n",
       "<style scoped>\n",
       "    .dataframe tbody tr th:only-of-type {\n",
       "        vertical-align: middle;\n",
       "    }\n",
       "\n",
       "    .dataframe tbody tr th {\n",
       "        vertical-align: top;\n",
       "    }\n",
       "\n",
       "    .dataframe thead th {\n",
       "        text-align: right;\n",
       "    }\n",
       "</style>\n",
       "<table border=\"1\" class=\"dataframe\">\n",
       "  <thead>\n",
       "    <tr style=\"text-align: right;\">\n",
       "      <th></th>\n",
       "      <th>user_id</th>\n",
       "      <th>month</th>\n",
       "      <th>first_name</th>\n",
       "      <th>last_name</th>\n",
       "      <th>age</th>\n",
       "      <th>reg_date</th>\n",
       "      <th>churn_date</th>\n",
       "      <th>city</th>\n",
       "      <th>tariff_name</th>\n",
       "      <th>calls_total</th>\n",
       "      <th>...</th>\n",
       "      <th>messages_total</th>\n",
       "      <th>mb_used_total</th>\n",
       "      <th>rub_monthly_fee</th>\n",
       "      <th>minutes_included</th>\n",
       "      <th>messages_included</th>\n",
       "      <th>mb_per_month_included</th>\n",
       "      <th>rub_per_minute</th>\n",
       "      <th>rub_per_message</th>\n",
       "      <th>rub_per_gb</th>\n",
       "      <th>revenue</th>\n",
       "    </tr>\n",
       "  </thead>\n",
       "  <tbody>\n",
       "    <tr>\n",
       "      <th>0</th>\n",
       "      <td>1000</td>\n",
       "      <td>5</td>\n",
       "      <td>Рафаил</td>\n",
       "      <td>Верещагин</td>\n",
       "      <td>52</td>\n",
       "      <td>2018-05-25</td>\n",
       "      <td>NaT</td>\n",
       "      <td>Краснодар</td>\n",
       "      <td>ultra</td>\n",
       "      <td>22</td>\n",
       "      <td>...</td>\n",
       "      <td>22</td>\n",
       "      <td>2254</td>\n",
       "      <td>1950</td>\n",
       "      <td>3000</td>\n",
       "      <td>1000</td>\n",
       "      <td>30720</td>\n",
       "      <td>1</td>\n",
       "      <td>1</td>\n",
       "      <td>150</td>\n",
       "      <td>1950.0</td>\n",
       "    </tr>\n",
       "    <tr>\n",
       "      <th>1</th>\n",
       "      <td>1000</td>\n",
       "      <td>6</td>\n",
       "      <td>Рафаил</td>\n",
       "      <td>Верещагин</td>\n",
       "      <td>52</td>\n",
       "      <td>2018-05-25</td>\n",
       "      <td>NaT</td>\n",
       "      <td>Краснодар</td>\n",
       "      <td>ultra</td>\n",
       "      <td>43</td>\n",
       "      <td>...</td>\n",
       "      <td>60</td>\n",
       "      <td>23234</td>\n",
       "      <td>1950</td>\n",
       "      <td>3000</td>\n",
       "      <td>1000</td>\n",
       "      <td>30720</td>\n",
       "      <td>1</td>\n",
       "      <td>1</td>\n",
       "      <td>150</td>\n",
       "      <td>1950.0</td>\n",
       "    </tr>\n",
       "    <tr>\n",
       "      <th>2</th>\n",
       "      <td>1000</td>\n",
       "      <td>7</td>\n",
       "      <td>Рафаил</td>\n",
       "      <td>Верещагин</td>\n",
       "      <td>52</td>\n",
       "      <td>2018-05-25</td>\n",
       "      <td>NaT</td>\n",
       "      <td>Краснодар</td>\n",
       "      <td>ultra</td>\n",
       "      <td>47</td>\n",
       "      <td>...</td>\n",
       "      <td>75</td>\n",
       "      <td>14004</td>\n",
       "      <td>1950</td>\n",
       "      <td>3000</td>\n",
       "      <td>1000</td>\n",
       "      <td>30720</td>\n",
       "      <td>1</td>\n",
       "      <td>1</td>\n",
       "      <td>150</td>\n",
       "      <td>1950.0</td>\n",
       "    </tr>\n",
       "    <tr>\n",
       "      <th>3</th>\n",
       "      <td>1000</td>\n",
       "      <td>8</td>\n",
       "      <td>Рафаил</td>\n",
       "      <td>Верещагин</td>\n",
       "      <td>52</td>\n",
       "      <td>2018-05-25</td>\n",
       "      <td>NaT</td>\n",
       "      <td>Краснодар</td>\n",
       "      <td>ultra</td>\n",
       "      <td>52</td>\n",
       "      <td>...</td>\n",
       "      <td>81</td>\n",
       "      <td>14056</td>\n",
       "      <td>1950</td>\n",
       "      <td>3000</td>\n",
       "      <td>1000</td>\n",
       "      <td>30720</td>\n",
       "      <td>1</td>\n",
       "      <td>1</td>\n",
       "      <td>150</td>\n",
       "      <td>1950.0</td>\n",
       "    </tr>\n",
       "    <tr>\n",
       "      <th>4</th>\n",
       "      <td>1000</td>\n",
       "      <td>9</td>\n",
       "      <td>Рафаил</td>\n",
       "      <td>Верещагин</td>\n",
       "      <td>52</td>\n",
       "      <td>2018-05-25</td>\n",
       "      <td>NaT</td>\n",
       "      <td>Краснодар</td>\n",
       "      <td>ultra</td>\n",
       "      <td>58</td>\n",
       "      <td>...</td>\n",
       "      <td>57</td>\n",
       "      <td>14569</td>\n",
       "      <td>1950</td>\n",
       "      <td>3000</td>\n",
       "      <td>1000</td>\n",
       "      <td>30720</td>\n",
       "      <td>1</td>\n",
       "      <td>1</td>\n",
       "      <td>150</td>\n",
       "      <td>1950.0</td>\n",
       "    </tr>\n",
       "    <tr>\n",
       "      <th>5</th>\n",
       "      <td>1000</td>\n",
       "      <td>10</td>\n",
       "      <td>Рафаил</td>\n",
       "      <td>Верещагин</td>\n",
       "      <td>52</td>\n",
       "      <td>2018-05-25</td>\n",
       "      <td>NaT</td>\n",
       "      <td>Краснодар</td>\n",
       "      <td>ultra</td>\n",
       "      <td>57</td>\n",
       "      <td>...</td>\n",
       "      <td>73</td>\n",
       "      <td>14703</td>\n",
       "      <td>1950</td>\n",
       "      <td>3000</td>\n",
       "      <td>1000</td>\n",
       "      <td>30720</td>\n",
       "      <td>1</td>\n",
       "      <td>1</td>\n",
       "      <td>150</td>\n",
       "      <td>1950.0</td>\n",
       "    </tr>\n",
       "    <tr>\n",
       "      <th>6</th>\n",
       "      <td>1000</td>\n",
       "      <td>11</td>\n",
       "      <td>Рафаил</td>\n",
       "      <td>Верещагин</td>\n",
       "      <td>52</td>\n",
       "      <td>2018-05-25</td>\n",
       "      <td>NaT</td>\n",
       "      <td>Краснодар</td>\n",
       "      <td>ultra</td>\n",
       "      <td>43</td>\n",
       "      <td>...</td>\n",
       "      <td>58</td>\n",
       "      <td>14757</td>\n",
       "      <td>1950</td>\n",
       "      <td>3000</td>\n",
       "      <td>1000</td>\n",
       "      <td>30720</td>\n",
       "      <td>1</td>\n",
       "      <td>1</td>\n",
       "      <td>150</td>\n",
       "      <td>1950.0</td>\n",
       "    </tr>\n",
       "    <tr>\n",
       "      <th>7</th>\n",
       "      <td>1000</td>\n",
       "      <td>12</td>\n",
       "      <td>Рафаил</td>\n",
       "      <td>Верещагин</td>\n",
       "      <td>52</td>\n",
       "      <td>2018-05-25</td>\n",
       "      <td>NaT</td>\n",
       "      <td>Краснодар</td>\n",
       "      <td>ultra</td>\n",
       "      <td>46</td>\n",
       "      <td>...</td>\n",
       "      <td>70</td>\n",
       "      <td>9818</td>\n",
       "      <td>1950</td>\n",
       "      <td>3000</td>\n",
       "      <td>1000</td>\n",
       "      <td>30720</td>\n",
       "      <td>1</td>\n",
       "      <td>1</td>\n",
       "      <td>150</td>\n",
       "      <td>1950.0</td>\n",
       "    </tr>\n",
       "    <tr>\n",
       "      <th>8</th>\n",
       "      <td>1001</td>\n",
       "      <td>11</td>\n",
       "      <td>Иван</td>\n",
       "      <td>Ежов</td>\n",
       "      <td>41</td>\n",
       "      <td>2018-11-01</td>\n",
       "      <td>NaT</td>\n",
       "      <td>Москва</td>\n",
       "      <td>smart</td>\n",
       "      <td>59</td>\n",
       "      <td>...</td>\n",
       "      <td>0</td>\n",
       "      <td>18430</td>\n",
       "      <td>550</td>\n",
       "      <td>500</td>\n",
       "      <td>50</td>\n",
       "      <td>15360</td>\n",
       "      <td>3</td>\n",
       "      <td>3</td>\n",
       "      <td>200</td>\n",
       "      <td>1150.0</td>\n",
       "    </tr>\n",
       "    <tr>\n",
       "      <th>9</th>\n",
       "      <td>1001</td>\n",
       "      <td>12</td>\n",
       "      <td>Иван</td>\n",
       "      <td>Ежов</td>\n",
       "      <td>41</td>\n",
       "      <td>2018-11-01</td>\n",
       "      <td>NaT</td>\n",
       "      <td>Москва</td>\n",
       "      <td>smart</td>\n",
       "      <td>63</td>\n",
       "      <td>...</td>\n",
       "      <td>0</td>\n",
       "      <td>14037</td>\n",
       "      <td>550</td>\n",
       "      <td>500</td>\n",
       "      <td>50</td>\n",
       "      <td>15360</td>\n",
       "      <td>3</td>\n",
       "      <td>3</td>\n",
       "      <td>200</td>\n",
       "      <td>550.0</td>\n",
       "    </tr>\n",
       "  </tbody>\n",
       "</table>\n",
       "<p>10 rows × 21 columns</p>\n",
       "</div>"
      ],
      "text/plain": [
       "   user_id  month first_name  last_name  age   reg_date churn_date       city  \\\n",
       "0     1000      5     Рафаил  Верещагин   52 2018-05-25        NaT  Краснодар   \n",
       "1     1000      6     Рафаил  Верещагин   52 2018-05-25        NaT  Краснодар   \n",
       "2     1000      7     Рафаил  Верещагин   52 2018-05-25        NaT  Краснодар   \n",
       "3     1000      8     Рафаил  Верещагин   52 2018-05-25        NaT  Краснодар   \n",
       "4     1000      9     Рафаил  Верещагин   52 2018-05-25        NaT  Краснодар   \n",
       "5     1000     10     Рафаил  Верещагин   52 2018-05-25        NaT  Краснодар   \n",
       "6     1000     11     Рафаил  Верещагин   52 2018-05-25        NaT  Краснодар   \n",
       "7     1000     12     Рафаил  Верещагин   52 2018-05-25        NaT  Краснодар   \n",
       "8     1001     11       Иван       Ежов   41 2018-11-01        NaT     Москва   \n",
       "9     1001     12       Иван       Ежов   41 2018-11-01        NaT     Москва   \n",
       "\n",
       "  tariff_name  calls_total  ...  messages_total  mb_used_total  \\\n",
       "0       ultra           22  ...              22           2254   \n",
       "1       ultra           43  ...              60          23234   \n",
       "2       ultra           47  ...              75          14004   \n",
       "3       ultra           52  ...              81          14056   \n",
       "4       ultra           58  ...              57          14569   \n",
       "5       ultra           57  ...              73          14703   \n",
       "6       ultra           43  ...              58          14757   \n",
       "7       ultra           46  ...              70           9818   \n",
       "8       smart           59  ...               0          18430   \n",
       "9       smart           63  ...               0          14037   \n",
       "\n",
       "   rub_monthly_fee  minutes_included  messages_included  \\\n",
       "0             1950              3000               1000   \n",
       "1             1950              3000               1000   \n",
       "2             1950              3000               1000   \n",
       "3             1950              3000               1000   \n",
       "4             1950              3000               1000   \n",
       "5             1950              3000               1000   \n",
       "6             1950              3000               1000   \n",
       "7             1950              3000               1000   \n",
       "8              550               500                 50   \n",
       "9              550               500                 50   \n",
       "\n",
       "   mb_per_month_included  rub_per_minute  rub_per_message  rub_per_gb  revenue  \n",
       "0                  30720               1                1         150   1950.0  \n",
       "1                  30720               1                1         150   1950.0  \n",
       "2                  30720               1                1         150   1950.0  \n",
       "3                  30720               1                1         150   1950.0  \n",
       "4                  30720               1                1         150   1950.0  \n",
       "5                  30720               1                1         150   1950.0  \n",
       "6                  30720               1                1         150   1950.0  \n",
       "7                  30720               1                1         150   1950.0  \n",
       "8                  15360               3                3         200   1150.0  \n",
       "9                  15360               3                3         200    550.0  \n",
       "\n",
       "[10 rows x 21 columns]"
      ]
     },
     "execution_count": 18,
     "metadata": {},
     "output_type": "execute_result"
    }
   ],
   "source": [
    "def det_revenue(row): # функция для расчета выручки с каждого пользователя по месяцам в зависимости от тарифа\n",
    "    messages = row['messages_total']\n",
    "    mb_used = row['mb_used_total']\n",
    "    tariff = row['tariff_name']\n",
    "    duration = row['minutes_total']\n",
    "    calls = row['calls_total']\n",
    "    \n",
    "    if tariff == 'smart':\n",
    "        extra_duration = duration - tariffs.loc[0, 'minutes_included']\n",
    "        extra_gb = np.ceil((mb_used - tariffs.loc[0, 'mb_per_month_included']) / 1024)\n",
    "        extra_messages = messages - tariffs.loc[0, 'messages_included']\n",
    "        \n",
    "        if extra_duration < 0: extra_duration = 0\n",
    "        if extra_gb < 0: extra_gb = 0\n",
    "        if extra_messages < 0: extra_messages = 0\n",
    "        \n",
    "        return (tariffs.loc[0, 'rub_per_message'] * extra_messages + \n",
    "                   (tariffs.loc[0, 'rub_per_gb']) * extra_gb + \n",
    "                   tariffs.loc[0, 'rub_per_minute'] * extra_duration + \n",
    "                   tariffs.loc[0, 'rub_monthly_fee']\n",
    "                  ) \n",
    "    else:\n",
    "        extra_duration = duration - tariffs.loc[1, 'minutes_included']\n",
    "        extra_gb = np.ceil((mb_used - tariffs.loc[1, 'mb_per_month_included']) / 1024)\n",
    "        extra_messages = messages - tariffs.loc[1, 'messages_included']\n",
    "        \n",
    "        if extra_duration < 0: extra_duration = 0\n",
    "        if extra_gb < 0: extra_gb = 0\n",
    "        if extra_messages < 0: extra_messages = 0\n",
    "        \n",
    "        return (tariffs.loc[1, 'rub_per_message'] * extra_messages + \n",
    "                   (tariffs.loc[1, 'rub_per_gb']) * extra_gb + \n",
    "                   tariffs.loc[1, 'rub_per_minute'] * extra_duration + \n",
    "                   tariffs.loc[1, 'rub_monthly_fee']\n",
    "                  )\n",
    "\n",
    "udpm['revenue'] = udpm.apply(det_revenue, axis=1) # применяем функцию для создания столбца 'revenue', т.е. выручки\n",
    "udpm.head(10)"
   ]
  },
  {
   "cell_type": "markdown",
   "metadata": {},
   "source": [
    "Теперь, когда создан объединенный датафрейм и расчитаны основные показатели, необходимо определить средние потребности каждого пользователя в месяц по количеству минут, сообщений и мегабайт. Сделать это можно, построив сводную таблицу и применив агрегирующую функцию mean. "
   ]
  },
  {
   "cell_type": "code",
   "execution_count": 19,
   "metadata": {},
   "outputs": [
    {
     "data": {
      "text/html": [
       "<div>\n",
       "<style scoped>\n",
       "    .dataframe tbody tr th:only-of-type {\n",
       "        vertical-align: middle;\n",
       "    }\n",
       "\n",
       "    .dataframe tbody tr th {\n",
       "        vertical-align: top;\n",
       "    }\n",
       "\n",
       "    .dataframe thead th {\n",
       "        text-align: right;\n",
       "    }\n",
       "</style>\n",
       "<table border=\"1\" class=\"dataframe\">\n",
       "  <thead>\n",
       "    <tr style=\"text-align: right;\">\n",
       "      <th></th>\n",
       "      <th>minutes_mean</th>\n",
       "      <th>messages_mean</th>\n",
       "      <th>mb_used_mean</th>\n",
       "      <th>revenue_mean</th>\n",
       "      <th>tariff_name</th>\n",
       "    </tr>\n",
       "    <tr>\n",
       "      <th>user_id</th>\n",
       "      <th></th>\n",
       "      <th></th>\n",
       "      <th></th>\n",
       "      <th></th>\n",
       "      <th></th>\n",
       "    </tr>\n",
       "  </thead>\n",
       "  <tbody>\n",
       "    <tr>\n",
       "      <th>1000</th>\n",
       "      <td>320.8</td>\n",
       "      <td>62.0</td>\n",
       "      <td>13424.4</td>\n",
       "      <td>1950.0</td>\n",
       "      <td>ultra</td>\n",
       "    </tr>\n",
       "    <tr>\n",
       "      <th>1001</th>\n",
       "      <td>422.0</td>\n",
       "      <td>0.0</td>\n",
       "      <td>16233.5</td>\n",
       "      <td>850.0</td>\n",
       "      <td>smart</td>\n",
       "    </tr>\n",
       "    <tr>\n",
       "      <th>1002</th>\n",
       "      <td>216.7</td>\n",
       "      <td>10.0</td>\n",
       "      <td>16577.3</td>\n",
       "      <td>1035.7</td>\n",
       "      <td>smart</td>\n",
       "    </tr>\n",
       "    <tr>\n",
       "      <th>1003</th>\n",
       "      <td>764.4</td>\n",
       "      <td>76.0</td>\n",
       "      <td>11456.6</td>\n",
       "      <td>1950.0</td>\n",
       "      <td>ultra</td>\n",
       "    </tr>\n",
       "    <tr>\n",
       "      <th>1004</th>\n",
       "      <td>123.4</td>\n",
       "      <td>149.0</td>\n",
       "      <td>18630.6</td>\n",
       "      <td>1950.0</td>\n",
       "      <td>ultra</td>\n",
       "    </tr>\n",
       "  </tbody>\n",
       "</table>\n",
       "</div>"
      ],
      "text/plain": [
       "         minutes_mean  messages_mean  mb_used_mean  revenue_mean tariff_name\n",
       "user_id                                                                     \n",
       "1000            320.8           62.0       13424.4        1950.0       ultra\n",
       "1001            422.0            0.0       16233.5         850.0       smart\n",
       "1002            216.7           10.0       16577.3        1035.7       smart\n",
       "1003            764.4           76.0       11456.6        1950.0       ultra\n",
       "1004            123.4          149.0       18630.6        1950.0       ultra"
      ]
     },
     "execution_count": 19,
     "metadata": {},
     "output_type": "execute_result"
    }
   ],
   "source": [
    "means = udpm.pivot_table(index=['user_id', 'tariff_name'],\n",
    "                         values=['minutes_total', 'messages_total', 'mb_used_total', 'revenue'], \n",
    "                         aggfunc='mean') # расчет средних для каждого пользователя\n",
    "\n",
    "means = means.reset_index(level='tariff_name') # преобразуем индекс в столбец\n",
    "\n",
    "means = means.rename(columns={'mb_used_total' : 'mb_used_mean', \n",
    "                              'messages_total' : 'messages_mean', \n",
    "                              'minutes_total' : 'minutes_mean', \n",
    "                              'revenue' : 'revenue_mean'}) # переименовываем столбцы, т.к теперь они показывают средние значения\n",
    "\n",
    "means = means[['minutes_mean', 'messages_mean', 'mb_used_mean', 'revenue_mean', 'tariff_name']]\n",
    "means.round(1).head() # выводим таблицу со средними значениями"
   ]
  },
  {
   "cell_type": "markdown",
   "metadata": {},
   "source": [
    "Далее, найдем среднее, медиану, дисперсию и стандартное отклонение для пользователей обоих тарифов:"
   ]
  },
  {
   "cell_type": "code",
   "execution_count": 20,
   "metadata": {
    "scrolled": true
   },
   "outputs": [
    {
     "data": {
      "text/html": [
       "<div>\n",
       "<style scoped>\n",
       "    .dataframe tbody tr th:only-of-type {\n",
       "        vertical-align: middle;\n",
       "    }\n",
       "\n",
       "    .dataframe tbody tr th {\n",
       "        vertical-align: top;\n",
       "    }\n",
       "\n",
       "    .dataframe thead tr th {\n",
       "        text-align: left;\n",
       "    }\n",
       "\n",
       "    .dataframe thead tr:last-of-type th {\n",
       "        text-align: right;\n",
       "    }\n",
       "</style>\n",
       "<table border=\"1\" class=\"dataframe\">\n",
       "  <thead>\n",
       "    <tr>\n",
       "      <th></th>\n",
       "      <th colspan=\"4\" halign=\"left\">mb_used_total</th>\n",
       "      <th colspan=\"4\" halign=\"left\">messages_total</th>\n",
       "      <th colspan=\"4\" halign=\"left\">minutes_total</th>\n",
       "    </tr>\n",
       "    <tr>\n",
       "      <th></th>\n",
       "      <th>mean</th>\n",
       "      <th>median</th>\n",
       "      <th>std</th>\n",
       "      <th>var</th>\n",
       "      <th>mean</th>\n",
       "      <th>median</th>\n",
       "      <th>std</th>\n",
       "      <th>var</th>\n",
       "      <th>mean</th>\n",
       "      <th>median</th>\n",
       "      <th>std</th>\n",
       "      <th>var</th>\n",
       "    </tr>\n",
       "    <tr>\n",
       "      <th>tariff_name</th>\n",
       "      <th></th>\n",
       "      <th></th>\n",
       "      <th></th>\n",
       "      <th></th>\n",
       "      <th></th>\n",
       "      <th></th>\n",
       "      <th></th>\n",
       "      <th></th>\n",
       "      <th></th>\n",
       "      <th></th>\n",
       "      <th></th>\n",
       "      <th></th>\n",
       "    </tr>\n",
       "  </thead>\n",
       "  <tbody>\n",
       "    <tr>\n",
       "      <th>smart</th>\n",
       "      <td>16201.6</td>\n",
       "      <td>16506.0</td>\n",
       "      <td>5879.2</td>\n",
       "      <td>34564916.9</td>\n",
       "      <td>33.4</td>\n",
       "      <td>28.0</td>\n",
       "      <td>28.2</td>\n",
       "      <td>797.0</td>\n",
       "      <td>417.7</td>\n",
       "      <td>421.5</td>\n",
       "      <td>190.5</td>\n",
       "      <td>36281.4</td>\n",
       "    </tr>\n",
       "    <tr>\n",
       "      <th>ultra</th>\n",
       "      <td>19449.6</td>\n",
       "      <td>19305.0</td>\n",
       "      <td>10101.1</td>\n",
       "      <td>102032693.0</td>\n",
       "      <td>49.3</td>\n",
       "      <td>38.0</td>\n",
       "      <td>47.8</td>\n",
       "      <td>2285.4</td>\n",
       "      <td>526.1</td>\n",
       "      <td>518.0</td>\n",
       "      <td>317.9</td>\n",
       "      <td>101052.5</td>\n",
       "    </tr>\n",
       "  </tbody>\n",
       "</table>\n",
       "</div>"
      ],
      "text/plain": [
       "            mb_used_total                                messages_total  \\\n",
       "                     mean   median      std          var           mean   \n",
       "tariff_name                                                               \n",
       "smart             16201.6  16506.0   5879.2   34564916.9           33.4   \n",
       "ultra             19449.6  19305.0  10101.1  102032693.0           49.3   \n",
       "\n",
       "                                 minutes_total                          \n",
       "            median   std     var          mean median    std       var  \n",
       "tariff_name                                                             \n",
       "smart         28.0  28.2   797.0         417.7  421.5  190.5   36281.4  \n",
       "ultra         38.0  47.8  2285.4         526.1  518.0  317.9  101052.5  "
      ]
     },
     "execution_count": 20,
     "metadata": {},
     "output_type": "execute_result"
    }
   ],
   "source": [
    "stats = udpm.pivot_table(index=['tariff_name'], values=['minutes_total', 'mb_used_total', 'messages_total'], \n",
    "                    aggfunc={'minutes_total': [np.mean, np.median, np.var, np.std], \n",
    "                             'mb_used_total': [np.mean, np.median, np.var, np.std], \n",
    "                             'messages_total': [np.mean, np.median, np.var, np.std]})\n",
    "stats.round(1)"
   ]
  },
  {
   "cell_type": "markdown",
   "metadata": {},
   "source": [
    "Согласно таблице, в среднем, пользователи тарифа ultra расходуют больше минут, сообщений и мегабайт, чем пользователи тарифа smart. Примечательно, что пользователи тарифа ultra в среднем расходуют Мб трафика существенно меньше лимита (19449 из 30720 Мб), в то время как пользователям smart лимита часто не хватает (в среднем, расход 16201 Мб при лимите 15360). Также стоит отметить, что дисперсия всех трех величин у тарифа ultra больше, чем у тарифа smart.\n",
    "\n",
    "Построим диаграммы размаха и гистограммы для оценки характеристик распределения."
   ]
  },
  {
   "cell_type": "code",
   "execution_count": 21,
   "metadata": {},
   "outputs": [
    {
     "data": {
      "image/png": "[encoded data removed]",
      "text/plain": [
       "<Figure size 360x360 with 1 Axes>"
      ]
     },
     "metadata": {
      "needs_background": "light"
     },
     "output_type": "display_data"
    },
    {
     "data": {
      "image/png": "[encoded data removed]",
      "text/plain": [
       "<Figure size 360x360 with 1 Axes>"
      ]
     },
     "metadata": {
      "needs_background": "light"
     },
     "output_type": "display_data"
    },
    {
     "data": {
      "image/png": "[encoded data removed]",
      "text/plain": [
       "<Figure size 360x360 with 1 Axes>"
      ]
     },
     "metadata": {
      "needs_background": "light"
     },
     "output_type": "display_data"
    }
   ],
   "source": [
    "for column in ['minutes_total', 'mb_used_total', 'messages_total']: # строим диаграммы размаха    \n",
    "    sns.catplot(x='tariff_name', y=column, kind=\"box\", data=udpm, orient='v')"
   ]
  },
  {
   "cell_type": "markdown",
   "metadata": {},
   "source": [
    "Согласно графикам, медианы по всем 3 признакам тарифа ultra смещены в большую сторону. Дисперсия всех трех величин также больше у тарифа ultra. А вот выбросов, наоборот, существенно больше у тарифа smart."
   ]
  },
  {
   "cell_type": "code",
   "execution_count": 22,
   "metadata": {},
   "outputs": [
    {
     "data": {
      "image/png": "[encoded data removed]",
      "text/plain": [
       "<Figure size 432x288 with 1 Axes>"
      ]
     },
     "metadata": {
      "needs_background": "light"
     },
     "output_type": "display_data"
    }
   ],
   "source": [
    "for tariff in ['ultra', 'smart']: # строим гистограммы\n",
    "    sns.distplot(udpm.query('tariff_name == @tariff')['minutes_total'], kde=False, label=tariff, bins=10)\n",
    "_ = plt.legend(['ultra', 'smart'])"
   ]
  },
  {
   "cell_type": "code",
   "execution_count": 23,
   "metadata": {},
   "outputs": [
    {
     "data": {
      "image/png": "[encoded data removed]",
      "text/plain": [
       "<Figure size 432x288 with 1 Axes>"
      ]
     },
     "metadata": {
      "needs_background": "light"
     },
     "output_type": "display_data"
    }
   ],
   "source": [
    "for tariff in ['ultra', 'smart']:\n",
    "    sns.distplot(udpm.query('tariff_name == @tariff')['mb_used_total'], kde=False, bins=10)\n",
    "_ = plt.legend(['ultra', 'smart'])"
   ]
  },
  {
   "cell_type": "code",
   "execution_count": 24,
   "metadata": {},
   "outputs": [
    {
     "data": {
      "image/png": "[encoded data removed]",
      "text/plain": [
       "<Figure size 432x288 with 1 Axes>"
      ]
     },
     "metadata": {
      "needs_background": "light"
     },
     "output_type": "display_data"
    }
   ],
   "source": [
    "# check\n",
    "for tariff in ['ultra', 'smart']:\n",
    "    sns.distplot(udpm.query('tariff_name == @tariff')['mb_used_total'], kde=False, bins=50)\n",
    "_ = plt.legend(['ultra', 'smart'])"
   ]
  },
  {
   "cell_type": "code",
   "execution_count": 25,
   "metadata": {
    "scrolled": true
   },
   "outputs": [
    {
     "data": {
      "image/png": "[encoded data removed]",
      "text/plain": [
       "<Figure size 432x288 with 1 Axes>"
      ]
     },
     "metadata": {
      "needs_background": "light"
     },
     "output_type": "display_data"
    }
   ],
   "source": [
    "for tariff in ['ultra', 'smart']:\n",
    "    sns.distplot(udpm.query('tariff_name == @tariff')['messages_total'], kde=False, label=tariff, bins=10)\n",
    "_ = plt.legend(['ultra', 'smart'])"
   ]
  },
  {
   "cell_type": "markdown",
   "metadata": {},
   "source": [
    "Гистограммы подтверждают предыдущий вывод о том, что дисперсия всех величин у тарифа ultra больше, чем у тарифа smart. Форма самих гистограмм достаточно сильно различается: мода у тарифа smart во всех трех случаях выражена гораздо сильнее, чем у тарифа ultra (выраженная мода у тарифа ultra есть только на гистограмме распрелеления сообщений). Разница в моде свидетельствует о наличии большей вариативности расходования лимитов у пользователей тарифа ultra. Вероятно, причина этого кроется в размерах самих лимитов: чем они больше, тем свободнее пользователи могут их расходовать, не опасаясь лишних переплат. Гистограммы распределения минут и сообщений скошены вправо, в то время как гистограмма распределения интернет-трафика ближе к нормальному распределению."
   ]
  },
  {
   "attachments": {
    "image.png": {
     "image/png": "[encoded data removed]"
    }
   },
   "cell_type": "markdown",
   "metadata": {},
   "source": [
    "![image.png](attachment:image.png)"
   ]
  },
  {
   "cell_type": "markdown",
   "metadata": {},
   "source": [
    "### Проверка гипотез"
   ]
  },
  {
   "cell_type": "markdown",
   "metadata": {},
   "source": [
    "Перейдем к проверке гипотез. \n",
    "Первая гипотеза, которую необходимо проверить, имеет следующую формулировку: \"Средняя выручка пользователей тарифов «Ультра» и «Смарт» различаются\". Примем в качестве нулевой гипотезы H₀ обратное утверждение: \"Средняя выручка пользователей тарифа «Ультра» равна средней выручке пользователей тарифа «Смарт»\", поскольку H₀ всегда формулируется так, чтобы использовать знак равенства. Другими словами, чтобы все данные лежали в районе изначально предполагаемого значения. Тогда, альтернативной гипотезой H₁ признаем изначальную: \"Средняя выручка пользователей тарифов «Ультра» и «Смарт» различаются\". Данная альтернативная гипотеза является двусторонней, потому что есть возможное отклонение и в большую, и в меньшую стороны. Критический уровень статистической значимости alpha установим равным 1%, поскольку объем выборки измеряется сотнями. "
   ]
  },
  {
   "cell_type": "code",
   "execution_count": 26,
   "metadata": {},
   "outputs": [
    {
     "name": "stdout",
     "output_type": "stream",
     "text": [
      "p-значение: 1.927011394420941e-250\n",
      "Отвергаем нулевую гипотезу\n"
     ]
    }
   ],
   "source": [
    "ultra = udpm.query('tariff_name == \"ultra\"')['revenue'] # проверяем нулевую и альтернативную гипотезы \n",
    "smart = udpm.query('tariff_name == \"smart\"')['revenue'] # с помощью t-теста\n",
    "\n",
    "alpha = .01\n",
    "\n",
    "results = st.ttest_ind(ultra, smart, equal_var=False)\n",
    "\n",
    "print('p-значение:', results.pvalue)\n",
    "\n",
    "if (results.pvalue < alpha):\n",
    "    print(\"Отвергаем нулевую гипотезу\")\n",
    "else:\n",
    "    print(\"Не получилось отвергнуть нулевую гипотезу\")"
   ]
  },
  {
   "cell_type": "code",
   "execution_count": 27,
   "metadata": {},
   "outputs": [
    {
     "data": {
      "text/html": [
       "<div>\n",
       "<style scoped>\n",
       "    .dataframe tbody tr th:only-of-type {\n",
       "        vertical-align: middle;\n",
       "    }\n",
       "\n",
       "    .dataframe tbody tr th {\n",
       "        vertical-align: top;\n",
       "    }\n",
       "\n",
       "    .dataframe thead th {\n",
       "        text-align: right;\n",
       "    }\n",
       "</style>\n",
       "<table border=\"1\" class=\"dataframe\">\n",
       "  <thead>\n",
       "    <tr style=\"text-align: right;\">\n",
       "      <th></th>\n",
       "      <th>revenue</th>\n",
       "    </tr>\n",
       "    <tr>\n",
       "      <th>tariff_name</th>\n",
       "      <th></th>\n",
       "    </tr>\n",
       "  </thead>\n",
       "  <tbody>\n",
       "    <tr>\n",
       "      <th>smart</th>\n",
       "      <td>1289.641704</td>\n",
       "    </tr>\n",
       "    <tr>\n",
       "      <th>ultra</th>\n",
       "      <td>2070.030426</td>\n",
       "    </tr>\n",
       "  </tbody>\n",
       "</table>\n",
       "</div>"
      ],
      "text/plain": [
       "                 revenue\n",
       "tariff_name             \n",
       "smart        1289.641704\n",
       "ultra        2070.030426"
      ]
     },
     "execution_count": 27,
     "metadata": {},
     "output_type": "execute_result"
    }
   ],
   "source": [
    "udpm.pivot_table(index='tariff_name', values='revenue', aggfunc='mean') # средняя выручка по тарифам"
   ]
  },
  {
   "cell_type": "code",
   "execution_count": 28,
   "metadata": {},
   "outputs": [
    {
     "data": {
      "text/html": [
       "<div>\n",
       "<style scoped>\n",
       "    .dataframe tbody tr th:only-of-type {\n",
       "        vertical-align: middle;\n",
       "    }\n",
       "\n",
       "    .dataframe tbody tr th {\n",
       "        vertical-align: top;\n",
       "    }\n",
       "\n",
       "    .dataframe thead th {\n",
       "        text-align: right;\n",
       "    }\n",
       "</style>\n",
       "<table border=\"1\" class=\"dataframe\">\n",
       "  <thead>\n",
       "    <tr style=\"text-align: right;\">\n",
       "      <th></th>\n",
       "      <th>revenue</th>\n",
       "    </tr>\n",
       "    <tr>\n",
       "      <th>tariff_name</th>\n",
       "      <th></th>\n",
       "    </tr>\n",
       "  </thead>\n",
       "  <tbody>\n",
       "    <tr>\n",
       "      <th>smart</th>\n",
       "      <td>2875901.0</td>\n",
       "    </tr>\n",
       "    <tr>\n",
       "      <th>ultra</th>\n",
       "      <td>2041050.0</td>\n",
       "    </tr>\n",
       "  </tbody>\n",
       "</table>\n",
       "</div>"
      ],
      "text/plain": [
       "               revenue\n",
       "tariff_name           \n",
       "smart        2875901.0\n",
       "ultra        2041050.0"
      ]
     },
     "execution_count": 28,
     "metadata": {},
     "output_type": "execute_result"
    }
   ],
   "source": [
    "udpm.pivot_table(index='tariff_name', values='revenue', aggfunc='sum') # общая выручка по тарифам"
   ]
  },
  {
   "cell_type": "code",
   "execution_count": 29,
   "metadata": {},
   "outputs": [
    {
     "data": {
      "image/png": "[encoded data removed]",
      "text/plain": [
       "<Figure size 360x360 with 1 Axes>"
      ]
     },
     "metadata": {
      "needs_background": "light"
     },
     "output_type": "display_data"
    }
   ],
   "source": [
    "_ = sns.catplot(x=\"tariff_name\", y='revenue', kind=\"box\", data=udpm, orient='v')"
   ]
  },
  {
   "cell_type": "markdown",
   "metadata": {},
   "source": [
    "Средняя выручка по тарифам различается примерно в 1,6 раза (smart - 1289 руб., ultra - 2070 руб.). Примечательно, что средняя выручка по тарифу smart не совпадает с установленной ежемесячной платой в 550 руб. Это свидетельствует о том, что пользователям данного тарифа часто приходится доплачивать из-за исчерпывания лимитов.\n",
    "\n",
    "Нулевая гипотеза о равенстве выручки пользователей тарифов smart и ultra оказалась отвергнута. Следовательно, выручка действительно различается. P-значение 1.92 свидетельствует о том, что вероятность ошибки в данном случае минимальна.\n",
    "\n",
    "Перейдем ко второй гипотезе. Ее формулировка: \"Средняя выручка пользователей из Москвы отличается от выручки пользователей из других регионов\". По аналогии с первой гипотезой, примем за H₀ обратное утверждение: \"Средняя выручка пользователей из Москвы равна средней выручке пользователей из других регионов\". Тогда H₁: \"Средняя выручка пользователей из Москвы отличается от выручки пользователей из других регионов\". Критический уровень статистической значимости alpha как и ранее установим равным 1%.    "
   ]
  },
  {
   "cell_type": "code",
   "execution_count": 30,
   "metadata": {},
   "outputs": [
    {
     "name": "stdout",
     "output_type": "stream",
     "text": [
      "p-значение: 0.5216952110000278\n",
      "Не получилось отвергнуть нулевую гипотезу\n"
     ]
    }
   ],
   "source": [
    "moscow = udpm.query('city == \"Москва\"')['revenue']  # проверяем нулевую и альтернативную гипотезы \n",
    "regions = udpm.query('city != \"Москва\"')['revenue'] # с помощью t-теста\n",
    "\n",
    "alpha = .01\n",
    "\n",
    "results = st.ttest_ind(\n",
    "    moscow, \n",
    "    regions, \n",
    "    equal_var=False)\n",
    "\n",
    "print('p-значение:', results.pvalue)\n",
    "\n",
    "if (results.pvalue < alpha):\n",
    "    print(\"Отвергаем нулевую гипотезу\")\n",
    "else:\n",
    "    print(\"Не получилось отвергнуть нулевую гипотезу\")"
   ]
  },
  {
   "cell_type": "code",
   "execution_count": 31,
   "metadata": {},
   "outputs": [
    {
     "data": {
      "text/html": [
       "<div>\n",
       "<style scoped>\n",
       "    .dataframe tbody tr th:only-of-type {\n",
       "        vertical-align: middle;\n",
       "    }\n",
       "\n",
       "    .dataframe tbody tr th {\n",
       "        vertical-align: top;\n",
       "    }\n",
       "\n",
       "    .dataframe thead th {\n",
       "        text-align: right;\n",
       "    }\n",
       "</style>\n",
       "<table border=\"1\" class=\"dataframe\">\n",
       "  <thead>\n",
       "    <tr style=\"text-align: right;\">\n",
       "      <th></th>\n",
       "      <th>revenue</th>\n",
       "    </tr>\n",
       "    <tr>\n",
       "      <th>region</th>\n",
       "      <th></th>\n",
       "    </tr>\n",
       "  </thead>\n",
       "  <tbody>\n",
       "    <tr>\n",
       "      <th>Другой регион</th>\n",
       "      <td>1524.725144</td>\n",
       "    </tr>\n",
       "    <tr>\n",
       "      <th>Москва</th>\n",
       "      <td>1546.713584</td>\n",
       "    </tr>\n",
       "  </tbody>\n",
       "</table>\n",
       "</div>"
      ],
      "text/plain": [
       "                   revenue\n",
       "region                    \n",
       "Другой регион  1524.725144\n",
       "Москва         1546.713584"
      ]
     },
     "execution_count": 31,
     "metadata": {},
     "output_type": "execute_result"
    }
   ],
   "source": [
    "def get_region(city):\n",
    "    if city == 'Москва': return 'Москва'\n",
    "    else: return 'Другой регион'\n",
    "    \n",
    "udpm['region'] = udpm['city'].apply(get_region)\n",
    "udpm.pivot_table(index='region', values='revenue', aggfunc='mean')"
   ]
  },
  {
   "cell_type": "code",
   "execution_count": 32,
   "metadata": {},
   "outputs": [
    {
     "data": {
      "image/png": "[encoded data removed]",
      "text/plain": [
       "<Figure size 360x360 with 1 Axes>"
      ]
     },
     "metadata": {
      "needs_background": "light"
     },
     "output_type": "display_data"
    }
   ],
   "source": [
    "_ = sns.catplot(x=\"region\", y='revenue', kind=\"box\", data=udpm, orient='v')"
   ]
  },
  {
   "cell_type": "code",
   "execution_count": 33,
   "metadata": {},
   "outputs": [
    {
     "data": {
      "text/plain": [
       "Москва             99\n",
       "Санкт-Петербург    39\n",
       "Новосибирск        16\n",
       "Казань             14\n",
       "Омск               14\n",
       "                   ..\n",
       "Архангельск         1\n",
       "Подольск            1\n",
       "Нижневартовск       1\n",
       "Иваново             1\n",
       "Химки               1\n",
       "Name: city, Length: 76, dtype: int64"
      ]
     },
     "execution_count": 33,
     "metadata": {},
     "output_type": "execute_result"
    }
   ],
   "source": [
    "users['city'].value_counts() # количество пользователей по городам"
   ]
  },
  {
   "cell_type": "markdown",
   "metadata": {},
   "source": [
    "В результате t-теста нулевая гипотеза не была отвергнута. Действительно, согласно расчетам, средняя выручка с пользователя в Москве практически равна средней выручке с пользователей в других регионах (Москва - 1546 руб., другие регионы - 1524 руб.), при том, что последних количественно гораздо больше (99 в Москве, 401 в остальных регионах вместе взятых). По всей видимости, региональный фактор не оказывает достаточно существенного влияния на выручку пользователей, хотя и непосредственно определяет их количество (лидеры по количеству пользователей - Москва, Санкт-Петербург). P-значение 0.52 означает, что вероятность получения наблюдаемых результатов (в случае, если не была отвергнута нулевая гипотеза) составляет около 52%. "
   ]
  },
  {
   "cell_type": "code",
   "execution_count": 34,
   "metadata": {},
   "outputs": [
    {
     "name": "stdout",
     "output_type": "stream",
     "text": [
      "p-значение: 0.1912450522572209\n",
      "Не получилось отвергнуть нулевую гипотезу\n"
     ]
    }
   ],
   "source": [
    "# Приведены два датасета: сумма покупок, совершённых за месяц посетителями ...\n",
    "\n",
    "sample_1 = [3071, 3636, 3454, 3151, 2185, 3259, 1727, 2263, 2015,\n",
    "2582, 4815, 633, 3186, 887, 2028, 3589, 2564, 1422, 1785,\n",
    "3180, 1770, 2716, 2546, 1848, 4644, 3134, 475, 2686,\n",
    "1838, 3352]\n",
    "sample_2 = [1211, 1228, 2157, 3699, 600, 1898, 1688, 1420, 5048, 3007,\n",
    "509, 3777, 5583, 3949, 121, 1674, 4300, 1338, 3066,\n",
    "3562, 1010, 2311, 462, 863, 2021, 528, 1849, 255,\n",
    "1740, 2596]\n",
    "alpha = .05 # критический уровень статистической значимости\n",
    "# если p-value окажется меньше него - отвергнем гипотезу\n",
    "results = st.ttest_ind(\n",
    "sample_1,\n",
    "sample_2)\n",
    "print('p-значение:', results.pvalue)\n",
    "if (results.pvalue < alpha):\n",
    "    print(\"Отвергаем нулевую гипотезу\")\n",
    "else:\n",
    "\n",
    "    print(\"Не получилось отвергнуть нулевую гипотезу\")"
   ]
  },
  {
   "cell_type": "markdown",
   "metadata": {},
   "source": [
    "### Общий вывод"
   ]
  },
  {
   "cell_type": "markdown",
   "metadata": {},
   "source": [
    "В ходе проведенного исследования были проанализированы данные о клиентах компании «Мегалайн», федерального оператора сотовой связи. Задача — проанализировать поведение клиентов и сделать вывод — какой тариф лучше.\n",
    "\n",
    "В полученных входных данных наблюдалось несоответствие типов данных содержанию столбцов. Проблема были устранена в процессе исследования, а данные — приведены в пригодное для проведения анализа состояние.\n",
    "\n",
    "В результате исследовательского анализа данных было установлено следующее:\n",
    "\n",
    "- Суммарная выручка за 2018 год: тариф smart - 2875901 руб., ultra - 2041050. Выручка с тарифа smart больше на 834851 руб. (40,9%).   \n",
    "\n",
    "\n",
    "- Пользователей тарифа smart больше на 202 человека (smart - 351 чел., ultra - 149 чел.). \n",
    "\n",
    "\n",
    "- В среднем, пользователи тарифа ultra расходуют больше минут, сообщений и мегабайт, чем пользователи тарифа smart, однако, как правило, не превышают лимитов. Примечательно, что пользователи тарифа ultra в среднем расходуют Мб трафика существенно меньше лимита (19449 из 30720 Мб), в то время как пользователям smart лимита часто не хватает (в среднем, расход 16201 Мб при лимите 15360).\n",
    "\n",
    "\n",
    "- Мода признаков тарифа smart во всех трех случаях выражена гораздо сильнее, чем у тарифа ultra. Разница в моде свидетельствует о наличии большей вариативности расходования лимитов у пользователей тарифа ultra. Вероятно, причина этого кроется в размерах самих лимитов: чем они больше, тем свободнее пользователи могут их расходовать, не опасаясь лишних переплат.\n",
    "\n",
    "\n",
    "- Средняя выручка с пользователя по тарифам различается примерно в 1,6 раза (smart - 1289 руб., ultra - 2070 руб.). Средняя выручка по тарифу smart не совпадает с установленной ежемесячной платой в 550 руб. Это свидетельствует о том, что пользователям данного тарифа часто приходится доплачивать из-за исчерпывания лимитов. Гипотеза о равенстве выручки пользователей тарифов smart и ultra оказалась отвергнута.\n",
    "\n",
    "\n",
    "- Средняя выручка с пользователя в Москве практически равна средней выручке с пользователей в других регионах (регионы - 1524 руб., Москва - 1546 руб.). Разница статистически незначима (p-значение: 0,52). По всей видимости, региональный фактор не оказывает достаточно существенного влияния на выручку пользователей, хотя и непосредственно определяет их количество (лидеры по количеству пользователей - Москва, Санкт-Петербург).\n",
    "\n",
    "\n",
    "- В целом, можно сделать предварительный вывод о том, что тариф ultra является для компании «Мегалайн» значительно более выгодным, поскольку в среднем приносит на 60,5% больше денег с пользователя, чем тариф smart. \n",
    "\n",
    "\n",
    "\n",
    "Таким образом, в ходе проведенного исследования поставленная задача была выполнена."
   ]
  }
 ],
 "metadata": {
  "ExecuteTimeLog": [
   {
    "duration": 883,
    "start_time": "2023-03-03T11:35:01.806Z"
   },
   {
    "duration": 1085,
    "start_time": "2023-03-03T11:41:34.202Z"
   },
   {
    "duration": 111,
    "start_time": "2023-03-03T12:03:56.978Z"
   },
   {
    "duration": 51,
    "start_time": "2023-03-03T12:07:00.862Z"
   },
   {
    "duration": 290,
    "start_time": "2023-03-03T12:08:48.933Z"
   },
   {
    "duration": 79,
    "start_time": "2023-03-03T13:20:09.641Z"
   },
   {
    "duration": 678,
    "start_time": "2023-03-03T13:28:09.981Z"
   },
   {
    "duration": 1036,
    "start_time": "2023-03-03T13:28:10.661Z"
   },
   {
    "duration": 82,
    "start_time": "2023-03-03T13:28:11.699Z"
   },
   {
    "duration": 740,
    "start_time": "2023-03-03T13:33:19.964Z"
   },
   {
    "duration": 1041,
    "start_time": "2023-03-03T13:33:20.707Z"
   },
   {
    "duration": 90,
    "start_time": "2023-03-03T13:33:21.749Z"
   },
   {
    "duration": 83,
    "start_time": "2023-03-03T13:33:21.842Z"
   },
   {
    "duration": 680,
    "start_time": "2023-03-03T13:33:45.600Z"
   },
   {
    "duration": 481,
    "start_time": "2023-03-03T13:33:46.282Z"
   },
   {
    "duration": 92,
    "start_time": "2023-03-03T13:33:46.764Z"
   },
   {
    "duration": 121,
    "start_time": "2023-03-03T13:33:46.858Z"
   },
   {
    "duration": 49,
    "start_time": "2023-03-03T13:35:32.955Z"
   },
   {
    "duration": 747,
    "start_time": "2023-03-03T13:36:17.618Z"
   },
   {
    "duration": 505,
    "start_time": "2023-03-03T13:36:18.368Z"
   },
   {
    "duration": 102,
    "start_time": "2023-03-03T13:36:18.875Z"
   },
   {
    "duration": 93,
    "start_time": "2023-03-03T13:36:18.980Z"
   },
   {
    "duration": 734,
    "start_time": "2023-03-03T13:36:32.180Z"
   },
   {
    "duration": 477,
    "start_time": "2023-03-03T13:36:32.917Z"
   },
   {
    "duration": 105,
    "start_time": "2023-03-03T13:36:33.396Z"
   },
   {
    "duration": 73,
    "start_time": "2023-03-03T13:36:33.504Z"
   },
   {
    "duration": 935,
    "start_time": "2023-03-03T13:37:20.488Z"
   },
   {
    "duration": 550,
    "start_time": "2023-03-03T13:37:21.426Z"
   },
   {
    "duration": 112,
    "start_time": "2023-03-03T13:37:21.978Z"
   },
   {
    "duration": 160,
    "start_time": "2023-03-03T13:37:22.092Z"
   },
   {
    "duration": 694,
    "start_time": "2023-03-03T13:37:52.802Z"
   },
   {
    "duration": 483,
    "start_time": "2023-03-03T13:37:53.498Z"
   },
   {
    "duration": 93,
    "start_time": "2023-03-03T13:37:53.983Z"
   },
   {
    "duration": 97,
    "start_time": "2023-03-03T13:37:54.078Z"
   },
   {
    "duration": 84,
    "start_time": "2023-03-03T13:38:31.236Z"
   },
   {
    "duration": 668,
    "start_time": "2023-03-03T13:39:51.190Z"
   },
   {
    "duration": 556,
    "start_time": "2023-03-03T13:39:51.860Z"
   },
   {
    "duration": 0,
    "start_time": "2023-03-03T13:39:52.418Z"
   },
   {
    "duration": 0,
    "start_time": "2023-03-03T13:39:52.420Z"
   },
   {
    "duration": 509,
    "start_time": "2023-03-03T13:40:14.505Z"
   },
   {
    "duration": 680,
    "start_time": "2023-03-03T13:40:37.093Z"
   },
   {
    "duration": 475,
    "start_time": "2023-03-03T13:40:37.775Z"
   },
   {
    "duration": 88,
    "start_time": "2023-03-03T13:40:38.252Z"
   },
   {
    "duration": 73,
    "start_time": "2023-03-03T13:40:38.342Z"
   },
   {
    "duration": 723,
    "start_time": "2023-03-03T13:42:36.560Z"
   },
   {
    "duration": 506,
    "start_time": "2023-03-03T13:42:37.285Z"
   },
   {
    "duration": 98,
    "start_time": "2023-03-03T13:42:37.793Z"
   },
   {
    "duration": 96,
    "start_time": "2023-03-03T13:42:37.893Z"
   },
   {
    "duration": 690,
    "start_time": "2023-03-03T13:49:40.739Z"
   },
   {
    "duration": 523,
    "start_time": "2023-03-03T13:49:41.432Z"
   },
   {
    "duration": 96,
    "start_time": "2023-03-03T13:49:41.957Z"
   },
   {
    "duration": 52,
    "start_time": "2023-03-03T13:49:42.056Z"
   },
   {
    "duration": 314,
    "start_time": "2023-03-03T13:49:42.109Z"
   },
   {
    "duration": 218,
    "start_time": "2023-03-03T13:50:41.142Z"
   },
   {
    "duration": 12,
    "start_time": "2023-03-03T13:51:55.673Z"
   },
   {
    "duration": 648,
    "start_time": "2023-03-03T13:56:23.577Z"
   },
   {
    "duration": 494,
    "start_time": "2023-03-03T13:56:24.227Z"
   },
   {
    "duration": 75,
    "start_time": "2023-03-03T13:56:24.723Z"
   },
   {
    "duration": 68,
    "start_time": "2023-03-03T13:56:24.801Z"
   },
   {
    "duration": 278,
    "start_time": "2023-03-03T13:56:24.870Z"
   },
   {
    "duration": 8,
    "start_time": "2023-03-03T13:56:25.150Z"
   },
   {
    "duration": 730,
    "start_time": "2023-03-03T14:24:20.343Z"
   },
   {
    "duration": 542,
    "start_time": "2023-03-03T14:24:21.075Z"
   },
   {
    "duration": 86,
    "start_time": "2023-03-03T14:24:21.618Z"
   },
   {
    "duration": 101,
    "start_time": "2023-03-03T14:24:21.706Z"
   },
   {
    "duration": 775,
    "start_time": "2023-03-03T14:30:52.024Z"
   },
   {
    "duration": 501,
    "start_time": "2023-03-03T14:30:52.801Z"
   },
   {
    "duration": 85,
    "start_time": "2023-03-03T14:30:53.304Z"
   },
   {
    "duration": 297,
    "start_time": "2023-03-03T14:30:53.392Z"
   },
   {
    "duration": 700,
    "start_time": "2023-03-03T14:31:23.720Z"
   },
   {
    "duration": 492,
    "start_time": "2023-03-03T14:31:24.422Z"
   },
   {
    "duration": 74,
    "start_time": "2023-03-03T14:31:24.916Z"
   },
   {
    "duration": 96,
    "start_time": "2023-03-03T14:31:24.992Z"
   },
   {
    "duration": 691,
    "start_time": "2023-03-03T14:51:55.165Z"
   },
   {
    "duration": 505,
    "start_time": "2023-03-03T14:51:55.858Z"
   },
   {
    "duration": 96,
    "start_time": "2023-03-03T14:51:56.364Z"
   },
   {
    "duration": 88,
    "start_time": "2023-03-03T14:51:56.462Z"
   },
   {
    "duration": 689,
    "start_time": "2023-03-03T14:52:43.524Z"
   },
   {
    "duration": 1056,
    "start_time": "2023-03-03T14:52:44.215Z"
   },
   {
    "duration": 91,
    "start_time": "2023-03-03T14:52:45.273Z"
   },
   {
    "duration": 77,
    "start_time": "2023-03-03T14:52:45.365Z"
   },
   {
    "duration": 743,
    "start_time": "2023-03-03T14:53:41.595Z"
   },
   {
    "duration": 1151,
    "start_time": "2023-03-03T14:53:42.341Z"
   },
   {
    "duration": 89,
    "start_time": "2023-03-03T14:53:43.494Z"
   },
   {
    "duration": 81,
    "start_time": "2023-03-03T14:53:43.585Z"
   },
   {
    "duration": 679,
    "start_time": "2023-03-03T14:54:45.463Z"
   },
   {
    "duration": 1066,
    "start_time": "2023-03-03T14:54:46.145Z"
   },
   {
    "duration": 86,
    "start_time": "2023-03-03T14:54:47.213Z"
   },
   {
    "duration": 75,
    "start_time": "2023-03-03T14:54:47.301Z"
   },
   {
    "duration": 33,
    "start_time": "2023-03-03T14:54:47.378Z"
   },
   {
    "duration": 55,
    "start_time": "2023-03-03T14:55:45.805Z"
   },
   {
    "duration": 60,
    "start_time": "2023-03-03T14:55:50.145Z"
   },
   {
    "duration": 679,
    "start_time": "2023-03-03T14:56:45.972Z"
   },
   {
    "duration": 508,
    "start_time": "2023-03-03T14:56:46.654Z"
   },
   {
    "duration": 112,
    "start_time": "2023-03-03T14:56:47.164Z"
   },
   {
    "duration": 79,
    "start_time": "2023-03-03T14:56:47.279Z"
   },
   {
    "duration": 33,
    "start_time": "2023-03-03T14:56:47.359Z"
   },
   {
    "duration": 82,
    "start_time": "2023-03-03T14:56:47.394Z"
   },
   {
    "duration": 14,
    "start_time": "2023-03-03T14:56:47.478Z"
   },
   {
    "duration": 51,
    "start_time": "2023-03-03T14:57:56.066Z"
   },
   {
    "duration": 707,
    "start_time": "2023-03-03T14:58:01.300Z"
   },
   {
    "duration": 1158,
    "start_time": "2023-03-03T14:58:02.010Z"
   },
   {
    "duration": 113,
    "start_time": "2023-03-03T14:58:03.173Z"
   },
   {
    "duration": 74,
    "start_time": "2023-03-03T14:58:03.287Z"
   },
   {
    "duration": 34,
    "start_time": "2023-03-03T14:58:03.362Z"
   },
   {
    "duration": 80,
    "start_time": "2023-03-03T14:58:03.398Z"
   },
   {
    "duration": 14,
    "start_time": "2023-03-03T14:58:03.480Z"
   },
   {
    "duration": 751,
    "start_time": "2023-03-03T14:59:02.971Z"
   },
   {
    "duration": 1147,
    "start_time": "2023-03-03T14:59:03.724Z"
   },
   {
    "duration": 104,
    "start_time": "2023-03-03T14:59:04.873Z"
   },
   {
    "duration": 142,
    "start_time": "2023-03-03T14:59:04.979Z"
   },
   {
    "duration": 113,
    "start_time": "2023-03-03T15:01:52.791Z"
   },
   {
    "duration": 59,
    "start_time": "2023-03-03T15:09:01.074Z"
   },
   {
    "duration": 115,
    "start_time": "2023-03-03T15:09:18.132Z"
   },
   {
    "duration": 57,
    "start_time": "2023-03-03T15:11:23.675Z"
   },
   {
    "duration": 22,
    "start_time": "2023-03-03T15:11:35.809Z"
   },
   {
    "duration": 52,
    "start_time": "2023-03-03T15:11:50.292Z"
   },
   {
    "duration": 52,
    "start_time": "2023-03-03T15:12:28.628Z"
   },
   {
    "duration": 38,
    "start_time": "2023-03-03T15:12:41.081Z"
   },
   {
    "duration": 104,
    "start_time": "2023-03-03T15:13:02.893Z"
   },
   {
    "duration": 65,
    "start_time": "2023-03-03T15:13:16.873Z"
   },
   {
    "duration": 1053,
    "start_time": "2023-03-03T15:16:00.473Z"
   },
   {
    "duration": 632,
    "start_time": "2023-03-03T15:16:01.529Z"
   },
   {
    "duration": 99,
    "start_time": "2023-03-03T15:16:02.163Z"
   },
   {
    "duration": 123,
    "start_time": "2023-03-03T15:16:02.264Z"
   },
   {
    "duration": 744,
    "start_time": "2023-03-03T15:16:44.077Z"
   },
   {
    "duration": 635,
    "start_time": "2023-03-03T15:16:44.823Z"
   },
   {
    "duration": 132,
    "start_time": "2023-03-03T15:16:45.460Z"
   },
   {
    "duration": 82,
    "start_time": "2023-03-03T15:16:45.594Z"
   },
   {
    "duration": 41,
    "start_time": "2023-03-03T15:17:02.310Z"
   },
   {
    "duration": 141,
    "start_time": "2023-03-03T15:17:33.278Z"
   },
   {
    "duration": 147,
    "start_time": "2023-03-03T15:18:03.080Z"
   },
   {
    "duration": 222,
    "start_time": "2023-03-03T15:18:13.180Z"
   },
   {
    "duration": 752,
    "start_time": "2023-03-03T15:18:31.064Z"
   },
   {
    "duration": 670,
    "start_time": "2023-03-03T15:18:31.818Z"
   },
   {
    "duration": 114,
    "start_time": "2023-03-03T15:18:32.490Z"
   },
   {
    "duration": 101,
    "start_time": "2023-03-03T15:18:32.607Z"
   },
   {
    "duration": 66,
    "start_time": "2023-03-03T15:18:32.710Z"
   },
   {
    "duration": 157,
    "start_time": "2023-03-03T15:18:32.779Z"
   },
   {
    "duration": 67,
    "start_time": "2023-03-03T15:26:15.863Z"
   },
   {
    "duration": 861,
    "start_time": "2023-03-03T15:26:20.468Z"
   },
   {
    "duration": 1662,
    "start_time": "2023-03-03T15:26:21.332Z"
   },
   {
    "duration": 113,
    "start_time": "2023-03-03T15:26:23.000Z"
   },
   {
    "duration": 91,
    "start_time": "2023-03-03T15:26:23.115Z"
   },
   {
    "duration": 48,
    "start_time": "2023-03-03T15:26:23.209Z"
   },
   {
    "duration": 83,
    "start_time": "2023-03-03T15:28:20.315Z"
   },
   {
    "duration": 731,
    "start_time": "2023-03-03T15:28:25.428Z"
   },
   {
    "duration": 1338,
    "start_time": "2023-03-03T15:28:26.162Z"
   },
   {
    "duration": 113,
    "start_time": "2023-03-03T15:28:27.502Z"
   },
   {
    "duration": 94,
    "start_time": "2023-03-03T15:28:27.617Z"
   },
   {
    "duration": 54,
    "start_time": "2023-03-03T15:28:27.714Z"
   },
   {
    "duration": 118,
    "start_time": "2023-03-03T15:28:27.770Z"
   },
   {
    "duration": 139,
    "start_time": "2023-03-03T15:30:04.765Z"
   },
   {
    "duration": 789,
    "start_time": "2023-03-03T15:31:42.934Z"
   },
   {
    "duration": 652,
    "start_time": "2023-03-03T15:31:43.725Z"
   },
   {
    "duration": 105,
    "start_time": "2023-03-03T15:31:44.380Z"
   },
   {
    "duration": 111,
    "start_time": "2023-03-03T15:31:44.487Z"
   },
   {
    "duration": 745,
    "start_time": "2023-03-03T15:33:00.460Z"
   },
   {
    "duration": 611,
    "start_time": "2023-03-03T15:33:01.208Z"
   },
   {
    "duration": 110,
    "start_time": "2023-03-03T15:33:01.821Z"
   },
   {
    "duration": 83,
    "start_time": "2023-03-03T15:33:01.933Z"
   },
   {
    "duration": 733,
    "start_time": "2023-03-03T15:34:00.671Z"
   },
   {
    "duration": 572,
    "start_time": "2023-03-03T15:34:01.407Z"
   },
   {
    "duration": 116,
    "start_time": "2023-03-03T15:34:01.981Z"
   },
   {
    "duration": 99,
    "start_time": "2023-03-03T15:34:02.099Z"
   },
   {
    "duration": 740,
    "start_time": "2023-03-03T15:35:42.569Z"
   },
   {
    "duration": 576,
    "start_time": "2023-03-03T15:35:43.312Z"
   },
   {
    "duration": 113,
    "start_time": "2023-03-03T15:35:43.890Z"
   },
   {
    "duration": 146,
    "start_time": "2023-03-03T15:35:44.005Z"
   },
   {
    "duration": 735,
    "start_time": "2023-03-03T15:36:39.469Z"
   },
   {
    "duration": 620,
    "start_time": "2023-03-03T15:36:40.207Z"
   },
   {
    "duration": 130,
    "start_time": "2023-03-03T15:36:40.829Z"
   },
   {
    "duration": 76,
    "start_time": "2023-03-03T15:36:40.963Z"
   },
   {
    "duration": 1575,
    "start_time": "2023-03-03T15:37:16.211Z"
   },
   {
    "duration": 914,
    "start_time": "2023-03-05T13:42:20.255Z"
   },
   {
    "duration": 1364,
    "start_time": "2023-03-05T13:42:21.172Z"
   },
   {
    "duration": 102,
    "start_time": "2023-03-05T13:42:22.538Z"
   },
   {
    "duration": 173,
    "start_time": "2023-03-05T13:42:22.642Z"
   },
   {
    "duration": 50,
    "start_time": "2023-03-05T13:45:31.286Z"
   },
   {
    "duration": 57,
    "start_time": "2023-03-05T13:46:15.507Z"
   },
   {
    "duration": 45,
    "start_time": "2023-03-05T13:46:26.787Z"
   },
   {
    "duration": 58,
    "start_time": "2023-03-06T12:32:42.907Z"
   },
   {
    "duration": 839,
    "start_time": "2023-03-06T12:32:53.401Z"
   },
   {
    "duration": 1327,
    "start_time": "2023-03-06T12:32:54.243Z"
   },
   {
    "duration": 92,
    "start_time": "2023-03-06T12:32:55.572Z"
   },
   {
    "duration": 3715,
    "start_time": "2023-03-06T12:32:55.666Z"
   },
   {
    "duration": 938,
    "start_time": "2023-03-06T12:33:27.801Z"
   },
   {
    "duration": 549,
    "start_time": "2023-03-06T12:33:28.744Z"
   },
   {
    "duration": 109,
    "start_time": "2023-03-06T12:33:29.296Z"
   },
   {
    "duration": 79,
    "start_time": "2023-03-06T12:33:29.407Z"
   },
   {
    "duration": 660,
    "start_time": "2023-03-06T12:36:12.347Z"
   },
   {
    "duration": 511,
    "start_time": "2023-03-06T12:36:13.009Z"
   },
   {
    "duration": 85,
    "start_time": "2023-03-06T12:36:13.522Z"
   },
   {
    "duration": 49,
    "start_time": "2023-03-06T12:57:54.598Z"
   },
   {
    "duration": 704,
    "start_time": "2023-03-06T12:58:12.197Z"
   },
   {
    "duration": 1255,
    "start_time": "2023-03-06T12:58:12.903Z"
   },
   {
    "duration": 31,
    "start_time": "2023-03-06T12:58:14.160Z"
   },
   {
    "duration": 72,
    "start_time": "2023-03-06T12:58:14.193Z"
   },
   {
    "duration": 661,
    "start_time": "2023-03-06T13:02:03.218Z"
   },
   {
    "duration": 510,
    "start_time": "2023-03-06T13:02:03.881Z"
   },
   {
    "duration": 146,
    "start_time": "2023-03-06T13:02:04.393Z"
   },
   {
    "duration": 51,
    "start_time": "2023-03-06T13:02:04.541Z"
   },
   {
    "duration": 176,
    "start_time": "2023-03-06T13:02:20.517Z"
   },
   {
    "duration": 12,
    "start_time": "2023-03-06T13:21:16.698Z"
   },
   {
    "duration": 93,
    "start_time": "2023-03-06T13:21:39.369Z"
   },
   {
    "duration": 6,
    "start_time": "2023-03-06T13:21:43.541Z"
   },
   {
    "duration": 6,
    "start_time": "2023-03-06T13:21:47.958Z"
   },
   {
    "duration": 767,
    "start_time": "2023-03-06T13:22:30.118Z"
   },
   {
    "duration": 520,
    "start_time": "2023-03-06T13:22:30.888Z"
   },
   {
    "duration": 195,
    "start_time": "2023-03-06T13:22:31.410Z"
   },
   {
    "duration": 682,
    "start_time": "2023-03-06T13:27:08.126Z"
   },
   {
    "duration": 590,
    "start_time": "2023-03-06T13:27:08.810Z"
   },
   {
    "duration": 164,
    "start_time": "2023-03-06T13:27:09.402Z"
   },
   {
    "duration": 44,
    "start_time": "2023-03-06T13:27:09.569Z"
   },
   {
    "duration": 52,
    "start_time": "2023-03-06T13:27:28.486Z"
   },
   {
    "duration": 46,
    "start_time": "2023-03-06T13:27:41.239Z"
   },
   {
    "duration": 39,
    "start_time": "2023-03-06T13:28:05.425Z"
   },
   {
    "duration": 686,
    "start_time": "2023-03-06T13:28:42.802Z"
   },
   {
    "duration": 514,
    "start_time": "2023-03-06T13:28:43.490Z"
   },
   {
    "duration": 174,
    "start_time": "2023-03-06T13:28:44.006Z"
   },
   {
    "duration": 72,
    "start_time": "2023-03-06T13:28:44.182Z"
   },
   {
    "duration": 780,
    "start_time": "2023-03-06T13:34:45.808Z"
   },
   {
    "duration": 581,
    "start_time": "2023-03-06T13:34:46.590Z"
   },
   {
    "duration": 194,
    "start_time": "2023-03-06T13:34:47.174Z"
   },
   {
    "duration": 131,
    "start_time": "2023-03-06T13:34:47.370Z"
   },
   {
    "duration": 35,
    "start_time": "2023-03-06T13:38:58.416Z"
   },
   {
    "duration": 50,
    "start_time": "2023-03-06T13:39:30.009Z"
   },
   {
    "duration": 44,
    "start_time": "2023-03-06T13:41:40.812Z"
   },
   {
    "duration": 670,
    "start_time": "2023-03-06T13:41:45.862Z"
   },
   {
    "duration": 510,
    "start_time": "2023-03-06T13:41:46.541Z"
   },
   {
    "duration": 199,
    "start_time": "2023-03-06T13:41:47.056Z"
   },
   {
    "duration": 80,
    "start_time": "2023-03-06T13:41:47.257Z"
   },
   {
    "duration": 661,
    "start_time": "2023-03-06T13:42:59.469Z"
   },
   {
    "duration": 535,
    "start_time": "2023-03-06T13:43:00.138Z"
   },
   {
    "duration": 179,
    "start_time": "2023-03-06T13:43:00.675Z"
   },
   {
    "duration": 81,
    "start_time": "2023-03-06T13:43:00.857Z"
   },
   {
    "duration": 713,
    "start_time": "2023-03-06T13:43:35.909Z"
   },
   {
    "duration": 522,
    "start_time": "2023-03-06T13:43:36.625Z"
   },
   {
    "duration": 199,
    "start_time": "2023-03-06T13:43:37.149Z"
   },
   {
    "duration": 42,
    "start_time": "2023-03-06T13:43:37.350Z"
   },
   {
    "duration": 119,
    "start_time": "2023-03-06T14:09:15.529Z"
   },
   {
    "duration": 39,
    "start_time": "2023-03-06T14:26:50.388Z"
   },
   {
    "duration": 25,
    "start_time": "2023-03-06T14:27:48.092Z"
   },
   {
    "duration": 18,
    "start_time": "2023-03-06T14:28:25.184Z"
   },
   {
    "duration": 90,
    "start_time": "2023-03-06T14:35:46.847Z"
   },
   {
    "duration": 22,
    "start_time": "2023-03-06T14:35:56.084Z"
   },
   {
    "duration": 71,
    "start_time": "2023-03-06T14:36:09.751Z"
   },
   {
    "duration": 28,
    "start_time": "2023-03-06T14:39:07.599Z"
   },
   {
    "duration": 42,
    "start_time": "2023-03-06T16:44:05.910Z"
   },
   {
    "duration": 759,
    "start_time": "2023-03-06T16:44:09.914Z"
   },
   {
    "duration": 1421,
    "start_time": "2023-03-06T16:44:10.674Z"
   },
   {
    "duration": 131,
    "start_time": "2023-03-06T16:44:12.097Z"
   },
   {
    "duration": 33,
    "start_time": "2023-03-06T16:44:12.230Z"
   },
   {
    "duration": 97,
    "start_time": "2023-03-06T16:44:12.264Z"
   },
   {
    "duration": 29,
    "start_time": "2023-03-06T16:44:12.363Z"
   },
   {
    "duration": 15,
    "start_time": "2023-03-06T16:44:12.394Z"
   },
   {
    "duration": 65,
    "start_time": "2023-03-06T16:48:06.154Z"
   },
   {
    "duration": 703,
    "start_time": "2023-03-06T16:49:38.014Z"
   },
   {
    "duration": 18,
    "start_time": "2023-03-06T16:49:54.177Z"
   },
   {
    "duration": 12,
    "start_time": "2023-03-06T16:52:10.261Z"
   },
   {
    "duration": 18,
    "start_time": "2023-03-06T16:56:56.841Z"
   },
   {
    "duration": 4,
    "start_time": "2023-03-06T17:03:41.318Z"
   },
   {
    "duration": 6,
    "start_time": "2023-03-06T17:04:02.406Z"
   },
   {
    "duration": 13,
    "start_time": "2023-03-06T17:04:18.035Z"
   },
   {
    "duration": 837,
    "start_time": "2023-03-07T11:37:29.029Z"
   },
   {
    "duration": 1059,
    "start_time": "2023-03-07T11:37:29.870Z"
   },
   {
    "duration": 162,
    "start_time": "2023-03-07T11:37:30.931Z"
   },
   {
    "duration": 42,
    "start_time": "2023-03-07T11:37:31.095Z"
   },
   {
    "duration": 133,
    "start_time": "2023-03-07T11:37:31.139Z"
   },
   {
    "duration": 37,
    "start_time": "2023-03-07T11:37:31.274Z"
   },
   {
    "duration": 66,
    "start_time": "2023-03-07T11:37:31.313Z"
   },
   {
    "duration": 131,
    "start_time": "2023-03-07T11:37:31.381Z"
   },
   {
    "duration": 23,
    "start_time": "2023-03-07T11:37:31.514Z"
   },
   {
    "duration": 21,
    "start_time": "2023-03-07T11:37:31.540Z"
   },
   {
    "duration": 29,
    "start_time": "2023-03-07T11:37:31.573Z"
   },
   {
    "duration": 36,
    "start_time": "2023-03-07T11:37:31.603Z"
   },
   {
    "duration": 97,
    "start_time": "2023-03-07T11:37:31.641Z"
   },
   {
    "duration": 184,
    "start_time": "2023-03-07T11:39:55.557Z"
   },
   {
    "duration": 174,
    "start_time": "2023-03-07T11:40:07.004Z"
   },
   {
    "duration": 695,
    "start_time": "2023-03-07T11:40:44.178Z"
   },
   {
    "duration": 506,
    "start_time": "2023-03-07T11:40:44.875Z"
   },
   {
    "duration": 183,
    "start_time": "2023-03-07T11:40:45.384Z"
   },
   {
    "duration": 42,
    "start_time": "2023-03-07T11:40:45.573Z"
   },
   {
    "duration": 140,
    "start_time": "2023-03-07T11:40:45.617Z"
   },
   {
    "duration": 42,
    "start_time": "2023-03-07T11:40:45.759Z"
   },
   {
    "duration": 9,
    "start_time": "2023-03-07T11:40:45.803Z"
   },
   {
    "duration": 106,
    "start_time": "2023-03-07T11:40:45.814Z"
   },
   {
    "duration": 22,
    "start_time": "2023-03-07T11:40:45.922Z"
   },
   {
    "duration": 37,
    "start_time": "2023-03-07T11:40:45.946Z"
   },
   {
    "duration": 20,
    "start_time": "2023-03-07T11:40:45.985Z"
   },
   {
    "duration": 6,
    "start_time": "2023-03-07T11:40:46.007Z"
   },
   {
    "duration": 191,
    "start_time": "2023-03-07T11:40:46.015Z"
   },
   {
    "duration": 35,
    "start_time": "2023-03-07T11:46:06.577Z"
   },
   {
    "duration": 100,
    "start_time": "2023-03-07T11:46:26.069Z"
   },
   {
    "duration": 37,
    "start_time": "2023-03-07T11:46:36.045Z"
   },
   {
    "duration": 85,
    "start_time": "2023-03-07T11:47:15.287Z"
   },
   {
    "duration": 43,
    "start_time": "2023-03-07T11:47:43.173Z"
   },
   {
    "duration": 89,
    "start_time": "2023-03-07T11:49:44.583Z"
   },
   {
    "duration": 85,
    "start_time": "2023-03-07T11:50:49.232Z"
   },
   {
    "duration": 87,
    "start_time": "2023-03-07T11:51:13.084Z"
   },
   {
    "duration": 129,
    "start_time": "2023-03-07T11:52:39.691Z"
   },
   {
    "duration": 644,
    "start_time": "2023-03-07T11:54:10.515Z"
   },
   {
    "duration": 481,
    "start_time": "2023-03-07T11:54:11.161Z"
   },
   {
    "duration": 162,
    "start_time": "2023-03-07T11:54:11.645Z"
   },
   {
    "duration": 175,
    "start_time": "2023-03-07T11:54:11.810Z"
   },
   {
    "duration": 124,
    "start_time": "2023-03-07T11:54:11.987Z"
   },
   {
    "duration": 36,
    "start_time": "2023-03-07T11:54:12.113Z"
   },
   {
    "duration": 23,
    "start_time": "2023-03-07T11:54:12.151Z"
   },
   {
    "duration": 99,
    "start_time": "2023-03-07T11:54:12.176Z"
   },
   {
    "duration": 22,
    "start_time": "2023-03-07T11:54:12.277Z"
   },
   {
    "duration": 14,
    "start_time": "2023-03-07T11:54:12.302Z"
   },
   {
    "duration": 16,
    "start_time": "2023-03-07T11:54:12.319Z"
   },
   {
    "duration": 37,
    "start_time": "2023-03-07T11:54:12.336Z"
   },
   {
    "duration": 183,
    "start_time": "2023-03-07T11:54:12.376Z"
   },
   {
    "duration": 147,
    "start_time": "2023-03-07T11:54:12.561Z"
   },
   {
    "duration": 674,
    "start_time": "2023-03-07T11:54:33.021Z"
   },
   {
    "duration": 499,
    "start_time": "2023-03-07T11:54:33.697Z"
   },
   {
    "duration": 192,
    "start_time": "2023-03-07T11:54:34.198Z"
   },
   {
    "duration": 40,
    "start_time": "2023-03-07T11:54:34.392Z"
   },
   {
    "duration": 148,
    "start_time": "2023-03-07T11:54:34.434Z"
   },
   {
    "duration": 51,
    "start_time": "2023-03-07T11:54:34.584Z"
   },
   {
    "duration": 9,
    "start_time": "2023-03-07T11:54:34.637Z"
   },
   {
    "duration": 105,
    "start_time": "2023-03-07T11:54:34.648Z"
   },
   {
    "duration": 29,
    "start_time": "2023-03-07T11:54:34.755Z"
   },
   {
    "duration": 16,
    "start_time": "2023-03-07T11:54:34.787Z"
   },
   {
    "duration": 17,
    "start_time": "2023-03-07T11:54:34.805Z"
   },
   {
    "duration": 6,
    "start_time": "2023-03-07T11:54:34.824Z"
   },
   {
    "duration": 216,
    "start_time": "2023-03-07T11:54:34.832Z"
   },
   {
    "duration": 140,
    "start_time": "2023-03-07T11:54:35.050Z"
   },
   {
    "duration": 184,
    "start_time": "2023-03-07T11:55:01.082Z"
   },
   {
    "duration": 722,
    "start_time": "2023-03-07T11:55:51.946Z"
   },
   {
    "duration": 501,
    "start_time": "2023-03-07T11:55:52.670Z"
   },
   {
    "duration": 183,
    "start_time": "2023-03-07T11:55:53.173Z"
   },
   {
    "duration": 49,
    "start_time": "2023-03-07T11:55:53.359Z"
   },
   {
    "duration": 168,
    "start_time": "2023-03-07T11:55:53.409Z"
   },
   {
    "duration": 37,
    "start_time": "2023-03-07T11:55:53.579Z"
   },
   {
    "duration": 9,
    "start_time": "2023-03-07T11:55:53.619Z"
   },
   {
    "duration": 119,
    "start_time": "2023-03-07T11:55:53.630Z"
   },
   {
    "duration": 32,
    "start_time": "2023-03-07T11:55:53.751Z"
   },
   {
    "duration": 17,
    "start_time": "2023-03-07T11:55:53.787Z"
   },
   {
    "duration": 26,
    "start_time": "2023-03-07T11:55:53.806Z"
   },
   {
    "duration": 7,
    "start_time": "2023-03-07T11:55:53.833Z"
   },
   {
    "duration": 208,
    "start_time": "2023-03-07T11:55:53.842Z"
   },
   {
    "duration": 215,
    "start_time": "2023-03-07T11:55:54.052Z"
   },
   {
    "duration": 28,
    "start_time": "2023-03-07T11:59:53.312Z"
   },
   {
    "duration": 29,
    "start_time": "2023-03-07T12:00:12.766Z"
   },
   {
    "duration": 12,
    "start_time": "2023-03-07T12:02:46.704Z"
   },
   {
    "duration": 14,
    "start_time": "2023-03-07T12:03:31.119Z"
   },
   {
    "duration": 18,
    "start_time": "2023-03-07T12:04:58.905Z"
   },
   {
    "duration": 650,
    "start_time": "2023-03-07T12:06:55.914Z"
   },
   {
    "duration": 492,
    "start_time": "2023-03-07T12:06:56.566Z"
   },
   {
    "duration": 167,
    "start_time": "2023-03-07T12:06:57.060Z"
   },
   {
    "duration": 55,
    "start_time": "2023-03-07T12:06:57.229Z"
   },
   {
    "duration": 128,
    "start_time": "2023-03-07T12:06:57.287Z"
   },
   {
    "duration": 36,
    "start_time": "2023-03-07T12:06:57.416Z"
   },
   {
    "duration": 19,
    "start_time": "2023-03-07T12:06:57.454Z"
   },
   {
    "duration": 101,
    "start_time": "2023-03-07T12:06:57.475Z"
   },
   {
    "duration": 21,
    "start_time": "2023-03-07T12:06:57.578Z"
   },
   {
    "duration": 14,
    "start_time": "2023-03-07T12:06:57.602Z"
   },
   {
    "duration": 15,
    "start_time": "2023-03-07T12:06:57.618Z"
   },
   {
    "duration": 6,
    "start_time": "2023-03-07T12:06:57.636Z"
   },
   {
    "duration": 216,
    "start_time": "2023-03-07T12:06:57.643Z"
   },
   {
    "duration": 86,
    "start_time": "2023-03-07T12:06:57.862Z"
   },
   {
    "duration": 3,
    "start_time": "2023-03-07T12:06:57.949Z"
   },
   {
    "duration": 58,
    "start_time": "2023-03-07T12:07:25.053Z"
   },
   {
    "duration": 693,
    "start_time": "2023-03-07T12:09:01.706Z"
   },
   {
    "duration": 492,
    "start_time": "2023-03-07T12:09:02.401Z"
   },
   {
    "duration": 178,
    "start_time": "2023-03-07T12:09:02.895Z"
   },
   {
    "duration": 41,
    "start_time": "2023-03-07T12:09:03.075Z"
   },
   {
    "duration": 132,
    "start_time": "2023-03-07T12:09:03.118Z"
   },
   {
    "duration": 44,
    "start_time": "2023-03-07T12:09:03.252Z"
   },
   {
    "duration": 10,
    "start_time": "2023-03-07T12:09:03.299Z"
   },
   {
    "duration": 118,
    "start_time": "2023-03-07T12:09:03.311Z"
   },
   {
    "duration": 24,
    "start_time": "2023-03-07T12:09:03.431Z"
   },
   {
    "duration": 18,
    "start_time": "2023-03-07T12:09:03.472Z"
   },
   {
    "duration": 20,
    "start_time": "2023-03-07T12:09:03.492Z"
   },
   {
    "duration": 7,
    "start_time": "2023-03-07T12:09:03.514Z"
   },
   {
    "duration": 202,
    "start_time": "2023-03-07T12:09:03.523Z"
   },
   {
    "duration": 195,
    "start_time": "2023-03-07T12:09:03.727Z"
   },
   {
    "duration": 0,
    "start_time": "2023-03-07T12:09:03.924Z"
   },
   {
    "duration": 700,
    "start_time": "2023-03-07T12:09:18.370Z"
   },
   {
    "duration": 495,
    "start_time": "2023-03-07T12:09:19.073Z"
   },
   {
    "duration": 171,
    "start_time": "2023-03-07T12:09:19.570Z"
   },
   {
    "duration": 54,
    "start_time": "2023-03-07T12:09:19.744Z"
   },
   {
    "duration": 124,
    "start_time": "2023-03-07T12:09:19.800Z"
   },
   {
    "duration": 34,
    "start_time": "2023-03-07T12:09:19.926Z"
   },
   {
    "duration": 10,
    "start_time": "2023-03-07T12:09:19.973Z"
   },
   {
    "duration": 101,
    "start_time": "2023-03-07T12:09:19.984Z"
   },
   {
    "duration": 22,
    "start_time": "2023-03-07T12:09:20.086Z"
   },
   {
    "duration": 15,
    "start_time": "2023-03-07T12:09:20.110Z"
   },
   {
    "duration": 15,
    "start_time": "2023-03-07T12:09:20.126Z"
   },
   {
    "duration": 32,
    "start_time": "2023-03-07T12:09:20.143Z"
   },
   {
    "duration": 182,
    "start_time": "2023-03-07T12:09:20.177Z"
   },
   {
    "duration": 113,
    "start_time": "2023-03-07T12:09:20.361Z"
   },
   {
    "duration": 4,
    "start_time": "2023-03-07T12:09:20.476Z"
   },
   {
    "duration": 708,
    "start_time": "2023-03-07T12:10:47.664Z"
   },
   {
    "duration": 509,
    "start_time": "2023-03-07T12:10:48.374Z"
   },
   {
    "duration": 190,
    "start_time": "2023-03-07T12:10:48.885Z"
   },
   {
    "duration": 44,
    "start_time": "2023-03-07T12:10:49.077Z"
   },
   {
    "duration": 141,
    "start_time": "2023-03-07T12:10:49.124Z"
   },
   {
    "duration": 36,
    "start_time": "2023-03-07T12:10:49.273Z"
   },
   {
    "duration": 9,
    "start_time": "2023-03-07T12:10:49.311Z"
   },
   {
    "duration": 106,
    "start_time": "2023-03-07T12:10:49.322Z"
   },
   {
    "duration": 22,
    "start_time": "2023-03-07T12:10:49.430Z"
   },
   {
    "duration": 32,
    "start_time": "2023-03-07T12:10:49.454Z"
   },
   {
    "duration": 17,
    "start_time": "2023-03-07T12:10:49.487Z"
   },
   {
    "duration": 7,
    "start_time": "2023-03-07T12:10:49.506Z"
   },
   {
    "duration": 200,
    "start_time": "2023-03-07T12:10:49.515Z"
   },
   {
    "duration": 116,
    "start_time": "2023-03-07T12:10:49.717Z"
   },
   {
    "duration": 3,
    "start_time": "2023-03-07T12:10:49.835Z"
   },
   {
    "duration": 78,
    "start_time": "2023-03-07T12:10:55.288Z"
   },
   {
    "duration": 16,
    "start_time": "2023-03-07T12:12:50.124Z"
   },
   {
    "duration": 101,
    "start_time": "2023-03-07T12:14:20.527Z"
   },
   {
    "duration": 5,
    "start_time": "2023-03-07T12:14:30.672Z"
   },
   {
    "duration": 136,
    "start_time": "2023-03-07T12:25:13.701Z"
   },
   {
    "duration": 143,
    "start_time": "2023-03-07T12:25:36.969Z"
   },
   {
    "duration": 42,
    "start_time": "2023-03-07T12:25:45.145Z"
   },
   {
    "duration": 46,
    "start_time": "2023-03-07T12:26:53.813Z"
   },
   {
    "duration": 46,
    "start_time": "2023-03-07T12:30:39.057Z"
   },
   {
    "duration": 45,
    "start_time": "2023-03-07T12:31:01.596Z"
   },
   {
    "duration": 36,
    "start_time": "2023-03-07T12:31:51.492Z"
   },
   {
    "duration": 32,
    "start_time": "2023-03-07T12:32:16.496Z"
   },
   {
    "duration": 665,
    "start_time": "2023-03-07T12:33:40.578Z"
   },
   {
    "duration": 505,
    "start_time": "2023-03-07T12:33:41.245Z"
   },
   {
    "duration": 184,
    "start_time": "2023-03-07T12:33:41.751Z"
   },
   {
    "duration": 57,
    "start_time": "2023-03-07T12:33:41.937Z"
   },
   {
    "duration": 139,
    "start_time": "2023-03-07T12:33:41.995Z"
   },
   {
    "duration": 46,
    "start_time": "2023-03-07T12:33:42.136Z"
   },
   {
    "duration": 10,
    "start_time": "2023-03-07T12:33:42.184Z"
   },
   {
    "duration": 104,
    "start_time": "2023-03-07T12:33:42.196Z"
   },
   {
    "duration": 22,
    "start_time": "2023-03-07T12:33:42.302Z"
   },
   {
    "duration": 15,
    "start_time": "2023-03-07T12:33:42.327Z"
   },
   {
    "duration": 41,
    "start_time": "2023-03-07T12:33:42.344Z"
   },
   {
    "duration": 7,
    "start_time": "2023-03-07T12:33:42.387Z"
   },
   {
    "duration": 6,
    "start_time": "2023-03-07T12:33:42.395Z"
   },
   {
    "duration": 73,
    "start_time": "2023-03-07T12:33:42.403Z"
   },
   {
    "duration": 48,
    "start_time": "2023-03-07T12:33:42.478Z"
   },
   {
    "duration": 31,
    "start_time": "2023-03-07T12:34:32.994Z"
   },
   {
    "duration": 33,
    "start_time": "2023-03-07T12:35:06.644Z"
   },
   {
    "duration": 33,
    "start_time": "2023-03-07T12:35:15.325Z"
   },
   {
    "duration": 32,
    "start_time": "2023-03-07T12:35:35.248Z"
   },
   {
    "duration": 32,
    "start_time": "2023-03-07T12:37:49.069Z"
   },
   {
    "duration": 687,
    "start_time": "2023-03-07T12:49:01.408Z"
   },
   {
    "duration": 512,
    "start_time": "2023-03-07T12:49:02.097Z"
   },
   {
    "duration": 186,
    "start_time": "2023-03-07T12:49:02.611Z"
   },
   {
    "duration": 42,
    "start_time": "2023-03-07T12:49:02.798Z"
   },
   {
    "duration": 135,
    "start_time": "2023-03-07T12:49:02.843Z"
   },
   {
    "duration": 36,
    "start_time": "2023-03-07T12:49:02.980Z"
   },
   {
    "duration": 12,
    "start_time": "2023-03-07T12:49:03.019Z"
   },
   {
    "duration": 140,
    "start_time": "2023-03-07T12:49:03.033Z"
   },
   {
    "duration": 25,
    "start_time": "2023-03-07T12:49:03.175Z"
   },
   {
    "duration": 16,
    "start_time": "2023-03-07T12:49:03.202Z"
   },
   {
    "duration": 48,
    "start_time": "2023-03-07T12:49:03.219Z"
   },
   {
    "duration": 34,
    "start_time": "2023-03-07T12:49:03.269Z"
   },
   {
    "duration": 176,
    "start_time": "2023-03-07T12:49:03.305Z"
   },
   {
    "duration": 2,
    "start_time": "2023-03-07T12:49:03.484Z"
   },
   {
    "duration": 658,
    "start_time": "2023-03-07T12:53:18.510Z"
   },
   {
    "duration": 486,
    "start_time": "2023-03-07T12:53:19.170Z"
   },
   {
    "duration": 162,
    "start_time": "2023-03-07T12:53:19.658Z"
   },
   {
    "duration": 51,
    "start_time": "2023-03-07T12:53:19.822Z"
   },
   {
    "duration": 124,
    "start_time": "2023-03-07T12:53:19.875Z"
   },
   {
    "duration": 36,
    "start_time": "2023-03-07T12:53:20.001Z"
   },
   {
    "duration": 10,
    "start_time": "2023-03-07T12:53:20.039Z"
   },
   {
    "duration": 107,
    "start_time": "2023-03-07T12:53:20.051Z"
   },
   {
    "duration": 30,
    "start_time": "2023-03-07T12:53:20.160Z"
   },
   {
    "duration": 14,
    "start_time": "2023-03-07T12:53:20.192Z"
   },
   {
    "duration": 19,
    "start_time": "2023-03-07T12:53:20.208Z"
   },
   {
    "duration": 10,
    "start_time": "2023-03-07T12:53:20.228Z"
   },
   {
    "duration": 73,
    "start_time": "2023-03-07T12:53:20.239Z"
   },
   {
    "duration": 0,
    "start_time": "2023-03-07T12:53:20.315Z"
   },
   {
    "duration": 704,
    "start_time": "2023-03-07T12:55:00.567Z"
   },
   {
    "duration": 503,
    "start_time": "2023-03-07T12:55:01.273Z"
   },
   {
    "duration": 173,
    "start_time": "2023-03-07T12:55:01.778Z"
   },
   {
    "duration": 47,
    "start_time": "2023-03-07T12:55:01.953Z"
   },
   {
    "duration": 123,
    "start_time": "2023-03-07T12:55:02.003Z"
   },
   {
    "duration": 44,
    "start_time": "2023-03-07T12:55:02.129Z"
   },
   {
    "duration": 10,
    "start_time": "2023-03-07T12:55:02.174Z"
   },
   {
    "duration": 102,
    "start_time": "2023-03-07T12:55:02.186Z"
   },
   {
    "duration": 21,
    "start_time": "2023-03-07T12:55:02.290Z"
   },
   {
    "duration": 16,
    "start_time": "2023-03-07T12:55:02.313Z"
   },
   {
    "duration": 42,
    "start_time": "2023-03-07T12:55:02.331Z"
   },
   {
    "duration": 7,
    "start_time": "2023-03-07T12:55:02.375Z"
   },
   {
    "duration": 126,
    "start_time": "2023-03-07T12:55:02.383Z"
   },
   {
    "duration": 2,
    "start_time": "2023-03-07T12:55:02.512Z"
   },
   {
    "duration": 713,
    "start_time": "2023-03-07T12:59:11.855Z"
   },
   {
    "duration": 526,
    "start_time": "2023-03-07T12:59:12.571Z"
   },
   {
    "duration": 202,
    "start_time": "2023-03-07T12:59:13.100Z"
   },
   {
    "duration": 74,
    "start_time": "2023-03-07T12:59:13.305Z"
   },
   {
    "duration": 159,
    "start_time": "2023-03-07T12:59:13.381Z"
   },
   {
    "duration": 53,
    "start_time": "2023-03-07T12:59:13.542Z"
   },
   {
    "duration": 11,
    "start_time": "2023-03-07T12:59:13.597Z"
   },
   {
    "duration": 123,
    "start_time": "2023-03-07T12:59:13.611Z"
   },
   {
    "duration": 25,
    "start_time": "2023-03-07T12:59:13.736Z"
   },
   {
    "duration": 15,
    "start_time": "2023-03-07T12:59:13.773Z"
   },
   {
    "duration": 27,
    "start_time": "2023-03-07T12:59:13.790Z"
   },
   {
    "duration": 7,
    "start_time": "2023-03-07T12:59:13.819Z"
   },
   {
    "duration": 1360,
    "start_time": "2023-03-07T12:59:13.828Z"
   },
   {
    "duration": 0,
    "start_time": "2023-03-07T12:59:15.190Z"
   },
   {
    "duration": 700,
    "start_time": "2023-03-07T12:59:28.780Z"
   },
   {
    "duration": 494,
    "start_time": "2023-03-07T12:59:29.482Z"
   },
   {
    "duration": 180,
    "start_time": "2023-03-07T12:59:29.977Z"
   },
   {
    "duration": 47,
    "start_time": "2023-03-07T12:59:30.165Z"
   },
   {
    "duration": 129,
    "start_time": "2023-03-07T12:59:30.213Z"
   },
   {
    "duration": 50,
    "start_time": "2023-03-07T12:59:30.345Z"
   },
   {
    "duration": 12,
    "start_time": "2023-03-07T12:59:30.397Z"
   },
   {
    "duration": 144,
    "start_time": "2023-03-07T12:59:30.412Z"
   },
   {
    "duration": 28,
    "start_time": "2023-03-07T12:59:30.559Z"
   },
   {
    "duration": 20,
    "start_time": "2023-03-07T12:59:30.591Z"
   },
   {
    "duration": 37,
    "start_time": "2023-03-07T12:59:30.613Z"
   },
   {
    "duration": 23,
    "start_time": "2023-03-07T12:59:30.652Z"
   },
   {
    "duration": 136,
    "start_time": "2023-03-07T12:59:30.677Z"
   },
   {
    "duration": 2,
    "start_time": "2023-03-07T12:59:30.814Z"
   },
   {
    "duration": 62,
    "start_time": "2023-03-07T13:09:28.024Z"
   },
   {
    "duration": 149,
    "start_time": "2023-03-07T13:11:16.989Z"
   },
   {
    "duration": 64,
    "start_time": "2023-03-07T13:11:38.844Z"
   },
   {
    "duration": 111,
    "start_time": "2023-03-07T13:12:42.875Z"
   },
   {
    "duration": 91,
    "start_time": "2023-03-07T13:14:06.185Z"
   },
   {
    "duration": 58,
    "start_time": "2023-03-07T13:15:02.882Z"
   },
   {
    "duration": 55,
    "start_time": "2023-03-07T13:15:32.495Z"
   },
   {
    "duration": 62,
    "start_time": "2023-03-07T13:19:03.930Z"
   },
   {
    "duration": 71,
    "start_time": "2023-03-07T13:20:20.834Z"
   },
   {
    "duration": 67,
    "start_time": "2023-03-07T13:20:35.607Z"
   },
   {
    "duration": 96,
    "start_time": "2023-03-07T13:20:52.339Z"
   },
   {
    "duration": 697,
    "start_time": "2023-03-07T13:33:12.344Z"
   },
   {
    "duration": 486,
    "start_time": "2023-03-07T13:33:13.043Z"
   },
   {
    "duration": 170,
    "start_time": "2023-03-07T13:33:13.531Z"
   },
   {
    "duration": 40,
    "start_time": "2023-03-07T13:33:13.704Z"
   },
   {
    "duration": 120,
    "start_time": "2023-03-07T13:33:13.745Z"
   },
   {
    "duration": 36,
    "start_time": "2023-03-07T13:33:13.867Z"
   },
   {
    "duration": 9,
    "start_time": "2023-03-07T13:33:13.905Z"
   },
   {
    "duration": 109,
    "start_time": "2023-03-07T13:33:13.916Z"
   },
   {
    "duration": 20,
    "start_time": "2023-03-07T13:33:14.027Z"
   },
   {
    "duration": 31,
    "start_time": "2023-03-07T13:33:14.050Z"
   },
   {
    "duration": 25,
    "start_time": "2023-03-07T13:33:14.083Z"
   },
   {
    "duration": 5,
    "start_time": "2023-03-07T13:33:14.110Z"
   },
   {
    "duration": 154,
    "start_time": "2023-03-07T13:33:14.117Z"
   },
   {
    "duration": 0,
    "start_time": "2023-03-07T13:33:14.273Z"
   },
   {
    "duration": 0,
    "start_time": "2023-03-07T13:33:14.274Z"
   },
   {
    "duration": 0,
    "start_time": "2023-03-07T13:33:14.276Z"
   },
   {
    "duration": 112,
    "start_time": "2023-03-07T13:33:53.941Z"
   },
   {
    "duration": 751,
    "start_time": "2023-03-07T13:35:15.880Z"
   },
   {
    "duration": 507,
    "start_time": "2023-03-07T13:35:16.633Z"
   },
   {
    "duration": 222,
    "start_time": "2023-03-07T13:35:17.142Z"
   },
   {
    "duration": 43,
    "start_time": "2023-03-07T13:35:17.366Z"
   },
   {
    "duration": 160,
    "start_time": "2023-03-07T13:35:17.413Z"
   },
   {
    "duration": 34,
    "start_time": "2023-03-07T13:35:17.575Z"
   },
   {
    "duration": 9,
    "start_time": "2023-03-07T13:35:17.611Z"
   },
   {
    "duration": 102,
    "start_time": "2023-03-07T13:35:17.622Z"
   },
   {
    "duration": 22,
    "start_time": "2023-03-07T13:35:17.726Z"
   },
   {
    "duration": 32,
    "start_time": "2023-03-07T13:35:17.750Z"
   },
   {
    "duration": 17,
    "start_time": "2023-03-07T13:35:17.783Z"
   },
   {
    "duration": 11,
    "start_time": "2023-03-07T13:35:17.802Z"
   },
   {
    "duration": 75,
    "start_time": "2023-03-07T13:35:17.815Z"
   },
   {
    "duration": 0,
    "start_time": "2023-03-07T13:35:17.892Z"
   },
   {
    "duration": 0,
    "start_time": "2023-03-07T13:35:17.893Z"
   },
   {
    "duration": 0,
    "start_time": "2023-03-07T13:35:17.894Z"
   },
   {
    "duration": 738,
    "start_time": "2023-03-07T13:35:53.354Z"
   },
   {
    "duration": 515,
    "start_time": "2023-03-07T13:35:54.094Z"
   },
   {
    "duration": 185,
    "start_time": "2023-03-07T13:35:54.611Z"
   },
   {
    "duration": 42,
    "start_time": "2023-03-07T13:35:54.798Z"
   },
   {
    "duration": 135,
    "start_time": "2023-03-07T13:35:54.843Z"
   },
   {
    "duration": 35,
    "start_time": "2023-03-07T13:35:54.980Z"
   },
   {
    "duration": 10,
    "start_time": "2023-03-07T13:35:55.017Z"
   },
   {
    "duration": 109,
    "start_time": "2023-03-07T13:35:55.029Z"
   },
   {
    "duration": 34,
    "start_time": "2023-03-07T13:35:55.140Z"
   },
   {
    "duration": 14,
    "start_time": "2023-03-07T13:35:55.176Z"
   },
   {
    "duration": 26,
    "start_time": "2023-03-07T13:35:55.192Z"
   },
   {
    "duration": 9,
    "start_time": "2023-03-07T13:35:55.219Z"
   },
   {
    "duration": 122,
    "start_time": "2023-03-07T13:35:55.230Z"
   },
   {
    "duration": 67,
    "start_time": "2023-03-07T13:35:55.354Z"
   },
   {
    "duration": 79,
    "start_time": "2023-03-07T13:35:55.422Z"
   },
   {
    "duration": 3,
    "start_time": "2023-03-07T13:35:55.502Z"
   },
   {
    "duration": 671,
    "start_time": "2023-03-07T13:37:21.389Z"
   },
   {
    "duration": 521,
    "start_time": "2023-03-07T13:37:22.062Z"
   },
   {
    "duration": 181,
    "start_time": "2023-03-07T13:37:22.585Z"
   },
   {
    "duration": 42,
    "start_time": "2023-03-07T13:37:22.772Z"
   },
   {
    "duration": 131,
    "start_time": "2023-03-07T13:37:22.816Z"
   },
   {
    "duration": 48,
    "start_time": "2023-03-07T13:37:22.949Z"
   },
   {
    "duration": 10,
    "start_time": "2023-03-07T13:37:22.999Z"
   },
   {
    "duration": 111,
    "start_time": "2023-03-07T13:37:23.012Z"
   },
   {
    "duration": 23,
    "start_time": "2023-03-07T13:37:23.124Z"
   },
   {
    "duration": 30,
    "start_time": "2023-03-07T13:37:23.149Z"
   },
   {
    "duration": 20,
    "start_time": "2023-03-07T13:37:23.180Z"
   },
   {
    "duration": 10,
    "start_time": "2023-03-07T13:37:23.202Z"
   },
   {
    "duration": 129,
    "start_time": "2023-03-07T13:37:23.214Z"
   },
   {
    "duration": 68,
    "start_time": "2023-03-07T13:37:23.345Z"
   },
   {
    "duration": 80,
    "start_time": "2023-03-07T13:37:23.414Z"
   },
   {
    "duration": 2,
    "start_time": "2023-03-07T13:37:23.496Z"
   },
   {
    "duration": 768,
    "start_time": "2023-03-07T13:38:23.849Z"
   },
   {
    "duration": 514,
    "start_time": "2023-03-07T13:38:24.619Z"
   },
   {
    "duration": 169,
    "start_time": "2023-03-07T13:38:25.135Z"
   },
   {
    "duration": 41,
    "start_time": "2023-03-07T13:38:25.307Z"
   },
   {
    "duration": 137,
    "start_time": "2023-03-07T13:38:25.350Z"
   },
   {
    "duration": 36,
    "start_time": "2023-03-07T13:38:25.488Z"
   },
   {
    "duration": 11,
    "start_time": "2023-03-07T13:38:25.527Z"
   },
   {
    "duration": 122,
    "start_time": "2023-03-07T13:38:25.541Z"
   },
   {
    "duration": 30,
    "start_time": "2023-03-07T13:38:25.665Z"
   },
   {
    "duration": 17,
    "start_time": "2023-03-07T13:38:25.697Z"
   },
   {
    "duration": 18,
    "start_time": "2023-03-07T13:38:25.715Z"
   },
   {
    "duration": 40,
    "start_time": "2023-03-07T13:38:25.736Z"
   },
   {
    "duration": 111,
    "start_time": "2023-03-07T13:38:25.779Z"
   },
   {
    "duration": 58,
    "start_time": "2023-03-07T13:38:25.892Z"
   },
   {
    "duration": 83,
    "start_time": "2023-03-07T13:38:25.953Z"
   },
   {
    "duration": 3,
    "start_time": "2023-03-07T13:38:26.038Z"
   },
   {
    "duration": 142,
    "start_time": "2023-03-07T13:39:20.079Z"
   },
   {
    "duration": 69,
    "start_time": "2023-03-07T13:39:27.993Z"
   },
   {
    "duration": 733,
    "start_time": "2023-03-07T13:39:39.791Z"
   },
   {
    "duration": 575,
    "start_time": "2023-03-07T13:39:40.526Z"
   },
   {
    "duration": 195,
    "start_time": "2023-03-07T13:39:41.103Z"
   },
   {
    "duration": 57,
    "start_time": "2023-03-07T13:39:41.300Z"
   },
   {
    "duration": 177,
    "start_time": "2023-03-07T13:39:41.361Z"
   },
   {
    "duration": 45,
    "start_time": "2023-03-07T13:39:41.540Z"
   },
   {
    "duration": 10,
    "start_time": "2023-03-07T13:39:41.587Z"
   },
   {
    "duration": 104,
    "start_time": "2023-03-07T13:39:41.599Z"
   },
   {
    "duration": 27,
    "start_time": "2023-03-07T13:39:41.705Z"
   },
   {
    "duration": 16,
    "start_time": "2023-03-07T13:39:41.734Z"
   },
   {
    "duration": 19,
    "start_time": "2023-03-07T13:39:41.773Z"
   },
   {
    "duration": 7,
    "start_time": "2023-03-07T13:39:41.794Z"
   },
   {
    "duration": 137,
    "start_time": "2023-03-07T13:39:41.803Z"
   },
   {
    "duration": 70,
    "start_time": "2023-03-07T13:39:41.942Z"
   },
   {
    "duration": 80,
    "start_time": "2023-03-07T13:39:42.014Z"
   },
   {
    "duration": 3,
    "start_time": "2023-03-07T13:39:42.096Z"
   },
   {
    "duration": 676,
    "start_time": "2023-03-07T13:39:49.687Z"
   },
   {
    "duration": 590,
    "start_time": "2023-03-07T13:39:50.366Z"
   },
   {
    "duration": 173,
    "start_time": "2023-03-07T13:39:50.957Z"
   },
   {
    "duration": 55,
    "start_time": "2023-03-07T13:39:51.132Z"
   },
   {
    "duration": 132,
    "start_time": "2023-03-07T13:39:51.190Z"
   },
   {
    "duration": 50,
    "start_time": "2023-03-07T13:39:51.323Z"
   },
   {
    "duration": 10,
    "start_time": "2023-03-07T13:39:51.374Z"
   },
   {
    "duration": 107,
    "start_time": "2023-03-07T13:39:51.386Z"
   },
   {
    "duration": 22,
    "start_time": "2023-03-07T13:39:51.495Z"
   },
   {
    "duration": 31,
    "start_time": "2023-03-07T13:39:51.520Z"
   },
   {
    "duration": 30,
    "start_time": "2023-03-07T13:39:51.553Z"
   },
   {
    "duration": 10,
    "start_time": "2023-03-07T13:39:51.585Z"
   },
   {
    "duration": 124,
    "start_time": "2023-03-07T13:39:51.597Z"
   },
   {
    "duration": 80,
    "start_time": "2023-03-07T13:39:51.725Z"
   },
   {
    "duration": 103,
    "start_time": "2023-03-07T13:39:51.808Z"
   },
   {
    "duration": 3,
    "start_time": "2023-03-07T13:39:51.913Z"
   },
   {
    "duration": 85,
    "start_time": "2023-03-07T13:48:14.205Z"
   },
   {
    "duration": 7,
    "start_time": "2023-03-07T13:48:33.253Z"
   },
   {
    "duration": 18,
    "start_time": "2023-03-07T13:49:02.789Z"
   },
   {
    "duration": 15,
    "start_time": "2023-03-07T13:49:09.641Z"
   },
   {
    "duration": 20,
    "start_time": "2023-03-07T13:49:22.553Z"
   },
   {
    "duration": 8,
    "start_time": "2023-03-07T13:50:32.092Z"
   },
   {
    "duration": 18,
    "start_time": "2023-03-07T13:50:43.480Z"
   },
   {
    "duration": 739,
    "start_time": "2023-03-07T13:53:23.805Z"
   },
   {
    "duration": 520,
    "start_time": "2023-03-07T13:53:24.547Z"
   },
   {
    "duration": 188,
    "start_time": "2023-03-07T13:53:25.072Z"
   },
   {
    "duration": 45,
    "start_time": "2023-03-07T13:53:25.262Z"
   },
   {
    "duration": 133,
    "start_time": "2023-03-07T13:53:25.309Z"
   },
   {
    "duration": 38,
    "start_time": "2023-03-07T13:53:25.444Z"
   },
   {
    "duration": 12,
    "start_time": "2023-03-07T13:53:25.484Z"
   },
   {
    "duration": 119,
    "start_time": "2023-03-07T13:53:25.498Z"
   },
   {
    "duration": 22,
    "start_time": "2023-03-07T13:53:25.620Z"
   },
   {
    "duration": 43,
    "start_time": "2023-03-07T13:53:25.644Z"
   },
   {
    "duration": 33,
    "start_time": "2023-03-07T13:53:25.689Z"
   },
   {
    "duration": 56,
    "start_time": "2023-03-07T13:53:25.724Z"
   },
   {
    "duration": 95,
    "start_time": "2023-03-07T13:53:25.782Z"
   },
   {
    "duration": 45,
    "start_time": "2023-03-07T13:53:25.879Z"
   },
   {
    "duration": 72,
    "start_time": "2023-03-07T13:53:25.927Z"
   },
   {
    "duration": 19,
    "start_time": "2023-03-07T13:53:26.002Z"
   },
   {
    "duration": 690,
    "start_time": "2023-03-07T13:54:20.942Z"
   },
   {
    "duration": 498,
    "start_time": "2023-03-07T13:54:21.634Z"
   },
   {
    "duration": 164,
    "start_time": "2023-03-07T13:54:22.133Z"
   },
   {
    "duration": 42,
    "start_time": "2023-03-07T13:54:22.299Z"
   },
   {
    "duration": 135,
    "start_time": "2023-03-07T13:54:22.344Z"
   },
   {
    "duration": 36,
    "start_time": "2023-03-07T13:54:22.480Z"
   },
   {
    "duration": 11,
    "start_time": "2023-03-07T13:54:22.518Z"
   },
   {
    "duration": 114,
    "start_time": "2023-03-07T13:54:22.532Z"
   },
   {
    "duration": 31,
    "start_time": "2023-03-07T13:54:22.648Z"
   },
   {
    "duration": 16,
    "start_time": "2023-03-07T13:54:22.682Z"
   },
   {
    "duration": 18,
    "start_time": "2023-03-07T13:54:22.700Z"
   },
   {
    "duration": 8,
    "start_time": "2023-03-07T13:54:22.720Z"
   },
   {
    "duration": 90,
    "start_time": "2023-03-07T13:54:22.730Z"
   },
   {
    "duration": 51,
    "start_time": "2023-03-07T13:54:22.822Z"
   },
   {
    "duration": 46,
    "start_time": "2023-03-07T13:54:22.875Z"
   },
   {
    "duration": 26,
    "start_time": "2023-03-07T13:54:22.923Z"
   },
   {
    "duration": 744,
    "start_time": "2023-03-07T13:55:41.745Z"
   },
   {
    "duration": 521,
    "start_time": "2023-03-07T13:55:42.491Z"
   },
   {
    "duration": 183,
    "start_time": "2023-03-07T13:55:43.014Z"
   },
   {
    "duration": 43,
    "start_time": "2023-03-07T13:55:43.199Z"
   },
   {
    "duration": 138,
    "start_time": "2023-03-07T13:55:43.244Z"
   },
   {
    "duration": 35,
    "start_time": "2023-03-07T13:55:43.384Z"
   },
   {
    "duration": 10,
    "start_time": "2023-03-07T13:55:43.420Z"
   },
   {
    "duration": 116,
    "start_time": "2023-03-07T13:55:43.432Z"
   },
   {
    "duration": 36,
    "start_time": "2023-03-07T13:55:43.550Z"
   },
   {
    "duration": 16,
    "start_time": "2023-03-07T13:55:43.588Z"
   },
   {
    "duration": 15,
    "start_time": "2023-03-07T13:55:43.606Z"
   },
   {
    "duration": 22,
    "start_time": "2023-03-07T13:55:43.623Z"
   },
   {
    "duration": 78,
    "start_time": "2023-03-07T13:55:43.647Z"
   },
   {
    "duration": 58,
    "start_time": "2023-03-07T13:55:43.726Z"
   },
   {
    "duration": 49,
    "start_time": "2023-03-07T13:55:43.786Z"
   },
   {
    "duration": 96,
    "start_time": "2023-03-07T13:55:43.837Z"
   },
   {
    "duration": 36,
    "start_time": "2023-03-07T13:55:52.107Z"
   },
   {
    "duration": 684,
    "start_time": "2023-03-07T14:29:45.486Z"
   },
   {
    "duration": 535,
    "start_time": "2023-03-07T14:29:46.172Z"
   },
   {
    "duration": 190,
    "start_time": "2023-03-07T14:29:46.709Z"
   },
   {
    "duration": 41,
    "start_time": "2023-03-07T14:29:46.900Z"
   },
   {
    "duration": 131,
    "start_time": "2023-03-07T14:29:46.945Z"
   },
   {
    "duration": 36,
    "start_time": "2023-03-07T14:29:47.079Z"
   },
   {
    "duration": 9,
    "start_time": "2023-03-07T14:29:47.117Z"
   },
   {
    "duration": 111,
    "start_time": "2023-03-07T14:29:47.129Z"
   },
   {
    "duration": 35,
    "start_time": "2023-03-07T14:29:47.243Z"
   },
   {
    "duration": 16,
    "start_time": "2023-03-07T14:29:47.280Z"
   },
   {
    "duration": 29,
    "start_time": "2023-03-07T14:29:47.298Z"
   },
   {
    "duration": 11,
    "start_time": "2023-03-07T14:29:47.329Z"
   },
   {
    "duration": 87,
    "start_time": "2023-03-07T14:29:47.342Z"
   },
   {
    "duration": 56,
    "start_time": "2023-03-07T14:29:47.433Z"
   },
   {
    "duration": 54,
    "start_time": "2023-03-07T14:29:47.491Z"
   },
   {
    "duration": 47,
    "start_time": "2023-03-07T14:29:47.547Z"
   },
   {
    "duration": 682,
    "start_time": "2023-03-07T14:36:12.424Z"
   },
   {
    "duration": 510,
    "start_time": "2023-03-07T14:36:13.109Z"
   },
   {
    "duration": 177,
    "start_time": "2023-03-07T14:36:13.621Z"
   },
   {
    "duration": 49,
    "start_time": "2023-03-07T14:36:13.801Z"
   },
   {
    "duration": 137,
    "start_time": "2023-03-07T14:36:13.852Z"
   },
   {
    "duration": 37,
    "start_time": "2023-03-07T14:36:13.990Z"
   },
   {
    "duration": 10,
    "start_time": "2023-03-07T14:36:14.029Z"
   },
   {
    "duration": 113,
    "start_time": "2023-03-07T14:36:14.041Z"
   },
   {
    "duration": 28,
    "start_time": "2023-03-07T14:36:14.156Z"
   },
   {
    "duration": 16,
    "start_time": "2023-03-07T14:36:14.186Z"
   },
   {
    "duration": 18,
    "start_time": "2023-03-07T14:36:14.203Z"
   },
   {
    "duration": 6,
    "start_time": "2023-03-07T14:36:14.224Z"
   },
   {
    "duration": 105,
    "start_time": "2023-03-07T14:36:14.232Z"
   },
   {
    "duration": 58,
    "start_time": "2023-03-07T14:36:14.339Z"
   },
   {
    "duration": 50,
    "start_time": "2023-03-07T14:36:14.399Z"
   },
   {
    "duration": 119,
    "start_time": "2023-03-07T14:36:14.451Z"
   },
   {
    "duration": 36,
    "start_time": "2023-03-07T14:36:30.360Z"
   },
   {
    "duration": 750,
    "start_time": "2023-03-07T14:39:03.047Z"
   },
   {
    "duration": 502,
    "start_time": "2023-03-07T14:39:03.799Z"
   },
   {
    "duration": 187,
    "start_time": "2023-03-07T14:39:04.305Z"
   },
   {
    "duration": 41,
    "start_time": "2023-03-07T14:39:04.495Z"
   },
   {
    "duration": 134,
    "start_time": "2023-03-07T14:39:04.539Z"
   },
   {
    "duration": 34,
    "start_time": "2023-03-07T14:39:04.675Z"
   },
   {
    "duration": 9,
    "start_time": "2023-03-07T14:39:04.711Z"
   },
   {
    "duration": 109,
    "start_time": "2023-03-07T14:39:04.721Z"
   },
   {
    "duration": 23,
    "start_time": "2023-03-07T14:39:04.832Z"
   },
   {
    "duration": 29,
    "start_time": "2023-03-07T14:39:04.857Z"
   },
   {
    "duration": 19,
    "start_time": "2023-03-07T14:39:04.889Z"
   },
   {
    "duration": 10,
    "start_time": "2023-03-07T14:39:04.910Z"
   },
   {
    "duration": 110,
    "start_time": "2023-03-07T14:39:04.922Z"
   },
   {
    "duration": 50,
    "start_time": "2023-03-07T14:39:05.035Z"
   },
   {
    "duration": 53,
    "start_time": "2023-03-07T14:39:05.087Z"
   },
   {
    "duration": 1369,
    "start_time": "2023-03-07T14:39:05.142Z"
   },
   {
    "duration": 718,
    "start_time": "2023-03-07T14:39:51.933Z"
   },
   {
    "duration": 507,
    "start_time": "2023-03-07T14:39:52.653Z"
   },
   {
    "duration": 171,
    "start_time": "2023-03-07T14:39:53.162Z"
   },
   {
    "duration": 50,
    "start_time": "2023-03-07T14:39:53.335Z"
   },
   {
    "duration": 129,
    "start_time": "2023-03-07T14:39:53.387Z"
   },
   {
    "duration": 35,
    "start_time": "2023-03-07T14:39:53.518Z"
   },
   {
    "duration": 24,
    "start_time": "2023-03-07T14:39:53.554Z"
   },
   {
    "duration": 100,
    "start_time": "2023-03-07T14:39:53.579Z"
   },
   {
    "duration": 23,
    "start_time": "2023-03-07T14:39:53.680Z"
   },
   {
    "duration": 16,
    "start_time": "2023-03-07T14:39:53.706Z"
   },
   {
    "duration": 31,
    "start_time": "2023-03-07T14:39:53.724Z"
   },
   {
    "duration": 57,
    "start_time": "2023-03-07T14:39:53.757Z"
   },
   {
    "duration": 83,
    "start_time": "2023-03-07T14:39:53.816Z"
   },
   {
    "duration": 48,
    "start_time": "2023-03-07T14:39:53.901Z"
   },
   {
    "duration": 65,
    "start_time": "2023-03-07T14:39:53.950Z"
   },
   {
    "duration": 104,
    "start_time": "2023-03-07T14:39:54.017Z"
   },
   {
    "duration": 25,
    "start_time": "2023-03-07T14:40:21.304Z"
   },
   {
    "duration": 40,
    "start_time": "2023-03-07T14:41:37.687Z"
   },
   {
    "duration": 41,
    "start_time": "2023-03-07T14:41:50.500Z"
   },
   {
    "duration": 45,
    "start_time": "2023-03-07T14:42:48.995Z"
   },
   {
    "duration": 33,
    "start_time": "2023-03-07T14:43:02.285Z"
   },
   {
    "duration": 42,
    "start_time": "2023-03-07T14:43:29.880Z"
   },
   {
    "duration": 659,
    "start_time": "2023-03-07T14:45:23.513Z"
   },
   {
    "duration": 531,
    "start_time": "2023-03-07T14:45:24.174Z"
   },
   {
    "duration": 187,
    "start_time": "2023-03-07T14:45:24.710Z"
   },
   {
    "duration": 59,
    "start_time": "2023-03-07T14:45:24.900Z"
   },
   {
    "duration": 144,
    "start_time": "2023-03-07T14:45:24.960Z"
   },
   {
    "duration": 38,
    "start_time": "2023-03-07T14:45:25.106Z"
   },
   {
    "duration": 29,
    "start_time": "2023-03-07T14:45:25.147Z"
   },
   {
    "duration": 106,
    "start_time": "2023-03-07T14:45:25.178Z"
   },
   {
    "duration": 22,
    "start_time": "2023-03-07T14:45:25.286Z"
   },
   {
    "duration": 16,
    "start_time": "2023-03-07T14:45:25.309Z"
   },
   {
    "duration": 18,
    "start_time": "2023-03-07T14:45:25.327Z"
   },
   {
    "duration": 6,
    "start_time": "2023-03-07T14:45:25.347Z"
   },
   {
    "duration": 82,
    "start_time": "2023-03-07T14:45:25.355Z"
   },
   {
    "duration": 50,
    "start_time": "2023-03-07T14:45:25.440Z"
   },
   {
    "duration": 52,
    "start_time": "2023-03-07T14:45:25.492Z"
   },
   {
    "duration": 135,
    "start_time": "2023-03-07T14:45:25.546Z"
   },
   {
    "duration": 46,
    "start_time": "2023-03-07T14:45:34.083Z"
   },
   {
    "duration": 26,
    "start_time": "2023-03-07T14:45:54.143Z"
   },
   {
    "duration": 723,
    "start_time": "2023-03-07T14:47:57.440Z"
   },
   {
    "duration": 493,
    "start_time": "2023-03-07T14:47:58.165Z"
   },
   {
    "duration": 162,
    "start_time": "2023-03-07T14:47:58.660Z"
   },
   {
    "duration": 50,
    "start_time": "2023-03-07T14:47:58.824Z"
   },
   {
    "duration": 140,
    "start_time": "2023-03-07T14:47:58.876Z"
   },
   {
    "duration": 35,
    "start_time": "2023-03-07T14:47:59.018Z"
   },
   {
    "duration": 25,
    "start_time": "2023-03-07T14:47:59.055Z"
   },
   {
    "duration": 96,
    "start_time": "2023-03-07T14:47:59.081Z"
   },
   {
    "duration": 21,
    "start_time": "2023-03-07T14:47:59.179Z"
   },
   {
    "duration": 14,
    "start_time": "2023-03-07T14:47:59.202Z"
   },
   {
    "duration": 15,
    "start_time": "2023-03-07T14:47:59.218Z"
   },
   {
    "duration": 41,
    "start_time": "2023-03-07T14:47:59.235Z"
   },
   {
    "duration": 66,
    "start_time": "2023-03-07T14:47:59.278Z"
   },
   {
    "duration": 59,
    "start_time": "2023-03-07T14:47:59.347Z"
   },
   {
    "duration": 50,
    "start_time": "2023-03-07T14:47:59.408Z"
   },
   {
    "duration": 51,
    "start_time": "2023-03-07T14:47:59.459Z"
   },
   {
    "duration": 715,
    "start_time": "2023-03-07T14:51:17.424Z"
   },
   {
    "duration": 513,
    "start_time": "2023-03-07T14:51:18.141Z"
   },
   {
    "duration": 184,
    "start_time": "2023-03-07T14:51:18.656Z"
   },
   {
    "duration": 46,
    "start_time": "2023-03-07T14:51:18.842Z"
   },
   {
    "duration": 130,
    "start_time": "2023-03-07T14:51:18.890Z"
   },
   {
    "duration": 35,
    "start_time": "2023-03-07T14:51:19.022Z"
   },
   {
    "duration": 10,
    "start_time": "2023-03-07T14:51:19.072Z"
   },
   {
    "duration": 94,
    "start_time": "2023-03-07T14:51:19.083Z"
   },
   {
    "duration": 23,
    "start_time": "2023-03-07T14:51:19.179Z"
   },
   {
    "duration": 14,
    "start_time": "2023-03-07T14:51:19.204Z"
   },
   {
    "duration": 16,
    "start_time": "2023-03-07T14:51:19.220Z"
   },
   {
    "duration": 36,
    "start_time": "2023-03-07T14:51:19.238Z"
   },
   {
    "duration": 70,
    "start_time": "2023-03-07T14:51:19.276Z"
   },
   {
    "duration": 58,
    "start_time": "2023-03-07T14:51:19.348Z"
   },
   {
    "duration": 49,
    "start_time": "2023-03-07T14:51:19.408Z"
   },
   {
    "duration": 86,
    "start_time": "2023-03-07T14:51:19.472Z"
   },
   {
    "duration": 676,
    "start_time": "2023-03-07T14:51:37.028Z"
   },
   {
    "duration": 488,
    "start_time": "2023-03-07T14:51:37.708Z"
   },
   {
    "duration": 184,
    "start_time": "2023-03-07T14:51:38.198Z"
   },
   {
    "duration": 41,
    "start_time": "2023-03-07T14:51:38.385Z"
   },
   {
    "duration": 133,
    "start_time": "2023-03-07T14:51:38.428Z"
   },
   {
    "duration": 59,
    "start_time": "2023-03-07T14:51:38.564Z"
   },
   {
    "duration": 11,
    "start_time": "2023-03-07T14:51:38.626Z"
   },
   {
    "duration": 115,
    "start_time": "2023-03-07T14:51:38.639Z"
   },
   {
    "duration": 32,
    "start_time": "2023-03-07T14:51:38.755Z"
   },
   {
    "duration": 15,
    "start_time": "2023-03-07T14:51:38.789Z"
   },
   {
    "duration": 19,
    "start_time": "2023-03-07T14:51:38.806Z"
   },
   {
    "duration": 6,
    "start_time": "2023-03-07T14:51:38.827Z"
   },
   {
    "duration": 102,
    "start_time": "2023-03-07T14:51:38.834Z"
   },
   {
    "duration": 74,
    "start_time": "2023-03-07T14:51:38.938Z"
   },
   {
    "duration": 68,
    "start_time": "2023-03-07T14:51:39.014Z"
   },
   {
    "duration": 45,
    "start_time": "2023-03-07T14:51:39.084Z"
   },
   {
    "duration": 712,
    "start_time": "2023-03-07T14:58:29.997Z"
   },
   {
    "duration": 507,
    "start_time": "2023-03-07T14:58:30.711Z"
   },
   {
    "duration": 172,
    "start_time": "2023-03-07T14:58:31.220Z"
   },
   {
    "duration": 42,
    "start_time": "2023-03-07T14:58:31.394Z"
   },
   {
    "duration": 131,
    "start_time": "2023-03-07T14:58:31.437Z"
   },
   {
    "duration": 39,
    "start_time": "2023-03-07T14:58:31.573Z"
   },
   {
    "duration": 12,
    "start_time": "2023-03-07T14:58:31.613Z"
   },
   {
    "duration": 126,
    "start_time": "2023-03-07T14:58:31.627Z"
   },
   {
    "duration": 28,
    "start_time": "2023-03-07T14:58:31.755Z"
   },
   {
    "duration": 20,
    "start_time": "2023-03-07T14:58:31.785Z"
   },
   {
    "duration": 25,
    "start_time": "2023-03-07T14:58:31.807Z"
   },
   {
    "duration": 15,
    "start_time": "2023-03-07T14:58:31.834Z"
   },
   {
    "duration": 203,
    "start_time": "2023-03-07T14:58:31.851Z"
   },
   {
    "duration": 48,
    "start_time": "2023-03-07T14:58:32.056Z"
   },
   {
    "duration": 46,
    "start_time": "2023-03-07T14:58:32.106Z"
   },
   {
    "duration": 44,
    "start_time": "2023-03-07T14:58:32.154Z"
   },
   {
    "duration": 716,
    "start_time": "2023-03-07T14:59:30.018Z"
   },
   {
    "duration": 539,
    "start_time": "2023-03-07T14:59:30.737Z"
   },
   {
    "duration": 175,
    "start_time": "2023-03-07T14:59:31.278Z"
   },
   {
    "duration": 48,
    "start_time": "2023-03-07T14:59:31.455Z"
   },
   {
    "duration": 135,
    "start_time": "2023-03-07T14:59:31.507Z"
   },
   {
    "duration": 46,
    "start_time": "2023-03-07T14:59:31.644Z"
   },
   {
    "duration": 16,
    "start_time": "2023-03-07T14:59:31.692Z"
   },
   {
    "duration": 104,
    "start_time": "2023-03-07T14:59:31.709Z"
   },
   {
    "duration": 22,
    "start_time": "2023-03-07T14:59:31.815Z"
   },
   {
    "duration": 19,
    "start_time": "2023-03-07T14:59:31.839Z"
   },
   {
    "duration": 28,
    "start_time": "2023-03-07T14:59:31.859Z"
   },
   {
    "duration": 19,
    "start_time": "2023-03-07T14:59:31.889Z"
   },
   {
    "duration": 87,
    "start_time": "2023-03-07T14:59:31.910Z"
   },
   {
    "duration": 47,
    "start_time": "2023-03-07T14:59:31.999Z"
   },
   {
    "duration": 69,
    "start_time": "2023-03-07T14:59:32.048Z"
   },
   {
    "duration": 39,
    "start_time": "2023-03-07T14:59:32.118Z"
   },
   {
    "duration": 707,
    "start_time": "2023-03-07T15:07:56.545Z"
   },
   {
    "duration": 477,
    "start_time": "2023-03-07T15:07:57.254Z"
   },
   {
    "duration": 160,
    "start_time": "2023-03-07T15:07:57.733Z"
   },
   {
    "duration": 38,
    "start_time": "2023-03-07T15:07:57.895Z"
   },
   {
    "duration": 133,
    "start_time": "2023-03-07T15:07:57.935Z"
   },
   {
    "duration": 34,
    "start_time": "2023-03-07T15:07:58.073Z"
   },
   {
    "duration": 9,
    "start_time": "2023-03-07T15:07:58.109Z"
   },
   {
    "duration": 104,
    "start_time": "2023-03-07T15:07:58.120Z"
   },
   {
    "duration": 21,
    "start_time": "2023-03-07T15:07:58.226Z"
   },
   {
    "duration": 29,
    "start_time": "2023-03-07T15:07:58.249Z"
   },
   {
    "duration": 19,
    "start_time": "2023-03-07T15:07:58.280Z"
   },
   {
    "duration": 6,
    "start_time": "2023-03-07T15:07:58.301Z"
   },
   {
    "duration": 84,
    "start_time": "2023-03-07T15:07:58.309Z"
   },
   {
    "duration": 44,
    "start_time": "2023-03-07T15:07:58.395Z"
   },
   {
    "duration": 64,
    "start_time": "2023-03-07T15:07:58.441Z"
   },
   {
    "duration": 110,
    "start_time": "2023-03-07T15:07:58.507Z"
   },
   {
    "duration": 30,
    "start_time": "2023-03-07T15:08:38.701Z"
   },
   {
    "duration": 42,
    "start_time": "2023-03-07T15:09:13.295Z"
   },
   {
    "duration": 27,
    "start_time": "2023-03-07T15:10:24.488Z"
   },
   {
    "duration": 696,
    "start_time": "2023-03-07T15:12:10.487Z"
   },
   {
    "duration": 494,
    "start_time": "2023-03-07T15:12:11.185Z"
   },
   {
    "duration": 174,
    "start_time": "2023-03-07T15:12:11.681Z"
   },
   {
    "duration": 47,
    "start_time": "2023-03-07T15:12:11.857Z"
   },
   {
    "duration": 140,
    "start_time": "2023-03-07T15:12:11.906Z"
   },
   {
    "duration": 40,
    "start_time": "2023-03-07T15:12:12.048Z"
   },
   {
    "duration": 13,
    "start_time": "2023-03-07T15:12:12.090Z"
   },
   {
    "duration": 99,
    "start_time": "2023-03-07T15:12:12.105Z"
   },
   {
    "duration": 23,
    "start_time": "2023-03-07T15:12:12.207Z"
   },
   {
    "duration": 32,
    "start_time": "2023-03-07T15:12:12.233Z"
   },
   {
    "duration": 37,
    "start_time": "2023-03-07T15:12:12.267Z"
   },
   {
    "duration": 18,
    "start_time": "2023-03-07T15:12:12.306Z"
   },
   {
    "duration": 95,
    "start_time": "2023-03-07T15:12:12.326Z"
   },
   {
    "duration": 57,
    "start_time": "2023-03-07T15:12:12.423Z"
   },
   {
    "duration": 52,
    "start_time": "2023-03-07T15:12:12.482Z"
   },
   {
    "duration": 119,
    "start_time": "2023-03-07T15:12:12.536Z"
   },
   {
    "duration": 682,
    "start_time": "2023-03-07T15:13:38.425Z"
   },
   {
    "duration": 506,
    "start_time": "2023-03-07T15:13:39.109Z"
   },
   {
    "duration": 188,
    "start_time": "2023-03-07T15:13:39.618Z"
   },
   {
    "duration": 42,
    "start_time": "2023-03-07T15:13:39.809Z"
   },
   {
    "duration": 145,
    "start_time": "2023-03-07T15:13:39.853Z"
   },
   {
    "duration": 55,
    "start_time": "2023-03-07T15:13:40.001Z"
   },
   {
    "duration": 24,
    "start_time": "2023-03-07T15:13:40.058Z"
   },
   {
    "duration": 101,
    "start_time": "2023-03-07T15:13:40.084Z"
   },
   {
    "duration": 22,
    "start_time": "2023-03-07T15:13:40.187Z"
   },
   {
    "duration": 15,
    "start_time": "2023-03-07T15:13:40.211Z"
   },
   {
    "duration": 48,
    "start_time": "2023-03-07T15:13:40.228Z"
   },
   {
    "duration": 7,
    "start_time": "2023-03-07T15:13:40.278Z"
   },
   {
    "duration": 88,
    "start_time": "2023-03-07T15:13:40.286Z"
   },
   {
    "duration": 51,
    "start_time": "2023-03-07T15:13:40.376Z"
   },
   {
    "duration": 78,
    "start_time": "2023-03-07T15:13:40.431Z"
   },
   {
    "duration": 64,
    "start_time": "2023-03-07T15:13:40.511Z"
   },
   {
    "duration": 689,
    "start_time": "2023-03-07T15:13:51.308Z"
   },
   {
    "duration": 512,
    "start_time": "2023-03-07T15:13:51.999Z"
   },
   {
    "duration": 202,
    "start_time": "2023-03-07T15:13:52.513Z"
   },
   {
    "duration": 43,
    "start_time": "2023-03-07T15:13:52.717Z"
   },
   {
    "duration": 142,
    "start_time": "2023-03-07T15:13:52.761Z"
   },
   {
    "duration": 37,
    "start_time": "2023-03-07T15:13:52.905Z"
   },
   {
    "duration": 10,
    "start_time": "2023-03-07T15:13:52.944Z"
   },
   {
    "duration": 119,
    "start_time": "2023-03-07T15:13:52.973Z"
   },
   {
    "duration": 40,
    "start_time": "2023-03-07T15:13:53.094Z"
   },
   {
    "duration": 16,
    "start_time": "2023-03-07T15:13:53.137Z"
   },
   {
    "duration": 25,
    "start_time": "2023-03-07T15:13:53.155Z"
   },
   {
    "duration": 9,
    "start_time": "2023-03-07T15:13:53.183Z"
   },
   {
    "duration": 112,
    "start_time": "2023-03-07T15:13:53.194Z"
   },
   {
    "duration": 46,
    "start_time": "2023-03-07T15:13:53.308Z"
   },
   {
    "duration": 61,
    "start_time": "2023-03-07T15:13:53.355Z"
   },
   {
    "duration": 109,
    "start_time": "2023-03-07T15:13:53.418Z"
   },
   {
    "duration": 798,
    "start_time": "2023-03-07T15:14:10.022Z"
   },
   {
    "duration": 517,
    "start_time": "2023-03-07T15:14:10.823Z"
   },
   {
    "duration": 201,
    "start_time": "2023-03-07T15:14:11.342Z"
   },
   {
    "duration": 51,
    "start_time": "2023-03-07T15:14:11.545Z"
   },
   {
    "duration": 129,
    "start_time": "2023-03-07T15:14:11.599Z"
   },
   {
    "duration": 46,
    "start_time": "2023-03-07T15:14:11.730Z"
   },
   {
    "duration": 12,
    "start_time": "2023-03-07T15:14:11.779Z"
   },
   {
    "duration": 142,
    "start_time": "2023-03-07T15:14:11.793Z"
   },
   {
    "duration": 23,
    "start_time": "2023-03-07T15:14:11.937Z"
   },
   {
    "duration": 17,
    "start_time": "2023-03-07T15:14:11.975Z"
   },
   {
    "duration": 22,
    "start_time": "2023-03-07T15:14:11.994Z"
   },
   {
    "duration": 6,
    "start_time": "2023-03-07T15:14:12.018Z"
   },
   {
    "duration": 93,
    "start_time": "2023-03-07T15:14:12.026Z"
   },
   {
    "duration": 68,
    "start_time": "2023-03-07T15:14:12.122Z"
   },
   {
    "duration": 58,
    "start_time": "2023-03-07T15:14:12.192Z"
   },
   {
    "duration": 59,
    "start_time": "2023-03-07T15:14:12.252Z"
   },
   {
    "duration": 774,
    "start_time": "2023-03-07T15:14:52.475Z"
   },
   {
    "duration": 513,
    "start_time": "2023-03-07T15:14:53.251Z"
   },
   {
    "duration": 170,
    "start_time": "2023-03-07T15:14:53.766Z"
   },
   {
    "duration": 52,
    "start_time": "2023-03-07T15:14:53.939Z"
   },
   {
    "duration": 125,
    "start_time": "2023-03-07T15:14:53.993Z"
   },
   {
    "duration": 35,
    "start_time": "2023-03-07T15:14:54.120Z"
   },
   {
    "duration": 9,
    "start_time": "2023-03-07T15:14:54.173Z"
   },
   {
    "duration": 118,
    "start_time": "2023-03-07T15:14:54.184Z"
   },
   {
    "duration": 25,
    "start_time": "2023-03-07T15:14:54.304Z"
   },
   {
    "duration": 15,
    "start_time": "2023-03-07T15:14:54.332Z"
   },
   {
    "duration": 50,
    "start_time": "2023-03-07T15:14:54.349Z"
   },
   {
    "duration": 25,
    "start_time": "2023-03-07T15:14:54.401Z"
   },
   {
    "duration": 91,
    "start_time": "2023-03-07T15:14:54.429Z"
   },
   {
    "duration": 57,
    "start_time": "2023-03-07T15:14:54.522Z"
   },
   {
    "duration": 55,
    "start_time": "2023-03-07T15:14:54.581Z"
   },
   {
    "duration": 64,
    "start_time": "2023-03-07T15:14:54.638Z"
   },
   {
    "duration": 716,
    "start_time": "2023-03-07T15:18:52.888Z"
   },
   {
    "duration": 564,
    "start_time": "2023-03-07T15:18:53.607Z"
   },
   {
    "duration": 213,
    "start_time": "2023-03-07T15:18:54.173Z"
   },
   {
    "duration": 46,
    "start_time": "2023-03-07T15:18:54.388Z"
   },
   {
    "duration": 173,
    "start_time": "2023-03-07T15:18:54.437Z"
   },
   {
    "duration": 36,
    "start_time": "2023-03-07T15:18:54.612Z"
   },
   {
    "duration": 10,
    "start_time": "2023-03-07T15:18:54.650Z"
   },
   {
    "duration": 143,
    "start_time": "2023-03-07T15:18:54.662Z"
   },
   {
    "duration": 23,
    "start_time": "2023-03-07T15:18:54.807Z"
   },
   {
    "duration": 18,
    "start_time": "2023-03-07T15:18:54.832Z"
   },
   {
    "duration": 21,
    "start_time": "2023-03-07T15:18:54.876Z"
   },
   {
    "duration": 10,
    "start_time": "2023-03-07T15:18:54.899Z"
   },
   {
    "duration": 86,
    "start_time": "2023-03-07T15:18:54.911Z"
   },
   {
    "duration": 53,
    "start_time": "2023-03-07T15:18:55.000Z"
   },
   {
    "duration": 89,
    "start_time": "2023-03-07T15:18:55.055Z"
   },
   {
    "duration": 53,
    "start_time": "2023-03-07T15:18:55.146Z"
   },
   {
    "duration": 735,
    "start_time": "2023-03-07T15:19:33.825Z"
   },
   {
    "duration": 555,
    "start_time": "2023-03-07T15:19:34.562Z"
   },
   {
    "duration": 208,
    "start_time": "2023-03-07T15:19:35.119Z"
   },
   {
    "duration": 50,
    "start_time": "2023-03-07T15:19:35.329Z"
   },
   {
    "duration": 147,
    "start_time": "2023-03-07T15:19:35.386Z"
   },
   {
    "duration": 54,
    "start_time": "2023-03-07T15:19:35.535Z"
   },
   {
    "duration": 11,
    "start_time": "2023-03-07T15:19:35.591Z"
   },
   {
    "duration": 100,
    "start_time": "2023-03-07T15:19:35.603Z"
   },
   {
    "duration": 21,
    "start_time": "2023-03-07T15:19:35.705Z"
   },
   {
    "duration": 15,
    "start_time": "2023-03-07T15:19:35.729Z"
   },
   {
    "duration": 47,
    "start_time": "2023-03-07T15:19:35.746Z"
   },
   {
    "duration": 11,
    "start_time": "2023-03-07T15:19:35.795Z"
   },
   {
    "duration": 79,
    "start_time": "2023-03-07T15:19:35.809Z"
   },
   {
    "duration": 66,
    "start_time": "2023-03-07T15:19:35.890Z"
   },
   {
    "duration": 71,
    "start_time": "2023-03-07T15:19:35.958Z"
   },
   {
    "duration": 63,
    "start_time": "2023-03-07T15:19:36.031Z"
   },
   {
    "duration": 777,
    "start_time": "2023-03-07T15:24:30.145Z"
   },
   {
    "duration": 521,
    "start_time": "2023-03-07T15:24:30.924Z"
   },
   {
    "duration": 181,
    "start_time": "2023-03-07T15:24:31.447Z"
   },
   {
    "duration": 57,
    "start_time": "2023-03-07T15:24:31.630Z"
   },
   {
    "duration": 129,
    "start_time": "2023-03-07T15:24:31.692Z"
   },
   {
    "duration": 36,
    "start_time": "2023-03-07T15:24:31.823Z"
   },
   {
    "duration": 16,
    "start_time": "2023-03-07T15:24:31.872Z"
   },
   {
    "duration": 100,
    "start_time": "2023-03-07T15:24:31.890Z"
   },
   {
    "duration": 23,
    "start_time": "2023-03-07T15:24:31.992Z"
   },
   {
    "duration": 27,
    "start_time": "2023-03-07T15:24:32.018Z"
   },
   {
    "duration": 40,
    "start_time": "2023-03-07T15:24:32.046Z"
   },
   {
    "duration": 18,
    "start_time": "2023-03-07T15:24:32.089Z"
   },
   {
    "duration": 83,
    "start_time": "2023-03-07T15:24:32.109Z"
   },
   {
    "duration": 49,
    "start_time": "2023-03-07T15:24:32.194Z"
   },
   {
    "duration": 70,
    "start_time": "2023-03-07T15:24:32.244Z"
   },
   {
    "duration": 60,
    "start_time": "2023-03-07T15:24:32.316Z"
   },
   {
    "duration": 38,
    "start_time": "2023-03-07T15:24:32.377Z"
   },
   {
    "duration": 696,
    "start_time": "2023-03-07T15:28:04.528Z"
   },
   {
    "duration": 505,
    "start_time": "2023-03-07T15:28:05.227Z"
   },
   {
    "duration": 168,
    "start_time": "2023-03-07T15:28:05.733Z"
   },
   {
    "duration": 41,
    "start_time": "2023-03-07T15:28:05.903Z"
   },
   {
    "duration": 139,
    "start_time": "2023-03-07T15:28:05.946Z"
   },
   {
    "duration": 36,
    "start_time": "2023-03-07T15:28:06.088Z"
   },
   {
    "duration": 9,
    "start_time": "2023-03-07T15:28:06.126Z"
   },
   {
    "duration": 121,
    "start_time": "2023-03-07T15:28:06.137Z"
   },
   {
    "duration": 38,
    "start_time": "2023-03-07T15:28:06.260Z"
   },
   {
    "duration": 23,
    "start_time": "2023-03-07T15:28:06.301Z"
   },
   {
    "duration": 18,
    "start_time": "2023-03-07T15:28:06.326Z"
   },
   {
    "duration": 32,
    "start_time": "2023-03-07T15:28:06.346Z"
   },
   {
    "duration": 96,
    "start_time": "2023-03-07T15:28:06.380Z"
   },
   {
    "duration": 50,
    "start_time": "2023-03-07T15:28:06.478Z"
   },
   {
    "duration": 77,
    "start_time": "2023-03-07T15:28:06.530Z"
   },
   {
    "duration": 53,
    "start_time": "2023-03-07T15:28:06.609Z"
   },
   {
    "duration": 85,
    "start_time": "2023-03-07T15:28:06.663Z"
   },
   {
    "duration": 3,
    "start_time": "2023-03-07T15:29:16.589Z"
   },
   {
    "duration": 40,
    "start_time": "2023-03-07T15:29:59.317Z"
   },
   {
    "duration": 737,
    "start_time": "2023-03-07T15:30:58.290Z"
   },
   {
    "duration": 515,
    "start_time": "2023-03-07T15:30:59.029Z"
   },
   {
    "duration": 189,
    "start_time": "2023-03-07T15:30:59.546Z"
   },
   {
    "duration": 54,
    "start_time": "2023-03-07T15:30:59.737Z"
   },
   {
    "duration": 128,
    "start_time": "2023-03-07T15:30:59.794Z"
   },
   {
    "duration": 37,
    "start_time": "2023-03-07T15:30:59.923Z"
   },
   {
    "duration": 25,
    "start_time": "2023-03-07T15:30:59.962Z"
   },
   {
    "duration": 96,
    "start_time": "2023-03-07T15:30:59.989Z"
   },
   {
    "duration": 22,
    "start_time": "2023-03-07T15:31:00.087Z"
   },
   {
    "duration": 15,
    "start_time": "2023-03-07T15:31:00.112Z"
   },
   {
    "duration": 55,
    "start_time": "2023-03-07T15:31:00.129Z"
   },
   {
    "duration": 11,
    "start_time": "2023-03-07T15:31:00.187Z"
   },
   {
    "duration": 97,
    "start_time": "2023-03-07T15:31:00.200Z"
   },
   {
    "duration": 49,
    "start_time": "2023-03-07T15:31:00.299Z"
   },
   {
    "duration": 86,
    "start_time": "2023-03-07T15:31:00.350Z"
   },
   {
    "duration": 63,
    "start_time": "2023-03-07T15:31:00.440Z"
   },
   {
    "duration": 3,
    "start_time": "2023-03-07T15:31:00.505Z"
   },
   {
    "duration": 692,
    "start_time": "2023-03-07T15:31:26.033Z"
   },
   {
    "duration": 516,
    "start_time": "2023-03-07T15:31:26.728Z"
   },
   {
    "duration": 178,
    "start_time": "2023-03-07T15:31:27.245Z"
   },
   {
    "duration": 58,
    "start_time": "2023-03-07T15:31:27.426Z"
   },
   {
    "duration": 123,
    "start_time": "2023-03-07T15:31:27.486Z"
   },
   {
    "duration": 37,
    "start_time": "2023-03-07T15:31:27.611Z"
   },
   {
    "duration": 9,
    "start_time": "2023-03-07T15:31:27.650Z"
   },
   {
    "duration": 103,
    "start_time": "2023-03-07T15:31:27.661Z"
   },
   {
    "duration": 38,
    "start_time": "2023-03-07T15:31:27.766Z"
   },
   {
    "duration": 15,
    "start_time": "2023-03-07T15:31:27.807Z"
   },
   {
    "duration": 16,
    "start_time": "2023-03-07T15:31:27.823Z"
   },
   {
    "duration": 46,
    "start_time": "2023-03-07T15:31:27.841Z"
   },
   {
    "duration": 82,
    "start_time": "2023-03-07T15:31:27.889Z"
   },
   {
    "duration": 50,
    "start_time": "2023-03-07T15:31:27.979Z"
   },
   {
    "duration": 70,
    "start_time": "2023-03-07T15:31:28.030Z"
   },
   {
    "duration": 46,
    "start_time": "2023-03-07T15:31:28.102Z"
   },
   {
    "duration": 3,
    "start_time": "2023-03-07T15:31:28.149Z"
   },
   {
    "duration": 701,
    "start_time": "2023-03-07T15:35:40.231Z"
   },
   {
    "duration": 531,
    "start_time": "2023-03-07T15:35:40.934Z"
   },
   {
    "duration": 184,
    "start_time": "2023-03-07T15:35:41.467Z"
   },
   {
    "duration": 48,
    "start_time": "2023-03-07T15:35:41.653Z"
   },
   {
    "duration": 122,
    "start_time": "2023-03-07T15:35:41.703Z"
   },
   {
    "duration": 49,
    "start_time": "2023-03-07T15:35:41.827Z"
   },
   {
    "duration": 13,
    "start_time": "2023-03-07T15:35:41.879Z"
   },
   {
    "duration": 124,
    "start_time": "2023-03-07T15:35:41.894Z"
   },
   {
    "duration": 22,
    "start_time": "2023-03-07T15:35:42.020Z"
   },
   {
    "duration": 32,
    "start_time": "2023-03-07T15:35:42.044Z"
   },
   {
    "duration": 21,
    "start_time": "2023-03-07T15:35:42.077Z"
   },
   {
    "duration": 15,
    "start_time": "2023-03-07T15:35:42.100Z"
   },
   {
    "duration": 87,
    "start_time": "2023-03-07T15:35:42.117Z"
   },
   {
    "duration": 46,
    "start_time": "2023-03-07T15:35:42.206Z"
   },
   {
    "duration": 74,
    "start_time": "2023-03-07T15:35:42.254Z"
   },
   {
    "duration": 72,
    "start_time": "2023-03-07T15:35:42.329Z"
   },
   {
    "duration": 2,
    "start_time": "2023-03-07T15:35:42.403Z"
   },
   {
    "duration": 723,
    "start_time": "2023-03-07T15:51:10.641Z"
   },
   {
    "duration": 488,
    "start_time": "2023-03-07T15:51:11.366Z"
   },
   {
    "duration": 166,
    "start_time": "2023-03-07T15:51:11.855Z"
   },
   {
    "duration": 49,
    "start_time": "2023-03-07T15:51:12.024Z"
   },
   {
    "duration": 129,
    "start_time": "2023-03-07T15:51:12.075Z"
   },
   {
    "duration": 35,
    "start_time": "2023-03-07T15:51:12.206Z"
   },
   {
    "duration": 9,
    "start_time": "2023-03-07T15:51:12.243Z"
   },
   {
    "duration": 101,
    "start_time": "2023-03-07T15:51:12.255Z"
   },
   {
    "duration": 30,
    "start_time": "2023-03-07T15:51:12.358Z"
   },
   {
    "duration": 15,
    "start_time": "2023-03-07T15:51:12.391Z"
   },
   {
    "duration": 17,
    "start_time": "2023-03-07T15:51:12.407Z"
   },
   {
    "duration": 8,
    "start_time": "2023-03-07T15:51:12.426Z"
   },
   {
    "duration": 109,
    "start_time": "2023-03-07T15:51:12.436Z"
   },
   {
    "duration": 66,
    "start_time": "2023-03-07T15:51:12.547Z"
   },
   {
    "duration": 60,
    "start_time": "2023-03-07T15:51:12.615Z"
   },
   {
    "duration": 50,
    "start_time": "2023-03-07T15:51:12.677Z"
   },
   {
    "duration": 3,
    "start_time": "2023-03-07T15:51:12.728Z"
   },
   {
    "duration": 5,
    "start_time": "2023-03-07T16:12:35.547Z"
   },
   {
    "duration": 3,
    "start_time": "2023-03-07T16:15:00.670Z"
   },
   {
    "duration": 5,
    "start_time": "2023-03-07T16:15:06.900Z"
   },
   {
    "duration": 96,
    "start_time": "2023-03-07T16:15:56.459Z"
   },
   {
    "duration": 5,
    "start_time": "2023-03-07T16:15:58.940Z"
   },
   {
    "duration": 4,
    "start_time": "2023-03-07T16:16:00.942Z"
   },
   {
    "duration": 4,
    "start_time": "2023-03-07T16:16:11.098Z"
   },
   {
    "duration": 4,
    "start_time": "2023-03-07T16:16:16.097Z"
   },
   {
    "duration": 16,
    "start_time": "2023-03-07T16:18:57.006Z"
   },
   {
    "duration": 8,
    "start_time": "2023-03-07T16:20:14.686Z"
   },
   {
    "duration": 22,
    "start_time": "2023-03-07T16:20:17.769Z"
   },
   {
    "duration": 725,
    "start_time": "2023-03-07T16:20:58.844Z"
   },
   {
    "duration": 527,
    "start_time": "2023-03-07T16:20:59.571Z"
   },
   {
    "duration": 204,
    "start_time": "2023-03-07T16:21:00.100Z"
   },
   {
    "duration": 43,
    "start_time": "2023-03-07T16:21:00.307Z"
   },
   {
    "duration": 174,
    "start_time": "2023-03-07T16:21:00.352Z"
   },
   {
    "duration": 66,
    "start_time": "2023-03-07T16:21:00.529Z"
   },
   {
    "duration": 23,
    "start_time": "2023-03-07T16:21:00.597Z"
   },
   {
    "duration": 142,
    "start_time": "2023-03-07T16:21:00.623Z"
   },
   {
    "duration": 30,
    "start_time": "2023-03-07T16:21:00.772Z"
   },
   {
    "duration": 73,
    "start_time": "2023-03-07T16:21:00.805Z"
   },
   {
    "duration": 65,
    "start_time": "2023-03-07T16:21:00.884Z"
   },
   {
    "duration": 46,
    "start_time": "2023-03-07T16:21:00.951Z"
   },
   {
    "duration": 143,
    "start_time": "2023-03-07T16:21:00.999Z"
   },
   {
    "duration": 64,
    "start_time": "2023-03-07T16:21:01.144Z"
   },
   {
    "duration": 60,
    "start_time": "2023-03-07T16:21:01.210Z"
   },
   {
    "duration": 128,
    "start_time": "2023-03-07T16:21:01.273Z"
   },
   {
    "duration": 21,
    "start_time": "2023-03-07T16:21:01.403Z"
   },
   {
    "duration": 42,
    "start_time": "2023-03-07T16:21:01.426Z"
   },
   {
    "duration": 54,
    "start_time": "2023-03-07T16:21:01.469Z"
   },
   {
    "duration": 107,
    "start_time": "2023-03-07T16:21:01.525Z"
   },
   {
    "duration": 13,
    "start_time": "2023-03-07T16:23:08.823Z"
   },
   {
    "duration": 16,
    "start_time": "2023-03-07T16:23:52.695Z"
   },
   {
    "duration": 5,
    "start_time": "2023-03-07T16:24:23.948Z"
   },
   {
    "duration": 20,
    "start_time": "2023-03-07T16:24:27.434Z"
   },
   {
    "duration": 1502,
    "start_time": "2023-03-07T16:24:54.448Z"
   },
   {
    "duration": 19,
    "start_time": "2023-03-07T16:26:02.223Z"
   },
   {
    "duration": 101,
    "start_time": "2023-03-07T16:27:43.826Z"
   },
   {
    "duration": 17,
    "start_time": "2023-03-07T16:28:03.014Z"
   },
   {
    "duration": 1613,
    "start_time": "2023-03-07T16:30:30.527Z"
   },
   {
    "duration": 2489,
    "start_time": "2023-03-07T16:31:26.438Z"
   },
   {
    "duration": 4,
    "start_time": "2023-03-07T16:32:09.772Z"
   },
   {
    "duration": 1623,
    "start_time": "2023-03-07T16:38:21.842Z"
   },
   {
    "duration": 703,
    "start_time": "2023-03-07T16:38:57.854Z"
   },
   {
    "duration": 540,
    "start_time": "2023-03-07T16:38:58.559Z"
   },
   {
    "duration": 177,
    "start_time": "2023-03-07T16:38:59.101Z"
   },
   {
    "duration": 49,
    "start_time": "2023-03-07T16:38:59.280Z"
   },
   {
    "duration": 147,
    "start_time": "2023-03-07T16:38:59.331Z"
   },
   {
    "duration": 39,
    "start_time": "2023-03-07T16:38:59.485Z"
   },
   {
    "duration": 12,
    "start_time": "2023-03-07T16:38:59.526Z"
   },
   {
    "duration": 114,
    "start_time": "2023-03-07T16:38:59.540Z"
   },
   {
    "duration": 33,
    "start_time": "2023-03-07T16:38:59.656Z"
   },
   {
    "duration": 17,
    "start_time": "2023-03-07T16:38:59.691Z"
   },
   {
    "duration": 26,
    "start_time": "2023-03-07T16:38:59.710Z"
   },
   {
    "duration": 36,
    "start_time": "2023-03-07T16:38:59.738Z"
   },
   {
    "duration": 83,
    "start_time": "2023-03-07T16:38:59.776Z"
   },
   {
    "duration": 51,
    "start_time": "2023-03-07T16:38:59.862Z"
   },
   {
    "duration": 72,
    "start_time": "2023-03-07T16:38:59.915Z"
   },
   {
    "duration": 74,
    "start_time": "2023-03-07T16:38:59.992Z"
   },
   {
    "duration": 23,
    "start_time": "2023-03-07T16:39:00.067Z"
   },
   {
    "duration": 1634,
    "start_time": "2023-03-07T16:39:00.093Z"
   },
   {
    "duration": 0,
    "start_time": "2023-03-07T16:39:01.729Z"
   },
   {
    "duration": 0,
    "start_time": "2023-03-07T16:39:01.730Z"
   },
   {
    "duration": 2048,
    "start_time": "2023-03-07T16:41:07.896Z"
   },
   {
    "duration": 740,
    "start_time": "2023-03-08T13:18:13.043Z"
   },
   {
    "duration": 704,
    "start_time": "2023-03-08T13:20:12.524Z"
   },
   {
    "duration": 14,
    "start_time": "2023-03-08T13:20:58.288Z"
   },
   {
    "duration": 4,
    "start_time": "2023-03-08T13:26:33.589Z"
   },
   {
    "duration": 12,
    "start_time": "2023-03-08T13:26:38.264Z"
   },
   {
    "duration": 11,
    "start_time": "2023-03-08T13:31:42.847Z"
   },
   {
    "duration": 5,
    "start_time": "2023-03-08T13:31:49.118Z"
   },
   {
    "duration": 11,
    "start_time": "2023-03-08T13:31:51.505Z"
   },
   {
    "duration": 729,
    "start_time": "2023-03-08T13:34:31.548Z"
   },
   {
    "duration": 4,
    "start_time": "2023-03-08T13:37:17.643Z"
   },
   {
    "duration": 4,
    "start_time": "2023-03-08T13:37:33.833Z"
   },
   {
    "duration": 25,
    "start_time": "2023-03-08T13:39:21.197Z"
   },
   {
    "duration": 25,
    "start_time": "2023-03-08T13:41:21.900Z"
   },
   {
    "duration": 18,
    "start_time": "2023-03-08T13:41:28.446Z"
   },
   {
    "duration": 703,
    "start_time": "2023-03-08T13:41:45.339Z"
   },
   {
    "duration": 20,
    "start_time": "2023-03-08T13:44:04.210Z"
   },
   {
    "duration": 585,
    "start_time": "2023-03-08T13:44:09.492Z"
   },
   {
    "duration": 475,
    "start_time": "2023-03-08T13:44:10.079Z"
   },
   {
    "duration": 173,
    "start_time": "2023-03-08T13:44:10.556Z"
   },
   {
    "duration": 42,
    "start_time": "2023-03-08T13:44:10.731Z"
   },
   {
    "duration": 125,
    "start_time": "2023-03-08T13:44:10.775Z"
   },
   {
    "duration": 41,
    "start_time": "2023-03-08T13:44:10.902Z"
   },
   {
    "duration": 9,
    "start_time": "2023-03-08T13:44:10.945Z"
   },
   {
    "duration": 101,
    "start_time": "2023-03-08T13:44:10.956Z"
   },
   {
    "duration": 23,
    "start_time": "2023-03-08T13:44:11.059Z"
   },
   {
    "duration": 15,
    "start_time": "2023-03-08T13:44:11.084Z"
   },
   {
    "duration": 16,
    "start_time": "2023-03-08T13:44:11.100Z"
   },
   {
    "duration": 8,
    "start_time": "2023-03-08T13:44:11.141Z"
   },
   {
    "duration": 71,
    "start_time": "2023-03-08T13:44:11.151Z"
   },
   {
    "duration": 58,
    "start_time": "2023-03-08T13:44:11.224Z"
   },
   {
    "duration": 67,
    "start_time": "2023-03-08T13:44:11.284Z"
   },
   {
    "duration": 47,
    "start_time": "2023-03-08T13:44:11.353Z"
   },
   {
    "duration": 19,
    "start_time": "2023-03-08T13:44:11.402Z"
   },
   {
    "duration": 6,
    "start_time": "2023-03-08T13:44:11.440Z"
   },
   {
    "duration": 94,
    "start_time": "2023-03-08T13:44:11.448Z"
   },
   {
    "duration": 0,
    "start_time": "2023-03-08T13:44:11.544Z"
   },
   {
    "duration": 0,
    "start_time": "2023-03-08T13:44:11.545Z"
   },
   {
    "duration": 16,
    "start_time": "2023-03-08T13:45:43.269Z"
   },
   {
    "duration": 718,
    "start_time": "2023-03-08T13:51:14.235Z"
   },
   {
    "duration": 2,
    "start_time": "2023-03-08T13:51:23.921Z"
   },
   {
    "duration": 715,
    "start_time": "2023-03-08T13:52:34.219Z"
   },
   {
    "duration": 701,
    "start_time": "2023-03-08T13:52:59.414Z"
   },
   {
    "duration": 639,
    "start_time": "2023-03-08T13:54:29.870Z"
   },
   {
    "duration": 503,
    "start_time": "2023-03-08T13:54:30.511Z"
   },
   {
    "duration": 194,
    "start_time": "2023-03-08T13:54:31.017Z"
   },
   {
    "duration": 46,
    "start_time": "2023-03-08T13:54:31.213Z"
   },
   {
    "duration": 134,
    "start_time": "2023-03-08T13:54:31.262Z"
   },
   {
    "duration": 34,
    "start_time": "2023-03-08T13:54:31.397Z"
   },
   {
    "duration": 10,
    "start_time": "2023-03-08T13:54:31.442Z"
   },
   {
    "duration": 90,
    "start_time": "2023-03-08T13:54:31.454Z"
   },
   {
    "duration": 18,
    "start_time": "2023-03-08T13:54:31.546Z"
   },
   {
    "duration": 13,
    "start_time": "2023-03-08T13:54:31.566Z"
   },
   {
    "duration": 21,
    "start_time": "2023-03-08T13:54:31.581Z"
   },
   {
    "duration": 8,
    "start_time": "2023-03-08T13:54:31.603Z"
   },
   {
    "duration": 94,
    "start_time": "2023-03-08T13:54:31.612Z"
   },
   {
    "duration": 54,
    "start_time": "2023-03-08T13:54:31.708Z"
   },
   {
    "duration": 82,
    "start_time": "2023-03-08T13:54:31.763Z"
   },
   {
    "duration": 52,
    "start_time": "2023-03-08T13:54:31.847Z"
   },
   {
    "duration": 21,
    "start_time": "2023-03-08T13:54:31.900Z"
   },
   {
    "duration": 28,
    "start_time": "2023-03-08T13:54:31.942Z"
   },
   {
    "duration": 739,
    "start_time": "2023-03-08T13:54:31.972Z"
   },
   {
    "duration": 0,
    "start_time": "2023-03-08T13:54:32.713Z"
   },
   {
    "duration": 0,
    "start_time": "2023-03-08T13:54:32.714Z"
   },
   {
    "duration": 0,
    "start_time": "2023-03-08T13:54:32.715Z"
   },
   {
    "duration": 174,
    "start_time": "2023-03-08T13:55:36.789Z"
   },
   {
    "duration": 165,
    "start_time": "2023-03-08T13:55:59.901Z"
   },
   {
    "duration": 170,
    "start_time": "2023-03-08T13:56:13.531Z"
   },
   {
    "duration": 668,
    "start_time": "2023-03-08T13:56:22.818Z"
   },
   {
    "duration": 496,
    "start_time": "2023-03-08T13:56:23.488Z"
   },
   {
    "duration": 182,
    "start_time": "2023-03-08T13:56:23.989Z"
   },
   {
    "duration": 40,
    "start_time": "2023-03-08T13:56:24.174Z"
   },
   {
    "duration": 128,
    "start_time": "2023-03-08T13:56:24.216Z"
   },
   {
    "duration": 35,
    "start_time": "2023-03-08T13:56:24.346Z"
   },
   {
    "duration": 9,
    "start_time": "2023-03-08T13:56:24.383Z"
   },
   {
    "duration": 136,
    "start_time": "2023-03-08T13:56:24.394Z"
   },
   {
    "duration": 27,
    "start_time": "2023-03-08T13:56:24.532Z"
   },
   {
    "duration": 14,
    "start_time": "2023-03-08T13:56:24.561Z"
   },
   {
    "duration": 15,
    "start_time": "2023-03-08T13:56:24.578Z"
   },
   {
    "duration": 6,
    "start_time": "2023-03-08T13:56:24.594Z"
   },
   {
    "duration": 96,
    "start_time": "2023-03-08T13:56:24.602Z"
   },
   {
    "duration": 71,
    "start_time": "2023-03-08T13:56:24.700Z"
   },
   {
    "duration": 69,
    "start_time": "2023-03-08T13:56:24.773Z"
   },
   {
    "duration": 51,
    "start_time": "2023-03-08T13:56:24.844Z"
   },
   {
    "duration": 22,
    "start_time": "2023-03-08T13:56:24.897Z"
   },
   {
    "duration": 22,
    "start_time": "2023-03-08T13:56:24.921Z"
   },
   {
    "duration": 196,
    "start_time": "2023-03-08T13:56:24.945Z"
   },
   {
    "duration": 4,
    "start_time": "2023-03-08T13:56:25.142Z"
   },
   {
    "duration": 3,
    "start_time": "2023-03-08T13:56:25.148Z"
   },
   {
    "duration": 4,
    "start_time": "2023-03-08T13:56:25.153Z"
   },
   {
    "duration": 649,
    "start_time": "2023-03-08T13:56:54.935Z"
   },
   {
    "duration": 491,
    "start_time": "2023-03-08T13:56:55.586Z"
   },
   {
    "duration": 216,
    "start_time": "2023-03-08T13:56:56.079Z"
   },
   {
    "duration": 50,
    "start_time": "2023-03-08T13:56:56.298Z"
   },
   {
    "duration": 116,
    "start_time": "2023-03-08T13:56:56.350Z"
   },
   {
    "duration": 32,
    "start_time": "2023-03-08T13:56:56.467Z"
   },
   {
    "duration": 10,
    "start_time": "2023-03-08T13:56:56.500Z"
   },
   {
    "duration": 96,
    "start_time": "2023-03-08T13:56:56.511Z"
   },
   {
    "duration": 36,
    "start_time": "2023-03-08T13:56:56.609Z"
   },
   {
    "duration": 16,
    "start_time": "2023-03-08T13:56:56.649Z"
   },
   {
    "duration": 15,
    "start_time": "2023-03-08T13:56:56.667Z"
   },
   {
    "duration": 7,
    "start_time": "2023-03-08T13:56:56.685Z"
   },
   {
    "duration": 95,
    "start_time": "2023-03-08T13:56:56.694Z"
   },
   {
    "duration": 53,
    "start_time": "2023-03-08T13:56:56.791Z"
   },
   {
    "duration": 49,
    "start_time": "2023-03-08T13:56:56.846Z"
   },
   {
    "duration": 67,
    "start_time": "2023-03-08T13:56:56.897Z"
   },
   {
    "duration": 19,
    "start_time": "2023-03-08T13:56:56.966Z"
   },
   {
    "duration": 6,
    "start_time": "2023-03-08T13:56:56.986Z"
   },
   {
    "duration": 192,
    "start_time": "2023-03-08T13:56:56.994Z"
   },
   {
    "duration": 3,
    "start_time": "2023-03-08T13:56:57.188Z"
   },
   {
    "duration": 49,
    "start_time": "2023-03-08T13:56:57.193Z"
   },
   {
    "duration": 33,
    "start_time": "2023-03-08T13:56:57.243Z"
   },
   {
    "duration": 5,
    "start_time": "2023-03-08T13:57:20.571Z"
   },
   {
    "duration": 644,
    "start_time": "2023-03-08T13:57:38.554Z"
   },
   {
    "duration": 454,
    "start_time": "2023-03-08T13:57:39.200Z"
   },
   {
    "duration": 165,
    "start_time": "2023-03-08T13:57:39.655Z"
   },
   {
    "duration": 41,
    "start_time": "2023-03-08T13:57:39.822Z"
   },
   {
    "duration": 115,
    "start_time": "2023-03-08T13:57:39.865Z"
   },
   {
    "duration": 34,
    "start_time": "2023-03-08T13:57:39.981Z"
   },
   {
    "duration": 26,
    "start_time": "2023-03-08T13:57:40.017Z"
   },
   {
    "duration": 95,
    "start_time": "2023-03-08T13:57:40.046Z"
   },
   {
    "duration": 20,
    "start_time": "2023-03-08T13:57:40.144Z"
   },
   {
    "duration": 15,
    "start_time": "2023-03-08T13:57:40.167Z"
   },
   {
    "duration": 14,
    "start_time": "2023-03-08T13:57:40.183Z"
   },
   {
    "duration": 7,
    "start_time": "2023-03-08T13:57:40.198Z"
   },
   {
    "duration": 94,
    "start_time": "2023-03-08T13:57:40.206Z"
   },
   {
    "duration": 54,
    "start_time": "2023-03-08T13:57:40.301Z"
   },
   {
    "duration": 48,
    "start_time": "2023-03-08T13:57:40.356Z"
   },
   {
    "duration": 60,
    "start_time": "2023-03-08T13:57:40.406Z"
   },
   {
    "duration": 18,
    "start_time": "2023-03-08T13:57:40.468Z"
   },
   {
    "duration": 7,
    "start_time": "2023-03-08T13:57:40.488Z"
   },
   {
    "duration": 194,
    "start_time": "2023-03-08T13:57:40.497Z"
   },
   {
    "duration": 2,
    "start_time": "2023-03-08T13:57:40.693Z"
   },
   {
    "duration": 5,
    "start_time": "2023-03-08T13:57:40.698Z"
   },
   {
    "duration": 4,
    "start_time": "2023-03-08T13:57:40.705Z"
   },
   {
    "duration": 172,
    "start_time": "2023-03-08T13:58:38.338Z"
   },
   {
    "duration": 227,
    "start_time": "2023-03-08T13:59:10.002Z"
   },
   {
    "duration": 655,
    "start_time": "2023-03-08T14:07:58.242Z"
   },
   {
    "duration": 463,
    "start_time": "2023-03-08T14:07:58.899Z"
   },
   {
    "duration": 166,
    "start_time": "2023-03-08T14:07:59.364Z"
   },
   {
    "duration": 44,
    "start_time": "2023-03-08T14:07:59.532Z"
   },
   {
    "duration": 119,
    "start_time": "2023-03-08T14:07:59.578Z"
   },
   {
    "duration": 44,
    "start_time": "2023-03-08T14:07:59.699Z"
   },
   {
    "duration": 9,
    "start_time": "2023-03-08T14:07:59.745Z"
   },
   {
    "duration": 100,
    "start_time": "2023-03-08T14:07:59.756Z"
   },
   {
    "duration": 20,
    "start_time": "2023-03-08T14:07:59.858Z"
   },
   {
    "duration": 24,
    "start_time": "2023-03-08T14:07:59.881Z"
   },
   {
    "duration": 15,
    "start_time": "2023-03-08T14:07:59.907Z"
   },
   {
    "duration": 6,
    "start_time": "2023-03-08T14:07:59.941Z"
   },
   {
    "duration": 70,
    "start_time": "2023-03-08T14:07:59.949Z"
   },
   {
    "duration": 58,
    "start_time": "2023-03-08T14:08:00.021Z"
   },
   {
    "duration": 61,
    "start_time": "2023-03-08T14:08:00.081Z"
   },
   {
    "duration": 48,
    "start_time": "2023-03-08T14:08:00.144Z"
   },
   {
    "duration": 18,
    "start_time": "2023-03-08T14:08:00.193Z"
   },
   {
    "duration": 38,
    "start_time": "2023-03-08T14:08:00.212Z"
   },
   {
    "duration": 45,
    "start_time": "2023-03-08T14:08:00.252Z"
   },
   {
    "duration": 0,
    "start_time": "2023-03-08T14:08:00.299Z"
   },
   {
    "duration": 0,
    "start_time": "2023-03-08T14:08:00.300Z"
   },
   {
    "duration": 0,
    "start_time": "2023-03-08T14:08:00.301Z"
   },
   {
    "duration": 585,
    "start_time": "2023-03-08T14:09:28.903Z"
   },
   {
    "duration": 459,
    "start_time": "2023-03-08T14:09:29.490Z"
   },
   {
    "duration": 177,
    "start_time": "2023-03-08T14:09:29.951Z"
   },
   {
    "duration": 46,
    "start_time": "2023-03-08T14:09:30.130Z"
   },
   {
    "duration": 133,
    "start_time": "2023-03-08T14:09:30.178Z"
   },
   {
    "duration": 43,
    "start_time": "2023-03-08T14:09:30.313Z"
   },
   {
    "duration": 10,
    "start_time": "2023-03-08T14:09:30.358Z"
   },
   {
    "duration": 107,
    "start_time": "2023-03-08T14:09:30.371Z"
   },
   {
    "duration": 23,
    "start_time": "2023-03-08T14:09:30.480Z"
   },
   {
    "duration": 33,
    "start_time": "2023-03-08T14:09:30.505Z"
   },
   {
    "duration": 37,
    "start_time": "2023-03-08T14:09:30.540Z"
   },
   {
    "duration": 19,
    "start_time": "2023-03-08T14:09:30.579Z"
   },
   {
    "duration": 103,
    "start_time": "2023-03-08T14:09:30.600Z"
   },
   {
    "duration": 46,
    "start_time": "2023-03-08T14:09:30.706Z"
   },
   {
    "duration": 47,
    "start_time": "2023-03-08T14:09:30.754Z"
   },
   {
    "duration": 64,
    "start_time": "2023-03-08T14:09:30.802Z"
   },
   {
    "duration": 18,
    "start_time": "2023-03-08T14:09:30.868Z"
   },
   {
    "duration": 26,
    "start_time": "2023-03-08T14:09:30.888Z"
   },
   {
    "duration": 47,
    "start_time": "2023-03-08T14:09:30.916Z"
   },
   {
    "duration": 0,
    "start_time": "2023-03-08T14:09:30.965Z"
   },
   {
    "duration": 0,
    "start_time": "2023-03-08T14:09:30.966Z"
   },
   {
    "duration": 0,
    "start_time": "2023-03-08T14:09:30.967Z"
   },
   {
    "duration": 681,
    "start_time": "2023-03-08T14:10:08.154Z"
   },
   {
    "duration": 778,
    "start_time": "2023-03-08T14:11:49.966Z"
   },
   {
    "duration": 786,
    "start_time": "2023-03-08T14:12:35.007Z"
   },
   {
    "duration": 1375,
    "start_time": "2023-03-08T14:12:53.614Z"
   },
   {
    "duration": 109,
    "start_time": "2023-03-08T14:13:44.335Z"
   },
   {
    "duration": 2229,
    "start_time": "2023-03-08T14:14:37.243Z"
   },
   {
    "duration": 12,
    "start_time": "2023-03-08T14:18:12.378Z"
   },
   {
    "duration": 2382,
    "start_time": "2023-03-08T14:22:13.590Z"
   },
   {
    "duration": 3343,
    "start_time": "2023-03-08T14:23:51.623Z"
   },
   {
    "duration": 16,
    "start_time": "2023-03-08T14:24:31.706Z"
   },
   {
    "duration": 15,
    "start_time": "2023-03-08T14:25:39.476Z"
   },
   {
    "duration": 10,
    "start_time": "2023-03-08T14:28:40.115Z"
   },
   {
    "duration": 4457,
    "start_time": "2023-03-08T14:28:49.048Z"
   },
   {
    "duration": 4979,
    "start_time": "2023-03-08T14:29:48.551Z"
   },
   {
    "duration": 3075,
    "start_time": "2023-03-08T14:30:14.471Z"
   },
   {
    "duration": 5264,
    "start_time": "2023-03-08T14:31:32.305Z"
   },
   {
    "duration": 17,
    "start_time": "2023-03-08T14:31:44.405Z"
   },
   {
    "duration": 13,
    "start_time": "2023-03-08T14:32:27.094Z"
   },
   {
    "duration": 5692,
    "start_time": "2023-03-08T14:32:47.573Z"
   },
   {
    "duration": 13,
    "start_time": "2023-03-08T14:38:34.319Z"
   },
   {
    "duration": 3,
    "start_time": "2023-03-08T15:07:54.923Z"
   },
   {
    "duration": 15,
    "start_time": "2023-03-08T15:11:13.014Z"
   },
   {
    "duration": 844,
    "start_time": "2023-03-08T15:11:47.869Z"
   },
   {
    "duration": 28,
    "start_time": "2023-03-08T15:12:12.349Z"
   },
   {
    "duration": 5,
    "start_time": "2023-03-08T15:15:40.433Z"
   },
   {
    "duration": 642,
    "start_time": "2023-03-08T15:15:52.107Z"
   },
   {
    "duration": 459,
    "start_time": "2023-03-08T15:15:52.751Z"
   },
   {
    "duration": 151,
    "start_time": "2023-03-08T15:15:53.211Z"
   },
   {
    "duration": 39,
    "start_time": "2023-03-08T15:15:53.365Z"
   },
   {
    "duration": 117,
    "start_time": "2023-03-08T15:15:53.405Z"
   },
   {
    "duration": 41,
    "start_time": "2023-03-08T15:15:53.523Z"
   },
   {
    "duration": 9,
    "start_time": "2023-03-08T15:15:53.565Z"
   },
   {
    "duration": 97,
    "start_time": "2023-03-08T15:15:53.575Z"
   },
   {
    "duration": 21,
    "start_time": "2023-03-08T15:15:53.673Z"
   },
   {
    "duration": 18,
    "start_time": "2023-03-08T15:15:53.697Z"
   },
   {
    "duration": 34,
    "start_time": "2023-03-08T15:15:53.717Z"
   },
   {
    "duration": 6,
    "start_time": "2023-03-08T15:15:53.753Z"
   },
   {
    "duration": 87,
    "start_time": "2023-03-08T15:15:53.761Z"
   },
   {
    "duration": 41,
    "start_time": "2023-03-08T15:15:53.849Z"
   },
   {
    "duration": 62,
    "start_time": "2023-03-08T15:15:53.891Z"
   },
   {
    "duration": 45,
    "start_time": "2023-03-08T15:15:53.955Z"
   },
   {
    "duration": 20,
    "start_time": "2023-03-08T15:15:54.002Z"
   },
   {
    "duration": 8,
    "start_time": "2023-03-08T15:15:54.044Z"
   },
   {
    "duration": 97,
    "start_time": "2023-03-08T15:15:54.053Z"
   },
   {
    "duration": 0,
    "start_time": "2023-03-08T15:15:54.152Z"
   },
   {
    "duration": 0,
    "start_time": "2023-03-08T15:15:54.153Z"
   },
   {
    "duration": 0,
    "start_time": "2023-03-08T15:15:54.154Z"
   },
   {
    "duration": 0,
    "start_time": "2023-03-08T15:15:54.155Z"
   },
   {
    "duration": 23,
    "start_time": "2023-03-08T15:17:11.057Z"
   },
   {
    "duration": 5,
    "start_time": "2023-03-08T15:22:19.808Z"
   },
   {
    "duration": 10,
    "start_time": "2023-03-08T15:23:23.205Z"
   },
   {
    "duration": 6,
    "start_time": "2023-03-08T15:23:27.823Z"
   },
   {
    "duration": 25,
    "start_time": "2023-03-08T15:23:56.836Z"
   },
   {
    "duration": 662,
    "start_time": "2023-03-08T15:30:15.456Z"
   },
   {
    "duration": 490,
    "start_time": "2023-03-08T15:30:16.120Z"
   },
   {
    "duration": 164,
    "start_time": "2023-03-08T15:30:16.612Z"
   },
   {
    "duration": 40,
    "start_time": "2023-03-08T15:30:16.779Z"
   },
   {
    "duration": 142,
    "start_time": "2023-03-08T15:30:16.821Z"
   },
   {
    "duration": 35,
    "start_time": "2023-03-08T15:30:16.965Z"
   },
   {
    "duration": 9,
    "start_time": "2023-03-08T15:30:17.001Z"
   },
   {
    "duration": 112,
    "start_time": "2023-03-08T15:30:17.012Z"
   },
   {
    "duration": 29,
    "start_time": "2023-03-08T15:30:17.126Z"
   },
   {
    "duration": 15,
    "start_time": "2023-03-08T15:30:17.159Z"
   },
   {
    "duration": 16,
    "start_time": "2023-03-08T15:30:17.176Z"
   },
   {
    "duration": 6,
    "start_time": "2023-03-08T15:30:17.194Z"
   },
   {
    "duration": 104,
    "start_time": "2023-03-08T15:30:17.202Z"
   },
   {
    "duration": 70,
    "start_time": "2023-03-08T15:30:17.308Z"
   },
   {
    "duration": 62,
    "start_time": "2023-03-08T15:30:17.380Z"
   },
   {
    "duration": 136,
    "start_time": "2023-03-08T15:30:17.447Z"
   },
   {
    "duration": 0,
    "start_time": "2023-03-08T15:30:17.586Z"
   },
   {
    "duration": 0,
    "start_time": "2023-03-08T15:30:17.587Z"
   },
   {
    "duration": 0,
    "start_time": "2023-03-08T15:30:17.589Z"
   },
   {
    "duration": 0,
    "start_time": "2023-03-08T15:30:17.591Z"
   },
   {
    "duration": 0,
    "start_time": "2023-03-08T15:30:17.592Z"
   },
   {
    "duration": 0,
    "start_time": "2023-03-08T15:30:17.593Z"
   },
   {
    "duration": 0,
    "start_time": "2023-03-08T15:30:17.594Z"
   },
   {
    "duration": 37,
    "start_time": "2023-03-08T15:30:42.624Z"
   },
   {
    "duration": 20,
    "start_time": "2023-03-08T15:30:47.007Z"
   },
   {
    "duration": 36,
    "start_time": "2023-03-08T15:31:37.372Z"
   },
   {
    "duration": 654,
    "start_time": "2023-03-08T16:58:19.616Z"
   },
   {
    "duration": 462,
    "start_time": "2023-03-08T16:58:20.272Z"
   },
   {
    "duration": 163,
    "start_time": "2023-03-08T16:58:20.736Z"
   },
   {
    "duration": 46,
    "start_time": "2023-03-08T16:58:20.901Z"
   },
   {
    "duration": 123,
    "start_time": "2023-03-08T16:58:20.949Z"
   },
   {
    "duration": 33,
    "start_time": "2023-03-08T16:58:21.073Z"
   },
   {
    "duration": 9,
    "start_time": "2023-03-08T16:58:21.108Z"
   },
   {
    "duration": 93,
    "start_time": "2023-03-08T16:58:21.119Z"
   },
   {
    "duration": 33,
    "start_time": "2023-03-08T16:58:21.213Z"
   },
   {
    "duration": 16,
    "start_time": "2023-03-08T16:58:21.248Z"
   },
   {
    "duration": 16,
    "start_time": "2023-03-08T16:58:21.266Z"
   },
   {
    "duration": 7,
    "start_time": "2023-03-08T16:58:21.283Z"
   },
   {
    "duration": 98,
    "start_time": "2023-03-08T16:58:21.292Z"
   },
   {
    "duration": 54,
    "start_time": "2023-03-08T16:58:21.392Z"
   },
   {
    "duration": 52,
    "start_time": "2023-03-08T16:58:21.447Z"
   },
   {
    "duration": 112,
    "start_time": "2023-03-08T16:58:21.502Z"
   },
   {
    "duration": 0,
    "start_time": "2023-03-08T16:58:21.617Z"
   },
   {
    "duration": 0,
    "start_time": "2023-03-08T16:58:21.618Z"
   },
   {
    "duration": 28,
    "start_time": "2023-03-08T16:58:36.699Z"
   },
   {
    "duration": 618,
    "start_time": "2023-03-08T17:00:00.000Z"
   },
   {
    "duration": 453,
    "start_time": "2023-03-08T17:00:00.620Z"
   },
   {
    "duration": 179,
    "start_time": "2023-03-08T17:00:01.074Z"
   },
   {
    "duration": 36,
    "start_time": "2023-03-08T17:00:01.255Z"
   },
   {
    "duration": 127,
    "start_time": "2023-03-08T17:00:01.293Z"
   },
   {
    "duration": 40,
    "start_time": "2023-03-08T17:00:01.421Z"
   },
   {
    "duration": 9,
    "start_time": "2023-03-08T17:00:01.462Z"
   },
   {
    "duration": 102,
    "start_time": "2023-03-08T17:00:01.473Z"
   },
   {
    "duration": 20,
    "start_time": "2023-03-08T17:00:01.577Z"
   },
   {
    "duration": 62,
    "start_time": "2023-03-08T17:00:01.599Z"
   },
   {
    "duration": 52,
    "start_time": "2023-03-08T17:00:01.663Z"
   },
   {
    "duration": 13,
    "start_time": "2023-03-08T17:00:01.716Z"
   },
   {
    "duration": 90,
    "start_time": "2023-03-08T17:00:01.730Z"
   },
   {
    "duration": 49,
    "start_time": "2023-03-08T17:00:01.822Z"
   },
   {
    "duration": 51,
    "start_time": "2023-03-08T17:00:01.872Z"
   },
   {
    "duration": 57,
    "start_time": "2023-03-08T17:00:01.924Z"
   },
   {
    "duration": 1671,
    "start_time": "2023-03-08T17:00:01.983Z"
   },
   {
    "duration": 0,
    "start_time": "2023-03-08T17:00:03.655Z"
   },
   {
    "duration": 18,
    "start_time": "2023-03-08T17:00:16.355Z"
   },
   {
    "duration": 12,
    "start_time": "2023-03-08T17:00:30.444Z"
   },
   {
    "duration": 719,
    "start_time": "2023-03-08T17:03:01.561Z"
   },
   {
    "duration": 740,
    "start_time": "2023-03-08T17:03:17.035Z"
   },
   {
    "duration": 239,
    "start_time": "2023-03-08T17:03:39.451Z"
   },
   {
    "duration": 852,
    "start_time": "2023-03-09T09:37:13.107Z"
   },
   {
    "duration": 1306,
    "start_time": "2023-03-09T09:37:13.962Z"
   },
   {
    "duration": 189,
    "start_time": "2023-03-09T09:37:15.270Z"
   },
   {
    "duration": 38,
    "start_time": "2023-03-09T09:37:15.462Z"
   },
   {
    "duration": 129,
    "start_time": "2023-03-09T09:37:15.501Z"
   },
   {
    "duration": 33,
    "start_time": "2023-03-09T09:37:15.631Z"
   },
   {
    "duration": 9,
    "start_time": "2023-03-09T09:37:15.665Z"
   },
   {
    "duration": 101,
    "start_time": "2023-03-09T09:37:15.675Z"
   },
   {
    "duration": 37,
    "start_time": "2023-03-09T09:37:15.777Z"
   },
   {
    "duration": 18,
    "start_time": "2023-03-09T09:37:15.817Z"
   },
   {
    "duration": 16,
    "start_time": "2023-03-09T09:37:15.837Z"
   },
   {
    "duration": 8,
    "start_time": "2023-03-09T09:37:15.855Z"
   },
   {
    "duration": 92,
    "start_time": "2023-03-09T09:37:15.865Z"
   },
   {
    "duration": 60,
    "start_time": "2023-03-09T09:37:15.959Z"
   },
   {
    "duration": 52,
    "start_time": "2023-03-09T09:37:16.020Z"
   },
   {
    "duration": 60,
    "start_time": "2023-03-09T09:37:16.074Z"
   },
   {
    "duration": 18,
    "start_time": "2023-03-09T09:37:16.136Z"
   },
   {
    "duration": 289,
    "start_time": "2023-03-09T09:37:16.156Z"
   },
   {
    "duration": 88,
    "start_time": "2023-03-09T09:37:16.447Z"
   },
   {
    "duration": 0,
    "start_time": "2023-03-09T09:37:16.537Z"
   },
   {
    "duration": 0,
    "start_time": "2023-03-09T09:37:16.538Z"
   },
   {
    "duration": 0,
    "start_time": "2023-03-09T09:37:16.540Z"
   },
   {
    "duration": 0,
    "start_time": "2023-03-09T09:37:16.541Z"
   },
   {
    "duration": 0,
    "start_time": "2023-03-09T09:37:16.543Z"
   },
   {
    "duration": 0,
    "start_time": "2023-03-09T09:37:16.544Z"
   },
   {
    "duration": 0,
    "start_time": "2023-03-09T09:37:16.545Z"
   },
   {
    "duration": 0,
    "start_time": "2023-03-09T09:37:16.546Z"
   },
   {
    "duration": 0,
    "start_time": "2023-03-09T09:37:16.547Z"
   },
   {
    "duration": 0,
    "start_time": "2023-03-09T09:37:16.548Z"
   },
   {
    "duration": 0,
    "start_time": "2023-03-09T09:37:16.549Z"
   },
   {
    "duration": 161,
    "start_time": "2023-03-09T09:38:52.529Z"
   },
   {
    "duration": 32,
    "start_time": "2023-03-09T09:40:29.457Z"
   },
   {
    "duration": 8,
    "start_time": "2023-03-09T09:40:51.759Z"
   },
   {
    "duration": 1247,
    "start_time": "2023-03-09T09:41:19.004Z"
   },
   {
    "duration": 446,
    "start_time": "2023-03-09T09:41:20.253Z"
   },
   {
    "duration": 154,
    "start_time": "2023-03-09T09:41:20.701Z"
   },
   {
    "duration": 36,
    "start_time": "2023-03-09T09:41:20.857Z"
   },
   {
    "duration": 131,
    "start_time": "2023-03-09T09:41:20.896Z"
   },
   {
    "duration": 35,
    "start_time": "2023-03-09T09:41:21.029Z"
   },
   {
    "duration": 8,
    "start_time": "2023-03-09T09:41:21.065Z"
   },
   {
    "duration": 99,
    "start_time": "2023-03-09T09:41:21.075Z"
   },
   {
    "duration": 19,
    "start_time": "2023-03-09T09:41:21.175Z"
   },
   {
    "duration": 35,
    "start_time": "2023-03-09T09:41:21.195Z"
   },
   {
    "duration": 14,
    "start_time": "2023-03-09T09:41:21.232Z"
   },
   {
    "duration": 17,
    "start_time": "2023-03-09T09:41:21.248Z"
   },
   {
    "duration": 81,
    "start_time": "2023-03-09T09:41:21.267Z"
   },
   {
    "duration": 44,
    "start_time": "2023-03-09T09:41:21.351Z"
   },
   {
    "duration": 50,
    "start_time": "2023-03-09T09:41:21.413Z"
   },
   {
    "duration": 90,
    "start_time": "2023-03-09T09:41:21.466Z"
   },
   {
    "duration": 20,
    "start_time": "2023-03-09T09:41:21.558Z"
   },
   {
    "duration": 286,
    "start_time": "2023-03-09T09:41:21.580Z"
   },
   {
    "duration": 145,
    "start_time": "2023-03-09T09:41:21.868Z"
   },
   {
    "duration": 32,
    "start_time": "2023-03-09T09:41:22.018Z"
   },
   {
    "duration": 844,
    "start_time": "2023-03-09T09:41:22.051Z"
   },
   {
    "duration": 144,
    "start_time": "2023-03-09T09:41:22.897Z"
   },
   {
    "duration": 0,
    "start_time": "2023-03-09T09:41:23.043Z"
   },
   {
    "duration": 0,
    "start_time": "2023-03-09T09:41:23.045Z"
   },
   {
    "duration": 0,
    "start_time": "2023-03-09T09:41:23.046Z"
   },
   {
    "duration": 0,
    "start_time": "2023-03-09T09:41:23.047Z"
   },
   {
    "duration": 0,
    "start_time": "2023-03-09T09:41:23.048Z"
   },
   {
    "duration": 0,
    "start_time": "2023-03-09T09:41:23.049Z"
   },
   {
    "duration": 0,
    "start_time": "2023-03-09T09:41:23.050Z"
   },
   {
    "duration": 0,
    "start_time": "2023-03-09T09:41:23.051Z"
   },
   {
    "duration": 34,
    "start_time": "2023-03-09T09:42:02.405Z"
   },
   {
    "duration": 229,
    "start_time": "2023-03-09T09:42:19.103Z"
   },
   {
    "duration": 219,
    "start_time": "2023-03-09T09:42:42.926Z"
   },
   {
    "duration": 205,
    "start_time": "2023-03-09T09:42:45.565Z"
   },
   {
    "duration": 17,
    "start_time": "2023-03-09T09:43:16.563Z"
   },
   {
    "duration": 1238,
    "start_time": "2023-03-09T09:44:12.847Z"
   },
   {
    "duration": 567,
    "start_time": "2023-03-09T09:44:14.088Z"
   },
   {
    "duration": 167,
    "start_time": "2023-03-09T09:44:14.656Z"
   },
   {
    "duration": 36,
    "start_time": "2023-03-09T09:44:14.825Z"
   },
   {
    "duration": 114,
    "start_time": "2023-03-09T09:44:14.863Z"
   },
   {
    "duration": 42,
    "start_time": "2023-03-09T09:44:14.979Z"
   },
   {
    "duration": 9,
    "start_time": "2023-03-09T09:44:15.023Z"
   },
   {
    "duration": 95,
    "start_time": "2023-03-09T09:44:15.034Z"
   },
   {
    "duration": 20,
    "start_time": "2023-03-09T09:44:15.131Z"
   },
   {
    "duration": 16,
    "start_time": "2023-03-09T09:44:15.153Z"
   },
   {
    "duration": 15,
    "start_time": "2023-03-09T09:44:15.171Z"
   },
   {
    "duration": 28,
    "start_time": "2023-03-09T09:44:15.187Z"
   },
   {
    "duration": 71,
    "start_time": "2023-03-09T09:44:15.217Z"
   },
   {
    "duration": 59,
    "start_time": "2023-03-09T09:44:15.289Z"
   },
   {
    "duration": 62,
    "start_time": "2023-03-09T09:44:15.351Z"
   },
   {
    "duration": 50,
    "start_time": "2023-03-09T09:44:15.421Z"
   },
   {
    "duration": 18,
    "start_time": "2023-03-09T09:44:15.473Z"
   },
   {
    "duration": 288,
    "start_time": "2023-03-09T09:44:15.493Z"
   },
   {
    "duration": 124,
    "start_time": "2023-03-09T09:44:15.783Z"
   },
   {
    "duration": 39,
    "start_time": "2023-03-09T09:44:15.911Z"
   },
   {
    "duration": 964,
    "start_time": "2023-03-09T09:44:15.952Z"
   },
   {
    "duration": 206,
    "start_time": "2023-03-09T09:44:16.917Z"
   },
   {
    "duration": 246,
    "start_time": "2023-03-09T09:44:17.129Z"
   },
   {
    "duration": 212,
    "start_time": "2023-03-09T09:44:17.377Z"
   },
   {
    "duration": 22,
    "start_time": "2023-03-09T09:44:17.591Z"
   },
   {
    "duration": 146,
    "start_time": "2023-03-09T09:44:17.615Z"
   },
   {
    "duration": 0,
    "start_time": "2023-03-09T09:44:17.763Z"
   },
   {
    "duration": 0,
    "start_time": "2023-03-09T09:44:17.764Z"
   },
   {
    "duration": 0,
    "start_time": "2023-03-09T09:44:17.766Z"
   },
   {
    "duration": 0,
    "start_time": "2023-03-09T09:44:17.767Z"
   },
   {
    "duration": 23,
    "start_time": "2023-03-09T09:44:34.219Z"
   },
   {
    "duration": 10,
    "start_time": "2023-03-09T09:44:43.755Z"
   },
   {
    "duration": 310,
    "start_time": "2023-03-09T09:44:51.018Z"
   },
   {
    "duration": 1184,
    "start_time": "2023-03-09T09:45:43.675Z"
   },
   {
    "duration": 1121,
    "start_time": "2023-03-09T09:46:01.037Z"
   },
   {
    "duration": 10,
    "start_time": "2023-03-09T09:46:20.285Z"
   },
   {
    "duration": 15,
    "start_time": "2023-03-09T09:46:26.246Z"
   },
   {
    "duration": 313,
    "start_time": "2023-03-09T09:46:34.511Z"
   },
   {
    "duration": 1298,
    "start_time": "2023-03-09T12:21:05.975Z"
   },
   {
    "duration": 475,
    "start_time": "2023-03-09T12:21:07.275Z"
   },
   {
    "duration": 175,
    "start_time": "2023-03-09T12:21:07.752Z"
   },
   {
    "duration": 36,
    "start_time": "2023-03-09T12:21:07.929Z"
   },
   {
    "duration": 111,
    "start_time": "2023-03-09T12:21:07.967Z"
   },
   {
    "duration": 41,
    "start_time": "2023-03-09T12:21:08.079Z"
   },
   {
    "duration": 9,
    "start_time": "2023-03-09T12:21:08.121Z"
   },
   {
    "duration": 103,
    "start_time": "2023-03-09T12:21:08.131Z"
   },
   {
    "duration": 20,
    "start_time": "2023-03-09T12:21:08.235Z"
   },
   {
    "duration": 16,
    "start_time": "2023-03-09T12:21:08.257Z"
   },
   {
    "duration": 43,
    "start_time": "2023-03-09T12:21:08.275Z"
   },
   {
    "duration": 8,
    "start_time": "2023-03-09T12:21:08.320Z"
   },
   {
    "duration": 82,
    "start_time": "2023-03-09T12:21:08.331Z"
   },
   {
    "duration": 46,
    "start_time": "2023-03-09T12:21:08.417Z"
   },
   {
    "duration": 64,
    "start_time": "2023-03-09T12:21:08.464Z"
   },
   {
    "duration": 46,
    "start_time": "2023-03-09T12:21:08.530Z"
   },
   {
    "duration": 40,
    "start_time": "2023-03-09T12:21:08.578Z"
   },
   {
    "duration": 307,
    "start_time": "2023-03-09T12:21:08.619Z"
   },
   {
    "duration": 150,
    "start_time": "2023-03-09T12:21:08.928Z"
   },
   {
    "duration": 41,
    "start_time": "2023-03-09T12:21:09.079Z"
   },
   {
    "duration": 862,
    "start_time": "2023-03-09T12:21:09.122Z"
   },
   {
    "duration": 216,
    "start_time": "2023-03-09T12:21:09.986Z"
   },
   {
    "duration": 239,
    "start_time": "2023-03-09T12:21:10.203Z"
   },
   {
    "duration": 203,
    "start_time": "2023-03-09T12:21:10.444Z"
   },
   {
    "duration": 12,
    "start_time": "2023-03-09T12:21:10.649Z"
   },
   {
    "duration": 13,
    "start_time": "2023-03-09T12:21:10.663Z"
   },
   {
    "duration": 322,
    "start_time": "2023-03-09T12:21:10.678Z"
   },
   {
    "duration": 1097,
    "start_time": "2023-03-09T12:21:11.002Z"
   },
   {
    "duration": 25,
    "start_time": "2023-03-09T12:21:12.100Z"
   },
   {
    "duration": 303,
    "start_time": "2023-03-09T12:21:12.127Z"
   },
   {
    "duration": 1294,
    "start_time": "2023-03-09T12:24:59.206Z"
   },
   {
    "duration": 485,
    "start_time": "2023-03-09T12:25:00.502Z"
   },
   {
    "duration": 162,
    "start_time": "2023-03-09T12:25:00.990Z"
   },
   {
    "duration": 40,
    "start_time": "2023-03-09T12:25:01.154Z"
   },
   {
    "duration": 127,
    "start_time": "2023-03-09T12:25:01.196Z"
   },
   {
    "duration": 37,
    "start_time": "2023-03-09T12:25:01.326Z"
   },
   {
    "duration": 18,
    "start_time": "2023-03-09T12:25:01.365Z"
   },
   {
    "duration": 113,
    "start_time": "2023-03-09T12:25:01.385Z"
   },
   {
    "duration": 25,
    "start_time": "2023-03-09T12:25:01.500Z"
   },
   {
    "duration": 42,
    "start_time": "2023-03-09T12:25:01.528Z"
   },
   {
    "duration": 159,
    "start_time": "2023-03-09T12:25:01.571Z"
   },
   {
    "duration": 81,
    "start_time": "2023-03-09T12:25:01.732Z"
   },
   {
    "duration": 107,
    "start_time": "2023-03-09T12:25:01.815Z"
   },
   {
    "duration": 44,
    "start_time": "2023-03-09T12:25:01.923Z"
   },
   {
    "duration": 62,
    "start_time": "2023-03-09T12:25:01.968Z"
   },
   {
    "duration": 56,
    "start_time": "2023-03-09T12:25:02.032Z"
   },
   {
    "duration": 280,
    "start_time": "2023-03-09T12:25:02.089Z"
   },
   {
    "duration": 135,
    "start_time": "2023-03-09T12:25:02.370Z"
   },
   {
    "duration": 30,
    "start_time": "2023-03-09T12:25:02.513Z"
   },
   {
    "duration": 914,
    "start_time": "2023-03-09T12:25:02.545Z"
   },
   {
    "duration": 198,
    "start_time": "2023-03-09T12:25:03.461Z"
   },
   {
    "duration": 229,
    "start_time": "2023-03-09T12:25:03.661Z"
   },
   {
    "duration": 199,
    "start_time": "2023-03-09T12:25:03.891Z"
   },
   {
    "duration": 21,
    "start_time": "2023-03-09T12:25:04.092Z"
   },
   {
    "duration": 16,
    "start_time": "2023-03-09T12:25:04.115Z"
   },
   {
    "duration": 338,
    "start_time": "2023-03-09T12:25:04.133Z"
   },
   {
    "duration": 1253,
    "start_time": "2023-03-09T12:25:04.473Z"
   },
   {
    "duration": 17,
    "start_time": "2023-03-09T12:25:05.729Z"
   },
   {
    "duration": 295,
    "start_time": "2023-03-09T12:25:05.748Z"
   },
   {
    "duration": 1166,
    "start_time": "2023-03-09T12:39:31.552Z"
   },
   {
    "duration": 459,
    "start_time": "2023-03-09T12:39:32.720Z"
   },
   {
    "duration": 153,
    "start_time": "2023-03-09T12:39:33.181Z"
   },
   {
    "duration": 37,
    "start_time": "2023-03-09T12:39:33.336Z"
   },
   {
    "duration": 116,
    "start_time": "2023-03-09T12:39:33.375Z"
   },
   {
    "duration": 45,
    "start_time": "2023-03-09T12:39:33.493Z"
   },
   {
    "duration": 21,
    "start_time": "2023-03-09T12:39:33.540Z"
   },
   {
    "duration": 89,
    "start_time": "2023-03-09T12:39:33.566Z"
   },
   {
    "duration": 21,
    "start_time": "2023-03-09T12:39:33.656Z"
   },
   {
    "duration": 33,
    "start_time": "2023-03-09T12:39:33.679Z"
   },
   {
    "duration": 17,
    "start_time": "2023-03-09T12:39:33.714Z"
   },
   {
    "duration": 13,
    "start_time": "2023-03-09T12:39:33.733Z"
   },
   {
    "duration": 85,
    "start_time": "2023-03-09T12:39:33.748Z"
   },
   {
    "duration": 44,
    "start_time": "2023-03-09T12:39:33.834Z"
   },
   {
    "duration": 63,
    "start_time": "2023-03-09T12:39:33.880Z"
   },
   {
    "duration": 54,
    "start_time": "2023-03-09T12:39:33.945Z"
   },
   {
    "duration": 281,
    "start_time": "2023-03-09T12:39:34.012Z"
   },
   {
    "duration": 32,
    "start_time": "2023-03-09T12:39:34.295Z"
   },
   {
    "duration": 121,
    "start_time": "2023-03-09T12:39:34.329Z"
   },
   {
    "duration": 0,
    "start_time": "2023-03-09T12:39:34.452Z"
   },
   {
    "duration": 0,
    "start_time": "2023-03-09T12:39:34.454Z"
   },
   {
    "duration": 0,
    "start_time": "2023-03-09T12:39:34.455Z"
   },
   {
    "duration": 0,
    "start_time": "2023-03-09T12:39:34.456Z"
   },
   {
    "duration": 0,
    "start_time": "2023-03-09T12:39:34.458Z"
   },
   {
    "duration": 0,
    "start_time": "2023-03-09T12:39:34.459Z"
   },
   {
    "duration": 0,
    "start_time": "2023-03-09T12:39:34.460Z"
   },
   {
    "duration": 0,
    "start_time": "2023-03-09T12:39:34.462Z"
   },
   {
    "duration": 0,
    "start_time": "2023-03-09T12:39:34.462Z"
   },
   {
    "duration": 0,
    "start_time": "2023-03-09T12:39:34.463Z"
   },
   {
    "duration": 41,
    "start_time": "2023-03-09T12:40:39.335Z"
   },
   {
    "duration": 27,
    "start_time": "2023-03-09T12:40:49.518Z"
   },
   {
    "duration": 1196,
    "start_time": "2023-03-09T12:51:48.892Z"
   },
   {
    "duration": 459,
    "start_time": "2023-03-09T12:51:50.090Z"
   },
   {
    "duration": 155,
    "start_time": "2023-03-09T12:51:50.550Z"
   },
   {
    "duration": 40,
    "start_time": "2023-03-09T12:51:50.707Z"
   },
   {
    "duration": 113,
    "start_time": "2023-03-09T12:51:50.749Z"
   },
   {
    "duration": 35,
    "start_time": "2023-03-09T12:51:50.864Z"
   },
   {
    "duration": 9,
    "start_time": "2023-03-09T12:51:50.913Z"
   },
   {
    "duration": 91,
    "start_time": "2023-03-09T12:51:50.924Z"
   },
   {
    "duration": 20,
    "start_time": "2023-03-09T12:51:51.017Z"
   },
   {
    "duration": 13,
    "start_time": "2023-03-09T12:51:51.040Z"
   },
   {
    "duration": 19,
    "start_time": "2023-03-09T12:51:51.055Z"
   },
   {
    "duration": 6,
    "start_time": "2023-03-09T12:51:51.075Z"
   },
   {
    "duration": 86,
    "start_time": "2023-03-09T12:51:51.083Z"
   },
   {
    "duration": 58,
    "start_time": "2023-03-09T12:51:51.171Z"
   },
   {
    "duration": 47,
    "start_time": "2023-03-09T12:51:51.231Z"
   },
   {
    "duration": 69,
    "start_time": "2023-03-09T12:51:51.279Z"
   },
   {
    "duration": 274,
    "start_time": "2023-03-09T12:51:51.349Z"
   },
   {
    "duration": 24,
    "start_time": "2023-03-09T12:51:51.625Z"
   },
   {
    "duration": 117,
    "start_time": "2023-03-09T12:51:51.651Z"
   },
   {
    "duration": 0,
    "start_time": "2023-03-09T12:51:51.770Z"
   },
   {
    "duration": 0,
    "start_time": "2023-03-09T12:51:51.771Z"
   },
   {
    "duration": 0,
    "start_time": "2023-03-09T12:51:51.772Z"
   },
   {
    "duration": 0,
    "start_time": "2023-03-09T12:51:51.773Z"
   },
   {
    "duration": 0,
    "start_time": "2023-03-09T12:51:51.774Z"
   },
   {
    "duration": 0,
    "start_time": "2023-03-09T12:51:51.775Z"
   },
   {
    "duration": 0,
    "start_time": "2023-03-09T12:51:51.777Z"
   },
   {
    "duration": 0,
    "start_time": "2023-03-09T12:51:51.777Z"
   },
   {
    "duration": 0,
    "start_time": "2023-03-09T12:51:51.779Z"
   },
   {
    "duration": 0,
    "start_time": "2023-03-09T12:51:51.780Z"
   },
   {
    "duration": 1118,
    "start_time": "2023-03-09T12:53:20.861Z"
   },
   {
    "duration": 463,
    "start_time": "2023-03-09T12:53:21.981Z"
   },
   {
    "duration": 167,
    "start_time": "2023-03-09T12:53:22.445Z"
   },
   {
    "duration": 41,
    "start_time": "2023-03-09T12:53:22.614Z"
   },
   {
    "duration": 116,
    "start_time": "2023-03-09T12:53:22.657Z"
   },
   {
    "duration": 40,
    "start_time": "2023-03-09T12:53:22.775Z"
   },
   {
    "duration": 9,
    "start_time": "2023-03-09T12:53:22.816Z"
   },
   {
    "duration": 104,
    "start_time": "2023-03-09T12:53:22.826Z"
   },
   {
    "duration": 20,
    "start_time": "2023-03-09T12:53:22.932Z"
   },
   {
    "duration": 14,
    "start_time": "2023-03-09T12:53:22.955Z"
   },
   {
    "duration": 20,
    "start_time": "2023-03-09T12:53:22.970Z"
   },
   {
    "duration": 29,
    "start_time": "2023-03-09T12:53:22.992Z"
   },
   {
    "duration": 66,
    "start_time": "2023-03-09T12:53:23.023Z"
   },
   {
    "duration": 56,
    "start_time": "2023-03-09T12:53:23.091Z"
   },
   {
    "duration": 47,
    "start_time": "2023-03-09T12:53:23.149Z"
   },
   {
    "duration": 66,
    "start_time": "2023-03-09T12:53:23.197Z"
   },
   {
    "duration": 278,
    "start_time": "2023-03-09T12:53:23.265Z"
   },
   {
    "duration": 31,
    "start_time": "2023-03-09T12:53:23.545Z"
   },
   {
    "duration": 113,
    "start_time": "2023-03-09T12:53:23.578Z"
   },
   {
    "duration": 0,
    "start_time": "2023-03-09T12:53:23.693Z"
   },
   {
    "duration": 0,
    "start_time": "2023-03-09T12:53:23.695Z"
   },
   {
    "duration": 0,
    "start_time": "2023-03-09T12:53:23.696Z"
   },
   {
    "duration": 0,
    "start_time": "2023-03-09T12:53:23.697Z"
   },
   {
    "duration": 0,
    "start_time": "2023-03-09T12:53:23.712Z"
   },
   {
    "duration": 0,
    "start_time": "2023-03-09T12:53:23.713Z"
   },
   {
    "duration": 0,
    "start_time": "2023-03-09T12:53:23.714Z"
   },
   {
    "duration": 0,
    "start_time": "2023-03-09T12:53:23.715Z"
   },
   {
    "duration": 0,
    "start_time": "2023-03-09T12:53:23.716Z"
   },
   {
    "duration": 0,
    "start_time": "2023-03-09T12:53:23.717Z"
   },
   {
    "duration": 16,
    "start_time": "2023-03-09T12:56:59.524Z"
   },
   {
    "duration": 32,
    "start_time": "2023-03-09T12:57:10.907Z"
   },
   {
    "duration": 26,
    "start_time": "2023-03-09T13:01:26.242Z"
   },
   {
    "duration": 13,
    "start_time": "2023-03-09T13:06:04.782Z"
   },
   {
    "duration": 10,
    "start_time": "2023-03-09T13:08:48.204Z"
   },
   {
    "duration": 13,
    "start_time": "2023-03-09T13:09:13.044Z"
   },
   {
    "duration": 13,
    "start_time": "2023-03-09T13:09:19.100Z"
   },
   {
    "duration": 14,
    "start_time": "2023-03-09T13:10:08.986Z"
   },
   {
    "duration": 9,
    "start_time": "2023-03-09T13:12:33.059Z"
   },
   {
    "duration": 48,
    "start_time": "2023-03-09T13:12:44.908Z"
   },
   {
    "duration": 22,
    "start_time": "2023-03-09T13:12:58.086Z"
   },
   {
    "duration": 25,
    "start_time": "2023-03-09T13:15:06.092Z"
   },
   {
    "duration": 1210,
    "start_time": "2023-03-09T13:21:03.408Z"
   },
   {
    "duration": 469,
    "start_time": "2023-03-09T13:21:04.620Z"
   },
   {
    "duration": 154,
    "start_time": "2023-03-09T13:21:05.090Z"
   },
   {
    "duration": 42,
    "start_time": "2023-03-09T13:21:05.246Z"
   },
   {
    "duration": 124,
    "start_time": "2023-03-09T13:21:05.289Z"
   },
   {
    "duration": 36,
    "start_time": "2023-03-09T13:21:05.416Z"
   },
   {
    "duration": 9,
    "start_time": "2023-03-09T13:21:05.454Z"
   },
   {
    "duration": 103,
    "start_time": "2023-03-09T13:21:05.464Z"
   },
   {
    "duration": 21,
    "start_time": "2023-03-09T13:21:05.569Z"
   },
   {
    "duration": 32,
    "start_time": "2023-03-09T13:21:05.593Z"
   },
   {
    "duration": 18,
    "start_time": "2023-03-09T13:21:05.627Z"
   },
   {
    "duration": 8,
    "start_time": "2023-03-09T13:21:05.646Z"
   },
   {
    "duration": 86,
    "start_time": "2023-03-09T13:21:05.655Z"
   },
   {
    "duration": 45,
    "start_time": "2023-03-09T13:21:05.742Z"
   },
   {
    "duration": 62,
    "start_time": "2023-03-09T13:21:05.788Z"
   },
   {
    "duration": 69,
    "start_time": "2023-03-09T13:21:05.851Z"
   },
   {
    "duration": 263,
    "start_time": "2023-03-09T13:21:05.922Z"
   },
   {
    "duration": 85,
    "start_time": "2023-03-09T13:21:06.187Z"
   },
   {
    "duration": 0,
    "start_time": "2023-03-09T13:21:06.274Z"
   },
   {
    "duration": 0,
    "start_time": "2023-03-09T13:21:06.275Z"
   },
   {
    "duration": 0,
    "start_time": "2023-03-09T13:21:06.276Z"
   },
   {
    "duration": 0,
    "start_time": "2023-03-09T13:21:06.277Z"
   },
   {
    "duration": 0,
    "start_time": "2023-03-09T13:21:06.278Z"
   },
   {
    "duration": 0,
    "start_time": "2023-03-09T13:21:06.279Z"
   },
   {
    "duration": 0,
    "start_time": "2023-03-09T13:21:06.280Z"
   },
   {
    "duration": 0,
    "start_time": "2023-03-09T13:21:06.281Z"
   },
   {
    "duration": 0,
    "start_time": "2023-03-09T13:21:06.282Z"
   },
   {
    "duration": 0,
    "start_time": "2023-03-09T13:21:06.283Z"
   },
   {
    "duration": 0,
    "start_time": "2023-03-09T13:21:06.284Z"
   },
   {
    "duration": 835,
    "start_time": "2023-03-09T13:21:48.729Z"
   },
   {
    "duration": 149,
    "start_time": "2023-03-09T13:22:40.215Z"
   },
   {
    "duration": 130,
    "start_time": "2023-03-09T13:23:10.032Z"
   },
   {
    "duration": 115,
    "start_time": "2023-03-09T13:23:14.874Z"
   },
   {
    "duration": 184,
    "start_time": "2023-03-09T13:25:33.305Z"
   },
   {
    "duration": 1160,
    "start_time": "2023-03-09T13:27:35.217Z"
   },
   {
    "duration": 458,
    "start_time": "2023-03-09T13:27:36.379Z"
   },
   {
    "duration": 181,
    "start_time": "2023-03-09T13:27:36.839Z"
   },
   {
    "duration": 38,
    "start_time": "2023-03-09T13:27:37.022Z"
   },
   {
    "duration": 128,
    "start_time": "2023-03-09T13:27:37.062Z"
   },
   {
    "duration": 40,
    "start_time": "2023-03-09T13:27:37.192Z"
   },
   {
    "duration": 8,
    "start_time": "2023-03-09T13:27:37.234Z"
   },
   {
    "duration": 103,
    "start_time": "2023-03-09T13:27:37.244Z"
   },
   {
    "duration": 20,
    "start_time": "2023-03-09T13:27:37.349Z"
   },
   {
    "duration": 17,
    "start_time": "2023-03-09T13:27:37.372Z"
   },
   {
    "duration": 16,
    "start_time": "2023-03-09T13:27:37.413Z"
   },
   {
    "duration": 6,
    "start_time": "2023-03-09T13:27:37.431Z"
   },
   {
    "duration": 85,
    "start_time": "2023-03-09T13:27:37.439Z"
   },
   {
    "duration": 46,
    "start_time": "2023-03-09T13:27:37.526Z"
   },
   {
    "duration": 66,
    "start_time": "2023-03-09T13:27:37.574Z"
   },
   {
    "duration": 55,
    "start_time": "2023-03-09T13:27:37.642Z"
   },
   {
    "duration": 274,
    "start_time": "2023-03-09T13:27:37.699Z"
   },
   {
    "duration": 25,
    "start_time": "2023-03-09T13:27:37.974Z"
   },
   {
    "duration": 42,
    "start_time": "2023-03-09T13:27:38.000Z"
   },
   {
    "duration": 44,
    "start_time": "2023-03-09T13:27:38.043Z"
   },
   {
    "duration": 0,
    "start_time": "2023-03-09T13:27:38.089Z"
   },
   {
    "duration": 0,
    "start_time": "2023-03-09T13:27:38.090Z"
   },
   {
    "duration": 0,
    "start_time": "2023-03-09T13:27:38.091Z"
   },
   {
    "duration": 0,
    "start_time": "2023-03-09T13:27:38.092Z"
   },
   {
    "duration": 0,
    "start_time": "2023-03-09T13:27:38.093Z"
   },
   {
    "duration": 0,
    "start_time": "2023-03-09T13:27:38.095Z"
   },
   {
    "duration": 0,
    "start_time": "2023-03-09T13:27:38.096Z"
   },
   {
    "duration": 0,
    "start_time": "2023-03-09T13:27:38.097Z"
   },
   {
    "duration": 0,
    "start_time": "2023-03-09T13:27:38.098Z"
   },
   {
    "duration": 755,
    "start_time": "2023-03-09T13:28:45.926Z"
   },
   {
    "duration": 113,
    "start_time": "2023-03-09T13:29:35.166Z"
   },
   {
    "duration": 758,
    "start_time": "2023-03-09T13:31:52.350Z"
   },
   {
    "duration": 27,
    "start_time": "2023-03-09T13:32:49.723Z"
   },
   {
    "duration": 27,
    "start_time": "2023-03-09T13:32:56.479Z"
   },
   {
    "duration": 1092,
    "start_time": "2023-03-09T13:33:21.162Z"
   },
   {
    "duration": 459,
    "start_time": "2023-03-09T13:33:22.256Z"
   },
   {
    "duration": 161,
    "start_time": "2023-03-09T13:33:22.717Z"
   },
   {
    "duration": 48,
    "start_time": "2023-03-09T13:33:22.880Z"
   },
   {
    "duration": 106,
    "start_time": "2023-03-09T13:33:22.931Z"
   },
   {
    "duration": 34,
    "start_time": "2023-03-09T13:33:23.039Z"
   },
   {
    "duration": 8,
    "start_time": "2023-03-09T13:33:23.075Z"
   },
   {
    "duration": 97,
    "start_time": "2023-03-09T13:33:23.085Z"
   },
   {
    "duration": 31,
    "start_time": "2023-03-09T13:33:23.184Z"
   },
   {
    "duration": 16,
    "start_time": "2023-03-09T13:33:23.217Z"
   },
   {
    "duration": 24,
    "start_time": "2023-03-09T13:33:23.235Z"
   },
   {
    "duration": 8,
    "start_time": "2023-03-09T13:33:23.261Z"
   },
   {
    "duration": 85,
    "start_time": "2023-03-09T13:33:23.271Z"
   },
   {
    "duration": 55,
    "start_time": "2023-03-09T13:33:23.360Z"
   },
   {
    "duration": 49,
    "start_time": "2023-03-09T13:33:23.417Z"
   },
   {
    "duration": 100,
    "start_time": "2023-03-09T13:33:23.467Z"
   },
   {
    "duration": 273,
    "start_time": "2023-03-09T13:33:23.569Z"
   },
   {
    "duration": 26,
    "start_time": "2023-03-09T13:33:23.845Z"
   },
   {
    "duration": 54,
    "start_time": "2023-03-09T13:33:23.874Z"
   },
   {
    "duration": 110,
    "start_time": "2023-03-09T13:33:23.930Z"
   },
   {
    "duration": 0,
    "start_time": "2023-03-09T13:33:24.042Z"
   },
   {
    "duration": 0,
    "start_time": "2023-03-09T13:33:24.043Z"
   },
   {
    "duration": 0,
    "start_time": "2023-03-09T13:33:24.044Z"
   },
   {
    "duration": 0,
    "start_time": "2023-03-09T13:33:24.046Z"
   },
   {
    "duration": 0,
    "start_time": "2023-03-09T13:33:24.047Z"
   },
   {
    "duration": 0,
    "start_time": "2023-03-09T13:33:24.049Z"
   },
   {
    "duration": 0,
    "start_time": "2023-03-09T13:33:24.050Z"
   },
   {
    "duration": 0,
    "start_time": "2023-03-09T13:33:24.052Z"
   },
   {
    "duration": 0,
    "start_time": "2023-03-09T13:33:24.054Z"
   },
   {
    "duration": 1154,
    "start_time": "2023-03-09T13:34:06.303Z"
   },
   {
    "duration": 465,
    "start_time": "2023-03-09T13:34:07.458Z"
   },
   {
    "duration": 159,
    "start_time": "2023-03-09T13:34:07.925Z"
   },
   {
    "duration": 39,
    "start_time": "2023-03-09T13:34:08.086Z"
   },
   {
    "duration": 99,
    "start_time": "2023-03-09T13:34:08.127Z"
   },
   {
    "duration": 32,
    "start_time": "2023-03-09T13:34:08.227Z"
   },
   {
    "duration": 9,
    "start_time": "2023-03-09T13:34:08.260Z"
   },
   {
    "duration": 95,
    "start_time": "2023-03-09T13:34:08.271Z"
   },
   {
    "duration": 19,
    "start_time": "2023-03-09T13:34:08.368Z"
   },
   {
    "duration": 30,
    "start_time": "2023-03-09T13:34:08.390Z"
   },
   {
    "duration": 15,
    "start_time": "2023-03-09T13:34:08.422Z"
   },
   {
    "duration": 10,
    "start_time": "2023-03-09T13:34:08.439Z"
   },
   {
    "duration": 82,
    "start_time": "2023-03-09T13:34:08.450Z"
   },
   {
    "duration": 41,
    "start_time": "2023-03-09T13:34:08.534Z"
   },
   {
    "duration": 62,
    "start_time": "2023-03-09T13:34:08.576Z"
   },
   {
    "duration": 54,
    "start_time": "2023-03-09T13:34:08.640Z"
   },
   {
    "duration": 258,
    "start_time": "2023-03-09T13:34:08.712Z"
   },
   {
    "duration": 24,
    "start_time": "2023-03-09T13:34:08.971Z"
   },
   {
    "duration": 46,
    "start_time": "2023-03-09T13:34:08.996Z"
   },
   {
    "duration": 112,
    "start_time": "2023-03-09T13:34:09.043Z"
   },
   {
    "duration": 0,
    "start_time": "2023-03-09T13:34:09.157Z"
   },
   {
    "duration": 0,
    "start_time": "2023-03-09T13:34:09.158Z"
   },
   {
    "duration": 0,
    "start_time": "2023-03-09T13:34:09.159Z"
   },
   {
    "duration": 0,
    "start_time": "2023-03-09T13:34:09.160Z"
   },
   {
    "duration": 0,
    "start_time": "2023-03-09T13:34:09.161Z"
   },
   {
    "duration": 0,
    "start_time": "2023-03-09T13:34:09.163Z"
   },
   {
    "duration": 0,
    "start_time": "2023-03-09T13:34:09.164Z"
   },
   {
    "duration": 0,
    "start_time": "2023-03-09T13:34:09.165Z"
   },
   {
    "duration": 0,
    "start_time": "2023-03-09T13:34:09.166Z"
   },
   {
    "duration": 1115,
    "start_time": "2023-03-09T13:35:12.258Z"
   },
   {
    "duration": 455,
    "start_time": "2023-03-09T13:35:13.375Z"
   },
   {
    "duration": 186,
    "start_time": "2023-03-09T13:35:13.831Z"
   },
   {
    "duration": 43,
    "start_time": "2023-03-09T13:35:14.020Z"
   },
   {
    "duration": 146,
    "start_time": "2023-03-09T13:35:14.066Z"
   },
   {
    "duration": 43,
    "start_time": "2023-03-09T13:35:14.214Z"
   },
   {
    "duration": 11,
    "start_time": "2023-03-09T13:35:14.259Z"
   },
   {
    "duration": 100,
    "start_time": "2023-03-09T13:35:14.271Z"
   },
   {
    "duration": 20,
    "start_time": "2023-03-09T13:35:14.372Z"
   },
   {
    "duration": 28,
    "start_time": "2023-03-09T13:35:14.396Z"
   },
   {
    "duration": 16,
    "start_time": "2023-03-09T13:35:14.426Z"
   },
   {
    "duration": 7,
    "start_time": "2023-03-09T13:35:14.444Z"
   },
   {
    "duration": 87,
    "start_time": "2023-03-09T13:35:14.454Z"
   },
   {
    "duration": 44,
    "start_time": "2023-03-09T13:35:14.543Z"
   },
   {
    "duration": 61,
    "start_time": "2023-03-09T13:35:14.590Z"
   },
   {
    "duration": 72,
    "start_time": "2023-03-09T13:35:14.653Z"
   },
   {
    "duration": 265,
    "start_time": "2023-03-09T13:35:14.727Z"
   },
   {
    "duration": 33,
    "start_time": "2023-03-09T13:35:14.994Z"
   },
   {
    "duration": 29,
    "start_time": "2023-03-09T13:35:15.030Z"
   },
   {
    "duration": 110,
    "start_time": "2023-03-09T13:35:15.061Z"
   },
   {
    "duration": 0,
    "start_time": "2023-03-09T13:35:15.173Z"
   },
   {
    "duration": 0,
    "start_time": "2023-03-09T13:35:15.174Z"
   },
   {
    "duration": 0,
    "start_time": "2023-03-09T13:35:15.175Z"
   },
   {
    "duration": 0,
    "start_time": "2023-03-09T13:35:15.176Z"
   },
   {
    "duration": 0,
    "start_time": "2023-03-09T13:35:15.177Z"
   },
   {
    "duration": 0,
    "start_time": "2023-03-09T13:35:15.178Z"
   },
   {
    "duration": 0,
    "start_time": "2023-03-09T13:35:15.179Z"
   },
   {
    "duration": 0,
    "start_time": "2023-03-09T13:35:15.181Z"
   },
   {
    "duration": 0,
    "start_time": "2023-03-09T13:35:15.182Z"
   },
   {
    "duration": 838,
    "start_time": "2023-03-09T13:35:30.842Z"
   },
   {
    "duration": 34,
    "start_time": "2023-03-09T13:41:10.867Z"
   },
   {
    "duration": 206,
    "start_time": "2023-03-09T13:49:15.308Z"
   },
   {
    "duration": 192,
    "start_time": "2023-03-09T13:49:18.189Z"
   },
   {
    "duration": 185,
    "start_time": "2023-03-09T13:49:20.726Z"
   },
   {
    "duration": 15,
    "start_time": "2023-03-09T13:49:30.206Z"
   },
   {
    "duration": 13,
    "start_time": "2023-03-09T13:49:42.094Z"
   },
   {
    "duration": 257,
    "start_time": "2023-03-09T13:49:46.735Z"
   },
   {
    "duration": 1130,
    "start_time": "2023-03-09T13:50:03.039Z"
   },
   {
    "duration": 15,
    "start_time": "2023-03-09T13:50:06.149Z"
   },
   {
    "duration": 281,
    "start_time": "2023-03-09T13:50:08.556Z"
   },
   {
    "duration": 1129,
    "start_time": "2023-03-09T14:44:14.848Z"
   },
   {
    "duration": 467,
    "start_time": "2023-03-09T14:44:15.979Z"
   },
   {
    "duration": 177,
    "start_time": "2023-03-09T14:44:16.448Z"
   },
   {
    "duration": 39,
    "start_time": "2023-03-09T14:44:16.627Z"
   },
   {
    "duration": 124,
    "start_time": "2023-03-09T14:44:16.669Z"
   },
   {
    "duration": 39,
    "start_time": "2023-03-09T14:44:16.795Z"
   },
   {
    "duration": 9,
    "start_time": "2023-03-09T14:44:16.835Z"
   },
   {
    "duration": 96,
    "start_time": "2023-03-09T14:44:16.846Z"
   },
   {
    "duration": 20,
    "start_time": "2023-03-09T14:44:16.944Z"
   },
   {
    "duration": 14,
    "start_time": "2023-03-09T14:44:16.966Z"
   },
   {
    "duration": 40,
    "start_time": "2023-03-09T14:44:16.982Z"
   },
   {
    "duration": 6,
    "start_time": "2023-03-09T14:44:17.024Z"
   },
   {
    "duration": 74,
    "start_time": "2023-03-09T14:44:17.032Z"
   },
   {
    "duration": 43,
    "start_time": "2023-03-09T14:44:17.113Z"
   },
   {
    "duration": 62,
    "start_time": "2023-03-09T14:44:17.159Z"
   },
   {
    "duration": 52,
    "start_time": "2023-03-09T14:44:17.223Z"
   },
   {
    "duration": 271,
    "start_time": "2023-03-09T14:44:17.277Z"
   },
   {
    "duration": 27,
    "start_time": "2023-03-09T14:44:17.550Z"
   },
   {
    "duration": 66,
    "start_time": "2023-03-09T14:44:17.579Z"
   },
   {
    "duration": 917,
    "start_time": "2023-03-09T14:44:17.647Z"
   },
   {
    "duration": 195,
    "start_time": "2023-03-09T14:44:18.566Z"
   },
   {
    "duration": 209,
    "start_time": "2023-03-09T14:44:18.762Z"
   },
   {
    "duration": 204,
    "start_time": "2023-03-09T14:44:18.973Z"
   },
   {
    "duration": 13,
    "start_time": "2023-03-09T14:44:19.179Z"
   },
   {
    "duration": 27,
    "start_time": "2023-03-09T14:44:19.194Z"
   },
   {
    "duration": 277,
    "start_time": "2023-03-09T14:44:19.223Z"
   },
   {
    "duration": 1226,
    "start_time": "2023-03-09T14:44:19.502Z"
   },
   {
    "duration": 14,
    "start_time": "2023-03-09T14:44:20.730Z"
   },
   {
    "duration": 289,
    "start_time": "2023-03-09T14:44:20.745Z"
   },
   {
    "duration": 6,
    "start_time": "2023-03-09T15:44:19.005Z"
   },
   {
    "duration": 1236,
    "start_time": "2023-03-09T16:08:09.329Z"
   },
   {
    "duration": 536,
    "start_time": "2023-03-09T16:08:10.568Z"
   },
   {
    "duration": 174,
    "start_time": "2023-03-09T16:08:11.106Z"
   },
   {
    "duration": 56,
    "start_time": "2023-03-09T16:08:11.282Z"
   },
   {
    "duration": 121,
    "start_time": "2023-03-09T16:08:11.340Z"
   },
   {
    "duration": 37,
    "start_time": "2023-03-09T16:08:11.463Z"
   },
   {
    "duration": 24,
    "start_time": "2023-03-09T16:08:11.501Z"
   },
   {
    "duration": 97,
    "start_time": "2023-03-09T16:08:11.528Z"
   },
   {
    "duration": 23,
    "start_time": "2023-03-09T16:08:11.627Z"
   },
   {
    "duration": 15,
    "start_time": "2023-03-09T16:08:11.653Z"
   },
   {
    "duration": 24,
    "start_time": "2023-03-09T16:08:11.670Z"
   },
   {
    "duration": 30,
    "start_time": "2023-03-09T16:08:11.696Z"
   },
   {
    "duration": 11,
    "start_time": "2023-03-09T16:08:11.728Z"
   },
   {
    "duration": 101,
    "start_time": "2023-03-09T16:08:11.742Z"
   },
   {
    "duration": 43,
    "start_time": "2023-03-09T16:08:11.845Z"
   },
   {
    "duration": 59,
    "start_time": "2023-03-09T16:08:11.890Z"
   },
   {
    "duration": 70,
    "start_time": "2023-03-09T16:08:11.951Z"
   },
   {
    "duration": 343,
    "start_time": "2023-03-09T16:08:12.028Z"
   },
   {
    "duration": 46,
    "start_time": "2023-03-09T16:08:12.374Z"
   },
   {
    "duration": 43,
    "start_time": "2023-03-09T16:08:12.422Z"
   },
   {
    "duration": 970,
    "start_time": "2023-03-09T16:08:12.466Z"
   },
   {
    "duration": 218,
    "start_time": "2023-03-09T16:08:13.444Z"
   },
   {
    "duration": 239,
    "start_time": "2023-03-09T16:08:13.665Z"
   },
   {
    "duration": 262,
    "start_time": "2023-03-09T16:08:13.906Z"
   },
   {
    "duration": 19,
    "start_time": "2023-03-09T16:08:14.170Z"
   },
   {
    "duration": 42,
    "start_time": "2023-03-09T16:08:14.193Z"
   },
   {
    "duration": 376,
    "start_time": "2023-03-09T16:08:14.238Z"
   },
   {
    "duration": 14,
    "start_time": "2023-03-09T16:08:14.618Z"
   },
   {
    "duration": 16,
    "start_time": "2023-03-09T16:08:14.633Z"
   },
   {
    "duration": 347,
    "start_time": "2023-03-09T16:08:14.650Z"
   },
   {
    "duration": 16,
    "start_time": "2023-03-09T16:09:27.149Z"
   },
   {
    "duration": 318,
    "start_time": "2023-03-09T16:09:30.357Z"
   },
   {
    "duration": 27,
    "start_time": "2023-03-09T16:09:42.299Z"
   },
   {
    "duration": 15,
    "start_time": "2023-03-09T16:09:47.187Z"
   },
   {
    "duration": 386,
    "start_time": "2023-03-09T16:09:49.972Z"
   },
   {
    "duration": 7,
    "start_time": "2023-03-09T16:10:46.155Z"
   },
   {
    "duration": 1112,
    "start_time": "2023-03-09T16:48:04.864Z"
   },
   {
    "duration": 438,
    "start_time": "2023-03-09T16:48:05.978Z"
   },
   {
    "duration": 156,
    "start_time": "2023-03-09T16:48:06.417Z"
   },
   {
    "duration": 49,
    "start_time": "2023-03-09T16:48:06.575Z"
   },
   {
    "duration": 99,
    "start_time": "2023-03-09T16:48:06.626Z"
   },
   {
    "duration": 32,
    "start_time": "2023-03-09T16:48:06.727Z"
   },
   {
    "duration": 8,
    "start_time": "2023-03-09T16:48:06.761Z"
   },
   {
    "duration": 94,
    "start_time": "2023-03-09T16:48:06.771Z"
   },
   {
    "duration": 19,
    "start_time": "2023-03-09T16:48:06.867Z"
   },
   {
    "duration": 28,
    "start_time": "2023-03-09T16:48:06.889Z"
   },
   {
    "duration": 20,
    "start_time": "2023-03-09T16:48:06.919Z"
   },
   {
    "duration": 6,
    "start_time": "2023-03-09T16:48:06.941Z"
   },
   {
    "duration": 6,
    "start_time": "2023-03-09T16:48:06.949Z"
   },
   {
    "duration": 79,
    "start_time": "2023-03-09T16:48:06.956Z"
   },
   {
    "duration": 42,
    "start_time": "2023-03-09T16:48:07.036Z"
   },
   {
    "duration": 66,
    "start_time": "2023-03-09T16:48:07.079Z"
   },
   {
    "duration": 52,
    "start_time": "2023-03-09T16:48:07.147Z"
   },
   {
    "duration": 253,
    "start_time": "2023-03-09T16:48:07.212Z"
   },
   {
    "duration": 25,
    "start_time": "2023-03-09T16:48:07.467Z"
   },
   {
    "duration": 53,
    "start_time": "2023-03-09T16:48:07.494Z"
   },
   {
    "duration": 909,
    "start_time": "2023-03-09T16:48:07.549Z"
   },
   {
    "duration": 202,
    "start_time": "2023-03-09T16:48:08.459Z"
   },
   {
    "duration": 209,
    "start_time": "2023-03-09T16:48:08.663Z"
   },
   {
    "duration": 199,
    "start_time": "2023-03-09T16:48:08.874Z"
   },
   {
    "duration": 13,
    "start_time": "2023-03-09T16:48:09.075Z"
   },
   {
    "duration": 30,
    "start_time": "2023-03-09T16:48:09.089Z"
   },
   {
    "duration": 274,
    "start_time": "2023-03-09T16:48:09.120Z"
   },
   {
    "duration": 18,
    "start_time": "2023-03-09T16:48:09.397Z"
   },
   {
    "duration": 15,
    "start_time": "2023-03-09T16:48:09.417Z"
   },
   {
    "duration": 281,
    "start_time": "2023-03-09T16:48:09.433Z"
   },
   {
    "duration": 7,
    "start_time": "2023-03-09T16:48:09.716Z"
   },
   {
    "duration": 1165,
    "start_time": "2023-03-09T17:12:02.234Z"
   },
   {
    "duration": 491,
    "start_time": "2023-03-09T17:12:03.402Z"
   },
   {
    "duration": 175,
    "start_time": "2023-03-09T17:12:03.895Z"
   },
   {
    "duration": 64,
    "start_time": "2023-03-09T17:12:04.073Z"
   },
   {
    "duration": 142,
    "start_time": "2023-03-09T17:12:04.139Z"
   },
   {
    "duration": 52,
    "start_time": "2023-03-09T17:12:04.284Z"
   },
   {
    "duration": 10,
    "start_time": "2023-03-09T17:12:04.338Z"
   },
   {
    "duration": 118,
    "start_time": "2023-03-09T17:12:04.351Z"
   },
   {
    "duration": 28,
    "start_time": "2023-03-09T17:12:04.471Z"
   },
   {
    "duration": 19,
    "start_time": "2023-03-09T17:12:04.511Z"
   },
   {
    "duration": 19,
    "start_time": "2023-03-09T17:12:04.531Z"
   },
   {
    "duration": 8,
    "start_time": "2023-03-09T17:12:04.552Z"
   },
   {
    "duration": 22,
    "start_time": "2023-03-09T17:12:04.562Z"
   },
   {
    "duration": 84,
    "start_time": "2023-03-09T17:12:04.586Z"
   },
   {
    "duration": 56,
    "start_time": "2023-03-09T17:12:04.672Z"
   },
   {
    "duration": 45,
    "start_time": "2023-03-09T17:12:04.730Z"
   },
   {
    "duration": 82,
    "start_time": "2023-03-09T17:12:04.778Z"
   },
   {
    "duration": 255,
    "start_time": "2023-03-09T17:12:04.862Z"
   },
   {
    "duration": 33,
    "start_time": "2023-03-09T17:12:05.119Z"
   },
   {
    "duration": 35,
    "start_time": "2023-03-09T17:12:05.154Z"
   },
   {
    "duration": 913,
    "start_time": "2023-03-09T17:12:05.191Z"
   },
   {
    "duration": 209,
    "start_time": "2023-03-09T17:12:06.106Z"
   },
   {
    "duration": 218,
    "start_time": "2023-03-09T17:12:06.318Z"
   },
   {
    "duration": 229,
    "start_time": "2023-03-09T17:12:06.538Z"
   },
   {
    "duration": 14,
    "start_time": "2023-03-09T17:12:06.768Z"
   },
   {
    "duration": 29,
    "start_time": "2023-03-09T17:12:06.784Z"
   },
   {
    "duration": 284,
    "start_time": "2023-03-09T17:12:06.815Z"
   },
   {
    "duration": 19,
    "start_time": "2023-03-09T17:12:07.102Z"
   },
   {
    "duration": 15,
    "start_time": "2023-03-09T17:12:07.123Z"
   },
   {
    "duration": 301,
    "start_time": "2023-03-09T17:12:07.140Z"
   },
   {
    "duration": 8,
    "start_time": "2023-03-09T17:12:07.442Z"
   },
   {
    "duration": 13,
    "start_time": "2023-03-09T17:12:51.070Z"
   },
   {
    "duration": 14,
    "start_time": "2023-03-09T17:12:59.983Z"
   },
   {
    "duration": 1161,
    "start_time": "2023-03-09T17:23:20.131Z"
   },
   {
    "duration": 470,
    "start_time": "2023-03-09T17:23:21.294Z"
   },
   {
    "duration": 177,
    "start_time": "2023-03-09T17:23:21.766Z"
   },
   {
    "duration": 39,
    "start_time": "2023-03-09T17:23:21.946Z"
   },
   {
    "duration": 126,
    "start_time": "2023-03-09T17:23:21.986Z"
   },
   {
    "duration": 45,
    "start_time": "2023-03-09T17:23:22.114Z"
   },
   {
    "duration": 10,
    "start_time": "2023-03-09T17:23:22.161Z"
   },
   {
    "duration": 108,
    "start_time": "2023-03-09T17:23:22.172Z"
   },
   {
    "duration": 37,
    "start_time": "2023-03-09T17:23:22.282Z"
   },
   {
    "duration": 15,
    "start_time": "2023-03-09T17:23:22.322Z"
   },
   {
    "duration": 17,
    "start_time": "2023-03-09T17:23:22.339Z"
   },
   {
    "duration": 7,
    "start_time": "2023-03-09T17:23:22.358Z"
   },
   {
    "duration": 7,
    "start_time": "2023-03-09T17:23:22.367Z"
   },
   {
    "duration": 73,
    "start_time": "2023-03-09T17:23:22.411Z"
   },
   {
    "duration": 62,
    "start_time": "2023-03-09T17:23:22.486Z"
   },
   {
    "duration": 69,
    "start_time": "2023-03-09T17:23:22.550Z"
   },
   {
    "duration": 55,
    "start_time": "2023-03-09T17:23:22.621Z"
   },
   {
    "duration": 284,
    "start_time": "2023-03-09T17:23:22.677Z"
   },
   {
    "duration": 25,
    "start_time": "2023-03-09T17:23:22.963Z"
   },
   {
    "duration": 60,
    "start_time": "2023-03-09T17:23:22.989Z"
   },
   {
    "duration": 1058,
    "start_time": "2023-03-09T17:23:23.051Z"
   },
   {
    "duration": 269,
    "start_time": "2023-03-09T17:23:24.111Z"
   },
   {
    "duration": 223,
    "start_time": "2023-03-09T17:23:24.382Z"
   },
   {
    "duration": 207,
    "start_time": "2023-03-09T17:23:24.607Z"
   },
   {
    "duration": 17,
    "start_time": "2023-03-09T17:23:24.816Z"
   },
   {
    "duration": 18,
    "start_time": "2023-03-09T17:23:24.835Z"
   },
   {
    "duration": 387,
    "start_time": "2023-03-09T17:23:24.855Z"
   },
   {
    "duration": 16,
    "start_time": "2023-03-09T17:23:25.246Z"
   },
   {
    "duration": 26,
    "start_time": "2023-03-09T17:23:25.264Z"
   },
   {
    "duration": 329,
    "start_time": "2023-03-09T17:23:25.312Z"
   },
   {
    "duration": 8,
    "start_time": "2023-03-09T17:23:25.643Z"
   },
   {
    "duration": 1216,
    "start_time": "2023-03-10T17:29:32.112Z"
   },
   {
    "duration": 1581,
    "start_time": "2023-03-10T17:29:33.330Z"
   },
   {
    "duration": 180,
    "start_time": "2023-03-10T17:29:34.913Z"
   },
   {
    "duration": 61,
    "start_time": "2023-03-10T17:29:35.097Z"
   },
   {
    "duration": 121,
    "start_time": "2023-03-10T17:29:35.161Z"
   },
   {
    "duration": 33,
    "start_time": "2023-03-10T17:29:35.290Z"
   },
   {
    "duration": 8,
    "start_time": "2023-03-10T17:29:35.325Z"
   },
   {
    "duration": 96,
    "start_time": "2023-03-10T17:29:35.336Z"
   },
   {
    "duration": 19,
    "start_time": "2023-03-10T17:29:35.434Z"
   },
   {
    "duration": 18,
    "start_time": "2023-03-10T17:29:35.471Z"
   },
   {
    "duration": 19,
    "start_time": "2023-03-10T17:29:35.491Z"
   },
   {
    "duration": 14,
    "start_time": "2023-03-10T17:29:35.512Z"
   },
   {
    "duration": 19,
    "start_time": "2023-03-10T17:29:35.528Z"
   },
   {
    "duration": 71,
    "start_time": "2023-03-10T17:29:35.550Z"
   },
   {
    "duration": 55,
    "start_time": "2023-03-10T17:29:35.622Z"
   },
   {
    "duration": 44,
    "start_time": "2023-03-10T17:29:35.678Z"
   },
   {
    "duration": 72,
    "start_time": "2023-03-10T17:29:35.724Z"
   },
   {
    "duration": 294,
    "start_time": "2023-03-10T17:29:35.797Z"
   },
   {
    "duration": 4,
    "start_time": "2023-03-10T17:29:36.092Z"
   },
   {
    "duration": 27,
    "start_time": "2023-03-10T17:29:36.098Z"
   },
   {
    "duration": 59,
    "start_time": "2023-03-10T17:29:36.127Z"
   },
   {
    "duration": 1091,
    "start_time": "2023-03-10T17:29:36.188Z"
   },
   {
    "duration": 284,
    "start_time": "2023-03-10T17:29:37.281Z"
   },
   {
    "duration": 316,
    "start_time": "2023-03-10T17:29:37.570Z"
   },
   {
    "duration": 249,
    "start_time": "2023-03-10T17:29:37.888Z"
   },
   {
    "duration": 15,
    "start_time": "2023-03-10T17:29:38.139Z"
   },
   {
    "duration": 28,
    "start_time": "2023-03-10T17:29:38.156Z"
   },
   {
    "duration": 328,
    "start_time": "2023-03-10T17:29:38.185Z"
   },
   {
    "duration": 21,
    "start_time": "2023-03-10T17:29:38.515Z"
   },
   {
    "duration": 42,
    "start_time": "2023-03-10T17:29:38.538Z"
   },
   {
    "duration": 316,
    "start_time": "2023-03-10T17:29:38.583Z"
   },
   {
    "duration": 8,
    "start_time": "2023-03-10T17:29:38.900Z"
   },
   {
    "duration": 24,
    "start_time": "2023-03-10T17:30:23.926Z"
   },
   {
    "duration": 4,
    "start_time": "2023-03-10T17:30:46.716Z"
   },
   {
    "duration": 13,
    "start_time": "2023-03-10T17:31:11.100Z"
   },
   {
    "duration": 11,
    "start_time": "2023-03-10T17:31:41.449Z"
   },
   {
    "duration": 16,
    "start_time": "2023-03-10T17:32:13.666Z"
   },
   {
    "duration": 136,
    "start_time": "2023-03-10T17:33:27.150Z"
   },
   {
    "duration": 1888,
    "start_time": "2023-03-10T17:33:31.224Z"
   },
   {
    "duration": 565,
    "start_time": "2023-03-10T17:33:46.724Z"
   },
   {
    "duration": 12,
    "start_time": "2023-03-10T17:34:06.136Z"
   },
   {
    "duration": 12,
    "start_time": "2023-03-10T17:34:28.332Z"
   },
   {
    "duration": 13,
    "start_time": "2023-03-10T17:39:32.745Z"
   },
   {
    "duration": 1204,
    "start_time": "2023-03-10T17:52:49.417Z"
   },
   {
    "duration": 497,
    "start_time": "2023-03-10T17:52:50.624Z"
   },
   {
    "duration": 185,
    "start_time": "2023-03-10T17:52:51.123Z"
   },
   {
    "duration": 45,
    "start_time": "2023-03-10T17:52:51.311Z"
   },
   {
    "duration": 128,
    "start_time": "2023-03-10T17:52:51.359Z"
   },
   {
    "duration": 43,
    "start_time": "2023-03-10T17:52:51.491Z"
   },
   {
    "duration": 9,
    "start_time": "2023-03-10T17:52:51.536Z"
   },
   {
    "duration": 104,
    "start_time": "2023-03-10T17:52:51.547Z"
   },
   {
    "duration": 34,
    "start_time": "2023-03-10T17:52:51.653Z"
   },
   {
    "duration": 35,
    "start_time": "2023-03-10T17:52:51.694Z"
   },
   {
    "duration": 17,
    "start_time": "2023-03-10T17:52:51.731Z"
   },
   {
    "duration": 10,
    "start_time": "2023-03-10T17:52:51.749Z"
   },
   {
    "duration": 19,
    "start_time": "2023-03-10T17:52:51.761Z"
   },
   {
    "duration": 76,
    "start_time": "2023-03-10T17:52:51.789Z"
   },
   {
    "duration": 50,
    "start_time": "2023-03-10T17:52:51.866Z"
   },
   {
    "duration": 44,
    "start_time": "2023-03-10T17:52:51.918Z"
   },
   {
    "duration": 69,
    "start_time": "2023-03-10T17:52:51.964Z"
   },
   {
    "duration": 281,
    "start_time": "2023-03-10T17:52:52.035Z"
   },
   {
    "duration": 5,
    "start_time": "2023-03-10T17:52:52.317Z"
   },
   {
    "duration": 17,
    "start_time": "2023-03-10T17:52:52.323Z"
   },
   {
    "duration": 54,
    "start_time": "2023-03-10T17:52:52.342Z"
   },
   {
    "duration": 35,
    "start_time": "2023-03-10T17:52:52.402Z"
   },
   {
    "duration": 965,
    "start_time": "2023-03-10T17:52:52.439Z"
   },
   {
    "duration": 237,
    "start_time": "2023-03-10T17:52:53.410Z"
   },
   {
    "duration": 250,
    "start_time": "2023-03-10T17:52:53.649Z"
   },
   {
    "duration": 205,
    "start_time": "2023-03-10T17:52:53.900Z"
   },
   {
    "duration": 30,
    "start_time": "2023-03-10T17:52:54.107Z"
   },
   {
    "duration": 16,
    "start_time": "2023-03-10T17:52:54.139Z"
   },
   {
    "duration": 332,
    "start_time": "2023-03-10T17:52:54.157Z"
   },
   {
    "duration": 16,
    "start_time": "2023-03-10T17:52:54.502Z"
   },
   {
    "duration": 28,
    "start_time": "2023-03-10T17:52:54.520Z"
   },
   {
    "duration": 310,
    "start_time": "2023-03-10T17:52:54.550Z"
   },
   {
    "duration": 16,
    "start_time": "2023-03-10T17:52:54.868Z"
   },
   {
    "duration": 76,
    "start_time": "2023-03-11T14:17:46.818Z"
   },
   {
    "duration": 43,
    "start_time": "2023-03-11T14:19:53.134Z"
   },
   {
    "duration": 48,
    "start_time": "2023-03-11T15:25:17.694Z"
   },
   {
    "duration": 1300,
    "start_time": "2023-03-11T15:25:22.257Z"
   },
   {
    "duration": 1170,
    "start_time": "2023-03-11T15:25:23.559Z"
   },
   {
    "duration": 124,
    "start_time": "2023-03-11T15:25:24.731Z"
   },
   {
    "duration": 34,
    "start_time": "2023-03-11T15:25:24.858Z"
   },
   {
    "duration": 100,
    "start_time": "2023-03-11T15:25:24.894Z"
   },
   {
    "duration": 31,
    "start_time": "2023-03-11T15:25:24.995Z"
   },
   {
    "duration": 7,
    "start_time": "2023-03-11T15:25:25.028Z"
   },
   {
    "duration": 102,
    "start_time": "2023-03-11T15:25:25.056Z"
   },
   {
    "duration": 20,
    "start_time": "2023-03-11T15:25:25.159Z"
   },
   {
    "duration": 14,
    "start_time": "2023-03-11T15:25:25.182Z"
   },
   {
    "duration": 14,
    "start_time": "2023-03-11T15:25:25.197Z"
   },
   {
    "duration": 6,
    "start_time": "2023-03-11T15:25:25.213Z"
   },
   {
    "duration": 36,
    "start_time": "2023-03-11T15:25:25.220Z"
   },
   {
    "duration": 74,
    "start_time": "2023-03-11T15:25:25.258Z"
   },
   {
    "duration": 55,
    "start_time": "2023-03-11T15:25:25.334Z"
   },
   {
    "duration": 47,
    "start_time": "2023-03-11T15:25:25.391Z"
   },
   {
    "duration": 166,
    "start_time": "2023-03-11T15:25:25.455Z"
   },
   {
    "duration": 0,
    "start_time": "2023-03-11T15:25:25.623Z"
   },
   {
    "duration": 0,
    "start_time": "2023-03-11T15:25:25.624Z"
   },
   {
    "duration": 0,
    "start_time": "2023-03-11T15:25:25.625Z"
   },
   {
    "duration": 0,
    "start_time": "2023-03-11T15:25:25.626Z"
   },
   {
    "duration": 0,
    "start_time": "2023-03-11T15:25:25.626Z"
   },
   {
    "duration": 0,
    "start_time": "2023-03-11T15:25:25.627Z"
   },
   {
    "duration": 0,
    "start_time": "2023-03-11T15:25:25.629Z"
   },
   {
    "duration": 0,
    "start_time": "2023-03-11T15:25:25.631Z"
   },
   {
    "duration": 0,
    "start_time": "2023-03-11T15:25:25.632Z"
   },
   {
    "duration": 0,
    "start_time": "2023-03-11T15:25:25.633Z"
   },
   {
    "duration": 0,
    "start_time": "2023-03-11T15:25:25.634Z"
   },
   {
    "duration": 0,
    "start_time": "2023-03-11T15:25:25.655Z"
   },
   {
    "duration": 0,
    "start_time": "2023-03-11T15:25:25.656Z"
   },
   {
    "duration": 0,
    "start_time": "2023-03-11T15:25:25.657Z"
   },
   {
    "duration": 0,
    "start_time": "2023-03-11T15:25:25.659Z"
   },
   {
    "duration": 0,
    "start_time": "2023-03-11T15:25:25.660Z"
   },
   {
    "duration": 1035,
    "start_time": "2023-03-11T15:25:54.316Z"
   },
   {
    "duration": 412,
    "start_time": "2023-03-11T15:25:55.353Z"
   },
   {
    "duration": 139,
    "start_time": "2023-03-11T15:25:55.767Z"
   },
   {
    "duration": 34,
    "start_time": "2023-03-11T15:25:55.908Z"
   },
   {
    "duration": 150,
    "start_time": "2023-03-11T15:25:55.944Z"
   },
   {
    "duration": 31,
    "start_time": "2023-03-11T15:25:56.096Z"
   },
   {
    "duration": 7,
    "start_time": "2023-03-11T15:25:56.128Z"
   },
   {
    "duration": 76,
    "start_time": "2023-03-11T15:25:56.136Z"
   },
   {
    "duration": 18,
    "start_time": "2023-03-11T15:25:56.213Z"
   },
   {
    "duration": 28,
    "start_time": "2023-03-11T15:25:56.234Z"
   },
   {
    "duration": 13,
    "start_time": "2023-03-11T15:25:56.264Z"
   },
   {
    "duration": 7,
    "start_time": "2023-03-11T15:25:56.278Z"
   },
   {
    "duration": 6,
    "start_time": "2023-03-11T15:25:56.287Z"
   },
   {
    "duration": 80,
    "start_time": "2023-03-11T15:25:56.294Z"
   },
   {
    "duration": 34,
    "start_time": "2023-03-11T15:25:56.376Z"
   },
   {
    "duration": 45,
    "start_time": "2023-03-11T15:25:56.411Z"
   },
   {
    "duration": 191,
    "start_time": "2023-03-11T15:25:56.457Z"
   },
   {
    "duration": 0,
    "start_time": "2023-03-11T15:25:56.655Z"
   },
   {
    "duration": 0,
    "start_time": "2023-03-11T15:25:56.656Z"
   },
   {
    "duration": 0,
    "start_time": "2023-03-11T15:25:56.658Z"
   },
   {
    "duration": 0,
    "start_time": "2023-03-11T15:25:56.659Z"
   },
   {
    "duration": 0,
    "start_time": "2023-03-11T15:25:56.660Z"
   },
   {
    "duration": 0,
    "start_time": "2023-03-11T15:25:56.662Z"
   },
   {
    "duration": 0,
    "start_time": "2023-03-11T15:25:56.663Z"
   },
   {
    "duration": 0,
    "start_time": "2023-03-11T15:25:56.664Z"
   },
   {
    "duration": 0,
    "start_time": "2023-03-11T15:25:56.666Z"
   },
   {
    "duration": 0,
    "start_time": "2023-03-11T15:25:56.667Z"
   },
   {
    "duration": 0,
    "start_time": "2023-03-11T15:25:56.669Z"
   },
   {
    "duration": 0,
    "start_time": "2023-03-11T15:25:56.670Z"
   },
   {
    "duration": 0,
    "start_time": "2023-03-11T15:25:56.672Z"
   },
   {
    "duration": 0,
    "start_time": "2023-03-11T15:25:56.673Z"
   },
   {
    "duration": 0,
    "start_time": "2023-03-11T15:25:56.674Z"
   },
   {
    "duration": 0,
    "start_time": "2023-03-11T15:25:56.675Z"
   },
   {
    "duration": 5,
    "start_time": "2023-03-11T15:29:19.790Z"
   },
   {
    "duration": 13,
    "start_time": "2023-03-11T15:29:30.256Z"
   },
   {
    "duration": 1128,
    "start_time": "2023-03-11T15:29:46.354Z"
   },
   {
    "duration": 410,
    "start_time": "2023-03-11T15:29:47.484Z"
   },
   {
    "duration": 139,
    "start_time": "2023-03-11T15:29:47.896Z"
   },
   {
    "duration": 38,
    "start_time": "2023-03-11T15:29:48.038Z"
   },
   {
    "duration": 101,
    "start_time": "2023-03-11T15:29:48.078Z"
   },
   {
    "duration": 33,
    "start_time": "2023-03-11T15:29:48.180Z"
   },
   {
    "duration": 7,
    "start_time": "2023-03-11T15:29:48.215Z"
   },
   {
    "duration": 87,
    "start_time": "2023-03-11T15:29:48.224Z"
   },
   {
    "duration": 20,
    "start_time": "2023-03-11T15:29:48.313Z"
   },
   {
    "duration": 26,
    "start_time": "2023-03-11T15:29:48.336Z"
   },
   {
    "duration": 13,
    "start_time": "2023-03-11T15:29:48.364Z"
   },
   {
    "duration": 6,
    "start_time": "2023-03-11T15:29:48.379Z"
   },
   {
    "duration": 7,
    "start_time": "2023-03-11T15:29:48.387Z"
   },
   {
    "duration": 68,
    "start_time": "2023-03-11T15:29:48.395Z"
   },
   {
    "duration": 35,
    "start_time": "2023-03-11T15:29:48.465Z"
   },
   {
    "duration": 34,
    "start_time": "2023-03-11T15:29:48.502Z"
   },
   {
    "duration": 48,
    "start_time": "2023-03-11T15:29:48.537Z"
   },
   {
    "duration": 265,
    "start_time": "2023-03-11T15:29:48.586Z"
   },
   {
    "duration": 3,
    "start_time": "2023-03-11T15:29:48.854Z"
   },
   {
    "duration": 30,
    "start_time": "2023-03-11T15:29:48.859Z"
   },
   {
    "duration": 34,
    "start_time": "2023-03-11T15:29:48.891Z"
   },
   {
    "duration": 27,
    "start_time": "2023-03-11T15:29:48.926Z"
   },
   {
    "duration": 814,
    "start_time": "2023-03-11T15:29:48.955Z"
   },
   {
    "duration": 160,
    "start_time": "2023-03-11T15:29:49.770Z"
   },
   {
    "duration": 180,
    "start_time": "2023-03-11T15:29:49.931Z"
   },
   {
    "duration": 167,
    "start_time": "2023-03-11T15:29:50.113Z"
   },
   {
    "duration": 11,
    "start_time": "2023-03-11T15:29:50.281Z"
   },
   {
    "duration": 19,
    "start_time": "2023-03-11T15:29:50.294Z"
   },
   {
    "duration": 287,
    "start_time": "2023-03-11T15:29:50.315Z"
   },
   {
    "duration": 11,
    "start_time": "2023-03-11T15:29:50.603Z"
   },
   {
    "duration": 16,
    "start_time": "2023-03-11T15:29:50.615Z"
   },
   {
    "duration": 293,
    "start_time": "2023-03-11T15:29:50.633Z"
   },
   {
    "duration": 6,
    "start_time": "2023-03-11T15:29:50.928Z"
   },
   {
    "duration": 1104,
    "start_time": "2023-03-11T15:31:48.153Z"
   },
   {
    "duration": 402,
    "start_time": "2023-03-11T15:31:49.259Z"
   },
   {
    "duration": 138,
    "start_time": "2023-03-11T15:31:49.663Z"
   },
   {
    "duration": 35,
    "start_time": "2023-03-11T15:31:49.804Z"
   },
   {
    "duration": 95,
    "start_time": "2023-03-11T15:31:49.841Z"
   },
   {
    "duration": 42,
    "start_time": "2023-03-11T15:31:49.938Z"
   },
   {
    "duration": 7,
    "start_time": "2023-03-11T15:31:49.982Z"
   },
   {
    "duration": 84,
    "start_time": "2023-03-11T15:31:49.991Z"
   },
   {
    "duration": 19,
    "start_time": "2023-03-11T15:31:50.077Z"
   },
   {
    "duration": 14,
    "start_time": "2023-03-11T15:31:50.098Z"
   },
   {
    "duration": 14,
    "start_time": "2023-03-11T15:31:50.113Z"
   },
   {
    "duration": 32,
    "start_time": "2023-03-11T15:31:50.128Z"
   },
   {
    "duration": 8,
    "start_time": "2023-03-11T15:31:50.163Z"
   },
   {
    "duration": 60,
    "start_time": "2023-03-11T15:31:50.173Z"
   },
   {
    "duration": 56,
    "start_time": "2023-03-11T15:31:50.234Z"
   },
   {
    "duration": 36,
    "start_time": "2023-03-11T15:31:50.291Z"
   },
   {
    "duration": 53,
    "start_time": "2023-03-11T15:31:50.329Z"
   },
   {
    "duration": 261,
    "start_time": "2023-03-11T15:31:50.383Z"
   },
   {
    "duration": 10,
    "start_time": "2023-03-11T15:31:50.645Z"
   },
   {
    "duration": 13,
    "start_time": "2023-03-11T15:31:50.656Z"
   },
   {
    "duration": 22,
    "start_time": "2023-03-11T15:31:50.670Z"
   },
   {
    "duration": 30,
    "start_time": "2023-03-11T15:31:50.693Z"
   },
   {
    "duration": 832,
    "start_time": "2023-03-11T15:31:50.754Z"
   },
   {
    "duration": 172,
    "start_time": "2023-03-11T15:31:51.588Z"
   },
   {
    "duration": 195,
    "start_time": "2023-03-11T15:31:51.762Z"
   },
   {
    "duration": 196,
    "start_time": "2023-03-11T15:31:51.959Z"
   },
   {
    "duration": 14,
    "start_time": "2023-03-11T15:31:52.157Z"
   },
   {
    "duration": 12,
    "start_time": "2023-03-11T15:31:52.174Z"
   },
   {
    "duration": 271,
    "start_time": "2023-03-11T15:31:52.188Z"
   },
   {
    "duration": 11,
    "start_time": "2023-03-11T15:31:52.460Z"
   },
   {
    "duration": 15,
    "start_time": "2023-03-11T15:31:52.472Z"
   },
   {
    "duration": 279,
    "start_time": "2023-03-11T15:31:52.489Z"
   },
   {
    "duration": 7,
    "start_time": "2023-03-11T15:31:52.769Z"
   },
   {
    "duration": 1113,
    "start_time": "2023-03-11T15:32:21.602Z"
   },
   {
    "duration": 427,
    "start_time": "2023-03-11T15:32:22.717Z"
   },
   {
    "duration": 124,
    "start_time": "2023-03-11T15:32:23.146Z"
   },
   {
    "duration": 35,
    "start_time": "2023-03-11T15:32:23.273Z"
   },
   {
    "duration": 100,
    "start_time": "2023-03-11T15:32:23.310Z"
   },
   {
    "duration": 51,
    "start_time": "2023-03-11T15:32:23.411Z"
   },
   {
    "duration": 7,
    "start_time": "2023-03-11T15:32:23.463Z"
   },
   {
    "duration": 65,
    "start_time": "2023-03-11T15:32:23.472Z"
   },
   {
    "duration": 19,
    "start_time": "2023-03-11T15:32:23.555Z"
   },
   {
    "duration": 12,
    "start_time": "2023-03-11T15:32:23.577Z"
   },
   {
    "duration": 13,
    "start_time": "2023-03-11T15:32:23.591Z"
   },
   {
    "duration": 7,
    "start_time": "2023-03-11T15:32:23.605Z"
   },
   {
    "duration": 17,
    "start_time": "2023-03-11T15:32:23.614Z"
   },
   {
    "duration": 71,
    "start_time": "2023-03-11T15:32:23.632Z"
   },
   {
    "duration": 35,
    "start_time": "2023-03-11T15:32:23.705Z"
   },
   {
    "duration": 37,
    "start_time": "2023-03-11T15:32:23.754Z"
   },
   {
    "duration": 31,
    "start_time": "2023-03-11T15:32:23.793Z"
   },
   {
    "duration": 276,
    "start_time": "2023-03-11T15:32:23.826Z"
   },
   {
    "duration": 4,
    "start_time": "2023-03-11T15:32:24.105Z"
   },
   {
    "duration": 13,
    "start_time": "2023-03-11T15:32:24.111Z"
   },
   {
    "duration": 41,
    "start_time": "2023-03-11T15:32:24.126Z"
   },
   {
    "duration": 29,
    "start_time": "2023-03-11T15:32:24.169Z"
   },
   {
    "duration": 888,
    "start_time": "2023-03-11T15:32:24.199Z"
   },
   {
    "duration": 163,
    "start_time": "2023-03-11T15:32:25.089Z"
   },
   {
    "duration": 185,
    "start_time": "2023-03-11T15:32:25.254Z"
   },
   {
    "duration": 176,
    "start_time": "2023-03-11T15:32:25.441Z"
   },
   {
    "duration": 14,
    "start_time": "2023-03-11T15:32:25.619Z"
   },
   {
    "duration": 36,
    "start_time": "2023-03-11T15:32:25.636Z"
   },
   {
    "duration": 306,
    "start_time": "2023-03-11T15:32:25.674Z"
   },
   {
    "duration": 10,
    "start_time": "2023-03-11T15:32:25.982Z"
   },
   {
    "duration": 14,
    "start_time": "2023-03-11T15:32:25.994Z"
   },
   {
    "duration": 302,
    "start_time": "2023-03-11T15:32:26.009Z"
   },
   {
    "duration": 6,
    "start_time": "2023-03-11T15:32:26.312Z"
   },
   {
    "duration": 6,
    "start_time": "2023-03-11T15:35:47.283Z"
   },
   {
    "duration": 110,
    "start_time": "2023-03-11T15:36:09.672Z"
   },
   {
    "duration": 12,
    "start_time": "2023-03-11T15:36:33.057Z"
   },
   {
    "duration": 21,
    "start_time": "2023-03-11T15:36:44.410Z"
   },
   {
    "duration": 1168,
    "start_time": "2023-03-11T15:37:01.745Z"
   },
   {
    "duration": 401,
    "start_time": "2023-03-11T15:37:02.915Z"
   },
   {
    "duration": 122,
    "start_time": "2023-03-11T15:37:03.317Z"
   },
   {
    "duration": 36,
    "start_time": "2023-03-11T15:37:03.442Z"
   },
   {
    "duration": 90,
    "start_time": "2023-03-11T15:37:03.479Z"
   },
   {
    "duration": 31,
    "start_time": "2023-03-11T15:37:03.570Z"
   },
   {
    "duration": 7,
    "start_time": "2023-03-11T15:37:03.602Z"
   },
   {
    "duration": 89,
    "start_time": "2023-03-11T15:37:03.611Z"
   },
   {
    "duration": 19,
    "start_time": "2023-03-11T15:37:03.702Z"
   },
   {
    "duration": 32,
    "start_time": "2023-03-11T15:37:03.724Z"
   },
   {
    "duration": 15,
    "start_time": "2023-03-11T15:37:03.758Z"
   },
   {
    "duration": 7,
    "start_time": "2023-03-11T15:37:03.775Z"
   },
   {
    "duration": 6,
    "start_time": "2023-03-11T15:37:03.783Z"
   },
   {
    "duration": 80,
    "start_time": "2023-03-11T15:37:03.791Z"
   },
   {
    "duration": 35,
    "start_time": "2023-03-11T15:37:03.873Z"
   },
   {
    "duration": 54,
    "start_time": "2023-03-11T15:37:03.909Z"
   },
   {
    "duration": 34,
    "start_time": "2023-03-11T15:37:03.964Z"
   },
   {
    "duration": 14,
    "start_time": "2023-03-11T15:37:03.999Z"
   },
   {
    "duration": 304,
    "start_time": "2023-03-11T15:37:04.015Z"
   },
   {
    "duration": 5,
    "start_time": "2023-03-11T15:37:04.321Z"
   },
   {
    "duration": 28,
    "start_time": "2023-03-11T15:37:04.328Z"
   },
   {
    "duration": 20,
    "start_time": "2023-03-11T15:37:04.358Z"
   },
   {
    "duration": 26,
    "start_time": "2023-03-11T15:37:04.380Z"
   },
   {
    "duration": 862,
    "start_time": "2023-03-11T15:37:04.408Z"
   },
   {
    "duration": 184,
    "start_time": "2023-03-11T15:37:05.272Z"
   },
   {
    "duration": 173,
    "start_time": "2023-03-11T15:37:05.458Z"
   },
   {
    "duration": 181,
    "start_time": "2023-03-11T15:37:05.633Z"
   },
   {
    "duration": 14,
    "start_time": "2023-03-11T15:37:05.818Z"
   },
   {
    "duration": 25,
    "start_time": "2023-03-11T15:37:05.834Z"
   },
   {
    "duration": 264,
    "start_time": "2023-03-11T15:37:05.861Z"
   },
   {
    "duration": 10,
    "start_time": "2023-03-11T15:37:06.126Z"
   },
   {
    "duration": 33,
    "start_time": "2023-03-11T15:37:06.137Z"
   },
   {
    "duration": 256,
    "start_time": "2023-03-11T15:37:06.171Z"
   },
   {
    "duration": 7,
    "start_time": "2023-03-11T15:37:06.428Z"
   },
   {
    "duration": 116,
    "start_time": "2023-03-11T15:38:44.782Z"
   },
   {
    "duration": 1132,
    "start_time": "2023-03-11T15:38:58.825Z"
   },
   {
    "duration": 390,
    "start_time": "2023-03-11T15:38:59.959Z"
   },
   {
    "duration": 129,
    "start_time": "2023-03-11T15:39:00.353Z"
   },
   {
    "duration": 34,
    "start_time": "2023-03-11T15:39:00.484Z"
   },
   {
    "duration": 99,
    "start_time": "2023-03-11T15:39:00.519Z"
   },
   {
    "duration": 42,
    "start_time": "2023-03-11T15:39:00.620Z"
   },
   {
    "duration": 8,
    "start_time": "2023-03-11T15:39:00.663Z"
   },
   {
    "duration": 108,
    "start_time": "2023-03-11T15:39:00.673Z"
   },
   {
    "duration": 20,
    "start_time": "2023-03-11T15:39:00.784Z"
   },
   {
    "duration": 59,
    "start_time": "2023-03-11T15:39:00.805Z"
   },
   {
    "duration": 27,
    "start_time": "2023-03-11T15:39:00.865Z"
   },
   {
    "duration": 24,
    "start_time": "2023-03-11T15:39:00.893Z"
   },
   {
    "duration": 37,
    "start_time": "2023-03-11T15:39:00.918Z"
   },
   {
    "duration": 79,
    "start_time": "2023-03-11T15:39:00.957Z"
   },
   {
    "duration": 38,
    "start_time": "2023-03-11T15:39:01.037Z"
   },
   {
    "duration": 36,
    "start_time": "2023-03-11T15:39:01.076Z"
   },
   {
    "duration": 47,
    "start_time": "2023-03-11T15:39:01.113Z"
   },
   {
    "duration": 14,
    "start_time": "2023-03-11T15:39:01.162Z"
   },
   {
    "duration": 266,
    "start_time": "2023-03-11T15:39:01.178Z"
   },
   {
    "duration": 10,
    "start_time": "2023-03-11T15:39:01.445Z"
   },
   {
    "duration": 17,
    "start_time": "2023-03-11T15:39:01.457Z"
   },
   {
    "duration": 48,
    "start_time": "2023-03-11T15:39:01.476Z"
   },
   {
    "duration": 40,
    "start_time": "2023-03-11T15:39:01.525Z"
   },
   {
    "duration": 815,
    "start_time": "2023-03-11T15:39:01.567Z"
   },
   {
    "duration": 159,
    "start_time": "2023-03-11T15:39:02.384Z"
   },
   {
    "duration": 188,
    "start_time": "2023-03-11T15:39:02.544Z"
   },
   {
    "duration": 189,
    "start_time": "2023-03-11T15:39:02.735Z"
   },
   {
    "duration": 10,
    "start_time": "2023-03-11T15:39:02.926Z"
   },
   {
    "duration": 25,
    "start_time": "2023-03-11T15:39:02.939Z"
   },
   {
    "duration": 274,
    "start_time": "2023-03-11T15:39:02.966Z"
   },
   {
    "duration": 20,
    "start_time": "2023-03-11T15:39:03.242Z"
   },
   {
    "duration": 14,
    "start_time": "2023-03-11T15:39:03.264Z"
   },
   {
    "duration": 280,
    "start_time": "2023-03-11T15:39:03.279Z"
   },
   {
    "duration": 6,
    "start_time": "2023-03-11T15:39:03.560Z"
   },
   {
    "duration": 1115,
    "start_time": "2023-03-11T15:39:34.663Z"
   },
   {
    "duration": 392,
    "start_time": "2023-03-11T15:39:35.780Z"
   },
   {
    "duration": 143,
    "start_time": "2023-03-11T15:39:36.173Z"
   },
   {
    "duration": 46,
    "start_time": "2023-03-11T15:39:36.318Z"
   },
   {
    "duration": 93,
    "start_time": "2023-03-11T15:39:36.366Z"
   },
   {
    "duration": 32,
    "start_time": "2023-03-11T15:39:36.460Z"
   },
   {
    "duration": 7,
    "start_time": "2023-03-11T15:39:36.494Z"
   },
   {
    "duration": 84,
    "start_time": "2023-03-11T15:39:36.502Z"
   },
   {
    "duration": 22,
    "start_time": "2023-03-11T15:39:36.588Z"
   },
   {
    "duration": 29,
    "start_time": "2023-03-11T15:39:36.611Z"
   },
   {
    "duration": 26,
    "start_time": "2023-03-11T15:39:36.642Z"
   },
   {
    "duration": 7,
    "start_time": "2023-03-11T15:39:36.670Z"
   },
   {
    "duration": 6,
    "start_time": "2023-03-11T15:39:36.679Z"
   },
   {
    "duration": 79,
    "start_time": "2023-03-11T15:39:36.689Z"
   },
   {
    "duration": 41,
    "start_time": "2023-03-11T15:39:36.772Z"
   },
   {
    "duration": 62,
    "start_time": "2023-03-11T15:39:36.814Z"
   },
   {
    "duration": 30,
    "start_time": "2023-03-11T15:39:36.878Z"
   },
   {
    "duration": 13,
    "start_time": "2023-03-11T15:39:36.910Z"
   },
   {
    "duration": 274,
    "start_time": "2023-03-11T15:39:36.924Z"
   },
   {
    "duration": 5,
    "start_time": "2023-03-11T15:39:37.199Z"
   },
   {
    "duration": 23,
    "start_time": "2023-03-11T15:39:37.205Z"
   },
   {
    "duration": 32,
    "start_time": "2023-03-11T15:39:37.229Z"
   },
   {
    "duration": 28,
    "start_time": "2023-03-11T15:39:37.262Z"
   },
   {
    "duration": 976,
    "start_time": "2023-03-11T15:39:37.291Z"
   },
   {
    "duration": 162,
    "start_time": "2023-03-11T15:39:38.268Z"
   },
   {
    "duration": 173,
    "start_time": "2023-03-11T15:39:38.431Z"
   },
   {
    "duration": 177,
    "start_time": "2023-03-11T15:39:38.606Z"
   },
   {
    "duration": 14,
    "start_time": "2023-03-11T15:39:38.784Z"
   },
   {
    "duration": 12,
    "start_time": "2023-03-11T15:39:38.800Z"
   },
   {
    "duration": 299,
    "start_time": "2023-03-11T15:39:38.813Z"
   },
   {
    "duration": 10,
    "start_time": "2023-03-11T15:39:39.114Z"
   },
   {
    "duration": 13,
    "start_time": "2023-03-11T15:39:39.125Z"
   },
   {
    "duration": 266,
    "start_time": "2023-03-11T15:39:39.155Z"
   },
   {
    "duration": 6,
    "start_time": "2023-03-11T15:39:39.423Z"
   },
   {
    "duration": 1120,
    "start_time": "2023-03-11T15:40:10.029Z"
   },
   {
    "duration": 388,
    "start_time": "2023-03-11T15:40:11.151Z"
   },
   {
    "duration": 126,
    "start_time": "2023-03-11T15:40:11.540Z"
   },
   {
    "duration": 37,
    "start_time": "2023-03-11T15:40:11.668Z"
   },
   {
    "duration": 96,
    "start_time": "2023-03-11T15:40:11.707Z"
   },
   {
    "duration": 32,
    "start_time": "2023-03-11T15:40:11.805Z"
   },
   {
    "duration": 18,
    "start_time": "2023-03-11T15:40:11.839Z"
   },
   {
    "duration": 64,
    "start_time": "2023-03-11T15:40:11.858Z"
   },
   {
    "duration": 37,
    "start_time": "2023-03-11T15:40:11.923Z"
   },
   {
    "duration": 13,
    "start_time": "2023-03-11T15:40:11.962Z"
   },
   {
    "duration": 11,
    "start_time": "2023-03-11T15:40:11.977Z"
   },
   {
    "duration": 5,
    "start_time": "2023-03-11T15:40:11.990Z"
   },
   {
    "duration": 5,
    "start_time": "2023-03-11T15:40:11.997Z"
   },
   {
    "duration": 73,
    "start_time": "2023-03-11T15:40:12.004Z"
   },
   {
    "duration": 32,
    "start_time": "2023-03-11T15:40:12.079Z"
   },
   {
    "duration": 48,
    "start_time": "2023-03-11T15:40:12.113Z"
   },
   {
    "duration": 42,
    "start_time": "2023-03-11T15:40:12.163Z"
   },
   {
    "duration": 123,
    "start_time": "2023-03-11T15:40:12.207Z"
   },
   {
    "duration": 0,
    "start_time": "2023-03-11T15:40:12.332Z"
   },
   {
    "duration": 0,
    "start_time": "2023-03-11T15:40:12.333Z"
   },
   {
    "duration": 0,
    "start_time": "2023-03-11T15:40:12.334Z"
   },
   {
    "duration": 0,
    "start_time": "2023-03-11T15:40:12.335Z"
   },
   {
    "duration": 0,
    "start_time": "2023-03-11T15:40:12.336Z"
   },
   {
    "duration": 0,
    "start_time": "2023-03-11T15:40:12.337Z"
   },
   {
    "duration": 0,
    "start_time": "2023-03-11T15:40:12.337Z"
   },
   {
    "duration": 0,
    "start_time": "2023-03-11T15:40:12.338Z"
   },
   {
    "duration": 0,
    "start_time": "2023-03-11T15:40:12.339Z"
   },
   {
    "duration": 0,
    "start_time": "2023-03-11T15:40:12.355Z"
   },
   {
    "duration": 0,
    "start_time": "2023-03-11T15:40:12.355Z"
   },
   {
    "duration": 0,
    "start_time": "2023-03-11T15:40:12.357Z"
   },
   {
    "duration": 0,
    "start_time": "2023-03-11T15:40:12.358Z"
   },
   {
    "duration": 0,
    "start_time": "2023-03-11T15:40:12.359Z"
   },
   {
    "duration": 0,
    "start_time": "2023-03-11T15:40:12.360Z"
   },
   {
    "duration": 0,
    "start_time": "2023-03-11T15:40:12.361Z"
   },
   {
    "duration": 14,
    "start_time": "2023-03-11T15:40:49.532Z"
   },
   {
    "duration": 1043,
    "start_time": "2023-03-11T15:40:57.904Z"
   },
   {
    "duration": 401,
    "start_time": "2023-03-11T15:40:58.949Z"
   },
   {
    "duration": 114,
    "start_time": "2023-03-11T15:40:59.351Z"
   },
   {
    "duration": 34,
    "start_time": "2023-03-11T15:40:59.467Z"
   },
   {
    "duration": 94,
    "start_time": "2023-03-11T15:40:59.503Z"
   },
   {
    "duration": 32,
    "start_time": "2023-03-11T15:40:59.599Z"
   },
   {
    "duration": 8,
    "start_time": "2023-03-11T15:40:59.632Z"
   },
   {
    "duration": 65,
    "start_time": "2023-03-11T15:40:59.656Z"
   },
   {
    "duration": 19,
    "start_time": "2023-03-11T15:40:59.722Z"
   },
   {
    "duration": 24,
    "start_time": "2023-03-11T15:40:59.743Z"
   },
   {
    "duration": 14,
    "start_time": "2023-03-11T15:40:59.768Z"
   },
   {
    "duration": 6,
    "start_time": "2023-03-11T15:40:59.783Z"
   },
   {
    "duration": 5,
    "start_time": "2023-03-11T15:40:59.791Z"
   },
   {
    "duration": 77,
    "start_time": "2023-03-11T15:40:59.798Z"
   },
   {
    "duration": 36,
    "start_time": "2023-03-11T15:40:59.877Z"
   },
   {
    "duration": 49,
    "start_time": "2023-03-11T15:40:59.915Z"
   },
   {
    "duration": 32,
    "start_time": "2023-03-11T15:40:59.966Z"
   },
   {
    "duration": 15,
    "start_time": "2023-03-11T15:40:59.999Z"
   },
   {
    "duration": 288,
    "start_time": "2023-03-11T15:41:00.016Z"
   },
   {
    "duration": 5,
    "start_time": "2023-03-11T15:41:00.305Z"
   },
   {
    "duration": 33,
    "start_time": "2023-03-11T15:41:00.311Z"
   },
   {
    "duration": 37,
    "start_time": "2023-03-11T15:41:00.345Z"
   },
   {
    "duration": 30,
    "start_time": "2023-03-11T15:41:00.383Z"
   },
   {
    "duration": 858,
    "start_time": "2023-03-11T15:41:00.415Z"
   },
   {
    "duration": 168,
    "start_time": "2023-03-11T15:41:01.275Z"
   },
   {
    "duration": 176,
    "start_time": "2023-03-11T15:41:01.444Z"
   },
   {
    "duration": 189,
    "start_time": "2023-03-11T15:41:01.621Z"
   },
   {
    "duration": 11,
    "start_time": "2023-03-11T15:41:01.813Z"
   },
   {
    "duration": 38,
    "start_time": "2023-03-11T15:41:01.826Z"
   },
   {
    "duration": 280,
    "start_time": "2023-03-11T15:41:01.866Z"
   },
   {
    "duration": 16,
    "start_time": "2023-03-11T15:41:02.148Z"
   },
   {
    "duration": 16,
    "start_time": "2023-03-11T15:41:02.167Z"
   },
   {
    "duration": 313,
    "start_time": "2023-03-11T15:41:02.185Z"
   },
   {
    "duration": 7,
    "start_time": "2023-03-11T15:41:02.499Z"
   },
   {
    "duration": 99,
    "start_time": "2023-03-11T15:41:48.248Z"
   },
   {
    "duration": 5,
    "start_time": "2023-03-11T15:41:58.315Z"
   },
   {
    "duration": 9,
    "start_time": "2023-03-11T15:43:08.317Z"
   },
   {
    "duration": 10,
    "start_time": "2023-03-11T15:43:12.832Z"
   },
   {
    "duration": 4,
    "start_time": "2023-03-11T15:43:26.661Z"
   },
   {
    "duration": 8,
    "start_time": "2023-03-11T15:44:06.369Z"
   },
   {
    "duration": 10,
    "start_time": "2023-03-11T15:44:15.389Z"
   },
   {
    "duration": 9,
    "start_time": "2023-03-11T15:44:29.602Z"
   },
   {
    "duration": 8,
    "start_time": "2023-03-11T15:44:33.865Z"
   },
   {
    "duration": 7,
    "start_time": "2023-03-11T15:44:50.908Z"
   },
   {
    "duration": 7,
    "start_time": "2023-03-11T15:48:57.790Z"
   },
   {
    "duration": 6,
    "start_time": "2023-03-11T15:49:54.696Z"
   },
   {
    "duration": 5,
    "start_time": "2023-03-11T15:50:31.658Z"
   },
   {
    "duration": 4,
    "start_time": "2023-03-11T15:51:39.372Z"
   },
   {
    "duration": 496,
    "start_time": "2023-03-11T15:53:22.780Z"
   },
   {
    "duration": 9,
    "start_time": "2023-03-11T15:53:49.650Z"
   },
   {
    "duration": 14,
    "start_time": "2023-03-11T15:53:56.884Z"
   },
   {
    "duration": 36,
    "start_time": "2023-03-11T15:54:30.277Z"
   },
   {
    "duration": 29,
    "start_time": "2023-03-11T15:54:55.668Z"
   },
   {
    "duration": 34,
    "start_time": "2023-03-11T15:55:28.192Z"
   },
   {
    "duration": 1092,
    "start_time": "2023-03-11T15:58:12.702Z"
   },
   {
    "duration": 446,
    "start_time": "2023-03-11T15:58:13.796Z"
   },
   {
    "duration": 145,
    "start_time": "2023-03-11T15:58:14.244Z"
   },
   {
    "duration": 51,
    "start_time": "2023-03-11T15:58:14.391Z"
   },
   {
    "duration": 98,
    "start_time": "2023-03-11T15:58:14.444Z"
   },
   {
    "duration": 44,
    "start_time": "2023-03-11T15:58:14.543Z"
   },
   {
    "duration": 8,
    "start_time": "2023-03-11T15:58:14.588Z"
   },
   {
    "duration": 94,
    "start_time": "2023-03-11T15:58:14.597Z"
   },
   {
    "duration": 19,
    "start_time": "2023-03-11T15:58:14.692Z"
   },
   {
    "duration": 14,
    "start_time": "2023-03-11T15:58:14.713Z"
   },
   {
    "duration": 40,
    "start_time": "2023-03-11T15:58:14.729Z"
   },
   {
    "duration": 7,
    "start_time": "2023-03-11T15:58:14.771Z"
   },
   {
    "duration": 5,
    "start_time": "2023-03-11T15:58:14.780Z"
   },
   {
    "duration": 156,
    "start_time": "2023-03-11T15:58:14.788Z"
   },
   {
    "duration": 0,
    "start_time": "2023-03-11T15:58:14.946Z"
   },
   {
    "duration": 0,
    "start_time": "2023-03-11T15:58:14.947Z"
   },
   {
    "duration": 0,
    "start_time": "2023-03-11T15:58:14.948Z"
   },
   {
    "duration": 0,
    "start_time": "2023-03-11T15:58:14.955Z"
   },
   {
    "duration": 0,
    "start_time": "2023-03-11T15:58:14.956Z"
   },
   {
    "duration": 0,
    "start_time": "2023-03-11T15:58:14.957Z"
   },
   {
    "duration": 0,
    "start_time": "2023-03-11T15:58:14.958Z"
   },
   {
    "duration": 0,
    "start_time": "2023-03-11T15:58:14.959Z"
   },
   {
    "duration": 0,
    "start_time": "2023-03-11T15:58:14.960Z"
   },
   {
    "duration": 0,
    "start_time": "2023-03-11T15:58:14.961Z"
   },
   {
    "duration": 0,
    "start_time": "2023-03-11T15:58:14.962Z"
   },
   {
    "duration": 0,
    "start_time": "2023-03-11T15:58:14.963Z"
   },
   {
    "duration": 0,
    "start_time": "2023-03-11T15:58:14.963Z"
   },
   {
    "duration": 0,
    "start_time": "2023-03-11T15:58:14.965Z"
   },
   {
    "duration": 0,
    "start_time": "2023-03-11T15:58:14.965Z"
   },
   {
    "duration": 0,
    "start_time": "2023-03-11T15:58:14.967Z"
   },
   {
    "duration": 0,
    "start_time": "2023-03-11T15:58:14.967Z"
   },
   {
    "duration": 0,
    "start_time": "2023-03-11T15:58:14.968Z"
   },
   {
    "duration": 0,
    "start_time": "2023-03-11T15:58:14.969Z"
   },
   {
    "duration": 0,
    "start_time": "2023-03-11T15:58:14.970Z"
   },
   {
    "duration": 0,
    "start_time": "2023-03-11T15:58:14.971Z"
   },
   {
    "duration": 49,
    "start_time": "2023-03-11T15:58:48.748Z"
   },
   {
    "duration": 1074,
    "start_time": "2023-03-11T15:59:02.788Z"
   },
   {
    "duration": 408,
    "start_time": "2023-03-11T15:59:03.863Z"
   },
   {
    "duration": 155,
    "start_time": "2023-03-11T15:59:04.273Z"
   },
   {
    "duration": 47,
    "start_time": "2023-03-11T15:59:04.430Z"
   },
   {
    "duration": 140,
    "start_time": "2023-03-11T15:59:04.478Z"
   },
   {
    "duration": 42,
    "start_time": "2023-03-11T15:59:04.620Z"
   },
   {
    "duration": 8,
    "start_time": "2023-03-11T15:59:04.663Z"
   },
   {
    "duration": 92,
    "start_time": "2023-03-11T15:59:04.673Z"
   },
   {
    "duration": 19,
    "start_time": "2023-03-11T15:59:04.767Z"
   },
   {
    "duration": 12,
    "start_time": "2023-03-11T15:59:04.788Z"
   },
   {
    "duration": 17,
    "start_time": "2023-03-11T15:59:04.801Z"
   },
   {
    "duration": 6,
    "start_time": "2023-03-11T15:59:04.820Z"
   },
   {
    "duration": 28,
    "start_time": "2023-03-11T15:59:04.828Z"
   },
   {
    "duration": 48,
    "start_time": "2023-03-11T15:59:04.858Z"
   },
   {
    "duration": 54,
    "start_time": "2023-03-11T15:59:04.908Z"
   },
   {
    "duration": 34,
    "start_time": "2023-03-11T15:59:04.963Z"
   },
   {
    "duration": 32,
    "start_time": "2023-03-11T15:59:04.999Z"
   },
   {
    "duration": 4,
    "start_time": "2023-03-11T15:59:05.032Z"
   },
   {
    "duration": 35,
    "start_time": "2023-03-11T15:59:05.054Z"
   },
   {
    "duration": 288,
    "start_time": "2023-03-11T15:59:05.090Z"
   },
   {
    "duration": 5,
    "start_time": "2023-03-11T15:59:05.380Z"
   },
   {
    "duration": 18,
    "start_time": "2023-03-11T15:59:05.387Z"
   },
   {
    "duration": 50,
    "start_time": "2023-03-11T15:59:05.407Z"
   },
   {
    "duration": 41,
    "start_time": "2023-03-11T15:59:05.459Z"
   },
   {
    "duration": 865,
    "start_time": "2023-03-11T15:59:05.502Z"
   },
   {
    "duration": 163,
    "start_time": "2023-03-11T15:59:06.369Z"
   },
   {
    "duration": 164,
    "start_time": "2023-03-11T15:59:06.534Z"
   },
   {
    "duration": 170,
    "start_time": "2023-03-11T15:59:06.701Z"
   },
   {
    "duration": 10,
    "start_time": "2023-03-11T15:59:06.873Z"
   },
   {
    "duration": 11,
    "start_time": "2023-03-11T15:59:06.884Z"
   },
   {
    "duration": 322,
    "start_time": "2023-03-11T15:59:06.896Z"
   },
   {
    "duration": 13,
    "start_time": "2023-03-11T15:59:07.220Z"
   },
   {
    "duration": 33,
    "start_time": "2023-03-11T15:59:07.235Z"
   },
   {
    "duration": 326,
    "start_time": "2023-03-11T15:59:07.270Z"
   },
   {
    "duration": 5,
    "start_time": "2023-03-11T15:59:07.598Z"
   },
   {
    "duration": 25,
    "start_time": "2023-03-11T16:03:22.930Z"
   },
   {
    "duration": 1139,
    "start_time": "2023-03-11T16:09:03.139Z"
   },
   {
    "duration": 413,
    "start_time": "2023-03-11T16:09:04.280Z"
   },
   {
    "duration": 123,
    "start_time": "2023-03-11T16:09:04.695Z"
   },
   {
    "duration": 42,
    "start_time": "2023-03-11T16:09:04.821Z"
   },
   {
    "duration": 90,
    "start_time": "2023-03-11T16:09:04.865Z"
   },
   {
    "duration": 31,
    "start_time": "2023-03-11T16:09:04.956Z"
   },
   {
    "duration": 7,
    "start_time": "2023-03-11T16:09:04.988Z"
   },
   {
    "duration": 84,
    "start_time": "2023-03-11T16:09:04.997Z"
   },
   {
    "duration": 18,
    "start_time": "2023-03-11T16:09:05.083Z"
   },
   {
    "duration": 13,
    "start_time": "2023-03-11T16:09:05.103Z"
   },
   {
    "duration": 13,
    "start_time": "2023-03-11T16:09:05.118Z"
   },
   {
    "duration": 7,
    "start_time": "2023-03-11T16:09:05.155Z"
   },
   {
    "duration": 8,
    "start_time": "2023-03-11T16:09:05.163Z"
   },
   {
    "duration": 54,
    "start_time": "2023-03-11T16:09:05.172Z"
   },
   {
    "duration": 50,
    "start_time": "2023-03-11T16:09:05.228Z"
   },
   {
    "duration": 39,
    "start_time": "2023-03-11T16:09:05.280Z"
   },
   {
    "duration": 170,
    "start_time": "2023-03-11T16:09:05.321Z"
   },
   {
    "duration": 0,
    "start_time": "2023-03-11T16:09:05.494Z"
   },
   {
    "duration": 0,
    "start_time": "2023-03-11T16:09:05.495Z"
   },
   {
    "duration": 0,
    "start_time": "2023-03-11T16:09:05.496Z"
   },
   {
    "duration": 0,
    "start_time": "2023-03-11T16:09:05.497Z"
   },
   {
    "duration": 0,
    "start_time": "2023-03-11T16:09:05.498Z"
   },
   {
    "duration": 0,
    "start_time": "2023-03-11T16:09:05.499Z"
   },
   {
    "duration": 0,
    "start_time": "2023-03-11T16:09:05.500Z"
   },
   {
    "duration": 0,
    "start_time": "2023-03-11T16:09:05.501Z"
   },
   {
    "duration": 0,
    "start_time": "2023-03-11T16:09:05.502Z"
   },
   {
    "duration": 0,
    "start_time": "2023-03-11T16:09:05.503Z"
   },
   {
    "duration": 0,
    "start_time": "2023-03-11T16:09:05.504Z"
   },
   {
    "duration": 0,
    "start_time": "2023-03-11T16:09:05.505Z"
   },
   {
    "duration": 0,
    "start_time": "2023-03-11T16:09:05.507Z"
   },
   {
    "duration": 0,
    "start_time": "2023-03-11T16:09:05.508Z"
   },
   {
    "duration": 0,
    "start_time": "2023-03-11T16:09:05.510Z"
   },
   {
    "duration": 0,
    "start_time": "2023-03-11T16:09:05.512Z"
   },
   {
    "duration": 0,
    "start_time": "2023-03-11T16:09:05.513Z"
   },
   {
    "duration": 0,
    "start_time": "2023-03-11T16:09:05.515Z"
   },
   {
    "duration": 31,
    "start_time": "2023-03-11T16:10:18.312Z"
   },
   {
    "duration": 41,
    "start_time": "2023-03-11T16:11:15.407Z"
   },
   {
    "duration": 51,
    "start_time": "2023-03-11T16:11:24.842Z"
   },
   {
    "duration": 1137,
    "start_time": "2023-03-11T16:15:22.840Z"
   },
   {
    "duration": 413,
    "start_time": "2023-03-11T16:15:23.979Z"
   },
   {
    "duration": 127,
    "start_time": "2023-03-11T16:15:24.393Z"
   },
   {
    "duration": 44,
    "start_time": "2023-03-11T16:15:24.522Z"
   },
   {
    "duration": 102,
    "start_time": "2023-03-11T16:15:24.567Z"
   },
   {
    "duration": 31,
    "start_time": "2023-03-11T16:15:24.670Z"
   },
   {
    "duration": 7,
    "start_time": "2023-03-11T16:15:24.703Z"
   },
   {
    "duration": 84,
    "start_time": "2023-03-11T16:15:24.711Z"
   },
   {
    "duration": 20,
    "start_time": "2023-03-11T16:15:24.797Z"
   },
   {
    "duration": 12,
    "start_time": "2023-03-11T16:15:24.821Z"
   },
   {
    "duration": 30,
    "start_time": "2023-03-11T16:15:24.835Z"
   },
   {
    "duration": 6,
    "start_time": "2023-03-11T16:15:24.866Z"
   },
   {
    "duration": 6,
    "start_time": "2023-03-11T16:15:24.873Z"
   },
   {
    "duration": 46,
    "start_time": "2023-03-11T16:15:24.880Z"
   },
   {
    "duration": 58,
    "start_time": "2023-03-11T16:15:24.928Z"
   },
   {
    "duration": 35,
    "start_time": "2023-03-11T16:15:24.989Z"
   },
   {
    "duration": 54,
    "start_time": "2023-03-11T16:15:25.026Z"
   },
   {
    "duration": 260,
    "start_time": "2023-03-11T16:15:25.082Z"
   },
   {
    "duration": 14,
    "start_time": "2023-03-11T16:15:25.344Z"
   },
   {
    "duration": 126,
    "start_time": "2023-03-11T16:15:25.359Z"
   },
   {
    "duration": 0,
    "start_time": "2023-03-11T16:15:25.487Z"
   },
   {
    "duration": 0,
    "start_time": "2023-03-11T16:15:25.488Z"
   },
   {
    "duration": 0,
    "start_time": "2023-03-11T16:15:25.489Z"
   },
   {
    "duration": 0,
    "start_time": "2023-03-11T16:15:25.490Z"
   },
   {
    "duration": 0,
    "start_time": "2023-03-11T16:15:25.491Z"
   },
   {
    "duration": 0,
    "start_time": "2023-03-11T16:15:25.492Z"
   },
   {
    "duration": 0,
    "start_time": "2023-03-11T16:15:25.493Z"
   },
   {
    "duration": 0,
    "start_time": "2023-03-11T16:15:25.494Z"
   },
   {
    "duration": 0,
    "start_time": "2023-03-11T16:15:25.496Z"
   },
   {
    "duration": 0,
    "start_time": "2023-03-11T16:15:25.496Z"
   },
   {
    "duration": 0,
    "start_time": "2023-03-11T16:15:25.497Z"
   },
   {
    "duration": 0,
    "start_time": "2023-03-11T16:15:25.498Z"
   },
   {
    "duration": 0,
    "start_time": "2023-03-11T16:15:25.499Z"
   },
   {
    "duration": 1132,
    "start_time": "2023-03-11T16:19:06.761Z"
   },
   {
    "duration": 430,
    "start_time": "2023-03-11T16:19:07.895Z"
   },
   {
    "duration": 125,
    "start_time": "2023-03-11T16:19:08.327Z"
   },
   {
    "duration": 47,
    "start_time": "2023-03-11T16:19:08.455Z"
   },
   {
    "duration": 94,
    "start_time": "2023-03-11T16:19:08.504Z"
   },
   {
    "duration": 32,
    "start_time": "2023-03-11T16:19:08.600Z"
   },
   {
    "duration": 23,
    "start_time": "2023-03-11T16:19:08.633Z"
   },
   {
    "duration": 73,
    "start_time": "2023-03-11T16:19:08.658Z"
   },
   {
    "duration": 35,
    "start_time": "2023-03-11T16:19:08.732Z"
   },
   {
    "duration": 17,
    "start_time": "2023-03-11T16:19:08.769Z"
   },
   {
    "duration": 20,
    "start_time": "2023-03-11T16:19:08.788Z"
   },
   {
    "duration": 6,
    "start_time": "2023-03-11T16:19:08.810Z"
   },
   {
    "duration": 39,
    "start_time": "2023-03-11T16:19:08.818Z"
   },
   {
    "duration": 52,
    "start_time": "2023-03-11T16:19:08.858Z"
   },
   {
    "duration": 59,
    "start_time": "2023-03-11T16:19:08.912Z"
   },
   {
    "duration": 35,
    "start_time": "2023-03-11T16:19:08.973Z"
   },
   {
    "duration": 52,
    "start_time": "2023-03-11T16:19:09.010Z"
   },
   {
    "duration": 255,
    "start_time": "2023-03-11T16:19:09.064Z"
   },
   {
    "duration": 4,
    "start_time": "2023-03-11T16:19:09.321Z"
   },
   {
    "duration": 175,
    "start_time": "2023-03-11T16:19:09.327Z"
   },
   {
    "duration": 0,
    "start_time": "2023-03-11T16:19:09.504Z"
   },
   {
    "duration": 0,
    "start_time": "2023-03-11T16:19:09.505Z"
   },
   {
    "duration": 0,
    "start_time": "2023-03-11T16:19:09.507Z"
   },
   {
    "duration": 0,
    "start_time": "2023-03-11T16:19:09.508Z"
   },
   {
    "duration": 0,
    "start_time": "2023-03-11T16:19:09.510Z"
   },
   {
    "duration": 0,
    "start_time": "2023-03-11T16:19:09.511Z"
   },
   {
    "duration": 0,
    "start_time": "2023-03-11T16:19:09.513Z"
   },
   {
    "duration": 0,
    "start_time": "2023-03-11T16:19:09.514Z"
   },
   {
    "duration": 0,
    "start_time": "2023-03-11T16:19:09.516Z"
   },
   {
    "duration": 0,
    "start_time": "2023-03-11T16:19:09.517Z"
   },
   {
    "duration": 0,
    "start_time": "2023-03-11T16:19:09.519Z"
   },
   {
    "duration": 0,
    "start_time": "2023-03-11T16:19:09.520Z"
   },
   {
    "duration": 0,
    "start_time": "2023-03-11T16:19:09.521Z"
   },
   {
    "duration": 52,
    "start_time": "2023-03-11T16:21:09.843Z"
   },
   {
    "duration": 30,
    "start_time": "2023-03-11T16:22:29.449Z"
   },
   {
    "duration": 61,
    "start_time": "2023-03-11T16:22:55.669Z"
   },
   {
    "duration": 1130,
    "start_time": "2023-03-11T16:29:20.128Z"
   },
   {
    "duration": 410,
    "start_time": "2023-03-11T16:29:21.260Z"
   },
   {
    "duration": 131,
    "start_time": "2023-03-11T16:29:21.672Z"
   },
   {
    "duration": 37,
    "start_time": "2023-03-11T16:29:21.806Z"
   },
   {
    "duration": 86,
    "start_time": "2023-03-11T16:29:21.855Z"
   },
   {
    "duration": 43,
    "start_time": "2023-03-11T16:29:21.942Z"
   },
   {
    "duration": 7,
    "start_time": "2023-03-11T16:29:21.986Z"
   },
   {
    "duration": 78,
    "start_time": "2023-03-11T16:29:21.994Z"
   },
   {
    "duration": 20,
    "start_time": "2023-03-11T16:29:22.073Z"
   },
   {
    "duration": 12,
    "start_time": "2023-03-11T16:29:22.095Z"
   },
   {
    "duration": 13,
    "start_time": "2023-03-11T16:29:22.109Z"
   },
   {
    "duration": 6,
    "start_time": "2023-03-11T16:29:22.123Z"
   },
   {
    "duration": 6,
    "start_time": "2023-03-11T16:29:22.154Z"
   },
   {
    "duration": 143,
    "start_time": "2023-03-11T16:29:22.162Z"
   },
   {
    "duration": 38,
    "start_time": "2023-03-11T16:29:22.307Z"
   },
   {
    "duration": 46,
    "start_time": "2023-03-11T16:29:22.355Z"
   },
   {
    "duration": 25,
    "start_time": "2023-03-11T16:29:22.403Z"
   },
   {
    "duration": 767,
    "start_time": "2023-03-11T16:29:22.430Z"
   },
   {
    "duration": 0,
    "start_time": "2023-03-11T16:29:23.199Z"
   },
   {
    "duration": 0,
    "start_time": "2023-03-11T16:29:23.200Z"
   },
   {
    "duration": 1,
    "start_time": "2023-03-11T16:29:23.200Z"
   },
   {
    "duration": 0,
    "start_time": "2023-03-11T16:29:23.202Z"
   },
   {
    "duration": 0,
    "start_time": "2023-03-11T16:29:23.203Z"
   },
   {
    "duration": 0,
    "start_time": "2023-03-11T16:29:23.204Z"
   },
   {
    "duration": 0,
    "start_time": "2023-03-11T16:29:23.205Z"
   },
   {
    "duration": 0,
    "start_time": "2023-03-11T16:29:23.206Z"
   },
   {
    "duration": 0,
    "start_time": "2023-03-11T16:29:23.207Z"
   },
   {
    "duration": 0,
    "start_time": "2023-03-11T16:29:23.208Z"
   },
   {
    "duration": 0,
    "start_time": "2023-03-11T16:29:23.209Z"
   },
   {
    "duration": 0,
    "start_time": "2023-03-11T16:29:23.210Z"
   },
   {
    "duration": 0,
    "start_time": "2023-03-11T16:29:23.212Z"
   },
   {
    "duration": 0,
    "start_time": "2023-03-11T16:29:23.213Z"
   },
   {
    "duration": 0,
    "start_time": "2023-03-11T16:29:23.214Z"
   },
   {
    "duration": 31,
    "start_time": "2023-03-11T16:30:24.819Z"
   },
   {
    "duration": 128,
    "start_time": "2023-03-11T16:33:19.052Z"
   },
   {
    "duration": 332,
    "start_time": "2023-03-11T16:33:52.473Z"
   },
   {
    "duration": 349,
    "start_time": "2023-03-11T16:34:21.437Z"
   },
   {
    "duration": 1130,
    "start_time": "2023-03-11T16:35:02.223Z"
   },
   {
    "duration": 417,
    "start_time": "2023-03-11T16:35:03.355Z"
   },
   {
    "duration": 134,
    "start_time": "2023-03-11T16:35:03.774Z"
   },
   {
    "duration": 34,
    "start_time": "2023-03-11T16:35:03.910Z"
   },
   {
    "duration": 103,
    "start_time": "2023-03-11T16:35:03.954Z"
   },
   {
    "duration": 33,
    "start_time": "2023-03-11T16:35:04.059Z"
   },
   {
    "duration": 8,
    "start_time": "2023-03-11T16:35:04.094Z"
   },
   {
    "duration": 84,
    "start_time": "2023-03-11T16:35:04.104Z"
   },
   {
    "duration": 20,
    "start_time": "2023-03-11T16:35:04.190Z"
   },
   {
    "duration": 13,
    "start_time": "2023-03-11T16:35:04.212Z"
   },
   {
    "duration": 35,
    "start_time": "2023-03-11T16:35:04.226Z"
   },
   {
    "duration": 6,
    "start_time": "2023-03-11T16:35:04.263Z"
   },
   {
    "duration": 8,
    "start_time": "2023-03-11T16:35:04.270Z"
   },
   {
    "duration": 4892,
    "start_time": "2023-03-11T16:35:04.280Z"
   },
   {
    "duration": 112,
    "start_time": "2023-03-11T16:35:09.173Z"
   },
   {
    "duration": 32,
    "start_time": "2023-03-11T16:35:09.286Z"
   },
   {
    "duration": 124,
    "start_time": "2023-03-11T16:35:09.319Z"
   },
   {
    "duration": 0,
    "start_time": "2023-03-11T16:35:09.445Z"
   },
   {
    "duration": 0,
    "start_time": "2023-03-11T16:35:09.446Z"
   },
   {
    "duration": 0,
    "start_time": "2023-03-11T16:35:09.448Z"
   },
   {
    "duration": 0,
    "start_time": "2023-03-11T16:35:09.455Z"
   },
   {
    "duration": 0,
    "start_time": "2023-03-11T16:35:09.456Z"
   },
   {
    "duration": 0,
    "start_time": "2023-03-11T16:35:09.458Z"
   },
   {
    "duration": 0,
    "start_time": "2023-03-11T16:35:09.459Z"
   },
   {
    "duration": 0,
    "start_time": "2023-03-11T16:35:09.460Z"
   },
   {
    "duration": 0,
    "start_time": "2023-03-11T16:35:09.461Z"
   },
   {
    "duration": 0,
    "start_time": "2023-03-11T16:35:09.463Z"
   },
   {
    "duration": 0,
    "start_time": "2023-03-11T16:35:09.464Z"
   },
   {
    "duration": 0,
    "start_time": "2023-03-11T16:35:09.465Z"
   },
   {
    "duration": 0,
    "start_time": "2023-03-11T16:35:09.466Z"
   },
   {
    "duration": 0,
    "start_time": "2023-03-11T16:35:09.467Z"
   },
   {
    "duration": 0,
    "start_time": "2023-03-11T16:35:09.468Z"
   },
   {
    "duration": 0,
    "start_time": "2023-03-11T16:35:09.469Z"
   },
   {
    "duration": 47,
    "start_time": "2023-03-11T16:35:58.618Z"
   },
   {
    "duration": 1042,
    "start_time": "2023-03-11T16:36:32.793Z"
   },
   {
    "duration": 414,
    "start_time": "2023-03-11T16:36:33.837Z"
   },
   {
    "duration": 145,
    "start_time": "2023-03-11T16:36:34.253Z"
   },
   {
    "duration": 35,
    "start_time": "2023-03-11T16:36:34.400Z"
   },
   {
    "duration": 100,
    "start_time": "2023-03-11T16:36:34.437Z"
   },
   {
    "duration": 41,
    "start_time": "2023-03-11T16:36:34.538Z"
   },
   {
    "duration": 7,
    "start_time": "2023-03-11T16:36:34.580Z"
   },
   {
    "duration": 78,
    "start_time": "2023-03-11T16:36:34.589Z"
   },
   {
    "duration": 20,
    "start_time": "2023-03-11T16:36:34.669Z"
   },
   {
    "duration": 13,
    "start_time": "2023-03-11T16:36:34.691Z"
   },
   {
    "duration": 13,
    "start_time": "2023-03-11T16:36:34.705Z"
   },
   {
    "duration": 5,
    "start_time": "2023-03-11T16:36:34.719Z"
   },
   {
    "duration": 31,
    "start_time": "2023-03-11T16:36:34.725Z"
   },
   {
    "duration": 42,
    "start_time": "2023-03-11T16:36:34.757Z"
   },
   {
    "duration": 0,
    "start_time": "2023-03-11T16:36:34.801Z"
   },
   {
    "duration": 0,
    "start_time": "2023-03-11T16:36:34.802Z"
   },
   {
    "duration": 0,
    "start_time": "2023-03-11T16:36:34.803Z"
   },
   {
    "duration": 0,
    "start_time": "2023-03-11T16:36:34.804Z"
   },
   {
    "duration": 0,
    "start_time": "2023-03-11T16:36:34.805Z"
   },
   {
    "duration": 0,
    "start_time": "2023-03-11T16:36:34.806Z"
   },
   {
    "duration": 0,
    "start_time": "2023-03-11T16:36:34.807Z"
   },
   {
    "duration": 0,
    "start_time": "2023-03-11T16:36:34.808Z"
   },
   {
    "duration": 0,
    "start_time": "2023-03-11T16:36:34.809Z"
   },
   {
    "duration": 0,
    "start_time": "2023-03-11T16:36:34.810Z"
   },
   {
    "duration": 0,
    "start_time": "2023-03-11T16:36:34.811Z"
   },
   {
    "duration": 0,
    "start_time": "2023-03-11T16:36:34.812Z"
   },
   {
    "duration": 0,
    "start_time": "2023-03-11T16:36:34.812Z"
   },
   {
    "duration": 0,
    "start_time": "2023-03-11T16:36:34.813Z"
   },
   {
    "duration": 0,
    "start_time": "2023-03-11T16:36:34.814Z"
   },
   {
    "duration": 0,
    "start_time": "2023-03-11T16:36:34.815Z"
   },
   {
    "duration": 0,
    "start_time": "2023-03-11T16:36:34.816Z"
   },
   {
    "duration": 0,
    "start_time": "2023-03-11T16:36:34.816Z"
   },
   {
    "duration": 0,
    "start_time": "2023-03-11T16:36:34.817Z"
   },
   {
    "duration": 42,
    "start_time": "2023-03-11T16:36:57.718Z"
   },
   {
    "duration": 5063,
    "start_time": "2023-03-11T16:37:05.655Z"
   },
   {
    "duration": 5357,
    "start_time": "2023-03-11T16:43:08.425Z"
   },
   {
    "duration": 5552,
    "start_time": "2023-03-11T16:43:41.375Z"
   },
   {
    "duration": 1077,
    "start_time": "2023-03-11T16:45:07.581Z"
   },
   {
    "duration": 402,
    "start_time": "2023-03-11T16:45:08.661Z"
   },
   {
    "duration": 140,
    "start_time": "2023-03-11T16:45:09.064Z"
   },
   {
    "duration": 37,
    "start_time": "2023-03-11T16:45:09.206Z"
   },
   {
    "duration": 85,
    "start_time": "2023-03-11T16:45:09.256Z"
   },
   {
    "duration": 43,
    "start_time": "2023-03-11T16:45:09.342Z"
   },
   {
    "duration": 7,
    "start_time": "2023-03-11T16:45:09.387Z"
   },
   {
    "duration": 85,
    "start_time": "2023-03-11T16:45:09.396Z"
   },
   {
    "duration": 18,
    "start_time": "2023-03-11T16:45:09.483Z"
   },
   {
    "duration": 13,
    "start_time": "2023-03-11T16:45:09.502Z"
   },
   {
    "duration": 12,
    "start_time": "2023-03-11T16:45:09.516Z"
   },
   {
    "duration": 28,
    "start_time": "2023-03-11T16:45:09.530Z"
   },
   {
    "duration": 6,
    "start_time": "2023-03-11T16:45:09.559Z"
   },
   {
    "duration": 5542,
    "start_time": "2023-03-11T16:45:09.567Z"
   },
   {
    "duration": 33,
    "start_time": "2023-03-11T16:45:15.111Z"
   },
   {
    "duration": 34,
    "start_time": "2023-03-11T16:45:15.155Z"
   },
   {
    "duration": 139,
    "start_time": "2023-03-11T16:45:15.191Z"
   },
   {
    "duration": 0,
    "start_time": "2023-03-11T16:45:15.332Z"
   },
   {
    "duration": 0,
    "start_time": "2023-03-11T16:45:15.333Z"
   },
   {
    "duration": 0,
    "start_time": "2023-03-11T16:45:15.334Z"
   },
   {
    "duration": 0,
    "start_time": "2023-03-11T16:45:15.335Z"
   },
   {
    "duration": 0,
    "start_time": "2023-03-11T16:45:15.336Z"
   },
   {
    "duration": 0,
    "start_time": "2023-03-11T16:45:15.337Z"
   },
   {
    "duration": 0,
    "start_time": "2023-03-11T16:45:15.338Z"
   },
   {
    "duration": 0,
    "start_time": "2023-03-11T16:45:15.356Z"
   },
   {
    "duration": 0,
    "start_time": "2023-03-11T16:45:15.358Z"
   },
   {
    "duration": 0,
    "start_time": "2023-03-11T16:45:15.360Z"
   },
   {
    "duration": 0,
    "start_time": "2023-03-11T16:45:15.361Z"
   },
   {
    "duration": 0,
    "start_time": "2023-03-11T16:45:15.363Z"
   },
   {
    "duration": 0,
    "start_time": "2023-03-11T16:45:15.364Z"
   },
   {
    "duration": 0,
    "start_time": "2023-03-11T16:45:15.366Z"
   },
   {
    "duration": 0,
    "start_time": "2023-03-11T16:45:15.367Z"
   },
   {
    "duration": 0,
    "start_time": "2023-03-11T16:45:15.369Z"
   },
   {
    "duration": 1083,
    "start_time": "2023-03-11T16:47:53.694Z"
   },
   {
    "duration": 413,
    "start_time": "2023-03-11T16:47:54.779Z"
   },
   {
    "duration": 129,
    "start_time": "2023-03-11T16:47:55.193Z"
   },
   {
    "duration": 55,
    "start_time": "2023-03-11T16:47:55.325Z"
   },
   {
    "duration": 109,
    "start_time": "2023-03-11T16:47:55.382Z"
   },
   {
    "duration": 31,
    "start_time": "2023-03-11T16:47:55.492Z"
   },
   {
    "duration": 8,
    "start_time": "2023-03-11T16:47:55.524Z"
   },
   {
    "duration": 88,
    "start_time": "2023-03-11T16:47:55.534Z"
   },
   {
    "duration": 32,
    "start_time": "2023-03-11T16:47:55.623Z"
   },
   {
    "duration": 15,
    "start_time": "2023-03-11T16:47:55.658Z"
   },
   {
    "duration": 13,
    "start_time": "2023-03-11T16:47:55.675Z"
   },
   {
    "duration": 5,
    "start_time": "2023-03-11T16:47:55.690Z"
   },
   {
    "duration": 6,
    "start_time": "2023-03-11T16:47:55.697Z"
   },
   {
    "duration": 83,
    "start_time": "2023-03-11T16:47:55.704Z"
   },
   {
    "duration": 37,
    "start_time": "2023-03-11T16:47:55.788Z"
   },
   {
    "duration": 53,
    "start_time": "2023-03-11T16:47:55.827Z"
   },
   {
    "duration": 31,
    "start_time": "2023-03-11T16:47:55.882Z"
   },
   {
    "duration": 820,
    "start_time": "2023-03-11T16:47:55.915Z"
   },
   {
    "duration": 0,
    "start_time": "2023-03-11T16:47:56.737Z"
   },
   {
    "duration": 0,
    "start_time": "2023-03-11T16:47:56.738Z"
   },
   {
    "duration": 0,
    "start_time": "2023-03-11T16:47:56.739Z"
   },
   {
    "duration": 0,
    "start_time": "2023-03-11T16:47:56.741Z"
   },
   {
    "duration": 0,
    "start_time": "2023-03-11T16:47:56.743Z"
   },
   {
    "duration": 0,
    "start_time": "2023-03-11T16:47:56.745Z"
   },
   {
    "duration": 0,
    "start_time": "2023-03-11T16:47:56.746Z"
   },
   {
    "duration": 0,
    "start_time": "2023-03-11T16:47:56.748Z"
   },
   {
    "duration": 0,
    "start_time": "2023-03-11T16:47:56.749Z"
   },
   {
    "duration": 0,
    "start_time": "2023-03-11T16:47:56.750Z"
   },
   {
    "duration": 0,
    "start_time": "2023-03-11T16:47:56.751Z"
   },
   {
    "duration": 0,
    "start_time": "2023-03-11T16:47:56.753Z"
   },
   {
    "duration": 0,
    "start_time": "2023-03-11T16:47:56.754Z"
   },
   {
    "duration": 0,
    "start_time": "2023-03-11T16:47:56.755Z"
   },
   {
    "duration": 0,
    "start_time": "2023-03-11T16:47:56.757Z"
   },
   {
    "duration": 32,
    "start_time": "2023-03-11T16:48:45.757Z"
   },
   {
    "duration": 1086,
    "start_time": "2023-03-11T16:49:16.482Z"
   },
   {
    "duration": 406,
    "start_time": "2023-03-11T16:49:17.570Z"
   },
   {
    "duration": 133,
    "start_time": "2023-03-11T16:49:17.977Z"
   },
   {
    "duration": 43,
    "start_time": "2023-03-11T16:49:18.112Z"
   },
   {
    "duration": 80,
    "start_time": "2023-03-11T16:49:18.157Z"
   },
   {
    "duration": 45,
    "start_time": "2023-03-11T16:49:18.239Z"
   },
   {
    "duration": 7,
    "start_time": "2023-03-11T16:49:18.285Z"
   },
   {
    "duration": 75,
    "start_time": "2023-03-11T16:49:18.293Z"
   },
   {
    "duration": 18,
    "start_time": "2023-03-11T16:49:18.370Z"
   },
   {
    "duration": 12,
    "start_time": "2023-03-11T16:49:18.390Z"
   },
   {
    "duration": 12,
    "start_time": "2023-03-11T16:49:18.404Z"
   },
   {
    "duration": 5,
    "start_time": "2023-03-11T16:49:18.417Z"
   },
   {
    "duration": 32,
    "start_time": "2023-03-11T16:49:18.424Z"
   },
   {
    "duration": 49,
    "start_time": "2023-03-11T16:49:18.458Z"
   },
   {
    "duration": 47,
    "start_time": "2023-03-11T16:49:18.509Z"
   },
   {
    "duration": 34,
    "start_time": "2023-03-11T16:49:18.557Z"
   },
   {
    "duration": 130,
    "start_time": "2023-03-11T16:49:18.593Z"
   },
   {
    "duration": 0,
    "start_time": "2023-03-11T16:49:18.725Z"
   },
   {
    "duration": 0,
    "start_time": "2023-03-11T16:49:18.726Z"
   },
   {
    "duration": 0,
    "start_time": "2023-03-11T16:49:18.726Z"
   },
   {
    "duration": 0,
    "start_time": "2023-03-11T16:49:18.727Z"
   },
   {
    "duration": 0,
    "start_time": "2023-03-11T16:49:18.728Z"
   },
   {
    "duration": 0,
    "start_time": "2023-03-11T16:49:18.729Z"
   },
   {
    "duration": 0,
    "start_time": "2023-03-11T16:49:18.730Z"
   },
   {
    "duration": 0,
    "start_time": "2023-03-11T16:49:18.730Z"
   },
   {
    "duration": 0,
    "start_time": "2023-03-11T16:49:18.731Z"
   },
   {
    "duration": 0,
    "start_time": "2023-03-11T16:49:18.732Z"
   },
   {
    "duration": 0,
    "start_time": "2023-03-11T16:49:18.733Z"
   },
   {
    "duration": 0,
    "start_time": "2023-03-11T16:49:18.734Z"
   },
   {
    "duration": 0,
    "start_time": "2023-03-11T16:49:18.735Z"
   },
   {
    "duration": 0,
    "start_time": "2023-03-11T16:49:18.736Z"
   },
   {
    "duration": 0,
    "start_time": "2023-03-11T16:49:18.755Z"
   },
   {
    "duration": 0,
    "start_time": "2023-03-11T16:49:18.756Z"
   },
   {
    "duration": 44,
    "start_time": "2023-03-11T16:50:10.514Z"
   },
   {
    "duration": 1109,
    "start_time": "2023-03-11T16:50:30.255Z"
   },
   {
    "duration": 424,
    "start_time": "2023-03-11T16:50:31.365Z"
   },
   {
    "duration": 130,
    "start_time": "2023-03-11T16:50:31.791Z"
   },
   {
    "duration": 46,
    "start_time": "2023-03-11T16:50:31.923Z"
   },
   {
    "duration": 90,
    "start_time": "2023-03-11T16:50:31.971Z"
   },
   {
    "duration": 31,
    "start_time": "2023-03-11T16:50:32.063Z"
   },
   {
    "duration": 9,
    "start_time": "2023-03-11T16:50:32.096Z"
   },
   {
    "duration": 90,
    "start_time": "2023-03-11T16:50:32.106Z"
   },
   {
    "duration": 19,
    "start_time": "2023-03-11T16:50:32.198Z"
   },
   {
    "duration": 13,
    "start_time": "2023-03-11T16:50:32.221Z"
   },
   {
    "duration": 26,
    "start_time": "2023-03-11T16:50:32.235Z"
   },
   {
    "duration": 5,
    "start_time": "2023-03-11T16:50:32.263Z"
   },
   {
    "duration": 9,
    "start_time": "2023-03-11T16:50:32.270Z"
   },
   {
    "duration": 50,
    "start_time": "2023-03-11T16:50:32.280Z"
   },
   {
    "duration": 35,
    "start_time": "2023-03-11T16:50:32.354Z"
   },
   {
    "duration": 35,
    "start_time": "2023-03-11T16:50:32.391Z"
   },
   {
    "duration": 40,
    "start_time": "2023-03-11T16:50:32.427Z"
   },
   {
    "duration": 0,
    "start_time": "2023-03-11T16:50:32.469Z"
   },
   {
    "duration": 0,
    "start_time": "2023-03-11T16:50:32.470Z"
   },
   {
    "duration": 0,
    "start_time": "2023-03-11T16:50:32.471Z"
   },
   {
    "duration": 0,
    "start_time": "2023-03-11T16:50:32.472Z"
   },
   {
    "duration": 0,
    "start_time": "2023-03-11T16:50:32.473Z"
   },
   {
    "duration": 0,
    "start_time": "2023-03-11T16:50:32.475Z"
   },
   {
    "duration": 0,
    "start_time": "2023-03-11T16:50:32.476Z"
   },
   {
    "duration": 0,
    "start_time": "2023-03-11T16:50:32.477Z"
   },
   {
    "duration": 0,
    "start_time": "2023-03-11T16:50:32.478Z"
   },
   {
    "duration": 0,
    "start_time": "2023-03-11T16:50:32.480Z"
   },
   {
    "duration": 0,
    "start_time": "2023-03-11T16:50:32.481Z"
   },
   {
    "duration": 0,
    "start_time": "2023-03-11T16:50:32.483Z"
   },
   {
    "duration": 0,
    "start_time": "2023-03-11T16:50:32.484Z"
   },
   {
    "duration": 0,
    "start_time": "2023-03-11T16:50:32.486Z"
   },
   {
    "duration": 0,
    "start_time": "2023-03-11T16:50:32.487Z"
   },
   {
    "duration": 0,
    "start_time": "2023-03-11T16:50:32.488Z"
   },
   {
    "duration": 49,
    "start_time": "2023-03-11T16:51:08.074Z"
   },
   {
    "duration": 1124,
    "start_time": "2023-03-11T16:53:33.560Z"
   },
   {
    "duration": 418,
    "start_time": "2023-03-11T16:53:34.686Z"
   },
   {
    "duration": 134,
    "start_time": "2023-03-11T16:53:35.105Z"
   },
   {
    "duration": 39,
    "start_time": "2023-03-11T16:53:35.241Z"
   },
   {
    "duration": 122,
    "start_time": "2023-03-11T16:53:35.281Z"
   },
   {
    "duration": 37,
    "start_time": "2023-03-11T16:53:35.405Z"
   },
   {
    "duration": 14,
    "start_time": "2023-03-11T16:53:35.444Z"
   },
   {
    "duration": 94,
    "start_time": "2023-03-11T16:53:35.459Z"
   },
   {
    "duration": 19,
    "start_time": "2023-03-11T16:53:35.555Z"
   },
   {
    "duration": 13,
    "start_time": "2023-03-11T16:53:35.576Z"
   },
   {
    "duration": 22,
    "start_time": "2023-03-11T16:53:35.590Z"
   },
   {
    "duration": 18,
    "start_time": "2023-03-11T16:53:35.614Z"
   },
   {
    "duration": 21,
    "start_time": "2023-03-11T16:53:35.634Z"
   },
   {
    "duration": 60,
    "start_time": "2023-03-11T16:53:35.657Z"
   },
   {
    "duration": 40,
    "start_time": "2023-03-11T16:53:35.719Z"
   },
   {
    "duration": 37,
    "start_time": "2023-03-11T16:53:35.760Z"
   },
   {
    "duration": 60,
    "start_time": "2023-03-11T16:53:35.799Z"
   },
   {
    "duration": 278,
    "start_time": "2023-03-11T16:53:35.861Z"
   },
   {
    "duration": 3,
    "start_time": "2023-03-11T16:53:36.141Z"
   },
   {
    "duration": 12,
    "start_time": "2023-03-11T16:53:36.155Z"
   },
   {
    "duration": 23,
    "start_time": "2023-03-11T16:53:36.168Z"
   },
   {
    "duration": 28,
    "start_time": "2023-03-11T16:53:36.192Z"
   },
   {
    "duration": 851,
    "start_time": "2023-03-11T16:53:36.222Z"
   },
   {
    "duration": 159,
    "start_time": "2023-03-11T16:53:37.075Z"
   },
   {
    "duration": 228,
    "start_time": "2023-03-11T16:53:37.236Z"
   },
   {
    "duration": 170,
    "start_time": "2023-03-11T16:53:37.465Z"
   },
   {
    "duration": 12,
    "start_time": "2023-03-11T16:53:37.637Z"
   },
   {
    "duration": 11,
    "start_time": "2023-03-11T16:53:37.657Z"
   },
   {
    "duration": 416,
    "start_time": "2023-03-11T16:53:37.669Z"
   },
   {
    "duration": 11,
    "start_time": "2023-03-11T16:53:38.087Z"
   },
   {
    "duration": 14,
    "start_time": "2023-03-11T16:53:38.099Z"
   },
   {
    "duration": 297,
    "start_time": "2023-03-11T16:53:38.114Z"
   },
   {
    "duration": 6,
    "start_time": "2023-03-11T16:53:38.412Z"
   },
   {
    "duration": 124,
    "start_time": "2023-03-11T16:54:58.000Z"
   },
   {
    "duration": 1085,
    "start_time": "2023-03-11T16:55:11.274Z"
   },
   {
    "duration": 396,
    "start_time": "2023-03-11T16:55:12.361Z"
   },
   {
    "duration": 124,
    "start_time": "2023-03-11T16:55:12.759Z"
   },
   {
    "duration": 35,
    "start_time": "2023-03-11T16:55:12.885Z"
   },
   {
    "duration": 91,
    "start_time": "2023-03-11T16:55:12.922Z"
   },
   {
    "duration": 41,
    "start_time": "2023-03-11T16:55:13.014Z"
   },
   {
    "duration": 8,
    "start_time": "2023-03-11T16:55:13.056Z"
   },
   {
    "duration": 67,
    "start_time": "2023-03-11T16:55:13.065Z"
   },
   {
    "duration": 30,
    "start_time": "2023-03-11T16:55:13.133Z"
   },
   {
    "duration": 12,
    "start_time": "2023-03-11T16:55:13.165Z"
   },
   {
    "duration": 12,
    "start_time": "2023-03-11T16:55:13.179Z"
   },
   {
    "duration": 5,
    "start_time": "2023-03-11T16:55:13.193Z"
   },
   {
    "duration": 5,
    "start_time": "2023-03-11T16:55:13.199Z"
   },
   {
    "duration": 75,
    "start_time": "2023-03-11T16:55:13.206Z"
   },
   {
    "duration": 33,
    "start_time": "2023-03-11T16:55:13.282Z"
   },
   {
    "duration": 49,
    "start_time": "2023-03-11T16:55:13.317Z"
   },
   {
    "duration": 46,
    "start_time": "2023-03-11T16:55:13.368Z"
   },
   {
    "duration": 265,
    "start_time": "2023-03-11T16:55:13.415Z"
   },
   {
    "duration": 4,
    "start_time": "2023-03-11T16:55:13.681Z"
   },
   {
    "duration": 15,
    "start_time": "2023-03-11T16:55:13.686Z"
   },
   {
    "duration": 21,
    "start_time": "2023-03-11T16:55:13.702Z"
   },
   {
    "duration": 47,
    "start_time": "2023-03-11T16:55:13.724Z"
   },
   {
    "duration": 795,
    "start_time": "2023-03-11T16:55:13.773Z"
   },
   {
    "duration": 151,
    "start_time": "2023-03-11T16:55:14.570Z"
   },
   {
    "duration": 171,
    "start_time": "2023-03-11T16:55:14.722Z"
   },
   {
    "duration": 168,
    "start_time": "2023-03-11T16:55:14.895Z"
   },
   {
    "duration": 11,
    "start_time": "2023-03-11T16:55:15.064Z"
   },
   {
    "duration": 12,
    "start_time": "2023-03-11T16:55:15.078Z"
   },
   {
    "duration": 267,
    "start_time": "2023-03-11T16:55:15.091Z"
   },
   {
    "duration": 14,
    "start_time": "2023-03-11T16:55:15.360Z"
   },
   {
    "duration": 16,
    "start_time": "2023-03-11T16:55:15.376Z"
   },
   {
    "duration": 320,
    "start_time": "2023-03-11T16:55:15.394Z"
   },
   {
    "duration": 5,
    "start_time": "2023-03-11T16:55:15.716Z"
   },
   {
    "duration": 1142,
    "start_time": "2023-03-11T17:15:34.661Z"
   },
   {
    "duration": 406,
    "start_time": "2023-03-11T17:15:35.804Z"
   },
   {
    "duration": 129,
    "start_time": "2023-03-11T17:15:36.212Z"
   },
   {
    "duration": 37,
    "start_time": "2023-03-11T17:15:36.343Z"
   },
   {
    "duration": 93,
    "start_time": "2023-03-11T17:15:36.382Z"
   },
   {
    "duration": 31,
    "start_time": "2023-03-11T17:15:36.476Z"
   },
   {
    "duration": 7,
    "start_time": "2023-03-11T17:15:36.509Z"
   },
   {
    "duration": 81,
    "start_time": "2023-03-11T17:15:36.518Z"
   },
   {
    "duration": 20,
    "start_time": "2023-03-11T17:15:36.600Z"
   },
   {
    "duration": 35,
    "start_time": "2023-03-11T17:15:36.624Z"
   },
   {
    "duration": 17,
    "start_time": "2023-03-11T17:15:36.662Z"
   },
   {
    "duration": 15,
    "start_time": "2023-03-11T17:15:36.681Z"
   },
   {
    "duration": 18,
    "start_time": "2023-03-11T17:15:36.698Z"
   },
   {
    "duration": 87,
    "start_time": "2023-03-11T17:15:36.718Z"
   },
   {
    "duration": 50,
    "start_time": "2023-03-11T17:15:36.807Z"
   },
   {
    "duration": 36,
    "start_time": "2023-03-11T17:15:36.859Z"
   },
   {
    "duration": 60,
    "start_time": "2023-03-11T17:15:36.896Z"
   },
   {
    "duration": 140,
    "start_time": "2023-03-11T17:15:36.957Z"
   },
   {
    "duration": 0,
    "start_time": "2023-03-11T17:15:37.099Z"
   },
   {
    "duration": 0,
    "start_time": "2023-03-11T17:15:37.100Z"
   },
   {
    "duration": 0,
    "start_time": "2023-03-11T17:15:37.101Z"
   },
   {
    "duration": 0,
    "start_time": "2023-03-11T17:15:37.102Z"
   },
   {
    "duration": 0,
    "start_time": "2023-03-11T17:15:37.102Z"
   },
   {
    "duration": 0,
    "start_time": "2023-03-11T17:15:37.103Z"
   },
   {
    "duration": 0,
    "start_time": "2023-03-11T17:15:37.104Z"
   },
   {
    "duration": 0,
    "start_time": "2023-03-11T17:15:37.105Z"
   },
   {
    "duration": 0,
    "start_time": "2023-03-11T17:15:37.106Z"
   },
   {
    "duration": 0,
    "start_time": "2023-03-11T17:15:37.107Z"
   },
   {
    "duration": 0,
    "start_time": "2023-03-11T17:15:37.107Z"
   },
   {
    "duration": 0,
    "start_time": "2023-03-11T17:15:37.108Z"
   },
   {
    "duration": 0,
    "start_time": "2023-03-11T17:15:37.109Z"
   },
   {
    "duration": 0,
    "start_time": "2023-03-11T17:15:37.110Z"
   },
   {
    "duration": 0,
    "start_time": "2023-03-11T17:15:37.110Z"
   },
   {
    "duration": 1074,
    "start_time": "2023-03-11T17:16:31.682Z"
   },
   {
    "duration": 398,
    "start_time": "2023-03-11T17:16:32.758Z"
   },
   {
    "duration": 123,
    "start_time": "2023-03-11T17:16:33.158Z"
   },
   {
    "duration": 34,
    "start_time": "2023-03-11T17:16:33.283Z"
   },
   {
    "duration": 94,
    "start_time": "2023-03-11T17:16:33.318Z"
   },
   {
    "duration": 47,
    "start_time": "2023-03-11T17:16:33.414Z"
   },
   {
    "duration": 8,
    "start_time": "2023-03-11T17:16:33.462Z"
   },
   {
    "duration": 67,
    "start_time": "2023-03-11T17:16:33.471Z"
   },
   {
    "duration": 29,
    "start_time": "2023-03-11T17:16:33.539Z"
   },
   {
    "duration": 12,
    "start_time": "2023-03-11T17:16:33.570Z"
   },
   {
    "duration": 13,
    "start_time": "2023-03-11T17:16:33.583Z"
   },
   {
    "duration": 7,
    "start_time": "2023-03-11T17:16:33.598Z"
   },
   {
    "duration": 5,
    "start_time": "2023-03-11T17:16:33.606Z"
   },
   {
    "duration": 78,
    "start_time": "2023-03-11T17:16:33.612Z"
   },
   {
    "duration": 34,
    "start_time": "2023-03-11T17:16:33.692Z"
   },
   {
    "duration": 45,
    "start_time": "2023-03-11T17:16:33.728Z"
   },
   {
    "duration": 45,
    "start_time": "2023-03-11T17:16:33.775Z"
   },
   {
    "duration": 271,
    "start_time": "2023-03-11T17:16:33.821Z"
   },
   {
    "duration": 4,
    "start_time": "2023-03-11T17:16:34.093Z"
   },
   {
    "duration": 16,
    "start_time": "2023-03-11T17:16:34.098Z"
   },
   {
    "duration": 27,
    "start_time": "2023-03-11T17:16:34.115Z"
   },
   {
    "duration": 38,
    "start_time": "2023-03-11T17:16:34.143Z"
   },
   {
    "duration": 816,
    "start_time": "2023-03-11T17:16:34.182Z"
   },
   {
    "duration": 159,
    "start_time": "2023-03-11T17:16:34.999Z"
   },
   {
    "duration": 179,
    "start_time": "2023-03-11T17:16:35.160Z"
   },
   {
    "duration": 189,
    "start_time": "2023-03-11T17:16:35.341Z"
   },
   {
    "duration": 23,
    "start_time": "2023-03-11T17:16:35.532Z"
   },
   {
    "duration": 15,
    "start_time": "2023-03-11T17:16:35.558Z"
   },
   {
    "duration": 294,
    "start_time": "2023-03-11T17:16:35.574Z"
   },
   {
    "duration": 10,
    "start_time": "2023-03-11T17:16:35.869Z"
   },
   {
    "duration": 29,
    "start_time": "2023-03-11T17:16:35.880Z"
   },
   {
    "duration": 290,
    "start_time": "2023-03-11T17:16:35.911Z"
   },
   {
    "duration": 6,
    "start_time": "2023-03-11T17:16:36.203Z"
   },
   {
    "duration": 1087,
    "start_time": "2023-03-11T17:27:00.891Z"
   },
   {
    "duration": 416,
    "start_time": "2023-03-11T17:27:01.980Z"
   },
   {
    "duration": 120,
    "start_time": "2023-03-11T17:27:02.397Z"
   },
   {
    "duration": 36,
    "start_time": "2023-03-11T17:27:02.519Z"
   },
   {
    "duration": 81,
    "start_time": "2023-03-11T17:27:02.557Z"
   },
   {
    "duration": 33,
    "start_time": "2023-03-11T17:27:02.654Z"
   },
   {
    "duration": 8,
    "start_time": "2023-03-11T17:27:02.688Z"
   },
   {
    "duration": 78,
    "start_time": "2023-03-11T17:27:02.697Z"
   },
   {
    "duration": 20,
    "start_time": "2023-03-11T17:27:02.776Z"
   },
   {
    "duration": 12,
    "start_time": "2023-03-11T17:27:02.799Z"
   },
   {
    "duration": 13,
    "start_time": "2023-03-11T17:27:02.812Z"
   },
   {
    "duration": 29,
    "start_time": "2023-03-11T17:27:02.826Z"
   },
   {
    "duration": 5,
    "start_time": "2023-03-11T17:27:02.857Z"
   },
   {
    "duration": 51,
    "start_time": "2023-03-11T17:27:02.863Z"
   },
   {
    "duration": 49,
    "start_time": "2023-03-11T17:27:02.916Z"
   },
   {
    "duration": 36,
    "start_time": "2023-03-11T17:27:02.966Z"
   },
   {
    "duration": 62,
    "start_time": "2023-03-11T17:27:03.003Z"
   },
   {
    "duration": 262,
    "start_time": "2023-03-11T17:27:03.067Z"
   },
   {
    "duration": 4,
    "start_time": "2023-03-11T17:27:03.331Z"
   },
   {
    "duration": 25,
    "start_time": "2023-03-11T17:27:03.336Z"
   },
   {
    "duration": 20,
    "start_time": "2023-03-11T17:27:03.363Z"
   },
   {
    "duration": 36,
    "start_time": "2023-03-11T17:27:03.385Z"
   },
   {
    "duration": 851,
    "start_time": "2023-03-11T17:27:03.423Z"
   },
   {
    "duration": 179,
    "start_time": "2023-03-11T17:27:04.276Z"
   },
   {
    "duration": 194,
    "start_time": "2023-03-11T17:27:04.457Z"
   },
   {
    "duration": 162,
    "start_time": "2023-03-11T17:27:04.654Z"
   },
   {
    "duration": 11,
    "start_time": "2023-03-11T17:27:04.817Z"
   },
   {
    "duration": 11,
    "start_time": "2023-03-11T17:27:04.830Z"
   },
   {
    "duration": 273,
    "start_time": "2023-03-11T17:27:04.855Z"
   },
   {
    "duration": 9,
    "start_time": "2023-03-11T17:27:05.130Z"
   },
   {
    "duration": 15,
    "start_time": "2023-03-11T17:27:05.154Z"
   },
   {
    "duration": 276,
    "start_time": "2023-03-11T17:27:05.170Z"
   },
   {
    "duration": 10,
    "start_time": "2023-03-11T17:27:05.448Z"
   },
   {
    "duration": 101,
    "start_time": "2023-03-11T17:41:12.669Z"
   },
   {
    "duration": 49,
    "start_time": "2023-03-11T17:43:36.728Z"
   },
   {
    "duration": 41,
    "start_time": "2023-03-11T17:43:48.029Z"
   },
   {
    "duration": 36,
    "start_time": "2023-03-11T17:43:58.959Z"
   },
   {
    "duration": 40,
    "start_time": "2023-03-11T17:44:06.219Z"
   },
   {
    "duration": 37,
    "start_time": "2023-03-11T17:44:13.427Z"
   },
   {
    "duration": 40,
    "start_time": "2023-03-11T17:44:23.339Z"
   },
   {
    "duration": 40,
    "start_time": "2023-03-11T17:44:41.201Z"
   },
   {
    "duration": 159,
    "start_time": "2023-03-11T17:59:41.813Z"
   },
   {
    "duration": 264,
    "start_time": "2023-03-11T17:59:53.837Z"
   },
   {
    "duration": 161,
    "start_time": "2023-03-11T18:00:00.509Z"
   },
   {
    "duration": 170,
    "start_time": "2023-03-11T18:00:18.870Z"
   },
   {
    "duration": 164,
    "start_time": "2023-03-11T18:00:25.682Z"
   },
   {
    "duration": 158,
    "start_time": "2023-03-11T18:00:41.670Z"
   },
   {
    "duration": 152,
    "start_time": "2023-03-11T18:00:49.995Z"
   },
   {
    "duration": 151,
    "start_time": "2023-03-11T18:00:58.548Z"
   },
   {
    "duration": 161,
    "start_time": "2023-03-11T18:01:02.369Z"
   },
   {
    "duration": 169,
    "start_time": "2023-03-11T18:01:06.767Z"
   },
   {
    "duration": 144,
    "start_time": "2023-03-11T18:01:12.517Z"
   },
   {
    "duration": 204,
    "start_time": "2023-03-11T18:02:23.982Z"
   },
   {
    "duration": 948,
    "start_time": "2023-03-11T18:07:47.574Z"
   },
   {
    "duration": 168,
    "start_time": "2023-03-11T18:08:23.248Z"
   },
   {
    "duration": 162,
    "start_time": "2023-03-11T18:10:15.517Z"
   },
   {
    "duration": 12,
    "start_time": "2023-03-11T18:11:41.012Z"
   },
   {
    "duration": 44,
    "start_time": "2023-03-11T18:11:53.472Z"
   },
   {
    "duration": 14,
    "start_time": "2023-03-11T18:14:44.122Z"
   },
   {
    "duration": 157,
    "start_time": "2023-03-11T18:14:48.419Z"
   },
   {
    "duration": 13,
    "start_time": "2023-03-11T18:16:10.095Z"
   },
   {
    "duration": 154,
    "start_time": "2023-03-11T18:16:15.967Z"
   },
   {
    "duration": 12,
    "start_time": "2023-03-11T18:18:08.782Z"
   },
   {
    "duration": 185,
    "start_time": "2023-03-11T18:18:15.269Z"
   },
   {
    "duration": 136,
    "start_time": "2023-03-11T18:28:36.102Z"
   },
   {
    "duration": 181,
    "start_time": "2023-03-11T18:28:40.674Z"
   },
   {
    "duration": 179,
    "start_time": "2023-03-11T18:28:49.774Z"
   },
   {
    "duration": 289,
    "start_time": "2023-03-11T18:28:56.397Z"
   },
   {
    "duration": 151,
    "start_time": "2023-03-11T18:31:10.325Z"
   },
   {
    "duration": 151,
    "start_time": "2023-03-11T18:31:12.826Z"
   },
   {
    "duration": 146,
    "start_time": "2023-03-11T18:31:15.651Z"
   },
   {
    "duration": 1122,
    "start_time": "2023-03-11T18:36:10.891Z"
   },
   {
    "duration": 402,
    "start_time": "2023-03-11T18:36:12.015Z"
   },
   {
    "duration": 119,
    "start_time": "2023-03-11T18:36:12.419Z"
   },
   {
    "duration": 37,
    "start_time": "2023-03-11T18:36:12.540Z"
   },
   {
    "duration": 97,
    "start_time": "2023-03-11T18:36:12.578Z"
   },
   {
    "duration": 32,
    "start_time": "2023-03-11T18:36:12.676Z"
   },
   {
    "duration": 8,
    "start_time": "2023-03-11T18:36:12.710Z"
   },
   {
    "duration": 80,
    "start_time": "2023-03-11T18:36:12.720Z"
   },
   {
    "duration": 23,
    "start_time": "2023-03-11T18:36:12.802Z"
   },
   {
    "duration": 28,
    "start_time": "2023-03-11T18:36:12.828Z"
   },
   {
    "duration": 23,
    "start_time": "2023-03-11T18:36:12.858Z"
   },
   {
    "duration": 20,
    "start_time": "2023-03-11T18:36:12.883Z"
   },
   {
    "duration": 19,
    "start_time": "2023-03-11T18:36:12.905Z"
   },
   {
    "duration": 63,
    "start_time": "2023-03-11T18:36:12.926Z"
   },
   {
    "duration": 34,
    "start_time": "2023-03-11T18:36:12.991Z"
   },
   {
    "duration": 46,
    "start_time": "2023-03-11T18:36:13.027Z"
   },
   {
    "duration": 46,
    "start_time": "2023-03-11T18:36:13.075Z"
   },
   {
    "duration": 270,
    "start_time": "2023-03-11T18:36:13.122Z"
   },
   {
    "duration": 4,
    "start_time": "2023-03-11T18:36:13.394Z"
   },
   {
    "duration": 25,
    "start_time": "2023-03-11T18:36:13.400Z"
   },
   {
    "duration": 39,
    "start_time": "2023-03-11T18:36:13.427Z"
   },
   {
    "duration": 38,
    "start_time": "2023-03-11T18:36:13.468Z"
   },
   {
    "duration": 849,
    "start_time": "2023-03-11T18:36:13.507Z"
   },
   {
    "duration": 161,
    "start_time": "2023-03-11T18:36:14.357Z"
   },
   {
    "duration": 154,
    "start_time": "2023-03-11T18:36:14.520Z"
   },
   {
    "duration": 154,
    "start_time": "2023-03-11T18:36:14.675Z"
   },
   {
    "duration": 10,
    "start_time": "2023-03-11T18:36:14.831Z"
   },
   {
    "duration": 11,
    "start_time": "2023-03-11T18:36:14.856Z"
   },
   {
    "duration": 256,
    "start_time": "2023-03-11T18:36:14.869Z"
   },
   {
    "duration": 10,
    "start_time": "2023-03-11T18:36:15.127Z"
   },
   {
    "duration": 26,
    "start_time": "2023-03-11T18:36:15.138Z"
   },
   {
    "duration": 290,
    "start_time": "2023-03-11T18:36:15.165Z"
   },
   {
    "duration": 7,
    "start_time": "2023-03-11T18:36:15.456Z"
   },
   {
    "duration": 12,
    "start_time": "2023-03-11T20:29:25.266Z"
   },
   {
    "duration": 1121,
    "start_time": "2023-03-11T20:56:03.746Z"
   },
   {
    "duration": 412,
    "start_time": "2023-03-11T20:56:04.869Z"
   },
   {
    "duration": 159,
    "start_time": "2023-03-11T20:56:05.282Z"
   },
   {
    "duration": 38,
    "start_time": "2023-03-11T20:56:05.443Z"
   },
   {
    "duration": 98,
    "start_time": "2023-03-11T20:56:05.483Z"
   },
   {
    "duration": 32,
    "start_time": "2023-03-11T20:56:05.582Z"
   },
   {
    "duration": 8,
    "start_time": "2023-03-11T20:56:05.615Z"
   },
   {
    "duration": 81,
    "start_time": "2023-03-11T20:56:05.624Z"
   },
   {
    "duration": 19,
    "start_time": "2023-03-11T20:56:05.706Z"
   },
   {
    "duration": 27,
    "start_time": "2023-03-11T20:56:05.728Z"
   },
   {
    "duration": 24,
    "start_time": "2023-03-11T20:56:05.756Z"
   },
   {
    "duration": 5,
    "start_time": "2023-03-11T20:56:05.782Z"
   },
   {
    "duration": 7,
    "start_time": "2023-03-11T20:56:05.789Z"
   },
   {
    "duration": 49,
    "start_time": "2023-03-11T20:56:05.797Z"
   },
   {
    "duration": 39,
    "start_time": "2023-03-11T20:56:05.847Z"
   },
   {
    "duration": 33,
    "start_time": "2023-03-11T20:56:05.887Z"
   },
   {
    "duration": 58,
    "start_time": "2023-03-11T20:56:05.922Z"
   },
   {
    "duration": 251,
    "start_time": "2023-03-11T20:56:05.982Z"
   },
   {
    "duration": 3,
    "start_time": "2023-03-11T20:56:06.235Z"
   },
   {
    "duration": 22,
    "start_time": "2023-03-11T20:56:06.240Z"
   },
   {
    "duration": 22,
    "start_time": "2023-03-11T20:56:06.263Z"
   },
   {
    "duration": 38,
    "start_time": "2023-03-11T20:56:06.286Z"
   },
   {
    "duration": 834,
    "start_time": "2023-03-11T20:56:06.325Z"
   },
   {
    "duration": 159,
    "start_time": "2023-03-11T20:56:07.161Z"
   },
   {
    "duration": 153,
    "start_time": "2023-03-11T20:56:07.322Z"
   },
   {
    "duration": 160,
    "start_time": "2023-03-11T20:56:07.477Z"
   },
   {
    "duration": 22,
    "start_time": "2023-03-11T20:56:07.639Z"
   },
   {
    "duration": 11,
    "start_time": "2023-03-11T20:56:07.664Z"
   },
   {
    "duration": 11,
    "start_time": "2023-03-11T20:56:07.676Z"
   },
   {
    "duration": 244,
    "start_time": "2023-03-11T20:56:07.688Z"
   },
   {
    "duration": 27,
    "start_time": "2023-03-11T20:56:07.934Z"
   },
   {
    "duration": 13,
    "start_time": "2023-03-11T20:56:07.963Z"
   },
   {
    "duration": 249,
    "start_time": "2023-03-11T20:56:07.978Z"
   },
   {
    "duration": 5,
    "start_time": "2023-03-11T20:56:08.229Z"
   },
   {
    "duration": 1090,
    "start_time": "2023-03-11T21:57:52.652Z"
   },
   {
    "duration": 1237,
    "start_time": "2023-03-11T21:57:53.744Z"
   },
   {
    "duration": 138,
    "start_time": "2023-03-11T21:57:54.982Z"
   },
   {
    "duration": 54,
    "start_time": "2023-03-11T21:57:55.121Z"
   },
   {
    "duration": 112,
    "start_time": "2023-03-11T21:57:55.177Z"
   },
   {
    "duration": 32,
    "start_time": "2023-03-11T21:57:55.292Z"
   },
   {
    "duration": 14,
    "start_time": "2023-03-11T21:57:55.326Z"
   },
   {
    "duration": 75,
    "start_time": "2023-03-11T21:57:55.342Z"
   },
   {
    "duration": 52,
    "start_time": "2023-03-11T21:57:55.418Z"
   },
   {
    "duration": 13,
    "start_time": "2023-03-11T21:57:55.472Z"
   },
   {
    "duration": 19,
    "start_time": "2023-03-11T21:57:55.486Z"
   },
   {
    "duration": 9,
    "start_time": "2023-03-11T21:57:55.507Z"
   },
   {
    "duration": 26,
    "start_time": "2023-03-11T21:57:55.518Z"
   },
   {
    "duration": 63,
    "start_time": "2023-03-11T21:57:55.549Z"
   },
   {
    "duration": 59,
    "start_time": "2023-03-11T21:57:55.614Z"
   },
   {
    "duration": 45,
    "start_time": "2023-03-11T21:57:55.675Z"
   },
   {
    "duration": 76,
    "start_time": "2023-03-11T21:57:55.722Z"
   },
   {
    "duration": 326,
    "start_time": "2023-03-11T21:57:55.799Z"
   },
   {
    "duration": 4,
    "start_time": "2023-03-11T21:57:56.126Z"
   },
   {
    "duration": 22,
    "start_time": "2023-03-11T21:57:56.139Z"
   },
   {
    "duration": 26,
    "start_time": "2023-03-11T21:57:56.162Z"
   },
   {
    "duration": 82,
    "start_time": "2023-03-11T21:57:56.189Z"
   },
   {
    "duration": 934,
    "start_time": "2023-03-11T21:57:56.272Z"
   },
   {
    "duration": 178,
    "start_time": "2023-03-11T21:57:57.208Z"
   },
   {
    "duration": 155,
    "start_time": "2023-03-11T21:57:57.387Z"
   },
   {
    "duration": 177,
    "start_time": "2023-03-11T21:57:57.544Z"
   },
   {
    "duration": 22,
    "start_time": "2023-03-11T21:57:57.723Z"
   },
   {
    "duration": 22,
    "start_time": "2023-03-11T21:57:57.747Z"
   },
   {
    "duration": 11,
    "start_time": "2023-03-11T21:57:57.770Z"
   },
   {
    "duration": 295,
    "start_time": "2023-03-11T21:57:57.783Z"
   },
   {
    "duration": 11,
    "start_time": "2023-03-11T21:57:58.079Z"
   },
   {
    "duration": 14,
    "start_time": "2023-03-11T21:57:58.091Z"
   },
   {
    "duration": 328,
    "start_time": "2023-03-11T21:57:58.106Z"
   },
   {
    "duration": 11,
    "start_time": "2023-03-11T21:57:58.440Z"
   },
   {
    "duration": 6,
    "start_time": "2023-03-11T22:06:13.628Z"
   },
   {
    "duration": 3,
    "start_time": "2023-03-11T22:07:16.685Z"
   },
   {
    "duration": 3,
    "start_time": "2023-03-11T22:07:48.483Z"
   },
   {
    "duration": 3,
    "start_time": "2023-03-11T22:07:51.792Z"
   },
   {
    "duration": 5,
    "start_time": "2023-03-11T22:07:52.503Z"
   },
   {
    "duration": 99,
    "start_time": "2023-03-11T22:08:18.121Z"
   },
   {
    "duration": 1402,
    "start_time": "2023-03-11T22:08:34.778Z"
   },
   {
    "duration": 164,
    "start_time": "2023-03-11T22:08:46.282Z"
   },
   {
    "duration": 18,
    "start_time": "2023-03-11T22:08:54.085Z"
   },
   {
    "duration": 173,
    "start_time": "2023-03-11T22:08:56.899Z"
   },
   {
    "duration": 155,
    "start_time": "2023-03-11T22:09:02.980Z"
   },
   {
    "duration": 53,
    "start_time": "2023-03-11T22:09:09.281Z"
   },
   {
    "duration": 1097,
    "start_time": "2023-03-11T22:09:18.239Z"
   },
   {
    "duration": 397,
    "start_time": "2023-03-11T22:09:19.338Z"
   },
   {
    "duration": 129,
    "start_time": "2023-03-11T22:09:19.736Z"
   },
   {
    "duration": 33,
    "start_time": "2023-03-11T22:09:19.867Z"
   },
   {
    "duration": 98,
    "start_time": "2023-03-11T22:09:19.903Z"
   },
   {
    "duration": 41,
    "start_time": "2023-03-11T22:09:20.003Z"
   },
   {
    "duration": 8,
    "start_time": "2023-03-11T22:09:20.045Z"
   },
   {
    "duration": 77,
    "start_time": "2023-03-11T22:09:20.054Z"
   },
   {
    "duration": 19,
    "start_time": "2023-03-11T22:09:20.132Z"
   },
   {
    "duration": 19,
    "start_time": "2023-03-11T22:09:20.153Z"
   },
   {
    "duration": 14,
    "start_time": "2023-03-11T22:09:20.174Z"
   },
   {
    "duration": 16,
    "start_time": "2023-03-11T22:09:20.190Z"
   },
   {
    "duration": 11,
    "start_time": "2023-03-11T22:09:20.208Z"
   },
   {
    "duration": 73,
    "start_time": "2023-03-11T22:09:20.223Z"
   },
   {
    "duration": 43,
    "start_time": "2023-03-11T22:09:20.298Z"
   },
   {
    "duration": 40,
    "start_time": "2023-03-11T22:09:20.343Z"
   },
   {
    "duration": 63,
    "start_time": "2023-03-11T22:09:20.384Z"
   },
   {
    "duration": 267,
    "start_time": "2023-03-11T22:09:20.448Z"
   },
   {
    "duration": 4,
    "start_time": "2023-03-11T22:09:20.716Z"
   },
   {
    "duration": 20,
    "start_time": "2023-03-11T22:09:20.722Z"
   },
   {
    "duration": 23,
    "start_time": "2023-03-11T22:09:20.744Z"
   },
   {
    "duration": 43,
    "start_time": "2023-03-11T22:09:20.768Z"
   },
   {
    "duration": 863,
    "start_time": "2023-03-11T22:09:20.813Z"
   },
   {
    "duration": 194,
    "start_time": "2023-03-11T22:09:21.678Z"
   },
   {
    "duration": 158,
    "start_time": "2023-03-11T22:09:21.873Z"
   },
   {
    "duration": 158,
    "start_time": "2023-03-11T22:09:22.033Z"
   },
   {
    "duration": 9,
    "start_time": "2023-03-11T22:09:22.193Z"
   },
   {
    "duration": 15,
    "start_time": "2023-03-11T22:09:22.204Z"
   },
   {
    "duration": 31,
    "start_time": "2023-03-11T22:09:22.221Z"
   },
   {
    "duration": 288,
    "start_time": "2023-03-11T22:09:22.254Z"
   },
   {
    "duration": 11,
    "start_time": "2023-03-11T22:09:22.544Z"
   },
   {
    "duration": 16,
    "start_time": "2023-03-11T22:09:22.557Z"
   },
   {
    "duration": 267,
    "start_time": "2023-03-11T22:09:22.575Z"
   },
   {
    "duration": 6,
    "start_time": "2023-03-11T22:09:22.844Z"
   },
   {
    "duration": 7,
    "start_time": "2023-03-11T22:09:22.852Z"
   },
   {
    "duration": 5,
    "start_time": "2023-03-11T22:09:22.861Z"
   },
   {
    "duration": 6,
    "start_time": "2023-03-11T22:09:22.868Z"
   },
   {
    "duration": 14,
    "start_time": "2023-03-11T22:09:22.875Z"
   },
   {
    "duration": 1401,
    "start_time": "2023-03-11T22:09:22.891Z"
   },
   {
    "duration": 169,
    "start_time": "2023-03-11T22:09:24.294Z"
   },
   {
    "duration": 176,
    "start_time": "2023-03-11T22:09:24.466Z"
   },
   {
    "duration": 166,
    "start_time": "2023-03-11T22:09:24.643Z"
   },
   {
    "duration": 56,
    "start_time": "2023-03-11T22:09:24.811Z"
   },
   {
    "duration": 395,
    "start_time": "2023-03-11T22:12:14.787Z"
   },
   {
    "duration": 342,
    "start_time": "2023-03-11T22:12:26.411Z"
   },
   {
    "duration": 261,
    "start_time": "2023-03-11T22:13:06.899Z"
   },
   {
    "duration": 1107,
    "start_time": "2023-03-11T22:13:11.926Z"
   },
   {
    "duration": 421,
    "start_time": "2023-03-11T22:13:13.035Z"
   },
   {
    "duration": 151,
    "start_time": "2023-03-11T22:13:13.458Z"
   },
   {
    "duration": 38,
    "start_time": "2023-03-11T22:13:13.611Z"
   },
   {
    "duration": 98,
    "start_time": "2023-03-11T22:13:13.651Z"
   },
   {
    "duration": 30,
    "start_time": "2023-03-11T22:13:13.751Z"
   },
   {
    "duration": 7,
    "start_time": "2023-03-11T22:13:13.783Z"
   },
   {
    "duration": 84,
    "start_time": "2023-03-11T22:13:13.791Z"
   },
   {
    "duration": 17,
    "start_time": "2023-03-11T22:13:13.876Z"
   },
   {
    "duration": 12,
    "start_time": "2023-03-11T22:13:13.896Z"
   },
   {
    "duration": 36,
    "start_time": "2023-03-11T22:13:13.909Z"
   },
   {
    "duration": 6,
    "start_time": "2023-03-11T22:13:13.946Z"
   },
   {
    "duration": 10,
    "start_time": "2023-03-11T22:13:13.954Z"
   },
   {
    "duration": 61,
    "start_time": "2023-03-11T22:13:13.966Z"
   },
   {
    "duration": 44,
    "start_time": "2023-03-11T22:13:14.029Z"
   },
   {
    "duration": 39,
    "start_time": "2023-03-11T22:13:14.075Z"
   },
   {
    "duration": 58,
    "start_time": "2023-03-11T22:13:14.116Z"
   },
   {
    "duration": 261,
    "start_time": "2023-03-11T22:13:14.176Z"
   },
   {
    "duration": 4,
    "start_time": "2023-03-11T22:13:14.440Z"
   },
   {
    "duration": 14,
    "start_time": "2023-03-11T22:13:14.445Z"
   },
   {
    "duration": 24,
    "start_time": "2023-03-11T22:13:14.460Z"
   },
   {
    "duration": 59,
    "start_time": "2023-03-11T22:13:14.485Z"
   },
   {
    "duration": 804,
    "start_time": "2023-03-11T22:13:14.546Z"
   },
   {
    "duration": 160,
    "start_time": "2023-03-11T22:13:15.352Z"
   },
   {
    "duration": 163,
    "start_time": "2023-03-11T22:13:15.514Z"
   },
   {
    "duration": 266,
    "start_time": "2023-03-11T22:13:15.679Z"
   },
   {
    "duration": 163,
    "start_time": "2023-03-11T22:13:15.947Z"
   },
   {
    "duration": 10,
    "start_time": "2023-03-11T22:13:16.113Z"
   },
   {
    "duration": 23,
    "start_time": "2023-03-11T22:13:16.124Z"
   },
   {
    "duration": 15,
    "start_time": "2023-03-11T22:13:16.148Z"
   },
   {
    "duration": 336,
    "start_time": "2023-03-11T22:13:16.165Z"
   },
   {
    "duration": 12,
    "start_time": "2023-03-11T22:13:16.503Z"
   },
   {
    "duration": 31,
    "start_time": "2023-03-11T22:13:16.517Z"
   },
   {
    "duration": 271,
    "start_time": "2023-03-11T22:13:16.549Z"
   },
   {
    "duration": 6,
    "start_time": "2023-03-11T22:13:16.822Z"
   },
   {
    "duration": 8,
    "start_time": "2023-03-11T22:13:16.840Z"
   },
   {
    "duration": 11,
    "start_time": "2023-03-11T22:13:16.850Z"
   },
   {
    "duration": 15,
    "start_time": "2023-03-11T22:13:16.863Z"
   },
   {
    "duration": 23,
    "start_time": "2023-03-11T22:13:16.879Z"
   },
   {
    "duration": 1387,
    "start_time": "2023-03-11T22:13:16.904Z"
   },
   {
    "duration": 170,
    "start_time": "2023-03-11T22:13:18.292Z"
   },
   {
    "duration": 174,
    "start_time": "2023-03-11T22:13:18.463Z"
   },
   {
    "duration": 163,
    "start_time": "2023-03-11T22:13:18.640Z"
   },
   {
    "duration": 52,
    "start_time": "2023-03-11T22:13:18.804Z"
   },
   {
    "duration": 1332,
    "start_time": "2023-05-21T20:42:37.341Z"
   },
   {
    "duration": 1433,
    "start_time": "2023-05-21T20:42:38.675Z"
   },
   {
    "duration": 181,
    "start_time": "2023-05-21T20:42:40.110Z"
   },
   {
    "duration": 40,
    "start_time": "2023-05-21T20:42:40.293Z"
   },
   {
    "duration": 125,
    "start_time": "2023-05-21T20:42:40.336Z"
   },
   {
    "duration": 40,
    "start_time": "2023-05-21T20:42:40.462Z"
   },
   {
    "duration": 10,
    "start_time": "2023-05-21T20:42:40.504Z"
   },
   {
    "duration": 117,
    "start_time": "2023-05-21T20:42:40.516Z"
   },
   {
    "duration": 23,
    "start_time": "2023-05-21T20:42:40.635Z"
   },
   {
    "duration": 16,
    "start_time": "2023-05-21T20:42:40.671Z"
   },
   {
    "duration": 22,
    "start_time": "2023-05-21T20:42:40.689Z"
   },
   {
    "duration": 9,
    "start_time": "2023-05-21T20:42:40.712Z"
   },
   {
    "duration": 9,
    "start_time": "2023-05-21T20:42:40.723Z"
   },
   {
    "duration": 95,
    "start_time": "2023-05-21T20:42:40.734Z"
   },
   {
    "duration": 57,
    "start_time": "2023-05-21T20:42:40.831Z"
   },
   {
    "duration": 63,
    "start_time": "2023-05-21T20:42:40.891Z"
   },
   {
    "duration": 57,
    "start_time": "2023-05-21T20:42:40.974Z"
   },
   {
    "duration": 317,
    "start_time": "2023-05-21T20:42:41.033Z"
   },
   {
    "duration": 38,
    "start_time": "2023-05-21T20:42:41.352Z"
   },
   {
    "duration": 51,
    "start_time": "2023-05-21T20:42:41.392Z"
   },
   {
    "duration": 919,
    "start_time": "2023-05-21T20:42:41.445Z"
   },
   {
    "duration": 214,
    "start_time": "2023-05-21T20:42:42.372Z"
   },
   {
    "duration": 197,
    "start_time": "2023-05-21T20:42:42.589Z"
   },
   {
    "duration": 336,
    "start_time": "2023-05-21T20:42:42.788Z"
   },
   {
    "duration": 199,
    "start_time": "2023-05-21T20:42:43.127Z"
   },
   {
    "duration": 14,
    "start_time": "2023-05-21T20:42:43.328Z"
   },
   {
    "duration": 28,
    "start_time": "2023-05-21T20:42:43.344Z"
   },
   {
    "duration": 14,
    "start_time": "2023-05-21T20:42:43.374Z"
   },
   {
    "duration": 441,
    "start_time": "2023-05-21T20:42:43.390Z"
   },
   {
    "duration": 13,
    "start_time": "2023-05-21T20:42:43.833Z"
   },
   {
    "duration": 42,
    "start_time": "2023-05-21T20:42:43.849Z"
   },
   {
    "duration": 342,
    "start_time": "2023-05-21T20:42:43.893Z"
   },
   {
    "duration": 7,
    "start_time": "2023-05-21T20:42:44.238Z"
   },
   {
    "duration": 11,
    "start_time": "2023-05-21T20:42:44.247Z"
   }
  ],
  "kernelspec": {
   "display_name": "Python 3 (ipykernel)",
   "language": "python",
   "name": "python3"
  },
  "language_info": {
   "codemirror_mode": {
    "name": "ipython",
    "version": 3
   },
   "file_extension": ".py",
   "mimetype": "text/x-python",
   "name": "python",
   "nbconvert_exporter": "python",
   "pygments_lexer": "ipython3",
   "version": "3.9.5"
  },
  "toc": {
   "base_numbering": 1,
   "nav_menu": {
    "height": "52px",
    "width": "160px"
   },
   "number_sections": true,
   "sideBar": true,
   "skip_h1_title": true,
   "title_cell": "Содержание",
   "title_sidebar": "Содержание",
   "toc_cell": true,
   "toc_position": {
    "height": "calc(100% - 180px)",
    "left": "10px",
    "top": "150px",
    "width": "279.2px"
   },
   "toc_section_display": true,
   "toc_window_display": true
  }
 },
 "nbformat": 4,
 "nbformat_minor": 2
}
