{
 "cells": [
  {
   "cell_type": "markdown",
   "id": "6e38b16e",
   "metadata": {},
   "source": [
    "## Подготовка данных для дашборда"
   ]
  },
  {
   "cell_type": "code",
   "execution_count": 1,
   "id": "54c33781",
   "metadata": {
    "tags": [
     "aa81075c-062f-4de0-b5fe-14c73dc7468e"
    ]
   },
   "outputs": [],
   "source": [
    "import pandas as pd\n",
    "import numpy as np\n",
    "\n",
    "from sqlalchemy import create_engine"
   ]
  },
  {
   "cell_type": "code",
   "execution_count": 2,
   "id": "f4134b7d",
   "metadata": {},
   "outputs": [],
   "source": [
    "path_to_db = '/datasets/telecomm_csi.db'\n",
    "engine = create_engine(f'sqlite:///{path_to_db}', echo = False)"
   ]
  },
  {
   "cell_type": "code",
   "execution_count": 3,
   "id": "d6f9b55d",
   "metadata": {},
   "outputs": [],
   "source": [
    "query = \"\"\"\n",
    "SELECT u.user_id, \n",
    "       u.lt_day, \n",
    "       (CASE\n",
    "           WHEN u.lt_day <= 365 THEN 'yes' \n",
    "           WHEN u.lt_day > 365 THEN 'no'\n",
    "       END) AS is_new, \n",
    "       u.age, \n",
    "       u.gender_segment, \n",
    "       u.os_name, \n",
    "       u.cpe_type_name, \n",
    "       l.country, \n",
    "       l.city, \n",
    "       a.title AS 'age_segment', \n",
    "       t.title AS 'traffic_segment',\n",
    "       ls.title AS 'lifetime_segment',\n",
    "       u.nps_score,\n",
    "       (CASE\n",
    "           WHEN nps_score >= 9 THEN 'promoters'\n",
    "           WHEN nps_score >= 7 AND nps_score <= 8 THEN 'passives'\n",
    "           WHEN nps_score <= 6 THEN 'detractors'\n",
    "       END) AS nps_group\n",
    "FROM user AS u\n",
    "JOIN location AS l ON u.location_id == l.location_id\n",
    "JOIN age_segment AS a ON u.age_gr_id == a.age_gr_id\n",
    "JOIN traffic_segment AS t ON u.tr_gr_id == t.tr_gr_id\n",
    "JOIN lifetime_segment AS ls ON u.lt_gr_id == ls.lt_gr_id;\n",
    "\"\"\""
   ]
  },
  {
   "cell_type": "code",
   "execution_count": 4,
   "id": "86c2cc45",
   "metadata": {
    "scrolled": true
   },
   "outputs": [
    {
     "data": {
      "text/html": [
       "<div>\n",
       "<style scoped>\n",
       "    .dataframe tbody tr th:only-of-type {\n",
       "        vertical-align: middle;\n",
       "    }\n",
       "\n",
       "    .dataframe tbody tr th {\n",
       "        vertical-align: top;\n",
       "    }\n",
       "\n",
       "    .dataframe thead th {\n",
       "        text-align: right;\n",
       "    }\n",
       "</style>\n",
       "<table border=\"1\" class=\"dataframe\">\n",
       "  <thead>\n",
       "    <tr style=\"text-align: right;\">\n",
       "      <th></th>\n",
       "      <th>user_id</th>\n",
       "      <th>lt_day</th>\n",
       "      <th>is_new</th>\n",
       "      <th>age</th>\n",
       "      <th>gender_segment</th>\n",
       "      <th>os_name</th>\n",
       "      <th>cpe_type_name</th>\n",
       "      <th>country</th>\n",
       "      <th>city</th>\n",
       "      <th>age_segment</th>\n",
       "      <th>traffic_segment</th>\n",
       "      <th>lifetime_segment</th>\n",
       "      <th>nps_score</th>\n",
       "      <th>nps_group</th>\n",
       "    </tr>\n",
       "  </thead>\n",
       "  <tbody>\n",
       "    <tr>\n",
       "      <th>0</th>\n",
       "      <td>A001A2</td>\n",
       "      <td>2320</td>\n",
       "      <td>no</td>\n",
       "      <td>45.0</td>\n",
       "      <td>1.0</td>\n",
       "      <td>ANDROID</td>\n",
       "      <td>SMARTPHONE</td>\n",
       "      <td>Россия</td>\n",
       "      <td>Уфа</td>\n",
       "      <td>05 45-54</td>\n",
       "      <td>04 1-5</td>\n",
       "      <td>08 36+</td>\n",
       "      <td>10</td>\n",
       "      <td>promoters</td>\n",
       "    </tr>\n",
       "    <tr>\n",
       "      <th>1</th>\n",
       "      <td>A001WF</td>\n",
       "      <td>2344</td>\n",
       "      <td>no</td>\n",
       "      <td>53.0</td>\n",
       "      <td>0.0</td>\n",
       "      <td>ANDROID</td>\n",
       "      <td>SMARTPHONE</td>\n",
       "      <td>Россия</td>\n",
       "      <td>Киров</td>\n",
       "      <td>05 45-54</td>\n",
       "      <td>04 1-5</td>\n",
       "      <td>08 36+</td>\n",
       "      <td>10</td>\n",
       "      <td>promoters</td>\n",
       "    </tr>\n",
       "    <tr>\n",
       "      <th>2</th>\n",
       "      <td>A003Q7</td>\n",
       "      <td>467</td>\n",
       "      <td>no</td>\n",
       "      <td>57.0</td>\n",
       "      <td>0.0</td>\n",
       "      <td>ANDROID</td>\n",
       "      <td>SMARTPHONE</td>\n",
       "      <td>Россия</td>\n",
       "      <td>Москва</td>\n",
       "      <td>06 55-64</td>\n",
       "      <td>08 20-25</td>\n",
       "      <td>06 13-24</td>\n",
       "      <td>10</td>\n",
       "      <td>promoters</td>\n",
       "    </tr>\n",
       "    <tr>\n",
       "      <th>3</th>\n",
       "      <td>A004TB</td>\n",
       "      <td>4190</td>\n",
       "      <td>no</td>\n",
       "      <td>44.0</td>\n",
       "      <td>1.0</td>\n",
       "      <td>IOS</td>\n",
       "      <td>SMARTPHONE</td>\n",
       "      <td>Россия</td>\n",
       "      <td>РостовнаДону</td>\n",
       "      <td>04 35-44</td>\n",
       "      <td>03 0.1-1</td>\n",
       "      <td>08 36+</td>\n",
       "      <td>10</td>\n",
       "      <td>promoters</td>\n",
       "    </tr>\n",
       "    <tr>\n",
       "      <th>4</th>\n",
       "      <td>A004XT</td>\n",
       "      <td>1163</td>\n",
       "      <td>no</td>\n",
       "      <td>24.0</td>\n",
       "      <td>0.0</td>\n",
       "      <td>ANDROID</td>\n",
       "      <td>SMARTPHONE</td>\n",
       "      <td>Россия</td>\n",
       "      <td>Рязань</td>\n",
       "      <td>02 16-24</td>\n",
       "      <td>05 5-10</td>\n",
       "      <td>08 36+</td>\n",
       "      <td>10</td>\n",
       "      <td>promoters</td>\n",
       "    </tr>\n",
       "    <tr>\n",
       "      <th>5</th>\n",
       "      <td>A005O0</td>\n",
       "      <td>5501</td>\n",
       "      <td>no</td>\n",
       "      <td>42.0</td>\n",
       "      <td>1.0</td>\n",
       "      <td>ANDROID</td>\n",
       "      <td>SMARTPHONE</td>\n",
       "      <td>Россия</td>\n",
       "      <td>Омск</td>\n",
       "      <td>04 35-44</td>\n",
       "      <td>05 5-10</td>\n",
       "      <td>08 36+</td>\n",
       "      <td>6</td>\n",
       "      <td>detractors</td>\n",
       "    </tr>\n",
       "    <tr>\n",
       "      <th>6</th>\n",
       "      <td>A0061R</td>\n",
       "      <td>1236</td>\n",
       "      <td>no</td>\n",
       "      <td>45.0</td>\n",
       "      <td>0.0</td>\n",
       "      <td>ANDROID</td>\n",
       "      <td>SMARTPHONE</td>\n",
       "      <td>Россия</td>\n",
       "      <td>Уфа</td>\n",
       "      <td>05 45-54</td>\n",
       "      <td>06 10-15</td>\n",
       "      <td>08 36+</td>\n",
       "      <td>10</td>\n",
       "      <td>promoters</td>\n",
       "    </tr>\n",
       "    <tr>\n",
       "      <th>7</th>\n",
       "      <td>A009KS</td>\n",
       "      <td>313</td>\n",
       "      <td>yes</td>\n",
       "      <td>35.0</td>\n",
       "      <td>0.0</td>\n",
       "      <td>ANDROID</td>\n",
       "      <td>SMARTPHONE</td>\n",
       "      <td>Россия</td>\n",
       "      <td>Москва</td>\n",
       "      <td>04 35-44</td>\n",
       "      <td>13 45-50</td>\n",
       "      <td>05 7-12</td>\n",
       "      <td>10</td>\n",
       "      <td>promoters</td>\n",
       "    </tr>\n",
       "    <tr>\n",
       "      <th>8</th>\n",
       "      <td>A00AES</td>\n",
       "      <td>3238</td>\n",
       "      <td>no</td>\n",
       "      <td>36.0</td>\n",
       "      <td>1.0</td>\n",
       "      <td>ANDROID</td>\n",
       "      <td>SMARTPHONE</td>\n",
       "      <td>Россия</td>\n",
       "      <td>СанктПетербург</td>\n",
       "      <td>04 35-44</td>\n",
       "      <td>04 1-5</td>\n",
       "      <td>08 36+</td>\n",
       "      <td>10</td>\n",
       "      <td>promoters</td>\n",
       "    </tr>\n",
       "    <tr>\n",
       "      <th>9</th>\n",
       "      <td>A00F70</td>\n",
       "      <td>4479</td>\n",
       "      <td>no</td>\n",
       "      <td>54.0</td>\n",
       "      <td>1.0</td>\n",
       "      <td>ANDROID</td>\n",
       "      <td>SMARTPHONE</td>\n",
       "      <td>Россия</td>\n",
       "      <td>Волгоград</td>\n",
       "      <td>05 45-54</td>\n",
       "      <td>07 15-20</td>\n",
       "      <td>08 36+</td>\n",
       "      <td>9</td>\n",
       "      <td>promoters</td>\n",
       "    </tr>\n",
       "  </tbody>\n",
       "</table>\n",
       "</div>"
      ],
      "text/plain": [
       "  user_id  lt_day is_new   age  gender_segment  os_name cpe_type_name country  \\\n",
       "0  A001A2    2320     no  45.0             1.0  ANDROID    SMARTPHONE  Россия   \n",
       "1  A001WF    2344     no  53.0             0.0  ANDROID    SMARTPHONE  Россия   \n",
       "2  A003Q7     467     no  57.0             0.0  ANDROID    SMARTPHONE  Россия   \n",
       "3  A004TB    4190     no  44.0             1.0      IOS    SMARTPHONE  Россия   \n",
       "4  A004XT    1163     no  24.0             0.0  ANDROID    SMARTPHONE  Россия   \n",
       "5  A005O0    5501     no  42.0             1.0  ANDROID    SMARTPHONE  Россия   \n",
       "6  A0061R    1236     no  45.0             0.0  ANDROID    SMARTPHONE  Россия   \n",
       "7  A009KS     313    yes  35.0             0.0  ANDROID    SMARTPHONE  Россия   \n",
       "8  A00AES    3238     no  36.0             1.0  ANDROID    SMARTPHONE  Россия   \n",
       "9  A00F70    4479     no  54.0             1.0  ANDROID    SMARTPHONE  Россия   \n",
       "\n",
       "             city age_segment traffic_segment lifetime_segment  nps_score  \\\n",
       "0             Уфа    05 45-54          04 1-5           08 36+         10   \n",
       "1           Киров    05 45-54          04 1-5           08 36+         10   \n",
       "2          Москва    06 55-64        08 20-25         06 13-24         10   \n",
       "3    РостовнаДону    04 35-44        03 0.1-1           08 36+         10   \n",
       "4          Рязань    02 16-24         05 5-10           08 36+         10   \n",
       "5            Омск    04 35-44         05 5-10           08 36+          6   \n",
       "6             Уфа    05 45-54        06 10-15           08 36+         10   \n",
       "7          Москва    04 35-44        13 45-50          05 7-12         10   \n",
       "8  СанктПетербург    04 35-44          04 1-5           08 36+         10   \n",
       "9       Волгоград    05 45-54        07 15-20           08 36+          9   \n",
       "\n",
       "    nps_group  \n",
       "0   promoters  \n",
       "1   promoters  \n",
       "2   promoters  \n",
       "3   promoters  \n",
       "4   promoters  \n",
       "5  detractors  \n",
       "6   promoters  \n",
       "7   promoters  \n",
       "8   promoters  \n",
       "9   promoters  "
      ]
     },
     "execution_count": 4,
     "metadata": {},
     "output_type": "execute_result"
    }
   ],
   "source": [
    "df = pd.read_sql(query, engine)\n",
    "df.head(10)"
   ]
  },
  {
   "cell_type": "code",
   "execution_count": 5,
   "id": "d9dc2ed7",
   "metadata": {},
   "outputs": [],
   "source": [
    "df.to_csv('telecomm_csi_tableau.csv', index=False)"
   ]
  },
  {
   "cell_type": "code",
   "execution_count": 6,
   "id": "61c6b8fc",
   "metadata": {},
   "outputs": [
    {
     "name": "stdout",
     "output_type": "stream",
     "text": [
      "<class 'pandas.core.frame.DataFrame'>\n",
      "RangeIndex: 502493 entries, 0 to 502492\n",
      "Data columns (total 14 columns):\n",
      " #   Column            Non-Null Count   Dtype  \n",
      "---  ------            --------------   -----  \n",
      " 0   user_id           502493 non-null  object \n",
      " 1   lt_day            502493 non-null  int64  \n",
      " 2   is_new            502493 non-null  object \n",
      " 3   age               501939 non-null  float64\n",
      " 4   gender_segment    501192 non-null  float64\n",
      " 5   os_name           502493 non-null  object \n",
      " 6   cpe_type_name     502493 non-null  object \n",
      " 7   country           502493 non-null  object \n",
      " 8   city              502493 non-null  object \n",
      " 9   age_segment       502493 non-null  object \n",
      " 10  traffic_segment   502493 non-null  object \n",
      " 11  lifetime_segment  502493 non-null  object \n",
      " 12  nps_score         502493 non-null  int64  \n",
      " 13  nps_group         502493 non-null  object \n",
      "dtypes: float64(2), int64(2), object(10)\n",
      "memory usage: 53.7+ MB\n"
     ]
    }
   ],
   "source": [
    "df.info()"
   ]
  },
  {
   "cell_type": "markdown",
   "id": "26b16796",
   "metadata": {},
   "source": [
    "## Ссылка на дашборд"
   ]
  },
  {
   "cell_type": "markdown",
   "id": "1b4a7fd9",
   "metadata": {},
   "source": [
    "Ссылка: https://public.tableau.com/app/profile/amand8513/viz/PROJECT_2_16643757623820/NPS-"
   ]
  },
  {
   "cell_type": "markdown",
   "id": "0015e2c0",
   "metadata": {},
   "source": [
    "## Ссылка на презентацию"
   ]
  },
  {
   "cell_type": "markdown",
   "id": "3175f7a8",
   "metadata": {},
   "source": [
    "Ссылка: https://drive.google.com/file/d/1m2t8Lgq5Qp2EJPaXAbfpSw6GjkBJgltt/view?usp=sharing"
   ]
  }
 ],
 "metadata": {
  "ExecuteTimeLog": [
   {
    "duration": 752,
    "start_time": "2021-10-03T17:40:52.731Z"
   },
   {
    "duration": 20,
    "start_time": "2021-10-03T17:40:53.486Z"
   },
   {
    "duration": 4,
    "start_time": "2021-10-03T17:41:04.638Z"
   },
   {
    "duration": 461,
    "start_time": "2021-10-03T17:41:04.912Z"
   },
   {
    "duration": 284,
    "start_time": "2021-10-03T17:41:05.376Z"
   },
   {
    "duration": 574,
    "start_time": "2021-10-06T07:55:05.029Z"
   },
   {
    "duration": 6,
    "start_time": "2021-10-06T07:55:05.605Z"
   },
   {
    "duration": 3,
    "start_time": "2021-10-06T07:55:14.685Z"
   },
   {
    "duration": 406,
    "start_time": "2021-10-06T07:55:15.522Z"
   },
   {
    "duration": 67,
    "start_time": "2021-10-06T07:55:15.929Z"
   },
   {
    "duration": 840,
    "start_time": "2021-10-07T07:54:04.647Z"
   },
   {
    "duration": 10,
    "start_time": "2021-10-07T07:54:05.490Z"
   },
   {
    "duration": 4,
    "start_time": "2021-10-07T07:54:05.544Z"
   },
   {
    "duration": 391,
    "start_time": "2021-10-07T07:54:06.237Z"
   },
   {
    "duration": 293,
    "start_time": "2021-10-07T07:54:06.654Z"
   },
   {
    "duration": 8,
    "start_time": "2022-09-28T12:16:06.374Z"
   },
   {
    "duration": 488,
    "start_time": "2022-09-28T12:16:10.143Z"
   },
   {
    "duration": 520,
    "start_time": "2022-09-28T12:16:17.220Z"
   },
   {
    "duration": 22,
    "start_time": "2022-09-28T12:16:17.742Z"
   },
   {
    "duration": 3,
    "start_time": "2022-09-28T12:16:17.766Z"
   },
   {
    "duration": 767,
    "start_time": "2022-09-28T12:16:17.771Z"
   },
   {
    "duration": 0,
    "start_time": "2022-09-28T12:16:18.541Z"
   },
   {
    "duration": 507,
    "start_time": "2022-09-28T12:16:36.933Z"
   },
   {
    "duration": 9,
    "start_time": "2022-09-28T12:16:37.442Z"
   },
   {
    "duration": 3,
    "start_time": "2022-09-28T12:16:37.452Z"
   },
   {
    "duration": 617,
    "start_time": "2022-09-28T12:16:37.456Z"
   },
   {
    "duration": 177,
    "start_time": "2022-09-28T12:16:38.076Z"
   },
   {
    "duration": 11,
    "start_time": "2022-09-28T12:17:31.272Z"
   },
   {
    "duration": 3,
    "start_time": "2022-09-28T12:17:52.296Z"
   },
   {
    "duration": 512,
    "start_time": "2022-09-28T12:17:58.346Z"
   },
   {
    "duration": 10,
    "start_time": "2022-09-28T12:17:58.860Z"
   },
   {
    "duration": 6,
    "start_time": "2022-09-28T12:17:58.872Z"
   },
   {
    "duration": 472,
    "start_time": "2022-09-28T12:17:58.880Z"
   },
   {
    "duration": 0,
    "start_time": "2022-09-28T12:17:59.354Z"
   },
   {
    "duration": 533,
    "start_time": "2022-09-28T12:18:19.496Z"
   },
   {
    "duration": 9,
    "start_time": "2022-09-28T12:18:20.031Z"
   },
   {
    "duration": 3,
    "start_time": "2022-09-28T12:18:20.042Z"
   },
   {
    "duration": 581,
    "start_time": "2022-09-28T12:18:20.046Z"
   },
   {
    "duration": 58,
    "start_time": "2022-09-28T12:18:20.629Z"
   },
   {
    "duration": 577,
    "start_time": "2022-09-28T12:20:07.653Z"
   },
   {
    "duration": 12,
    "start_time": "2022-09-28T12:20:08.234Z"
   },
   {
    "duration": 3,
    "start_time": "2022-09-28T12:20:08.249Z"
   },
   {
    "duration": 1097,
    "start_time": "2022-09-28T12:20:08.254Z"
   },
   {
    "duration": 0,
    "start_time": "2022-09-28T12:20:09.354Z"
   },
   {
    "duration": 507,
    "start_time": "2022-09-28T12:20:35.832Z"
   },
   {
    "duration": 9,
    "start_time": "2022-09-28T12:20:36.341Z"
   },
   {
    "duration": 3,
    "start_time": "2022-09-28T12:20:36.352Z"
   },
   {
    "duration": 601,
    "start_time": "2022-09-28T12:20:36.357Z"
   },
   {
    "duration": 51,
    "start_time": "2022-09-28T12:20:36.961Z"
   },
   {
    "duration": 612,
    "start_time": "2022-09-28T13:34:01.861Z"
   },
   {
    "duration": 11,
    "start_time": "2022-09-28T13:34:02.476Z"
   },
   {
    "duration": 52,
    "start_time": "2022-09-28T13:34:02.496Z"
   },
   {
    "duration": 4439,
    "start_time": "2022-09-28T13:34:02.550Z"
   },
   {
    "duration": 3023,
    "start_time": "2022-09-28T13:34:06.990Z"
   },
   {
    "duration": 519,
    "start_time": "2022-09-28T13:35:58.660Z"
   },
   {
    "duration": 23,
    "start_time": "2022-09-28T13:35:59.182Z"
   },
   {
    "duration": 17,
    "start_time": "2022-09-28T13:35:59.212Z"
   },
   {
    "duration": 2347,
    "start_time": "2022-09-28T13:35:59.231Z"
   },
   {
    "duration": 1006,
    "start_time": "2022-09-28T13:36:01.580Z"
   },
   {
    "duration": 3,
    "start_time": "2022-09-28T14:05:08.474Z"
   },
   {
    "duration": 554,
    "start_time": "2022-09-28T14:05:15.008Z"
   },
   {
    "duration": 11,
    "start_time": "2022-09-28T14:05:15.564Z"
   },
   {
    "duration": 19,
    "start_time": "2022-09-28T14:05:15.577Z"
   },
   {
    "duration": 773,
    "start_time": "2022-09-28T14:05:15.606Z"
   },
   {
    "duration": 0,
    "start_time": "2022-09-28T14:05:16.382Z"
   },
   {
    "duration": 504,
    "start_time": "2022-09-28T14:06:09.938Z"
   },
   {
    "duration": 10,
    "start_time": "2022-09-28T14:06:10.444Z"
   },
   {
    "duration": 4,
    "start_time": "2022-09-28T14:06:10.455Z"
   },
   {
    "duration": 5730,
    "start_time": "2022-09-28T14:06:10.460Z"
   },
   {
    "duration": 5053,
    "start_time": "2022-09-28T14:06:16.191Z"
   },
   {
    "duration": 16,
    "start_time": "2022-09-28T14:07:03.014Z"
   },
   {
    "duration": 25,
    "start_time": "2022-09-28T14:07:56.796Z"
   },
   {
    "duration": 41,
    "start_time": "2022-09-30T01:07:55.153Z"
   },
   {
    "duration": 457,
    "start_time": "2022-09-30T01:07:59.546Z"
   },
   {
    "duration": 29,
    "start_time": "2022-09-30T01:08:00.008Z"
   },
   {
    "duration": 3,
    "start_time": "2022-09-30T01:08:00.038Z"
   },
   {
    "duration": 5547,
    "start_time": "2022-09-30T01:08:00.043Z"
   },
   {
    "duration": 3789,
    "start_time": "2022-09-30T01:08:05.593Z"
   },
   {
    "duration": 448,
    "start_time": "2022-09-30T01:08:09.384Z"
   },
   {
    "duration": 589,
    "start_time": "2022-09-30T08:01:11.606Z"
   },
   {
    "duration": 20,
    "start_time": "2022-09-30T08:01:12.197Z"
   },
   {
    "duration": 3,
    "start_time": "2022-09-30T08:01:12.219Z"
   },
   {
    "duration": 5310,
    "start_time": "2022-09-30T08:01:12.224Z"
   },
   {
    "duration": 88,
    "start_time": "2022-09-30T08:01:17.537Z"
   },
   {
    "duration": 0,
    "start_time": "2022-09-30T08:01:17.627Z"
   },
   {
    "duration": 0,
    "start_time": "2022-09-30T08:01:17.628Z"
   },
   {
    "duration": 528,
    "start_time": "2022-09-30T08:01:36.960Z"
   },
   {
    "duration": 13,
    "start_time": "2022-09-30T08:01:37.490Z"
   },
   {
    "duration": 5,
    "start_time": "2022-09-30T08:01:37.506Z"
   },
   {
    "duration": 5589,
    "start_time": "2022-09-30T08:01:37.514Z"
   },
   {
    "duration": 4592,
    "start_time": "2022-09-30T08:01:43.117Z"
   },
   {
    "duration": 510,
    "start_time": "2022-09-30T08:01:47.712Z"
   },
   {
    "duration": 531,
    "start_time": "2022-09-30T08:45:49.501Z"
   },
   {
    "duration": 10,
    "start_time": "2022-09-30T08:45:50.034Z"
   },
   {
    "duration": 9,
    "start_time": "2022-09-30T08:45:50.045Z"
   },
   {
    "duration": 5255,
    "start_time": "2022-09-30T08:45:50.056Z"
   },
   {
    "duration": 3913,
    "start_time": "2022-09-30T08:45:55.314Z"
   },
   {
    "duration": 472,
    "start_time": "2022-09-30T08:45:59.229Z"
   },
   {
    "duration": 508,
    "start_time": "2022-10-01T14:15:58.499Z"
   },
   {
    "duration": 22,
    "start_time": "2022-10-01T14:15:59.009Z"
   },
   {
    "duration": 3,
    "start_time": "2022-10-01T14:15:59.034Z"
   },
   {
    "duration": 4976,
    "start_time": "2022-10-01T14:15:59.038Z"
   },
   {
    "duration": 3925,
    "start_time": "2022-10-01T14:16:04.016Z"
   },
   {
    "duration": 393,
    "start_time": "2022-10-01T14:16:07.943Z"
   },
   {
    "duration": 1916,
    "start_time": "2022-10-01T14:16:15.707Z"
   },
   {
    "duration": 1628,
    "start_time": "2022-10-01T14:16:39.000Z"
   }
  ],
  "kernelspec": {
   "display_name": "Python 3 (ipykernel)",
   "language": "python",
   "name": "python3"
  },
  "language_info": {
   "codemirror_mode": {
    "name": "ipython",
    "version": 3
   },
   "file_extension": ".py",
   "mimetype": "text/x-python",
   "name": "python",
   "nbconvert_exporter": "python",
   "pygments_lexer": "ipython3",
   "version": "3.9.5"
  },
  "toc": {
   "base_numbering": 1,
   "nav_menu": {},
   "number_sections": true,
   "sideBar": true,
   "skip_h1_title": true,
   "title_cell": "Table of Contents",
   "title_sidebar": "Contents",
   "toc_cell": false,
   "toc_position": {},
   "toc_section_display": true,
   "toc_window_display": false
  }
 },
 "nbformat": 4,
 "nbformat_minor": 5
}
