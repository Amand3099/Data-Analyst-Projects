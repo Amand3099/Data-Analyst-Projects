{
 "cells": [
  {
   "cell_type": "markdown",
   "metadata": {
    "id": "E0vqbgi9ay0H"
   },
   "source": [
    "# Яндекс.Музыка"
   ]
  },
  {
   "cell_type": "markdown",
   "metadata": {
    "id": "VUC88oWjTJw2"
   },
   "source": [
    "Сравнение Москвы и Петербурга окружено мифами. Например:\n",
    " * Москва — мегаполис, подчинённый жёсткому ритму рабочей недели;\n",
    " * Петербург — культурная столица, со своими вкусами.\n",
    "\n",
    "На основании данных Яндекс.Музыки требуется сравнить поведение пользователей двух столиц.\n",
    "\n",
    "**Цель исследования** — проверить три гипотезы:\n",
    "1. Активность пользователей зависит от дня недели. Причём в Москве и Петербурге это проявляется по-разному.\n",
    "2. В понедельник утром в Москве преобладают одни жанры, а в Петербурге — другие. Так же и вечером пятницы преобладают разные жанры — в зависимости от города. \n",
    "3. Москва и Петербург предпочитают разные жанры музыки. В Москве чаще слушают поп-музыку, в Петербурге — русский рэп.\n",
    "\n",
    "**Ход исследования**\n",
    "\n",
    "Данные о поведении пользователей будут получены из файла `yandex_music_project.csv`. О качестве данных ничего не известно. Поэтому перед проверкой гипотез понадобится обзор данных. \n",
    "\n",
    "Таким образом, исследование пройдёт в три этапа:\n",
    " 1. Обзор данных.\n",
    " 2. Предобработка данных.\n",
    " 3. Проверка гипотез.\n",
    "\n"
   ]
  },
  {
   "cell_type": "markdown",
   "metadata": {
    "id": "Ml1hmfXC_Zcs"
   },
   "source": [
    "## Обзор данных\n",
    "\n",
    "Составим первое представление о данных Яндекс.Музыки.\n",
    "\n",
    "\n"
   ]
  },
  {
   "cell_type": "code",
   "execution_count": 1,
   "metadata": {
    "id": "AXN7PHPN_Zcs"
   },
   "outputs": [],
   "source": [
    "import pandas as pd # импорт библиотеки pandas"
   ]
  },
  {
   "cell_type": "code",
   "execution_count": 2,
   "metadata": {
    "id": "fFVu7vqh_Zct"
   },
   "outputs": [],
   "source": [
    "df = pd.read_csv('/datasets/yandex_music_project.csv')# чтение файла с данными и сохранение в df"
   ]
  },
  {
   "cell_type": "markdown",
   "metadata": {
    "id": "rDoOMd3uTqnZ"
   },
   "source": [
    "Выведем на экран первые десять строк таблицы:"
   ]
  },
  {
   "cell_type": "code",
   "execution_count": 3,
   "metadata": {
    "id": "oWTVX3gW_Zct"
   },
   "outputs": [
    {
     "data": {
      "text/html": [
       "<div>\n",
       "<style scoped>\n",
       "    .dataframe tbody tr th:only-of-type {\n",
       "        vertical-align: middle;\n",
       "    }\n",
       "\n",
       "    .dataframe tbody tr th {\n",
       "        vertical-align: top;\n",
       "    }\n",
       "\n",
       "    .dataframe thead th {\n",
       "        text-align: right;\n",
       "    }\n",
       "</style>\n",
       "<table border=\"1\" class=\"dataframe\">\n",
       "  <thead>\n",
       "    <tr style=\"text-align: right;\">\n",
       "      <th></th>\n",
       "      <th>userID</th>\n",
       "      <th>Track</th>\n",
       "      <th>artist</th>\n",
       "      <th>genre</th>\n",
       "      <th>City</th>\n",
       "      <th>time</th>\n",
       "      <th>Day</th>\n",
       "    </tr>\n",
       "  </thead>\n",
       "  <tbody>\n",
       "    <tr>\n",
       "      <th>0</th>\n",
       "      <td>FFB692EC</td>\n",
       "      <td>Kamigata To Boots</td>\n",
       "      <td>The Mass Missile</td>\n",
       "      <td>rock</td>\n",
       "      <td>Saint-Petersburg</td>\n",
       "      <td>20:28:33</td>\n",
       "      <td>Wednesday</td>\n",
       "    </tr>\n",
       "    <tr>\n",
       "      <th>1</th>\n",
       "      <td>55204538</td>\n",
       "      <td>Delayed Because of Accident</td>\n",
       "      <td>Andreas Rönnberg</td>\n",
       "      <td>rock</td>\n",
       "      <td>Moscow</td>\n",
       "      <td>14:07:09</td>\n",
       "      <td>Friday</td>\n",
       "    </tr>\n",
       "    <tr>\n",
       "      <th>2</th>\n",
       "      <td>20EC38</td>\n",
       "      <td>Funiculì funiculà</td>\n",
       "      <td>Mario Lanza</td>\n",
       "      <td>pop</td>\n",
       "      <td>Saint-Petersburg</td>\n",
       "      <td>20:58:07</td>\n",
       "      <td>Wednesday</td>\n",
       "    </tr>\n",
       "    <tr>\n",
       "      <th>3</th>\n",
       "      <td>A3DD03C9</td>\n",
       "      <td>Dragons in the Sunset</td>\n",
       "      <td>Fire + Ice</td>\n",
       "      <td>folk</td>\n",
       "      <td>Saint-Petersburg</td>\n",
       "      <td>08:37:09</td>\n",
       "      <td>Monday</td>\n",
       "    </tr>\n",
       "    <tr>\n",
       "      <th>4</th>\n",
       "      <td>E2DC1FAE</td>\n",
       "      <td>Soul People</td>\n",
       "      <td>Space Echo</td>\n",
       "      <td>dance</td>\n",
       "      <td>Moscow</td>\n",
       "      <td>08:34:34</td>\n",
       "      <td>Monday</td>\n",
       "    </tr>\n",
       "    <tr>\n",
       "      <th>5</th>\n",
       "      <td>842029A1</td>\n",
       "      <td>Преданная</td>\n",
       "      <td>IMPERVTOR</td>\n",
       "      <td>rusrap</td>\n",
       "      <td>Saint-Petersburg</td>\n",
       "      <td>13:09:41</td>\n",
       "      <td>Friday</td>\n",
       "    </tr>\n",
       "    <tr>\n",
       "      <th>6</th>\n",
       "      <td>4CB90AA5</td>\n",
       "      <td>True</td>\n",
       "      <td>Roman Messer</td>\n",
       "      <td>dance</td>\n",
       "      <td>Moscow</td>\n",
       "      <td>13:00:07</td>\n",
       "      <td>Wednesday</td>\n",
       "    </tr>\n",
       "    <tr>\n",
       "      <th>7</th>\n",
       "      <td>F03E1C1F</td>\n",
       "      <td>Feeling This Way</td>\n",
       "      <td>Polina Griffith</td>\n",
       "      <td>dance</td>\n",
       "      <td>Moscow</td>\n",
       "      <td>20:47:49</td>\n",
       "      <td>Wednesday</td>\n",
       "    </tr>\n",
       "    <tr>\n",
       "      <th>8</th>\n",
       "      <td>8FA1D3BE</td>\n",
       "      <td>И вновь продолжается бой</td>\n",
       "      <td>NaN</td>\n",
       "      <td>ruspop</td>\n",
       "      <td>Moscow</td>\n",
       "      <td>09:17:40</td>\n",
       "      <td>Friday</td>\n",
       "    </tr>\n",
       "    <tr>\n",
       "      <th>9</th>\n",
       "      <td>E772D5C0</td>\n",
       "      <td>Pessimist</td>\n",
       "      <td>NaN</td>\n",
       "      <td>dance</td>\n",
       "      <td>Saint-Petersburg</td>\n",
       "      <td>21:20:49</td>\n",
       "      <td>Wednesday</td>\n",
       "    </tr>\n",
       "  </tbody>\n",
       "</table>\n",
       "</div>"
      ],
      "text/plain": [
       "     userID                        Track            artist   genre  \\\n",
       "0  FFB692EC            Kamigata To Boots  The Mass Missile    rock   \n",
       "1  55204538  Delayed Because of Accident  Andreas Rönnberg    rock   \n",
       "2    20EC38            Funiculì funiculà       Mario Lanza     pop   \n",
       "3  A3DD03C9        Dragons in the Sunset        Fire + Ice    folk   \n",
       "4  E2DC1FAE                  Soul People        Space Echo   dance   \n",
       "5  842029A1                    Преданная         IMPERVTOR  rusrap   \n",
       "6  4CB90AA5                         True      Roman Messer   dance   \n",
       "7  F03E1C1F             Feeling This Way   Polina Griffith   dance   \n",
       "8  8FA1D3BE     И вновь продолжается бой               NaN  ruspop   \n",
       "9  E772D5C0                    Pessimist               NaN   dance   \n",
       "\n",
       "             City        time        Day  \n",
       "0  Saint-Petersburg  20:28:33  Wednesday  \n",
       "1            Moscow  14:07:09     Friday  \n",
       "2  Saint-Petersburg  20:58:07  Wednesday  \n",
       "3  Saint-Petersburg  08:37:09     Monday  \n",
       "4            Moscow  08:34:34     Monday  \n",
       "5  Saint-Petersburg  13:09:41     Friday  \n",
       "6            Moscow  13:00:07  Wednesday  \n",
       "7            Moscow  20:47:49  Wednesday  \n",
       "8            Moscow  09:17:40     Friday  \n",
       "9  Saint-Petersburg  21:20:49  Wednesday  "
      ]
     },
     "metadata": {},
     "output_type": "display_data"
    }
   ],
   "source": [
    "display(df.head(10)) # получение первых 10 строк таблицы df"
   ]
  },
  {
   "cell_type": "markdown",
   "metadata": {
    "id": "EO73Kwic_Zct"
   },
   "source": [
    "Получим общую информацию о таблице:"
   ]
  },
  {
   "cell_type": "code",
   "execution_count": 4,
   "metadata": {
    "id": "DSf2kIb-_Zct"
   },
   "outputs": [
    {
     "name": "stdout",
     "output_type": "stream",
     "text": [
      "<class 'pandas.core.frame.DataFrame'>\n",
      "RangeIndex: 65079 entries, 0 to 65078\n",
      "Data columns (total 7 columns):\n",
      " #   Column    Non-Null Count  Dtype \n",
      "---  ------    --------------  ----- \n",
      " 0     userID  65079 non-null  object\n",
      " 1   Track     63848 non-null  object\n",
      " 2   artist    57876 non-null  object\n",
      " 3   genre     63881 non-null  object\n",
      " 4     City    65079 non-null  object\n",
      " 5   time      65079 non-null  object\n",
      " 6   Day       65079 non-null  object\n",
      "dtypes: object(7)\n",
      "memory usage: 3.5+ MB\n"
     ]
    }
   ],
   "source": [
    "df.info() # получение общей информации о данных в таблице df"
   ]
  },
  {
   "cell_type": "markdown",
   "metadata": {
    "id": "TaQ2Iwbr_Zct"
   },
   "source": [
    "Итак, в таблице семь столбцов. Тип данных во всех столбцах — `object`.\n",
    "\n",
    "В названиях колонок видны три нарушения стиля:\n",
    "1. Строчные буквы сочетаются с прописными.\n",
    "2. Встречаются пробелы.\n",
    "3. Есть слитное написание нескольких слов.\n",
    "\n",
    "\n",
    "\n",
    "Количество значений в столбцах различается. Значит, в данных есть пропущенные значения.\n"
   ]
  },
  {
   "cell_type": "markdown",
   "metadata": {
    "id": "MCB6-dXG_Zct"
   },
   "source": [
    "**Выводы**\n",
    "\n",
    "В каждой строке таблицы — данные о прослушанном треке. Часть колонок описывает саму композицию: название, исполнителя и жанр. Остальные данные рассказывают о пользователе: из какого он города, когда он слушал музыку. \n",
    "\n",
    "Предварительно можно утверждать, что, данных достаточно для проверки гипотез. Но встречаются пропуски в данных, а в названиях колонок — расхождения с хорошим стилем.\n",
    "\n",
    "Чтобы двигаться дальше, нужно устранить проблемы в данных."
   ]
  },
  {
   "cell_type": "markdown",
   "metadata": {
    "id": "SjYF6Ub9_Zct"
   },
   "source": [
    "## Предобработка данных"
   ]
  },
  {
   "cell_type": "markdown",
   "metadata": {
    "id": "dIaKXr29_Zct"
   },
   "source": [
    "### Стиль заголовков"
   ]
  },
  {
   "cell_type": "code",
   "execution_count": 5,
   "metadata": {
    "id": "oKOTdF_Q_Zct"
   },
   "outputs": [
    {
     "data": {
      "text/plain": [
       "Index(['  userID', 'Track', 'artist', 'genre', '  City  ', 'time', 'Day'], dtype='object')"
      ]
     },
     "execution_count": 5,
     "metadata": {},
     "output_type": "execute_result"
    }
   ],
   "source": [
    "df.columns # перечень названий столбцов таблицы df"
   ]
  },
  {
   "cell_type": "markdown",
   "metadata": {
    "id": "zj5534cv_Zct"
   },
   "source": [
    "Приведем названия в соответствие с хорошим стилем.\n",
    "\n",
    "Для этого переименуем колонки так:\n",
    "* `'  userID'` → `'user_id'`;\n",
    "* `'Track'` → `'track'`;\n",
    "* `'  City  '` → `'city'`;\n",
    "* `'Day'` → `'day'`."
   ]
  },
  {
   "cell_type": "code",
   "execution_count": 6,
   "metadata": {
    "id": "ISlFqs5y_Zct"
   },
   "outputs": [],
   "source": [
    "df = df.rename(columns={'  userID': 'user_id', \n",
    "                        'Track': 'track', \n",
    "                        '  City  ': 'city', \n",
    "                        'Day': 'day'}) # переименование столбцов"
   ]
  },
  {
   "cell_type": "code",
   "execution_count": 7,
   "metadata": {
    "id": "d4NOAmTW_Zct"
   },
   "outputs": [
    {
     "data": {
      "text/plain": [
       "Index(['user_id', 'track', 'artist', 'genre', 'city', 'time', 'day'], dtype='object')"
      ]
     },
     "execution_count": 7,
     "metadata": {},
     "output_type": "execute_result"
    }
   ],
   "source": [
    "df.columns # проверка результатов - перечень названий столбцов"
   ]
  },
  {
   "cell_type": "markdown",
   "metadata": {
    "id": "5ISfbcfY_Zct"
   },
   "source": [
    "### Пропуски значений"
   ]
  },
  {
   "cell_type": "code",
   "execution_count": 8,
   "metadata": {
    "id": "RskX29qr_Zct"
   },
   "outputs": [
    {
     "name": "stdout",
     "output_type": "stream",
     "text": [
      "user_id       0\n",
      "track      1231\n",
      "artist     7203\n",
      "genre      1198\n",
      "city          0\n",
      "time          0\n",
      "day           0\n",
      "dtype: int64\n"
     ]
    }
   ],
   "source": [
    "print(df.isna().sum()) # подсчёт пропусков"
   ]
  },
  {
   "cell_type": "markdown",
   "metadata": {
    "id": "qubhgnlO_Zct"
   },
   "source": [
    "Не все пропущенные значения влияют на исследование. Так в `track` и `artist` пропуски не важны в рамках данной работы. Достаточно заменить их явными обозначениями.\n",
    "\n",
    "Но пропуски в `genre` могут помешать сравнению музыкальных вкусов в Москве и Санкт-Петербурге. Придётся:\n",
    "* заполнить и эти пропуски явными обозначениями,\n",
    "* оценить, насколько они повредят расчётам. "
   ]
  },
  {
   "cell_type": "code",
   "execution_count": 9,
   "metadata": {
    "id": "KplB5qWs_Zct"
   },
   "outputs": [],
   "source": [
    "columns_to_replace = ['track', 'artist', 'genre']# перебор названий столбцов в цикле и замена пропущенных значений на 'unknown'\n",
    "for name in columns_to_replace:\n",
    "    df[name] = df[name].fillna('unknown')"
   ]
  },
  {
   "cell_type": "markdown",
   "metadata": {
    "id": "Ilsm-MZo_Zct"
   },
   "source": [
    "Убедимся, что в таблице не осталось пропусков. Для этого ещё раз посчитаем пропущенные значения."
   ]
  },
  {
   "cell_type": "code",
   "execution_count": 10,
   "metadata": {
    "id": "Tq4nYRX4_Zct"
   },
   "outputs": [
    {
     "name": "stdout",
     "output_type": "stream",
     "text": [
      "user_id    0\n",
      "track      0\n",
      "artist     0\n",
      "genre      0\n",
      "city       0\n",
      "time       0\n",
      "day        0\n",
      "dtype: int64\n"
     ]
    }
   ],
   "source": [
    "print(df.isna().sum()) # подсчёт пропусков"
   ]
  },
  {
   "cell_type": "markdown",
   "metadata": {
    "id": "BWKRtBJ3_Zct"
   },
   "source": [
    "### Дубликаты"
   ]
  },
  {
   "cell_type": "code",
   "execution_count": 11,
   "metadata": {
    "id": "36eES_S0_Zct"
   },
   "outputs": [
    {
     "name": "stdout",
     "output_type": "stream",
     "text": [
      "3826\n"
     ]
    }
   ],
   "source": [
    "print(df.duplicated().sum()) # подсчёт явных дубликатов"
   ]
  },
  {
   "cell_type": "markdown",
   "metadata": {
    "id": "Ot25h6XR_Zct"
   },
   "source": [
    "Вызовем специальный метод `pandas`, чтобы удалить явные дубликаты:"
   ]
  },
  {
   "cell_type": "code",
   "execution_count": 12,
   "metadata": {
    "id": "exFHq6tt_Zct"
   },
   "outputs": [],
   "source": [
    "df = df.drop_duplicates().reset_index(drop=True) # удаление явных дубликатов "
   ]
  },
  {
   "cell_type": "markdown",
   "metadata": {
    "id": "Im2YwBEG_Zct"
   },
   "source": [
    "Ещё раз посчитаем явные дубликаты в таблице — убедимся, что полностью от них избавились:"
   ]
  },
  {
   "cell_type": "code",
   "execution_count": 13,
   "metadata": {
    "id": "-8PuNWQ0_Zct"
   },
   "outputs": [
    {
     "name": "stdout",
     "output_type": "stream",
     "text": [
      "0\n"
     ]
    }
   ],
   "source": [
    "print(df.duplicated().sum()) # проверка на отсутствие дубликатов"
   ]
  },
  {
   "cell_type": "markdown",
   "metadata": {
    "id": "QlFBsxAr_Zct"
   },
   "source": [
    "Теперь избавимся от неявных дубликатов в колонке `genre`. Например, название одного и того же жанра может быть записано немного по-разному. Такие ошибки тоже повлияют на результат исследования."
   ]
  },
  {
   "cell_type": "code",
   "execution_count": 14,
   "metadata": {
    "id": "JIUcqzZN_Zct"
   },
   "outputs": [
    {
     "name": "stdout",
     "output_type": "stream",
     "text": [
      "['acid' 'acoustic' 'action' 'adult' 'africa' 'afrikaans' 'alternative'\n",
      " 'alternativepunk' 'ambient' 'americana' 'animated' 'anime' 'arabesk'\n",
      " 'arabic' 'arena' 'argentinetango' 'art' 'audiobook' 'author' 'avantgarde'\n",
      " 'axé' 'baile' 'balkan' 'beats' 'bigroom' 'black' 'bluegrass' 'blues'\n",
      " 'bollywood' 'bossa' 'brazilian' 'breakbeat' 'breaks' 'broadway'\n",
      " 'cantautori' 'cantopop' 'canzone' 'caribbean' 'caucasian' 'celtic'\n",
      " 'chamber' 'chanson' 'children' 'chill' 'chinese' 'choral' 'christian'\n",
      " 'christmas' 'classical' 'classicmetal' 'club' 'colombian' 'comedy'\n",
      " 'conjazz' 'contemporary' 'country' 'cuban' 'dance' 'dancehall' 'dancepop'\n",
      " 'dark' 'death' 'deep' 'deutschrock' 'deutschspr' 'dirty' 'disco' 'dnb'\n",
      " 'documentary' 'downbeat' 'downtempo' 'drum' 'dub' 'dubstep' 'eastern'\n",
      " 'easy' 'electronic' 'electropop' 'emo' 'entehno' 'epicmetal' 'estrada'\n",
      " 'ethnic' 'eurofolk' 'european' 'experimental' 'extrememetal' 'fado'\n",
      " 'fairytail' 'film' 'fitness' 'flamenco' 'folk' 'folklore' 'folkmetal'\n",
      " 'folkrock' 'folktronica' 'forró' 'frankreich' 'französisch' 'french'\n",
      " 'funk' 'future' 'gangsta' 'garage' 'german' 'ghazal' 'gitarre' 'glitch'\n",
      " 'gospel' 'gothic' 'grime' 'grunge' 'gypsy' 'handsup' \"hard'n'heavy\"\n",
      " 'hardcore' 'hardstyle' 'hardtechno' 'hip' 'hip-hop' 'hiphop' 'historisch'\n",
      " 'holiday' 'hop' 'horror' 'house' 'hymn' 'idm' 'independent' 'indian'\n",
      " 'indie' 'indipop' 'industrial' 'inspirational' 'instrumental'\n",
      " 'international' 'irish' 'jam' 'japanese' 'jazz' 'jewish' 'jpop' 'jungle'\n",
      " 'k-pop' 'karadeniz' 'karaoke' 'kayokyoku' 'korean' 'laiko' 'latin'\n",
      " 'latino' 'leftfield' 'local' 'lounge' 'loungeelectronic' 'lovers'\n",
      " 'malaysian' 'mandopop' 'marschmusik' 'meditative' 'mediterranean'\n",
      " 'melodic' 'metal' 'metalcore' 'mexican' 'middle' 'minimal'\n",
      " 'miscellaneous' 'modern' 'mood' 'mpb' 'muslim' 'native' 'neoklassik'\n",
      " 'neue' 'new' 'newage' 'newwave' 'nu' 'nujazz' 'numetal' 'oceania' 'old'\n",
      " 'opera' 'orchestral' 'other' 'piano' 'podcasts' 'pop' 'popdance'\n",
      " 'popelectronic' 'popeurodance' 'poprussian' 'post' 'posthardcore'\n",
      " 'postrock' 'power' 'progmetal' 'progressive' 'psychedelic' 'punjabi'\n",
      " 'punk' 'quebecois' 'ragga' 'ram' 'rancheras' 'rap' 'rave' 'reggae'\n",
      " 'reggaeton' 'regional' 'relax' 'religious' 'retro' 'rhythm' 'rnb' 'rnr'\n",
      " 'rock' 'rockabilly' 'rockalternative' 'rockindie' 'rockother' 'romance'\n",
      " 'roots' 'ruspop' 'rusrap' 'rusrock' 'russian' 'salsa' 'samba' 'scenic'\n",
      " 'schlager' 'self' 'sertanejo' 'shanson' 'shoegazing' 'showtunes' 'singer'\n",
      " 'ska' 'skarock' 'slow' 'smooth' 'soft' 'soul' 'soulful' 'sound'\n",
      " 'soundtrack' 'southern' 'specialty' 'speech' 'spiritual' 'sport'\n",
      " 'stonerrock' 'surf' 'swing' 'synthpop' 'synthrock' 'sängerportrait'\n",
      " 'tango' 'tanzorchester' 'taraftar' 'tatar' 'tech' 'techno' 'teen'\n",
      " 'thrash' 'top' 'traditional' 'tradjazz' 'trance' 'tribal' 'trip'\n",
      " 'triphop' 'tropical' 'türk' 'türkçe' 'ukrrock' 'unknown' 'urban' 'uzbek'\n",
      " 'variété' 'vi' 'videogame' 'vocal' 'western' 'world' 'worldbeat' 'ïîï'\n",
      " 'электроника']\n"
     ]
    }
   ],
   "source": [
    "print(df['genre'].sort_values().unique()) # просмотр уникальных названий жанров"
   ]
  },
  {
   "cell_type": "markdown",
   "metadata": {
    "id": "qej-Qmuo_Zct"
   },
   "source": [
    "Были найдены неявные дубликаты названия `hiphop`:\n",
    "* *hip*,\n",
    "* *hop*,\n",
    "* *hip-hop*.\n",
    "\n",
    "Чтобы очистить от них таблицу, напишем функцию `replace_wrong_genres()` с двумя параметрами: \n",
    "* `wrong_genres` — список дубликатов,\n",
    "* `correct_genre` — строка с правильным значением.\n",
    "\n",
    "Функция должна исправить колонку `genre` в таблице `df`: заменить каждое значение из списка `wrong_genres` на значение из `correct_genre`."
   ]
  },
  {
   "cell_type": "code",
   "execution_count": 15,
   "metadata": {
    "id": "ErNDkmns_Zct"
   },
   "outputs": [],
   "source": [
    "def replace_wrong_genres(wrong_genres, correct_genre): # функция для замены неявных дубликатов\n",
    "    for index in range(len(df['genre'])):\n",
    "        if df['genre'][index] in wrong_genres:\n",
    "            df['genre'][index] = df['genre'][index].replace(df['genre'][index], correct_genre)\n",
    "    "
   ]
  },
  {
   "cell_type": "code",
   "execution_count": 16,
   "metadata": {
    "id": "YN5i2hpmSo09"
   },
   "outputs": [],
   "source": [
    "replace_wrong_genres(wrong_genres=['hip', 'hop', 'hip-hop'], \n",
    "                     correct_genre='hiphop') # устранение неявных дубликатов"
   ]
  },
  {
   "cell_type": "markdown",
   "metadata": {
    "id": "zQKF16_RG15m"
   },
   "source": [
    "Проверим, что заменили неправильные названия:"
   ]
  },
  {
   "cell_type": "code",
   "execution_count": 17,
   "metadata": {
    "id": "wvixALnFG15m"
   },
   "outputs": [
    {
     "name": "stdout",
     "output_type": "stream",
     "text": [
      "['acid' 'acoustic' 'action' 'adult' 'africa' 'afrikaans' 'alternative'\n",
      " 'alternativepunk' 'ambient' 'americana' 'animated' 'anime' 'arabesk'\n",
      " 'arabic' 'arena' 'argentinetango' 'art' 'audiobook' 'author' 'avantgarde'\n",
      " 'axé' 'baile' 'balkan' 'beats' 'bigroom' 'black' 'bluegrass' 'blues'\n",
      " 'bollywood' 'bossa' 'brazilian' 'breakbeat' 'breaks' 'broadway'\n",
      " 'cantautori' 'cantopop' 'canzone' 'caribbean' 'caucasian' 'celtic'\n",
      " 'chamber' 'chanson' 'children' 'chill' 'chinese' 'choral' 'christian'\n",
      " 'christmas' 'classical' 'classicmetal' 'club' 'colombian' 'comedy'\n",
      " 'conjazz' 'contemporary' 'country' 'cuban' 'dance' 'dancehall' 'dancepop'\n",
      " 'dark' 'death' 'deep' 'deutschrock' 'deutschspr' 'dirty' 'disco' 'dnb'\n",
      " 'documentary' 'downbeat' 'downtempo' 'drum' 'dub' 'dubstep' 'eastern'\n",
      " 'easy' 'electronic' 'electropop' 'emo' 'entehno' 'epicmetal' 'estrada'\n",
      " 'ethnic' 'eurofolk' 'european' 'experimental' 'extrememetal' 'fado'\n",
      " 'fairytail' 'film' 'fitness' 'flamenco' 'folk' 'folklore' 'folkmetal'\n",
      " 'folkrock' 'folktronica' 'forró' 'frankreich' 'französisch' 'french'\n",
      " 'funk' 'future' 'gangsta' 'garage' 'german' 'ghazal' 'gitarre' 'glitch'\n",
      " 'gospel' 'gothic' 'grime' 'grunge' 'gypsy' 'handsup' \"hard'n'heavy\"\n",
      " 'hardcore' 'hardstyle' 'hardtechno' 'hiphop' 'historisch' 'holiday'\n",
      " 'horror' 'house' 'hymn' 'idm' 'independent' 'indian' 'indie' 'indipop'\n",
      " 'industrial' 'inspirational' 'instrumental' 'international' 'irish' 'jam'\n",
      " 'japanese' 'jazz' 'jewish' 'jpop' 'jungle' 'k-pop' 'karadeniz' 'karaoke'\n",
      " 'kayokyoku' 'korean' 'laiko' 'latin' 'latino' 'leftfield' 'local'\n",
      " 'lounge' 'loungeelectronic' 'lovers' 'malaysian' 'mandopop' 'marschmusik'\n",
      " 'meditative' 'mediterranean' 'melodic' 'metal' 'metalcore' 'mexican'\n",
      " 'middle' 'minimal' 'miscellaneous' 'modern' 'mood' 'mpb' 'muslim'\n",
      " 'native' 'neoklassik' 'neue' 'new' 'newage' 'newwave' 'nu' 'nujazz'\n",
      " 'numetal' 'oceania' 'old' 'opera' 'orchestral' 'other' 'piano' 'podcasts'\n",
      " 'pop' 'popdance' 'popelectronic' 'popeurodance' 'poprussian' 'post'\n",
      " 'posthardcore' 'postrock' 'power' 'progmetal' 'progressive' 'psychedelic'\n",
      " 'punjabi' 'punk' 'quebecois' 'ragga' 'ram' 'rancheras' 'rap' 'rave'\n",
      " 'reggae' 'reggaeton' 'regional' 'relax' 'religious' 'retro' 'rhythm'\n",
      " 'rnb' 'rnr' 'rock' 'rockabilly' 'rockalternative' 'rockindie' 'rockother'\n",
      " 'romance' 'roots' 'ruspop' 'rusrap' 'rusrock' 'russian' 'salsa' 'samba'\n",
      " 'scenic' 'schlager' 'self' 'sertanejo' 'shanson' 'shoegazing' 'showtunes'\n",
      " 'singer' 'ska' 'skarock' 'slow' 'smooth' 'soft' 'soul' 'soulful' 'sound'\n",
      " 'soundtrack' 'southern' 'specialty' 'speech' 'spiritual' 'sport'\n",
      " 'stonerrock' 'surf' 'swing' 'synthpop' 'synthrock' 'sängerportrait'\n",
      " 'tango' 'tanzorchester' 'taraftar' 'tatar' 'tech' 'techno' 'teen'\n",
      " 'thrash' 'top' 'traditional' 'tradjazz' 'trance' 'tribal' 'trip'\n",
      " 'triphop' 'tropical' 'türk' 'türkçe' 'ukrrock' 'unknown' 'urban' 'uzbek'\n",
      " 'variété' 'vi' 'videogame' 'vocal' 'western' 'world' 'worldbeat' 'ïîï'\n",
      " 'электроника']\n"
     ]
    }
   ],
   "source": [
    "print(df['genre'].sort_values().unique()) # проверка на неявные дубликаты"
   ]
  },
  {
   "cell_type": "markdown",
   "metadata": {
    "id": "jz6a9-7HQUDd"
   },
   "source": [
    "**Выводы**\n",
    "\n",
    "На этапе предобработки были обнаружены три проблемы в данных:\n",
    "\n",
    "- нарушения в стиле заголовков,\n",
    "- пропущенные значения,\n",
    "- дубликаты — явные и неявные.\n",
    "\n",
    "Заголовки были исправлены, чтобы упростить работу с таблицей. Без дубликатов исследование станет более точным.\n",
    "\n",
    "Пропущенные значения были заменены на `'unknown'`. Ещё предстоит увидеть, не повредят ли исследованию пропуски в колонке `genre`.\n",
    "\n",
    "Теперь можно перейти к проверке гипотез. "
   ]
  },
  {
   "cell_type": "markdown",
   "metadata": {
    "id": "WttZHXH0SqKk"
   },
   "source": [
    "## Проверка гипотез"
   ]
  },
  {
   "cell_type": "markdown",
   "metadata": {
    "id": "Im936VVi_Zcu"
   },
   "source": [
    "### Сравнение поведения пользователей двух столиц"
   ]
  },
  {
   "cell_type": "markdown",
   "metadata": {
    "id": "nwt_MuaL_Zcu"
   },
   "source": [
    "Первая гипотеза утверждает, что пользователи по-разному слушают музыку в Москве и Санкт-Петербурге. Проверим это предположение по данным о трёх днях недели — понедельнике, среде и пятнице. Для этого:\n",
    "\n",
    "* Разделим пользователей Москвы и Санкт-Петербурга\n",
    "* Сравним, сколько треков послушала каждая группа пользователей в понедельник, среду и пятницу.\n"
   ]
  },
  {
   "cell_type": "markdown",
   "metadata": {
    "id": "8Dw_YMmT_Zcu"
   },
   "source": [
    "Оценим активность пользователей в каждом городе. Сгруппируем данные по городу и посчитаем прослушивания в каждой группе."
   ]
  },
  {
   "cell_type": "code",
   "execution_count": 18,
   "metadata": {
    "id": "0_Qs96oh_Zcu"
   },
   "outputs": [
    {
     "data": {
      "text/plain": [
       "city\n",
       "Moscow              42741\n",
       "Saint-Petersburg    18512\n",
       "Name: track, dtype: int64"
      ]
     },
     "metadata": {},
     "output_type": "display_data"
    }
   ],
   "source": [
    "display(df.groupby('city')['track'].count()) # подсчёт прослушиваний в каждом городе"
   ]
  },
  {
   "cell_type": "markdown",
   "metadata": {
    "id": "dzli3w8o_Zcu"
   },
   "source": [
    "В Москве прослушиваний больше, чем в Петербурге. Из этого не следует, что московские пользователи чаще слушают музыку. Просто самих пользователей в Москве больше.\n",
    "\n",
    "Теперь сгруппируем данные по дню недели и подсчитаем прослушивания в понедельник, среду и пятницу. Учтем, что в данных есть информация только о прослушиваниях за эти дни."
   ]
  },
  {
   "cell_type": "code",
   "execution_count": 19,
   "metadata": {
    "id": "uZMKjiJz_Zcu"
   },
   "outputs": [
    {
     "data": {
      "text/plain": [
       "day\n",
       "Friday       21840\n",
       "Monday       21354\n",
       "Wednesday    18059\n",
       "Name: track, dtype: int64"
      ]
     },
     "metadata": {},
     "output_type": "display_data"
    }
   ],
   "source": [
    "display(df.groupby('day')['track'].count()) # подсчёт прослушиваний в каждый из трёх дней"
   ]
  },
  {
   "cell_type": "markdown",
   "metadata": {
    "id": "cC2tNrlL_Zcu"
   },
   "source": [
    "В среднем пользователи из двух городов менее активны по средам. Но картина может измениться, если рассмотреть каждый город в отдельности."
   ]
  },
  {
   "cell_type": "markdown",
   "metadata": {
    "id": "POzs8bGa_Zcu"
   },
   "source": [
    "Создадим функцию `number_tracks()`, которая посчитает прослушивания для заданного дня и города. Ей понадобятся два параметра:\n",
    "* день недели,\n",
    "* название города."
   ]
  },
  {
   "cell_type": "code",
   "execution_count": 20,
   "metadata": {
    "id": "Nz3GdQB1_Zcu"
   },
   "outputs": [],
   "source": [
    "def number_tracks(day, city):                           # <создание функции number_tracks()>\n",
    "    track_list = df[df['day'] == day]                   # Объявляется функция с двумя параметрами: day, city.    \n",
    "    track_list = track_list[track_list['city'] == city] # В переменной track_list сохраняются те строки таблицы df, для которых \n",
    "    track_list_count = track_list['user_id'].count()    # значение в столбце 'day' равно параметру day и одновременно значение\n",
    "    return(track_list_count)                            # в столбце 'city' равно параметру city (используйте последовательную фильтрацию\n",
    "                                                        # с помощью логической индексации).\n",
    "                                                        # В переменной track_list_count сохраняется число значений столбца 'user_id',\n",
    "                                                        # рассчитанное методом count() для таблицы track_list.\n",
    "                                                        # Функция возвращает число - значение track_list_count.\n",
    "\n",
    "                                                        # Функция для подсчёта прослушиваний для конкретного города и дня.\n",
    "                                                        # С помощью последовательной фильтрации с логической индексацией она \n",
    "                                                        # сначала получит из исходной таблицы строки с нужным днём,\n",
    "                                                        # затем из результата отфильтрует строки с нужным городом,\n",
    "                                                        # методом count() посчитает количество значений в колонке user_id. \n",
    "                                                        # Это количество функция вернёт в качестве результата"
   ]
  },
  {
   "cell_type": "markdown",
   "metadata": {
    "id": "ytf7xFrFJQ2r"
   },
   "source": [
    "Вызовем `number_tracks()` шесть раз, меняя значение параметров — так, чтобы получить данные для каждого города в каждый из трёх дней."
   ]
  },
  {
   "cell_type": "code",
   "execution_count": 21,
   "metadata": {
    "id": "rJcRATNQ_Zcu"
   },
   "outputs": [
    {
     "data": {
      "text/plain": [
       "15740"
      ]
     },
     "execution_count": 21,
     "metadata": {},
     "output_type": "execute_result"
    }
   ],
   "source": [
    "number_tracks('Monday', 'Moscow') # количество прослушиваний в Москве по понедельникам"
   ]
  },
  {
   "cell_type": "code",
   "execution_count": 22,
   "metadata": {
    "id": "hq_ncZ5T_Zcu"
   },
   "outputs": [
    {
     "data": {
      "text/plain": [
       "5614"
      ]
     },
     "execution_count": 22,
     "metadata": {},
     "output_type": "execute_result"
    }
   ],
   "source": [
    "number_tracks('Monday', 'Saint-Petersburg') # количество прослушиваний в Санкт-Петербурге по понедельникам"
   ]
  },
  {
   "cell_type": "code",
   "execution_count": 23,
   "metadata": {
    "id": "_NTy2VPU_Zcu"
   },
   "outputs": [
    {
     "data": {
      "text/plain": [
       "11056"
      ]
     },
     "execution_count": 23,
     "metadata": {},
     "output_type": "execute_result"
    }
   ],
   "source": [
    "number_tracks('Wednesday', 'Moscow') # количество прослушиваний в Москве по средам"
   ]
  },
  {
   "cell_type": "code",
   "execution_count": 24,
   "metadata": {
    "id": "j2y3TAwo_Zcu"
   },
   "outputs": [
    {
     "data": {
      "text/plain": [
       "7003"
      ]
     },
     "execution_count": 24,
     "metadata": {},
     "output_type": "execute_result"
    }
   ],
   "source": [
    "number_tracks('Wednesday', 'Saint-Petersburg') # количество прослушиваний в Санкт-Петербурге по средам"
   ]
  },
  {
   "cell_type": "code",
   "execution_count": 25,
   "metadata": {
    "id": "vYDw5u_K_Zcu"
   },
   "outputs": [
    {
     "data": {
      "text/plain": [
       "15945"
      ]
     },
     "execution_count": 25,
     "metadata": {},
     "output_type": "execute_result"
    }
   ],
   "source": [
    "number_tracks('Friday', 'Moscow') # количество прослушиваний в Москве по пятницам"
   ]
  },
  {
   "cell_type": "code",
   "execution_count": 26,
   "metadata": {
    "id": "8_yzFtW3_Zcu"
   },
   "outputs": [
    {
     "data": {
      "text/plain": [
       "5895"
      ]
     },
     "execution_count": 26,
     "metadata": {},
     "output_type": "execute_result"
    }
   ],
   "source": [
    "number_tracks('Friday', 'Saint-Petersburg') # количество прослушиваний в Санкт-Петербурге по пятницам"
   ]
  },
  {
   "cell_type": "markdown",
   "metadata": {
    "id": "7QXffbO-_Zcu"
   },
   "source": [
    "Создадим c помощью конструктора `pd.DataFrame` таблицу, где\n",
    "* названия колонок — `['city', 'monday', 'wednesday', 'friday']`;\n",
    "* данные — результаты, которые мы получили с помощью `number_tracks`."
   ]
  },
  {
   "cell_type": "code",
   "execution_count": 27,
   "metadata": {
    "id": "APAcLpOr_Zcu"
   },
   "outputs": [
    {
     "data": {
      "text/html": [
       "<div>\n",
       "<style scoped>\n",
       "    .dataframe tbody tr th:only-of-type {\n",
       "        vertical-align: middle;\n",
       "    }\n",
       "\n",
       "    .dataframe tbody tr th {\n",
       "        vertical-align: top;\n",
       "    }\n",
       "\n",
       "    .dataframe thead th {\n",
       "        text-align: right;\n",
       "    }\n",
       "</style>\n",
       "<table border=\"1\" class=\"dataframe\">\n",
       "  <thead>\n",
       "    <tr style=\"text-align: right;\">\n",
       "      <th></th>\n",
       "      <th>city</th>\n",
       "      <th>monday</th>\n",
       "      <th>wednesday</th>\n",
       "      <th>friday</th>\n",
       "    </tr>\n",
       "  </thead>\n",
       "  <tbody>\n",
       "    <tr>\n",
       "      <th>0</th>\n",
       "      <td>Moscow</td>\n",
       "      <td>15740</td>\n",
       "      <td>11056</td>\n",
       "      <td>15945</td>\n",
       "    </tr>\n",
       "    <tr>\n",
       "      <th>1</th>\n",
       "      <td>Saint-Petersburg</td>\n",
       "      <td>5614</td>\n",
       "      <td>7003</td>\n",
       "      <td>5895</td>\n",
       "    </tr>\n",
       "  </tbody>\n",
       "</table>\n",
       "</div>"
      ],
      "text/plain": [
       "               city  monday  wednesday  friday\n",
       "0            Moscow   15740      11056   15945\n",
       "1  Saint-Petersburg    5614       7003    5895"
      ]
     },
     "metadata": {},
     "output_type": "display_data"
    }
   ],
   "source": [
    "data = [['Moscow', 15740, 11056, 15945,], ['Saint-Petersburg', 5614, 7003, 5895]]\n",
    "columns = ['city', 'monday', 'wednesday', 'friday']\n",
    "\n",
    "number_tracks_df = pd.DataFrame(data=data, columns=columns)# Таблица с результатами\n",
    "display(number_tracks_df)"
   ]
  },
  {
   "cell_type": "markdown",
   "metadata": {
    "id": "-EgPIHYu_Zcu"
   },
   "source": [
    "**Выводы**\n",
    "\n",
    "Данные показывают разницу поведения пользователей:\n",
    "\n",
    "- В Москве пик прослушиваний приходится на понедельник и пятницу, а в среду заметен спад.\n",
    "- В Петербурге, наоборот, больше слушают музыку по средам. Активность в понедельник и пятницу здесь почти в равной мере уступает среде.\n",
    "\n",
    "Значит, данные говорят в пользу первой гипотезы."
   ]
  },
  {
   "cell_type": "markdown",
   "metadata": {
    "id": "atZAxtq4_Zcu"
   },
   "source": [
    "### Музыка в начале и в конце недели"
   ]
  },
  {
   "cell_type": "markdown",
   "metadata": {
    "id": "eXrQqXFH_Zcu"
   },
   "source": [
    "Согласно второй гипотезе, утром в понедельник в Москве преобладают одни жанры, а в Петербурге — другие. Так же и вечером пятницы преобладают разные жанры — в зависимости от города."
   ]
  },
  {
   "cell_type": "markdown",
   "metadata": {
    "id": "S8UcW6Hw_Zcu"
   },
   "source": [
    "Сохраним таблицы с данными в две переменные:\n",
    "* по Москве — в `moscow_general`;\n",
    "* по Санкт-Петербургу — в `spb_general`."
   ]
  },
  {
   "cell_type": "code",
   "execution_count": 28,
   "metadata": {
    "id": "qeaFfM_P_Zcu"
   },
   "outputs": [],
   "source": [
    "moscow_general = df[df['city'] == 'Moscow'] # получение таблицы moscow_general из тех строк таблицы df, \n",
    "                                            # для которых значение в столбце 'city' равно 'Moscow'\n"
   ]
  },
  {
   "cell_type": "code",
   "execution_count": 29,
   "metadata": {
    "id": "ORaVRKto_Zcu"
   },
   "outputs": [],
   "source": [
    "spb_general = df[df['city'] == 'Saint-Petersburg'] # получение таблицы spb_general из тех строк таблицы df,\n",
    "                                                   # для которых значение в столбце 'city' равно 'Saint-Petersburg'\n"
   ]
  },
  {
   "cell_type": "markdown",
   "metadata": {
    "id": "MEJV-CX2_Zcu"
   },
   "source": [
    "Создадим функцию `genre_weekday()` с четырьмя параметрами:\n",
    "* таблица (датафрейм) с данными,\n",
    "* день недели,\n",
    "* начальная временная метка в формате 'hh:mm', \n",
    "* последняя временная метка в формате 'hh:mm'.\n",
    "\n",
    "Функция должна вернуть информацию о топ-10 жанров тех треков, которые прослушивали в указанный день, в промежутке между двумя отметками времени."
   ]
  },
  {
   "cell_type": "code",
   "execution_count": 30,
   "metadata": {
    "id": "laJT9BYl_Zcu"
   },
   "outputs": [],
   "source": [
    "def genre_weekday(table, day, time1, time2):                      # Объявление функции genre_weekday() с параметрами table, day, time1, time2,\n",
    "    genre_df = table[table['day'] == day]                         # которая возвращает информацию о самых популярных жанрах в указанный день в\n",
    "    genre_df = genre_df[genre_df['time'] > time1]                 # заданное время:\n",
    "    genre_df = genre_df[genre_df['time'] < time2]                 # 1) в переменную genre_df сохраняются те строки переданного датафрейма table, для\n",
    "    genre_df_count = genre_df.groupby('genre')['genre'].count()   #    которых одновременно:\n",
    "    genre_df_sorted = genre_df_count.sort_values(ascending=False) #    - значение в столбце day равно значению аргумента day\n",
    "    return(genre_df_sorted.head(10))                              #    - значение в столбце time больше значения аргумента time1\n",
    "                                                                  #    - значение в столбце time меньше значения аргумента time2\n",
    "                                                                  #    Используйте последовательную фильтрацию с помощью логической индексации.\n",
    "                                                                  # 2) сгруппировать датафрейм genre_df по столбцу genre, взять один из его\n",
    "                                                                  #    столбцов и посчитать методом count() количество записей для каждого из\n",
    "                                                                  #    присутствующих жанров, получившийся Series записать в переменную\n",
    "                                                                  #    genre_df_count\n",
    "                                                                  # 3) отсортировать genre_df_count по убыванию встречаемости и сохранить\n",
    "                                                                  #    в переменную genre_df_sorted\n",
    "                                                                  # 4) вернуть Series из 10 первых значений genre_df_sorted, это будут топ-10\n",
    "                                                                  #    популярных жанров (в указанный день, в заданное время)"
   ]
  },
  {
   "cell_type": "markdown",
   "metadata": {
    "id": "la2s2_PF_Zcu"
   },
   "source": [
    "Cравним результаты функции `genre_weekday()` для Москвы и Санкт-Петербурга в понедельник утром (с 7:00 до 11:00) и в пятницу вечером (с 17:00 до 23:00):"
   ]
  },
  {
   "cell_type": "code",
   "execution_count": 31,
   "metadata": {
    "id": "yz7itPUQ_Zcu"
   },
   "outputs": [
    {
     "data": {
      "text/plain": [
       "genre\n",
       "pop            781\n",
       "dance          549\n",
       "electronic     480\n",
       "rock           474\n",
       "hiphop         286\n",
       "ruspop         186\n",
       "world          181\n",
       "rusrap         175\n",
       "alternative    164\n",
       "unknown        161\n",
       "Name: genre, dtype: int64"
      ]
     },
     "execution_count": 31,
     "metadata": {},
     "output_type": "execute_result"
    }
   ],
   "source": [
    "genre_weekday(moscow_general, 'Monday', '07:00', '11:00') # вызов функции для утра понедельника в Москве (вместо df — таблица moscow_general)\n",
    "                                                          # объекты, хранящие время, являются строками и сравниваются как строки\n",
    "                                                          # пример вызова: genre_weekday(moscow_general, 'Monday', '07:00', '11:00')"
   ]
  },
  {
   "cell_type": "code",
   "execution_count": 32,
   "metadata": {
    "id": "kwUcHPdy_Zcu"
   },
   "outputs": [
    {
     "data": {
      "text/plain": [
       "genre\n",
       "pop            218\n",
       "dance          182\n",
       "rock           162\n",
       "electronic     147\n",
       "hiphop          80\n",
       "ruspop          64\n",
       "alternative     58\n",
       "rusrap          55\n",
       "jazz            44\n",
       "classical       40\n",
       "Name: genre, dtype: int64"
      ]
     },
     "execution_count": 32,
     "metadata": {},
     "output_type": "execute_result"
    }
   ],
   "source": [
    "genre_weekday(spb_general, 'Monday', '07:00', '11:00') # вызов функции для утра понедельника в Петербурге (вместо df — таблица spb_general)"
   ]
  },
  {
   "cell_type": "code",
   "execution_count": 33,
   "metadata": {
    "id": "EzXVRE1o_Zcu"
   },
   "outputs": [
    {
     "data": {
      "text/plain": [
       "genre\n",
       "pop            713\n",
       "rock           517\n",
       "dance          495\n",
       "electronic     482\n",
       "hiphop         273\n",
       "world          208\n",
       "ruspop         170\n",
       "alternative    163\n",
       "classical      163\n",
       "rusrap         142\n",
       "Name: genre, dtype: int64"
      ]
     },
     "execution_count": 33,
     "metadata": {},
     "output_type": "execute_result"
    }
   ],
   "source": [
    "genre_weekday(moscow_general, 'Friday', '17:00', '23:00') # вызов функции для вечера пятницы в Москве"
   ]
  },
  {
   "cell_type": "code",
   "execution_count": 34,
   "metadata": {
    "id": "JZaEKu5v_Zcu"
   },
   "outputs": [
    {
     "data": {
      "text/plain": [
       "genre\n",
       "pop            256\n",
       "electronic     216\n",
       "rock           216\n",
       "dance          210\n",
       "hiphop          97\n",
       "alternative     63\n",
       "jazz            61\n",
       "classical       60\n",
       "rusrap          59\n",
       "world           54\n",
       "Name: genre, dtype: int64"
      ]
     },
     "execution_count": 34,
     "metadata": {},
     "output_type": "execute_result"
    }
   ],
   "source": [
    "genre_weekday(spb_general, 'Friday', '17:00', '23:00') # вызов функции для вечера пятницы в Петербурге"
   ]
  },
  {
   "cell_type": "markdown",
   "metadata": {
    "id": "wrCe4MNX_Zcu"
   },
   "source": [
    "**Выводы**\n",
    "\n",
    "Если сравнить топ-10 жанров в понедельник утром, можно сделать такие выводы:\n",
    "\n",
    "1. В Москве и Петербурге слушают похожую музыку. Единственное отличие — в московский рейтинг вошёл жанр “world”, а в петербургский — джаз и классика.\n",
    "\n",
    "2. В Москве пропущенных значений оказалось так много, что значение `'unknown'` заняло десятое место среди самых популярных жанров. Значит, пропущенные значения занимают существенную долю в данных и угрожают достоверности исследования.\n",
    "\n",
    "Вечер пятницы не меняет эту картину. Некоторые жанры поднимаются немного выше, другие спускаются, но в целом топ-10 остаётся тем же самым.\n",
    "\n",
    "Таким образом, вторая гипотеза подтвердилась лишь частично:\n",
    "* Пользователи слушают похожую музыку в начале недели и в конце.\n",
    "* Разница между Москвой и Петербургом не слишком выражена. В Москве чаще слушают русскую популярную музыку, в Петербурге — джаз.\n",
    "\n",
    "Однако пропуски в данных ставят под сомнение этот результат. В Москве их так много, что рейтинг топ-10 мог бы выглядеть иначе, если бы не утерянные  данные о жанрах."
   ]
  },
  {
   "cell_type": "markdown",
   "metadata": {
    "id": "JolODAqr_Zcu"
   },
   "source": [
    "### Жанровые предпочтения в Москве и Петербурге\n",
    "\n",
    "Гипотеза: Петербург — столица рэпа, музыку этого жанра там слушают чаще, чем в Москве.  А Москва — город контрастов, в котором, тем не менее, преобладает поп-музыка."
   ]
  },
  {
   "cell_type": "markdown",
   "metadata": {
    "id": "DlegSvaT_Zcu"
   },
   "source": [
    "Сгруппируем таблицу `moscow_general` по жанру и посчитаем прослушивания треков каждого жанра методом `count()`. Затем отсортируем результат в порядке убывания и сохраним его в таблице `moscow_genres`."
   ]
  },
  {
   "cell_type": "code",
   "execution_count": 35,
   "metadata": {
    "id": "r19lIPke_Zcu"
   },
   "outputs": [],
   "source": [
    "moscow_genres = moscow_general.groupby('genre')['genre'].count().sort_values(ascending=False) # одной строкой: группировка таблицы moscow_general по столбцу 'genre', \n",
    "                                                                                              # подсчёт числа значений 'genre' в этой группировке методом count(), \n",
    "                                                                                              # сортировка получившегося Series в порядке убывания и сохранение в moscow_genres"
   ]
  },
  {
   "cell_type": "markdown",
   "metadata": {
    "id": "6kMuomxTiIr8"
   },
   "source": [
    "Выведем на экран первые десять строк `moscow_genres`:"
   ]
  },
  {
   "cell_type": "code",
   "execution_count": 36,
   "metadata": {
    "id": "WhCSooF8_Zcv"
   },
   "outputs": [
    {
     "name": "stdout",
     "output_type": "stream",
     "text": [
      "genre\n",
      "pop            5892\n",
      "dance          4435\n",
      "rock           3965\n",
      "electronic     3786\n",
      "hiphop         2096\n",
      "classical      1616\n",
      "world          1432\n",
      "alternative    1379\n",
      "ruspop         1372\n",
      "rusrap         1161\n",
      "Name: genre, dtype: int64\n"
     ]
    }
   ],
   "source": [
    "print(moscow_genres.head(10)) # просмотр первых 10 строк moscow_genres"
   ]
  },
  {
   "cell_type": "markdown",
   "metadata": {
    "id": "cnPG2vnN_Zcv"
   },
   "source": [
    "Теперь повторим то же и для Петербурга.\n",
    "\n",
    "Сгруппируем таблицу `spb_general` по жанру. Посчитаем прослушивания треков каждого жанра. Результат отсортируем в порядке убывания и сохраним в таблице `spb_genres`:"
   ]
  },
  {
   "cell_type": "code",
   "execution_count": 37,
   "metadata": {
    "id": "gluLIpE7_Zcv"
   },
   "outputs": [],
   "source": [
    "spb_genres = spb_general.groupby('genre')['genre'].count().sort_values(ascending=False) # одной строкой: группировка таблицы spb_general по столбцу 'genre', \n",
    "                                                                                        # подсчёт числа значений 'genre' в этой группировке методом count(), \n",
    "                                                                                        # сортировка получившегося Series в порядке убывания и сохранение в spb_genres"
   ]
  },
  {
   "cell_type": "markdown",
   "metadata": {
    "id": "5Doha_ODgyQ8"
   },
   "source": [
    "Выведем на экран первые десять строк `spb_genres`:"
   ]
  },
  {
   "cell_type": "code",
   "execution_count": 38,
   "metadata": {
    "id": "uaGJHjVU_Zcv"
   },
   "outputs": [
    {
     "name": "stdout",
     "output_type": "stream",
     "text": [
      "genre\n",
      "pop            2431\n",
      "dance          1932\n",
      "rock           1879\n",
      "electronic     1736\n",
      "hiphop          960\n",
      "alternative     649\n",
      "classical       646\n",
      "rusrap          564\n",
      "ruspop          538\n",
      "world           515\n",
      "Name: genre, dtype: int64\n"
     ]
    }
   ],
   "source": [
    "print(spb_genres.head(10)) # просмотр первых 10 строк spb_genres"
   ]
  },
  {
   "cell_type": "markdown",
   "metadata": {
    "id": "RY51YJYu_Zcv"
   },
   "source": [
    "**Выводы**"
   ]
  },
  {
   "cell_type": "markdown",
   "metadata": {
    "id": "nVhnJEm__Zcv"
   },
   "source": [
    "Гипотеза частично подтвердилась:\n",
    "* Поп-музыка — самый популярный жанр в Москве, как и предполагала гипотеза. Более того, в топ-10 жанров встречается близкий жанр — русская популярная музыка.\n",
    "* Вопреки ожиданиям, рэп одинаково популярен в Москве и Петербурге. \n"
   ]
  },
  {
   "cell_type": "markdown",
   "metadata": {
    "id": "ykKQ0N65_Zcv"
   },
   "source": [
    "## Итоги исследования"
   ]
  },
  {
   "cell_type": "markdown",
   "metadata": {
    "id": "tjUwbHb3_Zcv"
   },
   "source": [
    "Были проверены три гипотезы и установлено следующее:\n",
    "\n",
    "1. День недели по-разному влияет на активность пользователей в Москве и Петербурге. \n",
    "\n",
    "Первая гипотеза полностью подтвердилась.\n",
    "\n",
    "2. Музыкальные предпочтения не сильно меняются в течение недели — будь то Москва или Петербург. Небольшие различия заметны в начале недели, по понедельникам:\n",
    "* в Москве слушают музыку жанра “world”,\n",
    "* в Петербурге — джаз и классику.\n",
    "\n",
    "Таким образом, вторая гипотеза подтвердилась лишь отчасти. Этот результат мог оказаться иным, если бы не пропуски в данных.\n",
    "\n",
    "3. Во вкусах пользователей Москвы и Петербурга больше общего чем различий. Вопреки ожиданиям, предпочтения жанров в Петербурге напоминают московские.\n",
    "\n",
    "Третья гипотеза не подтвердилась. Если различия в предпочтениях и существуют, на основной массе пользователей они незаметны."
   ]
  },
  {
   "cell_type": "code",
   "execution_count": null,
   "metadata": {},
   "outputs": [],
   "source": []
  }
 ],
 "metadata": {
  "ExecuteTimeLog": [
   {
    "duration": 1071,
    "start_time": "2021-11-30T00:16:49.968Z"
   },
   {
    "duration": 104,
    "start_time": "2021-11-30T00:17:59.431Z"
   },
   {
    "duration": 182,
    "start_time": "2021-11-30T00:19:21.286Z"
   },
   {
    "duration": 101,
    "start_time": "2021-11-30T00:19:24.878Z"
   },
   {
    "duration": 10,
    "start_time": "2021-11-30T00:19:35.872Z"
   },
   {
    "duration": 32,
    "start_time": "2021-11-30T00:20:39.654Z"
   },
   {
    "duration": 380,
    "start_time": "2021-11-30T00:39:56.174Z"
   },
   {
    "duration": 4,
    "start_time": "2021-11-30T00:40:24.927Z"
   },
   {
    "duration": 28,
    "start_time": "2021-11-30T00:48:51.992Z"
   },
   {
    "duration": 5,
    "start_time": "2021-11-30T00:49:35.388Z"
   },
   {
    "duration": 98,
    "start_time": "2021-11-30T00:52:43.077Z"
   },
   {
    "duration": 47,
    "start_time": "2021-11-30T00:53:01.012Z"
   },
   {
    "duration": 8168,
    "start_time": "2021-11-30T00:59:20.983Z"
   },
   {
    "duration": 31,
    "start_time": "2021-11-30T00:59:56.538Z"
   },
   {
    "duration": 23,
    "start_time": "2021-11-30T01:01:14.211Z"
   },
   {
    "duration": 29,
    "start_time": "2021-11-30T01:01:20.517Z"
   },
   {
    "duration": 11,
    "start_time": "2021-11-30T01:01:58.598Z"
   },
   {
    "duration": 86,
    "start_time": "2021-11-30T01:02:38.298Z"
   },
   {
    "duration": 97,
    "start_time": "2021-11-30T01:05:52.286Z"
   },
   {
    "duration": 82,
    "start_time": "2021-11-30T01:05:54.539Z"
   },
   {
    "duration": 103,
    "start_time": "2021-11-30T01:06:59.916Z"
   },
   {
    "duration": 81,
    "start_time": "2021-11-30T01:07:02.215Z"
   },
   {
    "duration": 9,
    "start_time": "2021-11-30T01:10:51.645Z"
   },
   {
    "duration": 1017,
    "start_time": "2021-11-30T01:11:06.114Z"
   },
   {
    "duration": 9,
    "start_time": "2021-11-30T01:11:42.480Z"
   },
   {
    "duration": 304,
    "start_time": "2021-11-30T01:13:27.093Z"
   },
   {
    "duration": 110,
    "start_time": "2021-11-30T01:13:47.143Z"
   },
   {
    "duration": 100,
    "start_time": "2021-11-30T01:14:26.554Z"
   },
   {
    "duration": 319,
    "start_time": "2021-11-30T01:14:34.702Z"
   },
   {
    "duration": 8,
    "start_time": "2021-11-30T01:14:48.452Z"
   },
   {
    "duration": 321,
    "start_time": "2021-11-30T01:17:31.655Z"
   },
   {
    "duration": 374,
    "start_time": "2021-11-30T01:17:37.337Z"
   },
   {
    "duration": 62,
    "start_time": "2021-11-30T01:22:01.942Z"
   },
   {
    "duration": 47,
    "start_time": "2021-11-30T01:22:09.202Z"
   },
   {
    "duration": 25,
    "start_time": "2021-11-30T01:22:28.957Z"
   },
   {
    "duration": 117,
    "start_time": "2021-11-30T01:24:46.924Z"
   },
   {
    "duration": 291,
    "start_time": "2021-11-30T01:24:54.662Z"
   },
   {
    "duration": 290,
    "start_time": "2021-11-30T01:25:25.771Z"
   },
   {
    "duration": 365,
    "start_time": "2021-11-30T01:25:34.750Z"
   },
   {
    "duration": 320,
    "start_time": "2021-11-30T01:25:46.359Z"
   },
   {
    "duration": 76,
    "start_time": "2021-11-30T01:26:11.234Z"
   },
   {
    "duration": 372,
    "start_time": "2021-11-30T01:26:35.268Z"
   },
   {
    "duration": 403,
    "start_time": "2021-11-30T01:27:39.123Z"
   },
   {
    "duration": 79,
    "start_time": "2021-11-30T01:28:07.313Z"
   },
   {
    "duration": 82,
    "start_time": "2021-11-30T01:28:15.896Z"
   },
   {
    "duration": 317,
    "start_time": "2021-11-30T01:28:42.724Z"
   },
   {
    "duration": 92,
    "start_time": "2021-11-30T01:28:54.066Z"
   },
   {
    "duration": 90,
    "start_time": "2021-11-30T01:29:15.853Z"
   },
   {
    "duration": 89,
    "start_time": "2021-11-30T01:29:25.735Z"
   },
   {
    "duration": 58,
    "start_time": "2021-11-30T01:29:56.600Z"
   },
   {
    "duration": 4,
    "start_time": "2021-11-30T01:38:00.270Z"
   },
   {
    "duration": 344,
    "start_time": "2021-11-30T01:39:13.572Z"
   },
   {
    "duration": 623,
    "start_time": "2021-11-30T01:39:29.241Z"
   },
   {
    "duration": 617,
    "start_time": "2021-11-30T01:44:26.547Z"
   },
   {
    "duration": 6,
    "start_time": "2021-11-30T01:49:04.368Z"
   },
   {
    "duration": 637,
    "start_time": "2021-11-30T01:49:07.800Z"
   },
   {
    "duration": 102,
    "start_time": "2021-11-30T01:49:35.370Z"
   },
   {
    "duration": 12,
    "start_time": "2021-11-30T01:49:46.632Z"
   },
   {
    "duration": 605,
    "start_time": "2021-11-30T01:49:49.925Z"
   },
   {
    "duration": 4,
    "start_time": "2021-11-30T01:52:33.969Z"
   },
   {
    "duration": 4,
    "start_time": "2021-11-30T01:52:37.629Z"
   },
   {
    "duration": 4,
    "start_time": "2021-11-30T01:52:44.460Z"
   },
   {
    "duration": 55,
    "start_time": "2021-11-30T01:52:46.437Z"
   },
   {
    "duration": 4,
    "start_time": "2021-11-30T01:53:22.500Z"
   },
   {
    "duration": 58,
    "start_time": "2021-11-30T01:53:25.166Z"
   },
   {
    "duration": 55,
    "start_time": "2021-11-30T01:53:31.123Z"
   },
   {
    "duration": 3,
    "start_time": "2021-11-30T01:53:33.457Z"
   },
   {
    "duration": 4,
    "start_time": "2021-11-30T01:53:36.101Z"
   },
   {
    "duration": 56,
    "start_time": "2021-11-30T01:54:06.981Z"
   },
   {
    "duration": 5,
    "start_time": "2021-11-30T01:56:54.278Z"
   },
   {
    "duration": 8,
    "start_time": "2021-11-30T01:56:56.562Z"
   },
   {
    "duration": 56,
    "start_time": "2021-11-30T01:56:59.196Z"
   },
   {
    "duration": 5,
    "start_time": "2021-11-30T01:58:40.683Z"
   },
   {
    "duration": 3,
    "start_time": "2021-11-30T01:58:46.555Z"
   },
   {
    "duration": 57,
    "start_time": "2021-11-30T01:58:49.069Z"
   },
   {
    "duration": 4,
    "start_time": "2021-11-30T01:59:16.710Z"
   },
   {
    "duration": 56,
    "start_time": "2021-11-30T01:59:19.056Z"
   },
   {
    "duration": 125,
    "start_time": "2021-11-30T02:01:05.072Z"
   },
   {
    "duration": 3,
    "start_time": "2021-11-30T02:01:23.966Z"
   },
   {
    "duration": 56,
    "start_time": "2021-11-30T02:01:27.166Z"
   },
   {
    "duration": 5,
    "start_time": "2021-11-30T02:03:07.211Z"
   },
   {
    "duration": 15,
    "start_time": "2021-11-30T02:03:10.259Z"
   },
   {
    "duration": 57,
    "start_time": "2021-11-30T02:03:27.075Z"
   },
   {
    "duration": 5,
    "start_time": "2021-11-30T02:14:39.535Z"
   },
   {
    "duration": 897,
    "start_time": "2021-11-30T02:14:41.796Z"
   },
   {
    "duration": 56,
    "start_time": "2021-11-30T02:15:08.291Z"
   },
   {
    "duration": 376,
    "start_time": "2021-11-30T16:29:31.767Z"
   },
   {
    "duration": 256,
    "start_time": "2021-11-30T16:29:43.457Z"
   },
   {
    "duration": 232,
    "start_time": "2021-11-30T16:29:57.066Z"
   },
   {
    "duration": 3,
    "start_time": "2021-11-30T16:29:59.771Z"
   },
   {
    "duration": 548,
    "start_time": "2021-11-30T16:30:01.733Z"
   },
   {
    "duration": 253,
    "start_time": "2021-11-30T16:30:16.264Z"
   },
   {
    "duration": 528,
    "start_time": "2021-11-30T16:34:15.340Z"
   },
   {
    "duration": 641,
    "start_time": "2021-11-30T16:34:22.427Z"
   },
   {
    "duration": 143,
    "start_time": "2021-11-30T16:34:24.402Z"
   },
   {
    "duration": 17,
    "start_time": "2021-11-30T16:34:26.886Z"
   },
   {
    "duration": 26,
    "start_time": "2021-11-30T16:34:30.178Z"
   },
   {
    "duration": 4,
    "start_time": "2021-11-30T16:34:35.902Z"
   },
   {
    "duration": 25,
    "start_time": "2021-11-30T16:34:39.325Z"
   },
   {
    "duration": 3,
    "start_time": "2021-11-30T16:34:40.867Z"
   },
   {
    "duration": 22,
    "start_time": "2021-11-30T16:34:43.783Z"
   },
   {
    "duration": 21,
    "start_time": "2021-11-30T16:34:54.876Z"
   },
   {
    "duration": 23,
    "start_time": "2021-11-30T16:34:57.238Z"
   },
   {
    "duration": 61,
    "start_time": "2021-11-30T16:35:00.810Z"
   },
   {
    "duration": 78,
    "start_time": "2021-11-30T16:35:02.697Z"
   },
   {
    "duration": 57,
    "start_time": "2021-11-30T16:35:04.758Z"
   },
   {
    "duration": 40,
    "start_time": "2021-11-30T16:35:07.505Z"
   },
   {
    "duration": 3,
    "start_time": "2021-11-30T16:35:12.160Z"
   },
   {
    "duration": 1133,
    "start_time": "2021-11-30T16:35:14.385Z"
   },
   {
    "duration": 3,
    "start_time": "2021-11-30T16:35:28.720Z"
   },
   {
    "duration": 510,
    "start_time": "2021-11-30T16:35:31.194Z"
   },
   {
    "duration": 497,
    "start_time": "2021-11-30T16:35:37.580Z"
   },
   {
    "duration": 41,
    "start_time": "2021-11-30T16:35:43.710Z"
   },
   {
    "duration": 3,
    "start_time": "2021-11-30T16:36:59.615Z"
   },
   {
    "duration": 503,
    "start_time": "2021-11-30T16:37:02.344Z"
   },
   {
    "duration": 40,
    "start_time": "2021-11-30T16:37:04.146Z"
   },
   {
    "duration": 3,
    "start_time": "2021-11-30T16:38:53.471Z"
   },
   {
    "duration": 500,
    "start_time": "2021-11-30T16:39:01.973Z"
   },
   {
    "duration": 42,
    "start_time": "2021-11-30T16:39:08.923Z"
   },
   {
    "duration": 3,
    "start_time": "2021-11-30T16:40:49.194Z"
   },
   {
    "duration": 506,
    "start_time": "2021-11-30T16:40:51.597Z"
   },
   {
    "duration": 533,
    "start_time": "2021-11-30T16:40:55.489Z"
   },
   {
    "duration": 3,
    "start_time": "2021-11-30T16:40:59.753Z"
   },
   {
    "duration": 502,
    "start_time": "2021-11-30T16:41:01.904Z"
   },
   {
    "duration": 41,
    "start_time": "2021-11-30T16:41:04.565Z"
   },
   {
    "duration": 21,
    "start_time": "2021-11-30T16:41:55.528Z"
   },
   {
    "duration": 56,
    "start_time": "2021-11-30T16:42:07.254Z"
   },
   {
    "duration": 70,
    "start_time": "2021-11-30T16:42:14.744Z"
   },
   {
    "duration": 56,
    "start_time": "2021-11-30T16:42:17.100Z"
   },
   {
    "duration": 16,
    "start_time": "2021-11-30T16:42:23.150Z"
   },
   {
    "duration": 21,
    "start_time": "2021-11-30T16:42:25.337Z"
   },
   {
    "duration": 52,
    "start_time": "2021-11-30T16:42:27.652Z"
   },
   {
    "duration": 21,
    "start_time": "2021-11-30T16:42:40.365Z"
   },
   {
    "duration": 582,
    "start_time": "2021-11-30T21:37:56.453Z"
   },
   {
    "duration": 129,
    "start_time": "2021-11-30T21:37:59.121Z"
   },
   {
    "duration": 15,
    "start_time": "2021-11-30T21:38:01.286Z"
   },
   {
    "duration": 23,
    "start_time": "2021-11-30T21:38:03.801Z"
   },
   {
    "duration": 4,
    "start_time": "2021-11-30T21:38:50.497Z"
   },
   {
    "duration": 22,
    "start_time": "2021-11-30T21:38:56.839Z"
   },
   {
    "duration": 4,
    "start_time": "2021-11-30T21:39:01.229Z"
   },
   {
    "duration": 370,
    "start_time": "2021-12-01T01:33:06.501Z"
   },
   {
    "duration": 831,
    "start_time": "2021-12-01T01:33:12.886Z"
   },
   {
    "duration": 192,
    "start_time": "2021-12-01T01:33:15.019Z"
   },
   {
    "duration": 26,
    "start_time": "2021-12-01T01:33:16.984Z"
   },
   {
    "duration": 32,
    "start_time": "2021-12-01T01:33:23.993Z"
   },
   {
    "duration": 4,
    "start_time": "2021-12-01T01:33:30.619Z"
   },
   {
    "duration": 31,
    "start_time": "2021-12-01T01:33:33.440Z"
   },
   {
    "duration": 4,
    "start_time": "2021-12-01T01:33:35.913Z"
   },
   {
    "duration": 30,
    "start_time": "2021-12-01T01:33:38.578Z"
   },
   {
    "duration": 23,
    "start_time": "2021-12-01T01:33:41.763Z"
   },
   {
    "duration": 29,
    "start_time": "2021-12-01T01:33:44.220Z"
   },
   {
    "duration": 84,
    "start_time": "2021-12-01T01:33:47.346Z"
   },
   {
    "duration": 101,
    "start_time": "2021-12-01T01:33:50.275Z"
   },
   {
    "duration": 74,
    "start_time": "2021-12-01T01:33:52.647Z"
   },
   {
    "duration": 56,
    "start_time": "2021-12-01T01:33:55.789Z"
   },
   {
    "duration": 7,
    "start_time": "2021-12-01T01:34:03.518Z"
   },
   {
    "duration": 2130,
    "start_time": "2021-12-01T01:34:06.252Z"
   },
   {
    "duration": 57,
    "start_time": "2021-12-01T01:34:24.146Z"
   },
   {
    "duration": 43,
    "start_time": "2021-12-01T01:37:35.585Z"
   },
   {
    "duration": 42,
    "start_time": "2021-12-01T01:38:25.933Z"
   },
   {
    "duration": 5,
    "start_time": "2021-12-01T01:56:14.397Z"
   },
   {
    "duration": 362,
    "start_time": "2021-12-01T01:59:36.223Z"
   },
   {
    "duration": 4372,
    "start_time": "2021-12-01T01:59:58.632Z"
   },
   {
    "duration": 103,
    "start_time": "2021-12-01T02:14:14.439Z"
   },
   {
    "duration": 8,
    "start_time": "2021-12-01T02:14:38.518Z"
   },
   {
    "duration": 5208,
    "start_time": "2021-12-01T02:14:43.936Z"
   },
   {
    "duration": 4279,
    "start_time": "2021-12-01T02:14:49.209Z"
   },
   {
    "duration": 6,
    "start_time": "2021-12-01T02:15:39.929Z"
   },
   {
    "duration": 4405,
    "start_time": "2021-12-01T02:15:43.831Z"
   },
   {
    "duration": 5,
    "start_time": "2021-12-01T02:17:05.227Z"
   },
   {
    "duration": 35,
    "start_time": "2021-12-01T02:17:08.393Z"
   },
   {
    "duration": 4,
    "start_time": "2021-12-01T02:17:29.797Z"
   },
   {
    "duration": 693,
    "start_time": "2021-12-01T02:17:35.896Z"
   },
   {
    "duration": 13,
    "start_time": "2021-12-01T02:19:25.558Z"
   },
   {
    "duration": 32,
    "start_time": "2021-12-01T02:19:28.810Z"
   },
   {
    "duration": 26,
    "start_time": "2021-12-01T02:21:24.014Z"
   },
   {
    "duration": 30,
    "start_time": "2021-12-01T02:21:26.173Z"
   },
   {
    "duration": 25,
    "start_time": "2021-12-01T02:21:27.918Z"
   },
   {
    "duration": 32,
    "start_time": "2021-12-01T02:21:29.754Z"
   },
   {
    "duration": 28,
    "start_time": "2021-12-01T02:21:32.888Z"
   },
   {
    "duration": 333,
    "start_time": "2021-12-01T02:22:47.349Z"
   },
   {
    "duration": 318,
    "start_time": "2021-12-01T02:25:15.454Z"
   },
   {
    "duration": 344,
    "start_time": "2021-12-01T02:29:29.011Z"
   },
   {
    "duration": 5,
    "start_time": "2021-12-01T02:31:15.731Z"
   },
   {
    "duration": 4498,
    "start_time": "2021-12-01T02:31:22.384Z"
   },
   {
    "duration": 5,
    "start_time": "2021-12-01T02:32:28.414Z"
   },
   {
    "duration": 4325,
    "start_time": "2021-12-01T02:32:31.830Z"
   },
   {
    "duration": 5,
    "start_time": "2021-12-01T02:32:51.066Z"
   },
   {
    "duration": 4499,
    "start_time": "2021-12-01T02:32:53.539Z"
   },
   {
    "duration": 5,
    "start_time": "2021-12-01T02:33:05.869Z"
   },
   {
    "duration": 134,
    "start_time": "2021-12-01T02:35:36.796Z"
   },
   {
    "duration": 6,
    "start_time": "2021-12-01T02:36:05.356Z"
   },
   {
    "duration": 4734,
    "start_time": "2021-12-01T02:36:08.423Z"
   },
   {
    "duration": 5,
    "start_time": "2021-12-01T02:38:46.117Z"
   },
   {
    "duration": 4301,
    "start_time": "2021-12-01T02:38:50.779Z"
   },
   {
    "duration": 5,
    "start_time": "2021-12-01T02:39:19.843Z"
   },
   {
    "duration": 4748,
    "start_time": "2021-12-01T02:39:23.319Z"
   },
   {
    "duration": 5,
    "start_time": "2021-12-01T02:40:26.572Z"
   },
   {
    "duration": 667,
    "start_time": "2021-12-01T02:40:29.719Z"
   },
   {
    "duration": 631,
    "start_time": "2021-12-01T02:40:54.130Z"
   },
   {
    "duration": 917,
    "start_time": "2021-12-01T02:41:19.520Z"
   },
   {
    "duration": 632,
    "start_time": "2021-12-01T02:41:43.033Z"
   },
   {
    "duration": 809,
    "start_time": "2021-12-01T02:42:14.177Z"
   },
   {
    "duration": 648,
    "start_time": "2021-12-01T02:42:17.807Z"
   },
   {
    "duration": 5,
    "start_time": "2021-12-01T02:47:52.062Z"
   },
   {
    "duration": 35,
    "start_time": "2021-12-01T02:47:55.340Z"
   },
   {
    "duration": 34,
    "start_time": "2021-12-01T02:48:00.720Z"
   },
   {
    "duration": 32,
    "start_time": "2021-12-01T02:48:05.207Z"
   },
   {
    "duration": 18,
    "start_time": "2021-12-01T02:58:47.584Z"
   },
   {
    "duration": 56,
    "start_time": "2021-12-01T02:58:53.367Z"
   },
   {
    "duration": 4,
    "start_time": "2021-12-01T03:00:21.017Z"
   },
   {
    "duration": 35,
    "start_time": "2021-12-01T03:00:23.296Z"
   },
   {
    "duration": 29,
    "start_time": "2021-12-01T03:00:27.506Z"
   },
   {
    "duration": 30,
    "start_time": "2021-12-01T03:00:29.574Z"
   },
   {
    "duration": 32,
    "start_time": "2021-12-01T03:00:33.189Z"
   },
   {
    "duration": 28,
    "start_time": "2021-12-01T03:00:35.842Z"
   },
   {
    "duration": 5,
    "start_time": "2021-12-01T03:11:42.062Z"
   },
   {
    "duration": 32,
    "start_time": "2021-12-01T03:11:44.331Z"
   },
   {
    "duration": 5,
    "start_time": "2021-12-01T03:11:52.071Z"
   },
   {
    "duration": 38,
    "start_time": "2021-12-01T03:11:54.710Z"
   },
   {
    "duration": 33,
    "start_time": "2021-12-01T03:12:07.508Z"
   },
   {
    "duration": 37,
    "start_time": "2021-12-01T03:13:57.417Z"
   },
   {
    "duration": 5,
    "start_time": "2021-12-01T03:15:18.226Z"
   },
   {
    "duration": 603,
    "start_time": "2021-12-01T03:15:22.792Z"
   },
   {
    "duration": 5,
    "start_time": "2021-12-01T03:15:35.351Z"
   },
   {
    "duration": 38,
    "start_time": "2021-12-01T03:16:05.304Z"
   },
   {
    "duration": 5,
    "start_time": "2021-12-01T03:17:21.706Z"
   },
   {
    "duration": 44,
    "start_time": "2021-12-01T03:17:25.136Z"
   },
   {
    "duration": 5,
    "start_time": "2021-12-01T03:18:03.620Z"
   },
   {
    "duration": 5,
    "start_time": "2021-12-01T03:19:15.240Z"
   },
   {
    "duration": 30,
    "start_time": "2021-12-01T03:19:20.892Z"
   },
   {
    "duration": 31,
    "start_time": "2021-12-01T03:19:32.056Z"
   },
   {
    "duration": 28,
    "start_time": "2021-12-01T03:19:52.672Z"
   },
   {
    "duration": 29,
    "start_time": "2021-12-01T03:23:28.339Z"
   },
   {
    "duration": 30,
    "start_time": "2021-12-01T03:23:38.481Z"
   },
   {
    "duration": 5,
    "start_time": "2021-12-01T03:23:48.503Z"
   },
   {
    "duration": 25,
    "start_time": "2021-12-01T03:23:50.917Z"
   },
   {
    "duration": 31,
    "start_time": "2021-12-01T03:23:56.863Z"
   },
   {
    "duration": 29,
    "start_time": "2021-12-01T03:23:59.332Z"
   },
   {
    "duration": 28,
    "start_time": "2021-12-01T03:24:01.297Z"
   },
   {
    "duration": 33,
    "start_time": "2021-12-01T03:24:03.287Z"
   },
   {
    "duration": 31,
    "start_time": "2021-12-01T03:24:06.198Z"
   },
   {
    "duration": 22,
    "start_time": "2021-12-01T03:26:17.804Z"
   },
   {
    "duration": 5,
    "start_time": "2021-12-01T03:26:20.775Z"
   },
   {
    "duration": 21,
    "start_time": "2021-12-01T03:26:27.075Z"
   },
   {
    "duration": 20,
    "start_time": "2021-12-01T03:26:28.982Z"
   },
   {
    "duration": 5,
    "start_time": "2021-12-01T03:26:46.933Z"
   },
   {
    "duration": 22,
    "start_time": "2021-12-01T03:26:49.092Z"
   },
   {
    "duration": 19,
    "start_time": "2021-12-01T03:26:51.406Z"
   },
   {
    "duration": 20,
    "start_time": "2021-12-01T03:26:53.733Z"
   },
   {
    "duration": 20,
    "start_time": "2021-12-01T03:26:55.736Z"
   },
   {
    "duration": 21,
    "start_time": "2021-12-01T03:26:57.600Z"
   },
   {
    "duration": 19,
    "start_time": "2021-12-01T03:27:00.016Z"
   },
   {
    "duration": 10,
    "start_time": "2021-12-01T03:27:56.426Z"
   },
   {
    "duration": 24,
    "start_time": "2021-12-01T03:27:58.680Z"
   },
   {
    "duration": 21,
    "start_time": "2021-12-01T03:28:01.649Z"
   },
   {
    "duration": 20,
    "start_time": "2021-12-01T03:28:03.489Z"
   },
   {
    "duration": 20,
    "start_time": "2021-12-01T03:28:05.405Z"
   },
   {
    "duration": 23,
    "start_time": "2021-12-01T03:28:08.044Z"
   },
   {
    "duration": 21,
    "start_time": "2021-12-01T03:28:09.908Z"
   },
   {
    "duration": 328,
    "start_time": "2021-12-01T03:30:03.064Z"
   },
   {
    "duration": 323,
    "start_time": "2021-12-01T03:31:01.421Z"
   },
   {
    "duration": 343,
    "start_time": "2021-12-01T03:31:45.197Z"
   },
   {
    "duration": 321,
    "start_time": "2021-12-01T03:31:55.949Z"
   },
   {
    "duration": 313,
    "start_time": "2021-12-01T03:32:02.377Z"
   },
   {
    "duration": 320,
    "start_time": "2021-12-01T03:32:44.848Z"
   },
   {
    "duration": 12,
    "start_time": "2021-12-01T03:32:59.024Z"
   },
   {
    "duration": 9,
    "start_time": "2021-12-01T03:34:13.522Z"
   },
   {
    "duration": 15,
    "start_time": "2021-12-01T03:36:19.775Z"
   },
   {
    "duration": 66,
    "start_time": "2021-12-01T03:36:46.394Z"
   },
   {
    "duration": 68,
    "start_time": "2021-12-01T03:37:04.018Z"
   },
   {
    "duration": 44,
    "start_time": "2021-12-01T03:37:20.071Z"
   },
   {
    "duration": 42,
    "start_time": "2021-12-01T03:37:22.399Z"
   },
   {
    "duration": 44,
    "start_time": "2021-12-01T03:38:25.861Z"
   },
   {
    "duration": 45,
    "start_time": "2021-12-01T03:38:28.290Z"
   },
   {
    "duration": 63,
    "start_time": "2021-12-01T03:38:40.468Z"
   },
   {
    "duration": 57,
    "start_time": "2021-12-01T03:38:44.951Z"
   },
   {
    "duration": 15,
    "start_time": "2021-12-01T03:42:22.532Z"
   },
   {
    "duration": 20,
    "start_time": "2021-12-01T03:42:41.853Z"
   },
   {
    "duration": 23,
    "start_time": "2021-12-01T03:42:50.031Z"
   },
   {
    "duration": 331,
    "start_time": "2021-12-01T03:42:57.731Z"
   },
   {
    "duration": 32,
    "start_time": "2021-12-01T03:43:01.603Z"
   },
   {
    "duration": 16,
    "start_time": "2021-12-01T03:43:36.383Z"
   },
   {
    "duration": 11,
    "start_time": "2021-12-01T03:43:52.211Z"
   },
   {
    "duration": 21,
    "start_time": "2021-12-01T03:44:02.763Z"
   },
   {
    "duration": 13,
    "start_time": "2021-12-01T03:44:12.827Z"
   },
   {
    "duration": 123,
    "start_time": "2021-12-01T04:49:00.795Z"
   },
   {
    "duration": 114,
    "start_time": "2021-12-01T04:50:51.136Z"
   },
   {
    "duration": 104,
    "start_time": "2021-12-01T04:58:08.543Z"
   },
   {
    "duration": 123,
    "start_time": "2021-12-01T04:58:46.200Z"
   },
   {
    "duration": 103,
    "start_time": "2021-12-01T04:58:53.210Z"
   },
   {
    "duration": 135,
    "start_time": "2021-12-01T05:03:04.193Z"
   },
   {
    "duration": 6,
    "start_time": "2021-12-01T05:04:32.809Z"
   },
   {
    "duration": 7,
    "start_time": "2021-12-01T05:04:51.023Z"
   },
   {
    "duration": 34,
    "start_time": "2021-12-01T05:05:49.805Z"
   },
   {
    "duration": 5,
    "start_time": "2021-12-01T05:07:03.593Z"
   },
   {
    "duration": 672,
    "start_time": "2021-12-01T05:07:06.869Z"
   },
   {
    "duration": 998,
    "start_time": "2021-12-01T05:07:13.721Z"
   },
   {
    "duration": 999,
    "start_time": "2021-12-01T05:07:16.888Z"
   },
   {
    "duration": 9,
    "start_time": "2021-12-01T05:07:19.192Z"
   },
   {
    "duration": 35,
    "start_time": "2021-12-01T05:07:21.160Z"
   },
   {
    "duration": 26,
    "start_time": "2021-12-01T05:08:00.236Z"
   },
   {
    "duration": 32,
    "start_time": "2021-12-01T05:09:24.697Z"
   },
   {
    "duration": 26,
    "start_time": "2021-12-01T05:09:27.580Z"
   },
   {
    "duration": 618,
    "start_time": "2021-12-01T17:31:02.061Z"
   },
   {
    "duration": 152,
    "start_time": "2021-12-01T17:31:04.749Z"
   },
   {
    "duration": 18,
    "start_time": "2021-12-01T17:31:06.876Z"
   },
   {
    "duration": 27,
    "start_time": "2021-12-01T17:31:10.228Z"
   },
   {
    "duration": 3,
    "start_time": "2021-12-01T17:31:19.455Z"
   },
   {
    "duration": 23,
    "start_time": "2021-12-01T17:31:24.249Z"
   },
   {
    "duration": 4,
    "start_time": "2021-12-01T17:31:26.397Z"
   },
   {
    "duration": 22,
    "start_time": "2021-12-01T17:31:29.185Z"
   },
   {
    "duration": 17,
    "start_time": "2021-12-01T17:31:34.676Z"
   },
   {
    "duration": 22,
    "start_time": "2021-12-01T17:31:36.726Z"
   },
   {
    "duration": 58,
    "start_time": "2021-12-01T17:31:39.334Z"
   },
   {
    "duration": 59,
    "start_time": "2021-12-01T17:31:41.825Z"
   },
   {
    "duration": 48,
    "start_time": "2021-12-01T17:31:44.273Z"
   },
   {
    "duration": 41,
    "start_time": "2021-12-01T17:31:47.360Z"
   },
   {
    "duration": 3,
    "start_time": "2021-12-01T17:31:51.282Z"
   },
   {
    "duration": 1146,
    "start_time": "2021-12-01T17:31:53.760Z"
   },
   {
    "duration": 41,
    "start_time": "2021-12-01T17:31:57.316Z"
   },
   {
    "duration": 32,
    "start_time": "2021-12-01T17:32:01.566Z"
   },
   {
    "duration": 35,
    "start_time": "2021-12-01T17:32:05.046Z"
   },
   {
    "duration": 3,
    "start_time": "2021-12-01T17:32:08.606Z"
   },
   {
    "duration": 17,
    "start_time": "2021-12-01T17:32:11.823Z"
   },
   {
    "duration": 15,
    "start_time": "2021-12-01T17:32:14.847Z"
   },
   {
    "duration": 16,
    "start_time": "2021-12-01T17:32:17.101Z"
   },
   {
    "duration": 15,
    "start_time": "2021-12-01T17:32:19.125Z"
   },
   {
    "duration": 18,
    "start_time": "2021-12-01T17:32:21.450Z"
   },
   {
    "duration": 16,
    "start_time": "2021-12-01T17:32:23.703Z"
   },
   {
    "duration": 9,
    "start_time": "2021-12-01T17:32:28.329Z"
   },
   {
    "duration": 11,
    "start_time": "2021-12-01T17:32:33.609Z"
   },
   {
    "duration": 9,
    "start_time": "2021-12-01T17:32:35.583Z"
   },
   {
    "duration": 4,
    "start_time": "2021-12-01T17:39:22.000Z"
   },
   {
    "duration": 31,
    "start_time": "2021-12-01T17:39:24.422Z"
   },
   {
    "duration": 5,
    "start_time": "2021-12-01T17:40:12.743Z"
   },
   {
    "duration": 843,
    "start_time": "2021-12-01T17:40:15.103Z"
   },
   {
    "duration": 4,
    "start_time": "2021-12-01T17:40:50.364Z"
   },
   {
    "duration": 27,
    "start_time": "2021-12-01T17:40:52.464Z"
   },
   {
    "duration": 5,
    "start_time": "2021-12-01T17:48:37.168Z"
   },
   {
    "duration": 962,
    "start_time": "2021-12-01T17:48:39.240Z"
   },
   {
    "duration": 4,
    "start_time": "2021-12-01T17:49:42.263Z"
   },
   {
    "duration": 20,
    "start_time": "2021-12-01T17:49:44.727Z"
   },
   {
    "duration": 14,
    "start_time": "2021-12-01T17:50:18.404Z"
   },
   {
    "duration": 24,
    "start_time": "2021-12-01T17:50:21.734Z"
   },
   {
    "duration": 13,
    "start_time": "2021-12-01T17:50:24.906Z"
   },
   {
    "duration": 9,
    "start_time": "2021-12-01T18:13:13.607Z"
   },
   {
    "duration": 4,
    "start_time": "2021-12-01T18:13:33.466Z"
   },
   {
    "duration": 8,
    "start_time": "2021-12-01T18:14:49.124Z"
   },
   {
    "duration": 4,
    "start_time": "2021-12-01T18:14:51.291Z"
   },
   {
    "duration": 5,
    "start_time": "2021-12-01T18:16:31.563Z"
   },
   {
    "duration": 5,
    "start_time": "2021-12-01T18:16:37.657Z"
   },
   {
    "duration": 370,
    "start_time": "2021-12-01T20:05:49.442Z"
   },
   {
    "duration": 754,
    "start_time": "2021-12-01T20:06:01.974Z"
   },
   {
    "duration": 3,
    "start_time": "2021-12-01T20:06:23.485Z"
   },
   {
    "duration": 4,
    "start_time": "2021-12-01T20:06:27.341Z"
   },
   {
    "duration": 3,
    "start_time": "2021-12-01T20:06:40.387Z"
   },
   {
    "duration": 719,
    "start_time": "2021-12-01T20:06:57.098Z"
   },
   {
    "duration": 197,
    "start_time": "2021-12-01T20:06:59.615Z"
   },
   {
    "duration": 27,
    "start_time": "2021-12-01T20:07:02.448Z"
   },
   {
    "duration": 33,
    "start_time": "2021-12-01T20:07:05.486Z"
   },
   {
    "duration": 5,
    "start_time": "2021-12-01T20:07:14.095Z"
   },
   {
    "duration": 29,
    "start_time": "2021-12-01T20:07:16.509Z"
   },
   {
    "duration": 5,
    "start_time": "2021-12-01T20:07:18.283Z"
   },
   {
    "duration": 31,
    "start_time": "2021-12-01T20:07:20.151Z"
   },
   {
    "duration": 26,
    "start_time": "2021-12-01T20:07:23.223Z"
   },
   {
    "duration": 33,
    "start_time": "2021-12-01T20:07:25.289Z"
   },
   {
    "duration": 88,
    "start_time": "2021-12-01T20:07:28.003Z"
   },
   {
    "duration": 101,
    "start_time": "2021-12-01T20:07:29.880Z"
   },
   {
    "duration": 80,
    "start_time": "2021-12-01T20:07:32.111Z"
   },
   {
    "duration": 58,
    "start_time": "2021-12-01T20:07:34.457Z"
   },
   {
    "duration": 5,
    "start_time": "2021-12-01T20:07:37.924Z"
   },
   {
    "duration": 1978,
    "start_time": "2021-12-01T20:07:39.773Z"
   },
   {
    "duration": 59,
    "start_time": "2021-12-01T20:07:42.557Z"
   },
   {
    "duration": 16,
    "start_time": "2021-12-01T20:07:47.728Z"
   },
   {
    "duration": 17,
    "start_time": "2021-12-01T20:08:04.647Z"
   },
   {
    "duration": 6,
    "start_time": "2021-12-01T20:08:23.706Z"
   },
   {
    "duration": 25,
    "start_time": "2021-12-01T20:08:36.931Z"
   },
   {
    "duration": 22,
    "start_time": "2021-12-01T20:08:38.615Z"
   },
   {
    "duration": 22,
    "start_time": "2021-12-01T20:08:40.337Z"
   },
   {
    "duration": 25,
    "start_time": "2021-12-01T20:08:42.159Z"
   },
   {
    "duration": 22,
    "start_time": "2021-12-01T20:08:43.849Z"
   },
   {
    "duration": 26,
    "start_time": "2021-12-01T20:08:46.185Z"
   },
   {
    "duration": 14,
    "start_time": "2021-12-01T20:08:51.411Z"
   },
   {
    "duration": 15,
    "start_time": "2021-12-01T20:09:27.106Z"
   },
   {
    "duration": 15,
    "start_time": "2021-12-01T20:09:29.360Z"
   },
   {
    "duration": 6,
    "start_time": "2021-12-01T20:10:51.379Z"
   },
   {
    "duration": 28,
    "start_time": "2021-12-01T20:11:18.944Z"
   },
   {
    "duration": 18,
    "start_time": "2021-12-01T20:11:27.849Z"
   },
   {
    "duration": 23,
    "start_time": "2021-12-01T20:11:33.061Z"
   },
   {
    "duration": 18,
    "start_time": "2021-12-01T20:11:39.057Z"
   },
   {
    "duration": 13,
    "start_time": "2021-12-01T20:12:29.971Z"
   },
   {
    "duration": 6,
    "start_time": "2021-12-01T20:12:35.231Z"
   },
   {
    "duration": 8,
    "start_time": "2021-12-01T20:12:55.930Z"
   },
   {
    "duration": 5,
    "start_time": "2021-12-01T20:13:04.872Z"
   },
   {
    "duration": 285,
    "start_time": "2021-12-02T07:20:22.692Z"
   },
   {
    "duration": 72,
    "start_time": "2022-04-05T17:38:02.704Z"
   },
   {
    "duration": 559,
    "start_time": "2022-04-05T17:38:09.554Z"
   },
   {
    "duration": 225,
    "start_time": "2022-04-05T17:38:10.116Z"
   },
   {
    "duration": 36,
    "start_time": "2022-04-05T17:38:10.344Z"
   },
   {
    "duration": 49,
    "start_time": "2022-04-05T17:38:10.383Z"
   },
   {
    "duration": 6,
    "start_time": "2022-04-05T17:38:10.434Z"
   },
   {
    "duration": 18,
    "start_time": "2022-04-05T17:38:10.473Z"
   },
   {
    "duration": 7,
    "start_time": "2022-04-05T17:38:10.494Z"
   },
   {
    "duration": 35,
    "start_time": "2022-04-05T17:38:10.504Z"
   },
   {
    "duration": 51,
    "start_time": "2022-04-05T17:38:10.541Z"
   },
   {
    "duration": 33,
    "start_time": "2022-04-05T17:38:10.596Z"
   },
   {
    "duration": 135,
    "start_time": "2022-04-05T17:38:10.631Z"
   },
   {
    "duration": 131,
    "start_time": "2022-04-05T17:38:10.773Z"
   },
   {
    "duration": 105,
    "start_time": "2022-04-05T17:38:10.906Z"
   },
   {
    "duration": 70,
    "start_time": "2022-04-05T17:38:11.013Z"
   },
   {
    "duration": 6,
    "start_time": "2022-04-05T17:38:11.086Z"
   },
   {
    "duration": 1384,
    "start_time": "2022-04-05T17:38:11.095Z"
   },
   {
    "duration": 53,
    "start_time": "2022-04-05T17:38:12.481Z"
   },
   {
    "duration": 47,
    "start_time": "2022-04-05T17:38:12.536Z"
   },
   {
    "duration": 18,
    "start_time": "2022-04-05T17:38:12.586Z"
   },
   {
    "duration": 11,
    "start_time": "2022-04-05T17:38:12.607Z"
   },
   {
    "duration": 36,
    "start_time": "2022-04-05T17:38:12.620Z"
   },
   {
    "duration": 36,
    "start_time": "2022-04-05T17:38:12.658Z"
   },
   {
    "duration": 23,
    "start_time": "2022-04-05T17:38:12.697Z"
   },
   {
    "duration": 54,
    "start_time": "2022-04-05T17:38:12.723Z"
   },
   {
    "duration": 25,
    "start_time": "2022-04-05T17:38:12.779Z"
   },
   {
    "duration": 24,
    "start_time": "2022-04-05T17:38:12.807Z"
   },
   {
    "duration": 47,
    "start_time": "2022-04-05T17:38:12.834Z"
   },
   {
    "duration": 34,
    "start_time": "2022-04-05T17:38:12.886Z"
   },
   {
    "duration": 37,
    "start_time": "2022-04-05T17:38:12.922Z"
   },
   {
    "duration": 14,
    "start_time": "2022-04-05T17:38:12.962Z"
   },
   {
    "duration": 56,
    "start_time": "2022-04-05T17:38:12.978Z"
   },
   {
    "duration": 22,
    "start_time": "2022-04-05T17:38:13.037Z"
   },
   {
    "duration": 41,
    "start_time": "2022-04-05T17:38:13.062Z"
   },
   {
    "duration": 21,
    "start_time": "2022-04-05T17:38:13.106Z"
   },
   {
    "duration": 18,
    "start_time": "2022-04-05T17:38:13.129Z"
   },
   {
    "duration": 29,
    "start_time": "2022-04-05T17:38:13.149Z"
   },
   {
    "duration": 20,
    "start_time": "2022-04-05T17:38:13.181Z"
   },
   {
    "duration": 8,
    "start_time": "2022-04-05T17:38:13.203Z"
   },
   {
    "duration": 442,
    "start_time": "2023-05-19T16:40:36.753Z"
   },
   {
    "duration": 492,
    "start_time": "2023-05-19T16:40:37.197Z"
   },
   {
    "duration": 17,
    "start_time": "2023-05-19T16:40:37.691Z"
   },
   {
    "duration": 28,
    "start_time": "2023-05-19T16:40:37.710Z"
   },
   {
    "duration": 4,
    "start_time": "2023-05-19T16:40:37.740Z"
   },
   {
    "duration": 29,
    "start_time": "2023-05-19T16:40:37.746Z"
   },
   {
    "duration": 9,
    "start_time": "2023-05-19T16:40:37.777Z"
   },
   {
    "duration": 34,
    "start_time": "2023-05-19T16:40:37.787Z"
   },
   {
    "duration": 25,
    "start_time": "2023-05-19T16:40:37.823Z"
   },
   {
    "duration": 30,
    "start_time": "2023-05-19T16:40:37.849Z"
   },
   {
    "duration": 87,
    "start_time": "2023-05-19T16:40:37.881Z"
   },
   {
    "duration": 81,
    "start_time": "2023-05-19T16:40:37.971Z"
   },
   {
    "duration": 77,
    "start_time": "2023-05-19T16:40:38.054Z"
   },
   {
    "duration": 48,
    "start_time": "2023-05-19T16:40:38.136Z"
   },
   {
    "duration": 4,
    "start_time": "2023-05-19T16:40:38.186Z"
   },
   {
    "duration": 935,
    "start_time": "2023-05-19T16:40:38.191Z"
   },
   {
    "duration": 53,
    "start_time": "2023-05-19T16:40:39.128Z"
   },
   {
    "duration": 15,
    "start_time": "2023-05-19T16:40:39.183Z"
   },
   {
    "duration": 15,
    "start_time": "2023-05-19T16:40:39.199Z"
   },
   {
    "duration": 5,
    "start_time": "2023-05-19T16:40:39.218Z"
   },
   {
    "duration": 51,
    "start_time": "2023-05-19T16:40:39.225Z"
   },
   {
    "duration": 16,
    "start_time": "2023-05-19T16:40:39.278Z"
   },
   {
    "duration": 15,
    "start_time": "2023-05-19T16:40:39.296Z"
   },
   {
    "duration": 15,
    "start_time": "2023-05-19T16:40:39.313Z"
   },
   {
    "duration": 44,
    "start_time": "2023-05-19T16:40:39.330Z"
   },
   {
    "duration": 18,
    "start_time": "2023-05-19T16:40:39.376Z"
   },
   {
    "duration": 9,
    "start_time": "2023-05-19T16:40:39.396Z"
   },
   {
    "duration": 14,
    "start_time": "2023-05-19T16:40:39.407Z"
   },
   {
    "duration": 11,
    "start_time": "2023-05-19T16:40:39.423Z"
   },
   {
    "duration": 6,
    "start_time": "2023-05-19T16:40:39.469Z"
   },
   {
    "duration": 28,
    "start_time": "2023-05-19T16:40:39.476Z"
   },
   {
    "duration": 12,
    "start_time": "2023-05-19T16:40:39.506Z"
   },
   {
    "duration": 16,
    "start_time": "2023-05-19T16:40:39.519Z"
   },
   {
    "duration": 29,
    "start_time": "2023-05-19T16:40:39.537Z"
   },
   {
    "duration": 8,
    "start_time": "2023-05-19T16:40:39.568Z"
   },
   {
    "duration": 4,
    "start_time": "2023-05-19T16:40:39.578Z"
   },
   {
    "duration": 7,
    "start_time": "2023-05-19T16:40:39.584Z"
   },
   {
    "duration": 6,
    "start_time": "2023-05-19T16:40:39.592Z"
   },
   {
    "duration": 396,
    "start_time": "2023-05-19T16:40:45.318Z"
   },
   {
    "duration": 174,
    "start_time": "2023-05-19T16:40:45.716Z"
   },
   {
    "duration": 16,
    "start_time": "2023-05-19T16:40:45.892Z"
   },
   {
    "duration": 29,
    "start_time": "2023-05-19T16:40:45.910Z"
   },
   {
    "duration": 14,
    "start_time": "2023-05-19T16:40:45.956Z"
   },
   {
    "duration": 18,
    "start_time": "2023-05-19T16:40:45.972Z"
   },
   {
    "duration": 5,
    "start_time": "2023-05-19T16:40:45.992Z"
   },
   {
    "duration": 26,
    "start_time": "2023-05-19T16:40:45.999Z"
   },
   {
    "duration": 47,
    "start_time": "2023-05-19T16:40:46.027Z"
   },
   {
    "duration": 22,
    "start_time": "2023-05-19T16:40:46.077Z"
   },
   {
    "duration": 75,
    "start_time": "2023-05-19T16:40:46.100Z"
   },
   {
    "duration": 91,
    "start_time": "2023-05-19T16:40:46.177Z"
   },
   {
    "duration": 63,
    "start_time": "2023-05-19T16:40:46.271Z"
   },
   {
    "duration": 51,
    "start_time": "2023-05-19T16:40:46.336Z"
   },
   {
    "duration": 3,
    "start_time": "2023-05-19T16:40:46.389Z"
   },
   {
    "duration": 777,
    "start_time": "2023-05-19T16:40:46.394Z"
   },
   {
    "duration": 36,
    "start_time": "2023-05-19T16:40:47.172Z"
   },
   {
    "duration": 17,
    "start_time": "2023-05-19T16:40:47.210Z"
   },
   {
    "duration": 39,
    "start_time": "2023-05-19T16:40:47.229Z"
   },
   {
    "duration": 16,
    "start_time": "2023-05-19T16:40:47.271Z"
   },
   {
    "duration": 20,
    "start_time": "2023-05-19T16:40:47.288Z"
   },
   {
    "duration": 15,
    "start_time": "2023-05-19T16:40:47.310Z"
   },
   {
    "duration": 36,
    "start_time": "2023-05-19T16:40:47.327Z"
   },
   {
    "duration": 19,
    "start_time": "2023-05-19T16:40:47.365Z"
   },
   {
    "duration": 19,
    "start_time": "2023-05-19T16:40:47.386Z"
   },
   {
    "duration": 16,
    "start_time": "2023-05-19T16:40:47.408Z"
   },
   {
    "duration": 35,
    "start_time": "2023-05-19T16:40:47.426Z"
   },
   {
    "duration": 18,
    "start_time": "2023-05-19T16:40:47.464Z"
   },
   {
    "duration": 9,
    "start_time": "2023-05-19T16:40:47.484Z"
   },
   {
    "duration": 5,
    "start_time": "2023-05-19T16:40:47.494Z"
   },
   {
    "duration": 31,
    "start_time": "2023-05-19T16:40:47.500Z"
   },
   {
    "duration": 29,
    "start_time": "2023-05-19T16:40:47.533Z"
   },
   {
    "duration": 35,
    "start_time": "2023-05-19T16:40:47.564Z"
   },
   {
    "duration": 18,
    "start_time": "2023-05-19T16:40:47.600Z"
   },
   {
    "duration": 8,
    "start_time": "2023-05-19T16:40:47.620Z"
   },
   {
    "duration": 14,
    "start_time": "2023-05-19T16:40:47.629Z"
   },
   {
    "duration": 8,
    "start_time": "2023-05-19T16:40:47.644Z"
   },
   {
    "duration": 13,
    "start_time": "2023-05-19T16:40:47.653Z"
   }
  ],
  "colab": {
   "collapsed_sections": [
    "E0vqbgi9ay0H",
    "VUC88oWjTJw2"
   ],
   "name": "yandex_music_project_2021.2.ipynb",
   "provenance": []
  },
  "kernelspec": {
   "display_name": "Python 3 (ipykernel)",
   "language": "python",
   "name": "python3"
  },
  "language_info": {
   "codemirror_mode": {
    "name": "ipython",
    "version": 3
   },
   "file_extension": ".py",
   "mimetype": "text/x-python",
   "name": "python",
   "nbconvert_exporter": "python",
   "pygments_lexer": "ipython3",
   "version": "3.9.5"
  },
  "toc": {
   "base_numbering": 1,
   "nav_menu": {},
   "number_sections": true,
   "sideBar": true,
   "skip_h1_title": true,
   "title_cell": "Table of Contents",
   "title_sidebar": "Contents",
   "toc_cell": false,
   "toc_position": {
    "height": "calc(100% - 180px)",
    "left": "10px",
    "top": "150px",
    "width": "385.391px"
   },
   "toc_section_display": true,
   "toc_window_display": false
  }
 },
 "nbformat": 4,
 "nbformat_minor": 1
}
