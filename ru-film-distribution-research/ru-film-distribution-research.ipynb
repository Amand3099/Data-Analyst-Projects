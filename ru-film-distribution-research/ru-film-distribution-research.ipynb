{
 "cells": [
  {
   "cell_type": "markdown",
   "metadata": {
    "toc": true
   },
   "source": [
    "<h1>Содержание<span class=\"tocSkip\"></span></h1>\n",
    "<div class=\"toc\"><ul class=\"toc-item\"><li><span><a href=\"#Исследование-данных-о-российском-кинопрокате\" data-toc-modified-id=\"Исследование-данных-о-российском-кинопрокате-1\"><span class=\"toc-item-num\">1&nbsp;&nbsp;</span>Исследование данных о российском кинопрокате</a></span><ul class=\"toc-item\"><li><span><a href=\"#Импорт-библиотек-и-объединение-файлов\" data-toc-modified-id=\"Импорт-библиотек-и-объединение-файлов-1.1\"><span class=\"toc-item-num\">1.1&nbsp;&nbsp;</span>Импорт библиотек и объединение файлов</a></span></li><li><span><a href=\"#Предобработка-данных\" data-toc-modified-id=\"Предобработка-данных-1.2\"><span class=\"toc-item-num\">1.2&nbsp;&nbsp;</span>Предобработка данных</a></span><ul class=\"toc-item\"><li><span><a href=\"#Проверка-типов-данных\" data-toc-modified-id=\"Проверка-типов-данных-1.2.1\"><span class=\"toc-item-num\">1.2.1&nbsp;&nbsp;</span>Проверка типов данных</a></span></li><li><span><a href=\"#Изучение-пропусков-в-датафрейме\" data-toc-modified-id=\"Изучение-пропусков-в-датафрейме-1.2.2\"><span class=\"toc-item-num\">1.2.2&nbsp;&nbsp;</span>Изучение пропусков в датафрейме</a></span></li><li><span><a href=\"#Изучение-дубликатов-в-датафрейме\" data-toc-modified-id=\"Изучение-дубликатов-в-датафрейме-1.2.3\"><span class=\"toc-item-num\">1.2.3&nbsp;&nbsp;</span>Изучение дубликатов в датафрейме</a></span></li><li><span><a href=\"#Изучение-категориальных-значений\" data-toc-modified-id=\"Изучение-категориальных-значений-1.2.4\"><span class=\"toc-item-num\">1.2.4&nbsp;&nbsp;</span>Изучение категориальных значений</a></span></li><li><span><a href=\"#Проверка-количественных-значений\" data-toc-modified-id=\"Проверка-количественных-значений-1.2.5\"><span class=\"toc-item-num\">1.2.5&nbsp;&nbsp;</span>Проверка количественных значений</a></span></li><li><span><a href=\"#Добавление-новых-столбцов\" data-toc-modified-id=\"Добавление-новых-столбцов-1.2.6\"><span class=\"toc-item-num\">1.2.6&nbsp;&nbsp;</span>Добавление новых столбцов</a></span></li></ul></li><li><span><a href=\"#Исследовательский-анализ-данных\" data-toc-modified-id=\"Исследовательский-анализ-данных-1.3\"><span class=\"toc-item-num\">1.3&nbsp;&nbsp;</span>Исследовательский анализ данных</a></span></li><li><span><a href=\"#Исследование-фильмов,-которые-получили-государственную-поддержку\" data-toc-modified-id=\"Исследование-фильмов,-которые-получили-государственную-поддержку-1.4\"><span class=\"toc-item-num\">1.4&nbsp;&nbsp;</span>Исследование фильмов, которые получили государственную поддержку</a></span></li><li><span><a href=\"#Общий-вывод\" data-toc-modified-id=\"Общий-вывод-1.5\"><span class=\"toc-item-num\">1.5&nbsp;&nbsp;</span>Общий вывод</a></span></li></ul></li></ul></div>"
   ]
  },
  {
   "cell_type": "markdown",
   "metadata": {
    "id": "sIfNaMOxgFyK"
   },
   "source": [
    "## Исследование данных о российском кинопрокате\n",
    "\n"
   ]
  },
  {
   "cell_type": "markdown",
   "metadata": {},
   "source": [
    "**Заказчик исследования** — Министерство культуры Российской Федерации.\n",
    "\n",
    "\n",
    "**Задача** — изучить рынок российского кинопроката и выявить текущие тренды. \n",
    "\n",
    "\n",
    "**Исходные данные** — данные, опубликованными на портале Министерства культуры."
   ]
  },
  {
   "cell_type": "markdown",
   "metadata": {
    "id": "3bSlkCsbgFyL"
   },
   "source": [
    "### Импорт библиотек и объединение файлов "
   ]
  },
  {
   "cell_type": "code",
   "execution_count": 1,
   "metadata": {
    "id": "dw87FlzMgFyM"
   },
   "outputs": [],
   "source": [
    "import pandas as pd #импорт библиотеки pandas\n",
    "import warnings #отключение варнингов\n",
    "warnings.filterwarnings(\"ignore\")"
   ]
  },
  {
   "cell_type": "code",
   "execution_count": 2,
   "metadata": {},
   "outputs": [
    {
     "data": {
      "text/html": [
       "<div>\n",
       "<style scoped>\n",
       "    .dataframe tbody tr th:only-of-type {\n",
       "        vertical-align: middle;\n",
       "    }\n",
       "\n",
       "    .dataframe tbody tr th {\n",
       "        vertical-align: top;\n",
       "    }\n",
       "\n",
       "    .dataframe thead th {\n",
       "        text-align: right;\n",
       "    }\n",
       "</style>\n",
       "<table border=\"1\" class=\"dataframe\">\n",
       "  <thead>\n",
       "    <tr style=\"text-align: right;\">\n",
       "      <th></th>\n",
       "      <th>title</th>\n",
       "      <th>puNumber</th>\n",
       "      <th>show_start_date</th>\n",
       "      <th>type</th>\n",
       "      <th>film_studio</th>\n",
       "      <th>production_country</th>\n",
       "      <th>director</th>\n",
       "      <th>producer</th>\n",
       "      <th>age_restriction</th>\n",
       "      <th>refundable_support</th>\n",
       "      <th>nonrefundable_support</th>\n",
       "      <th>budget</th>\n",
       "      <th>financing_source</th>\n",
       "      <th>ratings</th>\n",
       "      <th>genres</th>\n",
       "    </tr>\n",
       "  </thead>\n",
       "  <tbody>\n",
       "    <tr>\n",
       "      <th>0</th>\n",
       "      <td>Открытый простор</td>\n",
       "      <td>221048915</td>\n",
       "      <td>2015-11-27T12:00:00.000Z</td>\n",
       "      <td>Художественный</td>\n",
       "      <td>Тачстоун Пикчерз, Кобальт Пикчерз, Бикон Пикче...</td>\n",
       "      <td>США</td>\n",
       "      <td>Кевин Костнер</td>\n",
       "      <td>Дэвид Валдес, Кевин Костнер, Джейк Эбертс</td>\n",
       "      <td>«18+» - запрещено для детей</td>\n",
       "      <td>NaN</td>\n",
       "      <td>NaN</td>\n",
       "      <td>NaN</td>\n",
       "      <td>NaN</td>\n",
       "      <td>7.2</td>\n",
       "      <td>боевик,драма,мелодрама</td>\n",
       "    </tr>\n",
       "    <tr>\n",
       "      <th>1</th>\n",
       "      <td>Особо важное задание</td>\n",
       "      <td>111013716</td>\n",
       "      <td>2016-09-13T12:00:00.000Z</td>\n",
       "      <td>Художественный</td>\n",
       "      <td>Киностудия \"Мосфильм\"</td>\n",
       "      <td>СССР</td>\n",
       "      <td>Е.Матвеев</td>\n",
       "      <td>NaN</td>\n",
       "      <td>«6+» - для детей старше 6 лет</td>\n",
       "      <td>NaN</td>\n",
       "      <td>NaN</td>\n",
       "      <td>NaN</td>\n",
       "      <td>NaN</td>\n",
       "      <td>6.6</td>\n",
       "      <td>драма,военный</td>\n",
       "    </tr>\n",
       "    <tr>\n",
       "      <th>2</th>\n",
       "      <td>Особо опасен</td>\n",
       "      <td>221038416</td>\n",
       "      <td>2016-10-10T12:00:00.000Z</td>\n",
       "      <td>Художественный</td>\n",
       "      <td>Юниверсал Пикчерз, Кикстарт Продакшнз, Марк Пл...</td>\n",
       "      <td>США</td>\n",
       "      <td>Тимур Бекмамбетов</td>\n",
       "      <td>Джим Лемли, Джейсон Нетер, Марк Е.Платт, Яйн Смит</td>\n",
       "      <td>«18+» - запрещено для детей</td>\n",
       "      <td>NaN</td>\n",
       "      <td>NaN</td>\n",
       "      <td>NaN</td>\n",
       "      <td>NaN</td>\n",
       "      <td>6.8</td>\n",
       "      <td>фантастика,боевик,триллер</td>\n",
       "    </tr>\n",
       "    <tr>\n",
       "      <th>3</th>\n",
       "      <td>Особо опасен</td>\n",
       "      <td>221026916</td>\n",
       "      <td>2016-06-10T12:00:00.000Z</td>\n",
       "      <td>Художественный</td>\n",
       "      <td>Юниверсал Пикчерз, Кикстарт Продакшнз, Марк Пл...</td>\n",
       "      <td>США</td>\n",
       "      <td>Тимур Бекмамбетов</td>\n",
       "      <td>Джим Лемли, Джейсон Нетер, Марк Е.Платт, Яйн Смит</td>\n",
       "      <td>«18+» - запрещено для детей</td>\n",
       "      <td>NaN</td>\n",
       "      <td>NaN</td>\n",
       "      <td>NaN</td>\n",
       "      <td>NaN</td>\n",
       "      <td>6.8</td>\n",
       "      <td>фантастика,боевик,триллер</td>\n",
       "    </tr>\n",
       "    <tr>\n",
       "      <th>4</th>\n",
       "      <td>Особо опасен</td>\n",
       "      <td>221030815</td>\n",
       "      <td>2015-07-29T12:00:00.000Z</td>\n",
       "      <td>Художественный</td>\n",
       "      <td>Юниверсал Пикчерз, Кикстарт Продакшнз, Марк Пл...</td>\n",
       "      <td>США</td>\n",
       "      <td>Тимур Бекмамбетов</td>\n",
       "      <td>Джим Лемли, Джейсон Нетер, Марк Е.Платт, Яйн Смит</td>\n",
       "      <td>«18+» - запрещено для детей</td>\n",
       "      <td>NaN</td>\n",
       "      <td>NaN</td>\n",
       "      <td>NaN</td>\n",
       "      <td>NaN</td>\n",
       "      <td>6.8</td>\n",
       "      <td>фантастика,боевик,триллер</td>\n",
       "    </tr>\n",
       "    <tr>\n",
       "      <th>5</th>\n",
       "      <td>Остановился поезд</td>\n",
       "      <td>111013816</td>\n",
       "      <td>2016-09-13T12:00:00.000Z</td>\n",
       "      <td>Художественный</td>\n",
       "      <td>Киностудия \"Мосфильм\"</td>\n",
       "      <td>СССР</td>\n",
       "      <td>В.Абдрашитов</td>\n",
       "      <td>NaN</td>\n",
       "      <td>«6+» - для детей старше 6 лет</td>\n",
       "      <td>NaN</td>\n",
       "      <td>NaN</td>\n",
       "      <td>NaN</td>\n",
       "      <td>NaN</td>\n",
       "      <td>7.7</td>\n",
       "      <td>драма</td>\n",
       "    </tr>\n",
       "    <tr>\n",
       "      <th>6</th>\n",
       "      <td>Любовь и голуби</td>\n",
       "      <td>111007013</td>\n",
       "      <td>2013-10-18T12:00:00.000Z</td>\n",
       "      <td>Художественный</td>\n",
       "      <td>Киностудия \"Мосфильм\"</td>\n",
       "      <td>СССР</td>\n",
       "      <td>В.Меньшов</td>\n",
       "      <td>NaN</td>\n",
       "      <td>«12+» - для детей старше 12 лет</td>\n",
       "      <td>NaN</td>\n",
       "      <td>NaN</td>\n",
       "      <td>NaN</td>\n",
       "      <td>NaN</td>\n",
       "      <td>8.3</td>\n",
       "      <td>мелодрама,комедия</td>\n",
       "    </tr>\n",
       "    <tr>\n",
       "      <th>7</th>\n",
       "      <td>Любовь и сигареты</td>\n",
       "      <td>221074614</td>\n",
       "      <td>2014-12-29T12:00:00.000Z</td>\n",
       "      <td>Художественный</td>\n",
       "      <td>Юнайтед Артистс, Грин Стрит Филмз, Айкон Интер...</td>\n",
       "      <td>США</td>\n",
       "      <td>Джон Туртурро</td>\n",
       "      <td>Джон Пенотти, Джон Туртурро</td>\n",
       "      <td>«18+» - запрещено для детей</td>\n",
       "      <td>NaN</td>\n",
       "      <td>NaN</td>\n",
       "      <td>NaN</td>\n",
       "      <td>NaN</td>\n",
       "      <td>6.6</td>\n",
       "      <td>мюзикл,мелодрама,комедия</td>\n",
       "    </tr>\n",
       "    <tr>\n",
       "      <th>8</th>\n",
       "      <td>Отпетые мошенники.</td>\n",
       "      <td>121011416</td>\n",
       "      <td>2016-05-05T12:00:00.000Z</td>\n",
       "      <td>Художественный</td>\n",
       "      <td>Пульсар Продюксьон, ТФ1 Фильм</td>\n",
       "      <td>Франция</td>\n",
       "      <td>Эрик Беснард</td>\n",
       "      <td>Патрис Леду</td>\n",
       "      <td>«18+» - запрещено для детей</td>\n",
       "      <td>NaN</td>\n",
       "      <td>NaN</td>\n",
       "      <td>NaN</td>\n",
       "      <td>NaN</td>\n",
       "      <td>8.0</td>\n",
       "      <td>комедия,криминал</td>\n",
       "    </tr>\n",
       "    <tr>\n",
       "      <th>9</th>\n",
       "      <td>Отпуск за свой счет</td>\n",
       "      <td>111019114</td>\n",
       "      <td>2014-12-01T12:00:00.000Z</td>\n",
       "      <td>Художественный</td>\n",
       "      <td>Киностудия \"Мосфильм\", Телевидение ВНР</td>\n",
       "      <td>СССР, Венгрия</td>\n",
       "      <td>В.Титов</td>\n",
       "      <td>NaN</td>\n",
       "      <td>«12+» - для детей старше 12 лет</td>\n",
       "      <td>NaN</td>\n",
       "      <td>NaN</td>\n",
       "      <td>NaN</td>\n",
       "      <td>NaN</td>\n",
       "      <td>7.8</td>\n",
       "      <td>мелодрама,комедия</td>\n",
       "    </tr>\n",
       "  </tbody>\n",
       "</table>\n",
       "</div>"
      ],
      "text/plain": [
       "                  title   puNumber           show_start_date            type  \\\n",
       "0      Открытый простор  221048915  2015-11-27T12:00:00.000Z  Художественный   \n",
       "1  Особо важное задание  111013716  2016-09-13T12:00:00.000Z  Художественный   \n",
       "2          Особо опасен  221038416  2016-10-10T12:00:00.000Z  Художественный   \n",
       "3          Особо опасен  221026916  2016-06-10T12:00:00.000Z  Художественный   \n",
       "4          Особо опасен  221030815  2015-07-29T12:00:00.000Z  Художественный   \n",
       "5     Остановился поезд  111013816  2016-09-13T12:00:00.000Z  Художественный   \n",
       "6       Любовь и голуби  111007013  2013-10-18T12:00:00.000Z  Художественный   \n",
       "7     Любовь и сигареты  221074614  2014-12-29T12:00:00.000Z  Художественный   \n",
       "8    Отпетые мошенники.  121011416  2016-05-05T12:00:00.000Z  Художественный   \n",
       "9   Отпуск за свой счет  111019114  2014-12-01T12:00:00.000Z  Художественный   \n",
       "\n",
       "                                         film_studio production_country  \\\n",
       "0  Тачстоун Пикчерз, Кобальт Пикчерз, Бикон Пикче...                США   \n",
       "1                              Киностудия \"Мосфильм\"               СССР   \n",
       "2  Юниверсал Пикчерз, Кикстарт Продакшнз, Марк Пл...                США   \n",
       "3  Юниверсал Пикчерз, Кикстарт Продакшнз, Марк Пл...                США   \n",
       "4  Юниверсал Пикчерз, Кикстарт Продакшнз, Марк Пл...                США   \n",
       "5                              Киностудия \"Мосфильм\"               СССР   \n",
       "6                              Киностудия \"Мосфильм\"               СССР   \n",
       "7  Юнайтед Артистс, Грин Стрит Филмз, Айкон Интер...                США   \n",
       "8                     Пульсар Продюксьон, ТФ1 Фильм             Франция   \n",
       "9             Киностудия \"Мосфильм\", Телевидение ВНР      СССР, Венгрия   \n",
       "\n",
       "            director                                           producer  \\\n",
       "0      Кевин Костнер          Дэвид Валдес, Кевин Костнер, Джейк Эбертс   \n",
       "1          Е.Матвеев                                                NaN   \n",
       "2  Тимур Бекмамбетов  Джим Лемли, Джейсон Нетер, Марк Е.Платт, Яйн Смит   \n",
       "3  Тимур Бекмамбетов  Джим Лемли, Джейсон Нетер, Марк Е.Платт, Яйн Смит   \n",
       "4  Тимур Бекмамбетов  Джим Лемли, Джейсон Нетер, Марк Е.Платт, Яйн Смит   \n",
       "5       В.Абдрашитов                                                NaN   \n",
       "6          В.Меньшов                                                NaN   \n",
       "7      Джон Туртурро                        Джон Пенотти, Джон Туртурро   \n",
       "8       Эрик Беснард                                        Патрис Леду   \n",
       "9            В.Титов                                                NaN   \n",
       "\n",
       "                   age_restriction  refundable_support  nonrefundable_support  \\\n",
       "0      «18+» - запрещено для детей                 NaN                    NaN   \n",
       "1    «6+» - для детей старше 6 лет                 NaN                    NaN   \n",
       "2      «18+» - запрещено для детей                 NaN                    NaN   \n",
       "3      «18+» - запрещено для детей                 NaN                    NaN   \n",
       "4      «18+» - запрещено для детей                 NaN                    NaN   \n",
       "5    «6+» - для детей старше 6 лет                 NaN                    NaN   \n",
       "6  «12+» - для детей старше 12 лет                 NaN                    NaN   \n",
       "7      «18+» - запрещено для детей                 NaN                    NaN   \n",
       "8      «18+» - запрещено для детей                 NaN                    NaN   \n",
       "9  «12+» - для детей старше 12 лет                 NaN                    NaN   \n",
       "\n",
       "   budget financing_source ratings                     genres  \n",
       "0     NaN              NaN     7.2     боевик,драма,мелодрама  \n",
       "1     NaN              NaN     6.6              драма,военный  \n",
       "2     NaN              NaN     6.8  фантастика,боевик,триллер  \n",
       "3     NaN              NaN     6.8  фантастика,боевик,триллер  \n",
       "4     NaN              NaN     6.8  фантастика,боевик,триллер  \n",
       "5     NaN              NaN     7.7                      драма  \n",
       "6     NaN              NaN     8.3          мелодрама,комедия  \n",
       "7     NaN              NaN     6.6   мюзикл,мелодрама,комедия  \n",
       "8     NaN              NaN     8.0           комедия,криминал  \n",
       "9     NaN              NaN     7.8          мелодрама,комедия  "
      ]
     },
     "metadata": {},
     "output_type": "display_data"
    },
    {
     "data": {
      "text/html": [
       "<div>\n",
       "<style scoped>\n",
       "    .dataframe tbody tr th:only-of-type {\n",
       "        vertical-align: middle;\n",
       "    }\n",
       "\n",
       "    .dataframe tbody tr th {\n",
       "        vertical-align: top;\n",
       "    }\n",
       "\n",
       "    .dataframe thead th {\n",
       "        text-align: right;\n",
       "    }\n",
       "</style>\n",
       "<table border=\"1\" class=\"dataframe\">\n",
       "  <thead>\n",
       "    <tr style=\"text-align: right;\">\n",
       "      <th></th>\n",
       "      <th>puNumber</th>\n",
       "      <th>box_office</th>\n",
       "    </tr>\n",
       "  </thead>\n",
       "  <tbody>\n",
       "    <tr>\n",
       "      <th>0</th>\n",
       "      <td>111000113</td>\n",
       "      <td>2.450000e+03</td>\n",
       "    </tr>\n",
       "    <tr>\n",
       "      <th>1</th>\n",
       "      <td>111000115</td>\n",
       "      <td>6.104000e+04</td>\n",
       "    </tr>\n",
       "    <tr>\n",
       "      <th>2</th>\n",
       "      <td>111000116</td>\n",
       "      <td>1.530300e+08</td>\n",
       "    </tr>\n",
       "    <tr>\n",
       "      <th>3</th>\n",
       "      <td>111000117</td>\n",
       "      <td>1.226096e+07</td>\n",
       "    </tr>\n",
       "    <tr>\n",
       "      <th>4</th>\n",
       "      <td>111000118</td>\n",
       "      <td>1.636841e+08</td>\n",
       "    </tr>\n",
       "    <tr>\n",
       "      <th>5</th>\n",
       "      <td>111000119</td>\n",
       "      <td>4.293650e+06</td>\n",
       "    </tr>\n",
       "    <tr>\n",
       "      <th>6</th>\n",
       "      <td>111000212</td>\n",
       "      <td>2.000000e+02</td>\n",
       "    </tr>\n",
       "    <tr>\n",
       "      <th>7</th>\n",
       "      <td>111000216</td>\n",
       "      <td>3.555670e+05</td>\n",
       "    </tr>\n",
       "    <tr>\n",
       "      <th>8</th>\n",
       "      <td>111000313</td>\n",
       "      <td>7.100000e+02</td>\n",
       "    </tr>\n",
       "    <tr>\n",
       "      <th>9</th>\n",
       "      <td>111000314</td>\n",
       "      <td>1.607970e+06</td>\n",
       "    </tr>\n",
       "  </tbody>\n",
       "</table>\n",
       "</div>"
      ],
      "text/plain": [
       "    puNumber    box_office\n",
       "0  111000113  2.450000e+03\n",
       "1  111000115  6.104000e+04\n",
       "2  111000116  1.530300e+08\n",
       "3  111000117  1.226096e+07\n",
       "4  111000118  1.636841e+08\n",
       "5  111000119  4.293650e+06\n",
       "6  111000212  2.000000e+02\n",
       "7  111000216  3.555670e+05\n",
       "8  111000313  7.100000e+02\n",
       "9  111000314  1.607970e+06"
      ]
     },
     "metadata": {},
     "output_type": "display_data"
    },
    {
     "name": "stdout",
     "output_type": "stream",
     "text": [
      "<class 'pandas.core.frame.DataFrame'>\n",
      "RangeIndex: 7486 entries, 0 to 7485\n",
      "Data columns (total 15 columns):\n",
      " #   Column                 Non-Null Count  Dtype  \n",
      "---  ------                 --------------  -----  \n",
      " 0   title                  7486 non-null   object \n",
      " 1   puNumber               7486 non-null   object \n",
      " 2   show_start_date        7486 non-null   object \n",
      " 3   type                   7486 non-null   object \n",
      " 4   film_studio            7468 non-null   object \n",
      " 5   production_country     7484 non-null   object \n",
      " 6   director               7477 non-null   object \n",
      " 7   producer               6918 non-null   object \n",
      " 8   age_restriction        7486 non-null   object \n",
      " 9   refundable_support     332 non-null    float64\n",
      " 10  nonrefundable_support  332 non-null    float64\n",
      " 11  budget                 332 non-null    float64\n",
      " 12  financing_source       332 non-null    object \n",
      " 13  ratings                6519 non-null   object \n",
      " 14  genres                 6510 non-null   object \n",
      "dtypes: float64(3), object(12)\n",
      "memory usage: 877.4+ KB\n",
      "<class 'pandas.core.frame.DataFrame'>\n",
      "RangeIndex: 3158 entries, 0 to 3157\n",
      "Data columns (total 2 columns):\n",
      " #   Column      Non-Null Count  Dtype  \n",
      "---  ------      --------------  -----  \n",
      " 0   puNumber    3158 non-null   int64  \n",
      " 1   box_office  3158 non-null   float64\n",
      "dtypes: float64(1), int64(1)\n",
      "memory usage: 49.5 KB\n"
     ]
    }
   ],
   "source": [
    "df1 = pd.read_csv('/datasets/mkrf_movies.csv') #чтение 1 файла с данными и сохранение в df1\n",
    "df2 = pd.read_csv('/datasets/mkrf_shows.csv') #чтение 2 файла с данными и сохранение в df2\n",
    "display(df1.head(10)) #вывод на экран первых 10 строк таблицы df1\n",
    "display(df2.head(10)) #вывод на экран первых 10 строк таблицы df2\n",
    "df1.info() #получение общей информации о таблице df1\n",
    "df2.info() #получение общей информации о таблице df2"
   ]
  },
  {
   "cell_type": "markdown",
   "metadata": {},
   "source": [
    "Исходные данные представляют собой два датафрейма. Согласно описанию проекта, таблица `mkrf_movies` содержит информацию из реестра прокатных удостоверений. У одного фильма может быть несколько прокатных удостоверений.\n",
    "\n",
    "Таблица `mkrf_shows` содержит сведения о показах фильмов в российских кинотеатрах.\n",
    "\n",
    "Датафреймы следует объединить в один. Сделать это можно с помощью метода merge() на основании того, что у представленных датафреймов есть один общий столбец - 'puNumber'. Однако, в первом датафрейме он имеет тип данных 'object', а во втором - 'int64'. Перед тем, как объединять датафреймы, следует привести столбец 'puNumber' к типу 'object'."
   ]
  },
  {
   "cell_type": "code",
   "execution_count": 3,
   "metadata": {
    "scrolled": false
   },
   "outputs": [
    {
     "name": "stdout",
     "output_type": "stream",
     "text": [
      "True    3158\n",
      "Name: puNumber, dtype: int64\n",
      "True    3158\n",
      "Name: box_office, dtype: int64\n",
      "True    7486\n",
      "Name: title, dtype: int64\n",
      "True    7486\n",
      "Name: puNumber, dtype: int64\n",
      "True    7486\n",
      "Name: show_start_date, dtype: int64\n",
      "True    7486\n",
      "Name: type, dtype: int64\n",
      "True    7486\n",
      "Name: film_studio, dtype: int64\n",
      "True    7486\n",
      "Name: production_country, dtype: int64\n",
      "True    7486\n",
      "Name: director, dtype: int64\n",
      "True    7486\n",
      "Name: producer, dtype: int64\n",
      "True    7486\n",
      "Name: age_restriction, dtype: int64\n",
      "True    7486\n",
      "Name: refundable_support, dtype: int64\n",
      "True    7486\n",
      "Name: nonrefundable_support, dtype: int64\n",
      "True    7486\n",
      "Name: budget, dtype: int64\n",
      "True    7486\n",
      "Name: financing_source, dtype: int64\n",
      "True    7486\n",
      "Name: ratings, dtype: int64\n",
      "True    7486\n",
      "Name: genres, dtype: int64\n"
     ]
    }
   ],
   "source": [
    "df1.loc[df1['puNumber'] == 'нет', 'puNumber'] = 0 #заполняем пропуск для того, чтобы изменить тип данных на int\n",
    "df1['puNumber'] = df1['puNumber'].astype('int') #изменение типа данных в столбце 'puNumber' на int\n",
    "\n",
    "df = df1.merge(df2, on='puNumber', how='outer') #объединение датафреймов в один\n",
    "\n",
    "print(df2['puNumber'].isin(df['puNumber']).value_counts()) #проверка на включение данных из df2 в df\n",
    "print(df2['box_office'].isin(df['box_office']).value_counts())\n",
    "\n",
    "print(df1['title'].isin(df['title']).value_counts()) #проверка на включение данных из df1 в df\n",
    "print(df1['puNumber'].isin(df['puNumber']).value_counts())\n",
    "print(df1['show_start_date'].isin(df['show_start_date']).value_counts())\n",
    "print(df1['type'].isin(df['type']).value_counts())\n",
    "print(df1['film_studio'].isin(df['film_studio']).value_counts())\n",
    "print(df1['production_country'].isin(df['production_country']).value_counts())\n",
    "print(df1['director'].isin(df['director']).value_counts())\n",
    "print(df1['producer'].isin(df['producer']).value_counts())\n",
    "print(df1['age_restriction'].isin(df['age_restriction']).value_counts())\n",
    "print(df1['refundable_support'].isin(df['refundable_support']).value_counts())\n",
    "print(df1['nonrefundable_support'].isin(df['nonrefundable_support']).value_counts())\n",
    "print(df1['budget'].isin(df['budget']).value_counts())\n",
    "print(df1['financing_source'].isin(df['financing_source']).value_counts())\n",
    "print(df1['ratings'].isin(df['ratings']).value_counts())\n",
    "print(df1['genres'].isin(df['genres']).value_counts())"
   ]
  },
  {
   "cell_type": "code",
   "execution_count": 4,
   "metadata": {},
   "outputs": [
    {
     "data": {
      "text/html": [
       "<div>\n",
       "<style scoped>\n",
       "    .dataframe tbody tr th:only-of-type {\n",
       "        vertical-align: middle;\n",
       "    }\n",
       "\n",
       "    .dataframe tbody tr th {\n",
       "        vertical-align: top;\n",
       "    }\n",
       "\n",
       "    .dataframe thead th {\n",
       "        text-align: right;\n",
       "    }\n",
       "</style>\n",
       "<table border=\"1\" class=\"dataframe\">\n",
       "  <thead>\n",
       "    <tr style=\"text-align: right;\">\n",
       "      <th></th>\n",
       "      <th>title</th>\n",
       "      <th>puNumber</th>\n",
       "      <th>show_start_date</th>\n",
       "      <th>type</th>\n",
       "      <th>film_studio</th>\n",
       "      <th>production_country</th>\n",
       "      <th>director</th>\n",
       "      <th>producer</th>\n",
       "      <th>age_restriction</th>\n",
       "      <th>refundable_support</th>\n",
       "      <th>nonrefundable_support</th>\n",
       "      <th>budget</th>\n",
       "      <th>financing_source</th>\n",
       "      <th>ratings</th>\n",
       "      <th>genres</th>\n",
       "      <th>box_office</th>\n",
       "    </tr>\n",
       "  </thead>\n",
       "  <tbody>\n",
       "    <tr>\n",
       "      <th>0</th>\n",
       "      <td>Открытый простор</td>\n",
       "      <td>221048915</td>\n",
       "      <td>2015-11-27T12:00:00.000Z</td>\n",
       "      <td>Художественный</td>\n",
       "      <td>Тачстоун Пикчерз, Кобальт Пикчерз, Бикон Пикче...</td>\n",
       "      <td>США</td>\n",
       "      <td>Кевин Костнер</td>\n",
       "      <td>Дэвид Валдес, Кевин Костнер, Джейк Эбертс</td>\n",
       "      <td>«18+» - запрещено для детей</td>\n",
       "      <td>NaN</td>\n",
       "      <td>NaN</td>\n",
       "      <td>NaN</td>\n",
       "      <td>NaN</td>\n",
       "      <td>7.2</td>\n",
       "      <td>боевик,драма,мелодрама</td>\n",
       "      <td>NaN</td>\n",
       "    </tr>\n",
       "    <tr>\n",
       "      <th>1</th>\n",
       "      <td>Особо важное задание</td>\n",
       "      <td>111013716</td>\n",
       "      <td>2016-09-13T12:00:00.000Z</td>\n",
       "      <td>Художественный</td>\n",
       "      <td>Киностудия \"Мосфильм\"</td>\n",
       "      <td>СССР</td>\n",
       "      <td>Е.Матвеев</td>\n",
       "      <td>NaN</td>\n",
       "      <td>«6+» - для детей старше 6 лет</td>\n",
       "      <td>NaN</td>\n",
       "      <td>NaN</td>\n",
       "      <td>NaN</td>\n",
       "      <td>NaN</td>\n",
       "      <td>6.6</td>\n",
       "      <td>драма,военный</td>\n",
       "      <td>NaN</td>\n",
       "    </tr>\n",
       "    <tr>\n",
       "      <th>2</th>\n",
       "      <td>Особо опасен</td>\n",
       "      <td>221038416</td>\n",
       "      <td>2016-10-10T12:00:00.000Z</td>\n",
       "      <td>Художественный</td>\n",
       "      <td>Юниверсал Пикчерз, Кикстарт Продакшнз, Марк Пл...</td>\n",
       "      <td>США</td>\n",
       "      <td>Тимур Бекмамбетов</td>\n",
       "      <td>Джим Лемли, Джейсон Нетер, Марк Е.Платт, Яйн Смит</td>\n",
       "      <td>«18+» - запрещено для детей</td>\n",
       "      <td>NaN</td>\n",
       "      <td>NaN</td>\n",
       "      <td>NaN</td>\n",
       "      <td>NaN</td>\n",
       "      <td>6.8</td>\n",
       "      <td>фантастика,боевик,триллер</td>\n",
       "      <td>NaN</td>\n",
       "    </tr>\n",
       "    <tr>\n",
       "      <th>3</th>\n",
       "      <td>Особо опасен</td>\n",
       "      <td>221026916</td>\n",
       "      <td>2016-06-10T12:00:00.000Z</td>\n",
       "      <td>Художественный</td>\n",
       "      <td>Юниверсал Пикчерз, Кикстарт Продакшнз, Марк Пл...</td>\n",
       "      <td>США</td>\n",
       "      <td>Тимур Бекмамбетов</td>\n",
       "      <td>Джим Лемли, Джейсон Нетер, Марк Е.Платт, Яйн Смит</td>\n",
       "      <td>«18+» - запрещено для детей</td>\n",
       "      <td>NaN</td>\n",
       "      <td>NaN</td>\n",
       "      <td>NaN</td>\n",
       "      <td>NaN</td>\n",
       "      <td>6.8</td>\n",
       "      <td>фантастика,боевик,триллер</td>\n",
       "      <td>NaN</td>\n",
       "    </tr>\n",
       "    <tr>\n",
       "      <th>4</th>\n",
       "      <td>Особо опасен</td>\n",
       "      <td>221030815</td>\n",
       "      <td>2015-07-29T12:00:00.000Z</td>\n",
       "      <td>Художественный</td>\n",
       "      <td>Юниверсал Пикчерз, Кикстарт Продакшнз, Марк Пл...</td>\n",
       "      <td>США</td>\n",
       "      <td>Тимур Бекмамбетов</td>\n",
       "      <td>Джим Лемли, Джейсон Нетер, Марк Е.Платт, Яйн Смит</td>\n",
       "      <td>«18+» - запрещено для детей</td>\n",
       "      <td>NaN</td>\n",
       "      <td>NaN</td>\n",
       "      <td>NaN</td>\n",
       "      <td>NaN</td>\n",
       "      <td>6.8</td>\n",
       "      <td>фантастика,боевик,триллер</td>\n",
       "      <td>NaN</td>\n",
       "    </tr>\n",
       "  </tbody>\n",
       "</table>\n",
       "</div>"
      ],
      "text/plain": [
       "                  title   puNumber           show_start_date            type  \\\n",
       "0      Открытый простор  221048915  2015-11-27T12:00:00.000Z  Художественный   \n",
       "1  Особо важное задание  111013716  2016-09-13T12:00:00.000Z  Художественный   \n",
       "2          Особо опасен  221038416  2016-10-10T12:00:00.000Z  Художественный   \n",
       "3          Особо опасен  221026916  2016-06-10T12:00:00.000Z  Художественный   \n",
       "4          Особо опасен  221030815  2015-07-29T12:00:00.000Z  Художественный   \n",
       "\n",
       "                                         film_studio production_country  \\\n",
       "0  Тачстоун Пикчерз, Кобальт Пикчерз, Бикон Пикче...                США   \n",
       "1                              Киностудия \"Мосфильм\"               СССР   \n",
       "2  Юниверсал Пикчерз, Кикстарт Продакшнз, Марк Пл...                США   \n",
       "3  Юниверсал Пикчерз, Кикстарт Продакшнз, Марк Пл...                США   \n",
       "4  Юниверсал Пикчерз, Кикстарт Продакшнз, Марк Пл...                США   \n",
       "\n",
       "            director                                           producer  \\\n",
       "0      Кевин Костнер          Дэвид Валдес, Кевин Костнер, Джейк Эбертс   \n",
       "1          Е.Матвеев                                                NaN   \n",
       "2  Тимур Бекмамбетов  Джим Лемли, Джейсон Нетер, Марк Е.Платт, Яйн Смит   \n",
       "3  Тимур Бекмамбетов  Джим Лемли, Джейсон Нетер, Марк Е.Платт, Яйн Смит   \n",
       "4  Тимур Бекмамбетов  Джим Лемли, Джейсон Нетер, Марк Е.Платт, Яйн Смит   \n",
       "\n",
       "                 age_restriction  refundable_support  nonrefundable_support  \\\n",
       "0    «18+» - запрещено для детей                 NaN                    NaN   \n",
       "1  «6+» - для детей старше 6 лет                 NaN                    NaN   \n",
       "2    «18+» - запрещено для детей                 NaN                    NaN   \n",
       "3    «18+» - запрещено для детей                 NaN                    NaN   \n",
       "4    «18+» - запрещено для детей                 NaN                    NaN   \n",
       "\n",
       "   budget financing_source ratings                     genres  box_office  \n",
       "0     NaN              NaN     7.2     боевик,драма,мелодрама         NaN  \n",
       "1     NaN              NaN     6.6              драма,военный         NaN  \n",
       "2     NaN              NaN     6.8  фантастика,боевик,триллер         NaN  \n",
       "3     NaN              NaN     6.8  фантастика,боевик,триллер         NaN  \n",
       "4     NaN              NaN     6.8  фантастика,боевик,триллер         NaN  "
      ]
     },
     "metadata": {},
     "output_type": "display_data"
    },
    {
     "name": "stdout",
     "output_type": "stream",
     "text": [
      "<class 'pandas.core.frame.DataFrame'>\n",
      "Int64Index: 7486 entries, 0 to 7485\n",
      "Data columns (total 16 columns):\n",
      " #   Column                 Non-Null Count  Dtype  \n",
      "---  ------                 --------------  -----  \n",
      " 0   title                  7486 non-null   object \n",
      " 1   puNumber               7486 non-null   int64  \n",
      " 2   show_start_date        7486 non-null   object \n",
      " 3   type                   7486 non-null   object \n",
      " 4   film_studio            7468 non-null   object \n",
      " 5   production_country     7484 non-null   object \n",
      " 6   director               7477 non-null   object \n",
      " 7   producer               6918 non-null   object \n",
      " 8   age_restriction        7486 non-null   object \n",
      " 9   refundable_support     332 non-null    float64\n",
      " 10  nonrefundable_support  332 non-null    float64\n",
      " 11  budget                 332 non-null    float64\n",
      " 12  financing_source       332 non-null    object \n",
      " 13  ratings                6519 non-null   object \n",
      " 14  genres                 6510 non-null   object \n",
      " 15  box_office             3158 non-null   float64\n",
      "dtypes: float64(4), int64(1), object(11)\n",
      "memory usage: 994.2+ KB\n"
     ]
    }
   ],
   "source": [
    "display(df.head()) #вывод первых строк объединенного датафрейма на экран\n",
    "df.info() #получение сведений об объединенном датафрейме"
   ]
  },
  {
   "cell_type": "markdown",
   "metadata": {},
   "source": [
    "Таким образом, исходные датафреймы были объединены в один, при этом все данные были сохранены и успешно перенесены в df."
   ]
  },
  {
   "cell_type": "markdown",
   "metadata": {
    "id": "KLDGpPG0gFyM"
   },
   "source": [
    "### Предобработка данных"
   ]
  },
  {
   "cell_type": "markdown",
   "metadata": {
    "id": "ssWwKXsxgFyO"
   },
   "source": [
    "#### Проверка типов данных\n",
    "\n",
    "- Проверим типы данных в датафрейме и преобразуем их там, где это необходимо."
   ]
  },
  {
   "cell_type": "code",
   "execution_count": 5,
   "metadata": {
    "id": "kVGSplJOgFyO"
   },
   "outputs": [
    {
     "name": "stdout",
     "output_type": "stream",
     "text": [
      "<class 'pandas.core.frame.DataFrame'>\n",
      "Int64Index: 7486 entries, 0 to 7485\n",
      "Data columns (total 16 columns):\n",
      " #   Column                 Non-Null Count  Dtype  \n",
      "---  ------                 --------------  -----  \n",
      " 0   title                  7486 non-null   object \n",
      " 1   puNumber               7486 non-null   int64  \n",
      " 2   show_start_date        7486 non-null   object \n",
      " 3   type                   7486 non-null   object \n",
      " 4   film_studio            7468 non-null   object \n",
      " 5   production_country     7484 non-null   object \n",
      " 6   director               7477 non-null   object \n",
      " 7   producer               6918 non-null   object \n",
      " 8   age_restriction        7486 non-null   object \n",
      " 9   refundable_support     332 non-null    float64\n",
      " 10  nonrefundable_support  332 non-null    float64\n",
      " 11  budget                 332 non-null    float64\n",
      " 12  financing_source       332 non-null    object \n",
      " 13  ratings                6519 non-null   object \n",
      " 14  genres                 6510 non-null   object \n",
      " 15  box_office             3158 non-null   float64\n",
      "dtypes: float64(4), int64(1), object(11)\n",
      "memory usage: 994.2+ KB\n"
     ]
    }
   ],
   "source": [
    "df.info() #проверка типов данных"
   ]
  },
  {
   "cell_type": "markdown",
   "metadata": {},
   "source": [
    "Типы данных в столбцах 'show_start_date', 'refundable_support', 'nonrefundable_support', 'budget', 'box_office', 'ratings' не соответствуют сути содержащихся в них данных. Столбец 'show_start_date' следует привести к типу 'datetime64'; 'refundable_support', 'nonrefundable_support', 'budget', 'box_office' - к типу 'int'; 'ratings' - к типу 'float'. Для этого, пропуски в столбцах 'budget', 'refundable_support', 'nonrefundable_support' будут заполнены значением 0, а пропуски в столбцах 'box_office', 'ratings' - значением-маркером -1. Обосновано данное решение тем, что согласно описанию проекта, столбцы 'refundable_support', 'nonrefundable_support', 'budget' взаимосвязаны, а пропуски в них свидетельствуют об отсутствии государственной поддержки фильмов. Это также подтверждается и полным совпадением числа значений в столбцах 'refundable_support', 'nonrefundable_support', 'budget', 'financing_source', которые непосредственно связаны с государственной поддержкой. Столбец 'budget' включает в себя полный объём государственной поддержки. Данные в этом столбце указаны только для тех фильмов, которые получили государственную поддержку. Таким образом, фильмы, для которых значения в указанных столбцах отсутствуют, скорее всего не имеют государственной поддержки, а следовательно эти пропуски можно заменить 0 для столбцов 'refundable_support', 'nonrefundable_support' и 'budget' для удобства исследования. А вот пропуски в столбце 'box_office' (сборы в рублях) отнюдь не означают, что у фильма действительно сборы равны нулю, они лишь свидетельствуют об отсутствии у нас соответствующих данных. По этой причине, заполнять пропуски в данном столбце значением 0 некорректно, ведь в таком случае изменится сама суть этих пропусков. Таким образом, их можно заполнить значением-маркером -1, которое будет сигнализировать об отсутствии данных о сборах фильмов.\n",
    "\n",
    "Данные из столбца 'ratings' в дальнейшем будут необходимы для построения графиков, а потому их нужно привести к типу 'float', заполнив пропуски значением-маркером и отредактировав значения рейтинга в процентах."
   ]
  },
  {
   "cell_type": "code",
   "execution_count": 6,
   "metadata": {},
   "outputs": [
    {
     "name": "stdout",
     "output_type": "stream",
     "text": [
      "<class 'pandas.core.frame.DataFrame'>\n",
      "Int64Index: 7486 entries, 0 to 7485\n",
      "Data columns (total 16 columns):\n",
      " #   Column                 Non-Null Count  Dtype              \n",
      "---  ------                 --------------  -----              \n",
      " 0   title                  7486 non-null   object             \n",
      " 1   puNumber               7486 non-null   int64              \n",
      " 2   show_start_date        7486 non-null   datetime64[ns, UTC]\n",
      " 3   type                   7486 non-null   object             \n",
      " 4   film_studio            7468 non-null   object             \n",
      " 5   production_country     7484 non-null   object             \n",
      " 6   director               7477 non-null   object             \n",
      " 7   producer               6918 non-null   object             \n",
      " 8   age_restriction        7486 non-null   object             \n",
      " 9   refundable_support     7486 non-null   int64              \n",
      " 10  nonrefundable_support  7486 non-null   int64              \n",
      " 11  budget                 7486 non-null   int64              \n",
      " 12  financing_source       332 non-null    object             \n",
      " 13  ratings                6519 non-null   object             \n",
      " 14  genres                 6510 non-null   object             \n",
      " 15  box_office             7486 non-null   int64              \n",
      "dtypes: datetime64[ns, UTC](1), int64(5), object(10)\n",
      "memory usage: 994.2+ KB\n"
     ]
    }
   ],
   "source": [
    "df['show_start_date'] = pd.to_datetime(\n",
    "    df['show_start_date'], format='%Y-%m-%dT%H:%M:%S'\n",
    ") #перевод данных в формат даты\n",
    "for name in ['refundable_support', 'nonrefundable_support', 'budget']:\n",
    "    df[name] = df[name].fillna(value=0) #заполняем пропуски значением 0\n",
    "    df[name] = df[name].astype('int') #замена типа данных на целочисленный\n",
    "for name in ['box_office']:\n",
    "    df[name] = df[name].fillna(value=-1) #заполняем пропуски значением-маркером -1\n",
    "    df[name] = df[name].astype('int') #замена типа данных на целочисленный\n",
    "\n",
    "df.info() #повторная проверка типов данных"
   ]
  },
  {
   "cell_type": "code",
   "execution_count": 7,
   "metadata": {},
   "outputs": [
    {
     "data": {
      "text/plain": [
       "array(['7.2', '6.6', '6.8', '7.7', '8.3', '8.0', '7.8', '8.1', '7.1',\n",
       "       '6.0', '7.4', '5.8', '8.7', '6.3', '6.9', '5.0', '4.3', '7.3',\n",
       "       '7.0', '6.4', -1, '8.2', '7.5', '6.7', '7.9', '5.9', '6.2', '5.6',\n",
       "       '6.5', '2.4', '7.6', '6.1', '8.6', '8.5', '8.8', '5.5', '5.1',\n",
       "       '5.7', '5.4', '99%', '4.4', '4.5', '5.3', '4.1', '8.4', '2.6',\n",
       "       '3.8', '4.6', '4.8', '4.0', '3.0', '1.6', '4.2', '5.2', '4.7',\n",
       "       '4.9', '3.9', '2.7', '3.3', '2.9', '28%', '3.7', '1.4', '3.1',\n",
       "       '97%', '3.5', '3.2', '2.8', '1.5', '2.1', '2.5', '9.2', '3.4',\n",
       "       '1.1', '3.6', '83%', '64%', '91%', '94%', '62%', '79%', '90%',\n",
       "       '19%', '88%', '1.0', '89%', '1.3', '1.9', '1.8', '1.2', '1.7',\n",
       "       '9.0', '98%', '8.9', '9.1'], dtype=object)"
      ]
     },
     "execution_count": 7,
     "metadata": {},
     "output_type": "execute_result"
    }
   ],
   "source": [
    "df['ratings'] = df['ratings'].fillna(value=-1) #заполняем пропуски значением-маркером -1\n",
    "df['ratings'].unique() #просмотр уникальных значений 'ratings'"
   ]
  },
  {
   "cell_type": "code",
   "execution_count": 8,
   "metadata": {},
   "outputs": [],
   "source": [
    "df.loc[df['ratings'] == '99%', 'ratings'] = 9.9\n",
    "df.loc[df['ratings'] == '28%', 'ratings'] = 2.8\n",
    "df.loc[df['ratings'] == '97%', 'ratings'] = 9.7\n",
    "df.loc[df['ratings'] == '83%', 'ratings'] = 8.3\n",
    "df.loc[df['ratings'] == '64%', 'ratings'] = 6.4\n",
    "df.loc[df['ratings'] == '91%', 'ratings'] = 9.1\n",
    "df.loc[df['ratings'] == '94%', 'ratings'] = 9.4\n",
    "df.loc[df['ratings'] == '62%', 'ratings'] = 6.2\n",
    "df.loc[df['ratings'] == '79%', 'ratings'] = 7.9\n",
    "df.loc[df['ratings'] == '90%', 'ratings'] = 9.0\n",
    "df.loc[df['ratings'] == '19%', 'ratings'] = 1.9\n",
    "df.loc[df['ratings'] == '88%', 'ratings'] = 8.8\n",
    "df.loc[df['ratings'] == '89%', 'ratings'] = 8.9\n",
    "df.loc[df['ratings'] == '98%', 'ratings'] = 9.8\n",
    "\n",
    "df['ratings'] = df['ratings'].astype('float') #замена типа данных на float"
   ]
  },
  {
   "cell_type": "markdown",
   "metadata": {
    "id": "i0MOLbF-gFyP"
   },
   "source": [
    "#### Изучение пропусков в датафрейме"
   ]
  },
  {
   "cell_type": "code",
   "execution_count": 9,
   "metadata": {
    "id": "8MJD_lkngFyP"
   },
   "outputs": [
    {
     "name": "stdout",
     "output_type": "stream",
     "text": [
      "title                       0\n",
      "puNumber                    0\n",
      "show_start_date             0\n",
      "type                        0\n",
      "film_studio                18\n",
      "production_country          2\n",
      "director                    9\n",
      "producer                  568\n",
      "age_restriction             0\n",
      "refundable_support          0\n",
      "nonrefundable_support       0\n",
      "budget                      0\n",
      "financing_source         7154\n",
      "ratings                     0\n",
      "genres                    976\n",
      "box_office                  0\n",
      "dtype: int64\n"
     ]
    }
   ],
   "source": [
    "print(df.isna().sum()) #количество пропусков"
   ]
  },
  {
   "cell_type": "code",
   "execution_count": 10,
   "metadata": {},
   "outputs": [
    {
     "name": "stdout",
     "output_type": "stream",
     "text": [
      "title                    0.000000\n",
      "puNumber                 0.000000\n",
      "show_start_date          0.000000\n",
      "type                     0.000000\n",
      "film_studio              0.002404\n",
      "production_country       0.000267\n",
      "director                 0.001202\n",
      "producer                 0.075875\n",
      "age_restriction          0.000000\n",
      "refundable_support       0.000000\n",
      "nonrefundable_support    0.000000\n",
      "budget                   0.000000\n",
      "financing_source         0.955651\n",
      "ratings                  0.000000\n",
      "genres                   0.130377\n",
      "box_office               0.000000\n",
      "dtype: float64\n"
     ]
    }
   ],
   "source": [
    "print(df.isna().mean()) #доля пропусков"
   ]
  },
  {
   "cell_type": "markdown",
   "metadata": {},
   "source": [
    "Наибольшее число пропусков обнаружено в столбце 'financing_source' (7154). Пропуски в данном столбце следует заполнить значением 'none', поскольку они свидетельствуют об отсутствии государственного финансирования соответствующих фильмов, что было установлено ранее. \n",
    "\n",
    "\n",
    "Пропуски в остальных столбцах можно заполнить значением 'unknown', поскольку их число относительно невелико, а восстанавливать их вручную исходя из названия - нецелесообразно."
   ]
  },
  {
   "cell_type": "code",
   "execution_count": 11,
   "metadata": {
    "scrolled": true
   },
   "outputs": [
    {
     "data": {
      "text/plain": [
       "title                    0\n",
       "puNumber                 0\n",
       "show_start_date          0\n",
       "type                     0\n",
       "film_studio              0\n",
       "production_country       0\n",
       "director                 0\n",
       "producer                 0\n",
       "age_restriction          0\n",
       "refundable_support       0\n",
       "nonrefundable_support    0\n",
       "budget                   0\n",
       "financing_source         0\n",
       "ratings                  0\n",
       "genres                   0\n",
       "box_office               0\n",
       "dtype: int64"
      ]
     },
     "execution_count": 11,
     "metadata": {},
     "output_type": "execute_result"
    }
   ],
   "source": [
    "df['financing_source'] = df['financing_source'].fillna(value='none') #заполняем пропуски значением none\n",
    "for name in ['film_studio', 'production_country', 'director', 'producer', 'ratings', 'genres']:\n",
    "    df[name] = df[name].fillna(value='unknown') #заполняем пропуски значением 0   \n",
    "df.isna().sum() #повторный просмотр количества пропусков"
   ]
  },
  {
   "cell_type": "markdown",
   "metadata": {
    "id": "4c6k1t9ygFyQ"
   },
   "source": [
    "#### Изучение дубликатов в датафрейме\n",
    "- Проверим, есть ли в данных дубликаты. Опишем причины, которые могли повлиять на появление дублей."
   ]
  },
  {
   "cell_type": "code",
   "execution_count": 12,
   "metadata": {
    "id": "aKck8RIdgFyQ"
   },
   "outputs": [
    {
     "data": {
      "text/plain": [
       "0"
      ]
     },
     "execution_count": 12,
     "metadata": {},
     "output_type": "execute_result"
    }
   ],
   "source": [
    "df.duplicated().sum() #подсчет явных дубликатов"
   ]
  },
  {
   "cell_type": "markdown",
   "metadata": {},
   "source": [
    "Явных строк-дубликатов в данных нет. Однако, следует проверить также и наличие неявных дубликатов. Для начала, следует изучить данные о фильмах, чьи названия встречаются в датафрейме более одного раза. "
   ]
  },
  {
   "cell_type": "code",
   "execution_count": 13,
   "metadata": {},
   "outputs": [
    {
     "data": {
      "text/plain": [
       "День святого Валентина_                                                                                                                           5\n",
       "Белая мгла /По комиксу Грега Рукка и Стива Либера/                                                                                                4\n",
       "Двойной копец                                                                                                                                     4\n",
       "Дорога /По новелле Кормака МкКарфи/                                                                                                               4\n",
       "Код доступа \"Кейптаун\"                                                                                                                            4\n",
       "                                                                                                                                                 ..\n",
       "Пьетро Масканьи. Сельская честь /По одноименной новелле Дж.Верги/. Руджеро Леонкавалло. Паяцы. Постановка на сцене античного театра в Таормине    1\n",
       "Комеди Клаб. Лучшие куски-2: Павел Воля                                                                                                           1\n",
       "Страшная мать                                                                                                                                     1\n",
       "Симфония органа                                                                                                                                   1\n",
       "Цареубийца                                                                                                                                        1\n",
       "Name: title, Length: 6772, dtype: int64"
      ]
     },
     "execution_count": 13,
     "metadata": {},
     "output_type": "execute_result"
    }
   ],
   "source": [
    "df['title'].value_counts() #просмотр названий фильмов"
   ]
  },
  {
   "cell_type": "markdown",
   "metadata": {},
   "source": [
    "Для проверки того, являются ли строки с одинаковыми названиями фильмов дубликатами, изучим некоторые из них подробнее:"
   ]
  },
  {
   "cell_type": "code",
   "execution_count": 14,
   "metadata": {},
   "outputs": [
    {
     "data": {
      "text/html": [
       "<div>\n",
       "<style scoped>\n",
       "    .dataframe tbody tr th:only-of-type {\n",
       "        vertical-align: middle;\n",
       "    }\n",
       "\n",
       "    .dataframe tbody tr th {\n",
       "        vertical-align: top;\n",
       "    }\n",
       "\n",
       "    .dataframe thead th {\n",
       "        text-align: right;\n",
       "    }\n",
       "</style>\n",
       "<table border=\"1\" class=\"dataframe\">\n",
       "  <thead>\n",
       "    <tr style=\"text-align: right;\">\n",
       "      <th></th>\n",
       "      <th>title</th>\n",
       "      <th>puNumber</th>\n",
       "      <th>show_start_date</th>\n",
       "      <th>type</th>\n",
       "      <th>film_studio</th>\n",
       "      <th>production_country</th>\n",
       "      <th>director</th>\n",
       "      <th>producer</th>\n",
       "      <th>age_restriction</th>\n",
       "      <th>refundable_support</th>\n",
       "      <th>nonrefundable_support</th>\n",
       "      <th>budget</th>\n",
       "      <th>financing_source</th>\n",
       "      <th>ratings</th>\n",
       "      <th>genres</th>\n",
       "      <th>box_office</th>\n",
       "    </tr>\n",
       "  </thead>\n",
       "  <tbody>\n",
       "    <tr>\n",
       "      <th>3902</th>\n",
       "      <td>День святого Валентина_</td>\n",
       "      <td>221083810</td>\n",
       "      <td>2010-07-15 12:00:00+00:00</td>\n",
       "      <td>Художественный</td>\n",
       "      <td>Уорнер Бразерс, Нью Лайн Синема, Уэйн Райс, Ка...</td>\n",
       "      <td>США</td>\n",
       "      <td>Гарри Маршалл</td>\n",
       "      <td>Сэмюэл Дж.Браун</td>\n",
       "      <td>«16+» - для детей старше 16 лет</td>\n",
       "      <td>0</td>\n",
       "      <td>0</td>\n",
       "      <td>0</td>\n",
       "      <td>none</td>\n",
       "      <td>6.7</td>\n",
       "      <td>мелодрама,комедия</td>\n",
       "      <td>-1</td>\n",
       "    </tr>\n",
       "    <tr>\n",
       "      <th>3991</th>\n",
       "      <td>День святого Валентина_</td>\n",
       "      <td>221068010</td>\n",
       "      <td>2010-05-14 12:00:00+00:00</td>\n",
       "      <td>Художественный</td>\n",
       "      <td>Уорнер Бразерс, Нью Лайн Синема, Уэйн Райс, Ка...</td>\n",
       "      <td>США</td>\n",
       "      <td>Гарри Маршалл</td>\n",
       "      <td>Сэмюэл Дж.Браун</td>\n",
       "      <td>«16+» - для детей старше 16 лет</td>\n",
       "      <td>0</td>\n",
       "      <td>0</td>\n",
       "      <td>0</td>\n",
       "      <td>none</td>\n",
       "      <td>6.7</td>\n",
       "      <td>мелодрама,комедия</td>\n",
       "      <td>-1</td>\n",
       "    </tr>\n",
       "    <tr>\n",
       "      <th>4070</th>\n",
       "      <td>День святого Валентина_</td>\n",
       "      <td>121002210</td>\n",
       "      <td>2010-02-03 12:00:00+00:00</td>\n",
       "      <td>Художественный</td>\n",
       "      <td>Уорнер Бразерс, Нью Лайн Синема, Уэйн Райс, Ка...</td>\n",
       "      <td>США</td>\n",
       "      <td>Гарри Маршалл</td>\n",
       "      <td>Сэмюэл Дж.Браун</td>\n",
       "      <td>«16+» - для детей старше 16 лет</td>\n",
       "      <td>0</td>\n",
       "      <td>0</td>\n",
       "      <td>0</td>\n",
       "      <td>none</td>\n",
       "      <td>6.7</td>\n",
       "      <td>мелодрама,комедия</td>\n",
       "      <td>-1</td>\n",
       "    </tr>\n",
       "    <tr>\n",
       "      <th>4196</th>\n",
       "      <td>День святого Валентина_</td>\n",
       "      <td>221136210</td>\n",
       "      <td>2010-11-30 12:00:00+00:00</td>\n",
       "      <td>Художественный</td>\n",
       "      <td>Уорнер Бразерс, Нью Лайн Синема, Уэйн Райс, Ка...</td>\n",
       "      <td>США</td>\n",
       "      <td>Гарри Маршалл</td>\n",
       "      <td>Сэмюэл Дж.Браун</td>\n",
       "      <td>«16+» - для детей старше 16 лет</td>\n",
       "      <td>0</td>\n",
       "      <td>0</td>\n",
       "      <td>0</td>\n",
       "      <td>none</td>\n",
       "      <td>6.7</td>\n",
       "      <td>мелодрама,комедия</td>\n",
       "      <td>-1</td>\n",
       "    </tr>\n",
       "    <tr>\n",
       "      <th>5070</th>\n",
       "      <td>День святого Валентина_</td>\n",
       "      <td>221066410</td>\n",
       "      <td>2010-06-01 12:00:00+00:00</td>\n",
       "      <td>Художественный</td>\n",
       "      <td>Уорнер Бразерс, Нью Лайн Синема, Уэйн Райс, Ка...</td>\n",
       "      <td>США</td>\n",
       "      <td>Гарри Маршалл</td>\n",
       "      <td>Сэмюэл Дж.Браун</td>\n",
       "      <td>«16+» - для детей старше 16 лет</td>\n",
       "      <td>0</td>\n",
       "      <td>0</td>\n",
       "      <td>0</td>\n",
       "      <td>none</td>\n",
       "      <td>6.7</td>\n",
       "      <td>мелодрама,комедия</td>\n",
       "      <td>-1</td>\n",
       "    </tr>\n",
       "  </tbody>\n",
       "</table>\n",
       "</div>"
      ],
      "text/plain": [
       "                        title   puNumber           show_start_date  \\\n",
       "3902  День святого Валентина_  221083810 2010-07-15 12:00:00+00:00   \n",
       "3991  День святого Валентина_  221068010 2010-05-14 12:00:00+00:00   \n",
       "4070  День святого Валентина_  121002210 2010-02-03 12:00:00+00:00   \n",
       "4196  День святого Валентина_  221136210 2010-11-30 12:00:00+00:00   \n",
       "5070  День святого Валентина_  221066410 2010-06-01 12:00:00+00:00   \n",
       "\n",
       "                type                                        film_studio  \\\n",
       "3902  Художественный  Уорнер Бразерс, Нью Лайн Синема, Уэйн Райс, Ка...   \n",
       "3991  Художественный  Уорнер Бразерс, Нью Лайн Синема, Уэйн Райс, Ка...   \n",
       "4070  Художественный  Уорнер Бразерс, Нью Лайн Синема, Уэйн Райс, Ка...   \n",
       "4196  Художественный  Уорнер Бразерс, Нью Лайн Синема, Уэйн Райс, Ка...   \n",
       "5070  Художественный  Уорнер Бразерс, Нью Лайн Синема, Уэйн Райс, Ка...   \n",
       "\n",
       "     production_country       director         producer  \\\n",
       "3902                США  Гарри Маршалл  Сэмюэл Дж.Браун   \n",
       "3991                США  Гарри Маршалл  Сэмюэл Дж.Браун   \n",
       "4070                США  Гарри Маршалл  Сэмюэл Дж.Браун   \n",
       "4196                США  Гарри Маршалл  Сэмюэл Дж.Браун   \n",
       "5070                США  Гарри Маршалл  Сэмюэл Дж.Браун   \n",
       "\n",
       "                      age_restriction  refundable_support  \\\n",
       "3902  «16+» - для детей старше 16 лет                   0   \n",
       "3991  «16+» - для детей старше 16 лет                   0   \n",
       "4070  «16+» - для детей старше 16 лет                   0   \n",
       "4196  «16+» - для детей старше 16 лет                   0   \n",
       "5070  «16+» - для детей старше 16 лет                   0   \n",
       "\n",
       "      nonrefundable_support  budget financing_source  ratings  \\\n",
       "3902                      0       0             none      6.7   \n",
       "3991                      0       0             none      6.7   \n",
       "4070                      0       0             none      6.7   \n",
       "4196                      0       0             none      6.7   \n",
       "5070                      0       0             none      6.7   \n",
       "\n",
       "                 genres  box_office  \n",
       "3902  мелодрама,комедия          -1  \n",
       "3991  мелодрама,комедия          -1  \n",
       "4070  мелодрама,комедия          -1  \n",
       "4196  мелодрама,комедия          -1  \n",
       "5070  мелодрама,комедия          -1  "
      ]
     },
     "metadata": {},
     "output_type": "display_data"
    },
    {
     "data": {
      "text/html": [
       "<div>\n",
       "<style scoped>\n",
       "    .dataframe tbody tr th:only-of-type {\n",
       "        vertical-align: middle;\n",
       "    }\n",
       "\n",
       "    .dataframe tbody tr th {\n",
       "        vertical-align: top;\n",
       "    }\n",
       "\n",
       "    .dataframe thead th {\n",
       "        text-align: right;\n",
       "    }\n",
       "</style>\n",
       "<table border=\"1\" class=\"dataframe\">\n",
       "  <thead>\n",
       "    <tr style=\"text-align: right;\">\n",
       "      <th></th>\n",
       "      <th>title</th>\n",
       "      <th>puNumber</th>\n",
       "      <th>show_start_date</th>\n",
       "      <th>type</th>\n",
       "      <th>film_studio</th>\n",
       "      <th>production_country</th>\n",
       "      <th>director</th>\n",
       "      <th>producer</th>\n",
       "      <th>age_restriction</th>\n",
       "      <th>refundable_support</th>\n",
       "      <th>nonrefundable_support</th>\n",
       "      <th>budget</th>\n",
       "      <th>financing_source</th>\n",
       "      <th>ratings</th>\n",
       "      <th>genres</th>\n",
       "      <th>box_office</th>\n",
       "    </tr>\n",
       "  </thead>\n",
       "  <tbody>\n",
       "    <tr>\n",
       "      <th>4235</th>\n",
       "      <td>Лузеры</td>\n",
       "      <td>121012010</td>\n",
       "      <td>2010-06-24 12:00:00+00:00</td>\n",
       "      <td>Художественный</td>\n",
       "      <td>Ди Си Интертейнмент, Дарк Кастл Интертейнмент,...</td>\n",
       "      <td>США</td>\n",
       "      <td>Сильвэйн Уайт</td>\n",
       "      <td>Акива Голдсман, Джоэл Сильвер</td>\n",
       "      <td>«16+» - для детей старше 16 лет</td>\n",
       "      <td>0</td>\n",
       "      <td>0</td>\n",
       "      <td>0</td>\n",
       "      <td>none</td>\n",
       "      <td>6.3</td>\n",
       "      <td>боевик,триллер,комедия</td>\n",
       "      <td>-1</td>\n",
       "    </tr>\n",
       "    <tr>\n",
       "      <th>4844</th>\n",
       "      <td>Лузеры</td>\n",
       "      <td>221016311</td>\n",
       "      <td>2011-01-26 12:00:00+00:00</td>\n",
       "      <td>Художественный</td>\n",
       "      <td>Ди Си Интертейнмент, Дарк Кастл Интертейнмент,...</td>\n",
       "      <td>США</td>\n",
       "      <td>Сильвэйн Уайт</td>\n",
       "      <td>Акива Голдсман, Джоэл Сильвер</td>\n",
       "      <td>«16+» - для детей старше 16 лет</td>\n",
       "      <td>0</td>\n",
       "      <td>0</td>\n",
       "      <td>0</td>\n",
       "      <td>none</td>\n",
       "      <td>6.3</td>\n",
       "      <td>боевик,триллер,комедия</td>\n",
       "      <td>-1</td>\n",
       "    </tr>\n",
       "    <tr>\n",
       "      <th>4858</th>\n",
       "      <td>Лузеры</td>\n",
       "      <td>221020211</td>\n",
       "      <td>2011-02-02 12:00:00+00:00</td>\n",
       "      <td>Художественный</td>\n",
       "      <td>Ди Си Интертейнмент, Дарк Кастл Интертейнмент,...</td>\n",
       "      <td>США</td>\n",
       "      <td>Сильвэйн Уайт</td>\n",
       "      <td>Акива Голдсман, Джоэл Сильвер</td>\n",
       "      <td>«16+» - для детей старше 16 лет</td>\n",
       "      <td>0</td>\n",
       "      <td>0</td>\n",
       "      <td>0</td>\n",
       "      <td>none</td>\n",
       "      <td>6.3</td>\n",
       "      <td>боевик,триллер,комедия</td>\n",
       "      <td>-1</td>\n",
       "    </tr>\n",
       "    <tr>\n",
       "      <th>5327</th>\n",
       "      <td>Лузеры</td>\n",
       "      <td>221086110</td>\n",
       "      <td>2010-08-17 12:00:00+00:00</td>\n",
       "      <td>Художественный</td>\n",
       "      <td>Ди Си Интертейнмент, Дарк Кастл Интертейнмент,...</td>\n",
       "      <td>США</td>\n",
       "      <td>Сильвэйн Уайт</td>\n",
       "      <td>Акива Голдсман, Джоэл Сильвер</td>\n",
       "      <td>«16+» - для детей старше 16 лет</td>\n",
       "      <td>0</td>\n",
       "      <td>0</td>\n",
       "      <td>0</td>\n",
       "      <td>none</td>\n",
       "      <td>6.3</td>\n",
       "      <td>боевик,триллер,комедия</td>\n",
       "      <td>-1</td>\n",
       "    </tr>\n",
       "  </tbody>\n",
       "</table>\n",
       "</div>"
      ],
      "text/plain": [
       "       title   puNumber           show_start_date            type  \\\n",
       "4235  Лузеры  121012010 2010-06-24 12:00:00+00:00  Художественный   \n",
       "4844  Лузеры  221016311 2011-01-26 12:00:00+00:00  Художественный   \n",
       "4858  Лузеры  221020211 2011-02-02 12:00:00+00:00  Художественный   \n",
       "5327  Лузеры  221086110 2010-08-17 12:00:00+00:00  Художественный   \n",
       "\n",
       "                                            film_studio production_country  \\\n",
       "4235  Ди Си Интертейнмент, Дарк Кастл Интертейнмент,...                США   \n",
       "4844  Ди Си Интертейнмент, Дарк Кастл Интертейнмент,...                США   \n",
       "4858  Ди Си Интертейнмент, Дарк Кастл Интертейнмент,...                США   \n",
       "5327  Ди Си Интертейнмент, Дарк Кастл Интертейнмент,...                США   \n",
       "\n",
       "           director                       producer  \\\n",
       "4235  Сильвэйн Уайт  Акива Голдсман, Джоэл Сильвер   \n",
       "4844  Сильвэйн Уайт  Акива Голдсман, Джоэл Сильвер   \n",
       "4858  Сильвэйн Уайт  Акива Голдсман, Джоэл Сильвер   \n",
       "5327  Сильвэйн Уайт  Акива Голдсман, Джоэл Сильвер   \n",
       "\n",
       "                      age_restriction  refundable_support  \\\n",
       "4235  «16+» - для детей старше 16 лет                   0   \n",
       "4844  «16+» - для детей старше 16 лет                   0   \n",
       "4858  «16+» - для детей старше 16 лет                   0   \n",
       "5327  «16+» - для детей старше 16 лет                   0   \n",
       "\n",
       "      nonrefundable_support  budget financing_source  ratings  \\\n",
       "4235                      0       0             none      6.3   \n",
       "4844                      0       0             none      6.3   \n",
       "4858                      0       0             none      6.3   \n",
       "5327                      0       0             none      6.3   \n",
       "\n",
       "                      genres  box_office  \n",
       "4235  боевик,триллер,комедия          -1  \n",
       "4844  боевик,триллер,комедия          -1  \n",
       "4858  боевик,триллер,комедия          -1  \n",
       "5327  боевик,триллер,комедия          -1  "
      ]
     },
     "metadata": {},
     "output_type": "display_data"
    },
    {
     "data": {
      "text/html": [
       "<div>\n",
       "<style scoped>\n",
       "    .dataframe tbody tr th:only-of-type {\n",
       "        vertical-align: middle;\n",
       "    }\n",
       "\n",
       "    .dataframe tbody tr th {\n",
       "        vertical-align: top;\n",
       "    }\n",
       "\n",
       "    .dataframe thead th {\n",
       "        text-align: right;\n",
       "    }\n",
       "</style>\n",
       "<table border=\"1\" class=\"dataframe\">\n",
       "  <thead>\n",
       "    <tr style=\"text-align: right;\">\n",
       "      <th></th>\n",
       "      <th>title</th>\n",
       "      <th>puNumber</th>\n",
       "      <th>show_start_date</th>\n",
       "      <th>type</th>\n",
       "      <th>film_studio</th>\n",
       "      <th>production_country</th>\n",
       "      <th>director</th>\n",
       "      <th>producer</th>\n",
       "      <th>age_restriction</th>\n",
       "      <th>refundable_support</th>\n",
       "      <th>nonrefundable_support</th>\n",
       "      <th>budget</th>\n",
       "      <th>financing_source</th>\n",
       "      <th>ratings</th>\n",
       "      <th>genres</th>\n",
       "      <th>box_office</th>\n",
       "    </tr>\n",
       "  </thead>\n",
       "  <tbody>\n",
       "    <tr>\n",
       "      <th>332</th>\n",
       "      <td>Безумцы</td>\n",
       "      <td>221005115</td>\n",
       "      <td>2015-02-25 12:00:00+00:00</td>\n",
       "      <td>Художественный</td>\n",
       "      <td>Овертуре Филмз, Партиписиант Медиа, Пенн Стейш...</td>\n",
       "      <td>США - ОАЭ</td>\n",
       "      <td>Брек Айзнер</td>\n",
       "      <td>Майкл Агиляр</td>\n",
       "      <td>«18+» - запрещено для детей</td>\n",
       "      <td>0</td>\n",
       "      <td>0</td>\n",
       "      <td>0</td>\n",
       "      <td>none</td>\n",
       "      <td>7.9</td>\n",
       "      <td>драма</td>\n",
       "      <td>-1</td>\n",
       "    </tr>\n",
       "    <tr>\n",
       "      <th>4384</th>\n",
       "      <td>Безумцы</td>\n",
       "      <td>121005210</td>\n",
       "      <td>2010-03-17 12:00:00+00:00</td>\n",
       "      <td>Художественный</td>\n",
       "      <td>Овертуре Филмз, Партиписиант Медиа, Пенн Стейш...</td>\n",
       "      <td>США - ОАЭ</td>\n",
       "      <td>Брек Айзнер</td>\n",
       "      <td>Майкл Агиляр</td>\n",
       "      <td>«18+» - запрещено для детей</td>\n",
       "      <td>0</td>\n",
       "      <td>0</td>\n",
       "      <td>0</td>\n",
       "      <td>none</td>\n",
       "      <td>7.9</td>\n",
       "      <td>драма</td>\n",
       "      <td>-1</td>\n",
       "    </tr>\n",
       "    <tr>\n",
       "      <th>4583</th>\n",
       "      <td>Безумцы</td>\n",
       "      <td>221157210</td>\n",
       "      <td>2010-12-17 12:00:00+00:00</td>\n",
       "      <td>Художественный</td>\n",
       "      <td>Овертуре Филмз, Партиписиант Медиа, Пенн Стейш...</td>\n",
       "      <td>США - ОАЭ</td>\n",
       "      <td>Брек Айзнер</td>\n",
       "      <td>Майкл Агиляр</td>\n",
       "      <td>«18+» - запрещено для детей</td>\n",
       "      <td>0</td>\n",
       "      <td>0</td>\n",
       "      <td>0</td>\n",
       "      <td>none</td>\n",
       "      <td>7.9</td>\n",
       "      <td>драма</td>\n",
       "      <td>-1</td>\n",
       "    </tr>\n",
       "    <tr>\n",
       "      <th>4713</th>\n",
       "      <td>Безумцы</td>\n",
       "      <td>221034010</td>\n",
       "      <td>2010-03-29 12:00:00+00:00</td>\n",
       "      <td>Художественный</td>\n",
       "      <td>Овертуре Филмз, Партиписиант Медиа, Пенн Стейш...</td>\n",
       "      <td>США - ОАЭ</td>\n",
       "      <td>Брек Айзнер</td>\n",
       "      <td>Майкл Агиляр</td>\n",
       "      <td>«18+» - запрещено для детей</td>\n",
       "      <td>0</td>\n",
       "      <td>0</td>\n",
       "      <td>0</td>\n",
       "      <td>none</td>\n",
       "      <td>7.9</td>\n",
       "      <td>драма</td>\n",
       "      <td>-1</td>\n",
       "    </tr>\n",
       "  </tbody>\n",
       "</table>\n",
       "</div>"
      ],
      "text/plain": [
       "        title   puNumber           show_start_date            type  \\\n",
       "332   Безумцы  221005115 2015-02-25 12:00:00+00:00  Художественный   \n",
       "4384  Безумцы  121005210 2010-03-17 12:00:00+00:00  Художественный   \n",
       "4583  Безумцы  221157210 2010-12-17 12:00:00+00:00  Художественный   \n",
       "4713  Безумцы  221034010 2010-03-29 12:00:00+00:00  Художественный   \n",
       "\n",
       "                                            film_studio production_country  \\\n",
       "332   Овертуре Филмз, Партиписиант Медиа, Пенн Стейш...          США - ОАЭ   \n",
       "4384  Овертуре Филмз, Партиписиант Медиа, Пенн Стейш...          США - ОАЭ   \n",
       "4583  Овертуре Филмз, Партиписиант Медиа, Пенн Стейш...          США - ОАЭ   \n",
       "4713  Овертуре Филмз, Партиписиант Медиа, Пенн Стейш...          США - ОАЭ   \n",
       "\n",
       "         director      producer              age_restriction  \\\n",
       "332   Брек Айзнер  Майкл Агиляр  «18+» - запрещено для детей   \n",
       "4384  Брек Айзнер  Майкл Агиляр  «18+» - запрещено для детей   \n",
       "4583  Брек Айзнер  Майкл Агиляр  «18+» - запрещено для детей   \n",
       "4713  Брек Айзнер  Майкл Агиляр  «18+» - запрещено для детей   \n",
       "\n",
       "      refundable_support  nonrefundable_support  budget financing_source  \\\n",
       "332                    0                      0       0             none   \n",
       "4384                   0                      0       0             none   \n",
       "4583                   0                      0       0             none   \n",
       "4713                   0                      0       0             none   \n",
       "\n",
       "      ratings genres  box_office  \n",
       "332       7.9  драма          -1  \n",
       "4384      7.9  драма          -1  \n",
       "4583      7.9  драма          -1  \n",
       "4713      7.9  драма          -1  "
      ]
     },
     "metadata": {},
     "output_type": "display_data"
    },
    {
     "data": {
      "text/html": [
       "<div>\n",
       "<style scoped>\n",
       "    .dataframe tbody tr th:only-of-type {\n",
       "        vertical-align: middle;\n",
       "    }\n",
       "\n",
       "    .dataframe tbody tr th {\n",
       "        vertical-align: top;\n",
       "    }\n",
       "\n",
       "    .dataframe thead th {\n",
       "        text-align: right;\n",
       "    }\n",
       "</style>\n",
       "<table border=\"1\" class=\"dataframe\">\n",
       "  <thead>\n",
       "    <tr style=\"text-align: right;\">\n",
       "      <th></th>\n",
       "      <th>title</th>\n",
       "      <th>puNumber</th>\n",
       "      <th>show_start_date</th>\n",
       "      <th>type</th>\n",
       "      <th>film_studio</th>\n",
       "      <th>production_country</th>\n",
       "      <th>director</th>\n",
       "      <th>producer</th>\n",
       "      <th>age_restriction</th>\n",
       "      <th>refundable_support</th>\n",
       "      <th>nonrefundable_support</th>\n",
       "      <th>budget</th>\n",
       "      <th>financing_source</th>\n",
       "      <th>ratings</th>\n",
       "      <th>genres</th>\n",
       "      <th>box_office</th>\n",
       "    </tr>\n",
       "  </thead>\n",
       "  <tbody>\n",
       "    <tr>\n",
       "      <th>385</th>\n",
       "      <td>Дом грёз</td>\n",
       "      <td>221005815</td>\n",
       "      <td>2015-02-25 12:00:00+00:00</td>\n",
       "      <td>Художественный</td>\n",
       "      <td>Клиффджек Моушн Пикчерз, Морган Крик Продакшнз</td>\n",
       "      <td>США</td>\n",
       "      <td>Джим Шеридан</td>\n",
       "      <td>Дэниэл Бобкер, Эхерн Крюгер, Джеймс Г.Робинсон...</td>\n",
       "      <td>«16+» - для детей старше 16 лет</td>\n",
       "      <td>0</td>\n",
       "      <td>0</td>\n",
       "      <td>0</td>\n",
       "      <td>none</td>\n",
       "      <td>7.6</td>\n",
       "      <td>драма,криминал</td>\n",
       "      <td>-1</td>\n",
       "    </tr>\n",
       "    <tr>\n",
       "      <th>386</th>\n",
       "      <td>Дом грёз</td>\n",
       "      <td>221031312</td>\n",
       "      <td>2012-04-26 12:00:00+00:00</td>\n",
       "      <td>Художественный</td>\n",
       "      <td>Клиффджек Моушн Пикчерз, Морган Крик Продакшнз</td>\n",
       "      <td>США</td>\n",
       "      <td>Джим Шеридан</td>\n",
       "      <td>Дэниэл Бобкер, Эхерн Крюгер, Джеймс Г.Робинсон...</td>\n",
       "      <td>«16+» - для детей старше 16 лет</td>\n",
       "      <td>0</td>\n",
       "      <td>0</td>\n",
       "      <td>0</td>\n",
       "      <td>none</td>\n",
       "      <td>7.6</td>\n",
       "      <td>драма,криминал</td>\n",
       "      <td>-1</td>\n",
       "    </tr>\n",
       "    <tr>\n",
       "      <th>5085</th>\n",
       "      <td>Дом грёз</td>\n",
       "      <td>121017511</td>\n",
       "      <td>2011-09-21 12:00:00+00:00</td>\n",
       "      <td>Художественный</td>\n",
       "      <td>Клиффджек Моушн Пикчерз, Морган Крик Продакшнз</td>\n",
       "      <td>США</td>\n",
       "      <td>Джим Шеридан</td>\n",
       "      <td>Дэниэл Бобкер, Эхерн Крюгер, Джеймс Г.Робинсон...</td>\n",
       "      <td>«16+» - для детей старше 16 лет</td>\n",
       "      <td>0</td>\n",
       "      <td>0</td>\n",
       "      <td>0</td>\n",
       "      <td>none</td>\n",
       "      <td>7.6</td>\n",
       "      <td>драма,криминал</td>\n",
       "      <td>-1</td>\n",
       "    </tr>\n",
       "    <tr>\n",
       "      <th>5340</th>\n",
       "      <td>Дом грёз</td>\n",
       "      <td>221114711</td>\n",
       "      <td>2011-11-11 12:00:00+00:00</td>\n",
       "      <td>Художественный</td>\n",
       "      <td>Клиффджек Моушн Пикчерз, Морган Крик Продакшнз</td>\n",
       "      <td>США</td>\n",
       "      <td>Джим Шеридан</td>\n",
       "      <td>Дэниэл Бобкер, Эхерн Крюгер, Джеймс Г.Робинсон...</td>\n",
       "      <td>«16+» - для детей старше 16 лет</td>\n",
       "      <td>0</td>\n",
       "      <td>0</td>\n",
       "      <td>0</td>\n",
       "      <td>none</td>\n",
       "      <td>7.6</td>\n",
       "      <td>драма,криминал</td>\n",
       "      <td>-1</td>\n",
       "    </tr>\n",
       "  </tbody>\n",
       "</table>\n",
       "</div>"
      ],
      "text/plain": [
       "         title   puNumber           show_start_date            type  \\\n",
       "385   Дом грёз  221005815 2015-02-25 12:00:00+00:00  Художественный   \n",
       "386   Дом грёз  221031312 2012-04-26 12:00:00+00:00  Художественный   \n",
       "5085  Дом грёз  121017511 2011-09-21 12:00:00+00:00  Художественный   \n",
       "5340  Дом грёз  221114711 2011-11-11 12:00:00+00:00  Художественный   \n",
       "\n",
       "                                         film_studio production_country  \\\n",
       "385   Клиффджек Моушн Пикчерз, Морган Крик Продакшнз                США   \n",
       "386   Клиффджек Моушн Пикчерз, Морган Крик Продакшнз                США   \n",
       "5085  Клиффджек Моушн Пикчерз, Морган Крик Продакшнз                США   \n",
       "5340  Клиффджек Моушн Пикчерз, Морган Крик Продакшнз                США   \n",
       "\n",
       "          director                                           producer  \\\n",
       "385   Джим Шеридан  Дэниэл Бобкер, Эхерн Крюгер, Джеймс Г.Робинсон...   \n",
       "386   Джим Шеридан  Дэниэл Бобкер, Эхерн Крюгер, Джеймс Г.Робинсон...   \n",
       "5085  Джим Шеридан  Дэниэл Бобкер, Эхерн Крюгер, Джеймс Г.Робинсон...   \n",
       "5340  Джим Шеридан  Дэниэл Бобкер, Эхерн Крюгер, Джеймс Г.Робинсон...   \n",
       "\n",
       "                      age_restriction  refundable_support  \\\n",
       "385   «16+» - для детей старше 16 лет                   0   \n",
       "386   «16+» - для детей старше 16 лет                   0   \n",
       "5085  «16+» - для детей старше 16 лет                   0   \n",
       "5340  «16+» - для детей старше 16 лет                   0   \n",
       "\n",
       "      nonrefundable_support  budget financing_source  ratings          genres  \\\n",
       "385                       0       0             none      7.6  драма,криминал   \n",
       "386                       0       0             none      7.6  драма,криминал   \n",
       "5085                      0       0             none      7.6  драма,криминал   \n",
       "5340                      0       0             none      7.6  драма,криминал   \n",
       "\n",
       "      box_office  \n",
       "385           -1  \n",
       "386           -1  \n",
       "5085          -1  \n",
       "5340          -1  "
      ]
     },
     "metadata": {},
     "output_type": "display_data"
    }
   ],
   "source": [
    "display(df.loc[df['title'] == 'День святого Валентина_'])\n",
    "display(df.loc[df['title'] == 'Лузеры'])\n",
    "display(df.loc[df['title'] == 'Безумцы'])\n",
    "display(df.loc[df['title'] == 'Дом грёз'])"
   ]
  },
  {
   "cell_type": "markdown",
   "metadata": {},
   "source": [
    "Таким образом, было установлено, что данные о фильмах с одинаковым названием различаются лишь номером прокатного удостоверения и датой премьеры фильма. Однако, из описания проекта следует, что у одного фильма может быть несколько прокатных удостоверений, а значит эти строки нельзя удалять, поскольку они не являются дубликатами в прямом смысле.\n",
    "\n",
    "Далее, проверим наличие совпадений номеров прокатного удостоверения."
   ]
  },
  {
   "cell_type": "code",
   "execution_count": 15,
   "metadata": {},
   "outputs": [
    {
     "data": {
      "text/plain": [
       "221054410    2\n",
       "221154310    2\n",
       "0            1\n",
       "111008518    1\n",
       "114002716    1\n",
       "            ..\n",
       "121021814    1\n",
       "224028210    1\n",
       "121013618    1\n",
       "121017712    1\n",
       "126002916    1\n",
       "Name: puNumber, Length: 7484, dtype: int64"
      ]
     },
     "execution_count": 15,
     "metadata": {},
     "output_type": "execute_result"
    }
   ],
   "source": [
    "df['puNumber'].value_counts() #просмотр значений столбца puNumber"
   ]
  },
  {
   "cell_type": "markdown",
   "metadata": {},
   "source": [
    "В результате проверки были найдены лишь два совпадения номеров прокатных удостоверений. Изучим их более подробно:"
   ]
  },
  {
   "cell_type": "code",
   "execution_count": 16,
   "metadata": {},
   "outputs": [
    {
     "data": {
      "text/html": [
       "<div>\n",
       "<style scoped>\n",
       "    .dataframe tbody tr th:only-of-type {\n",
       "        vertical-align: middle;\n",
       "    }\n",
       "\n",
       "    .dataframe tbody tr th {\n",
       "        vertical-align: top;\n",
       "    }\n",
       "\n",
       "    .dataframe thead th {\n",
       "        text-align: right;\n",
       "    }\n",
       "</style>\n",
       "<table border=\"1\" class=\"dataframe\">\n",
       "  <thead>\n",
       "    <tr style=\"text-align: right;\">\n",
       "      <th></th>\n",
       "      <th>title</th>\n",
       "      <th>puNumber</th>\n",
       "      <th>show_start_date</th>\n",
       "      <th>type</th>\n",
       "      <th>film_studio</th>\n",
       "      <th>production_country</th>\n",
       "      <th>director</th>\n",
       "      <th>producer</th>\n",
       "      <th>age_restriction</th>\n",
       "      <th>refundable_support</th>\n",
       "      <th>nonrefundable_support</th>\n",
       "      <th>budget</th>\n",
       "      <th>financing_source</th>\n",
       "      <th>ratings</th>\n",
       "      <th>genres</th>\n",
       "      <th>box_office</th>\n",
       "    </tr>\n",
       "  </thead>\n",
       "  <tbody>\n",
       "    <tr>\n",
       "      <th>4638</th>\n",
       "      <td>Как жениться и остаться холостым</td>\n",
       "      <td>221154310</td>\n",
       "      <td>2010-12-17 12:00:00+00:00</td>\n",
       "      <td>Художественный</td>\n",
       "      <td>Ше Вам, Скрипт Ассосье, Тэ Фэ 1 Фильм Продюксь...</td>\n",
       "      <td>Франция</td>\n",
       "      <td>Эрик Лартиго</td>\n",
       "      <td>Амандин Било, Алан Шаба</td>\n",
       "      <td>«16+» - для детей старше 16 лет</td>\n",
       "      <td>0</td>\n",
       "      <td>0</td>\n",
       "      <td>0</td>\n",
       "      <td>none</td>\n",
       "      <td>7.0</td>\n",
       "      <td>мелодрама,комедия</td>\n",
       "      <td>-1</td>\n",
       "    </tr>\n",
       "    <tr>\n",
       "      <th>4639</th>\n",
       "      <td>Иоанна - женщина на папском престоле /По роман...</td>\n",
       "      <td>221154310</td>\n",
       "      <td>2010-12-17 12:00:00+00:00</td>\n",
       "      <td>Художественный</td>\n",
       "      <td>Константин Фильм, А Эр Ди Дегето Фильм, Дюне ...</td>\n",
       "      <td>Германия - Великобритания - Италия - Испания</td>\n",
       "      <td>Зенке Вортманн</td>\n",
       "      <td>Оливер Бербен, Дорис Д.Хайнце, Фарук Элтан</td>\n",
       "      <td>«16+» - для детей старше 16 лет</td>\n",
       "      <td>0</td>\n",
       "      <td>0</td>\n",
       "      <td>0</td>\n",
       "      <td>none</td>\n",
       "      <td>7.6</td>\n",
       "      <td>драма,мелодрама,история</td>\n",
       "      <td>-1</td>\n",
       "    </tr>\n",
       "  </tbody>\n",
       "</table>\n",
       "</div>"
      ],
      "text/plain": [
       "                                                  title   puNumber  \\\n",
       "4638                   Как жениться и остаться холостым  221154310   \n",
       "4639  Иоанна - женщина на папском престоле /По роман...  221154310   \n",
       "\n",
       "               show_start_date            type  \\\n",
       "4638 2010-12-17 12:00:00+00:00  Художественный   \n",
       "4639 2010-12-17 12:00:00+00:00  Художественный   \n",
       "\n",
       "                                            film_studio  \\\n",
       "4638  Ше Вам, Скрипт Ассосье, Тэ Фэ 1 Фильм Продюксь...   \n",
       "4639   Константин Фильм, А Эр Ди Дегето Фильм, Дюне ...   \n",
       "\n",
       "                                production_country        director  \\\n",
       "4638                                       Франция    Эрик Лартиго   \n",
       "4639  Германия - Великобритания - Италия - Испания  Зенке Вортманн   \n",
       "\n",
       "                                        producer  \\\n",
       "4638                     Амандин Било, Алан Шаба   \n",
       "4639  Оливер Бербен, Дорис Д.Хайнце, Фарук Элтан   \n",
       "\n",
       "                      age_restriction  refundable_support  \\\n",
       "4638  «16+» - для детей старше 16 лет                   0   \n",
       "4639  «16+» - для детей старше 16 лет                   0   \n",
       "\n",
       "      nonrefundable_support  budget financing_source  ratings  \\\n",
       "4638                      0       0             none      7.0   \n",
       "4639                      0       0             none      7.6   \n",
       "\n",
       "                       genres  box_office  \n",
       "4638        мелодрама,комедия          -1  \n",
       "4639  драма,мелодрама,история          -1  "
      ]
     },
     "metadata": {},
     "output_type": "display_data"
    },
    {
     "data": {
      "text/html": [
       "<div>\n",
       "<style scoped>\n",
       "    .dataframe tbody tr th:only-of-type {\n",
       "        vertical-align: middle;\n",
       "    }\n",
       "\n",
       "    .dataframe tbody tr th {\n",
       "        vertical-align: top;\n",
       "    }\n",
       "\n",
       "    .dataframe thead th {\n",
       "        text-align: right;\n",
       "    }\n",
       "</style>\n",
       "<table border=\"1\" class=\"dataframe\">\n",
       "  <thead>\n",
       "    <tr style=\"text-align: right;\">\n",
       "      <th></th>\n",
       "      <th>title</th>\n",
       "      <th>puNumber</th>\n",
       "      <th>show_start_date</th>\n",
       "      <th>type</th>\n",
       "      <th>film_studio</th>\n",
       "      <th>production_country</th>\n",
       "      <th>director</th>\n",
       "      <th>producer</th>\n",
       "      <th>age_restriction</th>\n",
       "      <th>refundable_support</th>\n",
       "      <th>nonrefundable_support</th>\n",
       "      <th>budget</th>\n",
       "      <th>financing_source</th>\n",
       "      <th>ratings</th>\n",
       "      <th>genres</th>\n",
       "      <th>box_office</th>\n",
       "    </tr>\n",
       "  </thead>\n",
       "  <tbody>\n",
       "    <tr>\n",
       "      <th>5067</th>\n",
       "      <td>Анализируй это!</td>\n",
       "      <td>221054410</td>\n",
       "      <td>2010-05-25 12:00:00+00:00</td>\n",
       "      <td>Художественный</td>\n",
       "      <td>Уорнер Бразерс, Вилладж Роудшоу Филмз ЛТД</td>\n",
       "      <td>США-Австралия</td>\n",
       "      <td>ХЭрольд Рэмис</td>\n",
       "      <td>Джейн Розенталь, Пола Уейнстейн</td>\n",
       "      <td>«16+» - для детей старше 16 лет</td>\n",
       "      <td>0</td>\n",
       "      <td>0</td>\n",
       "      <td>0</td>\n",
       "      <td>none</td>\n",
       "      <td>7.4</td>\n",
       "      <td>комедия,криминал</td>\n",
       "      <td>-1</td>\n",
       "    </tr>\n",
       "    <tr>\n",
       "      <th>5068</th>\n",
       "      <td>Анализируй то!</td>\n",
       "      <td>221054410</td>\n",
       "      <td>2010-05-25 12:00:00+00:00</td>\n",
       "      <td>Художественный</td>\n",
       "      <td>Уорнер Бразерс, Виллидж Роадшоу Пикчерз, Эн-Пи...</td>\n",
       "      <td>США</td>\n",
       "      <td>Гарольд Реймис</td>\n",
       "      <td>Джейн Розенталь, Паул Уэйнстейн</td>\n",
       "      <td>«12+» - для детей старше 12 лет</td>\n",
       "      <td>0</td>\n",
       "      <td>0</td>\n",
       "      <td>0</td>\n",
       "      <td>none</td>\n",
       "      <td>6.8</td>\n",
       "      <td>комедия,криминал</td>\n",
       "      <td>-1</td>\n",
       "    </tr>\n",
       "  </tbody>\n",
       "</table>\n",
       "</div>"
      ],
      "text/plain": [
       "                title   puNumber           show_start_date            type  \\\n",
       "5067  Анализируй это!  221054410 2010-05-25 12:00:00+00:00  Художественный   \n",
       "5068   Анализируй то!  221054410 2010-05-25 12:00:00+00:00  Художественный   \n",
       "\n",
       "                                            film_studio production_country  \\\n",
       "5067          Уорнер Бразерс, Вилладж Роудшоу Филмз ЛТД      США-Австралия   \n",
       "5068  Уорнер Бразерс, Виллидж Роадшоу Пикчерз, Эн-Пи...                США   \n",
       "\n",
       "            director                         producer  \\\n",
       "5067   ХЭрольд Рэмис  Джейн Розенталь, Пола Уейнстейн   \n",
       "5068  Гарольд Реймис  Джейн Розенталь, Паул Уэйнстейн   \n",
       "\n",
       "                      age_restriction  refundable_support  \\\n",
       "5067  «16+» - для детей старше 16 лет                   0   \n",
       "5068  «12+» - для детей старше 12 лет                   0   \n",
       "\n",
       "      nonrefundable_support  budget financing_source  ratings  \\\n",
       "5067                      0       0             none      7.4   \n",
       "5068                      0       0             none      6.8   \n",
       "\n",
       "                genres  box_office  \n",
       "5067  комедия,криминал          -1  \n",
       "5068  комедия,криминал          -1  "
      ]
     },
     "metadata": {},
     "output_type": "display_data"
    }
   ],
   "source": [
    "display(df.loc[df['puNumber'] == 221154310])\n",
    "display(df.loc[df['puNumber'] == 221054410])"
   ]
  },
  {
   "cell_type": "markdown",
   "metadata": {},
   "source": [
    "Исходя из полученных данных, строка с данными о фильме 'Анализируй это!' с номером прокатного удостоверения 221054410 имеет строку-дубликат с таким же удостоверением и названием 'Анализируй то!'. Они также существенно различаются по многим другим графам - например, по возрастному ограничению, имени режиссёра или стране производства. Несмотря на то, что обе эти строки содержат в себе данные об одном и том же фильме, их также нельзя удалять, поскольку нет оснований утверждать, какая из них \"правильная\". Во втором случае совпадают лишь номера прокатных удостоверений, но фильмы абсолютно разные. Вероятно, это результат какой-то ошибки записи номера удостоверения или же простое совпадение.\n",
    "\n",
    "Таким образом, в данных нет явных дубликатов, а для удаления неявных недостаточно оснований."
   ]
  },
  {
   "cell_type": "markdown",
   "metadata": {
    "id": "52fOPrEBgFyQ"
   },
   "source": [
    "#### Изучение категориальных значений"
   ]
  },
  {
   "cell_type": "markdown",
   "metadata": {},
   "source": [
    "Далее, изучим категориальные значения. "
   ]
  },
  {
   "cell_type": "code",
   "execution_count": 17,
   "metadata": {
    "id": "PnXKIVdFgFyR"
   },
   "outputs": [
    {
     "data": {
      "text/plain": [
       "array(['Художественный', 'Анимационный', 'Прочие', 'Документальный',\n",
       "       'Научно-популярный', ' Художественный', ' Анимационный',\n",
       "       'Музыкально-развлекательный'], dtype=object)"
      ]
     },
     "execution_count": 17,
     "metadata": {},
     "output_type": "execute_result"
    }
   ],
   "source": [
    "df['type'].unique() #просмотр значений столбца type"
   ]
  },
  {
   "cell_type": "code",
   "execution_count": 18,
   "metadata": {},
   "outputs": [
    {
     "data": {
      "text/plain": [
       "array(['США', 'СССР', 'Франция', 'СССР, Венгрия',\n",
       "       'Германия-Великобритания', 'Великобритания - Италия',\n",
       "       'Чехословакия', 'США - Франция - Турция', 'Новая Зеландия',\n",
       "       'Канада - Франция - Испания', 'США-Германия',\n",
       "       'США - Великобритания', 'Великобритания', 'США - Германия',\n",
       "       'Франция - Мексика - США', 'Россия, Казахстан, США',\n",
       "       'СССР, Швеция', 'СССР, Франция, Англия, Куба, ГДР', 'Германия',\n",
       "       'Великобритания-США-Германия-КНР',\n",
       "       'СССР, ЧССР, Западный Берлин, ПНР', 'СССР, Италия', 'Гонконг, КНР',\n",
       "       'США - Франция', 'США - Япония - Франция - Великобритания',\n",
       "       'Гонконг - Сингапур - Таиланд - Великобритания', 'США-Канада',\n",
       "       'Франция - Италия - Великобритания - США', 'Франция - США',\n",
       "       'Ирландия-Великобритания-Германия', 'Чехия', 'США-Австралия',\n",
       "       'СССР, Финляндия', 'США-Франция-Великобритания-Австрия',\n",
       "       'США - Бельгия', 'США - Ирландия - Великобритания',\n",
       "       'Великобритания - США',\n",
       "       'Люксембург - Нидерланды - Испания - Великобритания - США - Италия',\n",
       "       'Великобритания - Франция - США', 'Новая Зеландия - США',\n",
       "       'США - Великобритания - Чехия',\n",
       "       'Канада - Франция - Великобритания', 'Ирландия',\n",
       "       'Великобритания - Германия - США',\n",
       "       'США - Франция - Великобритания', 'Япония', 'СССР, Польша',\n",
       "       'Франция - Испания', 'Канада-Франция', 'Германия - Италия - США',\n",
       "       'Аргентина - Бразилия', 'Дания - Швейцария - Бельгия - Франция',\n",
       "       'США - Испания', 'Германия - США',\n",
       "       'Франция - Австрия - Германия - Италия - США', 'Австрия',\n",
       "       'США - Канада - Германия', 'США - Канада',\n",
       "       'СССР - Швейцария - Франция', 'Россия - Казахстан', 'Гонконг',\n",
       "       'Италия', 'США - ОАЭ', 'Россия',\n",
       "       'США - Франция - Испания - Великобритания',\n",
       "       'Великобритания - Франция', 'США-Италия-Испания-Аргентина',\n",
       "       'Франция-Великобритания', 'КНР - Гонконг',\n",
       "       'Франция - Италия - Швейцария', 'США - Новая Зеландия',\n",
       "       'Франция - Бельгия', 'КНР', 'Германия - Великобритания - Австрия',\n",
       "       'Великобритания - Израиль - Франция - Япония - США', 'Швеция',\n",
       "       'Испания', 'Дания', 'Франция - Бельгия - Люксембург',\n",
       "       'США - Индия - ОАЭ',\n",
       "       'Германия-Канада-Великобритания-Швейцария-Франция',\n",
       "       'Мексика - Чили', 'Аргентина', 'Бразилия', 'Чили', 'Австралия',\n",
       "       'Португалия - Франция', 'США - ЮАР', 'Исландия-Ирландия-Германия',\n",
       "       'США-Индонезия', 'Южная Корея', 'Мексика - Испания - Дания - США',\n",
       "       'Великобритания-США', 'Франция - Италия', 'США-Франция',\n",
       "       'США - Венгрия - Великобритания', 'Бельгия-Франция-Италия',\n",
       "       'Чехия - Германия', 'Германия - Франция', 'США-Нидерланды',\n",
       "       'Украина', 'Великобритания - Германия', 'Франция-Бельгия',\n",
       "       'США-Франция-Испания', 'Италия - Франция', 'Канада',\n",
       "       'Швеция-Франция-Дания', 'Германия-Франция-Польша',\n",
       "       'Франция-Великобритания - Германия',\n",
       "       'США - Бразилия - Франция - Австралия - Великобритания - Германия',\n",
       "       'Германия-Австрия', 'Германия-Италия- Шри-Ланка',\n",
       "       'Великобритания - Испания',\n",
       "       'США - Великобритания - Канада - Швеция',\n",
       "       'Босния и Герцеговина - Франция - Великобритания - Германия - Словения - Бельгия - Сербия',\n",
       "       'Великобритания - Франция - Италия - США', 'США-ОАЭ',\n",
       "       'Испания - Франция', 'США-Великобритания', 'США-ЮАР',\n",
       "       'Великобритания-Австралия - США',\n",
       "       'Норвегия - Швеция - Дания - Германия', 'Норвегия', 'Швейцария',\n",
       "       'Греция - Германия - Франция', 'Норвения', 'Южная Корея - США',\n",
       "       'Чили - Франция - США', 'Австрия - Германия - Франция',\n",
       "       'Швеция - Дания', 'Великобритания - Франция - Бельгия - Италия',\n",
       "       'Франция - Германия', 'Грузия - Франция - Люксембург',\n",
       "       'США - Франция - Великобритания - Бразилия ', 'США - КНР',\n",
       "       'Мексика - Франция', 'США - Германия - Гонконг - Сингапур',\n",
       "       'Финляндия - Австрия - Россия', 'Испания - Куба',\n",
       "       'Великобритания - ЮАР', 'Великобритания - Ирландия', 'Израиль',\n",
       "       'Бразилия - Германия - Порртугалия - Франция ',\n",
       "       'Франция - Канада - Бельгия', 'Франция-Испания',\n",
       "       'Испания - Канада - Япония', 'Иран', 'Швеция-Куба',\n",
       "       'США-Великобритания-Ирландия', 'Гонконг - КНР', 'Нидерланды',\n",
       "       'Испания - Канада', 'Япония-Великобритания',\n",
       "       'Великобритания - Норвегия - Дания - Германия',\n",
       "       'Финляндия - Франция - Германия',\n",
       "       'Мексика - Франция - Нидерланды - Германия', 'США - Индия',\n",
       "       'США-Великобритания-Индия', 'США-Канада-Бельгия',\n",
       "       'Республика Узбекистан', 'Италия ', 'Турция',\n",
       "       'Сербия - Словения - Хорватия - Черногория - Македония',\n",
       "       'Киргизия', 'Германия - Нидерланды - Беларусь - Россия - Латвия',\n",
       "       'Индия', 'Нидерланды - Россия - Германия',\n",
       "       'Великобритания - Нидерланды - Франция - Хорватия',\n",
       "       'Канада - Южная Корея',\n",
       "       'Великобритания - Польша - КНР - Индия - Норвегия',\n",
       "       'Япония - Франция - США - Южная Корея - Турция',\n",
       "       'Мексика - Аргентина - Великобритания', 'Израиль - Франция',\n",
       "       'Польша - Португалия - Франция - Великобритания',\n",
       "       'Австралия - США', 'США - Великобритания ',\n",
       "       'Франция - Люксембург - Бельгия', 'Армения',\n",
       "       'Бельгия - Люксембург - Франция - Швейцария',\n",
       "       'США - Великобритания - Канада', 'Норвегия - Швеция',\n",
       "       'Канада - Франция', 'КНР - Гонконг - США',\n",
       "       'США - Сингапур - Малайзия - Индонезия', 'Германия - Россия',\n",
       "       'Япония - Канада', 'Финляндия - Дания - Германия - Ирландия',\n",
       "       'Франция - Люксембург - Германия - Бельгия - Швейцария - Великобритания ',\n",
       "       'Канада - США', 'США-Италия-Испания', 'США-Испания',\n",
       "       'США - Швейцария - Франция', 'Испания - США - Колумбия',\n",
       "       'Канада-ЮАР', 'Франция - Россия',\n",
       "       'Германия - Финляндия - Австралия', 'Дания - Швеция', 'Бельгия',\n",
       "       'Германия - Франция - Австрия', 'Франция-Индия', 'ЮАР',\n",
       "       'Франция-Перу', 'Франция - Канада', 'Республика Беларусь',\n",
       "       'Великобритания - Австрия - Франция - США',\n",
       "       'Австрия-Германия-Франция', 'США-Россия', 'Германия-США',\n",
       "       'США - Южная Корея', 'Канада - КНР',\n",
       "       'Дания - Швеция - Италия - Франция - Германия',\n",
       "       'Франция-Италия-Испания-Венгрия', 'Франция - Германия - Бельгия',\n",
       "       'Франция-Великобритания-Чехия', 'Румыния - Франция - Бельгия',\n",
       "       'Болгария - Франция - Изриль',\n",
       "       'Израиль - Германия - Польша - Бельгия - Франция - Люксембург',\n",
       "       'Россия, Германия, Франция, Бельгия', 'Индонезия',\n",
       "       'Франция - Португалия', 'Великобритания - Пуэрто-Рико',\n",
       "       'СССР, ФРГ, Западный Берлин', 'Россия, Республика Беларусь',\n",
       "       'США, Великобритания', 'Франция - Австрия', 'Бельгия-Нидерланды',\n",
       "       'Великобритания - США - Индия', 'США - Великобритания - Австралия',\n",
       "       'Канада - Франция - США - ОАЭ - Великобритания',\n",
       "       'США - Австралия - Франция',\n",
       "       'Дания-Франция-Бельгия-Германия-Великобритания',\n",
       "       'Испания - Аргентина', 'Исландия - Финляндия',\n",
       "       'Россия-Польша-Голландия-Словакия', 'Дания - Германия - Швеция',\n",
       "       'Южная Корея - США - Канада', 'Таиланд', 'США-Мальта',\n",
       "       'США -Германия',\n",
       "       'Великобритания - Германия - Франция - Кипр - США', 'Мексика',\n",
       "       'США - Великобритания - Ирландия', 'США - Украина',\n",
       "       'США - Финляндия - Испания - Великобритания - Франция',\n",
       "       'Австралия-Великобритания',\n",
       "       'США - Канада - Афганистан - Бельгия - Франция',\n",
       "       'США - Великобритания - Германия - Новая Зеландия - Бельгия - Франция',\n",
       "       'Франция-Канада',\n",
       "       'Ирландия - Финляндия - Бельгия - Великобритания - США - Швейцария',\n",
       "       'Малайзия - США', 'Германия - Италия',\n",
       "       'США - Франция - Бельгия - Италия', 'Франция - Ирландия - Швеция',\n",
       "       'Азербайджан-Россия', 'Великобритания - Италия - Швейцария',\n",
       "       'США - Германия - Великобритания',\n",
       "       'Германия - Бельгия - США -Франция', 'США-Китай', 'Чили - Испания',\n",
       "       'Франция - Швейцария', 'Канада - Испания',\n",
       "       'США - Румыния - Великобритания', 'США - Япония',\n",
       "       'США - Россия - Франция', 'Франция-США', 'Парагвай',\n",
       "       'Германия - Канада', 'США - Канада - Великобритания',\n",
       "       'Финляндия - Канада', 'Уругвай-Мексика-Германия ', 'США - Чили',\n",
       "       'Германия - Аргентина - Нидерланды - Чили',\n",
       "       'США - Канада - Индонезия', 'Армения - Казахстан', 'Финляндия',\n",
       "       'Испания - Италия - Франция',\n",
       "       'Бельгия - Испания - Канада - Нидерланды',\n",
       "       'Великобритания - Франция - Швеция - Бельгия',\n",
       "       'Мексика - Эквадор - Канада - США - Франция - Малайзия - Италия - Аргентина - Германия - Индия  ',\n",
       "       'Франция - Бенльгия', 'Индия - Великобритания',\n",
       "       'Япония - Великобритания - Франция',\n",
       "       'Испания - Уругвай - Аргентина',\n",
       "       'Франция - Италия - Бельгия - Люксембург',\n",
       "       'Франция - Украина - Грузия - Армения',\n",
       "       'Сербия - Германия - Венгрия', 'Франция-Польша', 'Франция ',\n",
       "       'Румыния-США', 'Россия-Азербайджан',\n",
       "       'США - Нидерланды - Бельгия - Венгрия - Греция - Канада',\n",
       "       'Германия - Франция - Люксембург', 'США - Россия',\n",
       "       'Великобритания - США - Франция', 'США - Австралия - Дания',\n",
       "       'Бельгия-Франция', 'США-Мексика',\n",
       "       'Норвегия - Азербайджан - Россия - Колумбия - Великобритания - Венгрия - Румыния - Франция - Грузия',\n",
       "       'СЩА', 'Бразилия - Испания', 'Россия, Франция, Латвия',\n",
       "       'Нидерланды - США - Германия - Канада - Франция - Ирландия - Великобритания',\n",
       "       'Уругвай - Колумбия', 'США - Испания - Болгария',\n",
       "       'Армения - Германия', 'США - Великобритания- Франция - Швеция',\n",
       "       'США - Мексика', 'Австралия-Турция-США', 'Швеция - Германия',\n",
       "       'Польша - Италия - Россия', 'Франция - Бразилия',\n",
       "       'США - Канада - КНР', 'СССР, Венгрия, ЧССР, ГДР',\n",
       "       'Бельгия - Германия - Люксембург', 'СССР  ', 'СССР ', ' СССР ',\n",
       "       'США - Австралия', 'Бразилия - США',\n",
       "       'США - Великобритания - Канада - КНР', 'Франция - Чили',\n",
       "       'Франция - США - Великобритания - Колумбия - Бельгия - Россия',\n",
       "       'Дания - Великобритания - ЮАР', 'СССР   ',\n",
       "       'Россия-США-Канада-Люксембург', 'Россия - Республика Кипр',\n",
       "       'Германия - США - Швеция - Франция',\n",
       "       'Великобритания-Германия-Канада-ЮАР', ' СССР   ', 'СССР     ',\n",
       "       'Ирландия, Канада',\n",
       "       'Япония - Великобритания - Швейцария - Ирландия - Дания - Франция - Польша - Австралия - Канада  ',\n",
       "       'Великобритания, Канада', 'Бельгия - США',\n",
       "       'Великобритания - США - Россия', 'Россия-Украина',\n",
       "       'Германия - США - Великобритания - Израиль', 'Канада - Германия',\n",
       "       'США- Ю.Корея', 'Индия - Мексика',\n",
       "       'Великобритания - Франция - Республика Кипр - Швейцария - США - Сербия',\n",
       "       'Испания - Аргентина - Индия - США',\n",
       "       'Норвегия - Исландия - США - Великобритания ',\n",
       "       'Турция - Германя - Франция', 'Германия - Великобритания',\n",
       "       'Австралия - Германия', 'Мексика - Испания',\n",
       "       'Великобритания - США - Германия - Бельгия',\n",
       "       'США - Чехия - Франция', 'Россия - Италия', 'Франция-Россия',\n",
       "       'Норвегия - Дания - Швеция', 'Франция - Швейцария - Германия',\n",
       "       'Грузия - Украина', 'Россия - Эстония - Финляндия - Беларусь',\n",
       "       'США - Франция - ЮАР', 'Великобритания - США - Швейцария',\n",
       "       'Канада-США', 'Мексика - Нидерланды - Германия - Франция',\n",
       "       'США - Испания - Франция', 'США - Великобритания - КНР',\n",
       "       'США-Франция-Канада',\n",
       "       'Япония, Великобритания, Австрия, Германия, Ю.Корея',\n",
       "       'Великобритания - Ирландия - США', 'Бельгия - Италия - Франция ',\n",
       "       'Швейцария-Германия-ЮАР', 'Великобритания - США - Германия',\n",
       "       'Германия - Исландия', 'Испания - США', 'СССР    ', 'Хорватия',\n",
       "       'Финляндия - Исландия - Швеция',\n",
       "       'Канада - США - Германия - Франция',\n",
       "       'США - Великобритания - Испания', 'Ирландия-Великобритания',\n",
       "       'Аргентина - Испания', 'Австрия - Германия', ' СССР',\n",
       "       'Германия - Швейцария - Франция - Южная Корея - США',\n",
       "       'Украина - Нидерланды', 'Венгрия - Германия - Швеция',\n",
       "       'Германия - Франция -  Польша - Турция - Канада - Италия - Россия ',\n",
       "       'СССР, Афганистан', 'СССР, Монголия', 'Россия-Кипр',\n",
       "       'Россия, Грузия, Испания',\n",
       "       'Великобритания - Нидерланды - Германия - Франция - Бельгия - Австрия ',\n",
       "       'Испания - Великобритания - Франция',\n",
       "       'Дания - Норвегия - Великобритания',\n",
       "       'Бельгия - Франция - Люксембург',\n",
       "       'Италия - Франция - Швейцария - Великобритания',\n",
       "       'Франция - Бельгия - Великобритания - Испания - Германия - США',\n",
       "       'Швейцария - Израиль - Франция - Великобритания',\n",
       "       'Великобритания - США - Канада - Нидерланды - Франция',\n",
       "       'Россия, Италия', 'СССР, Албания',\n",
       "       'Россия, Украина, Республика Беларусь, Литва',\n",
       "       'Финляндия - Великобритания - Германия', 'Россия, Украина, Польша',\n",
       "       'Франция - Италия - Бельгия - КНР',\n",
       "       'Германия - Бельгия - Люксембург - Ирландия', 'КНР - Сингапур',\n",
       "       'Франция - Бельгия - Великобритания - США - Нидерланды - Канада',\n",
       "       'США - Россия - Польша - Германия - Пуэрто Рико',\n",
       "       'Франция - Бельгия - Канада', 'США ', 'Мексика - США',\n",
       "       'США - Гонконг - КНР ', 'Греция - Россия',\n",
       "       'Ирландия - Дания - Бельгия - Люксембург - Франция',\n",
       "       'Эстония - Россия',\n",
       "       'Великобритания - Исландия - Испания - Швейцария - США',\n",
       "       'Австралия - Великобритания - Бельгия - Индия',\n",
       "       'Швеция - Германия - Франция - Норвегия',\n",
       "       'Нидерланды - Бельгия - Германия - Ирландия',\n",
       "       'Нидерланды - Великобритания - Бельгия',\n",
       "       'США - Колумбия - Испания', 'Франция-Испания-Бельгия-Панама',\n",
       "       'США-Великобритания-Чехия-Румыния',\n",
       "       'Аргентина - Уругвай - Россия - Германия - Франция - Нидерланды',\n",
       "       'Швеция - Франция - Норвегия - Дания',\n",
       "       'Италия-Франция-Великобритания', 'Великобритания, Франция',\n",
       "       'Австралия, США', 'Венесуэла',\n",
       "       'Великобритания - США - Австралия - Ирландия - Германия - Куба - Канада',\n",
       "       'Южная Корея - КНР',\n",
       "       'Аргентина - Мексика - Бразилия - Франция - США', 'Швеция - США',\n",
       "       'Франция - Германия - Турция - Катар', 'Франция-Китай',\n",
       "       'Россия, Германия, Великобритания',\n",
       "       'Великобритания - Италия - Испания', 'Италия - Россия',\n",
       "       'Япония - КНР - Южная Корея', 'Россия, Германия',\n",
       "       'Россия-Ирландия', 'Македония - Франция - Великобритания',\n",
       "       'Франция - Бразилия - Италия', 'Россия-США', 'Армения-Россия',\n",
       "       'Россия, Румыния', 'Франция -  Бельгия', 'Грузия-Франция',\n",
       "       'ЮАР - США', 'Великобритания-США-Франция',\n",
       "       'Великобритания - США - Германия - Канада - Австралия',\n",
       "       'США-Ирландия', 'Россия, Республика Кипр',\n",
       "       'Германия - Люксембург - Франция', 'Россия-Франция',\n",
       "       'США - Нидерланды - Финляндия - Великобритания - Италия',\n",
       "       'Республика Кипр', 'Венгрия', 'Франция - США - Норвегия - Дания',\n",
       "       'Германия - Австрия - Ирландия', 'США - Финляндия',\n",
       "       'Италия-Великобритания', 'Россия, Испания',\n",
       "       'США - Великобритания - Болгария', 'Великобритания - Люксембург',\n",
       "       'Индия - США', 'США - Канада - Россия - Франция - Чили - Ирландия',\n",
       "       'Грузия-Россия',\n",
       "       'Дания - Австрия - Ирландия - Финляндия - Норвегия - Швеция - Нидерланды',\n",
       "       'США-КНР', 'Грузия', 'Австралия - Ирландия',\n",
       "       'Великобритания - Канада', 'Италия - Аргентина - Словения ',\n",
       "       'Испания - Франция - Нидерланды - Германия - Бельгия - Великобритания - Канада',\n",
       "       'Франция - Чехия - Бельгия',\n",
       "       'Великобритания - Франция - Германия - США',\n",
       "       'Ирландия - Великобритания - Франция - США - Германия - Нидерланды',\n",
       "       'США - Канада - Япония - КНР', 'Италия-Франция',\n",
       "       'США - Великобритания - Исландия', 'Великобритания-Франция',\n",
       "       'Франция - Германия - Нидерланды', 'Иран ',\n",
       "       'Франция - Германия - Швеция - США - Чехия - Словакия - Великобритания - Нидерланды',\n",
       "       'Франция - Канада - Н.Зеландия - США - Нидерланды - Германия - Швеция - Россия',\n",
       "       'Турция - США',\n",
       "       'Великобритания - США - Канада - Бельгия - Нидерланды - Австрия - Германия',\n",
       "       'Израиль - Франция - Германия - Палестина - США - Австрия - Великобритания',\n",
       "       'Аргентина - Франция - Испания', 'СССР, Россия',\n",
       "       'Великобритания - Франция - Италия - Индия - Дания - КНР - Бангладеш - Камбоджа - Гаити - Уганда',\n",
       "       'Италия - Франция - Швейцария',\n",
       "       'Ирландия - Великобритания - Канада', 'Перу', 'США - Норвегия',\n",
       "       'Испания-Канада', 'Китай-Гонконг', 'США - Германия - КНР',\n",
       "       'Великобритания - Новая Зеландия',\n",
       "       'Франция - Дания - Швеция - КНР',\n",
       "       'США - Великобритания - Германия - Бельгия - Дания',\n",
       "       'США - Франция - Канада - Германия - Австралия - Индия', 'unknown',\n",
       "       'СССР, Румыния, Франция', 'СССР, ГДР', 'Австралия-Ирландия',\n",
       "       'США - Китай', 'Великобритания - Франция - Австрия - Швеция',\n",
       "       'Россия, Таджикистан', 'Нидерланды - Бельгия - Болгария',\n",
       "       'Великобритания - Канада - США', 'Франция - Бельгия - Испания',\n",
       "       'Китай-Гонконг-США', 'Франция - Великобритания', 'США - Вьетнам',\n",
       "       'США - Германия - Франция', 'Германия - Франция - Бельгия',\n",
       "       'США - Италия',\n",
       "       'Германия - Дания - Испания - Швеция - Канада - Эстония - Франция',\n",
       "       'Княжество Андорра - Украина', 'Германия - Люксембург - Бельгия',\n",
       "       'Великобритания - Россия - Украина - США',\n",
       "       'Германия - Бельгия - Люксембург - Норвегия',\n",
       "       'США - Австралия - Новая Зеландия - Великобритания',\n",
       "       'США - Франция - Канада - Великобритания', 'Испания-Колумбия',\n",
       "       'Великобритания - Чехия - Франция', 'Россия, Украина', 'Исландия',\n",
       "       'Великобритания - Франция - Венгрия',\n",
       "       'Россия, Франция, Германия, Бельгия', 'Франция - Македония',\n",
       "       'Нидерланды - Франция - Германия - Бельгия - Швеция - Великобритания',\n",
       "       'Испания - США - Великобритания - Канада', 'Германия - Австрия',\n",
       "       'Республика Казахстан',\n",
       "       'Франция - Испания - Дания - Венгрия - Швейцария', 'Франция-КНР',\n",
       "       'США - Пуэрто-Рико - Франция ', 'Мексика - Тайвань - США',\n",
       "       'Великобритания - Испания - Непал - Индия - Венгрия - Гонконг - Германия - Дания - Бахрейн',\n",
       "       'Великобритания - Аргентина - США - Франция - Россия - Испания',\n",
       "       'КНР - США', 'Италия - США', 'Финляндия - Швеция - Германия',\n",
       "       'Канада- Испания', 'Франция - Бельгия - Чехия',\n",
       "       'Франция-Бельгия-Канада', 'Франция - Германия - США',\n",
       "       'США - Дания', 'Индия - КНР', 'Чехия-Великобритания-США',\n",
       "       'США-ФРГ-Россия', 'Ирландия-Нидерланды-Франция-США-Великобритания',\n",
       "       'Россия, Грузия, Хорватия, Испания',\n",
       "       'Финляндия - Швеция - Норвегия', 'Сербия - Великобритания - США',\n",
       "       'США - Великобритания - Франция - Гонконг', 'Швейцария - Франция',\n",
       "       'Швейцария - Великобритания', 'ОАЭ - США',\n",
       "       'США - Франция - Германия - Канада - Австралия ',\n",
       "       'Германия - Австралия', 'Иран, Франция',\n",
       "       'США - Великобритания - Новая Зеландия', 'США-Колумбия',\n",
       "       'США-Франция-Ирландия', 'Великобритания - Франция - Бельгия',\n",
       "       'США - Великобритания - Япония', 'США - Франция - Германия',\n",
       "       'Польша - Ирландия', 'Ирландия - Великобритания - Франция - США',\n",
       "       'США - Бельгия - Великобритания', 'СССР, ВНР',\n",
       "       'Испания - Франция - США - Великобритания - Бельгия',\n",
       "       'Франция - Дания - США', 'США - Гонконг', 'Бразилия - К;анада',\n",
       "       'Франция-Германия', 'США - Колумбия',\n",
       "       'США - Ирландия - Великобритания - Франция',\n",
       "       'Великобритания - США - Канада', 'Польша - Франция',\n",
       "       'Канада - США - Нидерланды - Великобритания - Аргентина',\n",
       "       'Великобритания - Дания', 'Франция - Бельгия - Япония',\n",
       "       'Россия,  Испания', 'Франция -Бельгия',\n",
       "       'США - Канада - Германия - Франция', 'США-Канада-Франция',\n",
       "       'Россия - Германия', 'Россия-Италия', 'Китай - Гонконг',\n",
       "       'Германия-Австрия-Франция-Италия', 'США-Япония',\n",
       "       'США - Германия - Канада', 'Испания-Мексика',\n",
       "       'США - Япония - Канада - Великобритания - Германия - Франция',\n",
       "       'США -Великобритания - Австралия', 'Россия-Украина-Германия',\n",
       "       'Израиль - Франция - Великобритания - Германия', 'Корея',\n",
       "       'Россия - Болгария', 'США-Индия',\n",
       "       'Германия-Канада-Франция-Бельгия', 'Германия-Кения',\n",
       "       'Франция - Монако', 'Франция-Испания-Швейцария',\n",
       "       'Австрия-Франция-Германия', 'Румыния',\n",
       "       'США-Великобритания-Франция', 'Канада-Великобритания',\n",
       "       'Канада-Бразилия-Япония', 'Германия - Дания - Норвегия',\n",
       "       'Дания - Германия', 'СССР - Италия',\n",
       "       'СССР - ГДР - Польша - Италия',\n",
       "       'США - Испания - Франция - Великобритания', 'Китай',\n",
       "       'Мексика-Аргентина',\n",
       "       'Германия - Великобритания - Италия - Испания',\n",
       "       'Франция-Германия-Великобритания', 'Россия - Германия - Швейцария',\n",
       "       'Франция-Австралия', 'Голландия', 'Швейцария-Франция',\n",
       "       'Россия-Белоруссия', 'Франция - Испания - Тайвань',\n",
       "       'США-Южная Корея-Новая Зеландия', 'Великобритания-Венгрия',\n",
       "       'Россия-Германия', 'Великобритания-Франция-Германия',\n",
       "       'Франция-Германия-Италия', 'Швеция-Финляндия-Франция-Норвегия',\n",
       "       'Франция-Италия', 'Германия-Израиль',\n",
       "       'Швеция - Германия - Дания - Норвегия', 'США-Бельгия',\n",
       "       'Франция-Гонконг-Ирландия', 'Эстония', 'Литва-Россия-Украина',\n",
       "       'Германия - Италия - Франция',\n",
       "       'Великобритания - Австрия - Германия', 'Бельгия - Франция',\n",
       "       'Россия-Казахстан', 'Испания - Мальта',\n",
       "       'Франция-Россия-Румыния-Италия-Бельгия', 'Россия - Польша',\n",
       "       'Испания - Мексика', 'США-Аргентина', 'Великобритания ',\n",
       "       'Израиль-США-Франция', 'США - Новая Зеландия - Япония',\n",
       "       'Франция - Чехия - Великобритания', 'Россия-Польша',\n",
       "       'Германия-Франция-Великобритания', 'США-Германия-Канада',\n",
       "       'США-Гонконг-Китай', 'США - Великобритания - Германия',\n",
       "       'США-Канада-Австралия', 'Япония-США-Франция',\n",
       "       'Франция-Испания-Германия', 'США - Хорватия - Босния-Герцеговина',\n",
       "       'Великобритания - Чехия - Франция - Италия',\n",
       "       'США - Германия - Нидерланды', 'Германия - Франция - Канада',\n",
       "       'Франция-Грузия-Германия-Россия-Украина-Бельгия',\n",
       "       'Великобритания - Франция - Италия', 'Россия - США',\n",
       "       'Франция - Италия - Иран', 'Россия - Азербайджан', 'Греция',\n",
       "       'Дания - США', 'США-Великобритания-Новая Зеландия',\n",
       "       'США-Германия-Австралия', 'США-Канада-Италия',\n",
       "       'США - Япония - Германия', 'Австралия-США',\n",
       "       'Франция - Великобритания - Багамские острова - США',\n",
       "       'Швейцария - Люксембург', 'Швейцария - Австрия',\n",
       "       'Германия - Швейцария', 'Дания-Швеция-Франция-Германия', 'Польша',\n",
       "       'Швейцария-Австрия', 'Бразилия - Канада - США',\n",
       "       'Нидерланды - Россия', 'Португалия', 'Франция-Аргентина',\n",
       "       'Швеция-Франция', 'Франция-Украина', 'Германия-Украина-Нидерланды',\n",
       "       'Италия-Швейцария', 'США-Германия-Великобритания',\n",
       "       'Латвия - Россия', 'Германия-Франция-Великобритания-США',\n",
       "       'Канада - Италия', 'США - Объединенные Арабские Эмираты',\n",
       "       'США-Венгрия', 'Малайзия', 'Россия - Германия - Украина',\n",
       "       'США - Австралия - Мексика', 'Литва - Венгрия', 'Германия - Китай',\n",
       "       'Казахстан', 'Республика Корея',\n",
       "       'США - Германия - Франция - Великобритания - Канада ',\n",
       "       'Бельгия - Германия - Люксембург - Франция', 'Франция - Греция',\n",
       "       'Италия - Канада', 'США - Великобритания - Франция',\n",
       "       'США-Италия-Греция', 'Германия - США - Великобритания - Ирландия',\n",
       "       'Великобритания - Франция - Германия',\n",
       "       'Германия - Нидерланды - ЮАР',\n",
       "       'США-Япония-Германия-Великобритания-Нидерланды',\n",
       "       'США-Япония-Германия-Великобритания',\n",
       "       'Германия - Франция - Польша',\n",
       "       'Таиланд-Великобритания-Франция-Германия-Испания-Нидерланды',\n",
       "       'Германия-Италия-Швейцария',\n",
       "       'Дания - Швеция - Великобритания - Франция - Германия - Нидерланды - Норвегия - Финляндия',\n",
       "       'Франция - Великобритания - Нидерланды - Люксембург',\n",
       "       'Нидерланды-Великобритания-Франция-Италия-Япония',\n",
       "       'Финляндия-Дания-Германия-Ирландия', 'Испания-Аргентина',\n",
       "       'Великобритания - Нидерланды - Франция - США', 'Канада - Мексика',\n",
       "       'США, Франция', 'Канада-Южная Корея-США',\n",
       "       'Великобритания - Франция - Бельгия - США', 'КНР - Канада - США',\n",
       "       'Италия - Франция - Германия',\n",
       "       'Швеция - Германия - Франция - Дания', 'Франция - США - Бельгия',\n",
       "       'Украина - Германия - Латвия - Эстония', 'Австрия - Люксембург',\n",
       "       'Великобритания - КНР', 'Монголия', 'Франция - Дания',\n",
       "       'Швеция - Дания - Финляндия',\n",
       "       'Сингапур - Великобритания - Индонезия - Канада - США',\n",
       "       'США - Германия - Япония', 'Таиланд - США', 'Франция - Нидерланды',\n",
       "       'Великобритания - Румыния', 'США - Мальта',\n",
       "       'Великобритания - Германия - Нидерланды - Дания',\n",
       "       'Франция - Германия - Литва - Нидерланды - Россия',\n",
       "       'США - ЮАР - Гонконг', 'Австралия - Колумбия',\n",
       "       'Великобритания - Польша', 'США - Великобритания - Швеция',\n",
       "       'Франция - Швеция - Дания - Норвегия', 'Болгария - США',\n",
       "       'СССР, ФРГ', 'Бельгия - Нидерланды - Франция',\n",
       "       'Финляндия - Германия', 'Болгария',\n",
       "       'Грузия - Россия - Украина - Хорватия - Германия',\n",
       "       'Франция - Люксембург', 'Франция - Германия - Австрия',\n",
       "       'Норвегия - США', 'Германия-Швеция', 'Франция - Германия - Италия',\n",
       "       'Франция-Германия-Австрия', 'КНР-США',\n",
       "       'Великобритания - Ирландия - США ',\n",
       "       'Дания - Латвия - Россия - США', 'Финляндия - Польша',\n",
       "       'Германия - Бельгия', 'Германия - США - Франция - Испания',\n",
       "       'Бельгия-Германия-Канада-Франция-США-Великобритания',\n",
       "       'Нидерланды - Бельгия - Люксембург', 'Канада-Германия',\n",
       "       'Люксембург - Бельгия - Франция', 'США-Великобритания-Австралия',\n",
       "       'Великобритания, Новая Зеландия', 'Бельгия, Великобритания, США',\n",
       "       'Великобритания, Австралия', 'Исландия, Бельгия',\n",
       "       'Испания - Швейцария - Великобритания - Германия - Новая Зеландия - Нидерланды - Канада',\n",
       "       'Франция, Бельгия', 'Великобритания, США', 'Киргизия-Россия',\n",
       "       'Германия, США', 'Великобритания, США, Испания',\n",
       "       'Италия - Швейцария - Германия', 'Россия, Армения',\n",
       "       'Франция, Германия', 'Китай, Канада, США', 'Германия, Австралия',\n",
       "       'КНР, США', 'США, Великобритания, Люксембург',\n",
       "       'Испания, Ирландия, Бельгия, Франция',\n",
       "       'Великобритания - Гонконг - Венгрия - США - Ирландия',\n",
       "       'США - Пуэрто Рико', 'Аргентина - Испания - Уругвай',\n",
       "       'Израиль - Германия - Франция - Швейцария',\n",
       "       'Великобритания - Мексика - США', 'Испания - Болгария - США',\n",
       "       'Россия-Словакия-Чехия',\n",
       "       'Швейцария - КНР - США - Россия - Республика Корея - Великобритания',\n",
       "       'Россия, Нидерланды, Финляндия',\n",
       "       'Испания - Бельгия - Франция - Португалия - Великобритания',\n",
       "       'Бразилия - Португалия - Франция', 'Швеция - Норвегия',\n",
       "       'Франция - Польша - Бельгия', 'CША', 'Китай, США',\n",
       "       'Италия, Франция, Германия', 'Германия - Австрия - Франция',\n",
       "       'Чехия - Словакия - Хорватия', 'Россия, Польша, Финляндия',\n",
       "       'Россия, Латвия, Чешская Республика',\n",
       "       'Франция - Великобритания - Камбоджа - США - КНР',\n",
       "       'Чехия - Испания - США', 'Германия - Люксембург - Дания',\n",
       "       'Великобритания - Испания - Германия', 'Дания - Исландия',\n",
       "       'Германия, Франция, Великобритания',\n",
       "       'Великобритания - Испания - Италия - Латвия - Франция - Эстония',\n",
       "       'Дания, Швеция, Великобритания, Франция, Германия, Норвегия, Финляндия, Нидерланды, Италия',\n",
       "       'Польша - Франция - Великобритания',\n",
       "       'Дания, Норвегия, Венгрия, Чехия',\n",
       "       'Дания - Франция - Германия - Швеция',\n",
       "       'Великобритания, Швеция, США',\n",
       "       'Канада, Франция, Италия, Швейцария, США', 'США, Индия',\n",
       "       'США - Великобритания - Германия - - Швеция - Канада',\n",
       "       'Италия, Франция', 'Республика Беларусь, Германия, США, Россия',\n",
       "       'Италия-Швейцария-Франция-Германия ',\n",
       "       'Россия - Франция - Великобритания - Латвия', 'Россия-Беларусь',\n",
       "       'Франция - Испания - Румыния - США - Бельгия', 'Италия-США',\n",
       "       'Россия, Австрия', 'Ирландия - Великобритания - США',\n",
       "       'Швейцария, Великобритания, Франция, США, Ирландия',\n",
       "       'Мексика, Франция, Германия, Дания, Швеция', 'Нидерланды, Бельгия',\n",
       "       'Швеция, Норвегия, Финляндия, Франция', 'Испания, Франция, Италия',\n",
       "       'Испания-Франция-Греция-Индия-США-Россия-Великобритания',\n",
       "       'Великобритания - Япония - США',\n",
       "       'Дания, Канада, Норвегия, Австралия, США', 'Аргентина, Испания',\n",
       "       'Россия, Германия, Казахстан, Польша, Китай',\n",
       "       'Португалия, Франция, Польша, США', 'США - Канада - Аргентина',\n",
       "       'Ливан-США', 'Япония - США', 'США, Гонконг ',\n",
       "       'Франция - Россия - Швейцария - Румыния - Венгрия',\n",
       "       'Аргентина-Испания', 'Россия, Сербия', 'США - Болгария - Мексика',\n",
       "       'США - Великобритания - Швейцария - Франция',\n",
       "       'Таиланд - КНР - США',\n",
       "       'Великобритания, Нидерланды, Польша, Швейцария, Франция',\n",
       "       'Ирландия - США',\n",
       "       'Германия - Франция - Великобритания - Польша - США',\n",
       "       'Великобритания-Франция-Италия', 'США - Австралия - Индия',\n",
       "       'Франция - КНР', 'Великобритания - Израиль',\n",
       "       'Великобритания - Норвегия - Кения - Хорватия',\n",
       "       'США - Бразилия - Великобритания - Канада', 'Германия, Бельгия',\n",
       "       'Австралия, Канада', 'США, Великобритания, Франция',\n",
       "       'Кения, Германия', 'Нидерланды, Бельгия, Люксембург', 'Колумбия',\n",
       "       'Латвия - Франция', 'Ирландия, Великобритания',\n",
       "       'Франция - Израиль - Германия', 'Швеция, Франция, Великобритания',\n",
       "       'Бельгия - Люксембург', 'Германия - Бельгия - Великобритания',\n",
       "       'Испания, Франция, Великобритания, Дания, Бельгия, Германия',\n",
       "       'Румыния, ЮАР, Иран, Франция, Канада, Великобритания',\n",
       "       'Германия, Франция', 'США, Япония',\n",
       "       'США, Великобритания, Ирландия, Люксембург', 'Республика Армения',\n",
       "       'США, Франция, Япония', 'Япония, США', 'Канада, США',\n",
       "       'Республика Кипр - Россия',\n",
       "       'Дания - Франция - Италия - Бельгия - Нидерланды',\n",
       "       'Россия - Грузия', 'Италия, Германия', 'Норвегия, Швеция, Дания',\n",
       "       'Республика Кипр, Россия', 'КНР, Индия, Гонконг, США',\n",
       "       'Израиль, Украина', 'США, Россия', 'США - КНР - Индия - Ю.Корея',\n",
       "       'США - Швеция', 'Франция, Канада', 'Россия-Китай',\n",
       "       'Канада, Великобритания', 'США, Германия',\n",
       "       'Канада, США, Каймановы острова',\n",
       "       'Бразилия, Уругвай, Дания, Норвегия, Чили, Швеция',\n",
       "       'Пуэрто-Рико, Великобритания, США',\n",
       "       'Уругвай - Аргентина - Испания',\n",
       "       'США - Великобритания - Италия - Израиль - Сербия - Индия',\n",
       "       'США - Канада - Франция - Индия', 'Великобритания - Россия - КНР',\n",
       "       'Франция, Новая Зеландия', 'Франция, Люксембург, Бельгия',\n",
       "       'Канада, США, Норвегия', 'Италия, Испания',\n",
       "       'Испания - Германия - Нидерланды', 'Бразилия - США - КНР ',\n",
       "       'Великобритания, Германия, Дания, США', '2019',\n",
       "       'Италия - Фрация - Бразилия - Германия',\n",
       "       'Норвегия - Швеция - Россия', 'Великобритания, Япония, США',\n",
       "       'Сша, Канада', 'Бельгия, Канада',\n",
       "       'Великобритания - Австралия - США', 'США, Канада', 'КНР - США ',\n",
       "       'Франция - Финляндия', 'Колумбия - США',\n",
       "       'Великобритания, Франция, Бельгия', 'Норвегия - Нидерланды',\n",
       "       'Великобритания, Канада, США', 'Япония, Великобритания',\n",
       "       'Италия - Бельгия - Франция', 'Россия, Бельгия, Финляндия',\n",
       "       'США, Украина', 'Франция, Норвегия',\n",
       "       'Великобритания, Южная Корея, Канада, США, Индия, Китай, Япония',\n",
       "       'Канада - Норвегия', 'Республика Кипр-Россия', 'Германия, Россия',\n",
       "       'Польша - Франция - Испания - Бразилия - Швеция',\n",
       "       'Австрия, Великобритания, Германия', 'Франция - Сенегал - Бельгия',\n",
       "       'Франция, Бельгия, Люксембург', 'Финляндия, Латвия', 'Пакистан',\n",
       "       'Германия, Франция, США', 'Германия - Великобритания - США',\n",
       "       'КНР - Франция', 'Дания, Норвегия, Швеция, Исландия',\n",
       "       'Республика Кипр, США, Россия', 'Новая Зеландия - КНР',\n",
       "       'Дания - Канада - Швеция - Франция - Германия - Великобритания - США'],\n",
       "      dtype=object)"
      ]
     },
     "execution_count": 18,
     "metadata": {},
     "output_type": "execute_result"
    }
   ],
   "source": [
    "df['production_country'].unique() #просмотр значений столбца production_country"
   ]
  },
  {
   "cell_type": "code",
   "execution_count": 19,
   "metadata": {},
   "outputs": [
    {
     "data": {
      "text/plain": [
       "array(['«18+» - запрещено для детей', '«6+» - для детей старше 6 лет',\n",
       "       '«12+» - для детей старше 12 лет',\n",
       "       '«16+» - для детей старше 16 лет',\n",
       "       '«0+» - для любой зрительской аудитории'], dtype=object)"
      ]
     },
     "execution_count": 19,
     "metadata": {},
     "output_type": "execute_result"
    }
   ],
   "source": [
    "df['age_restriction'].unique() #просмотр значений столбца age_restriction"
   ]
  },
  {
   "cell_type": "code",
   "execution_count": 20,
   "metadata": {},
   "outputs": [
    {
     "data": {
      "text/plain": [
       "array(['боевик,драма,мелодрама', 'драма,военный',\n",
       "       'фантастика,боевик,триллер', 'драма', 'мелодрама,комедия',\n",
       "       'мюзикл,мелодрама,комедия', 'комедия,криминал',\n",
       "       'боевик,триллер,детектив', 'боевик,драма,приключения',\n",
       "       'драма,спорт', 'триллер,драма,мелодрама', 'комедия,мелодрама',\n",
       "       'драма,мелодрама,комедия', 'драма,мелодрама', 'драма,история',\n",
       "       'драма,мелодрама,семейный', 'комедия,мелодрама,криминал',\n",
       "       'комедия', 'боевик,драма,криминал', 'драма,комедия',\n",
       "       'ужасы,фантастика,комедия', 'мультфильм,короткометражка,мелодрама',\n",
       "       'драма,криминал', 'мультфильм,фантастика,фэнтези',\n",
       "       'триллер,драма,криминал', 'драма,мелодрама,биография',\n",
       "       'драма,комедия,военный', 'фантастика,драма,детектив',\n",
       "       'мюзикл,семейный', 'unknown', 'военный,приключения,драма',\n",
       "       'документальный,драма', 'драма,биография,история',\n",
       "       'боевик,триллер,драма', 'фэнтези,боевик',\n",
       "       'боевик,комедия,криминал', 'мюзикл,комедия,детский',\n",
       "       'комедия,мелодрама,драма', 'мультфильм,фэнтези,комедия',\n",
       "       'комедия,история', 'мелодрама', 'драма,биография,музыка',\n",
       "       'фэнтези,драма,мелодрама', 'триллер,военный',\n",
       "       'драма,мелодрама,военный', 'мюзикл,драма,мелодрама',\n",
       "       'мюзикл,комедия', 'мультфильм,приключения,семейный',\n",
       "       'ужасы,триллер', 'боевик,драма,военный', 'драма,боевик',\n",
       "       'мультфильм,драма,комедия', 'триллер,криминал',\n",
       "       'военный,биография,драма', 'комедия,семейный', 'военный',\n",
       "       'драма,семейный,биография', 'фэнтези,приключения,семейный',\n",
       "       'драма,криминал,биография', 'ужасы,триллер,детектив',\n",
       "       'боевик,история,драма', 'ужасы,триллер,драма',\n",
       "       'драма,криминал,спорт', 'документальный,короткометражка',\n",
       "       'триллер,драма', 'криминал,детектив,приключения',\n",
       "       'драма,комедия,криминал', 'драма,комедия,вестерн',\n",
       "       'драма,мелодрама,детектив', 'мелодрама,биография',\n",
       "       'фэнтези,мелодрама,драма', 'драма,мелодрама,история',\n",
       "       'комедия,приключения,история', 'приключения', 'драма,семейный',\n",
       "       'криминал,детектив', 'мультфильм,короткометражка,ужасы',\n",
       "       'фантастика,триллер,драма', 'фэнтези,мелодрама,комедия',\n",
       "       'драма,биография', 'комедия,криминал,история',\n",
       "       'триллер,драма,детектив', 'фантастика,комедия,приключения',\n",
       "       'фэнтези,семейный', 'ужасы,фантастика,боевик',\n",
       "       'мелодрама,криминал', 'комедия,приключения,мелодрама',\n",
       "       'боевик,триллер,приключения', 'боевик,приключения',\n",
       "       'боевик,триллер,криминал', 'документальный,военный,история',\n",
       "       'драма,музыка', 'боевик,драма', 'приключения,боевик',\n",
       "       'драма,военный,биография', 'триллер,драма,приключения',\n",
       "       'аниме,мультфильм,фэнтези', 'триллер,детектив,драма',\n",
       "       'боевик,триллер,мелодрама', 'боевик,история',\n",
       "       'приключения,история', 'драма,комедия,приключения',\n",
       "       'фэнтези,комедия,приключения', 'драма,вестерн',\n",
       "       'документальный,музыка', 'мелодрама,драма',\n",
       "       'триллер,криминал,детектив', 'ужасы', 'боевик,комедия,приключения',\n",
       "       'мультфильм,фэнтези,боевик', 'боевик,фэнтези,драма',\n",
       "       'фэнтези,драма', 'фэнтези,боевик,комедия',\n",
       "       'приключения,детский,комедия', 'документальный',\n",
       "       'боевик,триллер,комедия', 'мелодрама,комедия,криминал',\n",
       "       'драма,детектив', 'мюзикл,ужасы,триллер', 'детектив,триллер,ужасы',\n",
       "       'ужасы,фэнтези', 'ужасы,фэнтези,триллер', 'мультфильм,драма',\n",
       "       'ужасы,боевик,фантастика', 'боевик', 'фантастика,боевик',\n",
       "       'мелодрама,комедия,приключения', 'триллер,детектив',\n",
       "       'мюзикл,мелодрама,фэнтези', 'криминал', 'триллер,комедия,криминал',\n",
       "       'боевик,приключения,триллер', 'триллер,драма,военный',\n",
       "       'комедия,семейный,музыка', 'комедия,фантастика,мелодрама',\n",
       "       'фантастика,триллер,криминал', 'комедия,драма', 'боевик,военный',\n",
       "       'ужасы,фантастика,триллер', 'фантастика,драма,мелодрама',\n",
       "       'фэнтези,драма,детектив', 'боевик,триллер', 'боевик,драма,история',\n",
       "       'мультфильм,мюзикл,фэнтези', 'для взрослых,драма,мелодрама',\n",
       "       'мультфильм,боевик,детектив', 'фантастика,мелодрама,боевик',\n",
       "       'ужасы,фантастика,детектив', 'фантастика,боевик,приключения',\n",
       "       'мелодрама,комедия,спорт', 'комедия,боевик,приключения',\n",
       "       'документальный,приключения', 'мультфильм,короткометражка,детский',\n",
       "       'комедия,приключения', 'ужасы,драма', 'ужасы,фэнтези,боевик',\n",
       "       'мультфильм,фэнтези,детский', 'мюзикл,боевик,драма',\n",
       "       'семейный,комедия,драма', 'концерт,музыка', 'фэнтези,боевик,драма',\n",
       "       'драма,комедия,музыка', 'фантастика,фэнтези,боевик',\n",
       "       'фэнтези,комедия,семейный', 'фэнтези,драма,комедия',\n",
       "       'мультфильм,мюзикл,драма', 'триллер', 'боевик,криминал,триллер',\n",
       "       'мультфильм,приключения,драма', 'мелодрама,музыка',\n",
       "       'документальный,музыка,концерт', 'мультфильм,семейный',\n",
       "       'мультфильм,комедия,приключения', 'мультфильм,комедия,семейный',\n",
       "       'фантастика,драма', 'фэнтези,боевик,приключения',\n",
       "       'мультфильм,приключения', 'драма,военный,история', 'история',\n",
       "       'драма,приключения,военный',\n",
       "       'документальный,короткометражка,семейный',\n",
       "       'мелодрама,история,триллер', 'ужасы,детектив',\n",
       "       'мюзикл,комедия,приключения', 'драма,спорт,биография',\n",
       "       'фантастика,боевик,комедия', 'фантастика,приключения,детектив',\n",
       "       'короткометражка,драма,военный', 'драма,мультфильм',\n",
       "       'приключения,семейный', 'детектив', 'триллер,приключения',\n",
       "       'аниме,мультфильм,боевик', 'драма,комедия,биография',\n",
       "       'драма,комедия,спорт', 'боевик,мелодрама,комедия',\n",
       "       'семейный,комедия', 'фэнтези,боевик,триллер',\n",
       "       'документальный,фэнтези,семейный', 'фантастика,фэнтези,драма',\n",
       "       'ужасы,комедия,фэнтези', 'документальный,биография,музыка',\n",
       "       'фантастика,боевик,фэнтези', 'ужасы,боевик,триллер',\n",
       "       'комедия,криминал,семейный', 'приключения,драма',\n",
       "       'криминал,драма,триллер', 'драма,детектив,криминал',\n",
       "       'фэнтези,приключения,комедия', 'комедия,спорт',\n",
       "       'мюзикл,фэнтези,мелодрама', 'мультфильм,фэнтези,приключения',\n",
       "       'фантастика,фэнтези,приключения', 'фэнтези',\n",
       "       'фэнтези,приключения,боевик', 'фантастика,боевик,драма',\n",
       "       'криминал,драма', 'криминал,триллер,драма',\n",
       "       'драма,мелодрама,приключения', 'детский,комедия',\n",
       "       'фантастика,драма,боевик', 'мультфильм,семейный,фэнтези',\n",
       "       'концерт,музыка,документальный', 'ужасы,комедия,приключения',\n",
       "       'драма,мелодрама,криминал', 'ужасы,фантастика,фэнтези',\n",
       "       'боевик,комедия', 'мультфильм,фантастика,комедия', 'триллер,ужасы',\n",
       "       'мультфильм,мюзикл,комедия', 'мелодрама,фэнтези,триллер',\n",
       "       'детский,приключения,комедия', 'комедия,детектив',\n",
       "       'аниме,мультфильм,мелодрама', 'документальный,драма,семейный',\n",
       "       'документальный,биография,история', 'военный,боевик,драма',\n",
       "       'ужасы,комедия', 'комедия,приключения,семейный',\n",
       "       'приключения,биография,история', 'детский,приключения,семейный',\n",
       "       'спорт,драма,биография', 'аниме,мультфильм,ужасы',\n",
       "       'фантастика,боевик,криминал', 'мюзикл,драма',\n",
       "       'драма,криминал,детектив', 'аниме,мультфильм,драма',\n",
       "       'драма,триллер,приключения', 'триллер,криминал,драма',\n",
       "       'фэнтези,комедия,драма', 'мультфильм,комедия',\n",
       "       'драма,комедия,история', 'комедия,биография,история',\n",
       "       'мультфильм,фантастика,приключения', 'аниме,мультфильм,фантастика',\n",
       "       'мультфильм,фэнтези,семейный', 'мультфильм,боевик,комедия',\n",
       "       'комедия,криминал,спорт', 'документальный,мюзикл',\n",
       "       'мелодрама,комедия,музыка', 'биография',\n",
       "       'триллер,криминал,комедия', 'фантастика,драма,комедия',\n",
       "       'комедия,драма,мелодрама', 'фантастика,приключения,боевик',\n",
       "       'мультфильм,фэнтези,драма', 'триллер,комедия',\n",
       "       'драма,приключения,биография', 'фантастика,комедия',\n",
       "       'мелодрама,драма,комедия', 'боевик,криминал',\n",
       "       'драма,криминал,боевик', 'мультфильм,мюзикл,детский',\n",
       "       'драма,фэнтези', 'документальный,семейный',\n",
       "       'фэнтези,драма,приключения', 'ужасы,комедия,фантастика',\n",
       "       'драма,мелодрама,музыка', 'фэнтези,драма,семейный',\n",
       "       'триллер,мелодрама,драма', 'вестерн,боевик,драма',\n",
       "       'мультфильм,короткометражка,комедия', 'триллер,драма,история',\n",
       "       'ужасы,фантастика', 'ужасы,мелодрама,комедия',\n",
       "       'фэнтези,приключения', 'фантастика,триллер',\n",
       "       'ужасы,боевик,фэнтези', 'мультфильм,комедия,детский',\n",
       "       'триллер,драма,биография', 'мультфильм,ужасы,фэнтези',\n",
       "       'мультфильм,ужасы,фантастика', 'ужасы,боевик,комедия',\n",
       "       'драма,биография,спорт', 'мультфильм', 'мелодрама,комедия,драма',\n",
       "       'приключения,фантастика,семейный', 'комедия,криминал,детектив',\n",
       "       'ужасы,триллер,комедия', 'криминал,комедия,триллер',\n",
       "       'семейный,приключения,комедия', 'мультфильм,драма,приключения',\n",
       "       'ужасы,драма,детектив', 'драма,приключения,фэнтези',\n",
       "       'фантастика,мультфильм,драма', 'драма,триллер,детектив',\n",
       "       'драма,история,музыка', 'детский', 'триллер,боевик,криминал',\n",
       "       'драма,фантастика', 'комедия,драма,семейный',\n",
       "       'боевик,драма,комедия', 'комедия,ужасы',\n",
       "       'драма,фантастика,триллер', 'фантастика,драма,триллер',\n",
       "       'история,спорт,драма', 'документальный,биография',\n",
       "       'биография,история', 'спорт,драма', 'боевик,фэнтези',\n",
       "       'мультфильм,фэнтези', 'документальный,комедия,история',\n",
       "       'криминал,комедия,боевик', 'фэнтези,приключения,драма',\n",
       "       'музыка,концерт', 'триллер,драма,боевик',\n",
       "       'комедия,криминал,боевик', 'комедия,фантастика,боевик',\n",
       "       'вестерн,приключения,боевик', 'аниме,мультфильм,комедия',\n",
       "       'детектив,криминал,триллер', 'мультфильм,комедия,криминал',\n",
       "       'комедия,приключения,детектив', 'мелодрама,фантастика,драма',\n",
       "       'драма,комедия,семейный', 'приключения,фантастика',\n",
       "       'триллер,детектив,ужасы', 'комедия,приключения,фэнтези',\n",
       "       'фэнтези,триллер,драма', 'мелодрама,приключения,боевик',\n",
       "       'детектив,триллер,криминал', 'фэнтези,семейный,мелодрама',\n",
       "       'военный,драма', 'документальный,приключения,семейный',\n",
       "       'криминал,комедия,драма', 'комедия,фантастика',\n",
       "       'история,биография,драма', 'мелодрама,драма,музыка',\n",
       "       'боевик,мелодрама', 'комедия,криминал,триллер',\n",
       "       'детектив,триллер,боевик', 'комедия,боевик,криминал',\n",
       "       'комедия,вестерн', 'детский,мелодрама,семейный',\n",
       "       'короткометражка,мультфильм', 'комедия,фэнтези',\n",
       "       'фантастика,драма,ужасы', 'триллер,драма,ужасы',\n",
       "       'драма,фэнтези,история', 'комедия,драма,короткометражка',\n",
       "       'фэнтези,триллер,приключения', 'семейный',\n",
       "       'комедия,криминал,драма', 'комедия,фэнтези,ужасы',\n",
       "       'короткометражка,комедия,криминал', 'фантастика',\n",
       "       'триллер,ужасы,драма', 'мелодрама,драма,фэнтези',\n",
       "       'фантастика,приключения,драма', 'боевик,детектив',\n",
       "       'военный,драма,боевик', 'комедия,мелодрама,фэнтези',\n",
       "       'вестерн,криминал,триллер', 'драма,история,триллер',\n",
       "       'мультфильм,фантастика,боевик', 'детектив,драма,криминал',\n",
       "       'приключения,история,драма', 'мультфильм,семейный,детский',\n",
       "       'биография,драма,история', 'триллер,криминал,боевик',\n",
       "       'история,мелодрама', 'приключения,детский',\n",
       "       'музыка,приключения,концерт', 'военный,драма,комедия',\n",
       "       'фэнтези,боевик,военный', 'фантастика,детектив,боевик',\n",
       "       'мультфильм,фэнтези,история', 'биография,мелодрама,драма',\n",
       "       'документальный,биография,спорт', 'фантастика,комедия,детектив',\n",
       "       'музыка,концерт,документальный', 'триллер,боевик,приключения',\n",
       "       'триллер,драма,комедия', 'детектив,криминал',\n",
       "       'мультфильм,приключения,фэнтези', 'мелодрама,приключения',\n",
       "       'комедия,музыка', 'мелодрама,комедия,ужасы',\n",
       "       'драма,криминал,приключения', 'приключения,детектив,мелодрама',\n",
       "       'драма,криминал,фантастика', 'фэнтези,драма,биография',\n",
       "       'детектив,фантастика,криминал', 'триллер,драма,фантастика',\n",
       "       'ужасы,комедия,боевик', 'мелодрама,история', 'триллер,боевик',\n",
       "       'фильм-нуар,триллер,детектив', 'комедия,криминал,приключения',\n",
       "       'ужасы,триллер,мелодрама', 'военный,драма,история',\n",
       "       'драма,спорт,история', 'документальный,драма,история',\n",
       "       'триллер,мелодрама,детектив', 'детский,семейный',\n",
       "       'мюзикл,семейный,драма', 'биография,военный,драма',\n",
       "       'мультфильм,детский', 'боевик,криминал,драма',\n",
       "       'детектив,фэнтези,триллер', 'драма,боевик,приключения',\n",
       "       'драма,мелодрама,фэнтези', 'детектив,история,драма',\n",
       "       'фэнтези,боевик,ужасы', 'ужасы,фэнтези,мелодрама',\n",
       "       'ужасы,приключения', 'боевик,фантастика',\n",
       "       'ужасы,мелодрама,детектив', 'фантастика,триллер,приключения',\n",
       "       'боевик,приключения,история', 'приключения,боевик,триллер',\n",
       "       'детектив,ужасы,криминал', 'семейный,фэнтези', 'мюзикл,мелодрама',\n",
       "       'драма,военный,приключения', 'фантастика,драма,приключения',\n",
       "       'приключения,семейный,драма', 'история,драма,боевик',\n",
       "       'мультфильм,приключения,комедия', 'криминал,драма,комедия',\n",
       "       'ужасы,комедия,драма', 'комедия,семейный,приключения',\n",
       "       'мюзикл,фэнтези,драма', 'драма,вестерн,боевик',\n",
       "       'фантастика,триллер,детектив', 'драма,история,детектив',\n",
       "       'короткометражка,биография', 'мультфильм,приключения,фантастика',\n",
       "       'комедия,триллер', 'мультфильм,приключения,детектив',\n",
       "       'драма,триллер', 'ужасы,триллер,криминал',\n",
       "       'документальный,криминал,военный', 'ужасы,фэнтези,драма',\n",
       "       'фэнтези,комедия', 'ужасы,фэнтези,комедия', 'комедия,музыка,драма',\n",
       "       'мультфильм,приключения,военный', 'мюзикл,фэнтези,комедия',\n",
       "       'боевик,фантастика,приключения', 'триллер,ужасы,криминал',\n",
       "       'ужасы,фантастика,драма', 'фантастика,приключения,семейный',\n",
       "       'короткометражка,музыка', 'мелодрама,детектив,комедия',\n",
       "       'документальный,триллер,биография', 'боевик,фантастика,триллер',\n",
       "       'спорт,драма,комедия', 'фэнтези,мелодрама,приключения',\n",
       "       'триллер,детектив,криминал', 'короткометражка,мелодрама',\n",
       "       'мультфильм,семейный,спорт', 'комедия,фэнтези,мелодрама',\n",
       "       'драма,спорт,комедия', 'история,драма,мелодрама',\n",
       "       'драма,боевик,криминал', 'драма,комедия,триллер',\n",
       "       'аниме,мультфильм', 'документальный,ужасы',\n",
       "       'мультфильм,короткометражка', 'драма,история,военный',\n",
       "       'мультфильм,короткометражка,фэнтези', 'комедия,военный,музыка',\n",
       "       'биография,история,драма', 'ужасы,драма,мелодрама',\n",
       "       'драма,комедия,детектив', 'комедия,семейный,фантастика',\n",
       "       'мультфильм,семейный,комедия', 'история,детектив',\n",
       "       'приключения,мелодрама,детектив', 'мюзикл,комедия,мелодрама',\n",
       "       'драма,фантастика,ужасы', 'мультфильм,ужасы,комедия',\n",
       "       'для взрослых,драма,комедия', 'ужасы,комедия,музыка',\n",
       "       'комедия,история,драма', 'семейный,детектив,детский',\n",
       "       'короткометражка,драма', 'документальный,новости,драма',\n",
       "       'триллер,мелодрама', 'ужасы,драма,вестерн',\n",
       "       'мюзикл,фэнтези,семейный', 'вестерн,драма,триллер',\n",
       "       'приключения,вестерн,боевик', 'семейный,комедия,музыка',\n",
       "       'боевик,драма,вестерн', 'ужасы,драма,триллер',\n",
       "       'фантастика,мелодрама', 'комедия,криминал,биография',\n",
       "       'семейный,мультфильм,комедия', 'комедия,драма,криминал',\n",
       "       'фантастика,боевик,военный', 'приключения,биография,драма',\n",
       "       'приключения,триллер,биография', 'криминал,боевик,триллер',\n",
       "       'боевик,вестерн,приключения', 'история,драма',\n",
       "       'фантастика,фэнтези,комедия', 'мультфильм,детский,комедия',\n",
       "       'мелодрама,комедия,триллер', 'документальный,боевик,приключения',\n",
       "       'драма,приключения', 'мелодрама,военный,драма', 'триллер,фэнтези',\n",
       "       'драма,триллер,биография', 'фэнтези,боевик,семейный',\n",
       "       'фантастика,триллер,комедия', 'документальный,фэнтези',\n",
       "       'комедия,мультфильм,фантастика', 'криминал,биография,комедия',\n",
       "       'биография,спорт,драма', 'приключения,военный',\n",
       "       'мультфильм,семейный,драма', 'документальный,фэнтези,драма',\n",
       "       'комедия,боевик,фантастика', 'семейный,приключения,военный',\n",
       "       'триллер,ужасы,детектив', 'короткометражка',\n",
       "       'мелодрама,триллер,история', 'документальный,история',\n",
       "       'мультфильм,приключения,детский', 'драма,комедия,мультфильм',\n",
       "       'военный,детектив', 'семейный,приключения,документальный',\n",
       "       'детский,фэнтези', 'документальный,комедия', 'комедия,биография',\n",
       "       'криминал,комедия', 'спорт,мелодрама,криминал',\n",
       "       'фантастика,комедия,боевик', 'боевик,приключения,детектив',\n",
       "       'детектив,триллер,драма', 'документальный,фантастика',\n",
       "       'мелодрама,комедия,семейный', 'мультфильм,мелодрама,комедия',\n",
       "       'драма,спорт,семейный', 'фантастика,мелодрама,фэнтези',\n",
       "       'мюзикл,комедия,музыка', 'фантастика,триллер,мелодрама',\n",
       "       'приключения,комедия,фэнтези', 'фэнтези,боевик,детектив',\n",
       "       'фэнтези,боевик,мелодрама', 'комедия,военный',\n",
       "       'драма,спорт,боевик', 'мультфильм,боевик,триллер',\n",
       "       'мелодрама,семейный', 'фантастика,боевик,детектив',\n",
       "       'драма,приключения,история', 'документальный,драма,музыка',\n",
       "       'фантастика,триллер,боевик', 'фэнтези,боевик,вестерн',\n",
       "       'драма,комедия,мелодрама', 'ужасы,фэнтези,приключения',\n",
       "       'триллер,фэнтези,драма', 'мультфильм,мюзикл,мелодрама',\n",
       "       'ужасы,триллер,фантастика', 'триллер,мелодрама,комедия',\n",
       "       'ужасы,комедия,семейный', 'комедия,приключения,музыка',\n",
       "       'документальный,комедия,криминал', 'мелодрама,детектив',\n",
       "       'детский,приключения,фантастика', 'короткометражка,боевик,драма',\n",
       "       'боевик,комедия,семейный', 'фантастика,боевик,мелодрама',\n",
       "       'фэнтези,триллер,мелодрама', 'драма,детектив,история',\n",
       "       'боевик,криминал,детектив', 'мультфильм,фэнтези,мелодрама',\n",
       "       'мелодрама,драма,боевик', 'драма,вестерн,приключения',\n",
       "       'драма,приключения,мелодрама', 'фэнтези,боевик,криминал',\n",
       "       'фантастика,комедия,семейный', 'детский,фэнтези,приключения',\n",
       "       'ужасы,боевик', 'фантастика,мелодрама,комедия',\n",
       "       'семейный,спорт,боевик', 'триллер,биография,драма',\n",
       "       'ужасы,драма,комедия', 'мультфильм,фэнтези,триллер', 'мюзикл',\n",
       "       'боевик,спорт,драма', 'комедия,приключения,вестерн',\n",
       "       'документальный,ужасы,боевик', 'фантастика,боевик,семейный',\n",
       "       'военный,история', 'ужасы,боевик,криминал', 'детектив,триллер',\n",
       "       'драма,семейный,комедия', 'драма,детектив,приключения',\n",
       "       'драма,криминал,история', 'приключения,триллер',\n",
       "       'боевик,драма,биография', 'драма,приключения,триллер',\n",
       "       'комедия,фэнтези,приключения', 'фантастика,боевик,ужасы',\n",
       "       'драма,комедия,фантастика', 'детектив,криминал,драма',\n",
       "       'боевик,триллер,фэнтези', 'приключения,детектив,семейный',\n",
       "       'ужасы,комедия,криминал', 'мультфильм,биография,драма',\n",
       "       'история,боевик,фэнтези', 'детектив,криминал,боевик',\n",
       "       'приключения,фэнтези', 'комедия,приключения,спорт',\n",
       "       'драма,биография,мюзикл', 'комедия,семейный,фэнтези',\n",
       "       'детектив,драма,триллер', 'боевик,приключения,семейный',\n",
       "       'биография,спорт,комедия', 'фантастика,приключения,военный',\n",
       "       'документальный,драма,биография', 'детектив,приключения,драма',\n",
       "       'аниме,мультфильм,приключения', 'семейный,приключения',\n",
       "       'ужасы,фэнтези,детектив', 'семейный,документальный',\n",
       "       'драма,приключения,семейный', 'приключения,история,военный',\n",
       "       'фэнтези,мелодрама', 'фэнтези,триллер,детектив',\n",
       "       'документальный,спорт,биография', 'комедия,триллер,драма',\n",
       "       'драма,ужасы', 'биография,музыка,драма', 'фэнтези,ужасы',\n",
       "       'детектив,мелодрама,фэнтези', 'боевик,военный,история',\n",
       "       'биография,драма,криминал', 'триллер,мелодрама,криминал',\n",
       "       'семейный,мелодрама', 'биография,драма', 'военный,история,драма',\n",
       "       'фантастика,детектив,фэнтези', 'детектив,приключения,триллер',\n",
       "       'фантастика,приключения', 'мультфильм,короткометражка,мюзикл',\n",
       "       'мультфильм,детский,семейный', 'документальный,драма,комедия',\n",
       "       'комедия,приключения,криминал', 'документальный,семейный,музыка',\n",
       "       'мелодрама,музыка,драма', 'детектив,фантастика,триллер',\n",
       "       'драма,мелодрама,триллер', 'биография,драма,военный',\n",
       "       'приключения,фантастика,драма', 'детектив,фильм-нуар,комедия',\n",
       "       'документальный,спорт', 'триллер,фантастика,драма',\n",
       "       'биография,документальный', 'ужасы,фантастика,мелодрама',\n",
       "       'детектив,комедия', 'история,биография,военный',\n",
       "       'криминал,мелодрама', 'драма,криминал,вестерн',\n",
       "       'мелодрама,семейный,приключения', 'триллер,ужасы,мелодрама',\n",
       "       'фэнтези,драма,фильм-нуар', 'детектив,мелодрама',\n",
       "       'комедия,драма,биография', 'драма,военный,боевик',\n",
       "       'драма,комедия,ужасы', 'фантастика,драма,криминал',\n",
       "       'документальный,музыка,биография', 'мультфильм,боевик,приключения',\n",
       "       'короткометражка,фантастика', 'мультфильм,мелодрама,драма',\n",
       "       'боевик,военный,драма', 'фэнтези,семейный,приключения',\n",
       "       'детский,мультфильм,приключения', 'семейный,фэнтези,комедия',\n",
       "       'фэнтези,ужасы,триллер', 'ужасы,триллер,приключения',\n",
       "       'драма,боевик,история', 'фэнтези,комедия,детектив',\n",
       "       'история,приключения', 'аниме,мультфильм,короткометражка',\n",
       "       'драма,военный,триллер', 'биография,криминал,триллер',\n",
       "       'фантастика,фэнтези,детектив', 'вестерн,биография,драма',\n",
       "       'биография,музыка,мюзикл', 'драма,история,биография',\n",
       "       'приключения,драма,фантастика', 'комедия,фэнтези,криминал',\n",
       "       'биография,спорт,история', 'драма,криминал,семейный',\n",
       "       'детектив,боевик,история', 'ужасы,комедия,детектив',\n",
       "       'триллер,приключения,драма', 'фэнтези,комедия,криминал',\n",
       "       'триллер,криминал,приключения', 'комедия,детектив,приключения',\n",
       "       'фэнтези,драма,ужасы', 'ужасы,драма,военный', 'реальное ТВ',\n",
       "       'аниме,мультфильм,детектив', 'приключения,фэнтези,семейный',\n",
       "       'драма,биография,комедия', 'триллер,комедия,ужасы',\n",
       "       'музыка,мелодрама,фэнтези', 'мультфильм,история',\n",
       "       'мультфильм,комедия,фантастика', 'биография,криминал,драма',\n",
       "       'комедия,мелодрама,фантастика', 'криминал,боевик,комедия',\n",
       "       'история,криминал', 'детектив,комедия,драма',\n",
       "       'триллер,фантастика,боевик', 'криминал,боевик',\n",
       "       'комедия,драма,военный', 'драма,триллер,криминал',\n",
       "       'мультфильм,мелодрама,приключения', 'фантастика,фэнтези,триллер',\n",
       "       'короткометражка,драма,триллер', 'военный,боевик,история',\n",
       "       'боевик,драма,триллер', 'документальный,военный,драма',\n",
       "       'драма,криминал,фильм-нуар', 'мультфильм,детский,приключения',\n",
       "       'мелодрама,история,драма'], dtype=object)"
      ]
     },
     "execution_count": 20,
     "metadata": {},
     "output_type": "execute_result"
    }
   ],
   "source": [
    "df['genres'].unique() #просмотр значений столбца genres"
   ]
  },
  {
   "cell_type": "code",
   "execution_count": 21,
   "metadata": {},
   "outputs": [
    {
     "data": {
      "text/plain": [
       "array([ 7.2,  6.6,  6.8,  7.7,  8.3,  8. ,  7.8,  8.1,  7.1,  6. ,  7.4,\n",
       "        5.8,  8.7,  6.3,  6.9,  5. ,  4.3,  7.3,  7. ,  6.4, -1. ,  8.2,\n",
       "        7.5,  6.7,  7.9,  5.9,  6.2,  5.6,  6.5,  2.4,  7.6,  6.1,  8.6,\n",
       "        8.5,  8.8,  5.5,  5.1,  5.7,  5.4,  9.9,  4.4,  4.5,  5.3,  4.1,\n",
       "        8.4,  2.6,  3.8,  4.6,  4.8,  4. ,  3. ,  1.6,  4.2,  5.2,  4.7,\n",
       "        4.9,  3.9,  2.7,  3.3,  2.9,  2.8,  3.7,  1.4,  3.1,  9.7,  3.5,\n",
       "        3.2,  1.5,  2.1,  2.5,  9.2,  3.4,  1.1,  3.6,  9.1,  9.4,  9. ,\n",
       "        1.9,  1. ,  8.9,  1.3,  1.8,  1.2,  1.7,  9.8])"
      ]
     },
     "execution_count": 21,
     "metadata": {},
     "output_type": "execute_result"
    }
   ],
   "source": [
    "df['ratings'].unique() #просмотр значений столбца ratings"
   ]
  },
  {
   "cell_type": "code",
   "execution_count": 22,
   "metadata": {},
   "outputs": [
    {
     "data": {
      "text/plain": [
       "array(['none', 'Министерство культуры', 'Фонд кино',\n",
       "       'Министерство культуры, Фонд кино'], dtype=object)"
      ]
     },
     "execution_count": 22,
     "metadata": {},
     "output_type": "execute_result"
    }
   ],
   "source": [
    "df['financing_source'].unique() #просмотр значений столбца financing_source"
   ]
  },
  {
   "cell_type": "markdown",
   "metadata": {},
   "source": [
    "У многих из представленных категориальных столбцов есть общая проблема - отсутствует единый стиль записи значений. К примеру,\n",
    "в столбце 'type' была обнаружена проблема в виде пробела в начале строки у некоторых значений; в столбце 'production_country' не соблюдается запись нескольких стран подряд: часть из них перечислена через запятые, часть - через тире; в столбце 'ratings' (до преобразования) часть значений представлена в формате баллов, часть - в формате процентов. \n",
    "\n",
    "Для дальнейшего исследования необходимо устранить проблему в столбце 'type':"
   ]
  },
  {
   "cell_type": "code",
   "execution_count": 23,
   "metadata": {},
   "outputs": [
    {
     "data": {
      "text/plain": [
       "array(['Художественный', 'Анимационный', 'Прочие', 'Документальный',\n",
       "       'Научно-популярный', 'Музыкально-развлекательный'], dtype=object)"
      ]
     },
     "execution_count": 23,
     "metadata": {},
     "output_type": "execute_result"
    }
   ],
   "source": [
    "df['type'] = df['type'].str.strip() #удаляем пробелы\n",
    "df['type'].unique() #повторная проверка"
   ]
  },
  {
   "cell_type": "markdown",
   "metadata": {
    "id": "XFSN5lrEgFyR"
   },
   "source": [
    "#### Проверка количественных значений"
   ]
  },
  {
   "cell_type": "markdown",
   "metadata": {},
   "source": [
    "Перед тем, как переходить к исследовательскому анализу данных, следует также проверить количественные значения на наличие аномалий. Количественные значения содержатся в столбцах 'refundable_support', 'nonrefundable_support', 'budget', 'box_office'. \n",
    "\n",
    "refundable_support — объём возвратных средств государственной поддержки; nonrefundable_support — объём невозвратных средств государственной поддержки; budget — общий бюджет фильма. Согласно описанию проекта: 'Столбец budget уже включает в себя полный объём государственной поддержки. Данные в этом столбце указаны только для тех фильмов, которые получили государственную поддержку.' \n",
    "\n",
    "Исходя из описания проекта, можно сделать вывод о том, что аномальными будут отрицательные значения (кроме значений-маркеров), поскольку бюджет, поддержка и сборы фильма не могут быть отрицательными. Теоретически, слишком малые или большие значения также могут являться аномалиями, однако для их удаления/замены может быть недостаточно оснований. Помимо этого, аномальными будут и те значения столбца 'budget', которые меньше суммы значений столбцов 'refundable_support' и 'nonrefundable_support' (для тех строк, где вообще есть данные по столбцу 'budget'). \n",
    "\n",
    "Таким образом, необходимо проверить максимальные/минимальные значения в столбцах с количественными данными; исследовать наличие отрицательных значений, не являющихся маркерами; проверить соответствие суммы значений столбцов 'refundable_support' и 'nonrefundable_support' со значениями столбца 'budget' там, где это возможно."
   ]
  },
  {
   "cell_type": "code",
   "execution_count": 24,
   "metadata": {},
   "outputs": [
    {
     "name": "stdout",
     "output_type": "stream",
     "text": [
      "0\n",
      "180000000\n",
      "0\n",
      "400000000\n",
      "0\n",
      "2305074303\n",
      "-1\n",
      "3073568690\n"
     ]
    }
   ],
   "source": [
    "for name in [ 'refundable_support', 'nonrefundable_support', 'budget', 'box_office']: #просмотр минимальных/максимальных значений\n",
    "    print(df[name].min())\n",
    "    print(df[name].max())"
   ]
  },
  {
   "cell_type": "markdown",
   "metadata": {},
   "source": [
    "Аномально малых/больших, а также отрицательных (кроме маркеров) значений не обнаружено. Перейдем к проверке соответствия значений столбцов 'refundable_support', 'nonrefundable_support' и 'budget'.\n",
    "\n",
    "Поскольку 'budget' уже включает всю сумму государственной поддержки, то он по определению не может быть меньше суммы 'refundable_support' и 'nonrefundable_support'. А раз бюджет фильма также включает в себя и прочие средства (помимо господдержки), то и значение в столбце 'budget' должно быть строго больше указанной суммы. Что касается значений-маркеров, то в столбце 'budget' значение 0 обозначает отсутствие государственной поддержки, а, следовательно, и сведений о бюджете в целом, поскольку 'Данные в этом столбце указаны только для тех фильмов, которые получили государственную поддержку.' В столбцах 'refundable_support' и 'nonrefundable_support' пропуски заполнены значением 0, поскольку, фильм, теоретически, может получить только один тип поддержки (возвратная = 0, безвозвратная > 0 и наоборот, при этом также указан бюджет). Таким образом, исследовать имеет смысл строки, в которых 'budget' > 0, но на всякий случай, необходимо проверить и все остальные (например, указаны данные по возвратной/безвозвратной поддержке, но не по бюджету в целом)."
   ]
  },
  {
   "cell_type": "code",
   "execution_count": 25,
   "metadata": {
    "id": "YbzClBxagFyS"
   },
   "outputs": [
    {
     "name": "stdout",
     "output_type": "stream",
     "text": [
      "0\n",
      "17\n"
     ]
    }
   ],
   "source": [
    "print(df.loc[(df['budget'] < df['refundable_support'] + df['nonrefundable_support']) & (df['budget'] >0)].value_counts().sum()) #число строк, в которых сумма поддержки больше бюджета, бюджет > 0\n",
    "print(df.loc[(df['budget'] < df['refundable_support'] + df['nonrefundable_support']) & (df['budget'] == 0)].value_counts().sum()) #число строк, в которых сумма поддержки больше бюджета, бюджет = 0"
   ]
  },
  {
   "cell_type": "markdown",
   "metadata": {},
   "source": [
    "Примечательно, что в первом случае, когда бюджет > 0, несоответствия отсутствуют, в то время как во втором случае (не указаны сведения о бюджете), обнаружено 17 строк, нарушающих установленный критерий. Изучим их подробнее:"
   ]
  },
  {
   "cell_type": "code",
   "execution_count": 26,
   "metadata": {},
   "outputs": [
    {
     "data": {
      "text/html": [
       "<div>\n",
       "<style scoped>\n",
       "    .dataframe tbody tr th:only-of-type {\n",
       "        vertical-align: middle;\n",
       "    }\n",
       "\n",
       "    .dataframe tbody tr th {\n",
       "        vertical-align: top;\n",
       "    }\n",
       "\n",
       "    .dataframe thead th {\n",
       "        text-align: right;\n",
       "    }\n",
       "</style>\n",
       "<table border=\"1\" class=\"dataframe\">\n",
       "  <thead>\n",
       "    <tr style=\"text-align: right;\">\n",
       "      <th></th>\n",
       "      <th>title</th>\n",
       "      <th>puNumber</th>\n",
       "      <th>show_start_date</th>\n",
       "      <th>type</th>\n",
       "      <th>film_studio</th>\n",
       "      <th>production_country</th>\n",
       "      <th>director</th>\n",
       "      <th>producer</th>\n",
       "      <th>age_restriction</th>\n",
       "      <th>refundable_support</th>\n",
       "      <th>nonrefundable_support</th>\n",
       "      <th>budget</th>\n",
       "      <th>financing_source</th>\n",
       "      <th>ratings</th>\n",
       "      <th>genres</th>\n",
       "      <th>box_office</th>\n",
       "    </tr>\n",
       "  </thead>\n",
       "  <tbody>\n",
       "    <tr>\n",
       "      <th>2053</th>\n",
       "      <td>14+</td>\n",
       "      <td>111023614</td>\n",
       "      <td>2014-12-19 12:00:00+00:00</td>\n",
       "      <td>Художественный</td>\n",
       "      <td>ООО Киностудия  \"Сентябрь\"</td>\n",
       "      <td>Россия</td>\n",
       "      <td>А.Зайцев</td>\n",
       "      <td>О.Гранина, А.Зайцев</td>\n",
       "      <td>«16+» - для детей старше 16 лет</td>\n",
       "      <td>0</td>\n",
       "      <td>23000000</td>\n",
       "      <td>0</td>\n",
       "      <td>Министерство культуры, Фонд кино</td>\n",
       "      <td>6.6</td>\n",
       "      <td>мелодрама</td>\n",
       "      <td>10234016</td>\n",
       "    </tr>\n",
       "    <tr>\n",
       "      <th>2058</th>\n",
       "      <td>Дуxless 2</td>\n",
       "      <td>111000415</td>\n",
       "      <td>2015-01-26 12:00:00+00:00</td>\n",
       "      <td>Художественный</td>\n",
       "      <td>ООО \"Киностудия \"Слово\", ООО \"Арт Пикчерс Студия\"</td>\n",
       "      <td>Россия</td>\n",
       "      <td>Р.Прыгунов</td>\n",
       "      <td>П.Ануров, Ф.Бондарчук, Д.Рудовский</td>\n",
       "      <td>«16+» - для детей старше 16 лет</td>\n",
       "      <td>0</td>\n",
       "      <td>75000000</td>\n",
       "      <td>0</td>\n",
       "      <td>Фонд кино</td>\n",
       "      <td>6.6</td>\n",
       "      <td>драма</td>\n",
       "      <td>446163511</td>\n",
       "    </tr>\n",
       "    <tr>\n",
       "      <th>2472</th>\n",
       "      <td>Воин (2015)</td>\n",
       "      <td>111017315</td>\n",
       "      <td>2015-09-28 12:00:00+00:00</td>\n",
       "      <td>Художественный</td>\n",
       "      <td>ООО \"Форпост Продакшн\", ООО \"Арт Пикчерс Студия\"</td>\n",
       "      <td>Россия</td>\n",
       "      <td>А.Андрианов</td>\n",
       "      <td>ООО \"Арт Пикчерс Студия\"</td>\n",
       "      <td>«12+» - для детей старше 12 лет</td>\n",
       "      <td>10000000</td>\n",
       "      <td>70000000</td>\n",
       "      <td>0</td>\n",
       "      <td>Фонд кино</td>\n",
       "      <td>7.8</td>\n",
       "      <td>боевик,драма,криминал</td>\n",
       "      <td>196572438</td>\n",
       "    </tr>\n",
       "    <tr>\n",
       "      <th>2532</th>\n",
       "      <td>Бармен.</td>\n",
       "      <td>111009615</td>\n",
       "      <td>2015-05-26 12:00:00+00:00</td>\n",
       "      <td>Художественный</td>\n",
       "      <td>АО \"ВайТ Медиа\", ООО \"Арт Пикчерс Студия\"</td>\n",
       "      <td>Россия</td>\n",
       "      <td>Д.Штурманова</td>\n",
       "      <td>Т.Вайнштейн</td>\n",
       "      <td>«16+» - для детей старше 16 лет</td>\n",
       "      <td>20000000</td>\n",
       "      <td>0</td>\n",
       "      <td>0</td>\n",
       "      <td>Фонд кино</td>\n",
       "      <td>6.2</td>\n",
       "      <td>комедия,фэнтези</td>\n",
       "      <td>67418974</td>\n",
       "    </tr>\n",
       "    <tr>\n",
       "      <th>2615</th>\n",
       "      <td>Савва. Сердце воина</td>\n",
       "      <td>114001715</td>\n",
       "      <td>2015-07-21 12:00:00+00:00</td>\n",
       "      <td>Анимационный</td>\n",
       "      <td>ООО \"Глюкоза Продакшн\", ООО \"Арт Пикчерс Студия\"</td>\n",
       "      <td>Россия</td>\n",
       "      <td>М.Фадеев</td>\n",
       "      <td>А.Чистяков</td>\n",
       "      <td>«6+» - для детей старше 6 лет</td>\n",
       "      <td>60000000</td>\n",
       "      <td>100000000</td>\n",
       "      <td>0</td>\n",
       "      <td>Фонд кино</td>\n",
       "      <td>4.6</td>\n",
       "      <td>мультфильм,приключения,фэнтези</td>\n",
       "      <td>184487551</td>\n",
       "    </tr>\n",
       "    <tr>\n",
       "      <th>2684</th>\n",
       "      <td>Тряпичный союз</td>\n",
       "      <td>111010215</td>\n",
       "      <td>2015-06-08 12:00:00+00:00</td>\n",
       "      <td>Художественный</td>\n",
       "      <td>ООО \"Кинокомпания \"КОКТЕБЕЛЬ\"</td>\n",
       "      <td>Россия</td>\n",
       "      <td>М.Местецкий</td>\n",
       "      <td>Р.Борисевич, А.Кушаев</td>\n",
       "      <td>«18+» - запрещено для детей</td>\n",
       "      <td>0</td>\n",
       "      <td>59000000</td>\n",
       "      <td>0</td>\n",
       "      <td>Фонд кино</td>\n",
       "      <td>6.3</td>\n",
       "      <td>комедия,драма</td>\n",
       "      <td>1957738</td>\n",
       "    </tr>\n",
       "    <tr>\n",
       "      <th>2788</th>\n",
       "      <td>Срочно выйду замуж</td>\n",
       "      <td>111017115</td>\n",
       "      <td>2015-09-30 12:00:00+00:00</td>\n",
       "      <td>Художественный</td>\n",
       "      <td>АО \"ВайТ Медиа\", ООО \"Арт Пикчерс Студия\"</td>\n",
       "      <td>Россия</td>\n",
       "      <td>С Чекалов</td>\n",
       "      <td>Ф.Бондарчук, Т.Вайнштейн, Д.Рудовский</td>\n",
       "      <td>«16+» - для детей старше 16 лет</td>\n",
       "      <td>0</td>\n",
       "      <td>35000000</td>\n",
       "      <td>0</td>\n",
       "      <td>Фонд кино</td>\n",
       "      <td>5.1</td>\n",
       "      <td>комедия,мелодрама</td>\n",
       "      <td>72937783</td>\n",
       "    </tr>\n",
       "    <tr>\n",
       "      <th>2874</th>\n",
       "      <td>Помню - не помню!</td>\n",
       "      <td>111004916</td>\n",
       "      <td>2016-03-01 12:00:00+00:00</td>\n",
       "      <td>Художественный</td>\n",
       "      <td>ООО \"КиноФирма\"</td>\n",
       "      <td>Россия</td>\n",
       "      <td>В.Ровенский</td>\n",
       "      <td>ООО \"КиноФирма\"</td>\n",
       "      <td>«12+» - для детей старше 12 лет</td>\n",
       "      <td>0</td>\n",
       "      <td>6000000</td>\n",
       "      <td>0</td>\n",
       "      <td>Министерство культуры</td>\n",
       "      <td>4.3</td>\n",
       "      <td>комедия</td>\n",
       "      <td>15362931</td>\n",
       "    </tr>\n",
       "    <tr>\n",
       "      <th>3047</th>\n",
       "      <td>Любовь с ограничениями</td>\n",
       "      <td>111008216</td>\n",
       "      <td>2016-04-29 12:00:00+00:00</td>\n",
       "      <td>Художественный</td>\n",
       "      <td>АО \"ВайТ Медиа\", ООО \"Арт Пикчерс Студия\"</td>\n",
       "      <td>Россия</td>\n",
       "      <td>Д.Тюрин</td>\n",
       "      <td>Ф.Бондарчук, Т.Вайнштейн, Д.Рудовский</td>\n",
       "      <td>«16+» - для детей старше 16 лет</td>\n",
       "      <td>19000000</td>\n",
       "      <td>51000000</td>\n",
       "      <td>0</td>\n",
       "      <td>Фонд кино</td>\n",
       "      <td>6.3</td>\n",
       "      <td>комедия,мелодрама</td>\n",
       "      <td>70299052</td>\n",
       "    </tr>\n",
       "    <tr>\n",
       "      <th>3565</th>\n",
       "      <td>Притяжение (2016)</td>\n",
       "      <td>111018116</td>\n",
       "      <td>2016-12-16 12:00:00+00:00</td>\n",
       "      <td>Художественный</td>\n",
       "      <td>ООО \"Водород 2011\",  ООО \"Арт Пикчерс Студия\"</td>\n",
       "      <td>Россия</td>\n",
       "      <td>Ф.Бондарчук</td>\n",
       "      <td>ООО \"Арт Пикчерс Студия\"</td>\n",
       "      <td>«12+» - для детей старше 12 лет</td>\n",
       "      <td>0</td>\n",
       "      <td>250000000</td>\n",
       "      <td>0</td>\n",
       "      <td>Фонд кино</td>\n",
       "      <td>5.6</td>\n",
       "      <td>фантастика</td>\n",
       "      <td>1038321489</td>\n",
       "    </tr>\n",
       "    <tr>\n",
       "      <th>3675</th>\n",
       "      <td>Чудо-юдо</td>\n",
       "      <td>114001817</td>\n",
       "      <td>2017-06-27 12:00:00+00:00</td>\n",
       "      <td>Анимационный</td>\n",
       "      <td>ООО \"КиноФирма\"</td>\n",
       "      <td>Россия</td>\n",
       "      <td>А.Лукичев</td>\n",
       "      <td>ООО \"КиноФирма\"</td>\n",
       "      <td>«6+» - для детей старше 6 лет</td>\n",
       "      <td>20000000</td>\n",
       "      <td>20000000</td>\n",
       "      <td>0</td>\n",
       "      <td>Фонд кино</td>\n",
       "      <td>5.2</td>\n",
       "      <td>мультфильм,фэнтези,семейный</td>\n",
       "      <td>55108014</td>\n",
       "    </tr>\n",
       "    <tr>\n",
       "      <th>3739</th>\n",
       "      <td>Мифы</td>\n",
       "      <td>111004317</td>\n",
       "      <td>2017-06-07 12:00:00+00:00</td>\n",
       "      <td>Художественный</td>\n",
       "      <td>ООО \"ХАЙПФИЛМ\", ООО \"Арт Пикчерс Студия\"</td>\n",
       "      <td>Россия</td>\n",
       "      <td>А.Молочников</td>\n",
       "      <td>Ф.Бондарчук, Д.Рудовский, И.Стюарт, М.Османн, ...</td>\n",
       "      <td>«16+» - для детей старше 16 лет</td>\n",
       "      <td>25000000</td>\n",
       "      <td>20000000</td>\n",
       "      <td>0</td>\n",
       "      <td>Фонд кино</td>\n",
       "      <td>4.8</td>\n",
       "      <td>комедия</td>\n",
       "      <td>50451949</td>\n",
       "    </tr>\n",
       "    <tr>\n",
       "      <th>5673</th>\n",
       "      <td>Селфи</td>\n",
       "      <td>111012117</td>\n",
       "      <td>2018-02-01 12:00:00+00:00</td>\n",
       "      <td>Художественный</td>\n",
       "      <td>ООО \"Киностудия \"Слово\", ООО \"Арт Пикчерс Студия\"</td>\n",
       "      <td>Россия</td>\n",
       "      <td>Н.Хомерики</td>\n",
       "      <td>П.Ануров, Ф.Бондарчук, Д.Рудовский</td>\n",
       "      <td>«16+» - для детей старше 16 лет</td>\n",
       "      <td>20000000</td>\n",
       "      <td>40000000</td>\n",
       "      <td>0</td>\n",
       "      <td>Фонд кино</td>\n",
       "      <td>5.8</td>\n",
       "      <td>триллер,драма</td>\n",
       "      <td>225196400</td>\n",
       "    </tr>\n",
       "    <tr>\n",
       "      <th>5806</th>\n",
       "      <td>Два хвоста</td>\n",
       "      <td>114001018</td>\n",
       "      <td>2018-05-31 12:00:00+00:00</td>\n",
       "      <td>Анимационный</td>\n",
       "      <td>ООО \"ЛИЦЕНЗИОННЫЕ БРЕНДЫ\"</td>\n",
       "      <td>Россия</td>\n",
       "      <td>В.Ровенский, Н.Лопато, В.Азеев</td>\n",
       "      <td>ООО \"ЛИЦЕНЗИОННЫЕ БРЕНДЫ\"</td>\n",
       "      <td>«6+» - для детей старше 6 лет</td>\n",
       "      <td>10000000</td>\n",
       "      <td>60000000</td>\n",
       "      <td>0</td>\n",
       "      <td>Фонд кино</td>\n",
       "      <td>5.0</td>\n",
       "      <td>мультфильм,детский</td>\n",
       "      <td>106514301</td>\n",
       "    </tr>\n",
       "    <tr>\n",
       "      <th>6008</th>\n",
       "      <td>Принцесса и дракон</td>\n",
       "      <td>114003018</td>\n",
       "      <td>2018-08-23 12:00:00+00:00</td>\n",
       "      <td>Анимационный</td>\n",
       "      <td>ООО \"ЛИЦЕНЗИОННЫЕ БРЕНДЫ\"</td>\n",
       "      <td>Россия</td>\n",
       "      <td>М.Нефедова</td>\n",
       "      <td>ООО \"ЛИЦЕНЗИОННЫЕ БРЕНДЫ\"</td>\n",
       "      <td>«6+» - для детей старше 6 лет</td>\n",
       "      <td>40000000</td>\n",
       "      <td>40000000</td>\n",
       "      <td>0</td>\n",
       "      <td>Фонд кино</td>\n",
       "      <td>5.2</td>\n",
       "      <td>мультфильм,фэнтези,детский</td>\n",
       "      <td>83366328</td>\n",
       "    </tr>\n",
       "    <tr>\n",
       "      <th>6323</th>\n",
       "      <td>Баба Яга</td>\n",
       "      <td>114006518</td>\n",
       "      <td>2018-11-08 12:00:00+00:00</td>\n",
       "      <td>Анимационный</td>\n",
       "      <td>ООО \"Арт Пикчерс Студия\"</td>\n",
       "      <td>Россия</td>\n",
       "      <td>В.Саков</td>\n",
       "      <td>ООО \"Арт Пикчерс Студия\", ООО \"КРИЭЙТИВ АНИМЭЙ...</td>\n",
       "      <td>«6+» - для детей старше 6 лет</td>\n",
       "      <td>0</td>\n",
       "      <td>138969465</td>\n",
       "      <td>0</td>\n",
       "      <td>Фонд кино</td>\n",
       "      <td>-1.0</td>\n",
       "      <td>unknown</td>\n",
       "      <td>1334699</td>\n",
       "    </tr>\n",
       "    <tr>\n",
       "      <th>6823</th>\n",
       "      <td>Большое путешествие</td>\n",
       "      <td>114002419</td>\n",
       "      <td>2019-04-20 12:00:00+00:00</td>\n",
       "      <td>Анимационный</td>\n",
       "      <td>ООО \"ЛИЦЕНЗИОННЫЕ БРЕНДЫ\"</td>\n",
       "      <td>Россия</td>\n",
       "      <td>Н.Лопато, В.Ровенский</td>\n",
       "      <td>ООО \"ЛИЦЕНЗИОННЫЕ БРЕНДЫ\"</td>\n",
       "      <td>«6+» - для детей старше 6 лет</td>\n",
       "      <td>60000000</td>\n",
       "      <td>120000000</td>\n",
       "      <td>0</td>\n",
       "      <td>Фонд кино</td>\n",
       "      <td>6.2</td>\n",
       "      <td>мультфильм,комедия,приключения</td>\n",
       "      <td>147606826</td>\n",
       "    </tr>\n",
       "  </tbody>\n",
       "</table>\n",
       "</div>"
      ],
      "text/plain": [
       "                       title   puNumber           show_start_date  \\\n",
       "2053                     14+  111023614 2014-12-19 12:00:00+00:00   \n",
       "2058               Дуxless 2  111000415 2015-01-26 12:00:00+00:00   \n",
       "2472             Воин (2015)  111017315 2015-09-28 12:00:00+00:00   \n",
       "2532                 Бармен.  111009615 2015-05-26 12:00:00+00:00   \n",
       "2615     Савва. Сердце воина  114001715 2015-07-21 12:00:00+00:00   \n",
       "2684          Тряпичный союз  111010215 2015-06-08 12:00:00+00:00   \n",
       "2788      Срочно выйду замуж  111017115 2015-09-30 12:00:00+00:00   \n",
       "2874       Помню - не помню!  111004916 2016-03-01 12:00:00+00:00   \n",
       "3047  Любовь с ограничениями  111008216 2016-04-29 12:00:00+00:00   \n",
       "3565       Притяжение (2016)  111018116 2016-12-16 12:00:00+00:00   \n",
       "3675                Чудо-юдо  114001817 2017-06-27 12:00:00+00:00   \n",
       "3739                    Мифы  111004317 2017-06-07 12:00:00+00:00   \n",
       "5673                   Селфи  111012117 2018-02-01 12:00:00+00:00   \n",
       "5806              Два хвоста  114001018 2018-05-31 12:00:00+00:00   \n",
       "6008      Принцесса и дракон  114003018 2018-08-23 12:00:00+00:00   \n",
       "6323                Баба Яга  114006518 2018-11-08 12:00:00+00:00   \n",
       "6823     Большое путешествие  114002419 2019-04-20 12:00:00+00:00   \n",
       "\n",
       "                type                                        film_studio  \\\n",
       "2053  Художественный                         ООО Киностудия  \"Сентябрь\"   \n",
       "2058  Художественный  ООО \"Киностудия \"Слово\", ООО \"Арт Пикчерс Студия\"   \n",
       "2472  Художественный   ООО \"Форпост Продакшн\", ООО \"Арт Пикчерс Студия\"   \n",
       "2532  Художественный          АО \"ВайТ Медиа\", ООО \"Арт Пикчерс Студия\"   \n",
       "2615    Анимационный   ООО \"Глюкоза Продакшн\", ООО \"Арт Пикчерс Студия\"   \n",
       "2684  Художественный                      ООО \"Кинокомпания \"КОКТЕБЕЛЬ\"   \n",
       "2788  Художественный          АО \"ВайТ Медиа\", ООО \"Арт Пикчерс Студия\"   \n",
       "2874  Художественный                                    ООО \"КиноФирма\"   \n",
       "3047  Художественный          АО \"ВайТ Медиа\", ООО \"Арт Пикчерс Студия\"   \n",
       "3565  Художественный      ООО \"Водород 2011\",  ООО \"Арт Пикчерс Студия\"   \n",
       "3675    Анимационный                                    ООО \"КиноФирма\"   \n",
       "3739  Художественный           ООО \"ХАЙПФИЛМ\", ООО \"Арт Пикчерс Студия\"   \n",
       "5673  Художественный  ООО \"Киностудия \"Слово\", ООО \"Арт Пикчерс Студия\"   \n",
       "5806    Анимационный                          ООО \"ЛИЦЕНЗИОННЫЕ БРЕНДЫ\"   \n",
       "6008    Анимационный                          ООО \"ЛИЦЕНЗИОННЫЕ БРЕНДЫ\"   \n",
       "6323    Анимационный                           ООО \"Арт Пикчерс Студия\"   \n",
       "6823    Анимационный                          ООО \"ЛИЦЕНЗИОННЫЕ БРЕНДЫ\"   \n",
       "\n",
       "     production_country                        director  \\\n",
       "2053             Россия                        А.Зайцев   \n",
       "2058             Россия                      Р.Прыгунов   \n",
       "2472             Россия                     А.Андрианов   \n",
       "2532             Россия                    Д.Штурманова   \n",
       "2615             Россия                        М.Фадеев   \n",
       "2684             Россия                     М.Местецкий   \n",
       "2788             Россия                       С Чекалов   \n",
       "2874             Россия                     В.Ровенский   \n",
       "3047             Россия                         Д.Тюрин   \n",
       "3565             Россия                     Ф.Бондарчук   \n",
       "3675             Россия                       А.Лукичев   \n",
       "3739             Россия                    А.Молочников   \n",
       "5673             Россия                      Н.Хомерики   \n",
       "5806             Россия  В.Ровенский, Н.Лопато, В.Азеев   \n",
       "6008             Россия                      М.Нефедова   \n",
       "6323             Россия                         В.Саков   \n",
       "6823             Россия           Н.Лопато, В.Ровенский   \n",
       "\n",
       "                                               producer  \\\n",
       "2053                                О.Гранина, А.Зайцев   \n",
       "2058                 П.Ануров, Ф.Бондарчук, Д.Рудовский   \n",
       "2472                           ООО \"Арт Пикчерс Студия\"   \n",
       "2532                                        Т.Вайнштейн   \n",
       "2615                                         А.Чистяков   \n",
       "2684                              Р.Борисевич, А.Кушаев   \n",
       "2788              Ф.Бондарчук, Т.Вайнштейн, Д.Рудовский   \n",
       "2874                                    ООО \"КиноФирма\"   \n",
       "3047              Ф.Бондарчук, Т.Вайнштейн, Д.Рудовский   \n",
       "3565                           ООО \"Арт Пикчерс Студия\"   \n",
       "3675                                    ООО \"КиноФирма\"   \n",
       "3739  Ф.Бондарчук, Д.Рудовский, И.Стюарт, М.Османн, ...   \n",
       "5673                 П.Ануров, Ф.Бондарчук, Д.Рудовский   \n",
       "5806                          ООО \"ЛИЦЕНЗИОННЫЕ БРЕНДЫ\"   \n",
       "6008                          ООО \"ЛИЦЕНЗИОННЫЕ БРЕНДЫ\"   \n",
       "6323  ООО \"Арт Пикчерс Студия\", ООО \"КРИЭЙТИВ АНИМЭЙ...   \n",
       "6823                          ООО \"ЛИЦЕНЗИОННЫЕ БРЕНДЫ\"   \n",
       "\n",
       "                      age_restriction  refundable_support  \\\n",
       "2053  «16+» - для детей старше 16 лет                   0   \n",
       "2058  «16+» - для детей старше 16 лет                   0   \n",
       "2472  «12+» - для детей старше 12 лет            10000000   \n",
       "2532  «16+» - для детей старше 16 лет            20000000   \n",
       "2615    «6+» - для детей старше 6 лет            60000000   \n",
       "2684      «18+» - запрещено для детей                   0   \n",
       "2788  «16+» - для детей старше 16 лет                   0   \n",
       "2874  «12+» - для детей старше 12 лет                   0   \n",
       "3047  «16+» - для детей старше 16 лет            19000000   \n",
       "3565  «12+» - для детей старше 12 лет                   0   \n",
       "3675    «6+» - для детей старше 6 лет            20000000   \n",
       "3739  «16+» - для детей старше 16 лет            25000000   \n",
       "5673  «16+» - для детей старше 16 лет            20000000   \n",
       "5806    «6+» - для детей старше 6 лет            10000000   \n",
       "6008    «6+» - для детей старше 6 лет            40000000   \n",
       "6323    «6+» - для детей старше 6 лет                   0   \n",
       "6823    «6+» - для детей старше 6 лет            60000000   \n",
       "\n",
       "      nonrefundable_support  budget                  financing_source  \\\n",
       "2053               23000000       0  Министерство культуры, Фонд кино   \n",
       "2058               75000000       0                         Фонд кино   \n",
       "2472               70000000       0                         Фонд кино   \n",
       "2532                      0       0                         Фонд кино   \n",
       "2615              100000000       0                         Фонд кино   \n",
       "2684               59000000       0                         Фонд кино   \n",
       "2788               35000000       0                         Фонд кино   \n",
       "2874                6000000       0             Министерство культуры   \n",
       "3047               51000000       0                         Фонд кино   \n",
       "3565              250000000       0                         Фонд кино   \n",
       "3675               20000000       0                         Фонд кино   \n",
       "3739               20000000       0                         Фонд кино   \n",
       "5673               40000000       0                         Фонд кино   \n",
       "5806               60000000       0                         Фонд кино   \n",
       "6008               40000000       0                         Фонд кино   \n",
       "6323              138969465       0                         Фонд кино   \n",
       "6823              120000000       0                         Фонд кино   \n",
       "\n",
       "      ratings                          genres  box_office  \n",
       "2053      6.6                       мелодрама    10234016  \n",
       "2058      6.6                           драма   446163511  \n",
       "2472      7.8           боевик,драма,криминал   196572438  \n",
       "2532      6.2                 комедия,фэнтези    67418974  \n",
       "2615      4.6  мультфильм,приключения,фэнтези   184487551  \n",
       "2684      6.3                   комедия,драма     1957738  \n",
       "2788      5.1               комедия,мелодрама    72937783  \n",
       "2874      4.3                         комедия    15362931  \n",
       "3047      6.3               комедия,мелодрама    70299052  \n",
       "3565      5.6                      фантастика  1038321489  \n",
       "3675      5.2     мультфильм,фэнтези,семейный    55108014  \n",
       "3739      4.8                         комедия    50451949  \n",
       "5673      5.8                   триллер,драма   225196400  \n",
       "5806      5.0              мультфильм,детский   106514301  \n",
       "6008      5.2      мультфильм,фэнтези,детский    83366328  \n",
       "6323     -1.0                         unknown     1334699  \n",
       "6823      6.2  мультфильм,комедия,приключения   147606826  "
      ]
     },
     "metadata": {},
     "output_type": "display_data"
    }
   ],
   "source": [
    "display(df.loc[(df['budget'] < df['refundable_support'] + df['nonrefundable_support']) & (df['budget'] == 0)]) #просмотр аномалий"
   ]
  },
  {
   "cell_type": "markdown",
   "metadata": {},
   "source": [
    "Действительно, в обнаруженных 17 строках сведения о бюджете в целом отсутствуют, в то время, как в графах возвратной/безвозвратной поддержки они указаны. Безусловно, представленные 17 строк составляют минимальную погрешность от общего их числа и ими, теоретически, можно пренебречь. Однако, в таком случае, есть риск потерять ценные данные. И хотя бюджет фильма, как правило, не состоит только из средств государственной поддержки, для этих 17 строк его можно приравнять к соответствующей сумме столбцов 'refundable_support' и 'nonrefundable_support', поскольку, как минимум, полученная сумма уже включена в реальный бюджет фильма."
   ]
  },
  {
   "cell_type": "code",
   "execution_count": 27,
   "metadata": {},
   "outputs": [
    {
     "name": "stdout",
     "output_type": "stream",
     "text": [
      "0\n"
     ]
    }
   ],
   "source": [
    "df.loc[(df['budget'] < df['refundable_support'] + df['nonrefundable_support']) & (df['budget'] == 0), 'budget'] = df['refundable_support'] + df['nonrefundable_support']\n",
    "print(df.loc[(df['budget'] < df['refundable_support'] + df['nonrefundable_support']) & (df['budget'] == 0)].value_counts().sum()) #повторная проверка"
   ]
  },
  {
   "cell_type": "markdown",
   "metadata": {},
   "source": [
    "Таким образом, все обнаруженные аномальные значения были устранены."
   ]
  },
  {
   "cell_type": "markdown",
   "metadata": {
    "id": "Eu6oWp2CgFyS"
   },
   "source": [
    "#### Добавление новых столбцов"
   ]
  },
  {
   "cell_type": "markdown",
   "metadata": {
    "id": "7GgW-UpAgFyS"
   },
   "source": [
    "- Создадим столбец с информацией о годе проката. Выделим год из даты премьеры фильма."
   ]
  },
  {
   "cell_type": "code",
   "execution_count": 28,
   "metadata": {
    "id": "I-yd1DkWgFyT"
   },
   "outputs": [],
   "source": [
    "df['show_start_year'] = df['show_start_date'].dt.year #создаем столбец с годом проката"
   ]
  },
  {
   "cell_type": "markdown",
   "metadata": {
    "id": "nFTDLDYOgFyT"
   },
   "source": [
    "- Создадим два столбца: с именем и фамилией главного режиссёра и основным жанром фильма. В столбцы войдут первые значения из списка режиссёров и жанров соответственно."
   ]
  },
  {
   "cell_type": "code",
   "execution_count": 29,
   "metadata": {
    "scrolled": true
   },
   "outputs": [
    {
     "data": {
      "text/html": [
       "<div>\n",
       "<style scoped>\n",
       "    .dataframe tbody tr th:only-of-type {\n",
       "        vertical-align: middle;\n",
       "    }\n",
       "\n",
       "    .dataframe tbody tr th {\n",
       "        vertical-align: top;\n",
       "    }\n",
       "\n",
       "    .dataframe thead th {\n",
       "        text-align: right;\n",
       "    }\n",
       "</style>\n",
       "<table border=\"1\" class=\"dataframe\">\n",
       "  <thead>\n",
       "    <tr style=\"text-align: right;\">\n",
       "      <th></th>\n",
       "      <th>title</th>\n",
       "      <th>puNumber</th>\n",
       "      <th>show_start_date</th>\n",
       "      <th>type</th>\n",
       "      <th>film_studio</th>\n",
       "      <th>production_country</th>\n",
       "      <th>director</th>\n",
       "      <th>producer</th>\n",
       "      <th>age_restriction</th>\n",
       "      <th>refundable_support</th>\n",
       "      <th>nonrefundable_support</th>\n",
       "      <th>budget</th>\n",
       "      <th>financing_source</th>\n",
       "      <th>ratings</th>\n",
       "      <th>genres</th>\n",
       "      <th>box_office</th>\n",
       "      <th>show_start_year</th>\n",
       "      <th>main_director</th>\n",
       "      <th>main_genre</th>\n",
       "    </tr>\n",
       "  </thead>\n",
       "  <tbody>\n",
       "    <tr>\n",
       "      <th>0</th>\n",
       "      <td>Открытый простор</td>\n",
       "      <td>221048915</td>\n",
       "      <td>2015-11-27 12:00:00+00:00</td>\n",
       "      <td>Художественный</td>\n",
       "      <td>Тачстоун Пикчерз, Кобальт Пикчерз, Бикон Пикче...</td>\n",
       "      <td>США</td>\n",
       "      <td>Кевин Костнер</td>\n",
       "      <td>Дэвид Валдес, Кевин Костнер, Джейк Эбертс</td>\n",
       "      <td>«18+» - запрещено для детей</td>\n",
       "      <td>0</td>\n",
       "      <td>0</td>\n",
       "      <td>0</td>\n",
       "      <td>none</td>\n",
       "      <td>7.2</td>\n",
       "      <td>боевик,драма,мелодрама</td>\n",
       "      <td>-1</td>\n",
       "      <td>2015</td>\n",
       "      <td>Кевин Костнер</td>\n",
       "      <td>боевик</td>\n",
       "    </tr>\n",
       "    <tr>\n",
       "      <th>1</th>\n",
       "      <td>Особо важное задание</td>\n",
       "      <td>111013716</td>\n",
       "      <td>2016-09-13 12:00:00+00:00</td>\n",
       "      <td>Художественный</td>\n",
       "      <td>Киностудия \"Мосфильм\"</td>\n",
       "      <td>СССР</td>\n",
       "      <td>Е.Матвеев</td>\n",
       "      <td>unknown</td>\n",
       "      <td>«6+» - для детей старше 6 лет</td>\n",
       "      <td>0</td>\n",
       "      <td>0</td>\n",
       "      <td>0</td>\n",
       "      <td>none</td>\n",
       "      <td>6.6</td>\n",
       "      <td>драма,военный</td>\n",
       "      <td>-1</td>\n",
       "      <td>2016</td>\n",
       "      <td>Е.Матвеев</td>\n",
       "      <td>драма</td>\n",
       "    </tr>\n",
       "    <tr>\n",
       "      <th>2</th>\n",
       "      <td>Особо опасен</td>\n",
       "      <td>221038416</td>\n",
       "      <td>2016-10-10 12:00:00+00:00</td>\n",
       "      <td>Художественный</td>\n",
       "      <td>Юниверсал Пикчерз, Кикстарт Продакшнз, Марк Пл...</td>\n",
       "      <td>США</td>\n",
       "      <td>Тимур Бекмамбетов</td>\n",
       "      <td>Джим Лемли, Джейсон Нетер, Марк Е.Платт, Яйн Смит</td>\n",
       "      <td>«18+» - запрещено для детей</td>\n",
       "      <td>0</td>\n",
       "      <td>0</td>\n",
       "      <td>0</td>\n",
       "      <td>none</td>\n",
       "      <td>6.8</td>\n",
       "      <td>фантастика,боевик,триллер</td>\n",
       "      <td>-1</td>\n",
       "      <td>2016</td>\n",
       "      <td>Тимур Бекмамбетов</td>\n",
       "      <td>фантастика</td>\n",
       "    </tr>\n",
       "    <tr>\n",
       "      <th>3</th>\n",
       "      <td>Особо опасен</td>\n",
       "      <td>221026916</td>\n",
       "      <td>2016-06-10 12:00:00+00:00</td>\n",
       "      <td>Художественный</td>\n",
       "      <td>Юниверсал Пикчерз, Кикстарт Продакшнз, Марк Пл...</td>\n",
       "      <td>США</td>\n",
       "      <td>Тимур Бекмамбетов</td>\n",
       "      <td>Джим Лемли, Джейсон Нетер, Марк Е.Платт, Яйн Смит</td>\n",
       "      <td>«18+» - запрещено для детей</td>\n",
       "      <td>0</td>\n",
       "      <td>0</td>\n",
       "      <td>0</td>\n",
       "      <td>none</td>\n",
       "      <td>6.8</td>\n",
       "      <td>фантастика,боевик,триллер</td>\n",
       "      <td>-1</td>\n",
       "      <td>2016</td>\n",
       "      <td>Тимур Бекмамбетов</td>\n",
       "      <td>фантастика</td>\n",
       "    </tr>\n",
       "    <tr>\n",
       "      <th>4</th>\n",
       "      <td>Особо опасен</td>\n",
       "      <td>221030815</td>\n",
       "      <td>2015-07-29 12:00:00+00:00</td>\n",
       "      <td>Художественный</td>\n",
       "      <td>Юниверсал Пикчерз, Кикстарт Продакшнз, Марк Пл...</td>\n",
       "      <td>США</td>\n",
       "      <td>Тимур Бекмамбетов</td>\n",
       "      <td>Джим Лемли, Джейсон Нетер, Марк Е.Платт, Яйн Смит</td>\n",
       "      <td>«18+» - запрещено для детей</td>\n",
       "      <td>0</td>\n",
       "      <td>0</td>\n",
       "      <td>0</td>\n",
       "      <td>none</td>\n",
       "      <td>6.8</td>\n",
       "      <td>фантастика,боевик,триллер</td>\n",
       "      <td>-1</td>\n",
       "      <td>2015</td>\n",
       "      <td>Тимур Бекмамбетов</td>\n",
       "      <td>фантастика</td>\n",
       "    </tr>\n",
       "  </tbody>\n",
       "</table>\n",
       "</div>"
      ],
      "text/plain": [
       "                  title   puNumber           show_start_date            type  \\\n",
       "0      Открытый простор  221048915 2015-11-27 12:00:00+00:00  Художественный   \n",
       "1  Особо важное задание  111013716 2016-09-13 12:00:00+00:00  Художественный   \n",
       "2          Особо опасен  221038416 2016-10-10 12:00:00+00:00  Художественный   \n",
       "3          Особо опасен  221026916 2016-06-10 12:00:00+00:00  Художественный   \n",
       "4          Особо опасен  221030815 2015-07-29 12:00:00+00:00  Художественный   \n",
       "\n",
       "                                         film_studio production_country  \\\n",
       "0  Тачстоун Пикчерз, Кобальт Пикчерз, Бикон Пикче...                США   \n",
       "1                              Киностудия \"Мосфильм\"               СССР   \n",
       "2  Юниверсал Пикчерз, Кикстарт Продакшнз, Марк Пл...                США   \n",
       "3  Юниверсал Пикчерз, Кикстарт Продакшнз, Марк Пл...                США   \n",
       "4  Юниверсал Пикчерз, Кикстарт Продакшнз, Марк Пл...                США   \n",
       "\n",
       "            director                                           producer  \\\n",
       "0      Кевин Костнер          Дэвид Валдес, Кевин Костнер, Джейк Эбертс   \n",
       "1          Е.Матвеев                                            unknown   \n",
       "2  Тимур Бекмамбетов  Джим Лемли, Джейсон Нетер, Марк Е.Платт, Яйн Смит   \n",
       "3  Тимур Бекмамбетов  Джим Лемли, Джейсон Нетер, Марк Е.Платт, Яйн Смит   \n",
       "4  Тимур Бекмамбетов  Джим Лемли, Джейсон Нетер, Марк Е.Платт, Яйн Смит   \n",
       "\n",
       "                 age_restriction  refundable_support  nonrefundable_support  \\\n",
       "0    «18+» - запрещено для детей                   0                      0   \n",
       "1  «6+» - для детей старше 6 лет                   0                      0   \n",
       "2    «18+» - запрещено для детей                   0                      0   \n",
       "3    «18+» - запрещено для детей                   0                      0   \n",
       "4    «18+» - запрещено для детей                   0                      0   \n",
       "\n",
       "   budget financing_source  ratings                     genres  box_office  \\\n",
       "0       0             none      7.2     боевик,драма,мелодрама          -1   \n",
       "1       0             none      6.6              драма,военный          -1   \n",
       "2       0             none      6.8  фантастика,боевик,триллер          -1   \n",
       "3       0             none      6.8  фантастика,боевик,триллер          -1   \n",
       "4       0             none      6.8  фантастика,боевик,триллер          -1   \n",
       "\n",
       "   show_start_year      main_director  main_genre  \n",
       "0             2015      Кевин Костнер      боевик  \n",
       "1             2016          Е.Матвеев       драма  \n",
       "2             2016  Тимур Бекмамбетов  фантастика  \n",
       "3             2016  Тимур Бекмамбетов  фантастика  \n",
       "4             2015  Тимур Бекмамбетов  фантастика  "
      ]
     },
     "execution_count": 29,
     "metadata": {},
     "output_type": "execute_result"
    }
   ],
   "source": [
    "def first_element(column): #создание функции\n",
    "    column = column.split(\",\")[0]\n",
    "    return column\n",
    "\n",
    "df['main_director'] = df['director'].apply(first_element) #применение функции\n",
    "df['main_genre'] = df['genres'].apply(first_element)\n",
    "\n",
    "df.head() #проверка новых столбцов"
   ]
  },
  {
   "cell_type": "markdown",
   "metadata": {
    "id": "1FsCXHwdgFyU"
   },
   "source": [
    "- Посчитаем, какую долю от общего бюджета фильма составляет государственная поддержка."
   ]
  },
  {
   "cell_type": "code",
   "execution_count": 30,
   "metadata": {
    "id": "LV6qFuZLgFyV",
    "scrolled": true
   },
   "outputs": [
    {
     "data": {
      "text/html": [
       "<div>\n",
       "<style scoped>\n",
       "    .dataframe tbody tr th:only-of-type {\n",
       "        vertical-align: middle;\n",
       "    }\n",
       "\n",
       "    .dataframe tbody tr th {\n",
       "        vertical-align: top;\n",
       "    }\n",
       "\n",
       "    .dataframe thead th {\n",
       "        text-align: right;\n",
       "    }\n",
       "</style>\n",
       "<table border=\"1\" class=\"dataframe\">\n",
       "  <thead>\n",
       "    <tr style=\"text-align: right;\">\n",
       "      <th></th>\n",
       "      <th>title</th>\n",
       "      <th>puNumber</th>\n",
       "      <th>show_start_date</th>\n",
       "      <th>type</th>\n",
       "      <th>film_studio</th>\n",
       "      <th>production_country</th>\n",
       "      <th>director</th>\n",
       "      <th>producer</th>\n",
       "      <th>age_restriction</th>\n",
       "      <th>refundable_support</th>\n",
       "      <th>nonrefundable_support</th>\n",
       "      <th>budget</th>\n",
       "      <th>financing_source</th>\n",
       "      <th>ratings</th>\n",
       "      <th>genres</th>\n",
       "      <th>box_office</th>\n",
       "      <th>show_start_year</th>\n",
       "      <th>main_director</th>\n",
       "      <th>main_genre</th>\n",
       "      <th>sup_to_budget</th>\n",
       "    </tr>\n",
       "  </thead>\n",
       "  <tbody>\n",
       "    <tr>\n",
       "      <th>1281</th>\n",
       "      <td>Пока еще жива</td>\n",
       "      <td>111005313</td>\n",
       "      <td>2013-10-11 12:00:00+00:00</td>\n",
       "      <td>Художественный</td>\n",
       "      <td>АНО содействия развитию кинематографии \"Ангел-...</td>\n",
       "      <td>Россия</td>\n",
       "      <td>А.Атанесян</td>\n",
       "      <td>А.Атанесян, М.Бабаханов, Р.Бутко</td>\n",
       "      <td>«16+» - для детей старше 16 лет</td>\n",
       "      <td>0</td>\n",
       "      <td>26500000</td>\n",
       "      <td>79411900</td>\n",
       "      <td>Министерство культуры</td>\n",
       "      <td>8.1</td>\n",
       "      <td>драма,мелодрама</td>\n",
       "      <td>365353</td>\n",
       "      <td>2013</td>\n",
       "      <td>А.Атанесян</td>\n",
       "      <td>драма</td>\n",
       "      <td>0.333703</td>\n",
       "    </tr>\n",
       "    <tr>\n",
       "      <th>1448</th>\n",
       "      <td>Бесславные придурки</td>\n",
       "      <td>111003314</td>\n",
       "      <td>2014-03-28 12:00:00+00:00</td>\n",
       "      <td>Художественный</td>\n",
       "      <td>ООО \"Компания \"АТК-Студио\"</td>\n",
       "      <td>Россия</td>\n",
       "      <td>А.Якимчук</td>\n",
       "      <td>А.Тютрюмов</td>\n",
       "      <td>«12+» - для детей старше 12 лет</td>\n",
       "      <td>0</td>\n",
       "      <td>26000000</td>\n",
       "      <td>37142857</td>\n",
       "      <td>Министерство культуры</td>\n",
       "      <td>-1.0</td>\n",
       "      <td>unknown</td>\n",
       "      <td>28140</td>\n",
       "      <td>2014</td>\n",
       "      <td>А.Якимчук</td>\n",
       "      <td>unknown</td>\n",
       "      <td>0.700000</td>\n",
       "    </tr>\n",
       "    <tr>\n",
       "      <th>1498</th>\n",
       "      <td>Невидимки</td>\n",
       "      <td>111004213</td>\n",
       "      <td>2013-09-10 12:00:00+00:00</td>\n",
       "      <td>Художественный</td>\n",
       "      <td>ООО \"Компания \"РЕАЛ-ДАКОТА\"</td>\n",
       "      <td>Россия</td>\n",
       "      <td>Р.Давлетьяров, С.Комаров</td>\n",
       "      <td>Р.Давлетьяров, А.Котелевский, А.Олейников</td>\n",
       "      <td>«12+» - для детей старше 12 лет</td>\n",
       "      <td>0</td>\n",
       "      <td>107847945</td>\n",
       "      <td>176023490</td>\n",
       "      <td>Фонд кино</td>\n",
       "      <td>5.3</td>\n",
       "      <td>комедия,фантастика</td>\n",
       "      <td>19957031</td>\n",
       "      <td>2013</td>\n",
       "      <td>Р.Давлетьяров</td>\n",
       "      <td>комедия</td>\n",
       "      <td>0.612691</td>\n",
       "    </tr>\n",
       "    <tr>\n",
       "      <th>1524</th>\n",
       "      <td>БЕРЦЫ</td>\n",
       "      <td>111004314</td>\n",
       "      <td>2014-05-05 12:00:00+00:00</td>\n",
       "      <td>Художественный</td>\n",
       "      <td>ООО \"Студия \"Пассажир\"</td>\n",
       "      <td>Россия</td>\n",
       "      <td>Е.Миндадзе (псевдоним Катя Шагалова)</td>\n",
       "      <td>Л.Антонова</td>\n",
       "      <td>«16+» - для детей старше 16 лет</td>\n",
       "      <td>0</td>\n",
       "      <td>28000000</td>\n",
       "      <td>40574140</td>\n",
       "      <td>Министерство культуры</td>\n",
       "      <td>4.2</td>\n",
       "      <td>драма</td>\n",
       "      <td>55917</td>\n",
       "      <td>2014</td>\n",
       "      <td>Е.Миндадзе (псевдоним Катя Шагалова)</td>\n",
       "      <td>драма</td>\n",
       "      <td>0.690095</td>\n",
       "    </tr>\n",
       "    <tr>\n",
       "      <th>1792</th>\n",
       "      <td>Братья Ч</td>\n",
       "      <td>111004414</td>\n",
       "      <td>2014-04-23 12:00:00+00:00</td>\n",
       "      <td>Художественный</td>\n",
       "      <td>ООО \"Студия \"Пассажир\"</td>\n",
       "      <td>Россия</td>\n",
       "      <td>М.Угаров</td>\n",
       "      <td>А.Миндадзе, Л.Антонова</td>\n",
       "      <td>«16+» - для детей старше 16 лет</td>\n",
       "      <td>0</td>\n",
       "      <td>25000000</td>\n",
       "      <td>40015122</td>\n",
       "      <td>Министерство культуры</td>\n",
       "      <td>6.4</td>\n",
       "      <td>драма</td>\n",
       "      <td>232100</td>\n",
       "      <td>2014</td>\n",
       "      <td>М.Угаров</td>\n",
       "      <td>драма</td>\n",
       "      <td>0.624764</td>\n",
       "    </tr>\n",
       "    <tr>\n",
       "      <th>...</th>\n",
       "      <td>...</td>\n",
       "      <td>...</td>\n",
       "      <td>...</td>\n",
       "      <td>...</td>\n",
       "      <td>...</td>\n",
       "      <td>...</td>\n",
       "      <td>...</td>\n",
       "      <td>...</td>\n",
       "      <td>...</td>\n",
       "      <td>...</td>\n",
       "      <td>...</td>\n",
       "      <td>...</td>\n",
       "      <td>...</td>\n",
       "      <td>...</td>\n",
       "      <td>...</td>\n",
       "      <td>...</td>\n",
       "      <td>...</td>\n",
       "      <td>...</td>\n",
       "      <td>...</td>\n",
       "      <td>...</td>\n",
       "    </tr>\n",
       "    <tr>\n",
       "      <th>7464</th>\n",
       "      <td>Союз спасения</td>\n",
       "      <td>111022019</td>\n",
       "      <td>2019-12-26 12:00:00+00:00</td>\n",
       "      <td>Художественный</td>\n",
       "      <td>ЗАО \"Дирекция кино\"</td>\n",
       "      <td>Россия</td>\n",
       "      <td>А.Кравчук</td>\n",
       "      <td>А.Максимов, К.Эрнст</td>\n",
       "      <td>«12+» - для детей старше 12 лет</td>\n",
       "      <td>100000000</td>\n",
       "      <td>400000000</td>\n",
       "      <td>980000000</td>\n",
       "      <td>Фонд кино</td>\n",
       "      <td>6.0</td>\n",
       "      <td>история,биография,драма</td>\n",
       "      <td>717703185</td>\n",
       "      <td>2019</td>\n",
       "      <td>А.Кравчук</td>\n",
       "      <td>история</td>\n",
       "      <td>0.510204</td>\n",
       "    </tr>\n",
       "    <tr>\n",
       "      <th>7466</th>\n",
       "      <td>Иван Царевич и Серый Волк 4</td>\n",
       "      <td>114005019</td>\n",
       "      <td>2019-12-20 12:00:00+00:00</td>\n",
       "      <td>Анимационный</td>\n",
       "      <td>ООО \"Студия анимационного кино \"Мельница\"</td>\n",
       "      <td>Россия</td>\n",
       "      <td>Д.Шмидт, К.Феоктистов</td>\n",
       "      <td>С.Сельянов, А.Боярский</td>\n",
       "      <td>«6+» - для детей старше 6 лет</td>\n",
       "      <td>100000000</td>\n",
       "      <td>0</td>\n",
       "      <td>190000000</td>\n",
       "      <td>Фонд кино</td>\n",
       "      <td>6.7</td>\n",
       "      <td>мультфильм,приключения,семейный</td>\n",
       "      <td>501069235</td>\n",
       "      <td>2019</td>\n",
       "      <td>Д.Шмидт</td>\n",
       "      <td>мультфильм</td>\n",
       "      <td>0.526316</td>\n",
       "    </tr>\n",
       "    <tr>\n",
       "      <th>7474</th>\n",
       "      <td>Вторжение</td>\n",
       "      <td>111022519</td>\n",
       "      <td>2019-12-23 12:00:00+00:00</td>\n",
       "      <td>Художественный</td>\n",
       "      <td>ООО \"Арт Пикчерс Студия\", ООО \"Водород 2011\"</td>\n",
       "      <td>Россия</td>\n",
       "      <td>Ф.Бондарчук</td>\n",
       "      <td>Ф.Бондарчук, М.Врубель, А.Андрющенко, Д.Рудовский</td>\n",
       "      <td>«12+» - для детей старше 12 лет</td>\n",
       "      <td>100000000</td>\n",
       "      <td>400000000</td>\n",
       "      <td>944000000</td>\n",
       "      <td>Фонд кино</td>\n",
       "      <td>5.7</td>\n",
       "      <td>фантастика,боевик</td>\n",
       "      <td>-1</td>\n",
       "      <td>2019</td>\n",
       "      <td>Ф.Бондарчук</td>\n",
       "      <td>фантастика</td>\n",
       "      <td>0.529661</td>\n",
       "    </tr>\n",
       "    <tr>\n",
       "      <th>7476</th>\n",
       "      <td>Я свободен</td>\n",
       "      <td>111023019</td>\n",
       "      <td>2019-12-26 12:00:00+00:00</td>\n",
       "      <td>Художественный</td>\n",
       "      <td>АО \"ТПО \"Киностудия им. М.Горького\"</td>\n",
       "      <td>Россия</td>\n",
       "      <td>И.Северов</td>\n",
       "      <td>С.Зернов</td>\n",
       "      <td>«12+» - для детей старше 12 лет</td>\n",
       "      <td>0</td>\n",
       "      <td>30000000</td>\n",
       "      <td>46154000</td>\n",
       "      <td>Министерство культуры</td>\n",
       "      <td>5.9</td>\n",
       "      <td>драма</td>\n",
       "      <td>-1</td>\n",
       "      <td>2019</td>\n",
       "      <td>И.Северов</td>\n",
       "      <td>драма</td>\n",
       "      <td>0.649998</td>\n",
       "    </tr>\n",
       "    <tr>\n",
       "      <th>7478</th>\n",
       "      <td>(Не)идеальный мужчина</td>\n",
       "      <td>111023119</td>\n",
       "      <td>2019-12-24 12:00:00+00:00</td>\n",
       "      <td>Художественный</td>\n",
       "      <td>ООО \"Нон-Стоп Продакшн\"</td>\n",
       "      <td>Россия</td>\n",
       "      <td>М.Бальчюнас (псевдоним М.Вайсберг)</td>\n",
       "      <td>С.Мелькумов, А.Роднянский, М.Вайсберг, Р.Минас...</td>\n",
       "      <td>«12+» - для детей старше 12 лет</td>\n",
       "      <td>40000000</td>\n",
       "      <td>60000000</td>\n",
       "      <td>150147502</td>\n",
       "      <td>Фонд кино</td>\n",
       "      <td>4.5</td>\n",
       "      <td>комедия,фантастика,мелодрама</td>\n",
       "      <td>-1</td>\n",
       "      <td>2019</td>\n",
       "      <td>М.Бальчюнас (псевдоним М.Вайсберг)</td>\n",
       "      <td>комедия</td>\n",
       "      <td>0.666012</td>\n",
       "    </tr>\n",
       "  </tbody>\n",
       "</table>\n",
       "<p>332 rows × 20 columns</p>\n",
       "</div>"
      ],
      "text/plain": [
       "                            title   puNumber           show_start_date  \\\n",
       "1281                Пока еще жива  111005313 2013-10-11 12:00:00+00:00   \n",
       "1448          Бесславные придурки  111003314 2014-03-28 12:00:00+00:00   \n",
       "1498                    Невидимки  111004213 2013-09-10 12:00:00+00:00   \n",
       "1524                        БЕРЦЫ  111004314 2014-05-05 12:00:00+00:00   \n",
       "1792                     Братья Ч  111004414 2014-04-23 12:00:00+00:00   \n",
       "...                           ...        ...                       ...   \n",
       "7464                Союз спасения  111022019 2019-12-26 12:00:00+00:00   \n",
       "7466  Иван Царевич и Серый Волк 4  114005019 2019-12-20 12:00:00+00:00   \n",
       "7474                    Вторжение  111022519 2019-12-23 12:00:00+00:00   \n",
       "7476                   Я свободен  111023019 2019-12-26 12:00:00+00:00   \n",
       "7478        (Не)идеальный мужчина  111023119 2019-12-24 12:00:00+00:00   \n",
       "\n",
       "                type                                        film_studio  \\\n",
       "1281  Художественный  АНО содействия развитию кинематографии \"Ангел-...   \n",
       "1448  Художественный                         ООО \"Компания \"АТК-Студио\"   \n",
       "1498  Художественный                        ООО \"Компания \"РЕАЛ-ДАКОТА\"   \n",
       "1524  Художественный                             ООО \"Студия \"Пассажир\"   \n",
       "1792  Художественный                             ООО \"Студия \"Пассажир\"   \n",
       "...              ...                                                ...   \n",
       "7464  Художественный                                ЗАО \"Дирекция кино\"   \n",
       "7466    Анимационный          ООО \"Студия анимационного кино \"Мельница\"   \n",
       "7474  Художественный       ООО \"Арт Пикчерс Студия\", ООО \"Водород 2011\"   \n",
       "7476  Художественный                АО \"ТПО \"Киностудия им. М.Горького\"   \n",
       "7478  Художественный                           ООО \"Нон-Стоп Продакшн\"    \n",
       "\n",
       "     production_country                              director  \\\n",
       "1281             Россия                            А.Атанесян   \n",
       "1448             Россия                             А.Якимчук   \n",
       "1498             Россия              Р.Давлетьяров, С.Комаров   \n",
       "1524             Россия  Е.Миндадзе (псевдоним Катя Шагалова)   \n",
       "1792             Россия                              М.Угаров   \n",
       "...                 ...                                   ...   \n",
       "7464             Россия                             А.Кравчук   \n",
       "7466             Россия                 Д.Шмидт, К.Феоктистов   \n",
       "7474             Россия                           Ф.Бондарчук   \n",
       "7476             Россия                             И.Северов   \n",
       "7478             Россия    М.Бальчюнас (псевдоним М.Вайсберг)   \n",
       "\n",
       "                                               producer  \\\n",
       "1281                   А.Атанесян, М.Бабаханов, Р.Бутко   \n",
       "1448                                         А.Тютрюмов   \n",
       "1498          Р.Давлетьяров, А.Котелевский, А.Олейников   \n",
       "1524                                         Л.Антонова   \n",
       "1792                             А.Миндадзе, Л.Антонова   \n",
       "...                                                 ...   \n",
       "7464                                А.Максимов, К.Эрнст   \n",
       "7466                             С.Сельянов, А.Боярский   \n",
       "7474  Ф.Бондарчук, М.Врубель, А.Андрющенко, Д.Рудовский   \n",
       "7476                                           С.Зернов   \n",
       "7478  С.Мелькумов, А.Роднянский, М.Вайсберг, Р.Минас...   \n",
       "\n",
       "                      age_restriction  refundable_support  \\\n",
       "1281  «16+» - для детей старше 16 лет                   0   \n",
       "1448  «12+» - для детей старше 12 лет                   0   \n",
       "1498  «12+» - для детей старше 12 лет                   0   \n",
       "1524  «16+» - для детей старше 16 лет                   0   \n",
       "1792  «16+» - для детей старше 16 лет                   0   \n",
       "...                               ...                 ...   \n",
       "7464  «12+» - для детей старше 12 лет           100000000   \n",
       "7466    «6+» - для детей старше 6 лет           100000000   \n",
       "7474  «12+» - для детей старше 12 лет           100000000   \n",
       "7476  «12+» - для детей старше 12 лет                   0   \n",
       "7478  «12+» - для детей старше 12 лет            40000000   \n",
       "\n",
       "      nonrefundable_support     budget       financing_source  ratings  \\\n",
       "1281               26500000   79411900  Министерство культуры      8.1   \n",
       "1448               26000000   37142857  Министерство культуры     -1.0   \n",
       "1498              107847945  176023490              Фонд кино      5.3   \n",
       "1524               28000000   40574140  Министерство культуры      4.2   \n",
       "1792               25000000   40015122  Министерство культуры      6.4   \n",
       "...                     ...        ...                    ...      ...   \n",
       "7464              400000000  980000000              Фонд кино      6.0   \n",
       "7466                      0  190000000              Фонд кино      6.7   \n",
       "7474              400000000  944000000              Фонд кино      5.7   \n",
       "7476               30000000   46154000  Министерство культуры      5.9   \n",
       "7478               60000000  150147502              Фонд кино      4.5   \n",
       "\n",
       "                               genres  box_office  show_start_year  \\\n",
       "1281                  драма,мелодрама      365353             2013   \n",
       "1448                          unknown       28140             2014   \n",
       "1498               комедия,фантастика    19957031             2013   \n",
       "1524                            драма       55917             2014   \n",
       "1792                            драма      232100             2014   \n",
       "...                               ...         ...              ...   \n",
       "7464          история,биография,драма   717703185             2019   \n",
       "7466  мультфильм,приключения,семейный   501069235             2019   \n",
       "7474                фантастика,боевик          -1             2019   \n",
       "7476                            драма          -1             2019   \n",
       "7478     комедия,фантастика,мелодрама          -1             2019   \n",
       "\n",
       "                             main_director  main_genre  sup_to_budget  \n",
       "1281                            А.Атанесян       драма       0.333703  \n",
       "1448                             А.Якимчук     unknown       0.700000  \n",
       "1498                         Р.Давлетьяров     комедия       0.612691  \n",
       "1524  Е.Миндадзе (псевдоним Катя Шагалова)       драма       0.690095  \n",
       "1792                              М.Угаров       драма       0.624764  \n",
       "...                                    ...         ...            ...  \n",
       "7464                             А.Кравчук     история       0.510204  \n",
       "7466                               Д.Шмидт  мультфильм       0.526316  \n",
       "7474                           Ф.Бондарчук  фантастика       0.529661  \n",
       "7476                             И.Северов       драма       0.649998  \n",
       "7478    М.Бальчюнас (псевдоним М.Вайсберг)     комедия       0.666012  \n",
       "\n",
       "[332 rows x 20 columns]"
      ]
     },
     "execution_count": 30,
     "metadata": {},
     "output_type": "execute_result"
    }
   ],
   "source": [
    "df['sup_to_budget'] = df['budget'] #создаем столбец с данными о долях гос поддержки\n",
    "df.loc[df['sup_to_budget'] > 0, 'sup_to_budget'] = (df['refundable_support'] + df['nonrefundable_support']) / df['budget'] #заполняем столбец там, где это возможно\n",
    "df.loc[df['sup_to_budget'] > 0] #просмотр значений нового столбца"
   ]
  },
  {
   "cell_type": "markdown",
   "metadata": {
    "id": "6t4EukPLgFyV"
   },
   "source": [
    "### Исследовательский анализ данных\n"
   ]
  },
  {
   "cell_type": "markdown",
   "metadata": {
    "id": "vAH8WCzugFyV"
   },
   "source": [
    "- Посмотрим, сколько фильмов выходило в прокат каждый год. Обратим внимание, что данные о прокате в кинотеатрах известны не для всех фильмов. Посчитаем, какую долю составляют фильмы с указанной информацией о прокате в кинотеатрах."
   ]
  },
  {
   "cell_type": "code",
   "execution_count": 31,
   "metadata": {
    "id": "ABeV47y7gFyW"
   },
   "outputs": [
    {
     "data": {
      "text/plain": [
       "2010    985\n",
       "2019    930\n",
       "2018    891\n",
       "2016    818\n",
       "2014    807\n",
       "2015    705\n",
       "2013    630\n",
       "2011    622\n",
       "2012    593\n",
       "2017    505\n",
       "Name: show_start_year, dtype: int64"
      ]
     },
     "execution_count": 31,
     "metadata": {},
     "output_type": "execute_result"
    }
   ],
   "source": [
    "df['show_start_year'].value_counts() #подсчет числа фильмов в прокате за каждый год"
   ]
  },
  {
   "cell_type": "code",
   "execution_count": 32,
   "metadata": {},
   "outputs": [
    {
     "name": "stdout",
     "output_type": "stream",
     "text": [
      "0.4186481432006412\n"
     ]
    }
   ],
   "source": [
    "print((df['box_office'] > 0).sum() / len(df['box_office'])) #подсчет доли фильмов с указанной информацией о прокате в кинотеатрах"
   ]
  },
  {
   "cell_type": "markdown",
   "metadata": {
    "id": "BEOdcIrIgFyW"
   },
   "source": [
    "- Изучим, как менялась динамика проката по годам. В каком году сумма сборов была минимальной? А максимальной?"
   ]
  },
  {
   "cell_type": "code",
   "execution_count": 33,
   "metadata": {
    "id": "tfEhofYvgFyX"
   },
   "outputs": [
    {
     "data": {
      "text/plain": [
       "<AxesSubplot:xlabel='show_start_year'>"
      ]
     },
     "execution_count": 33,
     "metadata": {},
     "output_type": "execute_result"
    },
    {
     "data": {
      "image/png": "[encoded data removed]",
      "text/plain": [
       "<Figure size 432x288 with 1 Axes>"
      ]
     },
     "metadata": {
      "needs_background": "light"
     },
     "output_type": "display_data"
    }
   ],
   "source": [
    "df['box_office_true'] = df.loc[df['box_office'] > 0, 'box_office'] / 1000000 #столбец с достоверными данными проката, сокращаем значения на 1000000 для удобства чтения графика\n",
    "(\n",
    "    df\n",
    "    .pivot_table(index='show_start_year', values='box_office_true', aggfunc='sum')\n",
    "    .plot(style='-', grid=True) #график общих сборов фильмов по годам\n",
    ")"
   ]
  },
  {
   "cell_type": "markdown",
   "metadata": {},
   "source": [
    "Максимальная сумма сборов наблюдается в 2018 году (около 50 млрд. руб.), минимальная - в 2014 году (около 8 млрд.). Данные о сборах фильмов с 2010 по 2013 год практически полностью отсутствуют. Наблюдается устойчивый рост сумм сборов вплоть до 2019 г."
   ]
  },
  {
   "cell_type": "markdown",
   "metadata": {
    "id": "G-7qS-N-gFyY"
   },
   "source": [
    "- С помощью сводной таблицы посчитаем среднюю и медианную сумму сборов для каждого года."
   ]
  },
  {
   "cell_type": "code",
   "execution_count": 34,
   "metadata": {
    "id": "jmp-rgg9gFyY"
   },
   "outputs": [
    {
     "data": {
      "text/html": [
       "<div>\n",
       "<style scoped>\n",
       "    .dataframe tbody tr th:only-of-type {\n",
       "        vertical-align: middle;\n",
       "    }\n",
       "\n",
       "    .dataframe tbody tr th {\n",
       "        vertical-align: top;\n",
       "    }\n",
       "\n",
       "    .dataframe thead th {\n",
       "        text-align: right;\n",
       "    }\n",
       "</style>\n",
       "<table border=\"1\" class=\"dataframe\">\n",
       "  <thead>\n",
       "    <tr style=\"text-align: right;\">\n",
       "      <th></th>\n",
       "      <th>box_office_true</th>\n",
       "    </tr>\n",
       "    <tr>\n",
       "      <th>show_start_year</th>\n",
       "      <th></th>\n",
       "    </tr>\n",
       "  </thead>\n",
       "  <tbody>\n",
       "    <tr>\n",
       "      <th>2010</th>\n",
       "      <td>0.024046</td>\n",
       "    </tr>\n",
       "    <tr>\n",
       "      <th>2011</th>\n",
       "      <td>0.129383</td>\n",
       "    </tr>\n",
       "    <tr>\n",
       "      <th>2012</th>\n",
       "      <td>0.056548</td>\n",
       "    </tr>\n",
       "    <tr>\n",
       "      <th>2013</th>\n",
       "      <td>0.166479</td>\n",
       "    </tr>\n",
       "    <tr>\n",
       "      <th>2014</th>\n",
       "      <td>27.270886</td>\n",
       "    </tr>\n",
       "    <tr>\n",
       "      <th>2015</th>\n",
       "      <td>85.492132</td>\n",
       "    </tr>\n",
       "    <tr>\n",
       "      <th>2016</th>\n",
       "      <td>91.173904</td>\n",
       "    </tr>\n",
       "    <tr>\n",
       "      <th>2017</th>\n",
       "      <td>136.032793</td>\n",
       "    </tr>\n",
       "    <tr>\n",
       "      <th>2018</th>\n",
       "      <td>104.565059</td>\n",
       "    </tr>\n",
       "    <tr>\n",
       "      <th>2019</th>\n",
       "      <td>91.369261</td>\n",
       "    </tr>\n",
       "  </tbody>\n",
       "</table>\n",
       "</div>"
      ],
      "text/plain": [
       "                 box_office_true\n",
       "show_start_year                 \n",
       "2010                    0.024046\n",
       "2011                    0.129383\n",
       "2012                    0.056548\n",
       "2013                    0.166479\n",
       "2014                   27.270886\n",
       "2015                   85.492132\n",
       "2016                   91.173904\n",
       "2017                  136.032793\n",
       "2018                  104.565059\n",
       "2019                   91.369261"
      ]
     },
     "metadata": {},
     "output_type": "display_data"
    },
    {
     "data": {
      "text/plain": [
       "<AxesSubplot:xlabel='show_start_year'>"
      ]
     },
     "execution_count": 34,
     "metadata": {},
     "output_type": "execute_result"
    },
    {
     "data": {
      "image/png": "[encoded data removed]",
      "text/plain": [
       "<Figure size 432x288 with 1 Axes>"
      ]
     },
     "metadata": {
      "needs_background": "light"
     },
     "output_type": "display_data"
    }
   ],
   "source": [
    "display(df.pivot_table(index='show_start_year', values='box_office_true', aggfunc='mean')) #подсчет средних значений\n",
    "df.pivot_table(index='show_start_year', values='box_office_true', aggfunc='mean').plot(style='o-', grid=True) #построение графика"
   ]
  },
  {
   "cell_type": "markdown",
   "metadata": {},
   "source": [
    "Учитывая недостаток данных о сборах фильмов до 2014 года, имеет смысл рассматривать в первую очередь период с 2014 по 2019 год. \n",
    "Согласно полученным данным, средняя сумма сборов фильмов постепенно росла начиная с 2014 года вплоть до ее пика в 2017, после 2017 года наблюдается существенное снижение (в 2019 году значение практически вернулось к уровню 2016). Примечательно, что согласно графику общих сборов фильмов по годам, наивысшей точкой был 2018, а не 2017 год. Количество фильмов в 2017 году также было минимальным (505) за весь исследуемый период. Следовательно, фильмы 2017 года в среднем были более кассовыми, но и менее многочисленными, чем в 2018 году (891), где ситуация обратная (гораздо больше фильмов, но в среднем, менее успешных). \n",
    "\n",
    "Теперь, перейдем к анализу медианных значений."
   ]
  },
  {
   "cell_type": "code",
   "execution_count": 35,
   "metadata": {},
   "outputs": [
    {
     "data": {
      "text/html": [
       "<div>\n",
       "<style scoped>\n",
       "    .dataframe tbody tr th:only-of-type {\n",
       "        vertical-align: middle;\n",
       "    }\n",
       "\n",
       "    .dataframe tbody tr th {\n",
       "        vertical-align: top;\n",
       "    }\n",
       "\n",
       "    .dataframe thead th {\n",
       "        text-align: right;\n",
       "    }\n",
       "</style>\n",
       "<table border=\"1\" class=\"dataframe\">\n",
       "  <thead>\n",
       "    <tr style=\"text-align: right;\">\n",
       "      <th></th>\n",
       "      <th>box_office_true</th>\n",
       "    </tr>\n",
       "    <tr>\n",
       "      <th>show_start_year</th>\n",
       "      <th></th>\n",
       "    </tr>\n",
       "  </thead>\n",
       "  <tbody>\n",
       "    <tr>\n",
       "      <th>2010</th>\n",
       "      <td>0.001710</td>\n",
       "    </tr>\n",
       "    <tr>\n",
       "      <th>2011</th>\n",
       "      <td>0.003000</td>\n",
       "    </tr>\n",
       "    <tr>\n",
       "      <th>2012</th>\n",
       "      <td>0.006220</td>\n",
       "    </tr>\n",
       "    <tr>\n",
       "      <th>2013</th>\n",
       "      <td>0.003580</td>\n",
       "    </tr>\n",
       "    <tr>\n",
       "      <th>2014</th>\n",
       "      <td>0.020400</td>\n",
       "    </tr>\n",
       "    <tr>\n",
       "      <th>2015</th>\n",
       "      <td>5.003450</td>\n",
       "    </tr>\n",
       "    <tr>\n",
       "      <th>2016</th>\n",
       "      <td>3.915041</td>\n",
       "    </tr>\n",
       "    <tr>\n",
       "      <th>2017</th>\n",
       "      <td>9.968340</td>\n",
       "    </tr>\n",
       "    <tr>\n",
       "      <th>2018</th>\n",
       "      <td>8.891102</td>\n",
       "    </tr>\n",
       "    <tr>\n",
       "      <th>2019</th>\n",
       "      <td>4.627798</td>\n",
       "    </tr>\n",
       "  </tbody>\n",
       "</table>\n",
       "</div>"
      ],
      "text/plain": [
       "                 box_office_true\n",
       "show_start_year                 \n",
       "2010                    0.001710\n",
       "2011                    0.003000\n",
       "2012                    0.006220\n",
       "2013                    0.003580\n",
       "2014                    0.020400\n",
       "2015                    5.003450\n",
       "2016                    3.915041\n",
       "2017                    9.968340\n",
       "2018                    8.891102\n",
       "2019                    4.627798"
      ]
     },
     "metadata": {},
     "output_type": "display_data"
    },
    {
     "data": {
      "text/plain": [
       "<AxesSubplot:xlabel='show_start_year'>"
      ]
     },
     "execution_count": 35,
     "metadata": {},
     "output_type": "execute_result"
    },
    {
     "data": {
      "image/png": "[encoded data removed]",
      "text/plain": [
       "<Figure size 432x288 with 1 Axes>"
      ]
     },
     "metadata": {
      "needs_background": "light"
     },
     "output_type": "display_data"
    }
   ],
   "source": [
    "display(df.pivot_table(index='show_start_year', values='box_office_true', aggfunc='median')) #подсчет медианных значений\n",
    "df.pivot_table(index='show_start_year', values='box_office_true', aggfunc='median').plot(style='o-', grid=True) #построение графика"
   ]
  },
  {
   "cell_type": "markdown",
   "metadata": {},
   "source": [
    "Как и ранее, будем рассматривать в первую очередь период с 2014 по 2019 год. Здесь график несколько отличается от предыдущего: пик все еще приходится на 2017 год, минимум - также на 2014, однако наблюдаются существенные различия в остальных частях графика, не говоря уже об абсолютных значениях. В частности, переход с 2017 на 2018 гораздо плавнее, в то время как падение в 2019 году более резкое, а само значение - ниже уровня 2015 года. Учитывая данные об общих сборах и количестве фильмов, можно сделать вывод о том, что высказанная ранее гипотеза верна: фильмы 2017 года в среднем были более кассовыми (медианное значение 9.96), но и менее многочисленными (505), чем в 2018 году (количество - 891, медианное значение - 8.89). Однако, учитывая весьма скромную разницу в общих сборах за 2017-2018, следует сравнить другую пару: 2016 и 2014. Разница в сборах крайне существенная (более 40 млрд. руб.), при этом число фильмов сопоставимо (2016 - 818, 2014 - 807). Здесь становится очевидным тот факт, что фильмы в 2016 году имели гораздо больший успех в прокате, чем фильмы в 2014. Однако, наблюдается поразительно низкое медианное значение в 2014 году, схожее с 2010-2013 годами, несмотря на то, что данные об общих сборах за 2014 год все же есть, при этом среднее также гораздо больше чем в 2010-2013 году. Поскольку среднее обозначает центр тяжести набора данных, а медиана выделяет самое среднее значение набора данных, можно выдвинуть предположение, что в 2014 году присутствует несколько крупных \"выбросов\", которые маскируют большое количество практически нулевых значений. Следует проверить и эту гипотезу: "
   ]
  },
  {
   "cell_type": "code",
   "execution_count": 36,
   "metadata": {},
   "outputs": [
    {
     "data": {
      "text/html": [
       "<div>\n",
       "<style scoped>\n",
       "    .dataframe tbody tr th:only-of-type {\n",
       "        vertical-align: middle;\n",
       "    }\n",
       "\n",
       "    .dataframe tbody tr th {\n",
       "        vertical-align: top;\n",
       "    }\n",
       "\n",
       "    .dataframe thead th {\n",
       "        text-align: right;\n",
       "    }\n",
       "</style>\n",
       "<table border=\"1\" class=\"dataframe\">\n",
       "  <thead>\n",
       "    <tr style=\"text-align: right;\">\n",
       "      <th></th>\n",
       "      <th>title</th>\n",
       "      <th>puNumber</th>\n",
       "      <th>show_start_date</th>\n",
       "      <th>type</th>\n",
       "      <th>film_studio</th>\n",
       "      <th>production_country</th>\n",
       "      <th>director</th>\n",
       "      <th>producer</th>\n",
       "      <th>age_restriction</th>\n",
       "      <th>refundable_support</th>\n",
       "      <th>...</th>\n",
       "      <th>budget</th>\n",
       "      <th>financing_source</th>\n",
       "      <th>ratings</th>\n",
       "      <th>genres</th>\n",
       "      <th>box_office</th>\n",
       "      <th>show_start_year</th>\n",
       "      <th>main_director</th>\n",
       "      <th>main_genre</th>\n",
       "      <th>sup_to_budget</th>\n",
       "      <th>box_office_true</th>\n",
       "    </tr>\n",
       "  </thead>\n",
       "  <tbody>\n",
       "    <tr>\n",
       "      <th>47</th>\n",
       "      <td>Андрей Рублев.</td>\n",
       "      <td>111029814</td>\n",
       "      <td>2014-12-24 12:00:00+00:00</td>\n",
       "      <td>Художественный</td>\n",
       "      <td>Киностудия \"Мосфильм\"</td>\n",
       "      <td>СССР</td>\n",
       "      <td>А.Тарковский</td>\n",
       "      <td>unknown</td>\n",
       "      <td>«12+» - для детей старше 12 лет</td>\n",
       "      <td>0</td>\n",
       "      <td>...</td>\n",
       "      <td>0</td>\n",
       "      <td>none</td>\n",
       "      <td>8.2</td>\n",
       "      <td>драма,биография,история</td>\n",
       "      <td>22660</td>\n",
       "      <td>2014</td>\n",
       "      <td>А.Тарковский</td>\n",
       "      <td>драма</td>\n",
       "      <td>0.0</td>\n",
       "      <td>0.022660</td>\n",
       "    </tr>\n",
       "    <tr>\n",
       "      <th>96</th>\n",
       "      <td>Дамы приглашают кавалеров</td>\n",
       "      <td>111010414</td>\n",
       "      <td>2014-10-01 12:00:00+00:00</td>\n",
       "      <td>Художественный</td>\n",
       "      <td>Киностудия \"Мосфильм\"</td>\n",
       "      <td>СССР</td>\n",
       "      <td>И.Киасашвили</td>\n",
       "      <td>unknown</td>\n",
       "      <td>«12+» - для детей старше 12 лет</td>\n",
       "      <td>0</td>\n",
       "      <td>...</td>\n",
       "      <td>0</td>\n",
       "      <td>none</td>\n",
       "      <td>7.2</td>\n",
       "      <td>мелодрама,комедия</td>\n",
       "      <td>2260</td>\n",
       "      <td>2014</td>\n",
       "      <td>И.Киасашвили</td>\n",
       "      <td>мелодрама</td>\n",
       "      <td>0.0</td>\n",
       "      <td>0.002260</td>\n",
       "    </tr>\n",
       "    <tr>\n",
       "      <th>152</th>\n",
       "      <td>Жестокость</td>\n",
       "      <td>111011614</td>\n",
       "      <td>2014-10-01 12:00:00+00:00</td>\n",
       "      <td>Художественный</td>\n",
       "      <td>Киностудия \"Мосфильм\"</td>\n",
       "      <td>СССР</td>\n",
       "      <td>В.Скуйбин</td>\n",
       "      <td>unknown</td>\n",
       "      <td>«12+» - для детей старше 12 лет</td>\n",
       "      <td>0</td>\n",
       "      <td>...</td>\n",
       "      <td>0</td>\n",
       "      <td>none</td>\n",
       "      <td>7.1</td>\n",
       "      <td>драма</td>\n",
       "      <td>200</td>\n",
       "      <td>2014</td>\n",
       "      <td>В.Скуйбин</td>\n",
       "      <td>драма</td>\n",
       "      <td>0.0</td>\n",
       "      <td>0.000200</td>\n",
       "    </tr>\n",
       "    <tr>\n",
       "      <th>153</th>\n",
       "      <td>Еще раз про любовь</td>\n",
       "      <td>111011514</td>\n",
       "      <td>2014-10-01 12:00:00+00:00</td>\n",
       "      <td>Художественный</td>\n",
       "      <td>Киностудия \"Мосфильм\"</td>\n",
       "      <td>СССР</td>\n",
       "      <td>Г.Натансон</td>\n",
       "      <td>unknown</td>\n",
       "      <td>«12+» - для детей старше 12 лет</td>\n",
       "      <td>0</td>\n",
       "      <td>...</td>\n",
       "      <td>0</td>\n",
       "      <td>none</td>\n",
       "      <td>8.1</td>\n",
       "      <td>драма,мелодрама</td>\n",
       "      <td>11960</td>\n",
       "      <td>2014</td>\n",
       "      <td>Г.Натансон</td>\n",
       "      <td>драма</td>\n",
       "      <td>0.0</td>\n",
       "      <td>0.011960</td>\n",
       "    </tr>\n",
       "    <tr>\n",
       "      <th>163</th>\n",
       "      <td>Журавушка</td>\n",
       "      <td>111011914</td>\n",
       "      <td>2014-10-01 12:00:00+00:00</td>\n",
       "      <td>Художественный</td>\n",
       "      <td>Киностудия \"Мосфильм\"</td>\n",
       "      <td>СССР</td>\n",
       "      <td>Н.Москаленко</td>\n",
       "      <td>unknown</td>\n",
       "      <td>«12+» - для детей старше 12 лет</td>\n",
       "      <td>0</td>\n",
       "      <td>...</td>\n",
       "      <td>0</td>\n",
       "      <td>none</td>\n",
       "      <td>7.6</td>\n",
       "      <td>драма,мелодрама</td>\n",
       "      <td>165</td>\n",
       "      <td>2014</td>\n",
       "      <td>Н.Москаленко</td>\n",
       "      <td>драма</td>\n",
       "      <td>0.0</td>\n",
       "      <td>0.000165</td>\n",
       "    </tr>\n",
       "    <tr>\n",
       "      <th>...</th>\n",
       "      <td>...</td>\n",
       "      <td>...</td>\n",
       "      <td>...</td>\n",
       "      <td>...</td>\n",
       "      <td>...</td>\n",
       "      <td>...</td>\n",
       "      <td>...</td>\n",
       "      <td>...</td>\n",
       "      <td>...</td>\n",
       "      <td>...</td>\n",
       "      <td>...</td>\n",
       "      <td>...</td>\n",
       "      <td>...</td>\n",
       "      <td>...</td>\n",
       "      <td>...</td>\n",
       "      <td>...</td>\n",
       "      <td>...</td>\n",
       "      <td>...</td>\n",
       "      <td>...</td>\n",
       "      <td>...</td>\n",
       "      <td>...</td>\n",
       "    </tr>\n",
       "    <tr>\n",
       "      <th>2415</th>\n",
       "      <td>Клуб Винкс:Тайна морской бездны</td>\n",
       "      <td>124002514</td>\n",
       "      <td>2014-09-19 12:00:00+00:00</td>\n",
       "      <td>Анимационный</td>\n",
       "      <td>Рэйнбоу</td>\n",
       "      <td>Италия</td>\n",
       "      <td>Инджинио Страффи</td>\n",
       "      <td>Джоани Ли Лайн, Франческо Мастрофини</td>\n",
       "      <td>«0+» - для любой зрительской аудитории</td>\n",
       "      <td>0</td>\n",
       "      <td>...</td>\n",
       "      <td>0</td>\n",
       "      <td>none</td>\n",
       "      <td>3.7</td>\n",
       "      <td>мультфильм,фэнтези,детский</td>\n",
       "      <td>474785</td>\n",
       "      <td>2014</td>\n",
       "      <td>Инджинио Страффи</td>\n",
       "      <td>мультфильм</td>\n",
       "      <td>0.0</td>\n",
       "      <td>0.474785</td>\n",
       "    </tr>\n",
       "    <tr>\n",
       "      <th>2418</th>\n",
       "      <td>Медведи-соседи.</td>\n",
       "      <td>124002414</td>\n",
       "      <td>2014-09-09 12:00:00+00:00</td>\n",
       "      <td>Анимационный</td>\n",
       "      <td>Фатавилд Анимейшн, Ле Вижн Пикчерз</td>\n",
       "      <td>КНР</td>\n",
       "      <td>Динг Лианг, Фуюан Лиу</td>\n",
       "      <td>Мин Ли, Фуьюан Лиу</td>\n",
       "      <td>«0+» - для любой зрительской аудитории</td>\n",
       "      <td>0</td>\n",
       "      <td>...</td>\n",
       "      <td>0</td>\n",
       "      <td>none</td>\n",
       "      <td>4.1</td>\n",
       "      <td>мультфильм,комедия,приключения</td>\n",
       "      <td>414510</td>\n",
       "      <td>2014</td>\n",
       "      <td>Динг Лианг</td>\n",
       "      <td>мультфильм</td>\n",
       "      <td>0.0</td>\n",
       "      <td>0.414510</td>\n",
       "    </tr>\n",
       "    <tr>\n",
       "      <th>2421</th>\n",
       "      <td>Авария - дочь мента</td>\n",
       "      <td>111023814</td>\n",
       "      <td>2014-12-24 12:00:00+00:00</td>\n",
       "      <td>Художественный</td>\n",
       "      <td>Киностудия \"Мосфильм\"</td>\n",
       "      <td>СССР</td>\n",
       "      <td>М.Туманишвили</td>\n",
       "      <td>unknown</td>\n",
       "      <td>«16+» - для детей старше 16 лет</td>\n",
       "      <td>0</td>\n",
       "      <td>...</td>\n",
       "      <td>0</td>\n",
       "      <td>none</td>\n",
       "      <td>7.2</td>\n",
       "      <td>драма</td>\n",
       "      <td>5945</td>\n",
       "      <td>2014</td>\n",
       "      <td>М.Туманишвили</td>\n",
       "      <td>драма</td>\n",
       "      <td>0.0</td>\n",
       "      <td>0.005945</td>\n",
       "    </tr>\n",
       "    <tr>\n",
       "      <th>2434</th>\n",
       "      <td>Звезда_.</td>\n",
       "      <td>111010314</td>\n",
       "      <td>2014-09-25 12:00:00+00:00</td>\n",
       "      <td>Художественный</td>\n",
       "      <td>ООО \"Кинокомпания \"Магнум\"</td>\n",
       "      <td>Россия</td>\n",
       "      <td>А.Меликян</td>\n",
       "      <td>Р.Дишдишян, А.Меликян</td>\n",
       "      <td>«16+» - для детей старше 16 лет</td>\n",
       "      <td>0</td>\n",
       "      <td>...</td>\n",
       "      <td>0</td>\n",
       "      <td>none</td>\n",
       "      <td>7.2</td>\n",
       "      <td>мелодрама,комедия,драма</td>\n",
       "      <td>252820</td>\n",
       "      <td>2014</td>\n",
       "      <td>А.Меликян</td>\n",
       "      <td>мелодрама</td>\n",
       "      <td>0.0</td>\n",
       "      <td>0.252820</td>\n",
       "    </tr>\n",
       "    <tr>\n",
       "      <th>3693</th>\n",
       "      <td>Пассажир из Сан-Франциско</td>\n",
       "      <td>111008014</td>\n",
       "      <td>2014-07-25 12:00:00+00:00</td>\n",
       "      <td>Художественный</td>\n",
       "      <td>ООО \"Аполло-фильм\"</td>\n",
       "      <td>Россия</td>\n",
       "      <td>А.Бальчев</td>\n",
       "      <td>В.Карданов, А.Бальчев</td>\n",
       "      <td>«16+» - для детей старше 16 лет</td>\n",
       "      <td>0</td>\n",
       "      <td>...</td>\n",
       "      <td>0</td>\n",
       "      <td>none</td>\n",
       "      <td>4.2</td>\n",
       "      <td>триллер,мелодрама</td>\n",
       "      <td>239976</td>\n",
       "      <td>2014</td>\n",
       "      <td>А.Бальчев</td>\n",
       "      <td>триллер</td>\n",
       "      <td>0.0</td>\n",
       "      <td>0.239976</td>\n",
       "    </tr>\n",
       "  </tbody>\n",
       "</table>\n",
       "<p>215 rows × 21 columns</p>\n",
       "</div>"
      ],
      "text/plain": [
       "                                title   puNumber           show_start_date  \\\n",
       "47                     Андрей Рублев.  111029814 2014-12-24 12:00:00+00:00   \n",
       "96          Дамы приглашают кавалеров  111010414 2014-10-01 12:00:00+00:00   \n",
       "152                        Жестокость  111011614 2014-10-01 12:00:00+00:00   \n",
       "153                Еще раз про любовь  111011514 2014-10-01 12:00:00+00:00   \n",
       "163                         Журавушка  111011914 2014-10-01 12:00:00+00:00   \n",
       "...                               ...        ...                       ...   \n",
       "2415  Клуб Винкс:Тайна морской бездны  124002514 2014-09-19 12:00:00+00:00   \n",
       "2418                  Медведи-соседи.  124002414 2014-09-09 12:00:00+00:00   \n",
       "2421              Авария - дочь мента  111023814 2014-12-24 12:00:00+00:00   \n",
       "2434                         Звезда_.  111010314 2014-09-25 12:00:00+00:00   \n",
       "3693        Пассажир из Сан-Франциско  111008014 2014-07-25 12:00:00+00:00   \n",
       "\n",
       "                type                         film_studio production_country  \\\n",
       "47    Художественный               Киностудия \"Мосфильм\"               СССР   \n",
       "96    Художественный               Киностудия \"Мосфильм\"               СССР   \n",
       "152   Художественный               Киностудия \"Мосфильм\"               СССР   \n",
       "153   Художественный               Киностудия \"Мосфильм\"               СССР   \n",
       "163   Художественный               Киностудия \"Мосфильм\"               СССР   \n",
       "...              ...                                 ...                ...   \n",
       "2415    Анимационный                             Рэйнбоу             Италия   \n",
       "2418    Анимационный  Фатавилд Анимейшн, Ле Вижн Пикчерз                КНР   \n",
       "2421  Художественный               Киностудия \"Мосфильм\"               СССР   \n",
       "2434  Художественный          ООО \"Кинокомпания \"Магнум\"             Россия   \n",
       "3693  Художественный                  ООО \"Аполло-фильм\"             Россия   \n",
       "\n",
       "                   director                              producer  \\\n",
       "47             А.Тарковский                               unknown   \n",
       "96             И.Киасашвили                               unknown   \n",
       "152               В.Скуйбин                               unknown   \n",
       "153              Г.Натансон                               unknown   \n",
       "163            Н.Москаленко                               unknown   \n",
       "...                     ...                                   ...   \n",
       "2415       Инджинио Страффи  Джоани Ли Лайн, Франческо Мастрофини   \n",
       "2418  Динг Лианг, Фуюан Лиу                    Мин Ли, Фуьюан Лиу   \n",
       "2421          М.Туманишвили                               unknown   \n",
       "2434              А.Меликян                 Р.Дишдишян, А.Меликян   \n",
       "3693              А.Бальчев                 В.Карданов, А.Бальчев   \n",
       "\n",
       "                             age_restriction  refundable_support  ...  budget  \\\n",
       "47           «12+» - для детей старше 12 лет                   0  ...       0   \n",
       "96           «12+» - для детей старше 12 лет                   0  ...       0   \n",
       "152          «12+» - для детей старше 12 лет                   0  ...       0   \n",
       "153          «12+» - для детей старше 12 лет                   0  ...       0   \n",
       "163          «12+» - для детей старше 12 лет                   0  ...       0   \n",
       "...                                      ...                 ...  ...     ...   \n",
       "2415  «0+» - для любой зрительской аудитории                   0  ...       0   \n",
       "2418  «0+» - для любой зрительской аудитории                   0  ...       0   \n",
       "2421         «16+» - для детей старше 16 лет                   0  ...       0   \n",
       "2434         «16+» - для детей старше 16 лет                   0  ...       0   \n",
       "3693         «16+» - для детей старше 16 лет                   0  ...       0   \n",
       "\n",
       "      financing_source ratings                          genres box_office  \\\n",
       "47                none     8.2         драма,биография,история      22660   \n",
       "96                none     7.2               мелодрама,комедия       2260   \n",
       "152               none     7.1                           драма        200   \n",
       "153               none     8.1                 драма,мелодрама      11960   \n",
       "163               none     7.6                 драма,мелодрама        165   \n",
       "...                ...     ...                             ...        ...   \n",
       "2415              none     3.7      мультфильм,фэнтези,детский     474785   \n",
       "2418              none     4.1  мультфильм,комедия,приключения     414510   \n",
       "2421              none     7.2                           драма       5945   \n",
       "2434              none     7.2         мелодрама,комедия,драма     252820   \n",
       "3693              none     4.2               триллер,мелодрама     239976   \n",
       "\n",
       "      show_start_year     main_director  main_genre sup_to_budget  \\\n",
       "47               2014      А.Тарковский       драма           0.0   \n",
       "96               2014      И.Киасашвили   мелодрама           0.0   \n",
       "152              2014         В.Скуйбин       драма           0.0   \n",
       "153              2014        Г.Натансон       драма           0.0   \n",
       "163              2014      Н.Москаленко       драма           0.0   \n",
       "...               ...               ...         ...           ...   \n",
       "2415             2014  Инджинио Страффи  мультфильм           0.0   \n",
       "2418             2014        Динг Лианг  мультфильм           0.0   \n",
       "2421             2014     М.Туманишвили       драма           0.0   \n",
       "2434             2014         А.Меликян   мелодрама           0.0   \n",
       "3693             2014         А.Бальчев     триллер           0.0   \n",
       "\n",
       "      box_office_true  \n",
       "47           0.022660  \n",
       "96           0.002260  \n",
       "152          0.000200  \n",
       "153          0.011960  \n",
       "163          0.000165  \n",
       "...               ...  \n",
       "2415         0.474785  \n",
       "2418         0.414510  \n",
       "2421         0.005945  \n",
       "2434         0.252820  \n",
       "3693         0.239976  \n",
       "\n",
       "[215 rows x 21 columns]"
      ]
     },
     "metadata": {},
     "output_type": "display_data"
    },
    {
     "data": {
      "text/plain": [
       "273"
      ]
     },
     "metadata": {},
     "output_type": "display_data"
    }
   ],
   "source": [
    "display(df.loc[(df['box_office_true'] < 1) & (df['show_start_year'] == 2014)]) #просмотр строк, где сборы фильмов за 2014 год меньше 1 млн руб\n",
    "display(df.loc[(df['box_office_true'] > 0) & (df['show_start_year'] == 2014)].value_counts().sum()) #подсчет числа строк за 2014 год, где бюджет >"
   ]
  },
  {
   "cell_type": "markdown",
   "metadata": {},
   "source": [
    "Действительно, при более детальном изучении было установлено, что в 2014 году при 273 строках с указанным бюджетом, 215 строк имеют сборы существенно меньше 1 млн. руб. Существует возможность, что для этих строк просто были указаны данные в другом формате или валюте, однако, у нас все еще нет достаточных оснований для их замены или преобразования, а потому их следует оставить в текущем виде. Начиная с 2015 года, подобных несостыковок между значениями медианы и среднего не наблюдается, а потому, данные о них можно считать их относительно надежными."
   ]
  },
  {
   "cell_type": "markdown",
   "metadata": {
    "id": "Ok89WFwJgFyZ"
   },
   "source": [
    "- Определим, влияет ли возрастное ограничение аудитории («6+», «12+», «16+», «18+» и т. д.) на сборы фильма в прокате в период с 2015 по 2019 год? Фильмы с каким возрастным ограничением собрали больше всего денег в прокате? Меняется ли картина в зависимости от года?"
   ]
  },
  {
   "cell_type": "code",
   "execution_count": 37,
   "metadata": {},
   "outputs": [
    {
     "data": {
      "image/png": "[encoded data removed]",
      "text/plain": [
       "<Figure size 432x288 with 1 Axes>"
      ]
     },
     "metadata": {
      "needs_background": "light"
     },
     "output_type": "display_data"
    },
    {
     "data": {
      "image/png": "[encoded data removed]",
      "text/plain": [
       "<Figure size 432x288 with 1 Axes>"
      ]
     },
     "metadata": {
      "needs_background": "light"
     },
     "output_type": "display_data"
    },
    {
     "data": {
      "image/png": "[encoded data removed]",
      "text/plain": [
       "<Figure size 432x288 with 1 Axes>"
      ]
     },
     "metadata": {
      "needs_background": "light"
     },
     "output_type": "display_data"
    },
    {
     "data": {
      "image/png": "[encoded data removed]",
      "text/plain": [
       "<Figure size 432x288 with 1 Axes>"
      ]
     },
     "metadata": {
      "needs_background": "light"
     },
     "output_type": "display_data"
    },
    {
     "data": {
      "image/png": "[encoded data removed]",
      "text/plain": [
       "<Figure size 432x288 with 1 Axes>"
      ]
     },
     "metadata": {
      "needs_background": "light"
     },
     "output_type": "display_data"
    }
   ],
   "source": [
    "def age(column): #создание функции для сокращения значений возрастных категорий (до цифр)\n",
    "    column = column.split(\" \")[0]\n",
    "    return column\n",
    "\n",
    "df['age_res_short'] = df['age_restriction'].apply(age) #применение функции\n",
    "for year in [2015, 2016, 2017, 2018, 2019]: #подсчёт сумм сборов фильмов по возрастным категориям за 2015-2019, построение графиков\n",
    "    df.loc[df['show_start_year'] == year].pivot_table(index=['age_res_short','show_start_year'], values='box_office_true', aggfunc='sum').plot(style='o-', grid=True)"
   ]
  },
  {
   "cell_type": "markdown",
   "metadata": {},
   "source": [
    "Согласно полученным данным, наибольшие сборы за представленные годы имеют фильмы с возрастными категориями «16+», «12+», «6+». В зависимости от года, на первом месте по сборам оказываются поочередно именно эти категории. Наименьшие сборы - у фильмов с категориями «0+» и «18+». Однако, суммы сборов категории «0+» в большинстве случаев близки к нулю, что может свидетельствовать об отсутствии данных по суммам сборов фильмов этой категории. Прежде чем делать выводы о причинах такого распределения, следует проверить количество фильмов по всем возрастным категориям."
   ]
  },
  {
   "cell_type": "code",
   "execution_count": 38,
   "metadata": {},
   "outputs": [
    {
     "data": {
      "text/plain": [
       "«16+»    2851\n",
       "«18+»    1605\n",
       "«12+»    1593\n",
       "«0+»      811\n",
       "«6+»      626\n",
       "Name: age_res_short, dtype: int64"
      ]
     },
     "execution_count": 38,
     "metadata": {},
     "output_type": "execute_result"
    }
   ],
   "source": [
    "df['age_res_short'].value_counts() #подсчет значений по всем возрастным категориям"
   ]
  },
  {
   "cell_type": "markdown",
   "metadata": {},
   "source": [
    "Таким образом, одна из самых кассовых категорий («16+») является самой многочисленной по количеству фильмов. В то же время, несмотря на второе место по численности, фильмы категории «18+» находятся на последних местах по сборам. А достаточно успешные в 2015 и 2019 годах фильмы категории «6+» являются самой малочисленной группой. Следовательно, четкой зависимости между количеством фильмов возрастной категории и ее кассовостью - нет. Наиболее вероятной причиной такого распределения сборов фильмов является сама возрастная категория, что весьма логично, ведь чем ниже возрастной рейтинг - тем шире охват аудитории, а, следовательно в перспективе, и выше сборы. К тому же, на фильмы категорий «6+» и «12+» обычно ходят семьями (дети вместе с родителями), что также увеличивает количество проданных билетов, особенно в годы выпуска популярных детских мультфильмов. Практически нулевые сборы фильмов категории «0+» как и было отмечено выше, являются следствием недостатка данных о сборах фильмов данной категории. Также, следует отметить чередования первых и последних мест в зависимости от года. Это может быть обусловлено графиком выхода популярных и ожидаемых фильмов, а также посещаемостью кинотеатров или другими внешними факторами."
   ]
  },
  {
   "cell_type": "markdown",
   "metadata": {
    "id": "l_Kg6Ku4gFya"
   },
   "source": [
    "### Исследование фильмов, которые получили государственную поддержку"
   ]
  },
  {
   "cell_type": "code",
   "execution_count": 39,
   "metadata": {
    "id": "W9QKpjUdgFyb"
   },
   "outputs": [
    {
     "data": {
      "text/plain": [
       "<AxesSubplot:xlabel='show_start_year'>"
      ]
     },
     "execution_count": 39,
     "metadata": {},
     "output_type": "execute_result"
    },
    {
     "data": {
      "image/png": "[encoded data removed]",
      "text/plain": [
       "<Figure size 432x288 with 1 Axes>"
      ]
     },
     "metadata": {
      "needs_background": "light"
     },
     "output_type": "display_data"
    }
   ],
   "source": [
    "df['budget_true'] = df['budget'] / 1000000 #сокращаем значения в столбце budget для удобства чтения графика\n",
    "df.loc[df['budget'] > 0].pivot_table(index='show_start_year', values=['budget_true', 'box_office_true'], aggfunc='mean').plot(style='o-', grid=True) #график средних бюджетов фильмов с гос. поддержкой по годам"
   ]
  },
  {
   "cell_type": "markdown",
   "metadata": {},
   "source": [
    "Согласно представленным графикам, можно сделать вывод о том, что в период с 2013 по 2019 год, бюджеты фильмов, получивших государственную поддержку, превышали суммы сборов. Исключения - 2017 и 2018 годы, когда суммы сборов превысили бюджеты. Однако, фильмы считаются окупившимися лишь в случае, когда сборы превышают бюджет в 1,5-2 раза. Таким образом, можно сказать, что в среднем, лучше всего окупились фильмы с государственной поддержкой, показанные в кинотеатрах в 2017 году. Если же говорить об объемах государственной поддержки, то можно отметить существенный прирост за 2019 год по сравнению с 2014 годом (примерно на 100 млн. руб.). При этом, так же стоит отметить и увеличение средней суммы сборов фильмов в 2019 году по сравнению с 2014 (примерно на 80 млн. руб.)."
   ]
  },
  {
   "cell_type": "code",
   "execution_count": 40,
   "metadata": {},
   "outputs": [
    {
     "data": {
      "text/plain": [
       "<AxesSubplot:xlabel='show_start_year'>"
      ]
     },
     "execution_count": 40,
     "metadata": {},
     "output_type": "execute_result"
    },
    {
     "data": {
      "image/png": "[encoded data removed]",
      "text/plain": [
       "<Figure size 432x288 with 1 Axes>"
      ]
     },
     "metadata": {
      "needs_background": "light"
     },
     "output_type": "display_data"
    }
   ],
   "source": [
    "df.loc[(df['budget'] > 0) & (df['ratings'] > 0)].pivot_table(index='show_start_year', values='ratings', aggfunc='mean').plot(style='o-', grid=True) #график средних рейтингов фильмов с гос. поддержкой по годам"
   ]
  },
  {
   "cell_type": "markdown",
   "metadata": {},
   "source": [
    "Данный график свидетельствует о том, что средний рейтинг фильмов с государственной поддержкой за 2013-2019 годы находится в пределах 5.6 - 6.8 баллов. Самый низкий средний рейтинг - у фильмов, вышедших в 2016 году (около 5.6 баллов), самый высокий - у фильмов вышедших в 2013 году (около 6.8 баллов)."
   ]
  },
  {
   "cell_type": "markdown",
   "metadata": {
    "id": "V2gYwMcPgFyd"
   },
   "source": [
    "### Общий вывод"
   ]
  },
  {
   "cell_type": "markdown",
   "metadata": {
    "id": "AYRg3dzXgFye"
   },
   "source": [
    "В ходе проведенного исследования были проанализированы данные, опубликованные на портале Министерства культуры Российской Федерации. Набор проанализированных данных содержит информацию о прокатных удостоверениях, сборах и государственной поддержке фильмов, а также информацию с сайта КиноПоиск. Цель исследования — изучить рынок российского кинопроката и выявить текущие тренды.\n",
    "\n",
    "В полученных входных данных наблюдался ряд проблем, таких как: пропуски, аномальные значения, несоответствие типов данных содержанию столбцов, дубликаты. Все проблемы были устранены в процессе исследования, а данные — приведены в максимально пригодное для проведения анализа состояние.\n",
    "\n",
    "В результате исследовательского анализа данных было установлено следующее:\n",
    "- Количество фильмов, выходивших в прокат существенно различалось в зависимости от года, при этом отсутствует четкая тенденция (2010 г. - 985, 2019 г. - 930, 2018 г. - 891, 2016 г. - 818, 2014 г. - 807, 2015 г. - 705, 2013 г. - 630, 2011 г. - 622, 2012 г. - 593, 2017 г. - 505).\n",
    "- Доля фильмов с указанными данными о прокате в кинотеатрах составляет около 42%.\n",
    "- Максимальная сумма сборов наблюдается в 2018 году (около 50 млрд. руб.), минимальная - в 2014 году (около 8 млрд.). Данные о сборах фильмов с 2010 по 2013 год практически полностью отсутствуют. Наблюдается устойчивый рост сумм сборов вплоть до 2019 г.\n",
    "- Данные о средних и медианных суммах сборов для каждого года свидетельствуют о том, что наиболее успешными годами являются 2017 и 2018 годы.\n",
    "- Наибольшие сборы за представленные годы имеют фильмы с возрастными категориями «16+», «12+», «6+». В зависимости от года, на первом месте по сборам оказываются поочередно именно эти категории. Наименьшие сборы - у фильмов с категориями «0+» и «18+». Однако, суммы сборов категории «0+» в большинстве случаев близки к нулю, что свидетельствует об отсутствии данных по суммам сборов фильмов этой категории.\n",
    "- Одна из самых кассовых категорий («16+») является самой многочисленной по количеству фильмов. В то же время, несмотря на второе место по численности, фильмы категории «18+» находятся на последних местах по сборам. А достаточно успешные в 2015 и 2019 годах фильмы категории «6+» являются самой малочисленной группой. Следовательно, четкой зависимости между количеством фильмов возрастной категории и ее кассовостью - нет. Наиболее вероятной причиной такого распределения сборов фильмов является сама возрастная категория, ведь чем ниже возрастной рейтинг - тем шире охват аудитории. К тому же, на фильмы категорий «6+» и «12+» обычно ходят семьями (дети вместе с родителями), что также увеличивает количество проданных билетов, особенно в годы выпуска популярных детских мультфильмов. Также, следует отметить чередования первых и последних мест в зависимости от года. Это может быть обусловлено графиком выхода популярных и ожидаемых фильмов, а также посещаемостью кинотеатров или другими внешними факторами.\n",
    "- В период с 2013 по 2019 год, бюджеты фильмов, получивших государственную поддержку, превышали суммы сборов. Исключения - 2017 и 2018 годы, когда суммы сборов превысили бюджеты. Однако, фильмы считаются окупившимися лишь в случае, когда сборы превышают бюджет в 1,5-2 раза. Таким образом, можно сказать, что в среднем, лучше всего окупились фильмы с государственной поддержкой, показанные в кинотеатрах в 2017 году. Если же говорить об объемах государственной поддержки, то можно отметить существенный прирост в 2019 году по сравнению с 2014 годом (примерно на 100 млн. руб.). При этом, так же стоит отметить и увеличение средней суммы сборов фильмов в 2019 году по сравнению с 2014 (примерно на 80 млн. руб.).\n",
    "- Средний рейтинг фильмов с государственной поддержкой за 2013-2019 годы находится в пределах 5.6 - 6.8 баллов. Самый низкий средний рейтинг - у фильмов, вышедших в 2016 году (около 5.6 баллов), самый высокий - у фильмов вышедших в 2013 году (около 6.8 баллов).\n",
    "- В целом, фильмы, получающие государственную поддержку можно охарактеризовать как плохо окупающиеся и имеющие достаточно средние оценки от зрителей.\n",
    "\n",
    "Таким образом, в ходе проведенного исследования все поставленные задачи были выполнены."
   ]
  }
 ],
 "metadata": {
  "ExecuteTimeLog": [
   {
    "duration": 537,
    "start_time": "2021-07-07T10:12:08.634Z"
   },
   {
    "duration": 206,
    "start_time": "2021-07-07T10:12:30.191Z"
   },
   {
    "duration": 227,
    "start_time": "2021-07-07T10:12:33.078Z"
   },
   {
    "duration": 153,
    "start_time": "2021-07-07T10:13:42.146Z"
   },
   {
    "duration": 233,
    "start_time": "2021-07-07T10:30:09.252Z"
   },
   {
    "duration": 19,
    "start_time": "2021-07-07T10:30:15.577Z"
   },
   {
    "duration": 18,
    "start_time": "2021-07-07T10:30:57.348Z"
   },
   {
    "duration": 19,
    "start_time": "2021-07-07T10:31:17.452Z"
   },
   {
    "duration": 21,
    "start_time": "2021-07-07T10:31:32.227Z"
   },
   {
    "duration": 27,
    "start_time": "2021-07-07T10:32:06.588Z"
   },
   {
    "duration": 23,
    "start_time": "2021-07-07T10:32:43.645Z"
   },
   {
    "duration": 24,
    "start_time": "2021-07-07T10:33:06.948Z"
   },
   {
    "duration": 7,
    "start_time": "2021-07-07T10:33:28.558Z"
   },
   {
    "duration": 23,
    "start_time": "2021-07-07T10:33:43.761Z"
   },
   {
    "duration": 28,
    "start_time": "2021-07-07T10:34:13.466Z"
   },
   {
    "duration": 23,
    "start_time": "2021-07-07T10:35:56.187Z"
   },
   {
    "duration": 6,
    "start_time": "2021-07-07T10:36:48.182Z"
   },
   {
    "duration": 14,
    "start_time": "2021-07-07T10:37:49.641Z"
   },
   {
    "duration": 6,
    "start_time": "2021-07-07T10:38:06.694Z"
   },
   {
    "duration": 6,
    "start_time": "2021-07-07T10:38:13.493Z"
   },
   {
    "duration": 19,
    "start_time": "2021-07-07T10:38:44.056Z"
   },
   {
    "duration": 186,
    "start_time": "2021-07-07T10:48:35.618Z"
   },
   {
    "duration": 24,
    "start_time": "2021-07-07T10:48:51.498Z"
   },
   {
    "duration": 20,
    "start_time": "2021-07-07T10:48:59.415Z"
   },
   {
    "duration": 20,
    "start_time": "2021-07-07T10:53:02.195Z"
   },
   {
    "duration": 188,
    "start_time": "2021-07-07T10:54:40.486Z"
   },
   {
    "duration": 115,
    "start_time": "2021-07-07T10:54:52.552Z"
   },
   {
    "duration": 214,
    "start_time": "2021-07-07T10:54:56.354Z"
   },
   {
    "duration": 47,
    "start_time": "2021-07-07T10:54:58.282Z"
   },
   {
    "duration": 217,
    "start_time": "2021-07-07T10:59:16.075Z"
   },
   {
    "duration": 51,
    "start_time": "2021-07-07T10:59:16.243Z"
   },
   {
    "duration": 578,
    "start_time": "2021-07-07T10:59:18.774Z"
   },
   {
    "duration": 161,
    "start_time": "2021-07-07T10:59:21.238Z"
   },
   {
    "duration": 59,
    "start_time": "2021-07-07T10:59:21.453Z"
   },
   {
    "duration": 3,
    "start_time": "2021-07-07T11:02:10.786Z"
   },
   {
    "duration": 13,
    "start_time": "2021-07-07T11:07:07.722Z"
   },
   {
    "duration": 26,
    "start_time": "2021-07-07T11:07:17.958Z"
   },
   {
    "duration": 22,
    "start_time": "2021-07-07T11:08:17.939Z"
   },
   {
    "duration": 212,
    "start_time": "2021-07-07T11:08:19.665Z"
   },
   {
    "duration": 21,
    "start_time": "2021-07-07T11:08:29.945Z"
   },
   {
    "duration": 31,
    "start_time": "2021-07-07T11:08:38.899Z"
   },
   {
    "duration": 23,
    "start_time": "2021-07-07T11:08:54.527Z"
   },
   {
    "duration": 8,
    "start_time": "2021-07-07T11:18:55.974Z"
   },
   {
    "duration": 7,
    "start_time": "2021-07-07T11:19:03.639Z"
   },
   {
    "duration": 7,
    "start_time": "2021-07-07T11:19:06.444Z"
   },
   {
    "duration": 578,
    "start_time": "2021-07-07T12:09:59.576Z"
   },
   {
    "duration": 195,
    "start_time": "2021-07-07T12:10:00.156Z"
   },
   {
    "duration": 115,
    "start_time": "2021-07-07T12:10:00.353Z"
   },
   {
    "duration": 3,
    "start_time": "2021-07-07T12:10:00.470Z"
   },
   {
    "duration": 32,
    "start_time": "2021-07-07T12:10:00.474Z"
   },
   {
    "duration": 23,
    "start_time": "2021-07-07T12:10:00.508Z"
   },
   {
    "duration": 19,
    "start_time": "2021-07-07T12:10:00.533Z"
   },
   {
    "duration": 44,
    "start_time": "2021-07-07T12:10:00.553Z"
   },
   {
    "duration": 7,
    "start_time": "2021-07-07T12:10:00.600Z"
   },
   {
    "duration": 7,
    "start_time": "2021-07-07T12:19:45.761Z"
   },
   {
    "duration": 21,
    "start_time": "2021-07-07T12:21:35.482Z"
   },
   {
    "duration": 21,
    "start_time": "2021-07-07T12:29:23.569Z"
   },
   {
    "duration": 525,
    "start_time": "2021-07-07T12:29:44.542Z"
   },
   {
    "duration": 214,
    "start_time": "2021-07-07T12:29:45.069Z"
   },
   {
    "duration": 92,
    "start_time": "2021-07-07T12:29:45.285Z"
   },
   {
    "duration": 3,
    "start_time": "2021-07-07T12:29:45.379Z"
   },
   {
    "duration": 28,
    "start_time": "2021-07-07T12:29:45.384Z"
   },
   {
    "duration": 23,
    "start_time": "2021-07-07T12:29:45.413Z"
   },
   {
    "duration": 21,
    "start_time": "2021-07-07T12:29:45.437Z"
   },
   {
    "duration": 41,
    "start_time": "2021-07-07T12:29:45.460Z"
   },
   {
    "duration": 7,
    "start_time": "2021-07-07T12:29:45.502Z"
   },
   {
    "duration": 20,
    "start_time": "2021-07-07T12:29:45.511Z"
   },
   {
    "duration": 12,
    "start_time": "2021-07-07T12:34:02.800Z"
   },
   {
    "duration": 7,
    "start_time": "2021-07-07T12:35:10.479Z"
   },
   {
    "duration": 8,
    "start_time": "2021-07-07T12:35:22.440Z"
   },
   {
    "duration": 6,
    "start_time": "2021-07-07T12:35:35.649Z"
   },
   {
    "duration": 6,
    "start_time": "2021-07-07T12:35:43.107Z"
   },
   {
    "duration": 22,
    "start_time": "2021-07-07T12:38:03.029Z"
   },
   {
    "duration": 10,
    "start_time": "2021-07-07T12:38:06.592Z"
   },
   {
    "duration": 563,
    "start_time": "2021-07-07T12:38:46.493Z"
   },
   {
    "duration": 265,
    "start_time": "2021-07-07T12:38:47.058Z"
   },
   {
    "duration": 94,
    "start_time": "2021-07-07T12:38:47.325Z"
   },
   {
    "duration": 3,
    "start_time": "2021-07-07T12:38:47.422Z"
   },
   {
    "duration": 30,
    "start_time": "2021-07-07T12:38:47.427Z"
   },
   {
    "duration": 16,
    "start_time": "2021-07-07T12:38:53.305Z"
   },
   {
    "duration": 10,
    "start_time": "2021-07-07T12:38:53.499Z"
   },
   {
    "duration": 8,
    "start_time": "2021-07-07T12:39:48.161Z"
   },
   {
    "duration": 27,
    "start_time": "2021-07-07T12:41:17.629Z"
   },
   {
    "duration": 17,
    "start_time": "2021-07-07T12:41:17.867Z"
   },
   {
    "duration": 21,
    "start_time": "2021-07-07T12:41:19.310Z"
   },
   {
    "duration": 7,
    "start_time": "2021-07-07T12:41:19.544Z"
   },
   {
    "duration": 20,
    "start_time": "2021-07-07T12:41:20.504Z"
   },
   {
    "duration": 554,
    "start_time": "2021-07-07T12:56:23.696Z"
   },
   {
    "duration": 200,
    "start_time": "2021-07-07T12:56:25.234Z"
   },
   {
    "duration": 119,
    "start_time": "2021-07-07T12:56:25.480Z"
   },
   {
    "duration": 4,
    "start_time": "2021-07-07T12:56:25.762Z"
   },
   {
    "duration": 26,
    "start_time": "2021-07-07T12:56:27.172Z"
   },
   {
    "duration": 12,
    "start_time": "2021-07-07T12:56:29.051Z"
   },
   {
    "duration": 10,
    "start_time": "2021-07-07T12:56:29.291Z"
   },
   {
    "duration": 8,
    "start_time": "2021-07-07T12:56:29.623Z"
   },
   {
    "duration": 28,
    "start_time": "2021-07-07T12:56:32.137Z"
   },
   {
    "duration": 19,
    "start_time": "2021-07-07T12:56:39.785Z"
   },
   {
    "duration": 20,
    "start_time": "2021-07-07T12:56:44.297Z"
   },
   {
    "duration": 7,
    "start_time": "2021-07-07T12:56:45.392Z"
   },
   {
    "duration": 23,
    "start_time": "2021-07-07T12:56:46.615Z"
   },
   {
    "duration": 4,
    "start_time": "2021-07-07T12:57:06.625Z"
   },
   {
    "duration": 32,
    "start_time": "2021-07-07T12:57:36.690Z"
   },
   {
    "duration": 18,
    "start_time": "2021-07-07T12:58:00.149Z"
   },
   {
    "duration": 15,
    "start_time": "2021-07-07T12:59:16.793Z"
   },
   {
    "duration": 7,
    "start_time": "2021-07-07T13:19:22.624Z"
   },
   {
    "duration": 6,
    "start_time": "2021-07-07T14:17:33.527Z"
   },
   {
    "duration": 9,
    "start_time": "2021-07-07T14:17:48.409Z"
   },
   {
    "duration": 8,
    "start_time": "2021-07-07T14:20:13.060Z"
   },
   {
    "duration": 8,
    "start_time": "2021-07-07T14:20:37.957Z"
   },
   {
    "duration": 8,
    "start_time": "2021-07-07T14:20:47.470Z"
   },
   {
    "duration": 9,
    "start_time": "2021-07-07T14:20:54.503Z"
   },
   {
    "duration": 10,
    "start_time": "2021-07-07T14:28:57.763Z"
   },
   {
    "duration": 3,
    "start_time": "2021-07-07T14:30:23.377Z"
   },
   {
    "duration": 3,
    "start_time": "2021-07-07T14:30:36.489Z"
   },
   {
    "duration": 103,
    "start_time": "2021-07-07T14:30:52.351Z"
   },
   {
    "duration": 8,
    "start_time": "2021-07-07T14:30:54.763Z"
   },
   {
    "duration": 8,
    "start_time": "2021-07-07T14:31:29.301Z"
   },
   {
    "duration": 13,
    "start_time": "2021-07-07T14:31:44.516Z"
   },
   {
    "duration": 7,
    "start_time": "2021-07-07T14:33:10.972Z"
   },
   {
    "duration": 11,
    "start_time": "2021-07-07T14:33:27.780Z"
   },
   {
    "duration": 8,
    "start_time": "2021-07-07T14:34:44.588Z"
   },
   {
    "duration": 57,
    "start_time": "2021-07-07T14:35:59.042Z"
   },
   {
    "duration": 3,
    "start_time": "2021-07-07T14:36:28.168Z"
   },
   {
    "duration": 5,
    "start_time": "2021-07-07T14:36:46.254Z"
   },
   {
    "duration": 4,
    "start_time": "2021-07-07T14:36:52.714Z"
   },
   {
    "duration": 3,
    "start_time": "2021-07-07T14:36:56.612Z"
   },
   {
    "duration": 4,
    "start_time": "2021-07-07T14:36:57.049Z"
   },
   {
    "duration": 3,
    "start_time": "2021-07-07T14:39:21.214Z"
   },
   {
    "duration": 7,
    "start_time": "2021-07-07T14:39:52.406Z"
   },
   {
    "duration": 11,
    "start_time": "2021-07-07T14:39:58.576Z"
   },
   {
    "duration": 9,
    "start_time": "2021-07-07T14:40:26.301Z"
   },
   {
    "duration": 10,
    "start_time": "2021-07-07T14:40:31.704Z"
   },
   {
    "duration": 11,
    "start_time": "2021-07-07T14:40:36.249Z"
   },
   {
    "duration": 10,
    "start_time": "2021-07-07T14:40:39.783Z"
   },
   {
    "duration": 9,
    "start_time": "2021-07-07T14:40:48.558Z"
   },
   {
    "duration": 10,
    "start_time": "2021-07-07T14:40:57.143Z"
   },
   {
    "duration": 9,
    "start_time": "2021-07-07T14:41:06.074Z"
   },
   {
    "duration": 4324,
    "start_time": "2021-07-07T14:41:22.004Z"
   },
   {
    "duration": 11,
    "start_time": "2021-07-07T14:41:33.392Z"
   },
   {
    "duration": 9,
    "start_time": "2021-07-07T14:41:39.288Z"
   },
   {
    "duration": 569,
    "start_time": "2021-07-07T14:42:14.387Z"
   },
   {
    "duration": 197,
    "start_time": "2021-07-07T14:42:14.959Z"
   },
   {
    "duration": 84,
    "start_time": "2021-07-07T14:42:16.052Z"
   },
   {
    "duration": 4,
    "start_time": "2021-07-07T14:42:16.900Z"
   },
   {
    "duration": 27,
    "start_time": "2021-07-07T14:42:19.898Z"
   },
   {
    "duration": 12,
    "start_time": "2021-07-07T14:42:21.577Z"
   },
   {
    "duration": 9,
    "start_time": "2021-07-07T14:42:21.813Z"
   },
   {
    "duration": 9,
    "start_time": "2021-07-07T14:42:22.569Z"
   },
   {
    "duration": 29,
    "start_time": "2021-07-07T14:42:25.837Z"
   },
   {
    "duration": 20,
    "start_time": "2021-07-07T14:42:27.003Z"
   },
   {
    "duration": 21,
    "start_time": "2021-07-07T14:42:28.767Z"
   },
   {
    "duration": 7,
    "start_time": "2021-07-07T14:42:29.838Z"
   },
   {
    "duration": 4,
    "start_time": "2021-07-07T14:43:25.493Z"
   },
   {
    "duration": 7,
    "start_time": "2021-07-07T14:43:26.573Z"
   },
   {
    "duration": 10,
    "start_time": "2021-07-07T14:43:31.639Z"
   },
   {
    "duration": 9,
    "start_time": "2021-07-07T14:43:32.046Z"
   },
   {
    "duration": 10,
    "start_time": "2021-07-07T14:43:33.301Z"
   },
   {
    "duration": 12,
    "start_time": "2021-07-07T14:43:33.658Z"
   },
   {
    "duration": 8,
    "start_time": "2021-07-07T14:43:34.552Z"
   },
   {
    "duration": 9,
    "start_time": "2021-07-07T14:43:35.058Z"
   },
   {
    "duration": 12,
    "start_time": "2021-07-07T14:43:35.914Z"
   },
   {
    "duration": 17,
    "start_time": "2021-07-07T14:45:34.368Z"
   },
   {
    "duration": 512,
    "start_time": "2021-07-07T14:51:58.236Z"
   },
   {
    "duration": 223,
    "start_time": "2021-07-07T14:51:58.750Z"
   },
   {
    "duration": 93,
    "start_time": "2021-07-07T14:51:58.977Z"
   },
   {
    "duration": 4,
    "start_time": "2021-07-07T14:51:59.071Z"
   },
   {
    "duration": 37,
    "start_time": "2021-07-07T14:51:59.077Z"
   },
   {
    "duration": 18,
    "start_time": "2021-07-07T14:51:59.116Z"
   },
   {
    "duration": 10,
    "start_time": "2021-07-07T14:51:59.137Z"
   },
   {
    "duration": 8,
    "start_time": "2021-07-07T14:51:59.149Z"
   },
   {
    "duration": 54,
    "start_time": "2021-07-07T14:51:59.158Z"
   },
   {
    "duration": 18,
    "start_time": "2021-07-07T14:51:59.213Z"
   },
   {
    "duration": 22,
    "start_time": "2021-07-07T14:51:59.232Z"
   },
   {
    "duration": 36,
    "start_time": "2021-07-07T14:51:59.255Z"
   },
   {
    "duration": 7,
    "start_time": "2021-07-07T14:51:59.293Z"
   },
   {
    "duration": 10,
    "start_time": "2021-07-07T14:51:59.302Z"
   },
   {
    "duration": 9,
    "start_time": "2021-07-07T14:51:59.313Z"
   },
   {
    "duration": 11,
    "start_time": "2021-07-07T14:51:59.324Z"
   },
   {
    "duration": 8,
    "start_time": "2021-07-07T14:51:59.337Z"
   },
   {
    "duration": 46,
    "start_time": "2021-07-07T14:51:59.347Z"
   },
   {
    "duration": 22,
    "start_time": "2021-07-07T14:51:59.395Z"
   },
   {
    "duration": 24,
    "start_time": "2021-07-07T14:57:32.911Z"
   },
   {
    "duration": 7,
    "start_time": "2021-07-07T14:58:22.070Z"
   },
   {
    "duration": 4,
    "start_time": "2021-07-07T14:59:11.239Z"
   },
   {
    "duration": 25,
    "start_time": "2021-07-07T15:07:22.208Z"
   },
   {
    "duration": 16,
    "start_time": "2021-07-07T15:08:25.560Z"
   },
   {
    "duration": 15,
    "start_time": "2021-07-07T15:08:40.647Z"
   },
   {
    "duration": 14,
    "start_time": "2021-07-07T15:08:46.669Z"
   },
   {
    "duration": 533,
    "start_time": "2021-07-07T15:18:07.440Z"
   },
   {
    "duration": 173,
    "start_time": "2021-07-07T15:18:07.974Z"
   },
   {
    "duration": 84,
    "start_time": "2021-07-07T15:18:08.149Z"
   },
   {
    "duration": 3,
    "start_time": "2021-07-07T15:18:08.235Z"
   },
   {
    "duration": 30,
    "start_time": "2021-07-07T15:18:08.240Z"
   },
   {
    "duration": 22,
    "start_time": "2021-07-07T15:18:08.272Z"
   },
   {
    "duration": 11,
    "start_time": "2021-07-07T15:18:08.295Z"
   },
   {
    "duration": 11,
    "start_time": "2021-07-07T15:18:08.309Z"
   },
   {
    "duration": 40,
    "start_time": "2021-07-07T15:18:08.322Z"
   },
   {
    "duration": 42,
    "start_time": "2021-07-07T15:18:08.364Z"
   },
   {
    "duration": 22,
    "start_time": "2021-07-07T15:18:08.408Z"
   },
   {
    "duration": 5,
    "start_time": "2021-07-07T15:18:08.432Z"
   },
   {
    "duration": 13,
    "start_time": "2021-07-07T15:18:08.439Z"
   },
   {
    "duration": 9,
    "start_time": "2021-07-07T15:18:08.454Z"
   },
   {
    "duration": 32,
    "start_time": "2021-07-07T15:18:08.465Z"
   },
   {
    "duration": 10,
    "start_time": "2021-07-07T15:18:08.501Z"
   },
   {
    "duration": 7,
    "start_time": "2021-07-07T15:18:08.513Z"
   },
   {
    "duration": 11,
    "start_time": "2021-07-07T15:18:08.521Z"
   },
   {
    "duration": 17,
    "start_time": "2021-07-07T15:18:08.534Z"
   },
   {
    "duration": 44,
    "start_time": "2021-07-07T15:18:08.553Z"
   },
   {
    "duration": 22,
    "start_time": "2021-07-07T15:18:08.599Z"
   },
   {
    "duration": 61,
    "start_time": "2021-07-07T15:18:08.622Z"
   },
   {
    "duration": 7,
    "start_time": "2021-07-07T15:18:39.457Z"
   },
   {
    "duration": 5,
    "start_time": "2021-07-07T16:05:17.020Z"
   },
   {
    "duration": 5,
    "start_time": "2021-07-07T16:51:28.794Z"
   },
   {
    "duration": 546,
    "start_time": "2021-07-07T16:52:26.306Z"
   },
   {
    "duration": 203,
    "start_time": "2021-07-07T16:52:27.523Z"
   },
   {
    "duration": 85,
    "start_time": "2021-07-07T16:52:27.736Z"
   },
   {
    "duration": 4,
    "start_time": "2021-07-07T16:52:27.899Z"
   },
   {
    "duration": 25,
    "start_time": "2021-07-07T16:52:28.674Z"
   },
   {
    "duration": 8,
    "start_time": "2021-07-07T16:52:32.956Z"
   },
   {
    "duration": 18,
    "start_time": "2021-07-07T16:52:35.616Z"
   },
   {
    "duration": 6,
    "start_time": "2021-07-07T16:52:36.913Z"
   },
   {
    "duration": 11,
    "start_time": "2021-07-07T16:52:40.258Z"
   },
   {
    "duration": 10,
    "start_time": "2021-07-07T16:52:46.251Z"
   },
   {
    "duration": 8,
    "start_time": "2021-07-07T16:52:47.182Z"
   },
   {
    "duration": 27,
    "start_time": "2021-07-07T16:53:20.391Z"
   },
   {
    "duration": 20,
    "start_time": "2021-07-07T16:53:22.022Z"
   },
   {
    "duration": 23,
    "start_time": "2021-07-07T16:53:23.690Z"
   },
   {
    "duration": 8,
    "start_time": "2021-07-07T16:53:24.261Z"
   },
   {
    "duration": 4,
    "start_time": "2021-07-07T16:53:38.733Z"
   },
   {
    "duration": 7,
    "start_time": "2021-07-07T16:53:40.445Z"
   },
   {
    "duration": 11,
    "start_time": "2021-07-07T16:53:41.348Z"
   },
   {
    "duration": 13,
    "start_time": "2021-07-07T16:53:45.250Z"
   },
   {
    "duration": 12,
    "start_time": "2021-07-07T16:53:45.467Z"
   },
   {
    "duration": 4,
    "start_time": "2021-07-07T16:55:32.704Z"
   },
   {
    "duration": 12,
    "start_time": "2021-07-07T16:55:49.012Z"
   },
   {
    "duration": 18,
    "start_time": "2021-07-07T16:55:49.547Z"
   },
   {
    "duration": 611,
    "start_time": "2021-07-07T16:58:35.156Z"
   },
   {
    "duration": 200,
    "start_time": "2021-07-07T16:58:35.770Z"
   },
   {
    "duration": 86,
    "start_time": "2021-07-07T16:58:35.972Z"
   },
   {
    "duration": 3,
    "start_time": "2021-07-07T16:58:36.060Z"
   },
   {
    "duration": 27,
    "start_time": "2021-07-07T16:58:36.065Z"
   },
   {
    "duration": 8,
    "start_time": "2021-07-07T16:58:36.094Z"
   },
   {
    "duration": 17,
    "start_time": "2021-07-07T16:58:36.103Z"
   },
   {
    "duration": 5,
    "start_time": "2021-07-07T16:58:36.123Z"
   },
   {
    "duration": 11,
    "start_time": "2021-07-07T16:58:36.130Z"
   },
   {
    "duration": 7,
    "start_time": "2021-07-07T16:58:36.143Z"
   },
   {
    "duration": 37,
    "start_time": "2021-07-07T16:58:36.152Z"
   },
   {
    "duration": 27,
    "start_time": "2021-07-07T16:58:36.191Z"
   },
   {
    "duration": 19,
    "start_time": "2021-07-07T16:58:36.219Z"
   },
   {
    "duration": 49,
    "start_time": "2021-07-07T16:58:36.240Z"
   },
   {
    "duration": 6,
    "start_time": "2021-07-07T16:58:36.291Z"
   },
   {
    "duration": 3,
    "start_time": "2021-07-07T16:58:36.299Z"
   },
   {
    "duration": 13,
    "start_time": "2021-07-07T16:58:36.304Z"
   },
   {
    "duration": 10,
    "start_time": "2021-07-07T16:58:36.319Z"
   },
   {
    "duration": 10,
    "start_time": "2021-07-07T16:58:36.331Z"
   },
   {
    "duration": 44,
    "start_time": "2021-07-07T16:58:36.343Z"
   },
   {
    "duration": 4,
    "start_time": "2021-07-07T16:58:36.388Z"
   },
   {
    "duration": 13,
    "start_time": "2021-07-07T16:58:36.394Z"
   },
   {
    "duration": 16,
    "start_time": "2021-07-07T16:58:36.410Z"
   },
   {
    "duration": 8,
    "start_time": "2021-07-07T17:02:31.629Z"
   },
   {
    "duration": 8,
    "start_time": "2021-07-07T17:02:34.308Z"
   },
   {
    "duration": 6,
    "start_time": "2021-07-07T17:05:13.483Z"
   },
   {
    "duration": 17,
    "start_time": "2021-07-07T17:05:20.606Z"
   },
   {
    "duration": 7,
    "start_time": "2021-07-07T17:05:34.638Z"
   },
   {
    "duration": 3,
    "start_time": "2021-07-07T17:06:31.883Z"
   },
   {
    "duration": 570,
    "start_time": "2021-07-07T17:06:37.165Z"
   },
   {
    "duration": 174,
    "start_time": "2021-07-07T17:06:37.737Z"
   },
   {
    "duration": 47,
    "start_time": "2021-07-07T17:06:37.913Z"
   },
   {
    "duration": 3,
    "start_time": "2021-07-07T17:06:37.962Z"
   },
   {
    "duration": 27,
    "start_time": "2021-07-07T17:06:37.967Z"
   },
   {
    "duration": 7,
    "start_time": "2021-07-07T17:06:37.996Z"
   },
   {
    "duration": 16,
    "start_time": "2021-07-07T17:06:38.005Z"
   },
   {
    "duration": 6,
    "start_time": "2021-07-07T17:06:38.024Z"
   },
   {
    "duration": 12,
    "start_time": "2021-07-07T17:06:38.031Z"
   },
   {
    "duration": 41,
    "start_time": "2021-07-07T17:06:38.045Z"
   },
   {
    "duration": 8,
    "start_time": "2021-07-07T17:06:38.088Z"
   },
   {
    "duration": 26,
    "start_time": "2021-07-07T17:06:38.098Z"
   },
   {
    "duration": 17,
    "start_time": "2021-07-07T17:06:38.126Z"
   },
   {
    "duration": 43,
    "start_time": "2021-07-07T17:06:38.144Z"
   },
   {
    "duration": 6,
    "start_time": "2021-07-07T17:06:38.188Z"
   },
   {
    "duration": 5,
    "start_time": "2021-07-07T17:06:38.195Z"
   },
   {
    "duration": 9,
    "start_time": "2021-07-07T17:06:38.201Z"
   },
   {
    "duration": 12,
    "start_time": "2021-07-07T17:06:38.212Z"
   },
   {
    "duration": 11,
    "start_time": "2021-07-07T17:06:38.226Z"
   },
   {
    "duration": 47,
    "start_time": "2021-07-07T17:06:38.239Z"
   },
   {
    "duration": 4,
    "start_time": "2021-07-07T17:06:38.288Z"
   },
   {
    "duration": 13,
    "start_time": "2021-07-07T17:06:38.293Z"
   },
   {
    "duration": 5,
    "start_time": "2021-07-07T17:06:38.309Z"
   },
   {
    "duration": 18,
    "start_time": "2021-07-07T17:06:38.325Z"
   },
   {
    "duration": 20,
    "start_time": "2021-07-07T17:07:02.805Z"
   },
   {
    "duration": 19,
    "start_time": "2021-07-07T17:07:08.527Z"
   },
   {
    "duration": 19,
    "start_time": "2021-07-07T17:07:12.758Z"
   },
   {
    "duration": 22,
    "start_time": "2021-07-07T17:07:17.497Z"
   },
   {
    "duration": 19,
    "start_time": "2021-07-07T17:07:19.645Z"
   },
   {
    "duration": 10,
    "start_time": "2021-07-07T17:07:34.239Z"
   },
   {
    "duration": 17,
    "start_time": "2021-07-07T17:07:54.144Z"
   },
   {
    "duration": 14,
    "start_time": "2021-07-07T17:08:14.357Z"
   },
   {
    "duration": 616,
    "start_time": "2021-07-07T17:08:45.254Z"
   },
   {
    "duration": 178,
    "start_time": "2021-07-07T17:08:45.872Z"
   },
   {
    "duration": 60,
    "start_time": "2021-07-07T17:08:46.054Z"
   },
   {
    "duration": 3,
    "start_time": "2021-07-07T17:08:46.116Z"
   },
   {
    "duration": 26,
    "start_time": "2021-07-07T17:08:46.121Z"
   },
   {
    "duration": 7,
    "start_time": "2021-07-07T17:08:46.149Z"
   },
   {
    "duration": 17,
    "start_time": "2021-07-07T17:08:46.158Z"
   },
   {
    "duration": 14,
    "start_time": "2021-07-07T17:08:46.176Z"
   },
   {
    "duration": 17,
    "start_time": "2021-07-07T17:08:46.193Z"
   },
   {
    "duration": 9,
    "start_time": "2021-07-07T17:08:46.211Z"
   },
   {
    "duration": 21,
    "start_time": "2021-07-07T17:08:46.221Z"
   },
   {
    "duration": 49,
    "start_time": "2021-07-07T17:08:46.244Z"
   },
   {
    "duration": 24,
    "start_time": "2021-07-07T17:08:46.295Z"
   },
   {
    "duration": 22,
    "start_time": "2021-07-07T17:08:46.321Z"
   },
   {
    "duration": 6,
    "start_time": "2021-07-07T17:08:46.345Z"
   },
   {
    "duration": 5,
    "start_time": "2021-07-07T17:08:46.353Z"
   },
   {
    "duration": 13,
    "start_time": "2021-07-07T17:08:46.386Z"
   },
   {
    "duration": 12,
    "start_time": "2021-07-07T17:08:46.402Z"
   },
   {
    "duration": 10,
    "start_time": "2021-07-07T17:08:46.415Z"
   },
   {
    "duration": 7,
    "start_time": "2021-07-07T17:08:46.427Z"
   },
   {
    "duration": 8,
    "start_time": "2021-07-07T17:08:46.435Z"
   },
   {
    "duration": 68,
    "start_time": "2021-07-07T17:08:46.446Z"
   },
   {
    "duration": 13,
    "start_time": "2021-07-07T17:08:46.516Z"
   },
   {
    "duration": 78,
    "start_time": "2021-07-07T17:08:46.530Z"
   },
   {
    "duration": 40,
    "start_time": "2021-07-07T17:09:08.185Z"
   },
   {
    "duration": 16,
    "start_time": "2021-07-07T17:09:19.324Z"
   },
   {
    "duration": 21,
    "start_time": "2021-07-07T17:09:23.290Z"
   },
   {
    "duration": 13,
    "start_time": "2021-07-07T17:09:54.812Z"
   },
   {
    "duration": 13,
    "start_time": "2021-07-07T17:10:02.039Z"
   },
   {
    "duration": 10,
    "start_time": "2021-07-07T17:10:29.632Z"
   },
   {
    "duration": 13,
    "start_time": "2021-07-07T17:10:52.372Z"
   },
   {
    "duration": 13,
    "start_time": "2021-07-07T17:11:17.270Z"
   },
   {
    "duration": 13,
    "start_time": "2021-07-07T17:14:59.284Z"
   },
   {
    "duration": 547,
    "start_time": "2021-07-07T17:18:52.403Z"
   },
   {
    "duration": 163,
    "start_time": "2021-07-07T17:18:52.952Z"
   },
   {
    "duration": 44,
    "start_time": "2021-07-07T17:18:53.117Z"
   },
   {
    "duration": 3,
    "start_time": "2021-07-07T17:18:53.162Z"
   },
   {
    "duration": 26,
    "start_time": "2021-07-07T17:18:53.167Z"
   },
   {
    "duration": 6,
    "start_time": "2021-07-07T17:18:53.195Z"
   },
   {
    "duration": 15,
    "start_time": "2021-07-07T17:18:53.203Z"
   },
   {
    "duration": 5,
    "start_time": "2021-07-07T17:18:53.220Z"
   },
   {
    "duration": 11,
    "start_time": "2021-07-07T17:18:53.228Z"
   },
   {
    "duration": 9,
    "start_time": "2021-07-07T17:18:53.241Z"
   },
   {
    "duration": 41,
    "start_time": "2021-07-07T17:18:53.252Z"
   },
   {
    "duration": 33,
    "start_time": "2021-07-07T17:18:53.295Z"
   },
   {
    "duration": 19,
    "start_time": "2021-07-07T17:18:53.330Z"
   },
   {
    "duration": 49,
    "start_time": "2021-07-07T17:18:53.350Z"
   },
   {
    "duration": 5,
    "start_time": "2021-07-07T17:18:53.401Z"
   },
   {
    "duration": 5,
    "start_time": "2021-07-07T17:18:53.408Z"
   },
   {
    "duration": 11,
    "start_time": "2021-07-07T17:18:53.414Z"
   },
   {
    "duration": 9,
    "start_time": "2021-07-07T17:18:53.427Z"
   },
   {
    "duration": 10,
    "start_time": "2021-07-07T17:18:53.437Z"
   },
   {
    "duration": 39,
    "start_time": "2021-07-07T17:18:53.448Z"
   },
   {
    "duration": 26,
    "start_time": "2021-07-07T17:18:55.799Z"
   },
   {
    "duration": 598,
    "start_time": "2021-07-07T17:20:17.862Z"
   },
   {
    "duration": 161,
    "start_time": "2021-07-07T17:20:18.462Z"
   },
   {
    "duration": 45,
    "start_time": "2021-07-07T17:20:18.626Z"
   },
   {
    "duration": 4,
    "start_time": "2021-07-07T17:20:18.673Z"
   },
   {
    "duration": 38,
    "start_time": "2021-07-07T17:20:26.877Z"
   },
   {
    "duration": 7,
    "start_time": "2021-07-07T17:20:37.405Z"
   },
   {
    "duration": 19,
    "start_time": "2021-07-07T17:20:51.534Z"
   },
   {
    "duration": 5,
    "start_time": "2021-07-07T17:20:57.228Z"
   },
   {
    "duration": 7,
    "start_time": "2021-07-07T17:21:08.235Z"
   },
   {
    "duration": 19,
    "start_time": "2021-07-07T17:21:42.158Z"
   },
   {
    "duration": 14,
    "start_time": "2021-07-07T17:21:50.225Z"
   },
   {
    "duration": 22,
    "start_time": "2021-07-07T17:22:54.104Z"
   },
   {
    "duration": 5,
    "start_time": "2021-07-07T17:22:56.371Z"
   },
   {
    "duration": 14,
    "start_time": "2021-07-07T17:22:58.316Z"
   },
   {
    "duration": 5,
    "start_time": "2021-07-07T17:22:58.493Z"
   },
   {
    "duration": 35,
    "start_time": "2021-07-07T17:22:59.666Z"
   },
   {
    "duration": 6,
    "start_time": "2021-07-07T17:23:02.410Z"
   },
   {
    "duration": 611,
    "start_time": "2021-07-07T17:24:59.664Z"
   },
   {
    "duration": 178,
    "start_time": "2021-07-07T17:25:01.945Z"
   },
   {
    "duration": 47,
    "start_time": "2021-07-07T17:25:02.125Z"
   },
   {
    "duration": 2,
    "start_time": "2021-07-07T17:25:07.903Z"
   },
   {
    "duration": 254,
    "start_time": "2021-07-07T17:25:08.232Z"
   },
   {
    "duration": 182,
    "start_time": "2021-07-07T17:25:08.671Z"
   },
   {
    "duration": 6,
    "start_time": "2021-07-07T17:25:13.104Z"
   },
   {
    "duration": 36,
    "start_time": "2021-07-07T17:25:13.662Z"
   },
   {
    "duration": 7,
    "start_time": "2021-07-07T17:25:14.528Z"
   },
   {
    "duration": 24,
    "start_time": "2021-07-07T17:25:27.982Z"
   },
   {
    "duration": 3,
    "start_time": "2021-07-07T17:25:48.982Z"
   },
   {
    "duration": 165,
    "start_time": "2021-07-07T17:25:48.987Z"
   },
   {
    "duration": 50,
    "start_time": "2021-07-07T17:25:49.154Z"
   },
   {
    "duration": 4,
    "start_time": "2021-07-07T17:25:49.206Z"
   },
   {
    "duration": 26,
    "start_time": "2021-07-07T17:25:49.212Z"
   },
   {
    "duration": 7,
    "start_time": "2021-07-07T17:25:49.240Z"
   },
   {
    "duration": 16,
    "start_time": "2021-07-07T17:25:49.249Z"
   },
   {
    "duration": 22,
    "start_time": "2021-07-07T17:25:49.266Z"
   },
   {
    "duration": 16,
    "start_time": "2021-07-07T17:25:49.291Z"
   },
   {
    "duration": 9,
    "start_time": "2021-07-07T17:25:49.309Z"
   },
   {
    "duration": 7,
    "start_time": "2021-07-07T17:25:49.319Z"
   },
   {
    "duration": 28,
    "start_time": "2021-07-07T17:25:49.328Z"
   },
   {
    "duration": 44,
    "start_time": "2021-07-07T17:25:49.357Z"
   },
   {
    "duration": 22,
    "start_time": "2021-07-07T17:25:49.403Z"
   },
   {
    "duration": 7,
    "start_time": "2021-07-07T17:25:49.427Z"
   },
   {
    "duration": 3,
    "start_time": "2021-07-07T17:25:49.436Z"
   },
   {
    "duration": 44,
    "start_time": "2021-07-07T17:25:49.441Z"
   },
   {
    "duration": 12,
    "start_time": "2021-07-07T17:25:49.488Z"
   },
   {
    "duration": 13,
    "start_time": "2021-07-07T17:25:49.502Z"
   },
   {
    "duration": 10,
    "start_time": "2021-07-07T17:25:49.516Z"
   },
   {
    "duration": 62,
    "start_time": "2021-07-07T17:25:49.527Z"
   },
   {
    "duration": 26,
    "start_time": "2021-07-07T17:26:51.809Z"
   },
   {
    "duration": 26,
    "start_time": "2021-07-07T17:26:55.759Z"
   },
   {
    "duration": 26,
    "start_time": "2021-07-07T17:27:04.501Z"
   },
   {
    "duration": 25,
    "start_time": "2021-07-07T17:28:24.859Z"
   },
   {
    "duration": 21,
    "start_time": "2021-07-07T17:28:55.250Z"
   },
   {
    "duration": 21,
    "start_time": "2021-07-07T17:28:58.885Z"
   },
   {
    "duration": 7,
    "start_time": "2021-07-07T17:45:40.972Z"
   },
   {
    "duration": 13,
    "start_time": "2021-07-07T17:45:42.529Z"
   },
   {
    "duration": 27,
    "start_time": "2021-07-07T17:45:51.026Z"
   },
   {
    "duration": 518,
    "start_time": "2021-07-07T17:46:15.532Z"
   },
   {
    "duration": 235,
    "start_time": "2021-07-07T17:46:16.053Z"
   },
   {
    "duration": 80,
    "start_time": "2021-07-07T17:46:16.292Z"
   },
   {
    "duration": 5,
    "start_time": "2021-07-07T17:46:16.373Z"
   },
   {
    "duration": 26,
    "start_time": "2021-07-07T17:46:16.380Z"
   },
   {
    "duration": 7,
    "start_time": "2021-07-07T17:46:16.408Z"
   },
   {
    "duration": 16,
    "start_time": "2021-07-07T17:46:16.418Z"
   },
   {
    "duration": 5,
    "start_time": "2021-07-07T17:46:16.436Z"
   },
   {
    "duration": 13,
    "start_time": "2021-07-07T17:46:16.442Z"
   },
   {
    "duration": 35,
    "start_time": "2021-07-07T17:46:16.456Z"
   },
   {
    "duration": 8,
    "start_time": "2021-07-07T17:46:16.493Z"
   },
   {
    "duration": 28,
    "start_time": "2021-07-07T17:46:16.502Z"
   },
   {
    "duration": 17,
    "start_time": "2021-07-07T17:46:16.532Z"
   },
   {
    "duration": 44,
    "start_time": "2021-07-07T17:46:16.551Z"
   },
   {
    "duration": 6,
    "start_time": "2021-07-07T17:46:16.597Z"
   },
   {
    "duration": 4,
    "start_time": "2021-07-07T17:46:16.605Z"
   },
   {
    "duration": 9,
    "start_time": "2021-07-07T17:46:16.610Z"
   },
   {
    "duration": 9,
    "start_time": "2021-07-07T17:46:16.621Z"
   },
   {
    "duration": 10,
    "start_time": "2021-07-07T17:46:16.632Z"
   },
   {
    "duration": 43,
    "start_time": "2021-07-07T17:46:16.644Z"
   },
   {
    "duration": 26,
    "start_time": "2021-07-07T17:46:16.689Z"
   },
   {
    "duration": 19,
    "start_time": "2021-07-07T17:46:16.718Z"
   },
   {
    "duration": 8,
    "start_time": "2021-07-07T17:46:16.738Z"
   },
   {
    "duration": 43,
    "start_time": "2021-07-07T17:46:16.747Z"
   },
   {
    "duration": 19,
    "start_time": "2021-07-07T17:46:16.791Z"
   },
   {
    "duration": 9,
    "start_time": "2021-07-07T17:46:16.812Z"
   },
   {
    "duration": 60,
    "start_time": "2021-07-07T17:46:16.822Z"
   },
   {
    "duration": -8,
    "start_time": "2021-07-07T17:46:16.892Z"
   },
   {
    "duration": 12,
    "start_time": "2021-07-07T17:48:47.707Z"
   },
   {
    "duration": 553,
    "start_time": "2021-07-07T18:10:09.350Z"
   },
   {
    "duration": 230,
    "start_time": "2021-07-07T18:10:09.905Z"
   },
   {
    "duration": 97,
    "start_time": "2021-07-07T18:10:10.137Z"
   },
   {
    "duration": 5,
    "start_time": "2021-07-07T18:10:10.236Z"
   },
   {
    "duration": 29,
    "start_time": "2021-07-07T18:10:10.242Z"
   },
   {
    "duration": 7,
    "start_time": "2021-07-07T18:10:10.272Z"
   },
   {
    "duration": 15,
    "start_time": "2021-07-07T18:10:10.281Z"
   },
   {
    "duration": 4,
    "start_time": "2021-07-07T18:10:10.299Z"
   },
   {
    "duration": 14,
    "start_time": "2021-07-07T18:10:10.305Z"
   },
   {
    "duration": 8,
    "start_time": "2021-07-07T18:10:10.321Z"
   },
   {
    "duration": 8,
    "start_time": "2021-07-07T18:10:10.331Z"
   },
   {
    "duration": 56,
    "start_time": "2021-07-07T18:10:10.341Z"
   },
   {
    "duration": 19,
    "start_time": "2021-07-07T18:10:10.399Z"
   },
   {
    "duration": 23,
    "start_time": "2021-07-07T18:10:10.419Z"
   },
   {
    "duration": 6,
    "start_time": "2021-07-07T18:10:10.444Z"
   },
   {
    "duration": 9,
    "start_time": "2021-07-07T18:10:10.451Z"
   },
   {
    "duration": 30,
    "start_time": "2021-07-07T18:10:10.462Z"
   },
   {
    "duration": 9,
    "start_time": "2021-07-07T18:10:10.494Z"
   },
   {
    "duration": 14,
    "start_time": "2021-07-07T18:10:10.505Z"
   },
   {
    "duration": 7,
    "start_time": "2021-07-07T18:10:10.521Z"
   },
   {
    "duration": 26,
    "start_time": "2021-07-07T18:10:10.530Z"
   },
   {
    "duration": 44,
    "start_time": "2021-07-07T18:10:10.558Z"
   },
   {
    "duration": 7,
    "start_time": "2021-07-07T18:10:10.605Z"
   },
   {
    "duration": 11,
    "start_time": "2021-07-07T18:10:10.614Z"
   },
   {
    "duration": 19,
    "start_time": "2021-07-07T18:10:10.626Z"
   },
   {
    "duration": 44,
    "start_time": "2021-07-07T18:10:10.646Z"
   },
   {
    "duration": 516,
    "start_time": "2021-07-07T18:14:00.826Z"
   },
   {
    "duration": 230,
    "start_time": "2021-07-07T18:14:01.344Z"
   },
   {
    "duration": 105,
    "start_time": "2021-07-07T18:14:01.576Z"
   },
   {
    "duration": 5,
    "start_time": "2021-07-07T18:14:01.683Z"
   },
   {
    "duration": 46,
    "start_time": "2021-07-07T18:14:01.690Z"
   },
   {
    "duration": 7,
    "start_time": "2021-07-07T18:14:01.738Z"
   },
   {
    "duration": 20,
    "start_time": "2021-07-07T18:14:01.747Z"
   },
   {
    "duration": 16,
    "start_time": "2021-07-07T18:14:01.769Z"
   },
   {
    "duration": 14,
    "start_time": "2021-07-07T18:14:01.787Z"
   },
   {
    "duration": 15,
    "start_time": "2021-07-07T18:14:01.803Z"
   },
   {
    "duration": 12,
    "start_time": "2021-07-07T18:14:01.820Z"
   },
   {
    "duration": 35,
    "start_time": "2021-07-07T18:14:01.833Z"
   },
   {
    "duration": 31,
    "start_time": "2021-07-07T18:14:01.869Z"
   },
   {
    "duration": 37,
    "start_time": "2021-07-07T18:14:01.902Z"
   },
   {
    "duration": 8,
    "start_time": "2021-07-07T18:14:01.942Z"
   },
   {
    "duration": 16,
    "start_time": "2021-07-07T18:14:01.952Z"
   },
   {
    "duration": 13,
    "start_time": "2021-07-07T18:14:01.970Z"
   },
   {
    "duration": 32,
    "start_time": "2021-07-07T18:14:01.985Z"
   },
   {
    "duration": 11,
    "start_time": "2021-07-07T18:14:02.019Z"
   },
   {
    "duration": 22,
    "start_time": "2021-07-07T18:14:02.031Z"
   },
   {
    "duration": 27,
    "start_time": "2021-07-07T18:14:02.055Z"
   },
   {
    "duration": 18,
    "start_time": "2021-07-07T18:14:02.084Z"
   },
   {
    "duration": 18,
    "start_time": "2021-07-07T18:14:02.106Z"
   },
   {
    "duration": 11,
    "start_time": "2021-07-07T18:14:02.126Z"
   },
   {
    "duration": 21,
    "start_time": "2021-07-07T18:14:02.138Z"
   },
   {
    "duration": 32,
    "start_time": "2021-07-07T18:14:02.161Z"
   },
   {
    "duration": 28,
    "start_time": "2021-07-07T18:14:44.295Z"
   },
   {
    "duration": 6,
    "start_time": "2021-07-07T18:15:05.834Z"
   },
   {
    "duration": 511,
    "start_time": "2021-07-07T18:15:41.541Z"
   },
   {
    "duration": 183,
    "start_time": "2021-07-07T18:15:42.054Z"
   },
   {
    "duration": 50,
    "start_time": "2021-07-07T18:15:42.239Z"
   },
   {
    "duration": 5,
    "start_time": "2021-07-07T18:15:42.291Z"
   },
   {
    "duration": 48,
    "start_time": "2021-07-07T18:15:42.297Z"
   },
   {
    "duration": 8,
    "start_time": "2021-07-07T18:15:42.346Z"
   },
   {
    "duration": 17,
    "start_time": "2021-07-07T18:15:42.356Z"
   },
   {
    "duration": 15,
    "start_time": "2021-07-07T18:15:42.375Z"
   },
   {
    "duration": 12,
    "start_time": "2021-07-07T18:15:42.392Z"
   },
   {
    "duration": 7,
    "start_time": "2021-07-07T18:15:42.406Z"
   },
   {
    "duration": 7,
    "start_time": "2021-07-07T18:15:42.415Z"
   },
   {
    "duration": 29,
    "start_time": "2021-07-07T18:15:42.423Z"
   },
   {
    "duration": 43,
    "start_time": "2021-07-07T18:15:42.453Z"
   },
   {
    "duration": 18,
    "start_time": "2021-07-07T18:15:42.497Z"
   },
   {
    "duration": 6,
    "start_time": "2021-07-07T18:15:42.516Z"
   },
   {
    "duration": 3,
    "start_time": "2021-07-07T18:15:42.523Z"
   },
   {
    "duration": 18,
    "start_time": "2021-07-07T18:15:42.528Z"
   },
   {
    "duration": 10,
    "start_time": "2021-07-07T18:15:42.547Z"
   },
   {
    "duration": 36,
    "start_time": "2021-07-07T18:15:42.559Z"
   },
   {
    "duration": 8,
    "start_time": "2021-07-07T18:15:42.597Z"
   },
   {
    "duration": 28,
    "start_time": "2021-07-07T18:15:42.606Z"
   },
   {
    "duration": 52,
    "start_time": "2021-07-07T18:15:42.635Z"
   },
   {
    "duration": 7,
    "start_time": "2021-07-07T18:15:42.690Z"
   },
   {
    "duration": 10,
    "start_time": "2021-07-07T18:15:42.699Z"
   },
   {
    "duration": 19,
    "start_time": "2021-07-07T18:15:42.711Z"
   },
   {
    "duration": 9,
    "start_time": "2021-07-07T18:15:42.732Z"
   },
   {
    "duration": 5,
    "start_time": "2021-07-07T18:15:42.743Z"
   },
   {
    "duration": 1450,
    "start_time": "2021-07-07T18:15:51.984Z"
   },
   {
    "duration": 161,
    "start_time": "2021-07-07T18:15:53.435Z"
   },
   {
    "duration": 124,
    "start_time": "2021-07-07T18:15:53.598Z"
   },
   {
    "duration": 5,
    "start_time": "2021-07-07T18:15:53.724Z"
   },
   {
    "duration": 34,
    "start_time": "2021-07-07T18:15:53.730Z"
   },
   {
    "duration": 7,
    "start_time": "2021-07-07T18:15:53.765Z"
   },
   {
    "duration": 15,
    "start_time": "2021-07-07T18:15:53.773Z"
   },
   {
    "duration": 5,
    "start_time": "2021-07-07T18:15:53.791Z"
   },
   {
    "duration": 19,
    "start_time": "2021-07-07T18:15:53.798Z"
   },
   {
    "duration": 9,
    "start_time": "2021-07-07T18:15:53.818Z"
   },
   {
    "duration": 19,
    "start_time": "2021-07-07T18:15:53.828Z"
   },
   {
    "duration": 27,
    "start_time": "2021-07-07T18:15:53.848Z"
   },
   {
    "duration": 16,
    "start_time": "2021-07-07T18:15:53.884Z"
   },
   {
    "duration": 29,
    "start_time": "2021-07-07T18:15:53.901Z"
   },
   {
    "duration": 5,
    "start_time": "2021-07-07T18:15:53.932Z"
   },
   {
    "duration": 15,
    "start_time": "2021-07-07T18:15:53.939Z"
   },
   {
    "duration": 13,
    "start_time": "2021-07-07T18:15:53.956Z"
   },
   {
    "duration": 20,
    "start_time": "2021-07-07T18:15:53.971Z"
   },
   {
    "duration": 14,
    "start_time": "2021-07-07T18:15:53.992Z"
   },
   {
    "duration": 9,
    "start_time": "2021-07-07T18:15:54.009Z"
   },
   {
    "duration": 28,
    "start_time": "2021-07-07T18:15:54.020Z"
   },
   {
    "duration": 50,
    "start_time": "2021-07-07T18:15:54.051Z"
   },
   {
    "duration": 8,
    "start_time": "2021-07-07T18:15:54.105Z"
   },
   {
    "duration": 11,
    "start_time": "2021-07-07T18:15:54.115Z"
   },
   {
    "duration": 20,
    "start_time": "2021-07-07T18:15:54.128Z"
   },
   {
    "duration": 13,
    "start_time": "2021-07-07T18:15:54.184Z"
   },
   {
    "duration": 7,
    "start_time": "2021-07-07T18:15:54.199Z"
   },
   {
    "duration": 7,
    "start_time": "2021-07-07T18:17:08.042Z"
   },
   {
    "duration": 8,
    "start_time": "2021-07-07T18:17:21.008Z"
   },
   {
    "duration": 7,
    "start_time": "2021-07-07T18:17:29.003Z"
   },
   {
    "duration": 8,
    "start_time": "2021-07-07T18:17:32.492Z"
   },
   {
    "duration": 9,
    "start_time": "2021-07-07T18:17:41.758Z"
   },
   {
    "duration": 255,
    "start_time": "2021-07-07T18:20:20.897Z"
   },
   {
    "duration": 173,
    "start_time": "2021-07-07T18:20:26.636Z"
   },
   {
    "duration": 7,
    "start_time": "2021-07-07T18:21:47.164Z"
   },
   {
    "duration": 254,
    "start_time": "2021-07-07T18:23:08.703Z"
   },
   {
    "duration": 21,
    "start_time": "2021-07-07T18:23:22.506Z"
   },
   {
    "duration": 315,
    "start_time": "2021-07-07T18:25:54.801Z"
   },
   {
    "duration": 34,
    "start_time": "2021-07-07T18:26:51.817Z"
   },
   {
    "duration": 327,
    "start_time": "2021-07-07T18:26:56.147Z"
   },
   {
    "duration": 342,
    "start_time": "2021-07-07T18:27:15.887Z"
   },
   {
    "duration": 302,
    "start_time": "2021-07-07T18:28:18.569Z"
   },
   {
    "duration": 226,
    "start_time": "2021-07-07T18:29:20.879Z"
   },
   {
    "duration": 207,
    "start_time": "2021-07-07T18:29:58.114Z"
   },
   {
    "duration": 140,
    "start_time": "2021-07-07T18:32:04.372Z"
   },
   {
    "duration": 158,
    "start_time": "2021-07-07T18:32:32.508Z"
   },
   {
    "duration": 145,
    "start_time": "2021-07-07T18:32:41.365Z"
   },
   {
    "duration": 132,
    "start_time": "2021-07-07T18:32:45.199Z"
   },
   {
    "duration": 11,
    "start_time": "2021-07-07T18:35:24.679Z"
   },
   {
    "duration": 268,
    "start_time": "2021-07-07T18:36:16.145Z"
   },
   {
    "duration": 227,
    "start_time": "2021-07-07T18:37:04.918Z"
   },
   {
    "duration": 3,
    "start_time": "2021-07-07T18:37:33.012Z"
   },
   {
    "duration": 671,
    "start_time": "2021-07-07T18:37:38.295Z"
   },
   {
    "duration": 54,
    "start_time": "2021-07-07T18:37:53.406Z"
   },
   {
    "duration": 631,
    "start_time": "2021-07-07T18:37:56.463Z"
   },
   {
    "duration": 19,
    "start_time": "2021-07-07T18:39:40.535Z"
   },
   {
    "duration": 20,
    "start_time": "2021-07-07T18:40:12.236Z"
   },
   {
    "duration": 633,
    "start_time": "2021-07-07T18:42:00.398Z"
   },
   {
    "duration": 218,
    "start_time": "2021-07-07T18:42:01.033Z"
   },
   {
    "duration": 49,
    "start_time": "2021-07-07T18:42:01.253Z"
   },
   {
    "duration": 5,
    "start_time": "2021-07-07T18:42:01.303Z"
   },
   {
    "duration": 27,
    "start_time": "2021-07-07T18:42:01.310Z"
   },
   {
    "duration": 8,
    "start_time": "2021-07-07T18:42:01.339Z"
   },
   {
    "duration": 20,
    "start_time": "2021-07-07T18:42:01.348Z"
   },
   {
    "duration": 6,
    "start_time": "2021-07-07T18:42:01.386Z"
   },
   {
    "duration": 16,
    "start_time": "2021-07-07T18:42:01.394Z"
   },
   {
    "duration": 9,
    "start_time": "2021-07-07T18:42:01.411Z"
   },
   {
    "duration": 11,
    "start_time": "2021-07-07T18:42:01.421Z"
   },
   {
    "duration": 31,
    "start_time": "2021-07-07T18:42:01.434Z"
   },
   {
    "duration": 18,
    "start_time": "2021-07-07T18:42:01.485Z"
   },
   {
    "duration": 23,
    "start_time": "2021-07-07T18:42:01.505Z"
   },
   {
    "duration": 6,
    "start_time": "2021-07-07T18:42:01.530Z"
   },
   {
    "duration": 10,
    "start_time": "2021-07-07T18:42:01.538Z"
   },
   {
    "duration": 13,
    "start_time": "2021-07-07T18:42:01.550Z"
   },
   {
    "duration": 24,
    "start_time": "2021-07-07T18:42:01.564Z"
   },
   {
    "duration": 20,
    "start_time": "2021-07-07T18:42:01.590Z"
   },
   {
    "duration": 8,
    "start_time": "2021-07-07T18:42:01.611Z"
   },
   {
    "duration": 31,
    "start_time": "2021-07-07T18:42:01.620Z"
   },
   {
    "duration": 39,
    "start_time": "2021-07-07T18:42:01.653Z"
   },
   {
    "duration": 8,
    "start_time": "2021-07-07T18:42:01.696Z"
   },
   {
    "duration": 13,
    "start_time": "2021-07-07T18:42:01.705Z"
   },
   {
    "duration": 20,
    "start_time": "2021-07-07T18:42:01.720Z"
   },
   {
    "duration": 12,
    "start_time": "2021-07-07T18:42:01.741Z"
   },
   {
    "duration": 35,
    "start_time": "2021-07-07T18:42:01.755Z"
   },
   {
    "duration": 14,
    "start_time": "2021-07-07T18:42:01.792Z"
   },
   {
    "duration": 188,
    "start_time": "2021-07-07T18:42:01.808Z"
   },
   {
    "duration": 19,
    "start_time": "2021-07-07T18:42:01.998Z"
   },
   {
    "duration": 175,
    "start_time": "2021-07-07T18:42:02.019Z"
   },
   {
    "duration": 134,
    "start_time": "2021-07-07T18:42:02.196Z"
   },
   {
    "duration": 10,
    "start_time": "2021-07-07T18:42:02.331Z"
   },
   {
    "duration": 19,
    "start_time": "2021-07-07T18:42:02.343Z"
   },
   {
    "duration": 628,
    "start_time": "2021-07-07T18:46:30.701Z"
   },
   {
    "duration": 183,
    "start_time": "2021-07-07T18:46:31.331Z"
   },
   {
    "duration": 48,
    "start_time": "2021-07-07T18:46:31.516Z"
   },
   {
    "duration": 5,
    "start_time": "2021-07-07T18:46:31.566Z"
   },
   {
    "duration": 28,
    "start_time": "2021-07-07T18:46:31.572Z"
   },
   {
    "duration": 8,
    "start_time": "2021-07-07T18:46:31.602Z"
   },
   {
    "duration": 19,
    "start_time": "2021-07-07T18:46:31.611Z"
   },
   {
    "duration": 6,
    "start_time": "2021-07-07T18:46:31.633Z"
   },
   {
    "duration": 17,
    "start_time": "2021-07-07T18:46:31.642Z"
   },
   {
    "duration": 10,
    "start_time": "2021-07-07T18:46:31.684Z"
   },
   {
    "duration": 9,
    "start_time": "2021-07-07T18:46:31.695Z"
   },
   {
    "duration": 28,
    "start_time": "2021-07-07T18:46:31.705Z"
   },
   {
    "duration": 18,
    "start_time": "2021-07-07T18:46:31.735Z"
   },
   {
    "duration": 48,
    "start_time": "2021-07-07T18:46:31.755Z"
   },
   {
    "duration": 6,
    "start_time": "2021-07-07T18:46:31.804Z"
   },
   {
    "duration": 4,
    "start_time": "2021-07-07T18:46:31.812Z"
   },
   {
    "duration": 9,
    "start_time": "2021-07-07T18:46:31.817Z"
   },
   {
    "duration": 10,
    "start_time": "2021-07-07T18:46:31.827Z"
   },
   {
    "duration": 12,
    "start_time": "2021-07-07T18:46:31.838Z"
   },
   {
    "duration": 39,
    "start_time": "2021-07-07T18:46:31.851Z"
   },
   {
    "duration": 24,
    "start_time": "2021-07-07T18:46:31.892Z"
   },
   {
    "duration": 15,
    "start_time": "2021-07-07T18:46:31.918Z"
   },
   {
    "duration": 7,
    "start_time": "2021-07-07T18:46:31.936Z"
   },
   {
    "duration": 8,
    "start_time": "2021-07-07T18:46:31.944Z"
   },
   {
    "duration": 19,
    "start_time": "2021-07-07T18:46:31.984Z"
   },
   {
    "duration": 10,
    "start_time": "2021-07-07T18:46:32.004Z"
   },
   {
    "duration": 5,
    "start_time": "2021-07-07T18:46:32.016Z"
   },
   {
    "duration": 9,
    "start_time": "2021-07-07T18:46:32.023Z"
   },
   {
    "duration": 199,
    "start_time": "2021-07-07T18:46:32.033Z"
   },
   {
    "duration": 19,
    "start_time": "2021-07-07T18:46:32.234Z"
   },
   {
    "duration": 159,
    "start_time": "2021-07-07T18:46:32.255Z"
   },
   {
    "duration": 134,
    "start_time": "2021-07-07T18:46:32.416Z"
   },
   {
    "duration": 10,
    "start_time": "2021-07-07T18:46:32.552Z"
   },
   {
    "duration": 34,
    "start_time": "2021-07-07T18:46:32.563Z"
   },
   {
    "duration": 1039,
    "start_time": "2021-07-08T08:41:09.419Z"
   },
   {
    "duration": 333,
    "start_time": "2021-07-08T08:41:10.459Z"
   },
   {
    "duration": 173,
    "start_time": "2021-07-08T08:41:10.794Z"
   },
   {
    "duration": 5,
    "start_time": "2021-07-08T08:41:10.968Z"
   },
   {
    "duration": 25,
    "start_time": "2021-07-08T08:41:10.975Z"
   },
   {
    "duration": 9,
    "start_time": "2021-07-08T08:41:11.002Z"
   },
   {
    "duration": 18,
    "start_time": "2021-07-08T08:41:11.013Z"
   },
   {
    "duration": 6,
    "start_time": "2021-07-08T08:41:11.033Z"
   },
   {
    "duration": 44,
    "start_time": "2021-07-08T08:41:11.042Z"
   },
   {
    "duration": 10,
    "start_time": "2021-07-08T08:41:11.088Z"
   },
   {
    "duration": 9,
    "start_time": "2021-07-08T08:41:11.100Z"
   },
   {
    "duration": 27,
    "start_time": "2021-07-08T08:41:11.111Z"
   },
   {
    "duration": 46,
    "start_time": "2021-07-08T08:41:11.140Z"
   },
   {
    "duration": 17,
    "start_time": "2021-07-08T08:41:11.187Z"
   },
   {
    "duration": 6,
    "start_time": "2021-07-08T08:41:11.206Z"
   },
   {
    "duration": 5,
    "start_time": "2021-07-08T08:41:11.213Z"
   },
   {
    "duration": 10,
    "start_time": "2021-07-08T08:41:11.219Z"
   },
   {
    "duration": 9,
    "start_time": "2021-07-08T08:41:11.230Z"
   },
   {
    "duration": 45,
    "start_time": "2021-07-08T08:41:11.241Z"
   },
   {
    "duration": 7,
    "start_time": "2021-07-08T08:41:11.287Z"
   },
   {
    "duration": 24,
    "start_time": "2021-07-08T08:41:11.296Z"
   },
   {
    "duration": 16,
    "start_time": "2021-07-08T08:41:11.322Z"
   },
   {
    "duration": 7,
    "start_time": "2021-07-08T08:41:11.341Z"
   },
   {
    "duration": 41,
    "start_time": "2021-07-08T08:41:11.349Z"
   },
   {
    "duration": 17,
    "start_time": "2021-07-08T08:41:11.391Z"
   },
   {
    "duration": 9,
    "start_time": "2021-07-08T08:41:11.410Z"
   },
   {
    "duration": 5,
    "start_time": "2021-07-08T08:41:11.421Z"
   },
   {
    "duration": 6,
    "start_time": "2021-07-08T08:41:11.428Z"
   },
   {
    "duration": 198,
    "start_time": "2021-07-08T08:41:11.435Z"
   },
   {
    "duration": 18,
    "start_time": "2021-07-08T08:41:11.635Z"
   },
   {
    "duration": 155,
    "start_time": "2021-07-08T08:41:11.655Z"
   },
   {
    "duration": 138,
    "start_time": "2021-07-08T08:41:11.811Z"
   },
   {
    "duration": 10,
    "start_time": "2021-07-08T08:41:11.950Z"
   },
   {
    "duration": 29,
    "start_time": "2021-07-08T08:41:11.961Z"
   },
   {
    "duration": 171,
    "start_time": "2021-07-08T08:47:44.522Z"
   },
   {
    "duration": 124,
    "start_time": "2021-07-08T08:47:46.872Z"
   },
   {
    "duration": 191,
    "start_time": "2021-07-08T08:47:58.148Z"
   },
   {
    "duration": 191,
    "start_time": "2021-07-08T08:48:07.412Z"
   },
   {
    "duration": 261,
    "start_time": "2021-07-08T08:48:10.385Z"
   },
   {
    "duration": 255,
    "start_time": "2021-07-08T08:48:14.494Z"
   },
   {
    "duration": 219,
    "start_time": "2021-07-08T08:48:22.752Z"
   },
   {
    "duration": 173,
    "start_time": "2021-07-08T08:49:06.395Z"
   },
   {
    "duration": 180,
    "start_time": "2021-07-08T08:49:21.011Z"
   },
   {
    "duration": 6,
    "start_time": "2021-07-08T08:50:31.697Z"
   },
   {
    "duration": 10,
    "start_time": "2021-07-08T08:50:47.394Z"
   },
   {
    "duration": 11,
    "start_time": "2021-07-08T08:53:49.332Z"
   },
   {
    "duration": 171,
    "start_time": "2021-07-08T08:54:28.408Z"
   },
   {
    "duration": 636,
    "start_time": "2021-07-08T09:02:48.385Z"
   },
   {
    "duration": 227,
    "start_time": "2021-07-08T09:02:49.023Z"
   },
   {
    "duration": 104,
    "start_time": "2021-07-08T09:02:49.252Z"
   },
   {
    "duration": 5,
    "start_time": "2021-07-08T09:02:49.358Z"
   },
   {
    "duration": 27,
    "start_time": "2021-07-08T09:02:49.365Z"
   },
   {
    "duration": 8,
    "start_time": "2021-07-08T09:02:49.394Z"
   },
   {
    "duration": 18,
    "start_time": "2021-07-08T09:02:49.404Z"
   },
   {
    "duration": 6,
    "start_time": "2021-07-08T09:02:49.424Z"
   },
   {
    "duration": 11,
    "start_time": "2021-07-08T09:02:49.433Z"
   },
   {
    "duration": 13,
    "start_time": "2021-07-08T09:02:49.485Z"
   },
   {
    "duration": 9,
    "start_time": "2021-07-08T09:02:49.500Z"
   },
   {
    "duration": 38,
    "start_time": "2021-07-08T09:02:49.511Z"
   },
   {
    "duration": 42,
    "start_time": "2021-07-08T09:02:49.551Z"
   },
   {
    "duration": 21,
    "start_time": "2021-07-08T09:02:49.594Z"
   },
   {
    "duration": 6,
    "start_time": "2021-07-08T09:02:49.616Z"
   },
   {
    "duration": 3,
    "start_time": "2021-07-08T09:02:49.623Z"
   },
   {
    "duration": 9,
    "start_time": "2021-07-08T09:02:49.628Z"
   },
   {
    "duration": 52,
    "start_time": "2021-07-08T09:02:49.638Z"
   },
   {
    "duration": 11,
    "start_time": "2021-07-08T09:02:49.692Z"
   },
   {
    "duration": 8,
    "start_time": "2021-07-08T09:02:49.704Z"
   },
   {
    "duration": 27,
    "start_time": "2021-07-08T09:02:49.713Z"
   },
   {
    "duration": 59,
    "start_time": "2021-07-08T09:02:49.741Z"
   },
   {
    "duration": 8,
    "start_time": "2021-07-08T09:02:49.803Z"
   },
   {
    "duration": 14,
    "start_time": "2021-07-08T09:02:49.813Z"
   },
   {
    "duration": 20,
    "start_time": "2021-07-08T09:02:49.829Z"
   },
   {
    "duration": 44,
    "start_time": "2021-07-08T09:02:49.851Z"
   },
   {
    "duration": 14,
    "start_time": "2021-07-08T09:02:49.896Z"
   },
   {
    "duration": 221,
    "start_time": "2021-07-08T09:02:49.912Z"
   },
   {
    "duration": 6,
    "start_time": "2021-07-08T09:02:50.134Z"
   },
   {
    "duration": 206,
    "start_time": "2021-07-08T09:02:50.142Z"
   },
   {
    "duration": 19,
    "start_time": "2021-07-08T09:02:50.350Z"
   },
   {
    "duration": 21,
    "start_time": "2021-07-08T09:02:50.370Z"
   },
   {
    "duration": 20,
    "start_time": "2021-07-08T09:02:50.393Z"
   },
   {
    "duration": 5,
    "start_time": "2021-07-08T09:02:50.414Z"
   },
   {
    "duration": 5,
    "start_time": "2021-07-08T09:03:34.173Z"
   },
   {
    "duration": 6,
    "start_time": "2021-07-08T09:04:49.062Z"
   },
   {
    "duration": 9,
    "start_time": "2021-07-08T09:04:50.118Z"
   },
   {
    "duration": 14,
    "start_time": "2021-07-08T09:04:58.512Z"
   },
   {
    "duration": 9,
    "start_time": "2021-07-08T09:05:10.988Z"
   },
   {
    "duration": 11,
    "start_time": "2021-07-08T09:05:11.743Z"
   },
   {
    "duration": 7,
    "start_time": "2021-07-08T09:05:25.677Z"
   },
   {
    "duration": 13,
    "start_time": "2021-07-08T09:05:47.189Z"
   },
   {
    "duration": 13,
    "start_time": "2021-07-08T09:05:54.755Z"
   },
   {
    "duration": 4,
    "start_time": "2021-07-08T09:06:29.189Z"
   },
   {
    "duration": 244,
    "start_time": "2021-07-08T09:06:29.195Z"
   },
   {
    "duration": 91,
    "start_time": "2021-07-08T09:06:29.441Z"
   },
   {
    "duration": 4,
    "start_time": "2021-07-08T09:06:29.534Z"
   },
   {
    "duration": 28,
    "start_time": "2021-07-08T09:06:29.540Z"
   },
   {
    "duration": 6,
    "start_time": "2021-07-08T09:06:29.570Z"
   },
   {
    "duration": 18,
    "start_time": "2021-07-08T09:06:29.578Z"
   },
   {
    "duration": 5,
    "start_time": "2021-07-08T09:06:29.597Z"
   },
   {
    "duration": 13,
    "start_time": "2021-07-08T09:06:29.605Z"
   },
   {
    "duration": 8,
    "start_time": "2021-07-08T09:06:29.620Z"
   },
   {
    "duration": 7,
    "start_time": "2021-07-08T09:06:29.630Z"
   },
   {
    "duration": 63,
    "start_time": "2021-07-08T09:06:29.639Z"
   },
   {
    "duration": 17,
    "start_time": "2021-07-08T09:06:29.704Z"
   },
   {
    "duration": 20,
    "start_time": "2021-07-08T09:06:29.723Z"
   },
   {
    "duration": 6,
    "start_time": "2021-07-08T09:06:29.745Z"
   },
   {
    "duration": 3,
    "start_time": "2021-07-08T09:06:29.752Z"
   },
   {
    "duration": 7,
    "start_time": "2021-07-08T09:06:29.785Z"
   },
   {
    "duration": 11,
    "start_time": "2021-07-08T09:06:29.794Z"
   },
   {
    "duration": 15,
    "start_time": "2021-07-08T09:06:29.807Z"
   },
   {
    "duration": 8,
    "start_time": "2021-07-08T09:06:29.823Z"
   },
   {
    "duration": 70,
    "start_time": "2021-07-08T09:06:29.832Z"
   },
   {
    "duration": 17,
    "start_time": "2021-07-08T09:06:29.903Z"
   },
   {
    "duration": 9,
    "start_time": "2021-07-08T09:06:29.921Z"
   },
   {
    "duration": 9,
    "start_time": "2021-07-08T09:06:29.932Z"
   },
   {
    "duration": 57,
    "start_time": "2021-07-08T09:06:29.942Z"
   },
   {
    "duration": 11,
    "start_time": "2021-07-08T09:06:30.001Z"
   },
   {
    "duration": 19,
    "start_time": "2021-07-08T09:06:30.016Z"
   },
   {
    "duration": 217,
    "start_time": "2021-07-08T09:06:30.037Z"
   },
   {
    "duration": 6,
    "start_time": "2021-07-08T09:06:30.255Z"
   },
   {
    "duration": 205,
    "start_time": "2021-07-08T09:06:30.263Z"
   },
   {
    "duration": 27,
    "start_time": "2021-07-08T09:06:30.470Z"
   },
   {
    "duration": 11,
    "start_time": "2021-07-08T09:06:30.500Z"
   },
   {
    "duration": 31,
    "start_time": "2021-07-08T09:06:30.513Z"
   },
   {
    "duration": 18,
    "start_time": "2021-07-08T09:06:30.546Z"
   },
   {
    "duration": 11,
    "start_time": "2021-07-08T09:06:30.566Z"
   },
   {
    "duration": 19,
    "start_time": "2021-07-08T09:06:30.579Z"
   },
   {
    "duration": 20,
    "start_time": "2021-07-08T09:06:49.466Z"
   },
   {
    "duration": 9,
    "start_time": "2021-07-08T09:06:51.994Z"
   },
   {
    "duration": 20,
    "start_time": "2021-07-08T09:06:52.273Z"
   },
   {
    "duration": 246,
    "start_time": "2021-07-08T09:10:21.272Z"
   },
   {
    "duration": 84,
    "start_time": "2021-07-08T09:10:21.436Z"
   },
   {
    "duration": 7,
    "start_time": "2021-07-08T09:10:37.608Z"
   },
   {
    "duration": 189,
    "start_time": "2021-07-08T09:10:38.573Z"
   },
   {
    "duration": 185,
    "start_time": "2021-07-08T09:10:53.181Z"
   },
   {
    "duration": 11,
    "start_time": "2021-07-08T09:10:59.549Z"
   },
   {
    "duration": 42,
    "start_time": "2021-07-08T09:10:59.709Z"
   },
   {
    "duration": 12,
    "start_time": "2021-07-08T09:11:02.857Z"
   },
   {
    "duration": 28,
    "start_time": "2021-07-08T09:11:10.062Z"
   },
   {
    "duration": 249,
    "start_time": "2021-07-08T09:11:37.388Z"
   },
   {
    "duration": 232,
    "start_time": "2021-07-08T09:11:49.485Z"
   },
   {
    "duration": 453,
    "start_time": "2021-07-08T09:12:01.546Z"
   },
   {
    "duration": 440,
    "start_time": "2021-07-08T09:12:12.347Z"
   },
   {
    "duration": 213,
    "start_time": "2021-07-08T09:13:32.196Z"
   },
   {
    "duration": 172,
    "start_time": "2021-07-08T09:14:07.400Z"
   },
   {
    "duration": 185,
    "start_time": "2021-07-08T09:14:14.905Z"
   },
   {
    "duration": 209,
    "start_time": "2021-07-08T09:14:40.109Z"
   },
   {
    "duration": 201,
    "start_time": "2021-07-08T09:14:54.506Z"
   },
   {
    "duration": 622,
    "start_time": "2021-07-08T09:18:14.497Z"
   },
   {
    "duration": 220,
    "start_time": "2021-07-08T09:18:15.121Z"
   },
   {
    "duration": 79,
    "start_time": "2021-07-08T09:18:15.343Z"
   },
   {
    "duration": 4,
    "start_time": "2021-07-08T09:18:15.425Z"
   },
   {
    "duration": 24,
    "start_time": "2021-07-08T09:18:15.431Z"
   },
   {
    "duration": 8,
    "start_time": "2021-07-08T09:18:15.457Z"
   },
   {
    "duration": 16,
    "start_time": "2021-07-08T09:18:15.466Z"
   },
   {
    "duration": 5,
    "start_time": "2021-07-08T09:18:15.484Z"
   },
   {
    "duration": 10,
    "start_time": "2021-07-08T09:18:15.493Z"
   },
   {
    "duration": 8,
    "start_time": "2021-07-08T09:18:15.504Z"
   },
   {
    "duration": 7,
    "start_time": "2021-07-08T09:18:15.513Z"
   },
   {
    "duration": 26,
    "start_time": "2021-07-08T09:18:15.522Z"
   },
   {
    "duration": 49,
    "start_time": "2021-07-08T09:18:15.550Z"
   },
   {
    "duration": 21,
    "start_time": "2021-07-08T09:18:15.601Z"
   },
   {
    "duration": 8,
    "start_time": "2021-07-08T09:18:15.624Z"
   },
   {
    "duration": 3,
    "start_time": "2021-07-08T09:18:15.634Z"
   },
   {
    "duration": 8,
    "start_time": "2021-07-08T09:18:15.639Z"
   },
   {
    "duration": 45,
    "start_time": "2021-07-08T09:18:15.649Z"
   },
   {
    "duration": 13,
    "start_time": "2021-07-08T09:18:15.696Z"
   },
   {
    "duration": 10,
    "start_time": "2021-07-08T09:18:15.711Z"
   },
   {
    "duration": 64,
    "start_time": "2021-07-08T09:18:15.722Z"
   },
   {
    "duration": 19,
    "start_time": "2021-07-08T09:18:15.788Z"
   },
   {
    "duration": 9,
    "start_time": "2021-07-08T09:18:15.809Z"
   },
   {
    "duration": 9,
    "start_time": "2021-07-08T09:18:15.820Z"
   },
   {
    "duration": 18,
    "start_time": "2021-07-08T09:18:15.831Z"
   },
   {
    "duration": 43,
    "start_time": "2021-07-08T09:18:15.851Z"
   },
   {
    "duration": 12,
    "start_time": "2021-07-08T09:18:15.897Z"
   },
   {
    "duration": 219,
    "start_time": "2021-07-08T09:18:15.911Z"
   },
   {
    "duration": 8,
    "start_time": "2021-07-08T09:18:16.132Z"
   },
   {
    "duration": 199,
    "start_time": "2021-07-08T09:18:16.141Z"
   },
   {
    "duration": 18,
    "start_time": "2021-07-08T09:18:16.341Z"
   },
   {
    "duration": 24,
    "start_time": "2021-07-08T09:18:16.361Z"
   },
   {
    "duration": 24,
    "start_time": "2021-07-08T09:18:16.387Z"
   },
   {
    "duration": 211,
    "start_time": "2021-07-08T09:18:16.413Z"
   },
   {
    "duration": 18,
    "start_time": "2021-07-08T09:18:16.626Z"
   },
   {
    "duration": 596,
    "start_time": "2021-07-08T10:06:33.623Z"
   },
   {
    "duration": 181,
    "start_time": "2021-07-08T10:06:34.221Z"
   },
   {
    "duration": 176,
    "start_time": "2021-07-08T10:06:34.635Z"
   },
   {
    "duration": 239,
    "start_time": "2021-07-08T10:06:55.572Z"
   },
   {
    "duration": 6,
    "start_time": "2021-07-08T10:06:57.687Z"
   },
   {
    "duration": 4,
    "start_time": "2021-07-08T10:07:03.956Z"
   },
   {
    "duration": 4,
    "start_time": "2021-07-08T10:07:10.376Z"
   },
   {
    "duration": 4,
    "start_time": "2021-07-08T10:17:19.889Z"
   },
   {
    "duration": 3,
    "start_time": "2021-07-08T10:19:19.407Z"
   },
   {
    "duration": 197,
    "start_time": "2021-07-08T10:19:19.412Z"
   },
   {
    "duration": 127,
    "start_time": "2021-07-08T10:19:19.611Z"
   },
   {
    "duration": 4,
    "start_time": "2021-07-08T10:19:19.740Z"
   },
   {
    "duration": 27,
    "start_time": "2021-07-08T10:19:19.746Z"
   },
   {
    "duration": 7,
    "start_time": "2021-07-08T10:19:19.775Z"
   },
   {
    "duration": 30,
    "start_time": "2021-07-08T10:19:19.784Z"
   },
   {
    "duration": 7,
    "start_time": "2021-07-08T10:19:19.817Z"
   },
   {
    "duration": 26,
    "start_time": "2021-07-08T10:19:19.826Z"
   },
   {
    "duration": 18,
    "start_time": "2021-07-08T10:19:19.854Z"
   },
   {
    "duration": 14,
    "start_time": "2021-07-08T10:19:19.874Z"
   },
   {
    "duration": 48,
    "start_time": "2021-07-08T10:19:19.890Z"
   },
   {
    "duration": 17,
    "start_time": "2021-07-08T10:19:19.940Z"
   },
   {
    "duration": 38,
    "start_time": "2021-07-08T10:19:19.959Z"
   },
   {
    "duration": 8,
    "start_time": "2021-07-08T10:19:19.999Z"
   },
   {
    "duration": 15,
    "start_time": "2021-07-08T10:19:20.009Z"
   },
   {
    "duration": 22,
    "start_time": "2021-07-08T10:19:20.026Z"
   },
   {
    "duration": 10,
    "start_time": "2021-07-08T10:19:20.050Z"
   },
   {
    "duration": 10,
    "start_time": "2021-07-08T10:19:20.062Z"
   },
   {
    "duration": 20,
    "start_time": "2021-07-08T10:19:20.073Z"
   },
   {
    "duration": 29,
    "start_time": "2021-07-08T10:19:20.095Z"
   },
   {
    "duration": 17,
    "start_time": "2021-07-08T10:19:20.126Z"
   },
   {
    "duration": 40,
    "start_time": "2021-07-08T10:19:20.146Z"
   },
   {
    "duration": 15,
    "start_time": "2021-07-08T10:19:20.189Z"
   },
   {
    "duration": 19,
    "start_time": "2021-07-08T10:19:20.206Z"
   },
   {
    "duration": 10,
    "start_time": "2021-07-08T10:19:20.226Z"
   },
   {
    "duration": 11,
    "start_time": "2021-07-08T10:19:20.238Z"
   },
   {
    "duration": 297,
    "start_time": "2021-07-08T10:19:20.250Z"
   },
   {
    "duration": 6,
    "start_time": "2021-07-08T10:19:20.549Z"
   },
   {
    "duration": 191,
    "start_time": "2021-07-08T10:19:20.557Z"
   },
   {
    "duration": 19,
    "start_time": "2021-07-08T10:19:20.750Z"
   },
   {
    "duration": 20,
    "start_time": "2021-07-08T10:19:20.771Z"
   },
   {
    "duration": 15,
    "start_time": "2021-07-08T10:19:20.793Z"
   },
   {
    "duration": 222,
    "start_time": "2021-07-08T10:19:20.809Z"
   },
   {
    "duration": 20,
    "start_time": "2021-07-08T10:19:21.033Z"
   },
   {
    "duration": 27,
    "start_time": "2021-07-08T10:45:04.055Z"
   },
   {
    "duration": 8,
    "start_time": "2021-07-08T10:45:08.478Z"
   },
   {
    "duration": 8,
    "start_time": "2021-07-08T10:45:31.982Z"
   },
   {
    "duration": 10,
    "start_time": "2021-07-08T10:46:01.221Z"
   },
   {
    "duration": 17,
    "start_time": "2021-07-08T10:46:40.011Z"
   },
   {
    "duration": 193,
    "start_time": "2021-07-08T10:48:19.471Z"
   },
   {
    "duration": 225,
    "start_time": "2021-07-08T10:49:26.480Z"
   },
   {
    "duration": 204,
    "start_time": "2021-07-08T10:49:59.992Z"
   },
   {
    "duration": 435,
    "start_time": "2021-07-08T10:50:06.779Z"
   },
   {
    "duration": 199,
    "start_time": "2021-07-08T10:50:14.891Z"
   },
   {
    "duration": 204,
    "start_time": "2021-07-08T10:50:18.501Z"
   },
   {
    "duration": 244,
    "start_time": "2021-07-08T10:50:23.359Z"
   },
   {
    "duration": 192,
    "start_time": "2021-07-08T10:50:29.135Z"
   },
   {
    "duration": 218,
    "start_time": "2021-07-08T10:50:33.092Z"
   },
   {
    "duration": 207,
    "start_time": "2021-07-08T10:52:45.381Z"
   },
   {
    "duration": 5,
    "start_time": "2021-07-08T10:53:34.641Z"
   },
   {
    "duration": 196,
    "start_time": "2021-07-08T10:53:41.478Z"
   },
   {
    "duration": 43,
    "start_time": "2021-07-08T10:53:50.335Z"
   },
   {
    "duration": 32,
    "start_time": "2021-07-08T10:53:55.294Z"
   },
   {
    "duration": 55,
    "start_time": "2021-07-08T10:54:09.675Z"
   },
   {
    "duration": 16,
    "start_time": "2021-07-08T10:54:12.260Z"
   },
   {
    "duration": 15,
    "start_time": "2021-07-08T10:54:49.150Z"
   },
   {
    "duration": 20,
    "start_time": "2021-07-08T10:56:07.596Z"
   },
   {
    "duration": 16,
    "start_time": "2021-07-08T10:58:26.276Z"
   },
   {
    "duration": 22,
    "start_time": "2021-07-08T10:59:00.486Z"
   },
   {
    "duration": 18,
    "start_time": "2021-07-08T11:02:09.653Z"
   },
   {
    "duration": 10,
    "start_time": "2021-07-08T11:03:44.331Z"
   },
   {
    "duration": 10,
    "start_time": "2021-07-08T11:03:54.055Z"
   },
   {
    "duration": 12,
    "start_time": "2021-07-08T11:04:41.967Z"
   },
   {
    "duration": 24,
    "start_time": "2021-07-08T11:07:30.732Z"
   },
   {
    "duration": 6,
    "start_time": "2021-07-08T11:07:37.364Z"
   },
   {
    "duration": 16,
    "start_time": "2021-07-08T11:08:01.819Z"
   },
   {
    "duration": 17,
    "start_time": "2021-07-08T11:09:47.488Z"
   },
   {
    "duration": 246,
    "start_time": "2021-07-08T11:10:00.830Z"
   },
   {
    "duration": 18,
    "start_time": "2021-07-08T11:13:55.195Z"
   },
   {
    "duration": 204,
    "start_time": "2021-07-08T11:14:04.951Z"
   },
   {
    "duration": 19,
    "start_time": "2021-07-08T11:15:10.613Z"
   },
   {
    "duration": 680,
    "start_time": "2021-07-08T11:16:25.793Z"
   },
   {
    "duration": 451,
    "start_time": "2021-07-08T11:16:40.313Z"
   },
   {
    "duration": 469,
    "start_time": "2021-07-08T11:17:21.286Z"
   },
   {
    "duration": 20,
    "start_time": "2021-07-08T11:19:12.554Z"
   },
   {
    "duration": 35,
    "start_time": "2021-07-08T11:20:05.484Z"
   },
   {
    "duration": 53,
    "start_time": "2021-07-08T11:21:40.050Z"
   },
   {
    "duration": 13,
    "start_time": "2021-07-08T11:22:26.059Z"
   },
   {
    "duration": 19,
    "start_time": "2021-07-08T11:22:47.419Z"
   },
   {
    "duration": 25,
    "start_time": "2021-07-08T11:23:19.958Z"
   },
   {
    "duration": 29,
    "start_time": "2021-07-08T11:23:25.415Z"
   },
   {
    "duration": 10,
    "start_time": "2021-07-08T11:24:45.138Z"
   },
   {
    "duration": 19,
    "start_time": "2021-07-08T11:24:54.498Z"
   },
   {
    "duration": 12,
    "start_time": "2021-07-08T11:25:32.225Z"
   },
   {
    "duration": 19,
    "start_time": "2021-07-08T11:25:37.092Z"
   },
   {
    "duration": 17,
    "start_time": "2021-07-08T11:25:58.116Z"
   },
   {
    "duration": 15,
    "start_time": "2021-07-08T11:26:02.258Z"
   },
   {
    "duration": 8,
    "start_time": "2021-07-08T11:26:59.682Z"
   },
   {
    "duration": 184,
    "start_time": "2021-07-08T11:27:21.894Z"
   },
   {
    "duration": 8,
    "start_time": "2021-07-08T11:27:23.824Z"
   },
   {
    "duration": 202,
    "start_time": "2021-07-08T11:27:23.962Z"
   },
   {
    "duration": 360,
    "start_time": "2021-07-08T11:28:33.215Z"
   },
   {
    "duration": 231,
    "start_time": "2021-07-08T11:32:05.542Z"
   },
   {
    "duration": 607,
    "start_time": "2021-07-08T11:36:27.854Z"
   },
   {
    "duration": 241,
    "start_time": "2021-07-08T11:36:28.463Z"
   },
   {
    "duration": 67,
    "start_time": "2021-07-08T11:36:28.709Z"
   },
   {
    "duration": 5,
    "start_time": "2021-07-08T11:36:28.778Z"
   },
   {
    "duration": 32,
    "start_time": "2021-07-08T11:36:28.784Z"
   },
   {
    "duration": 11,
    "start_time": "2021-07-08T11:36:28.819Z"
   },
   {
    "duration": 20,
    "start_time": "2021-07-08T11:36:28.834Z"
   },
   {
    "duration": 36,
    "start_time": "2021-07-08T11:36:28.857Z"
   },
   {
    "duration": 16,
    "start_time": "2021-07-08T11:36:28.895Z"
   },
   {
    "duration": 14,
    "start_time": "2021-07-08T11:36:28.913Z"
   },
   {
    "duration": 9,
    "start_time": "2021-07-08T11:36:28.930Z"
   },
   {
    "duration": 55,
    "start_time": "2021-07-08T11:36:28.941Z"
   },
   {
    "duration": 27,
    "start_time": "2021-07-08T11:36:28.999Z"
   },
   {
    "duration": 30,
    "start_time": "2021-07-08T11:36:29.028Z"
   },
   {
    "duration": 31,
    "start_time": "2021-07-08T11:36:29.060Z"
   },
   {
    "duration": 3,
    "start_time": "2021-07-08T11:36:29.093Z"
   },
   {
    "duration": 12,
    "start_time": "2021-07-08T11:36:29.099Z"
   },
   {
    "duration": 11,
    "start_time": "2021-07-08T11:36:29.112Z"
   },
   {
    "duration": 12,
    "start_time": "2021-07-08T11:36:29.125Z"
   },
   {
    "duration": 9,
    "start_time": "2021-07-08T11:36:29.139Z"
   },
   {
    "duration": 31,
    "start_time": "2021-07-08T11:36:29.191Z"
   },
   {
    "duration": 17,
    "start_time": "2021-07-08T11:36:29.226Z"
   },
   {
    "duration": 7,
    "start_time": "2021-07-08T11:36:29.245Z"
   },
   {
    "duration": 10,
    "start_time": "2021-07-08T11:36:29.254Z"
   },
   {
    "duration": 30,
    "start_time": "2021-07-08T11:36:29.292Z"
   },
   {
    "duration": 11,
    "start_time": "2021-07-08T11:36:29.324Z"
   },
   {
    "duration": 11,
    "start_time": "2021-07-08T11:36:29.337Z"
   },
   {
    "duration": 230,
    "start_time": "2021-07-08T11:36:29.349Z"
   },
   {
    "duration": 13,
    "start_time": "2021-07-08T11:36:29.588Z"
   },
   {
    "duration": 205,
    "start_time": "2021-07-08T11:36:29.603Z"
   },
   {
    "duration": 20,
    "start_time": "2021-07-08T11:36:29.810Z"
   },
   {
    "duration": 9,
    "start_time": "2021-07-08T11:36:29.832Z"
   },
   {
    "duration": 16,
    "start_time": "2021-07-08T11:36:29.843Z"
   },
   {
    "duration": 283,
    "start_time": "2021-07-08T11:36:29.861Z"
   },
   {
    "duration": 50,
    "start_time": "2021-07-08T11:36:30.146Z"
   },
   {
    "duration": 14,
    "start_time": "2021-07-08T11:36:30.198Z"
   },
   {
    "duration": 11,
    "start_time": "2021-07-08T11:36:30.214Z"
   },
   {
    "duration": 245,
    "start_time": "2021-07-08T11:36:30.227Z"
   },
   {
    "duration": 439,
    "start_time": "2021-07-08T11:36:30.474Z"
   },
   {
    "duration": 210,
    "start_time": "2021-07-08T11:36:30.915Z"
   },
   {
    "duration": 15,
    "start_time": "2021-07-08T11:36:31.127Z"
   },
   {
    "duration": 17,
    "start_time": "2021-07-08T11:38:20.451Z"
   },
   {
    "duration": 642,
    "start_time": "2021-07-08T11:46:17.881Z"
   },
   {
    "duration": 210,
    "start_time": "2021-07-08T11:46:18.525Z"
   },
   {
    "duration": 104,
    "start_time": "2021-07-08T11:46:18.741Z"
   },
   {
    "duration": 8,
    "start_time": "2021-07-08T11:46:18.847Z"
   },
   {
    "duration": 25,
    "start_time": "2021-07-08T11:46:18.857Z"
   },
   {
    "duration": 14,
    "start_time": "2021-07-08T11:46:18.884Z"
   },
   {
    "duration": 22,
    "start_time": "2021-07-08T11:46:18.900Z"
   },
   {
    "duration": 5,
    "start_time": "2021-07-08T11:46:18.924Z"
   },
   {
    "duration": 13,
    "start_time": "2021-07-08T11:46:18.931Z"
   },
   {
    "duration": 45,
    "start_time": "2021-07-08T11:46:18.946Z"
   },
   {
    "duration": 12,
    "start_time": "2021-07-08T11:46:18.993Z"
   },
   {
    "duration": 38,
    "start_time": "2021-07-08T11:46:19.006Z"
   },
   {
    "duration": 50,
    "start_time": "2021-07-08T11:46:19.046Z"
   },
   {
    "duration": 29,
    "start_time": "2021-07-08T11:46:19.099Z"
   },
   {
    "duration": 7,
    "start_time": "2021-07-08T11:46:19.130Z"
   },
   {
    "duration": 3,
    "start_time": "2021-07-08T11:46:19.139Z"
   },
   {
    "duration": 11,
    "start_time": "2021-07-08T11:46:19.144Z"
   },
   {
    "duration": 40,
    "start_time": "2021-07-08T11:46:19.157Z"
   },
   {
    "duration": 15,
    "start_time": "2021-07-08T11:46:19.199Z"
   },
   {
    "duration": 10,
    "start_time": "2021-07-08T11:46:19.217Z"
   },
   {
    "duration": 68,
    "start_time": "2021-07-08T11:46:19.230Z"
   },
   {
    "duration": 17,
    "start_time": "2021-07-08T11:46:19.301Z"
   },
   {
    "duration": 7,
    "start_time": "2021-07-08T11:46:19.321Z"
   },
   {
    "duration": 11,
    "start_time": "2021-07-08T11:46:19.330Z"
   },
   {
    "duration": 59,
    "start_time": "2021-07-08T11:46:19.343Z"
   },
   {
    "duration": 17,
    "start_time": "2021-07-08T11:46:19.405Z"
   },
   {
    "duration": 16,
    "start_time": "2021-07-08T11:46:19.424Z"
   },
   {
    "duration": 252,
    "start_time": "2021-07-08T11:46:19.443Z"
   },
   {
    "duration": 9,
    "start_time": "2021-07-08T11:46:19.697Z"
   },
   {
    "duration": 224,
    "start_time": "2021-07-08T11:46:19.708Z"
   },
   {
    "duration": 21,
    "start_time": "2021-07-08T11:46:19.934Z"
   },
   {
    "duration": 9,
    "start_time": "2021-07-08T11:46:19.956Z"
   },
   {
    "duration": 32,
    "start_time": "2021-07-08T11:46:19.967Z"
   },
   {
    "duration": 288,
    "start_time": "2021-07-08T11:46:20.004Z"
   },
   {
    "duration": 23,
    "start_time": "2021-07-08T11:46:20.300Z"
   },
   {
    "duration": 11,
    "start_time": "2021-07-08T11:46:20.325Z"
   },
   {
    "duration": 11,
    "start_time": "2021-07-08T11:46:20.339Z"
   },
   {
    "duration": 259,
    "start_time": "2021-07-08T11:46:20.352Z"
   },
   {
    "duration": 438,
    "start_time": "2021-07-08T11:46:20.613Z"
   },
   {
    "duration": 207,
    "start_time": "2021-07-08T11:46:21.054Z"
   },
   {
    "duration": 27,
    "start_time": "2021-07-08T11:46:21.262Z"
   },
   {
    "duration": 19,
    "start_time": "2021-07-08T11:46:21.291Z"
   },
   {
    "duration": 820,
    "start_time": "2021-07-08T11:49:01.655Z"
   },
   {
    "duration": 372,
    "start_time": "2021-07-08T11:49:02.478Z"
   },
   {
    "duration": 98,
    "start_time": "2021-07-08T11:49:02.853Z"
   },
   {
    "duration": 6,
    "start_time": "2021-07-08T11:49:02.953Z"
   },
   {
    "duration": 39,
    "start_time": "2021-07-08T11:49:02.960Z"
   },
   {
    "duration": 9,
    "start_time": "2021-07-08T11:49:03.003Z"
   },
   {
    "duration": 23,
    "start_time": "2021-07-08T11:49:03.014Z"
   },
   {
    "duration": 6,
    "start_time": "2021-07-08T11:49:03.041Z"
   },
   {
    "duration": 20,
    "start_time": "2021-07-08T11:49:03.049Z"
   },
   {
    "duration": 18,
    "start_time": "2021-07-08T11:49:03.084Z"
   },
   {
    "duration": 14,
    "start_time": "2021-07-08T11:49:03.104Z"
   },
   {
    "duration": 39,
    "start_time": "2021-07-08T11:49:03.119Z"
   },
   {
    "duration": 38,
    "start_time": "2021-07-08T11:49:03.160Z"
   },
   {
    "duration": 26,
    "start_time": "2021-07-08T11:49:03.200Z"
   },
   {
    "duration": 7,
    "start_time": "2021-07-08T11:49:03.227Z"
   },
   {
    "duration": 4,
    "start_time": "2021-07-08T11:49:03.236Z"
   },
   {
    "duration": 15,
    "start_time": "2021-07-08T11:49:03.243Z"
   },
   {
    "duration": 21,
    "start_time": "2021-07-08T11:49:03.285Z"
   },
   {
    "duration": 17,
    "start_time": "2021-07-08T11:49:03.309Z"
   },
   {
    "duration": 10,
    "start_time": "2021-07-08T11:49:03.328Z"
   },
   {
    "duration": 65,
    "start_time": "2021-07-08T11:49:03.340Z"
   },
   {
    "duration": 18,
    "start_time": "2021-07-08T11:49:03.407Z"
   },
   {
    "duration": 8,
    "start_time": "2021-07-08T11:49:03.428Z"
   },
   {
    "duration": 15,
    "start_time": "2021-07-08T11:49:03.438Z"
   },
   {
    "duration": 40,
    "start_time": "2021-07-08T11:49:03.455Z"
   },
   {
    "duration": 12,
    "start_time": "2021-07-08T11:49:03.497Z"
   },
   {
    "duration": 29,
    "start_time": "2021-07-08T11:49:03.511Z"
   },
   {
    "duration": 285,
    "start_time": "2021-07-08T11:49:03.542Z"
   },
   {
    "duration": 8,
    "start_time": "2021-07-08T11:49:03.829Z"
   },
   {
    "duration": 227,
    "start_time": "2021-07-08T11:49:03.838Z"
   },
   {
    "duration": 40,
    "start_time": "2021-07-08T11:49:04.066Z"
   },
   {
    "duration": 10,
    "start_time": "2021-07-08T11:49:04.108Z"
   },
   {
    "duration": 26,
    "start_time": "2021-07-08T11:49:04.121Z"
   },
   {
    "duration": 290,
    "start_time": "2021-07-08T11:49:04.149Z"
   },
   {
    "duration": 26,
    "start_time": "2021-07-08T11:49:04.441Z"
   },
   {
    "duration": 31,
    "start_time": "2021-07-08T11:49:04.470Z"
   },
   {
    "duration": 14,
    "start_time": "2021-07-08T11:49:04.503Z"
   },
   {
    "duration": 259,
    "start_time": "2021-07-08T11:49:04.521Z"
   },
   {
    "duration": 480,
    "start_time": "2021-07-08T11:49:04.782Z"
   },
   {
    "duration": 225,
    "start_time": "2021-07-08T11:49:05.264Z"
   },
   {
    "duration": 22,
    "start_time": "2021-07-08T11:49:05.491Z"
   },
   {
    "duration": 24,
    "start_time": "2021-07-08T11:49:05.515Z"
   },
   {
    "duration": 634,
    "start_time": "2021-07-08T11:52:24.960Z"
   },
   {
    "duration": 199,
    "start_time": "2021-07-08T11:52:25.599Z"
   },
   {
    "duration": 106,
    "start_time": "2021-07-08T11:52:25.803Z"
   },
   {
    "duration": 7,
    "start_time": "2021-07-08T11:52:25.911Z"
   },
   {
    "duration": 29,
    "start_time": "2021-07-08T11:52:25.920Z"
   },
   {
    "duration": 7,
    "start_time": "2021-07-08T11:52:25.951Z"
   },
   {
    "duration": 26,
    "start_time": "2021-07-08T11:52:25.961Z"
   },
   {
    "duration": 11,
    "start_time": "2021-07-08T11:52:25.990Z"
   },
   {
    "duration": 29,
    "start_time": "2021-07-08T11:52:26.005Z"
   },
   {
    "duration": 9,
    "start_time": "2021-07-08T11:52:26.036Z"
   },
   {
    "duration": 8,
    "start_time": "2021-07-08T11:52:26.047Z"
   },
   {
    "duration": 63,
    "start_time": "2021-07-08T11:52:26.057Z"
   },
   {
    "duration": 17,
    "start_time": "2021-07-08T11:52:26.122Z"
   },
   {
    "duration": 43,
    "start_time": "2021-07-08T11:52:26.142Z"
   },
   {
    "duration": 17,
    "start_time": "2021-07-08T11:52:26.187Z"
   },
   {
    "duration": 5,
    "start_time": "2021-07-08T11:52:26.206Z"
   },
   {
    "duration": 12,
    "start_time": "2021-07-08T11:52:26.212Z"
   },
   {
    "duration": 11,
    "start_time": "2021-07-08T11:52:26.226Z"
   },
   {
    "duration": 12,
    "start_time": "2021-07-08T11:52:26.238Z"
   },
   {
    "duration": 38,
    "start_time": "2021-07-08T11:52:26.252Z"
   },
   {
    "duration": 40,
    "start_time": "2021-07-08T11:52:26.292Z"
   },
   {
    "duration": 17,
    "start_time": "2021-07-08T11:52:26.336Z"
   },
   {
    "duration": 39,
    "start_time": "2021-07-08T11:52:26.355Z"
   },
   {
    "duration": 11,
    "start_time": "2021-07-08T11:52:26.395Z"
   },
   {
    "duration": 23,
    "start_time": "2021-07-08T11:52:26.408Z"
   },
   {
    "duration": 12,
    "start_time": "2021-07-08T11:52:26.432Z"
   },
   {
    "duration": 41,
    "start_time": "2021-07-08T11:52:26.446Z"
   },
   {
    "duration": 215,
    "start_time": "2021-07-08T11:52:26.493Z"
   },
   {
    "duration": 8,
    "start_time": "2021-07-08T11:52:26.710Z"
   },
   {
    "duration": 228,
    "start_time": "2021-07-08T11:52:26.720Z"
   },
   {
    "duration": 18,
    "start_time": "2021-07-08T11:52:26.950Z"
   },
   {
    "duration": 35,
    "start_time": "2021-07-08T11:52:26.969Z"
   },
   {
    "duration": 23,
    "start_time": "2021-07-08T11:52:27.006Z"
   },
   {
    "duration": 258,
    "start_time": "2021-07-08T11:52:27.030Z"
   },
   {
    "duration": 24,
    "start_time": "2021-07-08T11:52:27.290Z"
   },
   {
    "duration": 12,
    "start_time": "2021-07-08T11:52:27.316Z"
   },
   {
    "duration": 10,
    "start_time": "2021-07-08T11:52:27.329Z"
   },
   {
    "duration": 298,
    "start_time": "2021-07-08T11:52:27.341Z"
   },
   {
    "duration": 436,
    "start_time": "2021-07-08T11:52:27.641Z"
   },
   {
    "duration": 216,
    "start_time": "2021-07-08T11:52:28.079Z"
   },
   {
    "duration": 20,
    "start_time": "2021-07-08T11:52:28.297Z"
   },
   {
    "duration": 17,
    "start_time": "2021-07-08T11:52:28.319Z"
   },
   {
    "duration": 369,
    "start_time": "2022-06-24T23:21:43.156Z"
   },
   {
    "duration": 405,
    "start_time": "2022-06-24T23:22:45.651Z"
   },
   {
    "duration": 195,
    "start_time": "2022-06-24T23:23:25.434Z"
   },
   {
    "duration": 154,
    "start_time": "2022-06-24T23:34:23.683Z"
   },
   {
    "duration": 304,
    "start_time": "2022-06-24T23:35:07.052Z"
   },
   {
    "duration": 4,
    "start_time": "2022-06-24T23:35:48.589Z"
   },
   {
    "duration": 11,
    "start_time": "2022-06-24T23:40:16.482Z"
   },
   {
    "duration": 10,
    "start_time": "2022-06-24T23:41:07.738Z"
   },
   {
    "duration": 10,
    "start_time": "2022-06-24T23:42:36.082Z"
   },
   {
    "duration": 10,
    "start_time": "2022-06-24T23:43:02.137Z"
   },
   {
    "duration": 428,
    "start_time": "2022-06-24T23:43:11.509Z"
   },
   {
    "duration": 162,
    "start_time": "2022-06-24T23:43:11.939Z"
   },
   {
    "duration": 63,
    "start_time": "2022-06-24T23:43:12.102Z"
   },
   {
    "duration": 11,
    "start_time": "2022-06-24T23:43:51.738Z"
   },
   {
    "duration": 9,
    "start_time": "2022-06-24T23:44:14.043Z"
   },
   {
    "duration": 10,
    "start_time": "2022-06-24T23:45:00.994Z"
   },
   {
    "duration": 384,
    "start_time": "2022-06-24T23:45:16.142Z"
   },
   {
    "duration": 162,
    "start_time": "2022-06-24T23:45:16.528Z"
   },
   {
    "duration": 3,
    "start_time": "2022-06-24T23:45:16.692Z"
   },
   {
    "duration": 32,
    "start_time": "2022-06-24T23:45:32.977Z"
   },
   {
    "duration": 31,
    "start_time": "2022-06-24T23:45:48.075Z"
   },
   {
    "duration": 32,
    "start_time": "2022-06-24T23:46:04.448Z"
   },
   {
    "duration": 28,
    "start_time": "2022-06-24T23:46:50.994Z"
   },
   {
    "duration": 23,
    "start_time": "2022-06-24T23:49:03.501Z"
   },
   {
    "duration": 29,
    "start_time": "2022-06-24T23:49:41.111Z"
   },
   {
    "duration": 23,
    "start_time": "2022-06-24T23:49:50.142Z"
   },
   {
    "duration": 23,
    "start_time": "2022-06-24T23:49:58.856Z"
   },
   {
    "duration": 27,
    "start_time": "2022-06-24T23:50:11.077Z"
   },
   {
    "duration": 378,
    "start_time": "2022-06-24T23:50:22.147Z"
   },
   {
    "duration": 158,
    "start_time": "2022-06-24T23:50:22.527Z"
   },
   {
    "duration": 26,
    "start_time": "2022-06-24T23:50:22.687Z"
   },
   {
    "duration": 440,
    "start_time": "2022-06-24T23:50:51.207Z"
   },
   {
    "duration": 171,
    "start_time": "2022-06-24T23:50:51.649Z"
   },
   {
    "duration": 29,
    "start_time": "2022-06-24T23:50:51.822Z"
   },
   {
    "duration": 373,
    "start_time": "2022-06-24T23:51:17.561Z"
   },
   {
    "duration": 160,
    "start_time": "2022-06-24T23:51:17.936Z"
   },
   {
    "duration": 16,
    "start_time": "2022-06-24T23:51:18.097Z"
   },
   {
    "duration": 397,
    "start_time": "2022-06-24T23:51:35.153Z"
   },
   {
    "duration": 166,
    "start_time": "2022-06-24T23:51:35.552Z"
   },
   {
    "duration": 17,
    "start_time": "2022-06-24T23:51:35.720Z"
   },
   {
    "duration": 21,
    "start_time": "2022-06-24T23:51:43.781Z"
   },
   {
    "duration": 390,
    "start_time": "2022-06-24T23:51:55.536Z"
   },
   {
    "duration": 159,
    "start_time": "2022-06-24T23:51:55.927Z"
   },
   {
    "duration": 26,
    "start_time": "2022-06-24T23:51:56.087Z"
   },
   {
    "duration": 17,
    "start_time": "2022-06-24T23:52:52.141Z"
   },
   {
    "duration": 25,
    "start_time": "2022-06-24T23:53:11.585Z"
   },
   {
    "duration": 29,
    "start_time": "2022-06-24T23:53:22.797Z"
   },
   {
    "duration": 36,
    "start_time": "2022-06-24T23:53:33.952Z"
   },
   {
    "duration": 398,
    "start_time": "2022-06-24T23:53:54.351Z"
   },
   {
    "duration": 159,
    "start_time": "2022-06-24T23:53:54.751Z"
   },
   {
    "duration": 25,
    "start_time": "2022-06-24T23:53:54.912Z"
   },
   {
    "duration": 15,
    "start_time": "2022-06-24T23:53:54.939Z"
   },
   {
    "duration": 72,
    "start_time": "2022-06-25T00:03:13.754Z"
   },
   {
    "duration": 13,
    "start_time": "2022-06-25T00:04:20.026Z"
   },
   {
    "duration": 39,
    "start_time": "2022-06-25T00:05:41.488Z"
   },
   {
    "duration": 18,
    "start_time": "2022-06-25T00:05:46.578Z"
   },
   {
    "duration": 19,
    "start_time": "2022-06-25T00:05:50.636Z"
   },
   {
    "duration": 28,
    "start_time": "2022-06-25T00:07:04.908Z"
   },
   {
    "duration": 911,
    "start_time": "2022-06-25T00:11:16.934Z"
   },
   {
    "duration": 30,
    "start_time": "2022-06-25T00:11:21.553Z"
   },
   {
    "duration": 12,
    "start_time": "2022-06-25T00:11:33.611Z"
   },
   {
    "duration": 360,
    "start_time": "2022-06-25T00:11:38.573Z"
   },
   {
    "duration": 165,
    "start_time": "2022-06-25T00:11:38.935Z"
   },
   {
    "duration": 26,
    "start_time": "2022-06-25T00:11:39.103Z"
   },
   {
    "duration": 15,
    "start_time": "2022-06-25T00:11:39.131Z"
   },
   {
    "duration": 13,
    "start_time": "2022-06-25T00:11:39.147Z"
   },
   {
    "duration": 21,
    "start_time": "2022-06-25T00:11:39.162Z"
   },
   {
    "duration": 57,
    "start_time": "2022-06-25T00:11:39.184Z"
   },
   {
    "duration": 433,
    "start_time": "2022-06-25T00:12:51.510Z"
   },
   {
    "duration": 167,
    "start_time": "2022-06-25T00:12:51.945Z"
   },
   {
    "duration": 31,
    "start_time": "2022-06-25T00:12:52.114Z"
   },
   {
    "duration": 16,
    "start_time": "2022-06-25T00:12:52.147Z"
   },
   {
    "duration": 5,
    "start_time": "2022-06-25T00:12:52.165Z"
   },
   {
    "duration": 24,
    "start_time": "2022-06-25T00:12:52.171Z"
   },
   {
    "duration": 37,
    "start_time": "2022-06-25T00:12:52.197Z"
   },
   {
    "duration": 361,
    "start_time": "2022-06-30T14:19:24.478Z"
   },
   {
    "duration": 238,
    "start_time": "2022-06-30T14:19:24.841Z"
   },
   {
    "duration": 24,
    "start_time": "2022-06-30T14:19:25.081Z"
   },
   {
    "duration": 14,
    "start_time": "2022-06-30T14:19:25.107Z"
   },
   {
    "duration": 2,
    "start_time": "2022-06-30T14:19:25.122Z"
   },
   {
    "duration": 37,
    "start_time": "2022-06-30T14:19:25.125Z"
   },
   {
    "duration": 18,
    "start_time": "2022-06-30T14:19:25.163Z"
   },
   {
    "duration": 421,
    "start_time": "2022-06-30T16:30:54.468Z"
   },
   {
    "duration": 131,
    "start_time": "2022-06-30T16:30:54.891Z"
   },
   {
    "duration": 29,
    "start_time": "2022-06-30T16:30:55.026Z"
   },
   {
    "duration": 16,
    "start_time": "2022-06-30T16:30:55.056Z"
   },
   {
    "duration": 2,
    "start_time": "2022-06-30T16:30:55.074Z"
   },
   {
    "duration": 21,
    "start_time": "2022-06-30T16:30:55.077Z"
   },
   {
    "duration": 20,
    "start_time": "2022-06-30T16:30:55.100Z"
   },
   {
    "duration": 9,
    "start_time": "2022-06-30T17:38:56.354Z"
   },
   {
    "duration": 340,
    "start_time": "2022-06-30T17:39:01.806Z"
   },
   {
    "duration": 122,
    "start_time": "2022-06-30T17:39:02.148Z"
   },
   {
    "duration": 25,
    "start_time": "2022-06-30T17:39:02.271Z"
   },
   {
    "duration": 13,
    "start_time": "2022-06-30T17:39:02.298Z"
   },
   {
    "duration": 8,
    "start_time": "2022-06-30T17:39:02.313Z"
   },
   {
    "duration": 39,
    "start_time": "2022-06-30T17:39:02.323Z"
   },
   {
    "duration": 21,
    "start_time": "2022-06-30T17:39:02.363Z"
   },
   {
    "duration": 57,
    "start_time": "2022-06-30T17:50:03.330Z"
   },
   {
    "duration": 358,
    "start_time": "2022-06-30T17:50:13.875Z"
   },
   {
    "duration": 120,
    "start_time": "2022-06-30T17:50:14.234Z"
   },
   {
    "duration": 73,
    "start_time": "2022-06-30T17:50:14.355Z"
   },
   {
    "duration": 0,
    "start_time": "2022-06-30T17:50:14.430Z"
   },
   {
    "duration": 0,
    "start_time": "2022-06-30T17:50:14.433Z"
   },
   {
    "duration": 0,
    "start_time": "2022-06-30T17:50:14.434Z"
   },
   {
    "duration": 0,
    "start_time": "2022-06-30T17:50:14.450Z"
   },
   {
    "duration": 9,
    "start_time": "2022-06-30T17:51:07.920Z"
   },
   {
    "duration": 11,
    "start_time": "2022-06-30T17:51:33.063Z"
   },
   {
    "duration": 9,
    "start_time": "2022-06-30T17:51:44.213Z"
   },
   {
    "duration": 10,
    "start_time": "2022-06-30T17:51:52.992Z"
   },
   {
    "duration": 9,
    "start_time": "2022-06-30T17:53:10.787Z"
   },
   {
    "duration": 27,
    "start_time": "2022-06-30T17:53:35.414Z"
   },
   {
    "duration": 54,
    "start_time": "2022-06-30T17:53:59.203Z"
   },
   {
    "duration": 17,
    "start_time": "2022-06-30T17:54:08.335Z"
   },
   {
    "duration": 391,
    "start_time": "2022-06-30T17:54:46.121Z"
   },
   {
    "duration": 138,
    "start_time": "2022-06-30T17:54:46.514Z"
   },
   {
    "duration": 13,
    "start_time": "2022-06-30T17:54:46.654Z"
   },
   {
    "duration": 11,
    "start_time": "2022-06-30T17:54:46.670Z"
   },
   {
    "duration": 12,
    "start_time": "2022-06-30T17:54:46.682Z"
   },
   {
    "duration": 13,
    "start_time": "2022-06-30T17:54:46.696Z"
   },
   {
    "duration": 6,
    "start_time": "2022-06-30T17:54:46.710Z"
   },
   {
    "duration": 13,
    "start_time": "2022-06-30T17:55:20.974Z"
   },
   {
    "duration": 362,
    "start_time": "2022-06-30T17:55:27.992Z"
   },
   {
    "duration": 136,
    "start_time": "2022-06-30T17:55:28.357Z"
   },
   {
    "duration": 24,
    "start_time": "2022-06-30T17:55:28.495Z"
   },
   {
    "duration": 35,
    "start_time": "2022-06-30T17:55:28.521Z"
   },
   {
    "duration": 11,
    "start_time": "2022-06-30T17:55:28.557Z"
   },
   {
    "duration": 20,
    "start_time": "2022-06-30T17:55:28.570Z"
   },
   {
    "duration": 24,
    "start_time": "2022-06-30T17:55:28.592Z"
   },
   {
    "duration": 22,
    "start_time": "2022-06-30T17:59:26.590Z"
   },
   {
    "duration": 345,
    "start_time": "2022-06-30T17:59:33.791Z"
   },
   {
    "duration": 123,
    "start_time": "2022-06-30T17:59:34.138Z"
   },
   {
    "duration": 17,
    "start_time": "2022-06-30T17:59:34.262Z"
   },
   {
    "duration": 12,
    "start_time": "2022-06-30T17:59:34.281Z"
   },
   {
    "duration": 9,
    "start_time": "2022-06-30T17:59:34.294Z"
   },
   {
    "duration": 14,
    "start_time": "2022-06-30T17:59:34.304Z"
   },
   {
    "duration": 44,
    "start_time": "2022-06-30T17:59:34.319Z"
   },
   {
    "duration": 17,
    "start_time": "2022-06-30T17:59:50.906Z"
   },
   {
    "duration": 18,
    "start_time": "2022-06-30T18:00:08.891Z"
   },
   {
    "duration": 16,
    "start_time": "2022-06-30T18:00:17.156Z"
   },
   {
    "duration": 14,
    "start_time": "2022-06-30T18:00:24.711Z"
   },
   {
    "duration": 392,
    "start_time": "2022-06-30T18:00:52.422Z"
   },
   {
    "duration": 120,
    "start_time": "2022-06-30T18:00:52.815Z"
   },
   {
    "duration": 16,
    "start_time": "2022-06-30T18:00:52.936Z"
   },
   {
    "duration": 12,
    "start_time": "2022-06-30T18:00:52.954Z"
   },
   {
    "duration": 8,
    "start_time": "2022-06-30T18:00:52.968Z"
   },
   {
    "duration": 12,
    "start_time": "2022-06-30T18:00:52.977Z"
   },
   {
    "duration": 17,
    "start_time": "2022-06-30T18:00:52.991Z"
   },
   {
    "duration": 16,
    "start_time": "2022-06-30T18:01:35.971Z"
   },
   {
    "duration": 363,
    "start_time": "2022-06-30T18:01:56.770Z"
   },
   {
    "duration": 124,
    "start_time": "2022-06-30T18:01:57.134Z"
   },
   {
    "duration": 12,
    "start_time": "2022-06-30T18:01:57.259Z"
   },
   {
    "duration": 15,
    "start_time": "2022-06-30T18:01:57.273Z"
   },
   {
    "duration": 12,
    "start_time": "2022-06-30T18:01:57.290Z"
   },
   {
    "duration": 7,
    "start_time": "2022-06-30T18:01:57.303Z"
   },
   {
    "duration": 14,
    "start_time": "2022-06-30T18:01:57.311Z"
   },
   {
    "duration": 43,
    "start_time": "2022-06-30T18:01:57.326Z"
   },
   {
    "duration": 10,
    "start_time": "2022-06-30T18:03:51.016Z"
   },
   {
    "duration": 19,
    "start_time": "2022-06-30T18:04:00.978Z"
   },
   {
    "duration": 425,
    "start_time": "2022-06-30T18:04:26.843Z"
   },
   {
    "duration": 135,
    "start_time": "2022-06-30T18:04:27.270Z"
   },
   {
    "duration": 15,
    "start_time": "2022-06-30T18:04:27.406Z"
   },
   {
    "duration": 35,
    "start_time": "2022-06-30T18:04:27.422Z"
   },
   {
    "duration": 18,
    "start_time": "2022-06-30T18:04:27.459Z"
   },
   {
    "duration": 14,
    "start_time": "2022-06-30T18:04:27.479Z"
   },
   {
    "duration": 24,
    "start_time": "2022-06-30T18:04:27.495Z"
   },
   {
    "duration": 46,
    "start_time": "2022-06-30T18:04:27.520Z"
   },
   {
    "duration": 30,
    "start_time": "2022-06-30T18:06:18.370Z"
   },
   {
    "duration": 429,
    "start_time": "2022-06-30T18:06:24.136Z"
   },
   {
    "duration": 123,
    "start_time": "2022-06-30T18:06:24.566Z"
   },
   {
    "duration": 13,
    "start_time": "2022-06-30T18:06:24.690Z"
   },
   {
    "duration": 23,
    "start_time": "2022-06-30T18:06:24.705Z"
   },
   {
    "duration": 33,
    "start_time": "2022-06-30T18:06:24.729Z"
   },
   {
    "duration": 9,
    "start_time": "2022-06-30T18:06:24.763Z"
   },
   {
    "duration": 16,
    "start_time": "2022-06-30T18:06:24.773Z"
   },
   {
    "duration": 17,
    "start_time": "2022-06-30T18:06:24.791Z"
   },
   {
    "duration": 397,
    "start_time": "2022-06-30T18:22:14.060Z"
   },
   {
    "duration": 133,
    "start_time": "2022-06-30T18:22:14.460Z"
   },
   {
    "duration": 13,
    "start_time": "2022-06-30T18:22:14.595Z"
   },
   {
    "duration": 28,
    "start_time": "2022-06-30T18:22:14.609Z"
   },
   {
    "duration": 14,
    "start_time": "2022-06-30T18:22:14.650Z"
   },
   {
    "duration": 16,
    "start_time": "2022-06-30T18:22:14.666Z"
   },
   {
    "duration": 7,
    "start_time": "2022-06-30T18:22:14.683Z"
   },
   {
    "duration": 25,
    "start_time": "2022-06-30T18:22:14.692Z"
   },
   {
    "duration": 27,
    "start_time": "2022-06-30T18:25:45.016Z"
   },
   {
    "duration": 341,
    "start_time": "2022-06-30T18:25:55.085Z"
   },
   {
    "duration": 123,
    "start_time": "2022-06-30T18:25:55.427Z"
   },
   {
    "duration": 7,
    "start_time": "2022-06-30T18:25:55.551Z"
   },
   {
    "duration": 28,
    "start_time": "2022-06-30T18:25:55.560Z"
   },
   {
    "duration": 13,
    "start_time": "2022-06-30T18:25:55.590Z"
   },
   {
    "duration": 10,
    "start_time": "2022-06-30T18:25:55.604Z"
   },
   {
    "duration": 10,
    "start_time": "2022-06-30T18:25:55.615Z"
   },
   {
    "duration": 40,
    "start_time": "2022-06-30T18:25:55.627Z"
   },
   {
    "duration": 441,
    "start_time": "2022-07-05T15:08:58.223Z"
   },
   {
    "duration": 268,
    "start_time": "2022-07-05T15:08:58.666Z"
   },
   {
    "duration": 15,
    "start_time": "2022-07-05T15:08:58.937Z"
   },
   {
    "duration": 30,
    "start_time": "2022-07-05T15:08:58.954Z"
   },
   {
    "duration": 15,
    "start_time": "2022-07-05T15:08:58.985Z"
   },
   {
    "duration": 20,
    "start_time": "2022-07-05T15:08:59.023Z"
   },
   {
    "duration": 23,
    "start_time": "2022-07-05T15:08:59.046Z"
   },
   {
    "duration": 32,
    "start_time": "2022-07-05T15:08:59.071Z"
   },
   {
    "duration": 415,
    "start_time": "2022-07-07T16:48:36.099Z"
   },
   {
    "duration": 388,
    "start_time": "2022-07-07T16:48:36.516Z"
   },
   {
    "duration": 8,
    "start_time": "2022-07-07T16:48:36.906Z"
   },
   {
    "duration": 30,
    "start_time": "2022-07-07T16:48:36.916Z"
   },
   {
    "duration": 14,
    "start_time": "2022-07-07T16:48:36.948Z"
   },
   {
    "duration": 21,
    "start_time": "2022-07-07T16:48:36.964Z"
   },
   {
    "duration": 24,
    "start_time": "2022-07-07T16:48:36.987Z"
   },
   {
    "duration": 34,
    "start_time": "2022-07-07T16:48:37.025Z"
   },
   {
    "duration": 11,
    "start_time": "2022-07-07T17:07:47.904Z"
   },
   {
    "duration": 13,
    "start_time": "2022-07-07T17:16:59.184Z"
   },
   {
    "duration": 52,
    "start_time": "2022-07-07T17:17:20.386Z"
   },
   {
    "duration": 16,
    "start_time": "2022-07-07T17:18:39.392Z"
   },
   {
    "duration": 11,
    "start_time": "2022-07-07T17:23:03.464Z"
   },
   {
    "duration": 16,
    "start_time": "2022-07-07T17:25:53.389Z"
   },
   {
    "duration": 24,
    "start_time": "2022-07-07T17:26:05.487Z"
   },
   {
    "duration": 12,
    "start_time": "2022-07-07T17:30:59.064Z"
   },
   {
    "duration": 53,
    "start_time": "2022-07-07T17:38:53.125Z"
   },
   {
    "duration": 798,
    "start_time": "2022-07-07T17:39:11.195Z"
   },
   {
    "duration": 75,
    "start_time": "2022-07-07T17:40:58.198Z"
   },
   {
    "duration": 55,
    "start_time": "2022-07-07T17:41:16.393Z"
   },
   {
    "duration": 48,
    "start_time": "2022-07-07T17:41:22.221Z"
   },
   {
    "duration": 2,
    "start_time": "2022-07-07T17:44:35.842Z"
   },
   {
    "duration": 20,
    "start_time": "2022-07-07T17:44:39.156Z"
   },
   {
    "duration": 420,
    "start_time": "2022-07-09T12:53:17.262Z"
   },
   {
    "duration": 362,
    "start_time": "2022-07-09T12:53:17.685Z"
   },
   {
    "duration": 44,
    "start_time": "2022-07-09T12:53:18.053Z"
   },
   {
    "duration": 17,
    "start_time": "2022-07-09T12:53:18.099Z"
   },
   {
    "duration": 38,
    "start_time": "2022-07-09T12:53:18.118Z"
   },
   {
    "duration": 17,
    "start_time": "2022-07-09T12:53:18.161Z"
   },
   {
    "duration": 12,
    "start_time": "2022-07-09T12:53:18.180Z"
   },
   {
    "duration": 5,
    "start_time": "2022-07-09T12:53:18.194Z"
   },
   {
    "duration": 55,
    "start_time": "2022-07-09T12:53:18.201Z"
   },
   {
    "duration": 10,
    "start_time": "2022-07-09T12:59:03.453Z"
   },
   {
    "duration": 23,
    "start_time": "2022-07-09T13:00:33.915Z"
   },
   {
    "duration": 20,
    "start_time": "2022-07-09T13:00:40.826Z"
   },
   {
    "duration": 12,
    "start_time": "2022-07-09T13:04:10.997Z"
   },
   {
    "duration": 15,
    "start_time": "2022-07-09T13:04:28.816Z"
   },
   {
    "duration": 29,
    "start_time": "2022-07-09T13:06:21.092Z"
   },
   {
    "duration": 22,
    "start_time": "2022-07-09T13:28:16.444Z"
   },
   {
    "duration": 11,
    "start_time": "2022-07-09T13:40:04.654Z"
   },
   {
    "duration": 415,
    "start_time": "2022-07-09T13:40:22.339Z"
   },
   {
    "duration": 143,
    "start_time": "2022-07-09T13:40:22.755Z"
   },
   {
    "duration": 11,
    "start_time": "2022-07-09T13:40:22.899Z"
   },
   {
    "duration": 41,
    "start_time": "2022-07-09T13:40:22.912Z"
   },
   {
    "duration": 31,
    "start_time": "2022-07-09T13:40:22.956Z"
   },
   {
    "duration": 18,
    "start_time": "2022-07-09T13:40:22.989Z"
   },
   {
    "duration": 30,
    "start_time": "2022-07-09T13:40:23.009Z"
   },
   {
    "duration": 10,
    "start_time": "2022-07-09T13:40:23.041Z"
   },
   {
    "duration": 16,
    "start_time": "2022-07-09T13:40:23.053Z"
   },
   {
    "duration": 12,
    "start_time": "2022-07-09T13:40:23.071Z"
   },
   {
    "duration": 22,
    "start_time": "2022-07-09T13:40:23.084Z"
   },
   {
    "duration": 36,
    "start_time": "2022-07-09T13:40:23.108Z"
   },
   {
    "duration": 28,
    "start_time": "2022-07-09T13:40:23.146Z"
   },
   {
    "duration": 23,
    "start_time": "2022-07-09T13:40:23.177Z"
   },
   {
    "duration": 64,
    "start_time": "2022-07-09T13:40:23.202Z"
   },
   {
    "duration": 0,
    "start_time": "2022-07-09T13:40:23.268Z"
   },
   {
    "duration": 70,
    "start_time": "2022-07-09T13:41:47.520Z"
   },
   {
    "duration": 364,
    "start_time": "2022-07-09T13:41:51.460Z"
   },
   {
    "duration": 132,
    "start_time": "2022-07-09T13:41:51.826Z"
   },
   {
    "duration": 10,
    "start_time": "2022-07-09T13:41:51.959Z"
   },
   {
    "duration": 13,
    "start_time": "2022-07-09T13:41:51.971Z"
   },
   {
    "duration": 97,
    "start_time": "2022-07-09T13:41:51.985Z"
   },
   {
    "duration": 0,
    "start_time": "2022-07-09T13:41:52.083Z"
   },
   {
    "duration": 0,
    "start_time": "2022-07-09T13:41:52.085Z"
   },
   {
    "duration": 0,
    "start_time": "2022-07-09T13:41:52.086Z"
   },
   {
    "duration": 0,
    "start_time": "2022-07-09T13:41:52.087Z"
   },
   {
    "duration": 0,
    "start_time": "2022-07-09T13:41:52.089Z"
   },
   {
    "duration": 0,
    "start_time": "2022-07-09T13:41:52.090Z"
   },
   {
    "duration": 0,
    "start_time": "2022-07-09T13:41:52.091Z"
   },
   {
    "duration": 0,
    "start_time": "2022-07-09T13:41:52.092Z"
   },
   {
    "duration": 0,
    "start_time": "2022-07-09T13:41:52.093Z"
   },
   {
    "duration": 0,
    "start_time": "2022-07-09T13:41:52.094Z"
   },
   {
    "duration": 0,
    "start_time": "2022-07-09T13:41:52.095Z"
   },
   {
    "duration": 0,
    "start_time": "2022-07-09T13:41:52.096Z"
   },
   {
    "duration": 13,
    "start_time": "2022-07-09T13:42:15.686Z"
   },
   {
    "duration": 228,
    "start_time": "2022-07-09T14:38:24.228Z"
   },
   {
    "duration": 6,
    "start_time": "2022-07-09T14:39:27.681Z"
   },
   {
    "duration": 368,
    "start_time": "2022-07-09T14:40:29.670Z"
   },
   {
    "duration": 133,
    "start_time": "2022-07-09T14:40:30.040Z"
   },
   {
    "duration": 10,
    "start_time": "2022-07-09T14:40:30.175Z"
   },
   {
    "duration": 9,
    "start_time": "2022-07-09T14:40:30.187Z"
   },
   {
    "duration": 491,
    "start_time": "2022-07-09T14:40:30.197Z"
   },
   {
    "duration": 0,
    "start_time": "2022-07-09T14:40:30.690Z"
   },
   {
    "duration": 0,
    "start_time": "2022-07-09T14:40:30.691Z"
   },
   {
    "duration": 0,
    "start_time": "2022-07-09T14:40:30.692Z"
   },
   {
    "duration": 0,
    "start_time": "2022-07-09T14:40:30.693Z"
   },
   {
    "duration": 0,
    "start_time": "2022-07-09T14:40:30.694Z"
   },
   {
    "duration": 0,
    "start_time": "2022-07-09T14:40:30.695Z"
   },
   {
    "duration": 0,
    "start_time": "2022-07-09T14:40:30.696Z"
   },
   {
    "duration": 0,
    "start_time": "2022-07-09T14:40:30.697Z"
   },
   {
    "duration": 0,
    "start_time": "2022-07-09T14:40:30.700Z"
   },
   {
    "duration": 1,
    "start_time": "2022-07-09T14:40:30.700Z"
   },
   {
    "duration": 0,
    "start_time": "2022-07-09T14:40:30.701Z"
   },
   {
    "duration": 200,
    "start_time": "2022-07-09T14:41:43.171Z"
   },
   {
    "duration": 442,
    "start_time": "2022-07-09T14:44:01.831Z"
   },
   {
    "duration": 140,
    "start_time": "2022-07-09T14:44:02.275Z"
   },
   {
    "duration": 9,
    "start_time": "2022-07-09T14:44:02.417Z"
   },
   {
    "duration": 7,
    "start_time": "2022-07-09T14:44:02.429Z"
   },
   {
    "duration": 30,
    "start_time": "2022-07-09T14:44:02.437Z"
   },
   {
    "duration": 15,
    "start_time": "2022-07-09T14:44:02.469Z"
   },
   {
    "duration": 50,
    "start_time": "2022-07-09T14:44:02.486Z"
   },
   {
    "duration": 11,
    "start_time": "2022-07-09T14:44:02.537Z"
   },
   {
    "duration": 14,
    "start_time": "2022-07-09T14:44:02.549Z"
   },
   {
    "duration": 13,
    "start_time": "2022-07-09T14:44:02.566Z"
   },
   {
    "duration": 50,
    "start_time": "2022-07-09T14:44:02.581Z"
   },
   {
    "duration": 14,
    "start_time": "2022-07-09T14:44:02.633Z"
   },
   {
    "duration": 34,
    "start_time": "2022-07-09T14:44:02.649Z"
   },
   {
    "duration": 45,
    "start_time": "2022-07-09T14:44:02.685Z"
   },
   {
    "duration": 49,
    "start_time": "2022-07-09T14:44:02.732Z"
   },
   {
    "duration": 0,
    "start_time": "2022-07-09T14:44:02.783Z"
   },
   {
    "duration": 402,
    "start_time": "2022-07-11T20:06:44.583Z"
   },
   {
    "duration": 260,
    "start_time": "2022-07-11T20:06:44.987Z"
   },
   {
    "duration": 26,
    "start_time": "2022-07-11T20:06:45.249Z"
   },
   {
    "duration": 39,
    "start_time": "2022-07-11T20:06:45.277Z"
   },
   {
    "duration": 28,
    "start_time": "2022-07-11T20:06:45.318Z"
   },
   {
    "duration": 9,
    "start_time": "2022-07-11T20:06:45.348Z"
   },
   {
    "duration": 23,
    "start_time": "2022-07-11T20:06:45.359Z"
   },
   {
    "duration": 60,
    "start_time": "2022-07-11T20:06:45.384Z"
   },
   {
    "duration": 61,
    "start_time": "2022-07-11T20:06:45.446Z"
   },
   {
    "duration": 30,
    "start_time": "2022-07-11T20:06:45.510Z"
   },
   {
    "duration": 42,
    "start_time": "2022-07-11T20:06:45.542Z"
   },
   {
    "duration": 28,
    "start_time": "2022-07-11T20:06:45.585Z"
   },
   {
    "duration": 50,
    "start_time": "2022-07-11T20:06:45.614Z"
   },
   {
    "duration": 0,
    "start_time": "2022-07-11T20:06:45.666Z"
   },
   {
    "duration": 26,
    "start_time": "2022-07-11T20:08:16.689Z"
   },
   {
    "duration": 26,
    "start_time": "2022-07-11T20:10:41.822Z"
   },
   {
    "duration": 377,
    "start_time": "2022-07-11T20:10:48.414Z"
   },
   {
    "duration": 141,
    "start_time": "2022-07-11T20:10:48.793Z"
   },
   {
    "duration": 26,
    "start_time": "2022-07-11T20:10:48.935Z"
   },
   {
    "duration": 12,
    "start_time": "2022-07-11T20:10:48.962Z"
   },
   {
    "duration": 46,
    "start_time": "2022-07-11T20:10:48.976Z"
   },
   {
    "duration": 9,
    "start_time": "2022-07-11T20:10:49.024Z"
   },
   {
    "duration": 11,
    "start_time": "2022-07-11T20:10:49.035Z"
   },
   {
    "duration": 10,
    "start_time": "2022-07-11T20:10:49.048Z"
   },
   {
    "duration": 17,
    "start_time": "2022-07-11T20:10:49.060Z"
   },
   {
    "duration": 17,
    "start_time": "2022-07-11T20:10:49.101Z"
   },
   {
    "duration": 27,
    "start_time": "2022-07-11T20:10:49.120Z"
   },
   {
    "duration": 21,
    "start_time": "2022-07-11T20:10:49.149Z"
   },
   {
    "duration": 55,
    "start_time": "2022-07-11T20:10:49.171Z"
   },
   {
    "duration": 0,
    "start_time": "2022-07-11T20:10:49.227Z"
   },
   {
    "duration": 24,
    "start_time": "2022-07-11T20:11:47.879Z"
   },
   {
    "duration": 7,
    "start_time": "2022-07-11T20:14:37.913Z"
   },
   {
    "duration": 66,
    "start_time": "2022-07-11T20:15:08.070Z"
   },
   {
    "duration": 7,
    "start_time": "2022-07-11T20:15:10.780Z"
   },
   {
    "duration": 7,
    "start_time": "2022-07-11T20:15:15.449Z"
   },
   {
    "duration": 3,
    "start_time": "2022-07-11T20:23:21.375Z"
   },
   {
    "duration": 22,
    "start_time": "2022-07-11T20:57:45.456Z"
   },
   {
    "duration": 393,
    "start_time": "2022-07-11T20:57:59.492Z"
   },
   {
    "duration": 165,
    "start_time": "2022-07-11T20:57:59.887Z"
   },
   {
    "duration": 29,
    "start_time": "2022-07-11T20:58:00.054Z"
   },
   {
    "duration": 16,
    "start_time": "2022-07-11T20:58:00.101Z"
   },
   {
    "duration": 48,
    "start_time": "2022-07-11T20:58:00.120Z"
   },
   {
    "duration": 13,
    "start_time": "2022-07-11T20:58:00.170Z"
   },
   {
    "duration": 32,
    "start_time": "2022-07-11T20:58:00.185Z"
   },
   {
    "duration": 45,
    "start_time": "2022-07-11T20:58:00.220Z"
   },
   {
    "duration": 0,
    "start_time": "2022-07-11T20:58:00.267Z"
   },
   {
    "duration": 0,
    "start_time": "2022-07-11T20:58:00.269Z"
   },
   {
    "duration": 64,
    "start_time": "2022-07-11T20:58:24.209Z"
   },
   {
    "duration": 74,
    "start_time": "2022-07-11T20:58:29.862Z"
   },
   {
    "duration": 55,
    "start_time": "2022-07-11T20:58:34.336Z"
   },
   {
    "duration": 71,
    "start_time": "2022-07-11T20:59:29.735Z"
   },
   {
    "duration": 415,
    "start_time": "2022-07-11T20:59:40.695Z"
   },
   {
    "duration": 128,
    "start_time": "2022-07-11T20:59:41.112Z"
   },
   {
    "duration": 28,
    "start_time": "2022-07-11T20:59:41.242Z"
   },
   {
    "duration": 34,
    "start_time": "2022-07-11T20:59:41.272Z"
   },
   {
    "duration": 23,
    "start_time": "2022-07-11T20:59:41.308Z"
   },
   {
    "duration": 28,
    "start_time": "2022-07-11T20:59:41.333Z"
   },
   {
    "duration": 28,
    "start_time": "2022-07-11T20:59:41.363Z"
   },
   {
    "duration": 54,
    "start_time": "2022-07-11T20:59:41.393Z"
   },
   {
    "duration": 0,
    "start_time": "2022-07-11T20:59:41.449Z"
   },
   {
    "duration": 0,
    "start_time": "2022-07-11T20:59:41.450Z"
   },
   {
    "duration": 9,
    "start_time": "2022-07-11T21:00:10.868Z"
   },
   {
    "duration": 15,
    "start_time": "2022-07-11T21:00:15.820Z"
   },
   {
    "duration": 25,
    "start_time": "2022-07-11T21:00:57.425Z"
   },
   {
    "duration": 16,
    "start_time": "2022-07-11T21:09:17.717Z"
   },
   {
    "duration": 11,
    "start_time": "2022-07-11T21:14:59.906Z"
   },
   {
    "duration": 9,
    "start_time": "2022-07-11T21:17:11.374Z"
   },
   {
    "duration": 67,
    "start_time": "2022-07-11T21:18:27.781Z"
   },
   {
    "duration": 49,
    "start_time": "2022-07-11T21:20:25.288Z"
   },
   {
    "duration": 9,
    "start_time": "2022-07-11T21:20:43.575Z"
   },
   {
    "duration": 9,
    "start_time": "2022-07-11T21:21:39.591Z"
   },
   {
    "duration": 11,
    "start_time": "2022-07-11T21:24:17.486Z"
   },
   {
    "duration": 6,
    "start_time": "2022-07-11T21:24:44.083Z"
   },
   {
    "duration": 49,
    "start_time": "2022-07-11T21:24:50.347Z"
   },
   {
    "duration": 18,
    "start_time": "2022-07-11T21:25:05.738Z"
   },
   {
    "duration": 13,
    "start_time": "2022-07-11T21:25:25.177Z"
   },
   {
    "duration": 14,
    "start_time": "2022-07-11T21:25:30.183Z"
   },
   {
    "duration": 47,
    "start_time": "2022-07-11T21:26:41.091Z"
   },
   {
    "duration": 10,
    "start_time": "2022-07-11T21:28:53.402Z"
   },
   {
    "duration": 11,
    "start_time": "2022-07-11T21:29:13.147Z"
   },
   {
    "duration": 61,
    "start_time": "2022-07-11T21:30:45.284Z"
   },
   {
    "duration": 8,
    "start_time": "2022-07-11T21:31:21.836Z"
   },
   {
    "duration": 10,
    "start_time": "2022-07-11T21:31:25.861Z"
   },
   {
    "duration": 13,
    "start_time": "2022-07-11T21:42:57.265Z"
   },
   {
    "duration": 25,
    "start_time": "2022-07-11T21:43:10.899Z"
   },
   {
    "duration": 11,
    "start_time": "2022-07-11T22:02:26.308Z"
   },
   {
    "duration": 58,
    "start_time": "2022-07-11T22:02:35.975Z"
   },
   {
    "duration": 16,
    "start_time": "2022-07-11T22:03:54.569Z"
   },
   {
    "duration": 15,
    "start_time": "2022-07-11T22:09:21.385Z"
   },
   {
    "duration": 5,
    "start_time": "2022-07-11T22:10:16.314Z"
   },
   {
    "duration": 15,
    "start_time": "2022-07-11T22:10:41.988Z"
   },
   {
    "duration": 6,
    "start_time": "2022-07-11T22:13:44.065Z"
   },
   {
    "duration": 9,
    "start_time": "2022-07-11T22:14:39.760Z"
   },
   {
    "duration": 4,
    "start_time": "2022-07-11T22:15:21.208Z"
   },
   {
    "duration": 8,
    "start_time": "2022-07-11T22:15:23.601Z"
   },
   {
    "duration": 5,
    "start_time": "2022-07-11T22:15:28.986Z"
   },
   {
    "duration": 8,
    "start_time": "2022-07-11T22:15:31.069Z"
   },
   {
    "duration": 9,
    "start_time": "2022-07-11T22:17:05.226Z"
   },
   {
    "duration": 6,
    "start_time": "2022-07-11T22:17:14.988Z"
   },
   {
    "duration": 4,
    "start_time": "2022-07-11T22:19:14.102Z"
   },
   {
    "duration": 8,
    "start_time": "2022-07-11T22:22:14.831Z"
   },
   {
    "duration": 19,
    "start_time": "2022-07-11T22:27:06.968Z"
   },
   {
    "duration": 5,
    "start_time": "2022-07-11T22:28:27.229Z"
   },
   {
    "duration": 11,
    "start_time": "2022-07-11T22:29:06.110Z"
   },
   {
    "duration": 4,
    "start_time": "2022-07-11T22:34:02.403Z"
   },
   {
    "duration": 6,
    "start_time": "2022-07-11T22:35:04.226Z"
   },
   {
    "duration": 6,
    "start_time": "2022-07-11T22:39:02.625Z"
   },
   {
    "duration": 18,
    "start_time": "2022-07-11T22:39:14.456Z"
   },
   {
    "duration": 20,
    "start_time": "2022-07-11T22:39:33.836Z"
   },
   {
    "duration": 362,
    "start_time": "2022-07-11T22:45:20.223Z"
   },
   {
    "duration": 123,
    "start_time": "2022-07-11T22:45:20.587Z"
   },
   {
    "duration": 23,
    "start_time": "2022-07-11T22:45:20.714Z"
   },
   {
    "duration": 12,
    "start_time": "2022-07-11T22:45:20.739Z"
   },
   {
    "duration": 30,
    "start_time": "2022-07-11T22:45:20.752Z"
   },
   {
    "duration": 19,
    "start_time": "2022-07-11T22:45:20.784Z"
   },
   {
    "duration": 31,
    "start_time": "2022-07-11T22:45:20.804Z"
   },
   {
    "duration": 23,
    "start_time": "2022-07-11T22:45:20.837Z"
   },
   {
    "duration": 26,
    "start_time": "2022-07-11T22:45:20.863Z"
   },
   {
    "duration": 11,
    "start_time": "2022-07-11T22:45:20.890Z"
   },
   {
    "duration": 52,
    "start_time": "2022-07-11T22:45:20.902Z"
   },
   {
    "duration": 8,
    "start_time": "2022-07-11T22:45:20.955Z"
   },
   {
    "duration": 49,
    "start_time": "2022-07-11T22:45:20.965Z"
   },
   {
    "duration": 5,
    "start_time": "2022-07-11T22:45:21.016Z"
   },
   {
    "duration": 11,
    "start_time": "2022-07-11T22:45:21.023Z"
   },
   {
    "duration": 12,
    "start_time": "2022-07-11T22:45:21.036Z"
   },
   {
    "duration": 10,
    "start_time": "2022-07-11T22:45:21.050Z"
   },
   {
    "duration": 40,
    "start_time": "2022-07-11T22:45:21.061Z"
   },
   {
    "duration": 20,
    "start_time": "2022-07-11T22:45:21.103Z"
   },
   {
    "duration": 61,
    "start_time": "2022-07-11T22:51:29.781Z"
   },
   {
    "duration": 9,
    "start_time": "2022-07-11T22:52:18.776Z"
   },
   {
    "duration": 9,
    "start_time": "2022-07-11T22:52:24.992Z"
   },
   {
    "duration": 9,
    "start_time": "2022-07-11T22:53:13.594Z"
   },
   {
    "duration": 7,
    "start_time": "2022-07-11T22:58:59.056Z"
   },
   {
    "duration": 8,
    "start_time": "2022-07-11T22:59:08.191Z"
   },
   {
    "duration": 8,
    "start_time": "2022-07-11T23:01:14.035Z"
   },
   {
    "duration": 791,
    "start_time": "2022-07-11T23:01:20.206Z"
   },
   {
    "duration": 827,
    "start_time": "2022-07-11T23:01:41.397Z"
   },
   {
    "duration": 898,
    "start_time": "2022-07-11T23:10:12.138Z"
   },
   {
    "duration": 1919,
    "start_time": "2022-07-11T23:10:38.476Z"
   },
   {
    "duration": 1402,
    "start_time": "2022-07-11T23:11:20.230Z"
   },
   {
    "duration": 728,
    "start_time": "2022-07-11T23:12:55.985Z"
   },
   {
    "duration": 380,
    "start_time": "2022-07-11T23:14:44.110Z"
   },
   {
    "duration": 127,
    "start_time": "2022-07-11T23:14:44.492Z"
   },
   {
    "duration": 27,
    "start_time": "2022-07-11T23:14:44.623Z"
   },
   {
    "duration": 14,
    "start_time": "2022-07-11T23:14:44.651Z"
   },
   {
    "duration": 41,
    "start_time": "2022-07-11T23:14:44.666Z"
   },
   {
    "duration": 8,
    "start_time": "2022-07-11T23:14:44.709Z"
   },
   {
    "duration": 23,
    "start_time": "2022-07-11T23:14:44.719Z"
   },
   {
    "duration": 16,
    "start_time": "2022-07-11T23:14:44.743Z"
   },
   {
    "duration": 26,
    "start_time": "2022-07-11T23:14:44.762Z"
   },
   {
    "duration": 13,
    "start_time": "2022-07-11T23:14:44.790Z"
   },
   {
    "duration": 55,
    "start_time": "2022-07-11T23:14:44.804Z"
   },
   {
    "duration": 8,
    "start_time": "2022-07-11T23:14:44.860Z"
   },
   {
    "duration": 44,
    "start_time": "2022-07-11T23:14:44.869Z"
   },
   {
    "duration": 5,
    "start_time": "2022-07-11T23:14:44.914Z"
   },
   {
    "duration": 8,
    "start_time": "2022-07-11T23:14:44.921Z"
   },
   {
    "duration": 9,
    "start_time": "2022-07-11T23:14:44.930Z"
   },
   {
    "duration": 8,
    "start_time": "2022-07-11T23:14:44.941Z"
   },
   {
    "duration": 15,
    "start_time": "2022-07-11T23:14:44.950Z"
   },
   {
    "duration": 778,
    "start_time": "2022-07-11T23:14:44.966Z"
   },
   {
    "duration": 22,
    "start_time": "2022-07-11T23:14:45.745Z"
   },
   {
    "duration": 5,
    "start_time": "2022-07-11T23:15:40.973Z"
   },
   {
    "duration": 686,
    "start_time": "2022-07-11T23:16:30.831Z"
   },
   {
    "duration": 718,
    "start_time": "2022-07-11T23:16:44.001Z"
   },
   {
    "duration": 804,
    "start_time": "2022-07-11T23:16:54.811Z"
   },
   {
    "duration": 752,
    "start_time": "2022-07-11T23:17:03.521Z"
   },
   {
    "duration": 753,
    "start_time": "2022-07-11T23:17:14.923Z"
   },
   {
    "duration": 733,
    "start_time": "2022-07-11T23:17:30.963Z"
   },
   {
    "duration": 372,
    "start_time": "2022-07-11T23:17:42.817Z"
   },
   {
    "duration": 124,
    "start_time": "2022-07-11T23:17:43.191Z"
   },
   {
    "duration": 25,
    "start_time": "2022-07-11T23:17:43.317Z"
   },
   {
    "duration": 14,
    "start_time": "2022-07-11T23:17:43.344Z"
   },
   {
    "duration": 44,
    "start_time": "2022-07-11T23:17:43.359Z"
   },
   {
    "duration": 9,
    "start_time": "2022-07-11T23:17:43.405Z"
   },
   {
    "duration": 10,
    "start_time": "2022-07-11T23:17:43.416Z"
   },
   {
    "duration": 17,
    "start_time": "2022-07-11T23:17:43.428Z"
   },
   {
    "duration": 58,
    "start_time": "2022-07-11T23:17:43.446Z"
   },
   {
    "duration": 10,
    "start_time": "2022-07-11T23:17:43.508Z"
   },
   {
    "duration": 49,
    "start_time": "2022-07-11T23:17:43.519Z"
   },
   {
    "duration": 31,
    "start_time": "2022-07-11T23:17:43.570Z"
   },
   {
    "duration": 24,
    "start_time": "2022-07-11T23:17:43.603Z"
   },
   {
    "duration": 5,
    "start_time": "2022-07-11T23:17:43.628Z"
   },
   {
    "duration": 9,
    "start_time": "2022-07-11T23:17:43.634Z"
   },
   {
    "duration": 11,
    "start_time": "2022-07-11T23:17:43.644Z"
   },
   {
    "duration": 6,
    "start_time": "2022-07-11T23:17:43.657Z"
   },
   {
    "duration": 41,
    "start_time": "2022-07-11T23:17:43.665Z"
   },
   {
    "duration": 5,
    "start_time": "2022-07-11T23:17:43.708Z"
   },
   {
    "duration": 690,
    "start_time": "2022-07-11T23:17:43.714Z"
   },
   {
    "duration": 21,
    "start_time": "2022-07-11T23:17:44.406Z"
   },
   {
    "duration": 638,
    "start_time": "2022-07-11T23:18:28.049Z"
   },
   {
    "duration": 63,
    "start_time": "2022-07-11T23:22:06.458Z"
   },
   {
    "duration": 9,
    "start_time": "2022-07-11T23:22:17.091Z"
   },
   {
    "duration": 9,
    "start_time": "2022-07-11T23:23:47.135Z"
   },
   {
    "duration": 8,
    "start_time": "2022-07-11T23:23:50.809Z"
   },
   {
    "duration": 10,
    "start_time": "2022-07-11T23:24:02.859Z"
   },
   {
    "duration": 5,
    "start_time": "2022-07-11T23:25:23.576Z"
   },
   {
    "duration": 20,
    "start_time": "2022-07-11T23:25:27.183Z"
   },
   {
    "duration": 397,
    "start_time": "2022-07-11T23:25:54.382Z"
   },
   {
    "duration": 354,
    "start_time": "2022-07-11T23:26:17.447Z"
   },
   {
    "duration": 5,
    "start_time": "2022-07-11T23:26:46.487Z"
   },
   {
    "duration": 6,
    "start_time": "2022-07-11T23:30:38.850Z"
   },
   {
    "duration": 19,
    "start_time": "2022-07-11T23:30:45.826Z"
   },
   {
    "duration": 11,
    "start_time": "2022-07-11T23:32:05.464Z"
   },
   {
    "duration": 15,
    "start_time": "2022-07-11T23:32:09.859Z"
   },
   {
    "duration": 3,
    "start_time": "2022-07-11T23:32:30.293Z"
   },
   {
    "duration": 395,
    "start_time": "2022-07-11T23:32:47.088Z"
   },
   {
    "duration": 122,
    "start_time": "2022-07-11T23:32:47.485Z"
   },
   {
    "duration": 25,
    "start_time": "2022-07-11T23:32:47.608Z"
   },
   {
    "duration": 13,
    "start_time": "2022-07-11T23:32:47.635Z"
   },
   {
    "duration": 21,
    "start_time": "2022-07-11T23:32:47.649Z"
   },
   {
    "duration": 29,
    "start_time": "2022-07-11T23:32:47.671Z"
   },
   {
    "duration": 9,
    "start_time": "2022-07-11T23:32:47.702Z"
   },
   {
    "duration": 15,
    "start_time": "2022-07-11T23:32:47.712Z"
   },
   {
    "duration": 23,
    "start_time": "2022-07-11T23:32:47.729Z"
   },
   {
    "duration": 8,
    "start_time": "2022-07-11T23:32:47.754Z"
   },
   {
    "duration": 75,
    "start_time": "2022-07-11T23:32:47.764Z"
   },
   {
    "duration": 8,
    "start_time": "2022-07-11T23:32:47.840Z"
   },
   {
    "duration": 21,
    "start_time": "2022-07-11T23:32:47.850Z"
   },
   {
    "duration": 29,
    "start_time": "2022-07-11T23:32:47.872Z"
   },
   {
    "duration": 4,
    "start_time": "2022-07-11T23:32:47.903Z"
   },
   {
    "duration": 15,
    "start_time": "2022-07-11T23:32:47.909Z"
   },
   {
    "duration": 10,
    "start_time": "2022-07-11T23:32:47.926Z"
   },
   {
    "duration": 24,
    "start_time": "2022-07-11T23:32:47.938Z"
   },
   {
    "duration": 4,
    "start_time": "2022-07-11T23:32:47.964Z"
   },
   {
    "duration": 32,
    "start_time": "2022-07-11T23:32:47.970Z"
   },
   {
    "duration": 2,
    "start_time": "2022-07-11T23:32:48.003Z"
   },
   {
    "duration": 28,
    "start_time": "2022-07-11T23:32:48.007Z"
   },
   {
    "duration": 340,
    "start_time": "2022-07-12T20:11:29.903Z"
   },
   {
    "duration": 651,
    "start_time": "2022-07-12T20:11:30.245Z"
   },
   {
    "duration": 33,
    "start_time": "2022-07-12T20:11:30.898Z"
   },
   {
    "duration": 23,
    "start_time": "2022-07-12T20:11:30.951Z"
   },
   {
    "duration": 23,
    "start_time": "2022-07-12T20:11:30.976Z"
   },
   {
    "duration": 9,
    "start_time": "2022-07-12T20:11:31.000Z"
   },
   {
    "duration": 41,
    "start_time": "2022-07-12T20:11:31.011Z"
   },
   {
    "duration": 25,
    "start_time": "2022-07-12T20:11:31.054Z"
   },
   {
    "duration": 25,
    "start_time": "2022-07-12T20:11:31.081Z"
   },
   {
    "duration": 9,
    "start_time": "2022-07-12T20:11:31.108Z"
   },
   {
    "duration": 81,
    "start_time": "2022-07-12T20:11:31.119Z"
   },
   {
    "duration": 10,
    "start_time": "2022-07-12T20:11:31.201Z"
   },
   {
    "duration": 44,
    "start_time": "2022-07-12T20:11:31.213Z"
   },
   {
    "duration": 8,
    "start_time": "2022-07-12T20:11:31.259Z"
   },
   {
    "duration": 9,
    "start_time": "2022-07-12T20:11:31.269Z"
   },
   {
    "duration": 12,
    "start_time": "2022-07-12T20:11:31.280Z"
   },
   {
    "duration": 8,
    "start_time": "2022-07-12T20:11:31.294Z"
   },
   {
    "duration": 19,
    "start_time": "2022-07-12T20:11:31.304Z"
   },
   {
    "duration": 5,
    "start_time": "2022-07-12T20:11:31.352Z"
   },
   {
    "duration": 30,
    "start_time": "2022-07-12T20:11:31.359Z"
   },
   {
    "duration": 11,
    "start_time": "2022-07-12T20:11:31.391Z"
   },
   {
    "duration": 35,
    "start_time": "2022-07-12T20:11:31.404Z"
   },
   {
    "duration": 40,
    "start_time": "2022-07-12T20:12:24.039Z"
   },
   {
    "duration": 97,
    "start_time": "2022-07-12T20:18:09.983Z"
   },
   {
    "duration": 24,
    "start_time": "2022-07-12T20:18:52.794Z"
   },
   {
    "duration": 359,
    "start_time": "2022-07-12T20:21:53.394Z"
   },
   {
    "duration": 152,
    "start_time": "2022-07-12T20:21:53.755Z"
   },
   {
    "duration": 27,
    "start_time": "2022-07-12T20:21:53.909Z"
   },
   {
    "duration": 16,
    "start_time": "2022-07-12T20:21:53.939Z"
   },
   {
    "duration": 22,
    "start_time": "2022-07-12T20:21:53.957Z"
   },
   {
    "duration": 8,
    "start_time": "2022-07-12T20:21:53.981Z"
   },
   {
    "duration": 11,
    "start_time": "2022-07-12T20:21:53.991Z"
   },
   {
    "duration": 18,
    "start_time": "2022-07-12T20:21:54.003Z"
   },
   {
    "duration": 26,
    "start_time": "2022-07-12T20:21:54.052Z"
   },
   {
    "duration": 9,
    "start_time": "2022-07-12T20:21:54.080Z"
   },
   {
    "duration": 74,
    "start_time": "2022-07-12T20:21:54.091Z"
   },
   {
    "duration": 9,
    "start_time": "2022-07-12T20:21:54.166Z"
   },
   {
    "duration": 28,
    "start_time": "2022-07-12T20:21:54.176Z"
   },
   {
    "duration": 6,
    "start_time": "2022-07-12T20:21:54.206Z"
   },
   {
    "duration": 39,
    "start_time": "2022-07-12T20:21:54.214Z"
   },
   {
    "duration": 7,
    "start_time": "2022-07-12T20:21:54.254Z"
   },
   {
    "duration": 6,
    "start_time": "2022-07-12T20:21:54.263Z"
   },
   {
    "duration": 4,
    "start_time": "2022-07-12T20:21:54.270Z"
   },
   {
    "duration": 21,
    "start_time": "2022-07-12T20:21:54.276Z"
   },
   {
    "duration": 53,
    "start_time": "2022-07-12T20:21:54.299Z"
   },
   {
    "duration": 380,
    "start_time": "2022-07-12T20:58:09.885Z"
   },
   {
    "duration": 171,
    "start_time": "2022-07-12T20:58:10.267Z"
   },
   {
    "duration": 28,
    "start_time": "2022-07-12T20:58:10.440Z"
   },
   {
    "duration": 28,
    "start_time": "2022-07-12T20:58:10.470Z"
   },
   {
    "duration": 20,
    "start_time": "2022-07-12T20:58:10.501Z"
   },
   {
    "duration": 7,
    "start_time": "2022-07-12T20:58:10.523Z"
   },
   {
    "duration": 10,
    "start_time": "2022-07-12T20:58:10.532Z"
   },
   {
    "duration": 32,
    "start_time": "2022-07-12T20:58:10.544Z"
   },
   {
    "duration": 51,
    "start_time": "2022-07-12T20:58:10.580Z"
   },
   {
    "duration": 10,
    "start_time": "2022-07-12T20:58:10.634Z"
   },
   {
    "duration": 59,
    "start_time": "2022-07-12T20:58:10.646Z"
   },
   {
    "duration": 7,
    "start_time": "2022-07-12T20:58:10.707Z"
   },
   {
    "duration": 42,
    "start_time": "2022-07-12T20:58:10.715Z"
   },
   {
    "duration": 6,
    "start_time": "2022-07-12T20:58:10.762Z"
   },
   {
    "duration": 18,
    "start_time": "2022-07-12T20:58:10.772Z"
   },
   {
    "duration": 8,
    "start_time": "2022-07-12T20:58:10.792Z"
   },
   {
    "duration": 7,
    "start_time": "2022-07-12T20:58:10.801Z"
   },
   {
    "duration": 4,
    "start_time": "2022-07-12T20:58:10.809Z"
   },
   {
    "duration": 20,
    "start_time": "2022-07-12T20:58:10.814Z"
   },
   {
    "duration": 44,
    "start_time": "2022-07-12T20:58:10.836Z"
   },
   {
    "duration": 7,
    "start_time": "2022-07-12T21:00:28.220Z"
   },
   {
    "duration": 28,
    "start_time": "2022-07-12T21:04:34.695Z"
   },
   {
    "duration": 24,
    "start_time": "2022-07-12T21:04:39.563Z"
   },
   {
    "duration": 405,
    "start_time": "2022-07-12T21:05:46.087Z"
   },
   {
    "duration": 156,
    "start_time": "2022-07-12T21:05:46.494Z"
   },
   {
    "duration": 33,
    "start_time": "2022-07-12T21:05:46.652Z"
   },
   {
    "duration": 17,
    "start_time": "2022-07-12T21:05:46.687Z"
   },
   {
    "duration": 21,
    "start_time": "2022-07-12T21:05:46.705Z"
   },
   {
    "duration": 27,
    "start_time": "2022-07-12T21:05:46.728Z"
   },
   {
    "duration": 9,
    "start_time": "2022-07-12T21:05:46.757Z"
   },
   {
    "duration": 17,
    "start_time": "2022-07-12T21:05:46.767Z"
   },
   {
    "duration": 24,
    "start_time": "2022-07-12T21:05:46.785Z"
   },
   {
    "duration": 41,
    "start_time": "2022-07-12T21:05:46.812Z"
   },
   {
    "duration": 63,
    "start_time": "2022-07-12T21:05:46.855Z"
   },
   {
    "duration": 31,
    "start_time": "2022-07-12T21:05:46.920Z"
   },
   {
    "duration": 35,
    "start_time": "2022-07-12T21:05:46.953Z"
   },
   {
    "duration": 5,
    "start_time": "2022-07-12T21:05:46.990Z"
   },
   {
    "duration": 12,
    "start_time": "2022-07-12T21:05:46.996Z"
   },
   {
    "duration": 7,
    "start_time": "2022-07-12T21:05:47.009Z"
   },
   {
    "duration": 10,
    "start_time": "2022-07-12T21:05:47.018Z"
   },
   {
    "duration": 3,
    "start_time": "2022-07-12T21:05:47.052Z"
   },
   {
    "duration": 1217,
    "start_time": "2022-07-12T21:05:47.056Z"
   },
   {
    "duration": 0,
    "start_time": "2022-07-12T21:05:48.275Z"
   },
   {
    "duration": 0,
    "start_time": "2022-07-12T21:05:48.277Z"
   },
   {
    "duration": 20,
    "start_time": "2022-07-12T21:08:10.810Z"
   },
   {
    "duration": 13,
    "start_time": "2022-07-12T21:08:34.882Z"
   },
   {
    "duration": 12,
    "start_time": "2022-07-12T21:09:38.720Z"
   },
   {
    "duration": 425,
    "start_time": "2022-07-12T21:09:45.763Z"
   },
   {
    "duration": 168,
    "start_time": "2022-07-12T21:09:46.190Z"
   },
   {
    "duration": 27,
    "start_time": "2022-07-12T21:09:46.359Z"
   },
   {
    "duration": 14,
    "start_time": "2022-07-12T21:09:46.388Z"
   },
   {
    "duration": 27,
    "start_time": "2022-07-12T21:09:46.404Z"
   },
   {
    "duration": 10,
    "start_time": "2022-07-12T21:09:46.452Z"
   },
   {
    "duration": 12,
    "start_time": "2022-07-12T21:09:46.464Z"
   },
   {
    "duration": 21,
    "start_time": "2022-07-12T21:09:46.477Z"
   },
   {
    "duration": 26,
    "start_time": "2022-07-12T21:09:46.499Z"
   },
   {
    "duration": 10,
    "start_time": "2022-07-12T21:09:46.554Z"
   },
   {
    "duration": 64,
    "start_time": "2022-07-12T21:09:46.565Z"
   },
   {
    "duration": 29,
    "start_time": "2022-07-12T21:09:46.631Z"
   },
   {
    "duration": 30,
    "start_time": "2022-07-12T21:09:46.662Z"
   },
   {
    "duration": 5,
    "start_time": "2022-07-12T21:09:46.693Z"
   },
   {
    "duration": 10,
    "start_time": "2022-07-12T21:09:46.700Z"
   },
   {
    "duration": 8,
    "start_time": "2022-07-12T21:09:46.712Z"
   },
   {
    "duration": 35,
    "start_time": "2022-07-12T21:09:46.721Z"
   },
   {
    "duration": 5,
    "start_time": "2022-07-12T21:09:46.757Z"
   },
   {
    "duration": 12,
    "start_time": "2022-07-12T21:09:46.764Z"
   },
   {
    "duration": 22,
    "start_time": "2022-07-12T21:09:46.777Z"
   },
   {
    "duration": 8,
    "start_time": "2022-07-12T21:09:46.800Z"
   },
   {
    "duration": 348,
    "start_time": "2022-07-12T21:10:21.680Z"
   },
   {
    "duration": 154,
    "start_time": "2022-07-12T21:10:22.030Z"
   },
   {
    "duration": 27,
    "start_time": "2022-07-12T21:10:22.185Z"
   },
   {
    "duration": 14,
    "start_time": "2022-07-12T21:10:22.215Z"
   },
   {
    "duration": 41,
    "start_time": "2022-07-12T21:10:22.230Z"
   },
   {
    "duration": 9,
    "start_time": "2022-07-12T21:10:22.273Z"
   },
   {
    "duration": 9,
    "start_time": "2022-07-12T21:10:22.284Z"
   },
   {
    "duration": 17,
    "start_time": "2022-07-12T21:10:22.295Z"
   },
   {
    "duration": 59,
    "start_time": "2022-07-12T21:10:22.314Z"
   },
   {
    "duration": 12,
    "start_time": "2022-07-12T21:10:22.376Z"
   },
   {
    "duration": 72,
    "start_time": "2022-07-12T21:10:22.389Z"
   },
   {
    "duration": 12,
    "start_time": "2022-07-12T21:10:22.463Z"
   },
   {
    "duration": 31,
    "start_time": "2022-07-12T21:10:22.476Z"
   },
   {
    "duration": 5,
    "start_time": "2022-07-12T21:10:22.508Z"
   },
   {
    "duration": 6,
    "start_time": "2022-07-12T21:10:22.514Z"
   },
   {
    "duration": 35,
    "start_time": "2022-07-12T21:10:22.522Z"
   },
   {
    "duration": 6,
    "start_time": "2022-07-12T21:10:22.558Z"
   },
   {
    "duration": 5,
    "start_time": "2022-07-12T21:10:22.565Z"
   },
   {
    "duration": 13,
    "start_time": "2022-07-12T21:10:22.571Z"
   },
   {
    "duration": 34,
    "start_time": "2022-07-12T21:10:22.585Z"
   },
   {
    "duration": 32,
    "start_time": "2022-07-12T21:10:22.621Z"
   },
   {
    "duration": 61,
    "start_time": "2022-07-12T21:11:24.883Z"
   },
   {
    "duration": 57,
    "start_time": "2022-07-12T21:11:30.312Z"
   },
   {
    "duration": 13,
    "start_time": "2022-07-12T21:11:38.971Z"
   },
   {
    "duration": 11,
    "start_time": "2022-07-12T21:11:56.158Z"
   },
   {
    "duration": 21,
    "start_time": "2022-07-12T21:12:05.080Z"
   },
   {
    "duration": 20,
    "start_time": "2022-07-12T22:52:25.488Z"
   },
   {
    "duration": 15,
    "start_time": "2022-07-12T22:53:45.769Z"
   },
   {
    "duration": 16,
    "start_time": "2022-07-12T22:53:51.509Z"
   },
   {
    "duration": 16,
    "start_time": "2022-07-12T22:54:11.720Z"
   },
   {
    "duration": 76,
    "start_time": "2022-07-12T22:54:30.097Z"
   },
   {
    "duration": 80,
    "start_time": "2022-07-12T22:55:12.302Z"
   },
   {
    "duration": 81,
    "start_time": "2022-07-12T22:55:25.563Z"
   },
   {
    "duration": 78,
    "start_time": "2022-07-12T22:55:36.566Z"
   },
   {
    "duration": 104,
    "start_time": "2022-07-12T22:56:43.372Z"
   },
   {
    "duration": 84,
    "start_time": "2022-07-12T22:56:49.247Z"
   },
   {
    "duration": 11,
    "start_time": "2022-07-12T22:57:12.271Z"
   },
   {
    "duration": 14,
    "start_time": "2022-07-12T22:57:27.588Z"
   },
   {
    "duration": 334,
    "start_time": "2022-07-12T22:57:41.601Z"
   },
   {
    "duration": 154,
    "start_time": "2022-07-12T22:57:41.937Z"
   },
   {
    "duration": 24,
    "start_time": "2022-07-12T22:57:42.092Z"
   },
   {
    "duration": 12,
    "start_time": "2022-07-12T22:57:42.118Z"
   },
   {
    "duration": 41,
    "start_time": "2022-07-12T22:57:42.131Z"
   },
   {
    "duration": 7,
    "start_time": "2022-07-12T22:57:42.174Z"
   },
   {
    "duration": 10,
    "start_time": "2022-07-12T22:57:42.182Z"
   },
   {
    "duration": 16,
    "start_time": "2022-07-12T22:57:42.193Z"
   },
   {
    "duration": 44,
    "start_time": "2022-07-12T22:57:42.211Z"
   },
   {
    "duration": 14,
    "start_time": "2022-07-12T22:57:42.259Z"
   },
   {
    "duration": 49,
    "start_time": "2022-07-12T22:57:42.274Z"
   },
   {
    "duration": 37,
    "start_time": "2022-07-12T22:57:42.324Z"
   },
   {
    "duration": 24,
    "start_time": "2022-07-12T22:57:42.363Z"
   },
   {
    "duration": 5,
    "start_time": "2022-07-12T22:57:42.389Z"
   },
   {
    "duration": 8,
    "start_time": "2022-07-12T22:57:42.395Z"
   },
   {
    "duration": 8,
    "start_time": "2022-07-12T22:57:42.404Z"
   },
   {
    "duration": 8,
    "start_time": "2022-07-12T22:57:42.413Z"
   },
   {
    "duration": 5,
    "start_time": "2022-07-12T22:57:42.422Z"
   },
   {
    "duration": 19,
    "start_time": "2022-07-12T22:57:42.451Z"
   },
   {
    "duration": 23,
    "start_time": "2022-07-12T22:57:42.471Z"
   },
   {
    "duration": 5,
    "start_time": "2022-07-12T22:57:42.495Z"
   },
   {
    "duration": 50,
    "start_time": "2022-07-12T22:58:11.715Z"
   },
   {
    "duration": 72,
    "start_time": "2022-07-12T22:58:16.633Z"
   },
   {
    "duration": 16,
    "start_time": "2022-07-12T22:58:50.287Z"
   },
   {
    "duration": 432,
    "start_time": "2022-07-12T22:59:39.269Z"
   },
   {
    "duration": 19,
    "start_time": "2022-07-12T23:00:36.427Z"
   },
   {
    "duration": 401,
    "start_time": "2022-07-12T23:00:55.432Z"
   },
   {
    "duration": 147,
    "start_time": "2022-07-12T23:00:55.835Z"
   },
   {
    "duration": 28,
    "start_time": "2022-07-12T23:00:55.984Z"
   },
   {
    "duration": 16,
    "start_time": "2022-07-12T23:00:56.014Z"
   },
   {
    "duration": 40,
    "start_time": "2022-07-12T23:00:56.033Z"
   },
   {
    "duration": 11,
    "start_time": "2022-07-12T23:00:56.075Z"
   },
   {
    "duration": 13,
    "start_time": "2022-07-12T23:00:56.087Z"
   },
   {
    "duration": 21,
    "start_time": "2022-07-12T23:00:56.103Z"
   },
   {
    "duration": 36,
    "start_time": "2022-07-12T23:00:56.126Z"
   },
   {
    "duration": 8,
    "start_time": "2022-07-12T23:00:56.164Z"
   },
   {
    "duration": 49,
    "start_time": "2022-07-12T23:00:56.173Z"
   },
   {
    "duration": 31,
    "start_time": "2022-07-12T23:00:56.224Z"
   },
   {
    "duration": 23,
    "start_time": "2022-07-12T23:00:56.256Z"
   },
   {
    "duration": 4,
    "start_time": "2022-07-12T23:00:56.281Z"
   },
   {
    "duration": 5,
    "start_time": "2022-07-12T23:00:56.287Z"
   },
   {
    "duration": 9,
    "start_time": "2022-07-12T23:00:56.294Z"
   },
   {
    "duration": 6,
    "start_time": "2022-07-12T23:00:56.304Z"
   },
   {
    "duration": 5,
    "start_time": "2022-07-12T23:00:56.312Z"
   },
   {
    "duration": 15,
    "start_time": "2022-07-12T23:00:56.352Z"
   },
   {
    "duration": 22,
    "start_time": "2022-07-12T23:00:56.369Z"
   },
   {
    "duration": 6,
    "start_time": "2022-07-12T23:00:56.392Z"
   },
   {
    "duration": 104,
    "start_time": "2022-07-12T23:01:21.072Z"
   },
   {
    "duration": 474,
    "start_time": "2022-07-12T23:01:27.302Z"
   },
   {
    "duration": 476,
    "start_time": "2022-07-12T23:01:46.121Z"
   },
   {
    "duration": 15,
    "start_time": "2022-07-12T23:06:13.868Z"
   },
   {
    "duration": 392,
    "start_time": "2022-07-12T23:06:30.334Z"
   },
   {
    "duration": 145,
    "start_time": "2022-07-12T23:06:30.728Z"
   },
   {
    "duration": 25,
    "start_time": "2022-07-12T23:06:30.874Z"
   },
   {
    "duration": 14,
    "start_time": "2022-07-12T23:06:30.900Z"
   },
   {
    "duration": 37,
    "start_time": "2022-07-12T23:06:30.916Z"
   },
   {
    "duration": 8,
    "start_time": "2022-07-12T23:06:30.955Z"
   },
   {
    "duration": 10,
    "start_time": "2022-07-12T23:06:30.964Z"
   },
   {
    "duration": 20,
    "start_time": "2022-07-12T23:06:30.975Z"
   },
   {
    "duration": 37,
    "start_time": "2022-07-12T23:06:30.997Z"
   },
   {
    "duration": 17,
    "start_time": "2022-07-12T23:06:31.036Z"
   },
   {
    "duration": 72,
    "start_time": "2022-07-12T23:06:31.054Z"
   },
   {
    "duration": 9,
    "start_time": "2022-07-12T23:06:31.127Z"
   },
   {
    "duration": 43,
    "start_time": "2022-07-12T23:06:31.137Z"
   },
   {
    "duration": 6,
    "start_time": "2022-07-12T23:06:31.181Z"
   },
   {
    "duration": 22,
    "start_time": "2022-07-12T23:06:31.189Z"
   },
   {
    "duration": 12,
    "start_time": "2022-07-12T23:06:31.213Z"
   },
   {
    "duration": 16,
    "start_time": "2022-07-12T23:06:31.226Z"
   },
   {
    "duration": 4,
    "start_time": "2022-07-12T23:06:31.244Z"
   },
   {
    "duration": 18,
    "start_time": "2022-07-12T23:06:31.249Z"
   },
   {
    "duration": 27,
    "start_time": "2022-07-12T23:06:31.268Z"
   },
   {
    "duration": 6,
    "start_time": "2022-07-12T23:06:31.296Z"
   },
   {
    "duration": 115,
    "start_time": "2022-07-12T23:07:08.216Z"
   },
   {
    "duration": 15,
    "start_time": "2022-07-12T23:07:13.242Z"
   },
   {
    "duration": 19,
    "start_time": "2022-07-12T23:07:20.561Z"
   },
   {
    "duration": 29,
    "start_time": "2022-07-12T23:07:23.189Z"
   },
   {
    "duration": 10,
    "start_time": "2022-07-12T23:08:10.057Z"
   },
   {
    "duration": 16,
    "start_time": "2022-07-12T23:08:18.128Z"
   },
   {
    "duration": 16,
    "start_time": "2022-07-12T23:08:45.663Z"
   },
   {
    "duration": 13,
    "start_time": "2022-07-12T23:08:54.133Z"
   },
   {
    "duration": 15,
    "start_time": "2022-07-12T23:09:30.897Z"
   },
   {
    "duration": 16,
    "start_time": "2022-07-12T23:10:17.337Z"
   },
   {
    "duration": 16,
    "start_time": "2022-07-12T23:10:30.043Z"
   },
   {
    "duration": 15,
    "start_time": "2022-07-12T23:10:36.420Z"
   },
   {
    "duration": 10,
    "start_time": "2022-07-12T23:12:55.258Z"
   },
   {
    "duration": 379,
    "start_time": "2022-07-12T23:13:03.034Z"
   },
   {
    "duration": 143,
    "start_time": "2022-07-12T23:13:03.415Z"
   },
   {
    "duration": 26,
    "start_time": "2022-07-12T23:13:03.562Z"
   },
   {
    "duration": 13,
    "start_time": "2022-07-12T23:13:03.589Z"
   },
   {
    "duration": 19,
    "start_time": "2022-07-12T23:13:03.604Z"
   },
   {
    "duration": 31,
    "start_time": "2022-07-12T23:13:03.625Z"
   },
   {
    "duration": 8,
    "start_time": "2022-07-12T23:13:03.657Z"
   },
   {
    "duration": 14,
    "start_time": "2022-07-12T23:13:03.667Z"
   },
   {
    "duration": 26,
    "start_time": "2022-07-12T23:13:03.683Z"
   },
   {
    "duration": 8,
    "start_time": "2022-07-12T23:13:03.711Z"
   },
   {
    "duration": 74,
    "start_time": "2022-07-12T23:13:03.720Z"
   },
   {
    "duration": 7,
    "start_time": "2022-07-12T23:13:03.795Z"
   },
   {
    "duration": 22,
    "start_time": "2022-07-12T23:13:03.804Z"
   },
   {
    "duration": 27,
    "start_time": "2022-07-12T23:13:03.827Z"
   },
   {
    "duration": 6,
    "start_time": "2022-07-12T23:13:03.855Z"
   },
   {
    "duration": 8,
    "start_time": "2022-07-12T23:13:03.862Z"
   },
   {
    "duration": 9,
    "start_time": "2022-07-12T23:13:03.871Z"
   },
   {
    "duration": 7,
    "start_time": "2022-07-12T23:13:03.881Z"
   },
   {
    "duration": 10,
    "start_time": "2022-07-12T23:13:03.890Z"
   },
   {
    "duration": 16,
    "start_time": "2022-07-12T23:13:03.901Z"
   },
   {
    "duration": 44,
    "start_time": "2022-07-12T23:13:03.918Z"
   },
   {
    "duration": 20,
    "start_time": "2022-07-12T23:15:28.088Z"
   },
   {
    "duration": 383,
    "start_time": "2022-07-12T23:15:42.525Z"
   },
   {
    "duration": 144,
    "start_time": "2022-07-12T23:15:42.909Z"
   },
   {
    "duration": 24,
    "start_time": "2022-07-12T23:15:43.055Z"
   },
   {
    "duration": 12,
    "start_time": "2022-07-12T23:15:43.081Z"
   },
   {
    "duration": 22,
    "start_time": "2022-07-12T23:15:43.094Z"
   },
   {
    "duration": 7,
    "start_time": "2022-07-12T23:15:43.117Z"
   },
   {
    "duration": 27,
    "start_time": "2022-07-12T23:15:43.125Z"
   },
   {
    "duration": 17,
    "start_time": "2022-07-12T23:15:43.153Z"
   },
   {
    "duration": 24,
    "start_time": "2022-07-12T23:15:43.171Z"
   },
   {
    "duration": 8,
    "start_time": "2022-07-12T23:15:43.197Z"
   },
   {
    "duration": 64,
    "start_time": "2022-07-12T23:15:43.207Z"
   },
   {
    "duration": 8,
    "start_time": "2022-07-12T23:15:43.272Z"
   },
   {
    "duration": 23,
    "start_time": "2022-07-12T23:15:43.281Z"
   },
   {
    "duration": 3,
    "start_time": "2022-07-12T23:15:43.306Z"
   },
   {
    "duration": 6,
    "start_time": "2022-07-12T23:15:43.311Z"
   },
   {
    "duration": 35,
    "start_time": "2022-07-12T23:15:43.318Z"
   },
   {
    "duration": 5,
    "start_time": "2022-07-12T23:15:43.355Z"
   },
   {
    "duration": 8,
    "start_time": "2022-07-12T23:15:43.362Z"
   },
   {
    "duration": 20,
    "start_time": "2022-07-12T23:15:43.371Z"
   },
   {
    "duration": 15,
    "start_time": "2022-07-12T23:15:43.392Z"
   },
   {
    "duration": 21,
    "start_time": "2022-07-12T23:15:43.408Z"
   },
   {
    "duration": 19,
    "start_time": "2022-07-12T23:18:09.503Z"
   },
   {
    "duration": 364,
    "start_time": "2022-07-12T23:18:17.574Z"
   },
   {
    "duration": 156,
    "start_time": "2022-07-12T23:18:17.940Z"
   },
   {
    "duration": 27,
    "start_time": "2022-07-12T23:18:18.097Z"
   },
   {
    "duration": 32,
    "start_time": "2022-07-12T23:18:18.126Z"
   },
   {
    "duration": 21,
    "start_time": "2022-07-12T23:18:18.160Z"
   },
   {
    "duration": 7,
    "start_time": "2022-07-12T23:18:18.183Z"
   },
   {
    "duration": 9,
    "start_time": "2022-07-12T23:18:18.191Z"
   },
   {
    "duration": 15,
    "start_time": "2022-07-12T23:18:18.202Z"
   },
   {
    "duration": 52,
    "start_time": "2022-07-12T23:18:18.218Z"
   },
   {
    "duration": 8,
    "start_time": "2022-07-12T23:18:18.272Z"
   },
   {
    "duration": 71,
    "start_time": "2022-07-12T23:18:18.281Z"
   },
   {
    "duration": 10,
    "start_time": "2022-07-12T23:18:18.354Z"
   },
   {
    "duration": 23,
    "start_time": "2022-07-12T23:18:18.365Z"
   },
   {
    "duration": 5,
    "start_time": "2022-07-12T23:18:18.390Z"
   },
   {
    "duration": 6,
    "start_time": "2022-07-12T23:18:18.396Z"
   },
   {
    "duration": 8,
    "start_time": "2022-07-12T23:18:18.403Z"
   },
   {
    "duration": 44,
    "start_time": "2022-07-12T23:18:18.413Z"
   },
   {
    "duration": 5,
    "start_time": "2022-07-12T23:18:18.458Z"
   },
   {
    "duration": 18,
    "start_time": "2022-07-12T23:18:18.464Z"
   },
   {
    "duration": 26,
    "start_time": "2022-07-12T23:18:18.483Z"
   },
   {
    "duration": 20,
    "start_time": "2022-07-12T23:19:41.130Z"
   },
   {
    "duration": 19,
    "start_time": "2022-07-12T23:19:45.402Z"
   },
   {
    "duration": 6,
    "start_time": "2022-07-12T23:20:32.078Z"
   },
   {
    "duration": 21,
    "start_time": "2022-07-12T23:29:27.417Z"
   },
   {
    "duration": 358,
    "start_time": "2022-07-12T23:42:34.064Z"
   },
   {
    "duration": 145,
    "start_time": "2022-07-12T23:42:34.424Z"
   },
   {
    "duration": 27,
    "start_time": "2022-07-12T23:42:34.571Z"
   },
   {
    "duration": 15,
    "start_time": "2022-07-12T23:42:34.600Z"
   },
   {
    "duration": 42,
    "start_time": "2022-07-12T23:42:34.616Z"
   },
   {
    "duration": 8,
    "start_time": "2022-07-12T23:42:34.660Z"
   },
   {
    "duration": 22,
    "start_time": "2022-07-12T23:42:34.670Z"
   },
   {
    "duration": 27,
    "start_time": "2022-07-12T23:42:34.693Z"
   },
   {
    "duration": 28,
    "start_time": "2022-07-12T23:42:34.721Z"
   },
   {
    "duration": 8,
    "start_time": "2022-07-12T23:42:34.751Z"
   },
   {
    "duration": 61,
    "start_time": "2022-07-12T23:42:34.761Z"
   },
   {
    "duration": 9,
    "start_time": "2022-07-12T23:42:34.823Z"
   },
   {
    "duration": 36,
    "start_time": "2022-07-12T23:42:34.834Z"
   },
   {
    "duration": 10,
    "start_time": "2022-07-12T23:42:34.872Z"
   },
   {
    "duration": 22,
    "start_time": "2022-07-12T23:42:34.884Z"
   },
   {
    "duration": 23,
    "start_time": "2022-07-12T23:42:34.907Z"
   },
   {
    "duration": 13,
    "start_time": "2022-07-12T23:42:34.931Z"
   },
   {
    "duration": 10,
    "start_time": "2022-07-12T23:42:34.945Z"
   },
   {
    "duration": 20,
    "start_time": "2022-07-12T23:42:34.956Z"
   },
   {
    "duration": 1253,
    "start_time": "2022-07-12T23:42:34.978Z"
   },
   {
    "duration": 0,
    "start_time": "2022-07-12T23:42:36.232Z"
   },
   {
    "duration": 1274,
    "start_time": "2022-07-12T23:43:32.981Z"
   },
   {
    "duration": 12,
    "start_time": "2022-07-12T23:45:35.469Z"
   },
   {
    "duration": 16,
    "start_time": "2022-07-12T23:47:54.131Z"
   },
   {
    "duration": 384,
    "start_time": "2022-07-12T23:51:03.134Z"
   },
   {
    "duration": 153,
    "start_time": "2022-07-12T23:51:03.520Z"
   },
   {
    "duration": 25,
    "start_time": "2022-07-12T23:51:03.674Z"
   },
   {
    "duration": 12,
    "start_time": "2022-07-12T23:51:03.701Z"
   },
   {
    "duration": 42,
    "start_time": "2022-07-12T23:51:03.714Z"
   },
   {
    "duration": 8,
    "start_time": "2022-07-12T23:51:03.757Z"
   },
   {
    "duration": 10,
    "start_time": "2022-07-12T23:51:03.766Z"
   },
   {
    "duration": 13,
    "start_time": "2022-07-12T23:51:03.777Z"
   },
   {
    "duration": 20,
    "start_time": "2022-07-12T23:51:03.792Z"
   },
   {
    "duration": 8,
    "start_time": "2022-07-12T23:51:03.823Z"
   },
   {
    "duration": 48,
    "start_time": "2022-07-12T23:51:03.852Z"
   },
   {
    "duration": 8,
    "start_time": "2022-07-12T23:51:03.902Z"
   },
   {
    "duration": 45,
    "start_time": "2022-07-12T23:51:03.911Z"
   },
   {
    "duration": 4,
    "start_time": "2022-07-12T23:51:03.958Z"
   },
   {
    "duration": 6,
    "start_time": "2022-07-12T23:51:03.963Z"
   },
   {
    "duration": 8,
    "start_time": "2022-07-12T23:51:03.971Z"
   },
   {
    "duration": 5,
    "start_time": "2022-07-12T23:51:03.980Z"
   },
   {
    "duration": 6,
    "start_time": "2022-07-12T23:51:03.986Z"
   },
   {
    "duration": 8,
    "start_time": "2022-07-12T23:51:03.993Z"
   },
   {
    "duration": 52980,
    "start_time": "2022-07-12T23:51:04.002Z"
   },
   {
    "duration": 0,
    "start_time": "2022-07-12T23:51:56.983Z"
   },
   {
    "duration": 356,
    "start_time": "2022-07-12T23:54:47.580Z"
   },
   {
    "duration": 155,
    "start_time": "2022-07-12T23:54:47.938Z"
   },
   {
    "duration": 25,
    "start_time": "2022-07-12T23:54:48.095Z"
   },
   {
    "duration": 30,
    "start_time": "2022-07-12T23:54:48.122Z"
   },
   {
    "duration": 22,
    "start_time": "2022-07-12T23:54:48.154Z"
   },
   {
    "duration": 8,
    "start_time": "2022-07-12T23:54:48.178Z"
   },
   {
    "duration": 11,
    "start_time": "2022-07-12T23:54:48.187Z"
   },
   {
    "duration": 15,
    "start_time": "2022-07-12T23:54:48.199Z"
   },
   {
    "duration": 51,
    "start_time": "2022-07-12T23:54:48.216Z"
   },
   {
    "duration": 9,
    "start_time": "2022-07-12T23:54:48.269Z"
   },
   {
    "duration": 80,
    "start_time": "2022-07-12T23:54:48.279Z"
   },
   {
    "duration": 9,
    "start_time": "2022-07-12T23:54:48.360Z"
   },
   {
    "duration": 25,
    "start_time": "2022-07-12T23:54:48.370Z"
   },
   {
    "duration": 4,
    "start_time": "2022-07-12T23:54:48.397Z"
   },
   {
    "duration": 8,
    "start_time": "2022-07-12T23:54:48.403Z"
   },
   {
    "duration": 40,
    "start_time": "2022-07-12T23:54:48.413Z"
   },
   {
    "duration": 7,
    "start_time": "2022-07-12T23:54:48.455Z"
   },
   {
    "duration": 5,
    "start_time": "2022-07-12T23:54:48.464Z"
   },
   {
    "duration": 11,
    "start_time": "2022-07-12T23:54:48.471Z"
   },
   {
    "duration": 171122,
    "start_time": "2022-07-12T23:54:48.483Z"
   },
   {
    "duration": 0,
    "start_time": "2022-07-12T23:57:39.606Z"
   },
   {
    "duration": 7285,
    "start_time": "2022-07-12T23:59:14.536Z"
   },
   {
    "duration": 14,
    "start_time": "2022-07-13T00:07:36.773Z"
   },
   {
    "duration": 15,
    "start_time": "2022-07-13T00:07:52.197Z"
   },
   {
    "duration": 339,
    "start_time": "2022-07-13T00:08:03.089Z"
   },
   {
    "duration": 147,
    "start_time": "2022-07-13T00:08:03.430Z"
   },
   {
    "duration": 23,
    "start_time": "2022-07-13T00:08:03.579Z"
   },
   {
    "duration": 14,
    "start_time": "2022-07-13T00:08:03.604Z"
   },
   {
    "duration": 39,
    "start_time": "2022-07-13T00:08:03.619Z"
   },
   {
    "duration": 7,
    "start_time": "2022-07-13T00:08:03.659Z"
   },
   {
    "duration": 10,
    "start_time": "2022-07-13T00:08:03.667Z"
   },
   {
    "duration": 15,
    "start_time": "2022-07-13T00:08:03.679Z"
   },
   {
    "duration": 22,
    "start_time": "2022-07-13T00:08:03.696Z"
   },
   {
    "duration": 8,
    "start_time": "2022-07-13T00:08:03.720Z"
   },
   {
    "duration": 66,
    "start_time": "2022-07-13T00:08:03.729Z"
   },
   {
    "duration": 8,
    "start_time": "2022-07-13T00:08:03.796Z"
   },
   {
    "duration": 26,
    "start_time": "2022-07-13T00:08:03.805Z"
   },
   {
    "duration": 23,
    "start_time": "2022-07-13T00:08:03.832Z"
   },
   {
    "duration": 8,
    "start_time": "2022-07-13T00:08:03.856Z"
   },
   {
    "duration": 8,
    "start_time": "2022-07-13T00:08:03.865Z"
   },
   {
    "duration": 5,
    "start_time": "2022-07-13T00:08:03.874Z"
   },
   {
    "duration": 4,
    "start_time": "2022-07-13T00:08:03.880Z"
   },
   {
    "duration": 23,
    "start_time": "2022-07-13T00:08:03.885Z"
   },
   {
    "duration": 22,
    "start_time": "2022-07-13T00:08:03.909Z"
   },
   {
    "duration": 16,
    "start_time": "2022-07-13T00:08:30.908Z"
   },
   {
    "duration": 16,
    "start_time": "2022-07-13T00:09:35.582Z"
   },
   {
    "duration": 18,
    "start_time": "2022-07-13T00:09:51.395Z"
   },
   {
    "duration": 35312,
    "start_time": "2022-07-13T00:10:42.305Z"
   },
   {
    "duration": 18,
    "start_time": "2022-07-13T00:13:39.386Z"
   },
   {
    "duration": 19,
    "start_time": "2022-07-13T00:13:42.993Z"
   },
   {
    "duration": 398,
    "start_time": "2022-07-13T00:14:09.935Z"
   },
   {
    "duration": 145,
    "start_time": "2022-07-13T00:14:10.334Z"
   },
   {
    "duration": 25,
    "start_time": "2022-07-13T00:14:10.480Z"
   },
   {
    "duration": 13,
    "start_time": "2022-07-13T00:14:10.507Z"
   },
   {
    "duration": 43,
    "start_time": "2022-07-13T00:14:10.521Z"
   },
   {
    "duration": 7,
    "start_time": "2022-07-13T00:14:10.565Z"
   },
   {
    "duration": 7,
    "start_time": "2022-07-13T00:14:10.574Z"
   },
   {
    "duration": 15,
    "start_time": "2022-07-13T00:14:10.583Z"
   },
   {
    "duration": 22,
    "start_time": "2022-07-13T00:14:10.600Z"
   },
   {
    "duration": 30,
    "start_time": "2022-07-13T00:14:10.624Z"
   },
   {
    "duration": 45,
    "start_time": "2022-07-13T00:14:10.655Z"
   },
   {
    "duration": 7,
    "start_time": "2022-07-13T00:14:10.701Z"
   },
   {
    "duration": 47,
    "start_time": "2022-07-13T00:14:10.709Z"
   },
   {
    "duration": 4,
    "start_time": "2022-07-13T00:14:10.757Z"
   },
   {
    "duration": 5,
    "start_time": "2022-07-13T00:14:10.763Z"
   },
   {
    "duration": 7,
    "start_time": "2022-07-13T00:14:10.770Z"
   },
   {
    "duration": 5,
    "start_time": "2022-07-13T00:14:10.778Z"
   },
   {
    "duration": 4,
    "start_time": "2022-07-13T00:14:10.784Z"
   },
   {
    "duration": 16,
    "start_time": "2022-07-13T00:14:10.789Z"
   },
   {
    "duration": 47,
    "start_time": "2022-07-13T00:14:10.806Z"
   },
   {
    "duration": 4,
    "start_time": "2022-07-13T00:16:18.466Z"
   },
   {
    "duration": 17,
    "start_time": "2022-07-13T00:16:36.669Z"
   },
   {
    "duration": 18,
    "start_time": "2022-07-13T00:17:22.113Z"
   },
   {
    "duration": 4,
    "start_time": "2022-07-13T00:17:28.089Z"
   },
   {
    "duration": 17,
    "start_time": "2022-07-13T00:17:32.982Z"
   },
   {
    "duration": 386,
    "start_time": "2022-07-13T00:17:39.840Z"
   },
   {
    "duration": 146,
    "start_time": "2022-07-13T00:17:40.228Z"
   },
   {
    "duration": 23,
    "start_time": "2022-07-13T00:17:40.376Z"
   },
   {
    "duration": 12,
    "start_time": "2022-07-13T00:17:40.401Z"
   },
   {
    "duration": 19,
    "start_time": "2022-07-13T00:17:40.414Z"
   },
   {
    "duration": 21,
    "start_time": "2022-07-13T00:17:40.434Z"
   },
   {
    "duration": 8,
    "start_time": "2022-07-13T00:17:40.457Z"
   },
   {
    "duration": 13,
    "start_time": "2022-07-13T00:17:40.466Z"
   },
   {
    "duration": 21,
    "start_time": "2022-07-13T00:17:40.481Z"
   },
   {
    "duration": 9,
    "start_time": "2022-07-13T00:17:40.504Z"
   },
   {
    "duration": 80,
    "start_time": "2022-07-13T00:17:40.514Z"
   },
   {
    "duration": 8,
    "start_time": "2022-07-13T00:17:40.596Z"
   },
   {
    "duration": 22,
    "start_time": "2022-07-13T00:17:40.606Z"
   },
   {
    "duration": 24,
    "start_time": "2022-07-13T00:17:40.630Z"
   },
   {
    "duration": 6,
    "start_time": "2022-07-13T00:17:40.655Z"
   },
   {
    "duration": 10,
    "start_time": "2022-07-13T00:17:40.662Z"
   },
   {
    "duration": 6,
    "start_time": "2022-07-13T00:17:40.673Z"
   },
   {
    "duration": 6,
    "start_time": "2022-07-13T00:17:40.680Z"
   },
   {
    "duration": 16,
    "start_time": "2022-07-13T00:17:40.688Z"
   },
   {
    "duration": 6,
    "start_time": "2022-07-13T00:17:40.705Z"
   },
   {
    "duration": 46,
    "start_time": "2022-07-13T00:17:40.712Z"
   },
   {
    "duration": 16,
    "start_time": "2022-07-13T00:19:41.184Z"
   },
   {
    "duration": 7,
    "start_time": "2022-07-13T00:19:48.584Z"
   },
   {
    "duration": 57,
    "start_time": "2022-07-13T00:23:02.705Z"
   },
   {
    "duration": 17,
    "start_time": "2022-07-13T00:23:14.927Z"
   },
   {
    "duration": 8,
    "start_time": "2022-07-13T00:23:24.116Z"
   },
   {
    "duration": 17,
    "start_time": "2022-07-13T00:24:18.775Z"
   },
   {
    "duration": 6,
    "start_time": "2022-07-13T00:24:21.799Z"
   },
   {
    "duration": 17,
    "start_time": "2022-07-13T00:25:47.423Z"
   },
   {
    "duration": 8,
    "start_time": "2022-07-13T00:25:56.000Z"
   },
   {
    "duration": 74,
    "start_time": "2022-07-13T00:26:30.215Z"
   },
   {
    "duration": 9,
    "start_time": "2022-07-13T00:26:37.564Z"
   },
   {
    "duration": 16,
    "start_time": "2022-07-13T00:29:58.213Z"
   },
   {
    "duration": 59,
    "start_time": "2022-07-13T00:30:08.221Z"
   },
   {
    "duration": 21,
    "start_time": "2022-07-13T00:32:06.587Z"
   },
   {
    "duration": 29,
    "start_time": "2022-07-13T00:36:29.893Z"
   },
   {
    "duration": 23,
    "start_time": "2022-07-13T00:36:56.861Z"
   },
   {
    "duration": 18,
    "start_time": "2022-07-13T00:40:32.969Z"
   },
   {
    "duration": 17,
    "start_time": "2022-07-13T00:40:38.108Z"
   },
   {
    "duration": 361,
    "start_time": "2022-07-13T00:40:48.364Z"
   },
   {
    "duration": 146,
    "start_time": "2022-07-13T00:40:48.727Z"
   },
   {
    "duration": 24,
    "start_time": "2022-07-13T00:40:48.875Z"
   },
   {
    "duration": 12,
    "start_time": "2022-07-13T00:40:48.901Z"
   },
   {
    "duration": 37,
    "start_time": "2022-07-13T00:40:48.915Z"
   },
   {
    "duration": 7,
    "start_time": "2022-07-13T00:40:48.953Z"
   },
   {
    "duration": 9,
    "start_time": "2022-07-13T00:40:48.962Z"
   },
   {
    "duration": 14,
    "start_time": "2022-07-13T00:40:48.972Z"
   },
   {
    "duration": 21,
    "start_time": "2022-07-13T00:40:48.987Z"
   },
   {
    "duration": 7,
    "start_time": "2022-07-13T00:40:49.010Z"
   },
   {
    "duration": 69,
    "start_time": "2022-07-13T00:40:49.019Z"
   },
   {
    "duration": 7,
    "start_time": "2022-07-13T00:40:49.090Z"
   },
   {
    "duration": 26,
    "start_time": "2022-07-13T00:40:49.099Z"
   },
   {
    "duration": 3,
    "start_time": "2022-07-13T00:40:49.126Z"
   },
   {
    "duration": 4,
    "start_time": "2022-07-13T00:40:49.151Z"
   },
   {
    "duration": 7,
    "start_time": "2022-07-13T00:40:49.157Z"
   },
   {
    "duration": 7,
    "start_time": "2022-07-13T00:40:49.165Z"
   },
   {
    "duration": 4,
    "start_time": "2022-07-13T00:40:49.173Z"
   },
   {
    "duration": 16,
    "start_time": "2022-07-13T00:40:49.178Z"
   },
   {
    "duration": 1328,
    "start_time": "2022-07-13T00:40:49.195Z"
   },
   {
    "duration": 0,
    "start_time": "2022-07-13T00:40:50.525Z"
   },
   {
    "duration": 21,
    "start_time": "2022-07-13T00:41:10.721Z"
   },
   {
    "duration": 384,
    "start_time": "2022-07-13T00:41:31.227Z"
   },
   {
    "duration": 145,
    "start_time": "2022-07-13T00:41:31.613Z"
   },
   {
    "duration": 26,
    "start_time": "2022-07-13T00:41:31.760Z"
   },
   {
    "duration": 12,
    "start_time": "2022-07-13T00:41:31.788Z"
   },
   {
    "duration": 20,
    "start_time": "2022-07-13T00:41:31.801Z"
   },
   {
    "duration": 7,
    "start_time": "2022-07-13T00:41:31.822Z"
   },
   {
    "duration": 27,
    "start_time": "2022-07-13T00:41:31.830Z"
   },
   {
    "duration": 20,
    "start_time": "2022-07-13T00:41:31.858Z"
   },
   {
    "duration": 23,
    "start_time": "2022-07-13T00:41:31.879Z"
   },
   {
    "duration": 8,
    "start_time": "2022-07-13T00:41:31.904Z"
   },
   {
    "duration": 63,
    "start_time": "2022-07-13T00:41:31.913Z"
   },
   {
    "duration": 7,
    "start_time": "2022-07-13T00:41:31.977Z"
   },
   {
    "duration": 22,
    "start_time": "2022-07-13T00:41:31.985Z"
   },
   {
    "duration": 3,
    "start_time": "2022-07-13T00:41:32.008Z"
   },
   {
    "duration": 5,
    "start_time": "2022-07-13T00:41:32.013Z"
   },
   {
    "duration": 35,
    "start_time": "2022-07-13T00:41:32.020Z"
   },
   {
    "duration": 6,
    "start_time": "2022-07-13T00:41:32.056Z"
   },
   {
    "duration": 5,
    "start_time": "2022-07-13T00:41:32.063Z"
   },
   {
    "duration": 22,
    "start_time": "2022-07-13T00:41:32.069Z"
   },
   {
    "duration": 25,
    "start_time": "2022-07-13T00:41:32.092Z"
   },
   {
    "duration": 19,
    "start_time": "2022-07-13T00:43:01.639Z"
   },
   {
    "duration": 16,
    "start_time": "2022-07-13T00:43:13.154Z"
   },
   {
    "duration": 19,
    "start_time": "2022-07-13T00:44:26.920Z"
   },
   {
    "duration": 24,
    "start_time": "2022-07-13T00:44:36.070Z"
   },
   {
    "duration": 367,
    "start_time": "2022-07-13T00:45:14.157Z"
   },
   {
    "duration": 154,
    "start_time": "2022-07-13T00:45:14.526Z"
   },
   {
    "duration": 24,
    "start_time": "2022-07-13T00:45:14.681Z"
   },
   {
    "duration": 12,
    "start_time": "2022-07-13T00:45:14.707Z"
   },
   {
    "duration": 36,
    "start_time": "2022-07-13T00:45:14.720Z"
   },
   {
    "duration": 6,
    "start_time": "2022-07-13T00:45:14.758Z"
   },
   {
    "duration": 11,
    "start_time": "2022-07-13T00:45:14.765Z"
   },
   {
    "duration": 17,
    "start_time": "2022-07-13T00:45:14.777Z"
   },
   {
    "duration": 25,
    "start_time": "2022-07-13T00:45:14.795Z"
   },
   {
    "duration": 8,
    "start_time": "2022-07-13T00:45:14.822Z"
   },
   {
    "duration": 64,
    "start_time": "2022-07-13T00:45:14.831Z"
   },
   {
    "duration": 8,
    "start_time": "2022-07-13T00:45:14.896Z"
   },
   {
    "duration": 29,
    "start_time": "2022-07-13T00:45:14.905Z"
   },
   {
    "duration": 20,
    "start_time": "2022-07-13T00:45:14.935Z"
   },
   {
    "duration": 7,
    "start_time": "2022-07-13T00:45:14.956Z"
   },
   {
    "duration": 18,
    "start_time": "2022-07-13T00:45:14.964Z"
   },
   {
    "duration": 7,
    "start_time": "2022-07-13T00:45:14.983Z"
   },
   {
    "duration": 5,
    "start_time": "2022-07-13T00:45:14.991Z"
   },
   {
    "duration": 64,
    "start_time": "2022-07-13T00:45:14.997Z"
   },
   {
    "duration": 0,
    "start_time": "2022-07-13T00:45:15.062Z"
   },
   {
    "duration": 25,
    "start_time": "2022-07-13T00:47:05.986Z"
   },
   {
    "duration": 30,
    "start_time": "2022-07-13T00:47:11.603Z"
   },
   {
    "duration": 377,
    "start_time": "2022-07-13T00:47:23.242Z"
   },
   {
    "duration": 145,
    "start_time": "2022-07-13T00:47:23.621Z"
   },
   {
    "duration": 25,
    "start_time": "2022-07-13T00:47:23.767Z"
   },
   {
    "duration": 13,
    "start_time": "2022-07-13T00:47:23.794Z"
   },
   {
    "duration": 19,
    "start_time": "2022-07-13T00:47:23.808Z"
   },
   {
    "duration": 26,
    "start_time": "2022-07-13T00:47:23.829Z"
   },
   {
    "duration": 11,
    "start_time": "2022-07-13T00:47:23.856Z"
   },
   {
    "duration": 16,
    "start_time": "2022-07-13T00:47:23.868Z"
   },
   {
    "duration": 23,
    "start_time": "2022-07-13T00:47:23.886Z"
   },
   {
    "duration": 8,
    "start_time": "2022-07-13T00:47:23.911Z"
   },
   {
    "duration": 76,
    "start_time": "2022-07-13T00:47:23.920Z"
   },
   {
    "duration": 8,
    "start_time": "2022-07-13T00:47:23.997Z"
   },
   {
    "duration": 23,
    "start_time": "2022-07-13T00:47:24.007Z"
   },
   {
    "duration": 4,
    "start_time": "2022-07-13T00:47:24.053Z"
   },
   {
    "duration": 8,
    "start_time": "2022-07-13T00:47:24.058Z"
   },
   {
    "duration": 8,
    "start_time": "2022-07-13T00:47:24.067Z"
   },
   {
    "duration": 6,
    "start_time": "2022-07-13T00:47:24.076Z"
   },
   {
    "duration": 3,
    "start_time": "2022-07-13T00:47:24.083Z"
   },
   {
    "duration": 19,
    "start_time": "2022-07-13T00:47:24.087Z"
   },
   {
    "duration": 47,
    "start_time": "2022-07-13T00:47:24.108Z"
   },
   {
    "duration": 20,
    "start_time": "2022-07-13T00:47:38.887Z"
   },
   {
    "duration": 20,
    "start_time": "2022-07-13T00:48:37.649Z"
   },
   {
    "duration": 24,
    "start_time": "2022-07-13T00:49:27.938Z"
   },
   {
    "duration": 414,
    "start_time": "2022-07-13T00:50:05.521Z"
   },
   {
    "duration": 175,
    "start_time": "2022-07-13T00:50:05.936Z"
   },
   {
    "duration": 26,
    "start_time": "2022-07-13T00:50:06.112Z"
   },
   {
    "duration": 21,
    "start_time": "2022-07-13T00:50:06.140Z"
   },
   {
    "duration": 25,
    "start_time": "2022-07-13T00:50:06.162Z"
   },
   {
    "duration": 9,
    "start_time": "2022-07-13T00:50:06.188Z"
   },
   {
    "duration": 9,
    "start_time": "2022-07-13T00:50:06.199Z"
   },
   {
    "duration": 44,
    "start_time": "2022-07-13T00:50:06.209Z"
   },
   {
    "duration": 25,
    "start_time": "2022-07-13T00:50:06.255Z"
   },
   {
    "duration": 9,
    "start_time": "2022-07-13T00:50:06.284Z"
   },
   {
    "duration": 81,
    "start_time": "2022-07-13T00:50:06.295Z"
   },
   {
    "duration": 9,
    "start_time": "2022-07-13T00:50:06.378Z"
   },
   {
    "duration": 26,
    "start_time": "2022-07-13T00:50:06.389Z"
   },
   {
    "duration": 4,
    "start_time": "2022-07-13T00:50:06.417Z"
   },
   {
    "duration": 31,
    "start_time": "2022-07-13T00:50:06.422Z"
   },
   {
    "duration": 11,
    "start_time": "2022-07-13T00:50:06.454Z"
   },
   {
    "duration": 6,
    "start_time": "2022-07-13T00:50:06.466Z"
   },
   {
    "duration": 3,
    "start_time": "2022-07-13T00:50:06.474Z"
   },
   {
    "duration": 23,
    "start_time": "2022-07-13T00:50:06.478Z"
   },
   {
    "duration": 54,
    "start_time": "2022-07-13T00:50:06.502Z"
   },
   {
    "duration": 397,
    "start_time": "2022-07-13T00:52:25.923Z"
   },
   {
    "duration": 156,
    "start_time": "2022-07-13T00:52:26.322Z"
   },
   {
    "duration": 27,
    "start_time": "2022-07-13T00:52:26.479Z"
   },
   {
    "duration": 13,
    "start_time": "2022-07-13T00:52:26.507Z"
   },
   {
    "duration": 39,
    "start_time": "2022-07-13T00:52:26.522Z"
   },
   {
    "duration": 7,
    "start_time": "2022-07-13T00:52:26.563Z"
   },
   {
    "duration": 11,
    "start_time": "2022-07-13T00:52:26.571Z"
   },
   {
    "duration": 19,
    "start_time": "2022-07-13T00:52:26.584Z"
   },
   {
    "duration": 23,
    "start_time": "2022-07-13T00:52:26.604Z"
   },
   {
    "duration": 10,
    "start_time": "2022-07-13T00:52:26.652Z"
   },
   {
    "duration": 64,
    "start_time": "2022-07-13T00:52:26.664Z"
   },
   {
    "duration": 27,
    "start_time": "2022-07-13T00:52:26.730Z"
   },
   {
    "duration": 25,
    "start_time": "2022-07-13T00:52:26.759Z"
   },
   {
    "duration": 4,
    "start_time": "2022-07-13T00:52:26.785Z"
   },
   {
    "duration": 6,
    "start_time": "2022-07-13T00:52:26.791Z"
   },
   {
    "duration": 9,
    "start_time": "2022-07-13T00:52:26.798Z"
   },
   {
    "duration": 7,
    "start_time": "2022-07-13T00:52:26.808Z"
   },
   {
    "duration": 36,
    "start_time": "2022-07-13T00:52:26.816Z"
   },
   {
    "duration": 21,
    "start_time": "2022-07-13T00:52:26.854Z"
   },
   {
    "duration": 28,
    "start_time": "2022-07-13T00:52:26.877Z"
   },
   {
    "duration": 394,
    "start_time": "2022-07-13T00:53:42.826Z"
   },
   {
    "duration": 147,
    "start_time": "2022-07-13T00:53:43.222Z"
   },
   {
    "duration": 25,
    "start_time": "2022-07-13T00:53:43.371Z"
   },
   {
    "duration": 12,
    "start_time": "2022-07-13T00:53:43.398Z"
   },
   {
    "duration": 19,
    "start_time": "2022-07-13T00:53:43.411Z"
   },
   {
    "duration": 8,
    "start_time": "2022-07-13T00:53:43.451Z"
   },
   {
    "duration": 10,
    "start_time": "2022-07-13T00:53:43.460Z"
   },
   {
    "duration": 13,
    "start_time": "2022-07-13T00:53:43.472Z"
   },
   {
    "duration": 22,
    "start_time": "2022-07-13T00:53:43.486Z"
   },
   {
    "duration": 8,
    "start_time": "2022-07-13T00:53:43.510Z"
   },
   {
    "duration": 73,
    "start_time": "2022-07-13T00:53:43.519Z"
   },
   {
    "duration": 7,
    "start_time": "2022-07-13T00:53:43.594Z"
   },
   {
    "duration": 24,
    "start_time": "2022-07-13T00:53:43.603Z"
   },
   {
    "duration": 27,
    "start_time": "2022-07-13T00:53:43.628Z"
   },
   {
    "duration": 6,
    "start_time": "2022-07-13T00:53:43.656Z"
   },
   {
    "duration": 7,
    "start_time": "2022-07-13T00:53:43.663Z"
   },
   {
    "duration": 5,
    "start_time": "2022-07-13T00:53:43.671Z"
   },
   {
    "duration": 3,
    "start_time": "2022-07-13T00:53:43.678Z"
   },
   {
    "duration": 24,
    "start_time": "2022-07-13T00:53:43.682Z"
   },
   {
    "duration": 52,
    "start_time": "2022-07-13T00:53:43.707Z"
   },
   {
    "duration": 23,
    "start_time": "2022-07-13T00:54:10.971Z"
   },
   {
    "duration": 24,
    "start_time": "2022-07-13T00:54:16.086Z"
   },
   {
    "duration": 23,
    "start_time": "2022-07-13T00:54:41.556Z"
   },
   {
    "duration": 23,
    "start_time": "2022-07-13T00:55:12.287Z"
   },
   {
    "duration": 386,
    "start_time": "2022-07-13T00:59:23.634Z"
   },
   {
    "duration": 145,
    "start_time": "2022-07-13T00:59:24.022Z"
   },
   {
    "duration": 24,
    "start_time": "2022-07-13T00:59:24.168Z"
   },
   {
    "duration": 12,
    "start_time": "2022-07-13T00:59:24.194Z"
   },
   {
    "duration": 19,
    "start_time": "2022-07-13T00:59:24.208Z"
   },
   {
    "duration": 28,
    "start_time": "2022-07-13T00:59:24.228Z"
   },
   {
    "duration": 11,
    "start_time": "2022-07-13T00:59:24.258Z"
   },
   {
    "duration": 16,
    "start_time": "2022-07-13T00:59:24.271Z"
   },
   {
    "duration": 25,
    "start_time": "2022-07-13T00:59:24.288Z"
   },
   {
    "duration": 10,
    "start_time": "2022-07-13T00:59:24.315Z"
   },
   {
    "duration": 73,
    "start_time": "2022-07-13T00:59:24.326Z"
   },
   {
    "duration": 8,
    "start_time": "2022-07-13T00:59:24.400Z"
   },
   {
    "duration": 46,
    "start_time": "2022-07-13T00:59:24.410Z"
   },
   {
    "duration": 4,
    "start_time": "2022-07-13T00:59:24.458Z"
   },
   {
    "duration": 6,
    "start_time": "2022-07-13T00:59:24.464Z"
   },
   {
    "duration": 25,
    "start_time": "2022-07-13T00:59:24.471Z"
   },
   {
    "duration": 28,
    "start_time": "2022-07-13T00:59:24.497Z"
   },
   {
    "duration": 10,
    "start_time": "2022-07-13T00:59:24.527Z"
   },
   {
    "duration": 38,
    "start_time": "2022-07-13T00:59:24.538Z"
   },
   {
    "duration": 28,
    "start_time": "2022-07-13T00:59:24.577Z"
   },
   {
    "duration": 373,
    "start_time": "2022-07-13T01:00:12.655Z"
   },
   {
    "duration": 145,
    "start_time": "2022-07-13T01:00:13.030Z"
   },
   {
    "duration": 24,
    "start_time": "2022-07-13T01:00:13.176Z"
   },
   {
    "duration": 12,
    "start_time": "2022-07-13T01:00:13.202Z"
   },
   {
    "duration": 40,
    "start_time": "2022-07-13T01:00:13.215Z"
   },
   {
    "duration": 8,
    "start_time": "2022-07-13T01:00:13.256Z"
   },
   {
    "duration": 11,
    "start_time": "2022-07-13T01:00:13.266Z"
   },
   {
    "duration": 15,
    "start_time": "2022-07-13T01:00:13.278Z"
   },
   {
    "duration": 22,
    "start_time": "2022-07-13T01:00:13.295Z"
   },
   {
    "duration": 36,
    "start_time": "2022-07-13T01:00:13.319Z"
   },
   {
    "duration": 54,
    "start_time": "2022-07-13T01:00:13.356Z"
   },
   {
    "duration": 9,
    "start_time": "2022-07-13T01:00:13.412Z"
   },
   {
    "duration": 48,
    "start_time": "2022-07-13T01:00:13.423Z"
   },
   {
    "duration": 4,
    "start_time": "2022-07-13T01:00:13.472Z"
   },
   {
    "duration": 6,
    "start_time": "2022-07-13T01:00:13.478Z"
   },
   {
    "duration": 7,
    "start_time": "2022-07-13T01:00:13.486Z"
   },
   {
    "duration": 6,
    "start_time": "2022-07-13T01:00:13.494Z"
   },
   {
    "duration": 3,
    "start_time": "2022-07-13T01:00:13.502Z"
   },
   {
    "duration": 48,
    "start_time": "2022-07-13T01:00:13.507Z"
   },
   {
    "duration": 23,
    "start_time": "2022-07-13T01:00:13.556Z"
   },
   {
    "duration": 23,
    "start_time": "2022-07-13T01:00:33.087Z"
   },
   {
    "duration": 14,
    "start_time": "2022-07-13T01:09:28.646Z"
   },
   {
    "duration": 14,
    "start_time": "2022-07-13T01:11:54.680Z"
   },
   {
    "duration": 27,
    "start_time": "2022-07-13T01:12:06.630Z"
   },
   {
    "duration": 365,
    "start_time": "2022-07-13T01:12:12.755Z"
   },
   {
    "duration": 151,
    "start_time": "2022-07-13T01:12:13.122Z"
   },
   {
    "duration": 24,
    "start_time": "2022-07-13T01:12:13.275Z"
   },
   {
    "duration": 12,
    "start_time": "2022-07-13T01:12:13.301Z"
   },
   {
    "duration": 45,
    "start_time": "2022-07-13T01:12:13.315Z"
   },
   {
    "duration": 8,
    "start_time": "2022-07-13T01:12:13.361Z"
   },
   {
    "duration": 11,
    "start_time": "2022-07-13T01:12:13.370Z"
   },
   {
    "duration": 14,
    "start_time": "2022-07-13T01:12:13.383Z"
   },
   {
    "duration": 23,
    "start_time": "2022-07-13T01:12:13.398Z"
   },
   {
    "duration": 35,
    "start_time": "2022-07-13T01:12:13.423Z"
   },
   {
    "duration": 50,
    "start_time": "2022-07-13T01:12:13.459Z"
   },
   {
    "duration": 9,
    "start_time": "2022-07-13T01:12:13.510Z"
   },
   {
    "duration": 49,
    "start_time": "2022-07-13T01:12:13.521Z"
   },
   {
    "duration": 4,
    "start_time": "2022-07-13T01:12:13.571Z"
   },
   {
    "duration": 5,
    "start_time": "2022-07-13T01:12:13.577Z"
   },
   {
    "duration": 8,
    "start_time": "2022-07-13T01:12:13.583Z"
   },
   {
    "duration": 5,
    "start_time": "2022-07-13T01:12:13.593Z"
   },
   {
    "duration": 4,
    "start_time": "2022-07-13T01:12:13.599Z"
   },
   {
    "duration": 48,
    "start_time": "2022-07-13T01:12:13.604Z"
   },
   {
    "duration": 22,
    "start_time": "2022-07-13T01:12:13.654Z"
   },
   {
    "duration": 21,
    "start_time": "2022-07-13T01:12:28.120Z"
   },
   {
    "duration": 388,
    "start_time": "2022-07-13T01:13:10.245Z"
   },
   {
    "duration": 146,
    "start_time": "2022-07-13T01:13:10.635Z"
   },
   {
    "duration": 23,
    "start_time": "2022-07-13T01:13:10.783Z"
   },
   {
    "duration": 12,
    "start_time": "2022-07-13T01:13:10.808Z"
   },
   {
    "duration": 38,
    "start_time": "2022-07-13T01:13:10.821Z"
   },
   {
    "duration": 7,
    "start_time": "2022-07-13T01:13:10.861Z"
   },
   {
    "duration": 11,
    "start_time": "2022-07-13T01:13:10.870Z"
   },
   {
    "duration": 15,
    "start_time": "2022-07-13T01:13:10.882Z"
   },
   {
    "duration": 30,
    "start_time": "2022-07-13T01:13:10.898Z"
   },
   {
    "duration": 23,
    "start_time": "2022-07-13T01:13:10.930Z"
   },
   {
    "duration": 48,
    "start_time": "2022-07-13T01:13:10.955Z"
   },
   {
    "duration": 8,
    "start_time": "2022-07-13T01:13:11.004Z"
   },
   {
    "duration": 42,
    "start_time": "2022-07-13T01:13:11.014Z"
   },
   {
    "duration": 4,
    "start_time": "2022-07-13T01:13:11.058Z"
   },
   {
    "duration": 7,
    "start_time": "2022-07-13T01:13:11.063Z"
   },
   {
    "duration": 8,
    "start_time": "2022-07-13T01:13:11.072Z"
   },
   {
    "duration": 5,
    "start_time": "2022-07-13T01:13:11.082Z"
   },
   {
    "duration": 4,
    "start_time": "2022-07-13T01:13:11.088Z"
   },
   {
    "duration": 22,
    "start_time": "2022-07-13T01:13:11.093Z"
   },
   {
    "duration": 51,
    "start_time": "2022-07-13T01:13:11.116Z"
   },
   {
    "duration": 23,
    "start_time": "2022-07-13T01:14:21.134Z"
   },
   {
    "duration": 24,
    "start_time": "2022-07-13T01:14:25.710Z"
   },
   {
    "duration": 62,
    "start_time": "2022-07-13T01:14:36.341Z"
   },
   {
    "duration": 22,
    "start_time": "2022-07-13T01:14:45.602Z"
   },
   {
    "duration": 386,
    "start_time": "2022-07-13T01:14:54.439Z"
   },
   {
    "duration": 149,
    "start_time": "2022-07-13T01:14:54.827Z"
   },
   {
    "duration": 25,
    "start_time": "2022-07-13T01:14:54.978Z"
   },
   {
    "duration": 14,
    "start_time": "2022-07-13T01:14:55.004Z"
   },
   {
    "duration": 42,
    "start_time": "2022-07-13T01:14:55.019Z"
   },
   {
    "duration": 9,
    "start_time": "2022-07-13T01:14:55.063Z"
   },
   {
    "duration": 9,
    "start_time": "2022-07-13T01:14:55.074Z"
   },
   {
    "duration": 15,
    "start_time": "2022-07-13T01:14:55.085Z"
   },
   {
    "duration": 22,
    "start_time": "2022-07-13T01:14:55.101Z"
   },
   {
    "duration": 33,
    "start_time": "2022-07-13T01:14:55.125Z"
   },
   {
    "duration": 47,
    "start_time": "2022-07-13T01:14:55.160Z"
   },
   {
    "duration": 7,
    "start_time": "2022-07-13T01:14:55.209Z"
   },
   {
    "duration": 49,
    "start_time": "2022-07-13T01:14:55.217Z"
   },
   {
    "duration": 4,
    "start_time": "2022-07-13T01:14:55.267Z"
   },
   {
    "duration": 15,
    "start_time": "2022-07-13T01:14:55.273Z"
   },
   {
    "duration": 12,
    "start_time": "2022-07-13T01:14:55.289Z"
   },
   {
    "duration": 6,
    "start_time": "2022-07-13T01:14:55.303Z"
   },
   {
    "duration": 7,
    "start_time": "2022-07-13T01:14:55.310Z"
   },
   {
    "duration": 35,
    "start_time": "2022-07-13T01:14:55.318Z"
   },
   {
    "duration": 22,
    "start_time": "2022-07-13T01:14:55.354Z"
   },
   {
    "duration": 25,
    "start_time": "2022-07-13T01:15:08.189Z"
   },
   {
    "duration": 23,
    "start_time": "2022-07-13T01:15:24.504Z"
   },
   {
    "duration": 23,
    "start_time": "2022-07-13T01:15:43.563Z"
   },
   {
    "duration": 23,
    "start_time": "2022-07-13T01:15:47.404Z"
   },
   {
    "duration": 22,
    "start_time": "2022-07-13T01:19:11.535Z"
   },
   {
    "duration": 22,
    "start_time": "2022-07-13T01:19:38.858Z"
   },
   {
    "duration": 22,
    "start_time": "2022-07-13T01:19:59.889Z"
   },
   {
    "duration": 23,
    "start_time": "2022-07-13T01:20:07.073Z"
   },
   {
    "duration": 22,
    "start_time": "2022-07-13T01:20:37.556Z"
   },
   {
    "duration": 23,
    "start_time": "2022-07-13T01:20:46.326Z"
   },
   {
    "duration": 23,
    "start_time": "2022-07-13T01:21:02.007Z"
   },
   {
    "duration": 26,
    "start_time": "2022-07-13T01:21:29.364Z"
   },
   {
    "duration": 367,
    "start_time": "2022-07-13T01:21:35.353Z"
   },
   {
    "duration": 145,
    "start_time": "2022-07-13T01:21:35.722Z"
   },
   {
    "duration": 24,
    "start_time": "2022-07-13T01:21:35.868Z"
   },
   {
    "duration": 13,
    "start_time": "2022-07-13T01:21:35.894Z"
   },
   {
    "duration": 20,
    "start_time": "2022-07-13T01:21:35.909Z"
   },
   {
    "duration": 27,
    "start_time": "2022-07-13T01:21:35.930Z"
   },
   {
    "duration": 8,
    "start_time": "2022-07-13T01:21:35.958Z"
   },
   {
    "duration": 14,
    "start_time": "2022-07-13T01:21:35.967Z"
   },
   {
    "duration": 43,
    "start_time": "2022-07-13T01:21:35.982Z"
   },
   {
    "duration": 25,
    "start_time": "2022-07-13T01:21:36.028Z"
   },
   {
    "duration": 55,
    "start_time": "2022-07-13T01:21:36.055Z"
   },
   {
    "duration": 8,
    "start_time": "2022-07-13T01:21:36.111Z"
   },
   {
    "duration": 47,
    "start_time": "2022-07-13T01:21:36.120Z"
   },
   {
    "duration": 8,
    "start_time": "2022-07-13T01:21:36.168Z"
   },
   {
    "duration": 6,
    "start_time": "2022-07-13T01:21:36.177Z"
   },
   {
    "duration": 18,
    "start_time": "2022-07-13T01:21:36.185Z"
   },
   {
    "duration": 18,
    "start_time": "2022-07-13T01:21:36.205Z"
   },
   {
    "duration": 6,
    "start_time": "2022-07-13T01:21:36.225Z"
   },
   {
    "duration": 42,
    "start_time": "2022-07-13T01:21:36.233Z"
   },
   {
    "duration": 28,
    "start_time": "2022-07-13T01:21:36.277Z"
   },
   {
    "duration": 380,
    "start_time": "2022-07-13T01:22:27.557Z"
   },
   {
    "duration": 153,
    "start_time": "2022-07-13T01:22:27.939Z"
   },
   {
    "duration": 28,
    "start_time": "2022-07-13T01:22:28.093Z"
   },
   {
    "duration": 30,
    "start_time": "2022-07-13T01:22:28.123Z"
   },
   {
    "duration": 24,
    "start_time": "2022-07-13T01:22:28.154Z"
   },
   {
    "duration": 8,
    "start_time": "2022-07-13T01:22:28.180Z"
   },
   {
    "duration": 9,
    "start_time": "2022-07-13T01:22:28.189Z"
   },
   {
    "duration": 15,
    "start_time": "2022-07-13T01:22:28.199Z"
   },
   {
    "duration": 55,
    "start_time": "2022-07-13T01:22:28.215Z"
   },
   {
    "duration": 9,
    "start_time": "2022-07-13T01:22:28.272Z"
   },
   {
    "duration": 79,
    "start_time": "2022-07-13T01:22:28.282Z"
   },
   {
    "duration": 7,
    "start_time": "2022-07-13T01:22:28.363Z"
   },
   {
    "duration": 26,
    "start_time": "2022-07-13T01:22:28.372Z"
   },
   {
    "duration": 4,
    "start_time": "2022-07-13T01:22:28.399Z"
   },
   {
    "duration": 8,
    "start_time": "2022-07-13T01:22:28.405Z"
   },
   {
    "duration": 9,
    "start_time": "2022-07-13T01:22:28.414Z"
   },
   {
    "duration": 28,
    "start_time": "2022-07-13T01:22:28.424Z"
   },
   {
    "duration": 3,
    "start_time": "2022-07-13T01:22:28.454Z"
   },
   {
    "duration": 93,
    "start_time": "2022-07-13T01:22:28.459Z"
   },
   {
    "duration": 0,
    "start_time": "2022-07-13T01:22:28.553Z"
   },
   {
    "duration": 25,
    "start_time": "2022-07-13T01:22:54.249Z"
   },
   {
    "duration": 21,
    "start_time": "2022-07-13T01:22:57.032Z"
   },
   {
    "duration": 20,
    "start_time": "2022-07-13T01:23:00.137Z"
   },
   {
    "duration": 386,
    "start_time": "2022-07-13T01:23:16.626Z"
   },
   {
    "duration": 143,
    "start_time": "2022-07-13T01:23:17.014Z"
   },
   {
    "duration": 22,
    "start_time": "2022-07-13T01:23:17.159Z"
   },
   {
    "duration": 11,
    "start_time": "2022-07-13T01:23:17.183Z"
   },
   {
    "duration": 19,
    "start_time": "2022-07-13T01:23:17.196Z"
   },
   {
    "duration": 7,
    "start_time": "2022-07-13T01:23:17.216Z"
   },
   {
    "duration": 28,
    "start_time": "2022-07-13T01:23:17.224Z"
   },
   {
    "duration": 13,
    "start_time": "2022-07-13T01:23:17.253Z"
   },
   {
    "duration": 23,
    "start_time": "2022-07-13T01:23:17.267Z"
   },
   {
    "duration": 7,
    "start_time": "2022-07-13T01:23:17.292Z"
   },
   {
    "duration": 63,
    "start_time": "2022-07-13T01:23:17.300Z"
   },
   {
    "duration": 8,
    "start_time": "2022-07-13T01:23:17.364Z"
   },
   {
    "duration": 24,
    "start_time": "2022-07-13T01:23:17.373Z"
   },
   {
    "duration": 4,
    "start_time": "2022-07-13T01:23:17.398Z"
   },
   {
    "duration": 7,
    "start_time": "2022-07-13T01:23:17.403Z"
   },
   {
    "duration": 9,
    "start_time": "2022-07-13T01:23:17.411Z"
   },
   {
    "duration": 32,
    "start_time": "2022-07-13T01:23:17.421Z"
   },
   {
    "duration": 3,
    "start_time": "2022-07-13T01:23:17.455Z"
   },
   {
    "duration": 25,
    "start_time": "2022-07-13T01:23:17.460Z"
   },
   {
    "duration": 21,
    "start_time": "2022-07-13T01:23:17.486Z"
   },
   {
    "duration": 7,
    "start_time": "2022-07-13T01:23:41.653Z"
   },
   {
    "duration": 5,
    "start_time": "2022-07-13T01:24:53.197Z"
   },
   {
    "duration": 146,
    "start_time": "2022-07-13T01:31:46.633Z"
   },
   {
    "duration": 3,
    "start_time": "2022-07-13T01:32:24.811Z"
   },
   {
    "duration": 88,
    "start_time": "2022-07-13T01:33:49.523Z"
   },
   {
    "duration": 9,
    "start_time": "2022-07-13T01:33:58.371Z"
   },
   {
    "duration": 1286,
    "start_time": "2022-07-13T01:34:15.664Z"
   },
   {
    "duration": 1351,
    "start_time": "2022-07-13T01:34:21.189Z"
   },
   {
    "duration": 6,
    "start_time": "2022-07-13T01:34:47.907Z"
   },
   {
    "duration": 6,
    "start_time": "2022-07-13T01:34:55.520Z"
   },
   {
    "duration": 6,
    "start_time": "2022-07-13T01:35:14.202Z"
   },
   {
    "duration": 4,
    "start_time": "2022-07-13T01:35:26.162Z"
   },
   {
    "duration": 3,
    "start_time": "2022-07-13T01:35:48.677Z"
   },
   {
    "duration": 4,
    "start_time": "2022-07-13T01:35:55.662Z"
   },
   {
    "duration": 92,
    "start_time": "2022-07-13T01:36:22.352Z"
   },
   {
    "duration": 4,
    "start_time": "2022-07-13T01:36:29.369Z"
   },
   {
    "duration": 537,
    "start_time": "2022-07-13T01:38:12.490Z"
   },
   {
    "duration": 122,
    "start_time": "2022-07-13T01:38:18.568Z"
   },
   {
    "duration": 118,
    "start_time": "2022-07-13T01:40:41.254Z"
   },
   {
    "duration": 114,
    "start_time": "2022-07-13T01:42:41.165Z"
   },
   {
    "duration": 166,
    "start_time": "2022-07-13T01:42:49.997Z"
   },
   {
    "duration": 128,
    "start_time": "2022-07-13T01:43:04.910Z"
   },
   {
    "duration": 388,
    "start_time": "2022-07-13T01:43:14.838Z"
   },
   {
    "duration": 145,
    "start_time": "2022-07-13T01:43:15.229Z"
   },
   {
    "duration": 23,
    "start_time": "2022-07-13T01:43:15.375Z"
   },
   {
    "duration": 12,
    "start_time": "2022-07-13T01:43:15.400Z"
   },
   {
    "duration": 19,
    "start_time": "2022-07-13T01:43:15.413Z"
   },
   {
    "duration": 21,
    "start_time": "2022-07-13T01:43:15.433Z"
   },
   {
    "duration": 10,
    "start_time": "2022-07-13T01:43:15.455Z"
   },
   {
    "duration": 13,
    "start_time": "2022-07-13T01:43:15.466Z"
   },
   {
    "duration": 23,
    "start_time": "2022-07-13T01:43:15.480Z"
   },
   {
    "duration": 8,
    "start_time": "2022-07-13T01:43:15.505Z"
   },
   {
    "duration": 73,
    "start_time": "2022-07-13T01:43:15.514Z"
   },
   {
    "duration": 7,
    "start_time": "2022-07-13T01:43:15.589Z"
   },
   {
    "duration": 25,
    "start_time": "2022-07-13T01:43:15.598Z"
   },
   {
    "duration": 4,
    "start_time": "2022-07-13T01:43:15.624Z"
   },
   {
    "duration": 25,
    "start_time": "2022-07-13T01:43:15.629Z"
   },
   {
    "duration": 8,
    "start_time": "2022-07-13T01:43:15.656Z"
   },
   {
    "duration": 5,
    "start_time": "2022-07-13T01:43:15.666Z"
   },
   {
    "duration": 4,
    "start_time": "2022-07-13T01:43:15.672Z"
   },
   {
    "duration": 22,
    "start_time": "2022-07-13T01:43:15.677Z"
   },
   {
    "duration": 8,
    "start_time": "2022-07-13T01:43:15.701Z"
   },
   {
    "duration": 4,
    "start_time": "2022-07-13T01:43:15.711Z"
   },
   {
    "duration": 41,
    "start_time": "2022-07-13T01:43:15.717Z"
   },
   {
    "duration": 375,
    "start_time": "2022-07-13T01:43:15.760Z"
   },
   {
    "duration": 120,
    "start_time": "2022-07-13T01:47:59.119Z"
   },
   {
    "duration": 71,
    "start_time": "2022-07-13T01:50:07.560Z"
   },
   {
    "duration": 126,
    "start_time": "2022-07-13T01:50:48.087Z"
   },
   {
    "duration": 350,
    "start_time": "2022-07-13T01:50:59.872Z"
   },
   {
    "duration": 151,
    "start_time": "2022-07-13T01:51:00.224Z"
   },
   {
    "duration": 24,
    "start_time": "2022-07-13T01:51:00.377Z"
   },
   {
    "duration": 18,
    "start_time": "2022-07-13T01:51:00.403Z"
   },
   {
    "duration": 37,
    "start_time": "2022-07-13T01:51:00.423Z"
   },
   {
    "duration": 23,
    "start_time": "2022-07-13T01:51:00.461Z"
   },
   {
    "duration": 15,
    "start_time": "2022-07-13T01:51:00.486Z"
   },
   {
    "duration": 24,
    "start_time": "2022-07-13T01:51:00.502Z"
   },
   {
    "duration": 30,
    "start_time": "2022-07-13T01:51:00.527Z"
   },
   {
    "duration": 9,
    "start_time": "2022-07-13T01:51:00.559Z"
   },
   {
    "duration": 59,
    "start_time": "2022-07-13T01:51:00.569Z"
   },
   {
    "duration": 8,
    "start_time": "2022-07-13T01:51:00.630Z"
   },
   {
    "duration": 30,
    "start_time": "2022-07-13T01:51:00.652Z"
   },
   {
    "duration": 12,
    "start_time": "2022-07-13T01:51:00.684Z"
   },
   {
    "duration": 15,
    "start_time": "2022-07-13T01:51:00.697Z"
   },
   {
    "duration": 14,
    "start_time": "2022-07-13T01:51:00.714Z"
   },
   {
    "duration": 5,
    "start_time": "2022-07-13T01:51:00.730Z"
   },
   {
    "duration": 14,
    "start_time": "2022-07-13T01:51:00.737Z"
   },
   {
    "duration": 27,
    "start_time": "2022-07-13T01:51:00.753Z"
   },
   {
    "duration": 5,
    "start_time": "2022-07-13T01:51:00.781Z"
   },
   {
    "duration": 7,
    "start_time": "2022-07-13T01:51:00.788Z"
   },
   {
    "duration": 6,
    "start_time": "2022-07-13T01:51:00.796Z"
   },
   {
    "duration": 355,
    "start_time": "2022-07-13T01:51:00.803Z"
   },
   {
    "duration": 11,
    "start_time": "2022-07-13T01:53:02.282Z"
   },
   {
    "duration": 13,
    "start_time": "2022-07-13T01:58:55.081Z"
   },
   {
    "duration": 21,
    "start_time": "2022-07-13T01:59:46.443Z"
   },
   {
    "duration": 11,
    "start_time": "2022-07-13T02:00:17.270Z"
   },
   {
    "duration": 11,
    "start_time": "2022-07-13T02:00:21.690Z"
   },
   {
    "duration": 28,
    "start_time": "2022-07-13T02:28:02.731Z"
   },
   {
    "duration": 66,
    "start_time": "2022-07-13T02:28:32.716Z"
   },
   {
    "duration": 79,
    "start_time": "2022-07-13T02:28:56.508Z"
   },
   {
    "duration": 9,
    "start_time": "2022-07-13T02:29:00.291Z"
   },
   {
    "duration": 11,
    "start_time": "2022-07-13T02:29:15.472Z"
   },
   {
    "duration": 78,
    "start_time": "2022-07-13T02:29:19.480Z"
   },
   {
    "duration": 32,
    "start_time": "2022-07-13T02:29:39.961Z"
   },
   {
    "duration": 27,
    "start_time": "2022-07-13T02:30:12.066Z"
   },
   {
    "duration": 30,
    "start_time": "2022-07-13T02:30:18.770Z"
   },
   {
    "duration": 7,
    "start_time": "2022-07-13T02:31:35.450Z"
   },
   {
    "duration": 150,
    "start_time": "2022-07-13T02:33:13.207Z"
   },
   {
    "duration": 3,
    "start_time": "2022-07-13T02:34:01.868Z"
   },
   {
    "duration": 142,
    "start_time": "2022-07-13T02:34:03.494Z"
   },
   {
    "duration": 1204,
    "start_time": "2022-07-13T02:39:16.543Z"
   },
   {
    "duration": 4,
    "start_time": "2022-07-13T02:39:25.458Z"
   },
   {
    "duration": 25,
    "start_time": "2022-07-13T02:43:03.989Z"
   },
   {
    "duration": 6,
    "start_time": "2022-07-13T02:43:29.797Z"
   },
   {
    "duration": 152,
    "start_time": "2022-07-13T02:44:55.776Z"
   },
   {
    "duration": 335,
    "start_time": "2022-07-13T02:45:09.394Z"
   },
   {
    "duration": 151,
    "start_time": "2022-07-13T02:45:09.730Z"
   },
   {
    "duration": 25,
    "start_time": "2022-07-13T02:45:09.882Z"
   },
   {
    "duration": 13,
    "start_time": "2022-07-13T02:45:09.909Z"
   },
   {
    "duration": 43,
    "start_time": "2022-07-13T02:45:09.924Z"
   },
   {
    "duration": 14,
    "start_time": "2022-07-13T02:45:09.968Z"
   },
   {
    "duration": 19,
    "start_time": "2022-07-13T02:45:09.983Z"
   },
   {
    "duration": 21,
    "start_time": "2022-07-13T02:45:10.003Z"
   },
   {
    "duration": 27,
    "start_time": "2022-07-13T02:45:10.025Z"
   },
   {
    "duration": 8,
    "start_time": "2022-07-13T02:45:10.055Z"
   },
   {
    "duration": 65,
    "start_time": "2022-07-13T02:45:10.065Z"
   },
   {
    "duration": 7,
    "start_time": "2022-07-13T02:45:10.132Z"
   },
   {
    "duration": 38,
    "start_time": "2022-07-13T02:45:10.140Z"
   },
   {
    "duration": 4,
    "start_time": "2022-07-13T02:45:10.179Z"
   },
   {
    "duration": 20,
    "start_time": "2022-07-13T02:45:10.185Z"
   },
   {
    "duration": 20,
    "start_time": "2022-07-13T02:45:10.207Z"
   },
   {
    "duration": 12,
    "start_time": "2022-07-13T02:45:10.228Z"
   },
   {
    "duration": 18,
    "start_time": "2022-07-13T02:45:10.242Z"
   },
   {
    "duration": 35,
    "start_time": "2022-07-13T02:45:10.261Z"
   },
   {
    "duration": 8,
    "start_time": "2022-07-13T02:45:10.298Z"
   },
   {
    "duration": 22,
    "start_time": "2022-07-13T02:45:10.308Z"
   },
   {
    "duration": 13,
    "start_time": "2022-07-13T02:45:10.332Z"
   },
   {
    "duration": 365,
    "start_time": "2022-07-13T02:45:10.347Z"
   },
   {
    "duration": 12,
    "start_time": "2022-07-13T02:45:10.713Z"
   },
   {
    "duration": 13,
    "start_time": "2022-07-13T02:45:10.726Z"
   },
   {
    "duration": 14,
    "start_time": "2022-07-13T02:45:10.740Z"
   },
   {
    "duration": 7,
    "start_time": "2022-07-13T02:45:10.755Z"
   },
   {
    "duration": 7,
    "start_time": "2022-07-13T02:45:10.765Z"
   },
   {
    "duration": 159,
    "start_time": "2022-07-13T02:45:10.773Z"
   },
   {
    "duration": 10,
    "start_time": "2022-07-13T02:46:07.348Z"
   },
   {
    "duration": 390,
    "start_time": "2022-07-13T02:46:56.271Z"
   },
   {
    "duration": 148,
    "start_time": "2022-07-13T02:46:56.663Z"
   },
   {
    "duration": 23,
    "start_time": "2022-07-13T02:46:56.813Z"
   },
   {
    "duration": 12,
    "start_time": "2022-07-13T02:46:56.838Z"
   },
   {
    "duration": 19,
    "start_time": "2022-07-13T02:46:56.852Z"
   },
   {
    "duration": 8,
    "start_time": "2022-07-13T02:46:56.872Z"
   },
   {
    "duration": 7,
    "start_time": "2022-07-13T02:46:56.881Z"
   },
   {
    "duration": 13,
    "start_time": "2022-07-13T02:46:56.890Z"
   },
   {
    "duration": 49,
    "start_time": "2022-07-13T02:46:56.904Z"
   },
   {
    "duration": 9,
    "start_time": "2022-07-13T02:46:56.955Z"
   },
   {
    "duration": 48,
    "start_time": "2022-07-13T02:46:56.965Z"
   },
   {
    "duration": 8,
    "start_time": "2022-07-13T02:46:57.015Z"
   },
   {
    "duration": 46,
    "start_time": "2022-07-13T02:46:57.024Z"
   },
   {
    "duration": 4,
    "start_time": "2022-07-13T02:46:57.071Z"
   },
   {
    "duration": 6,
    "start_time": "2022-07-13T02:46:57.076Z"
   },
   {
    "duration": 10,
    "start_time": "2022-07-13T02:46:57.084Z"
   },
   {
    "duration": 9,
    "start_time": "2022-07-13T02:46:57.095Z"
   },
   {
    "duration": 3,
    "start_time": "2022-07-13T02:46:57.105Z"
   },
   {
    "duration": 44,
    "start_time": "2022-07-13T02:46:57.109Z"
   },
   {
    "duration": 5,
    "start_time": "2022-07-13T02:46:57.155Z"
   },
   {
    "duration": 7,
    "start_time": "2022-07-13T02:46:57.162Z"
   },
   {
    "duration": 5,
    "start_time": "2022-07-13T02:46:57.171Z"
   },
   {
    "duration": 363,
    "start_time": "2022-07-13T02:46:57.177Z"
   },
   {
    "duration": 18,
    "start_time": "2022-07-13T02:46:57.542Z"
   },
   {
    "duration": 12,
    "start_time": "2022-07-13T02:46:57.562Z"
   },
   {
    "duration": 4,
    "start_time": "2022-07-13T02:46:57.575Z"
   },
   {
    "duration": 6,
    "start_time": "2022-07-13T02:46:57.580Z"
   },
   {
    "duration": 10,
    "start_time": "2022-07-13T02:46:57.589Z"
   },
   {
    "duration": 176,
    "start_time": "2022-07-13T02:46:57.600Z"
   },
   {
    "duration": 405,
    "start_time": "2022-07-13T02:48:06.825Z"
   },
   {
    "duration": 152,
    "start_time": "2022-07-13T02:48:07.232Z"
   },
   {
    "duration": 26,
    "start_time": "2022-07-13T02:48:07.386Z"
   },
   {
    "duration": 14,
    "start_time": "2022-07-13T02:48:07.414Z"
   },
   {
    "duration": 39,
    "start_time": "2022-07-13T02:48:07.430Z"
   },
   {
    "duration": 8,
    "start_time": "2022-07-13T02:48:07.471Z"
   },
   {
    "duration": 12,
    "start_time": "2022-07-13T02:48:07.480Z"
   },
   {
    "duration": 17,
    "start_time": "2022-07-13T02:48:07.493Z"
   },
   {
    "duration": 42,
    "start_time": "2022-07-13T02:48:07.511Z"
   },
   {
    "duration": 9,
    "start_time": "2022-07-13T02:48:07.555Z"
   },
   {
    "duration": 53,
    "start_time": "2022-07-13T02:48:07.566Z"
   },
   {
    "duration": 8,
    "start_time": "2022-07-13T02:48:07.621Z"
   },
   {
    "duration": 23,
    "start_time": "2022-07-13T02:48:07.653Z"
   },
   {
    "duration": 4,
    "start_time": "2022-07-13T02:48:07.677Z"
   },
   {
    "duration": 9,
    "start_time": "2022-07-13T02:48:07.683Z"
   },
   {
    "duration": 9,
    "start_time": "2022-07-13T02:48:07.693Z"
   },
   {
    "duration": 7,
    "start_time": "2022-07-13T02:48:07.704Z"
   },
   {
    "duration": 7,
    "start_time": "2022-07-13T02:48:07.712Z"
   },
   {
    "duration": 43,
    "start_time": "2022-07-13T02:48:07.720Z"
   },
   {
    "duration": 5,
    "start_time": "2022-07-13T02:48:07.764Z"
   },
   {
    "duration": 8,
    "start_time": "2022-07-13T02:48:07.771Z"
   },
   {
    "duration": 6,
    "start_time": "2022-07-13T02:48:07.780Z"
   },
   {
    "duration": 450,
    "start_time": "2022-07-13T02:48:07.788Z"
   },
   {
    "duration": 21,
    "start_time": "2022-07-13T02:48:08.240Z"
   },
   {
    "duration": 13,
    "start_time": "2022-07-13T02:48:08.263Z"
   },
   {
    "duration": 3,
    "start_time": "2022-07-13T02:48:08.278Z"
   },
   {
    "duration": 7,
    "start_time": "2022-07-13T02:48:08.282Z"
   },
   {
    "duration": 11,
    "start_time": "2022-07-13T02:48:08.292Z"
   },
   {
    "duration": 194,
    "start_time": "2022-07-13T02:48:08.305Z"
   },
   {
    "duration": 339,
    "start_time": "2022-07-13T02:48:33.689Z"
   },
   {
    "duration": 142,
    "start_time": "2022-07-13T02:48:34.030Z"
   },
   {
    "duration": 23,
    "start_time": "2022-07-13T02:48:34.174Z"
   },
   {
    "duration": 12,
    "start_time": "2022-07-13T02:48:34.199Z"
   },
   {
    "duration": 20,
    "start_time": "2022-07-13T02:48:34.212Z"
   },
   {
    "duration": 7,
    "start_time": "2022-07-13T02:48:34.252Z"
   },
   {
    "duration": 10,
    "start_time": "2022-07-13T02:48:34.260Z"
   },
   {
    "duration": 14,
    "start_time": "2022-07-13T02:48:34.271Z"
   },
   {
    "duration": 21,
    "start_time": "2022-07-13T02:48:34.287Z"
   },
   {
    "duration": 8,
    "start_time": "2022-07-13T02:48:34.311Z"
   },
   {
    "duration": 79,
    "start_time": "2022-07-13T02:48:34.321Z"
   },
   {
    "duration": 8,
    "start_time": "2022-07-13T02:48:34.401Z"
   },
   {
    "duration": 45,
    "start_time": "2022-07-13T02:48:34.410Z"
   },
   {
    "duration": 3,
    "start_time": "2022-07-13T02:48:34.457Z"
   },
   {
    "duration": 8,
    "start_time": "2022-07-13T02:48:34.462Z"
   },
   {
    "duration": 9,
    "start_time": "2022-07-13T02:48:34.472Z"
   },
   {
    "duration": 6,
    "start_time": "2022-07-13T02:48:34.482Z"
   },
   {
    "duration": 3,
    "start_time": "2022-07-13T02:48:34.490Z"
   },
   {
    "duration": 22,
    "start_time": "2022-07-13T02:48:34.494Z"
   },
   {
    "duration": 11,
    "start_time": "2022-07-13T02:48:34.517Z"
   },
   {
    "duration": 5,
    "start_time": "2022-07-13T02:48:34.552Z"
   },
   {
    "duration": 7,
    "start_time": "2022-07-13T02:48:34.558Z"
   },
   {
    "duration": 354,
    "start_time": "2022-07-13T02:48:34.566Z"
   },
   {
    "duration": 12,
    "start_time": "2022-07-13T02:48:34.921Z"
   },
   {
    "duration": 20,
    "start_time": "2022-07-13T02:48:34.934Z"
   },
   {
    "duration": 4,
    "start_time": "2022-07-13T02:48:34.955Z"
   },
   {
    "duration": 9,
    "start_time": "2022-07-13T02:48:34.960Z"
   },
   {
    "duration": 10,
    "start_time": "2022-07-13T02:48:34.972Z"
   },
   {
    "duration": 182,
    "start_time": "2022-07-13T02:48:34.984Z"
   },
   {
    "duration": 364,
    "start_time": "2022-07-13T02:53:54.958Z"
   },
   {
    "duration": 146,
    "start_time": "2022-07-13T02:53:55.324Z"
   },
   {
    "duration": 4,
    "start_time": "2022-07-13T02:53:55.472Z"
   },
   {
    "duration": 25,
    "start_time": "2022-07-13T02:53:55.478Z"
   },
   {
    "duration": 12,
    "start_time": "2022-07-13T02:53:55.504Z"
   },
   {
    "duration": 37,
    "start_time": "2022-07-13T02:53:55.517Z"
   },
   {
    "duration": 7,
    "start_time": "2022-07-13T02:53:55.555Z"
   },
   {
    "duration": 15,
    "start_time": "2022-07-13T02:53:55.563Z"
   },
   {
    "duration": 14,
    "start_time": "2022-07-13T02:53:55.579Z"
   },
   {
    "duration": 36,
    "start_time": "2022-07-13T02:53:55.595Z"
   },
   {
    "duration": 8,
    "start_time": "2022-07-13T02:53:55.633Z"
   },
   {
    "duration": 47,
    "start_time": "2022-07-13T02:53:55.652Z"
   },
   {
    "duration": 9,
    "start_time": "2022-07-13T02:53:55.700Z"
   },
   {
    "duration": 47,
    "start_time": "2022-07-13T02:53:55.710Z"
   },
   {
    "duration": 4,
    "start_time": "2022-07-13T02:53:55.759Z"
   },
   {
    "duration": 11,
    "start_time": "2022-07-13T02:53:55.765Z"
   },
   {
    "duration": 9,
    "start_time": "2022-07-13T02:53:55.777Z"
   },
   {
    "duration": 11,
    "start_time": "2022-07-13T02:53:55.788Z"
   },
   {
    "duration": 16,
    "start_time": "2022-07-13T02:53:55.800Z"
   },
   {
    "duration": 21,
    "start_time": "2022-07-13T02:53:55.817Z"
   },
   {
    "duration": 16,
    "start_time": "2022-07-13T02:53:55.839Z"
   },
   {
    "duration": 12,
    "start_time": "2022-07-13T02:53:55.856Z"
   },
   {
    "duration": 8,
    "start_time": "2022-07-13T02:53:55.870Z"
   },
   {
    "duration": 355,
    "start_time": "2022-07-13T02:53:55.879Z"
   },
   {
    "duration": 19,
    "start_time": "2022-07-13T02:53:56.235Z"
   },
   {
    "duration": 18,
    "start_time": "2022-07-13T02:53:56.255Z"
   },
   {
    "duration": 3,
    "start_time": "2022-07-13T02:53:56.275Z"
   },
   {
    "duration": 20,
    "start_time": "2022-07-13T02:53:56.281Z"
   },
   {
    "duration": 17,
    "start_time": "2022-07-13T02:53:56.303Z"
   },
   {
    "duration": 158,
    "start_time": "2022-07-13T02:53:56.322Z"
   },
   {
    "duration": 1383,
    "start_time": "2022-07-13T02:59:08.747Z"
   },
   {
    "duration": 331,
    "start_time": "2022-07-13T02:59:16.102Z"
   },
   {
    "duration": 148,
    "start_time": "2022-07-13T02:59:16.435Z"
   },
   {
    "duration": 5,
    "start_time": "2022-07-13T02:59:16.585Z"
   },
   {
    "duration": 31,
    "start_time": "2022-07-13T02:59:16.591Z"
   },
   {
    "duration": 12,
    "start_time": "2022-07-13T02:59:16.623Z"
   },
   {
    "duration": 30,
    "start_time": "2022-07-13T02:59:16.637Z"
   },
   {
    "duration": 7,
    "start_time": "2022-07-13T02:59:16.668Z"
   },
   {
    "duration": 8,
    "start_time": "2022-07-13T02:59:16.676Z"
   },
   {
    "duration": 14,
    "start_time": "2022-07-13T02:59:16.685Z"
   },
   {
    "duration": 20,
    "start_time": "2022-07-13T02:59:16.701Z"
   },
   {
    "duration": 36,
    "start_time": "2022-07-13T02:59:16.722Z"
   },
   {
    "duration": 48,
    "start_time": "2022-07-13T02:59:16.760Z"
   },
   {
    "duration": 8,
    "start_time": "2022-07-13T02:59:16.809Z"
   },
   {
    "duration": 49,
    "start_time": "2022-07-13T02:59:16.818Z"
   },
   {
    "duration": 4,
    "start_time": "2022-07-13T02:59:16.869Z"
   },
   {
    "duration": 6,
    "start_time": "2022-07-13T02:59:16.874Z"
   },
   {
    "duration": 7,
    "start_time": "2022-07-13T02:59:16.881Z"
   },
   {
    "duration": 6,
    "start_time": "2022-07-13T02:59:16.889Z"
   },
   {
    "duration": 4,
    "start_time": "2022-07-13T02:59:16.896Z"
   },
   {
    "duration": 51,
    "start_time": "2022-07-13T02:59:16.902Z"
   },
   {
    "duration": 10,
    "start_time": "2022-07-13T02:59:16.955Z"
   },
   {
    "duration": 5,
    "start_time": "2022-07-13T02:59:16.966Z"
   },
   {
    "duration": 4,
    "start_time": "2022-07-13T02:59:16.972Z"
   },
   {
    "duration": 349,
    "start_time": "2022-07-13T02:59:16.978Z"
   },
   {
    "duration": 12,
    "start_time": "2022-07-13T02:59:17.328Z"
   },
   {
    "duration": 21,
    "start_time": "2022-07-13T02:59:17.341Z"
   },
   {
    "duration": 3,
    "start_time": "2022-07-13T02:59:17.363Z"
   },
   {
    "duration": 5,
    "start_time": "2022-07-13T02:59:17.368Z"
   },
   {
    "duration": 1375,
    "start_time": "2022-07-13T02:59:17.374Z"
   },
   {
    "duration": 0,
    "start_time": "2022-07-13T02:59:18.751Z"
   },
   {
    "duration": 379,
    "start_time": "2022-07-13T12:55:49.633Z"
   },
   {
    "duration": 314,
    "start_time": "2022-07-13T12:55:50.014Z"
   },
   {
    "duration": 4,
    "start_time": "2022-07-13T12:55:50.330Z"
   },
   {
    "duration": 49,
    "start_time": "2022-07-13T12:55:50.336Z"
   },
   {
    "duration": 20,
    "start_time": "2022-07-13T12:55:50.388Z"
   },
   {
    "duration": 23,
    "start_time": "2022-07-13T12:55:50.409Z"
   },
   {
    "duration": 10,
    "start_time": "2022-07-13T12:55:50.434Z"
   },
   {
    "duration": 37,
    "start_time": "2022-07-13T12:55:50.445Z"
   },
   {
    "duration": 27,
    "start_time": "2022-07-13T12:55:50.487Z"
   },
   {
    "duration": 26,
    "start_time": "2022-07-13T12:55:50.517Z"
   },
   {
    "duration": 9,
    "start_time": "2022-07-13T12:55:50.544Z"
   },
   {
    "duration": 79,
    "start_time": "2022-07-13T12:55:50.555Z"
   },
   {
    "duration": 8,
    "start_time": "2022-07-13T12:55:50.636Z"
   },
   {
    "duration": 50,
    "start_time": "2022-07-13T12:55:50.645Z"
   },
   {
    "duration": 5,
    "start_time": "2022-07-13T12:55:50.697Z"
   },
   {
    "duration": 7,
    "start_time": "2022-07-13T12:55:50.703Z"
   },
   {
    "duration": 7,
    "start_time": "2022-07-13T12:55:50.712Z"
   },
   {
    "duration": 13,
    "start_time": "2022-07-13T12:55:50.721Z"
   },
   {
    "duration": 6,
    "start_time": "2022-07-13T12:55:50.736Z"
   },
   {
    "duration": 42,
    "start_time": "2022-07-13T12:55:50.743Z"
   },
   {
    "duration": 12,
    "start_time": "2022-07-13T12:55:50.787Z"
   },
   {
    "duration": 7,
    "start_time": "2022-07-13T12:55:50.801Z"
   },
   {
    "duration": 7,
    "start_time": "2022-07-13T12:55:50.809Z"
   },
   {
    "duration": 596,
    "start_time": "2022-07-13T12:55:50.817Z"
   },
   {
    "duration": 13,
    "start_time": "2022-07-13T12:55:51.415Z"
   },
   {
    "duration": 14,
    "start_time": "2022-07-13T12:55:51.429Z"
   },
   {
    "duration": 4,
    "start_time": "2022-07-13T12:55:51.445Z"
   },
   {
    "duration": 16,
    "start_time": "2022-07-13T12:55:51.466Z"
   },
   {
    "duration": 1226,
    "start_time": "2022-07-13T12:55:51.484Z"
   },
   {
    "duration": 0,
    "start_time": "2022-07-13T12:55:52.712Z"
   },
   {
    "duration": 8,
    "start_time": "2022-07-13T12:56:15.215Z"
   },
   {
    "duration": 5,
    "start_time": "2022-07-13T12:56:43.010Z"
   },
   {
    "duration": 428,
    "start_time": "2022-07-13T12:56:48.587Z"
   },
   {
    "duration": 184,
    "start_time": "2022-07-13T12:56:49.017Z"
   },
   {
    "duration": 6,
    "start_time": "2022-07-13T12:56:49.204Z"
   },
   {
    "duration": 41,
    "start_time": "2022-07-13T12:56:49.212Z"
   },
   {
    "duration": 23,
    "start_time": "2022-07-13T12:56:49.266Z"
   },
   {
    "duration": 27,
    "start_time": "2022-07-13T12:56:49.291Z"
   },
   {
    "duration": 9,
    "start_time": "2022-07-13T12:56:49.320Z"
   },
   {
    "duration": 26,
    "start_time": "2022-07-13T12:56:49.330Z"
   },
   {
    "duration": 30,
    "start_time": "2022-07-13T12:56:49.368Z"
   },
   {
    "duration": 40,
    "start_time": "2022-07-13T12:56:49.402Z"
   },
   {
    "duration": 26,
    "start_time": "2022-07-13T12:56:49.444Z"
   },
   {
    "duration": 65,
    "start_time": "2022-07-13T12:56:49.478Z"
   },
   {
    "duration": 15,
    "start_time": "2022-07-13T12:56:49.545Z"
   },
   {
    "duration": 57,
    "start_time": "2022-07-13T12:56:49.562Z"
   },
   {
    "duration": 15,
    "start_time": "2022-07-13T12:56:49.621Z"
   },
   {
    "duration": 9,
    "start_time": "2022-07-13T12:56:49.638Z"
   },
   {
    "duration": 32,
    "start_time": "2022-07-13T12:56:49.649Z"
   },
   {
    "duration": 17,
    "start_time": "2022-07-13T12:56:49.684Z"
   },
   {
    "duration": 17,
    "start_time": "2022-07-13T12:56:49.702Z"
   },
   {
    "duration": 65,
    "start_time": "2022-07-13T12:56:49.721Z"
   },
   {
    "duration": 44,
    "start_time": "2022-07-13T12:56:49.789Z"
   },
   {
    "duration": 43,
    "start_time": "2022-07-13T12:56:49.836Z"
   },
   {
    "duration": 31,
    "start_time": "2022-07-13T12:56:49.882Z"
   },
   {
    "duration": 516,
    "start_time": "2022-07-13T12:56:49.914Z"
   },
   {
    "duration": 13,
    "start_time": "2022-07-13T12:56:50.432Z"
   },
   {
    "duration": 34,
    "start_time": "2022-07-13T12:56:50.447Z"
   },
   {
    "duration": 39,
    "start_time": "2022-07-13T12:56:50.483Z"
   },
   {
    "duration": 10,
    "start_time": "2022-07-13T12:56:50.525Z"
   },
   {
    "duration": 10,
    "start_time": "2022-07-13T12:56:50.536Z"
   },
   {
    "duration": 5,
    "start_time": "2022-07-13T12:56:50.547Z"
   },
   {
    "duration": 147,
    "start_time": "2022-07-13T12:56:50.553Z"
   },
   {
    "duration": 474,
    "start_time": "2022-07-13T12:58:05.460Z"
   },
   {
    "duration": 167,
    "start_time": "2022-07-13T12:58:05.936Z"
   },
   {
    "duration": 5,
    "start_time": "2022-07-13T12:58:06.105Z"
   },
   {
    "duration": 28,
    "start_time": "2022-07-13T12:58:06.112Z"
   },
   {
    "duration": 48,
    "start_time": "2022-07-13T12:58:06.142Z"
   },
   {
    "duration": 33,
    "start_time": "2022-07-13T12:58:06.192Z"
   },
   {
    "duration": 52,
    "start_time": "2022-07-13T12:58:06.227Z"
   },
   {
    "duration": 46,
    "start_time": "2022-07-13T12:58:06.280Z"
   },
   {
    "duration": 50,
    "start_time": "2022-07-13T12:58:06.328Z"
   },
   {
    "duration": 29,
    "start_time": "2022-07-13T12:58:06.389Z"
   },
   {
    "duration": 11,
    "start_time": "2022-07-13T12:58:06.420Z"
   },
   {
    "duration": 86,
    "start_time": "2022-07-13T12:58:06.433Z"
   },
   {
    "duration": 11,
    "start_time": "2022-07-13T12:58:06.521Z"
   },
   {
    "duration": 54,
    "start_time": "2022-07-13T12:58:06.534Z"
   },
   {
    "duration": 21,
    "start_time": "2022-07-13T12:58:06.594Z"
   },
   {
    "duration": 10,
    "start_time": "2022-07-13T12:58:06.617Z"
   },
   {
    "duration": 14,
    "start_time": "2022-07-13T12:58:06.629Z"
   },
   {
    "duration": 26,
    "start_time": "2022-07-13T12:58:06.645Z"
   },
   {
    "duration": 27,
    "start_time": "2022-07-13T12:58:06.689Z"
   },
   {
    "duration": 33,
    "start_time": "2022-07-13T12:58:06.718Z"
   },
   {
    "duration": 45,
    "start_time": "2022-07-13T12:58:06.753Z"
   },
   {
    "duration": 12,
    "start_time": "2022-07-13T12:58:06.801Z"
   },
   {
    "duration": 6,
    "start_time": "2022-07-13T12:58:06.815Z"
   },
   {
    "duration": 416,
    "start_time": "2022-07-13T12:58:06.823Z"
   },
   {
    "duration": 25,
    "start_time": "2022-07-13T12:58:07.240Z"
   },
   {
    "duration": 23,
    "start_time": "2022-07-13T12:58:07.279Z"
   },
   {
    "duration": 8,
    "start_time": "2022-07-13T12:58:07.304Z"
   },
   {
    "duration": 9,
    "start_time": "2022-07-13T12:58:07.314Z"
   },
   {
    "duration": 12,
    "start_time": "2022-07-13T12:58:07.324Z"
   },
   {
    "duration": 8,
    "start_time": "2022-07-13T12:58:07.337Z"
   },
   {
    "duration": 151,
    "start_time": "2022-07-13T12:58:07.346Z"
   },
   {
    "duration": 42,
    "start_time": "2022-07-13T12:59:28.886Z"
   },
   {
    "duration": 62,
    "start_time": "2022-07-13T13:00:34.050Z"
   },
   {
    "duration": 414,
    "start_time": "2022-07-13T22:02:19.336Z"
   },
   {
    "duration": 332,
    "start_time": "2022-07-13T22:02:19.753Z"
   },
   {
    "duration": 10,
    "start_time": "2022-07-13T22:02:20.088Z"
   },
   {
    "duration": 35,
    "start_time": "2022-07-13T22:02:20.100Z"
   },
   {
    "duration": 26,
    "start_time": "2022-07-13T22:02:20.137Z"
   },
   {
    "duration": 39,
    "start_time": "2022-07-13T22:02:20.165Z"
   },
   {
    "duration": 12,
    "start_time": "2022-07-13T22:02:20.206Z"
   },
   {
    "duration": 20,
    "start_time": "2022-07-13T22:02:20.220Z"
   },
   {
    "duration": 44,
    "start_time": "2022-07-13T22:02:20.242Z"
   },
   {
    "duration": 44,
    "start_time": "2022-07-13T22:02:20.290Z"
   },
   {
    "duration": 9,
    "start_time": "2022-07-13T22:02:20.336Z"
   },
   {
    "duration": 71,
    "start_time": "2022-07-13T22:02:20.347Z"
   },
   {
    "duration": 9,
    "start_time": "2022-07-13T22:02:20.420Z"
   },
   {
    "duration": 42,
    "start_time": "2022-07-13T22:02:20.430Z"
   },
   {
    "duration": 16,
    "start_time": "2022-07-13T22:02:20.474Z"
   },
   {
    "duration": 12,
    "start_time": "2022-07-13T22:02:20.492Z"
   },
   {
    "duration": 12,
    "start_time": "2022-07-13T22:02:20.506Z"
   },
   {
    "duration": 7,
    "start_time": "2022-07-13T22:02:20.519Z"
   },
   {
    "duration": 6,
    "start_time": "2022-07-13T22:02:20.528Z"
   },
   {
    "duration": 40,
    "start_time": "2022-07-13T22:02:20.535Z"
   },
   {
    "duration": 39,
    "start_time": "2022-07-13T22:02:20.581Z"
   },
   {
    "duration": 5,
    "start_time": "2022-07-13T22:02:20.621Z"
   },
   {
    "duration": 11,
    "start_time": "2022-07-13T22:02:20.628Z"
   },
   {
    "duration": 693,
    "start_time": "2022-07-13T22:02:20.641Z"
   },
   {
    "duration": 25,
    "start_time": "2022-07-13T22:02:21.336Z"
   },
   {
    "duration": 18,
    "start_time": "2022-07-13T22:02:21.366Z"
   },
   {
    "duration": 11,
    "start_time": "2022-07-13T22:02:21.389Z"
   },
   {
    "duration": 6,
    "start_time": "2022-07-13T22:02:21.404Z"
   },
   {
    "duration": 15,
    "start_time": "2022-07-13T22:02:21.412Z"
   },
   {
    "duration": 9,
    "start_time": "2022-07-13T22:02:21.429Z"
   },
   {
    "duration": 154,
    "start_time": "2022-07-13T22:02:21.440Z"
   },
   {
    "duration": 421,
    "start_time": "2022-07-13T22:03:02.982Z"
   },
   {
    "duration": 150,
    "start_time": "2022-07-13T22:03:03.405Z"
   },
   {
    "duration": 11,
    "start_time": "2022-07-13T22:03:03.557Z"
   },
   {
    "duration": 76,
    "start_time": "2022-07-13T22:03:03.574Z"
   },
   {
    "duration": 32,
    "start_time": "2022-07-13T22:03:03.653Z"
   },
   {
    "duration": 46,
    "start_time": "2022-07-13T22:03:03.686Z"
   },
   {
    "duration": 10,
    "start_time": "2022-07-13T22:03:03.734Z"
   },
   {
    "duration": 12,
    "start_time": "2022-07-13T22:03:03.746Z"
   },
   {
    "duration": 53,
    "start_time": "2022-07-13T22:03:03.760Z"
   },
   {
    "duration": 27,
    "start_time": "2022-07-13T22:03:03.815Z"
   },
   {
    "duration": 9,
    "start_time": "2022-07-13T22:03:03.844Z"
   },
   {
    "duration": 88,
    "start_time": "2022-07-13T22:03:03.854Z"
   },
   {
    "duration": 8,
    "start_time": "2022-07-13T22:03:03.944Z"
   },
   {
    "duration": 66,
    "start_time": "2022-07-13T22:03:03.955Z"
   },
   {
    "duration": 5,
    "start_time": "2022-07-13T22:03:04.023Z"
   },
   {
    "duration": 14,
    "start_time": "2022-07-13T22:03:04.029Z"
   },
   {
    "duration": 32,
    "start_time": "2022-07-13T22:03:04.045Z"
   },
   {
    "duration": 23,
    "start_time": "2022-07-13T22:03:04.080Z"
   },
   {
    "duration": 24,
    "start_time": "2022-07-13T22:03:04.105Z"
   },
   {
    "duration": 27,
    "start_time": "2022-07-13T22:03:04.131Z"
   },
   {
    "duration": 79,
    "start_time": "2022-07-13T22:03:04.159Z"
   },
   {
    "duration": 6,
    "start_time": "2022-07-13T22:03:04.240Z"
   },
   {
    "duration": 28,
    "start_time": "2022-07-13T22:03:04.248Z"
   },
   {
    "duration": 471,
    "start_time": "2022-07-13T22:03:04.278Z"
   },
   {
    "duration": 35,
    "start_time": "2022-07-13T22:03:04.750Z"
   },
   {
    "duration": 37,
    "start_time": "2022-07-13T22:03:04.792Z"
   },
   {
    "duration": 4,
    "start_time": "2022-07-13T22:03:04.831Z"
   },
   {
    "duration": 187,
    "start_time": "2022-07-13T22:03:04.837Z"
   },
   {
    "duration": 94,
    "start_time": "2022-07-13T22:03:33.877Z"
   },
   {
    "duration": 18,
    "start_time": "2022-07-13T22:03:49.828Z"
   },
   {
    "duration": 194,
    "start_time": "2022-07-13T22:56:36.985Z"
   },
   {
    "duration": 350,
    "start_time": "2022-08-08T12:10:13.504Z"
   },
   {
    "duration": 275,
    "start_time": "2022-08-08T12:10:13.855Z"
   },
   {
    "duration": 4,
    "start_time": "2022-08-08T12:10:14.132Z"
   },
   {
    "duration": 31,
    "start_time": "2022-08-08T12:10:14.138Z"
   },
   {
    "duration": 13,
    "start_time": "2022-08-08T12:10:14.171Z"
   },
   {
    "duration": 22,
    "start_time": "2022-08-08T12:10:14.185Z"
   },
   {
    "duration": 7,
    "start_time": "2022-08-08T12:10:14.209Z"
   },
   {
    "duration": 17,
    "start_time": "2022-08-08T12:10:14.218Z"
   },
   {
    "duration": 32,
    "start_time": "2022-08-08T12:10:14.236Z"
   },
   {
    "duration": 27,
    "start_time": "2022-08-08T12:10:14.270Z"
   },
   {
    "duration": 8,
    "start_time": "2022-08-08T12:10:14.299Z"
   },
   {
    "duration": 71,
    "start_time": "2022-08-08T12:10:14.309Z"
   },
   {
    "duration": 9,
    "start_time": "2022-08-08T12:10:14.381Z"
   },
   {
    "duration": 24,
    "start_time": "2022-08-08T12:10:14.391Z"
   },
   {
    "duration": 4,
    "start_time": "2022-08-08T12:10:14.416Z"
   },
   {
    "duration": 7,
    "start_time": "2022-08-08T12:10:14.421Z"
   },
   {
    "duration": 7,
    "start_time": "2022-08-08T12:10:14.457Z"
   },
   {
    "duration": 11,
    "start_time": "2022-08-08T12:10:14.465Z"
   },
   {
    "duration": 5,
    "start_time": "2022-08-08T12:10:14.477Z"
   },
   {
    "duration": 24,
    "start_time": "2022-08-08T12:10:14.483Z"
   },
   {
    "duration": 55,
    "start_time": "2022-08-08T12:10:14.508Z"
   },
   {
    "duration": 7,
    "start_time": "2022-08-08T12:10:14.564Z"
   },
   {
    "duration": 11,
    "start_time": "2022-08-08T12:10:14.573Z"
   },
   {
    "duration": 536,
    "start_time": "2022-08-08T12:10:14.586Z"
   },
   {
    "duration": 12,
    "start_time": "2022-08-08T12:10:15.124Z"
   },
   {
    "duration": 23,
    "start_time": "2022-08-08T12:10:15.138Z"
   },
   {
    "duration": 4,
    "start_time": "2022-08-08T12:10:15.163Z"
   },
   {
    "duration": 219,
    "start_time": "2022-08-08T12:10:15.170Z"
   },
   {
    "duration": 355,
    "start_time": "2022-08-08T13:01:37.089Z"
   },
   {
    "duration": 151,
    "start_time": "2022-08-08T13:01:37.445Z"
   },
   {
    "duration": 25,
    "start_time": "2022-08-08T13:01:37.598Z"
   },
   {
    "duration": 31,
    "start_time": "2022-08-08T13:01:37.624Z"
   },
   {
    "duration": 45,
    "start_time": "2022-08-08T13:01:37.656Z"
   },
   {
    "duration": 50,
    "start_time": "2022-08-08T13:01:37.703Z"
   },
   {
    "duration": 44,
    "start_time": "2022-08-08T13:01:37.754Z"
   },
   {
    "duration": 53,
    "start_time": "2022-08-08T13:01:37.800Z"
   },
   {
    "duration": 47,
    "start_time": "2022-08-08T13:01:37.855Z"
   },
   {
    "duration": 27,
    "start_time": "2022-08-08T13:01:37.904Z"
   },
   {
    "duration": 87,
    "start_time": "2022-08-08T13:01:37.932Z"
   },
   {
    "duration": 24,
    "start_time": "2022-08-08T13:01:38.020Z"
   },
   {
    "duration": 48,
    "start_time": "2022-08-08T13:01:38.046Z"
   },
   {
    "duration": 5,
    "start_time": "2022-08-08T13:01:38.095Z"
   },
   {
    "duration": 26,
    "start_time": "2022-08-08T13:01:38.101Z"
   },
   {
    "duration": 18,
    "start_time": "2022-08-08T13:01:38.128Z"
   },
   {
    "duration": 9,
    "start_time": "2022-08-08T13:01:38.148Z"
   },
   {
    "duration": 12,
    "start_time": "2022-08-08T13:01:38.159Z"
   },
   {
    "duration": 18,
    "start_time": "2022-08-08T13:01:38.173Z"
   },
   {
    "duration": 1533,
    "start_time": "2022-08-08T13:01:38.193Z"
   },
   {
    "duration": 0,
    "start_time": "2022-08-08T13:01:39.728Z"
   },
   {
    "duration": 0,
    "start_time": "2022-08-08T13:01:39.729Z"
   },
   {
    "duration": 0,
    "start_time": "2022-08-08T13:01:39.730Z"
   },
   {
    "duration": 0,
    "start_time": "2022-08-08T13:01:39.732Z"
   },
   {
    "duration": 0,
    "start_time": "2022-08-08T13:01:39.733Z"
   },
   {
    "duration": 0,
    "start_time": "2022-08-08T13:01:39.735Z"
   },
   {
    "duration": 0,
    "start_time": "2022-08-08T13:01:39.736Z"
   },
   {
    "duration": 447,
    "start_time": "2022-08-08T13:02:04.829Z"
   },
   {
    "duration": 177,
    "start_time": "2022-08-08T13:02:05.278Z"
   },
   {
    "duration": 27,
    "start_time": "2022-08-08T13:02:05.457Z"
   },
   {
    "duration": 34,
    "start_time": "2022-08-08T13:02:05.486Z"
   },
   {
    "duration": 56,
    "start_time": "2022-08-08T13:02:05.522Z"
   },
   {
    "duration": 9,
    "start_time": "2022-08-08T13:02:05.580Z"
   },
   {
    "duration": 42,
    "start_time": "2022-08-08T13:02:05.590Z"
   },
   {
    "duration": 26,
    "start_time": "2022-08-08T13:02:05.634Z"
   },
   {
    "duration": 47,
    "start_time": "2022-08-08T13:02:05.661Z"
   },
   {
    "duration": 8,
    "start_time": "2022-08-08T13:02:05.711Z"
   },
   {
    "duration": 73,
    "start_time": "2022-08-08T13:02:05.721Z"
   },
   {
    "duration": 8,
    "start_time": "2022-08-08T13:02:05.795Z"
   },
   {
    "duration": 45,
    "start_time": "2022-08-08T13:02:05.805Z"
   },
   {
    "duration": 13,
    "start_time": "2022-08-08T13:02:05.852Z"
   },
   {
    "duration": 31,
    "start_time": "2022-08-08T13:02:05.866Z"
   },
   {
    "duration": 13,
    "start_time": "2022-08-08T13:02:05.899Z"
   },
   {
    "duration": 20,
    "start_time": "2022-08-08T13:02:05.913Z"
   },
   {
    "duration": 4,
    "start_time": "2022-08-08T13:02:05.935Z"
   },
   {
    "duration": 21,
    "start_time": "2022-08-08T13:02:05.941Z"
   },
   {
    "duration": 49,
    "start_time": "2022-08-08T13:02:05.964Z"
   },
   {
    "duration": 4,
    "start_time": "2022-08-08T13:02:06.015Z"
   },
   {
    "duration": 9,
    "start_time": "2022-08-08T13:02:06.021Z"
   },
   {
    "duration": 394,
    "start_time": "2022-08-08T13:02:06.032Z"
   },
   {
    "duration": 12,
    "start_time": "2022-08-08T13:02:06.427Z"
   },
   {
    "duration": 25,
    "start_time": "2022-08-08T13:02:06.440Z"
   },
   {
    "duration": 3,
    "start_time": "2022-08-08T13:02:06.466Z"
   },
   {
    "duration": 173,
    "start_time": "2022-08-08T13:02:06.471Z"
   },
   {
    "duration": 387,
    "start_time": "2022-08-08T13:02:35.489Z"
   },
   {
    "duration": 146,
    "start_time": "2022-08-08T13:02:35.878Z"
   },
   {
    "duration": 26,
    "start_time": "2022-08-08T13:02:36.026Z"
   },
   {
    "duration": 13,
    "start_time": "2022-08-08T13:02:36.054Z"
   },
   {
    "duration": 20,
    "start_time": "2022-08-08T13:02:36.069Z"
   },
   {
    "duration": 8,
    "start_time": "2022-08-08T13:02:36.091Z"
   },
   {
    "duration": 14,
    "start_time": "2022-08-08T13:02:36.100Z"
   },
   {
    "duration": 13,
    "start_time": "2022-08-08T13:02:36.116Z"
   },
   {
    "duration": 45,
    "start_time": "2022-08-08T13:02:36.130Z"
   },
   {
    "duration": 8,
    "start_time": "2022-08-08T13:02:36.178Z"
   },
   {
    "duration": 72,
    "start_time": "2022-08-08T13:02:36.188Z"
   },
   {
    "duration": 10,
    "start_time": "2022-08-08T13:02:36.262Z"
   },
   {
    "duration": 25,
    "start_time": "2022-08-08T13:02:36.274Z"
   },
   {
    "duration": 5,
    "start_time": "2022-08-08T13:02:36.301Z"
   },
   {
    "duration": 9,
    "start_time": "2022-08-08T13:02:36.308Z"
   },
   {
    "duration": 46,
    "start_time": "2022-08-08T13:02:36.319Z"
   },
   {
    "duration": 6,
    "start_time": "2022-08-08T13:02:36.366Z"
   },
   {
    "duration": 17,
    "start_time": "2022-08-08T13:02:36.373Z"
   },
   {
    "duration": 27,
    "start_time": "2022-08-08T13:02:36.391Z"
   },
   {
    "duration": 42,
    "start_time": "2022-08-08T13:02:36.420Z"
   },
   {
    "duration": 5,
    "start_time": "2022-08-08T13:02:36.464Z"
   },
   {
    "duration": 17,
    "start_time": "2022-08-08T13:02:36.471Z"
   },
   {
    "duration": 370,
    "start_time": "2022-08-08T13:02:36.489Z"
   },
   {
    "duration": 13,
    "start_time": "2022-08-08T13:02:36.860Z"
   },
   {
    "duration": 15,
    "start_time": "2022-08-08T13:02:36.875Z"
   },
   {
    "duration": 3,
    "start_time": "2022-08-08T13:02:36.891Z"
   },
   {
    "duration": 173,
    "start_time": "2022-08-08T13:02:36.896Z"
   },
   {
    "duration": 362,
    "start_time": "2022-08-08T13:03:42.101Z"
   },
   {
    "duration": 157,
    "start_time": "2022-08-08T13:03:42.465Z"
   },
   {
    "duration": 27,
    "start_time": "2022-08-08T13:03:42.624Z"
   },
   {
    "duration": 14,
    "start_time": "2022-08-08T13:03:42.653Z"
   },
   {
    "duration": 24,
    "start_time": "2022-08-08T13:03:42.669Z"
   },
   {
    "duration": 8,
    "start_time": "2022-08-08T13:03:42.695Z"
   },
   {
    "duration": 16,
    "start_time": "2022-08-08T13:03:42.704Z"
   },
   {
    "duration": 43,
    "start_time": "2022-08-08T13:03:42.722Z"
   },
   {
    "duration": 33,
    "start_time": "2022-08-08T13:03:42.767Z"
   },
   {
    "duration": 10,
    "start_time": "2022-08-08T13:03:42.803Z"
   },
   {
    "duration": 63,
    "start_time": "2022-08-08T13:03:42.814Z"
   },
   {
    "duration": 9,
    "start_time": "2022-08-08T13:03:42.878Z"
   },
   {
    "duration": 30,
    "start_time": "2022-08-08T13:03:42.889Z"
   },
   {
    "duration": 5,
    "start_time": "2022-08-08T13:03:42.920Z"
   },
   {
    "duration": 32,
    "start_time": "2022-08-08T13:03:42.926Z"
   },
   {
    "duration": 7,
    "start_time": "2022-08-08T13:03:42.960Z"
   },
   {
    "duration": 9,
    "start_time": "2022-08-08T13:03:42.968Z"
   },
   {
    "duration": 7,
    "start_time": "2022-08-08T13:03:42.979Z"
   },
   {
    "duration": 22,
    "start_time": "2022-08-08T13:03:42.988Z"
   },
   {
    "duration": 51,
    "start_time": "2022-08-08T13:03:43.012Z"
   },
   {
    "duration": 5,
    "start_time": "2022-08-08T13:03:43.065Z"
   },
   {
    "duration": 15,
    "start_time": "2022-08-08T13:03:43.072Z"
   },
   {
    "duration": 409,
    "start_time": "2022-08-08T13:03:43.089Z"
   },
   {
    "duration": 14,
    "start_time": "2022-08-08T13:03:43.499Z"
   },
   {
    "duration": 18,
    "start_time": "2022-08-08T13:03:43.514Z"
   },
   {
    "duration": 4,
    "start_time": "2022-08-08T13:03:43.534Z"
   },
   {
    "duration": 195,
    "start_time": "2022-08-08T13:03:43.539Z"
   },
   {
    "duration": 424,
    "start_time": "2022-08-08T13:05:35.242Z"
   },
   {
    "duration": 164,
    "start_time": "2022-08-08T13:05:35.668Z"
   },
   {
    "duration": 26,
    "start_time": "2022-08-08T13:05:35.834Z"
   },
   {
    "duration": 26,
    "start_time": "2022-08-08T13:05:35.862Z"
   },
   {
    "duration": 37,
    "start_time": "2022-08-08T13:05:35.890Z"
   },
   {
    "duration": 48,
    "start_time": "2022-08-08T13:05:35.929Z"
   },
   {
    "duration": 14,
    "start_time": "2022-08-08T13:05:35.979Z"
   },
   {
    "duration": 22,
    "start_time": "2022-08-08T13:05:35.994Z"
   },
   {
    "duration": 26,
    "start_time": "2022-08-08T13:05:36.018Z"
   },
   {
    "duration": 11,
    "start_time": "2022-08-08T13:05:36.047Z"
   },
   {
    "duration": 57,
    "start_time": "2022-08-08T13:05:36.060Z"
   },
   {
    "duration": 9,
    "start_time": "2022-08-08T13:05:36.118Z"
   },
   {
    "duration": 50,
    "start_time": "2022-08-08T13:05:36.129Z"
   },
   {
    "duration": 4,
    "start_time": "2022-08-08T13:05:36.180Z"
   },
   {
    "duration": 10,
    "start_time": "2022-08-08T13:05:36.185Z"
   },
   {
    "duration": 13,
    "start_time": "2022-08-08T13:05:36.196Z"
   },
   {
    "duration": 36,
    "start_time": "2022-08-08T13:05:36.211Z"
   },
   {
    "duration": 10,
    "start_time": "2022-08-08T13:05:36.249Z"
   },
   {
    "duration": 27,
    "start_time": "2022-08-08T13:05:36.260Z"
   },
   {
    "duration": 33,
    "start_time": "2022-08-08T13:05:36.288Z"
   },
   {
    "duration": 6,
    "start_time": "2022-08-08T13:05:36.322Z"
   },
   {
    "duration": 14,
    "start_time": "2022-08-08T13:05:36.329Z"
   },
   {
    "duration": 388,
    "start_time": "2022-08-08T13:05:36.357Z"
   },
   {
    "duration": 21,
    "start_time": "2022-08-08T13:05:36.747Z"
   },
   {
    "duration": 13,
    "start_time": "2022-08-08T13:05:36.769Z"
   },
   {
    "duration": 3,
    "start_time": "2022-08-08T13:05:36.783Z"
   },
   {
    "duration": 179,
    "start_time": "2022-08-08T13:05:36.788Z"
   },
   {
    "duration": 378,
    "start_time": "2022-08-08T13:07:17.291Z"
   },
   {
    "duration": 155,
    "start_time": "2022-08-08T13:07:17.671Z"
   },
   {
    "duration": 27,
    "start_time": "2022-08-08T13:07:17.828Z"
   },
   {
    "duration": 12,
    "start_time": "2022-08-08T13:07:17.857Z"
   },
   {
    "duration": 34,
    "start_time": "2022-08-08T13:07:17.871Z"
   },
   {
    "duration": 7,
    "start_time": "2022-08-08T13:07:17.907Z"
   },
   {
    "duration": 11,
    "start_time": "2022-08-08T13:07:17.916Z"
   },
   {
    "duration": 16,
    "start_time": "2022-08-08T13:07:17.929Z"
   },
   {
    "duration": 25,
    "start_time": "2022-08-08T13:07:17.956Z"
   },
   {
    "duration": 9,
    "start_time": "2022-08-08T13:07:17.984Z"
   },
   {
    "duration": 82,
    "start_time": "2022-08-08T13:07:17.995Z"
   },
   {
    "duration": 10,
    "start_time": "2022-08-08T13:07:18.079Z"
   },
   {
    "duration": 25,
    "start_time": "2022-08-08T13:07:18.091Z"
   },
   {
    "duration": 4,
    "start_time": "2022-08-08T13:07:18.118Z"
   },
   {
    "duration": 34,
    "start_time": "2022-08-08T13:07:18.124Z"
   },
   {
    "duration": 14,
    "start_time": "2022-08-08T13:07:18.160Z"
   },
   {
    "duration": 7,
    "start_time": "2022-08-08T13:07:18.175Z"
   },
   {
    "duration": 7,
    "start_time": "2022-08-08T13:07:18.183Z"
   },
   {
    "duration": 50,
    "start_time": "2022-08-08T13:07:18.191Z"
   },
   {
    "duration": 0,
    "start_time": "2022-08-08T13:07:18.243Z"
   },
   {
    "duration": 0,
    "start_time": "2022-08-08T13:07:18.244Z"
   },
   {
    "duration": 0,
    "start_time": "2022-08-08T13:07:18.245Z"
   },
   {
    "duration": 0,
    "start_time": "2022-08-08T13:07:18.246Z"
   },
   {
    "duration": 0,
    "start_time": "2022-08-08T13:07:18.248Z"
   },
   {
    "duration": 0,
    "start_time": "2022-08-08T13:07:18.248Z"
   },
   {
    "duration": 0,
    "start_time": "2022-08-08T13:07:18.250Z"
   },
   {
    "duration": 0,
    "start_time": "2022-08-08T13:07:18.251Z"
   },
   {
    "duration": 393,
    "start_time": "2022-08-08T13:07:48.690Z"
   },
   {
    "duration": 164,
    "start_time": "2022-08-08T13:07:49.085Z"
   },
   {
    "duration": 30,
    "start_time": "2022-08-08T13:07:49.251Z"
   },
   {
    "duration": 17,
    "start_time": "2022-08-08T13:07:49.284Z"
   },
   {
    "duration": 24,
    "start_time": "2022-08-08T13:07:49.303Z"
   },
   {
    "duration": 36,
    "start_time": "2022-08-08T13:07:49.329Z"
   },
   {
    "duration": 13,
    "start_time": "2022-08-08T13:07:49.367Z"
   },
   {
    "duration": 16,
    "start_time": "2022-08-08T13:07:49.382Z"
   },
   {
    "duration": 29,
    "start_time": "2022-08-08T13:07:49.400Z"
   },
   {
    "duration": 28,
    "start_time": "2022-08-08T13:07:49.432Z"
   },
   {
    "duration": 61,
    "start_time": "2022-08-08T13:07:49.461Z"
   },
   {
    "duration": 9,
    "start_time": "2022-08-08T13:07:49.524Z"
   },
   {
    "duration": 49,
    "start_time": "2022-08-08T13:07:49.534Z"
   },
   {
    "duration": 5,
    "start_time": "2022-08-08T13:07:49.584Z"
   },
   {
    "duration": 7,
    "start_time": "2022-08-08T13:07:49.590Z"
   },
   {
    "duration": 9,
    "start_time": "2022-08-08T13:07:49.599Z"
   },
   {
    "duration": 7,
    "start_time": "2022-08-08T13:07:49.610Z"
   },
   {
    "duration": 6,
    "start_time": "2022-08-08T13:07:49.618Z"
   },
   {
    "duration": 26,
    "start_time": "2022-08-08T13:07:49.658Z"
   },
   {
    "duration": 34,
    "start_time": "2022-08-08T13:07:49.685Z"
   },
   {
    "duration": 6,
    "start_time": "2022-08-08T13:07:49.721Z"
   },
   {
    "duration": 30,
    "start_time": "2022-08-08T13:07:49.729Z"
   },
   {
    "duration": 438,
    "start_time": "2022-08-08T13:07:49.761Z"
   },
   {
    "duration": 14,
    "start_time": "2022-08-08T13:07:50.201Z"
   },
   {
    "duration": 17,
    "start_time": "2022-08-08T13:07:50.217Z"
   },
   {
    "duration": 4,
    "start_time": "2022-08-08T13:07:50.235Z"
   },
   {
    "duration": 197,
    "start_time": "2022-08-08T13:07:50.240Z"
   },
   {
    "duration": 433,
    "start_time": "2022-08-08T13:10:05.437Z"
   },
   {
    "duration": 153,
    "start_time": "2022-08-08T13:10:05.872Z"
   },
   {
    "duration": 27,
    "start_time": "2022-08-08T13:10:06.026Z"
   },
   {
    "duration": 15,
    "start_time": "2022-08-08T13:10:06.056Z"
   },
   {
    "duration": 26,
    "start_time": "2022-08-08T13:10:06.072Z"
   },
   {
    "duration": 12,
    "start_time": "2022-08-08T13:10:06.099Z"
   },
   {
    "duration": 18,
    "start_time": "2022-08-08T13:10:06.113Z"
   },
   {
    "duration": 26,
    "start_time": "2022-08-08T13:10:06.132Z"
   },
   {
    "duration": 26,
    "start_time": "2022-08-08T13:10:06.160Z"
   },
   {
    "duration": 10,
    "start_time": "2022-08-08T13:10:06.188Z"
   },
   {
    "duration": 66,
    "start_time": "2022-08-08T13:10:06.199Z"
   },
   {
    "duration": 9,
    "start_time": "2022-08-08T13:10:06.266Z"
   },
   {
    "duration": 27,
    "start_time": "2022-08-08T13:10:06.276Z"
   },
   {
    "duration": 4,
    "start_time": "2022-08-08T13:10:06.305Z"
   },
   {
    "duration": 11,
    "start_time": "2022-08-08T13:10:06.310Z"
   },
   {
    "duration": 37,
    "start_time": "2022-08-08T13:10:06.323Z"
   },
   {
    "duration": 9,
    "start_time": "2022-08-08T13:10:06.361Z"
   },
   {
    "duration": 4,
    "start_time": "2022-08-08T13:10:06.371Z"
   },
   {
    "duration": 22,
    "start_time": "2022-08-08T13:10:06.377Z"
   },
   {
    "duration": 32,
    "start_time": "2022-08-08T13:10:06.401Z"
   },
   {
    "duration": 26,
    "start_time": "2022-08-08T13:10:06.434Z"
   },
   {
    "duration": 4,
    "start_time": "2022-08-08T13:10:06.461Z"
   },
   {
    "duration": 372,
    "start_time": "2022-08-08T13:10:06.467Z"
   },
   {
    "duration": 18,
    "start_time": "2022-08-08T13:10:06.841Z"
   },
   {
    "duration": 14,
    "start_time": "2022-08-08T13:10:06.861Z"
   },
   {
    "duration": 4,
    "start_time": "2022-08-08T13:10:06.877Z"
   },
   {
    "duration": 183,
    "start_time": "2022-08-08T13:10:06.882Z"
   },
   {
    "duration": 402,
    "start_time": "2022-08-08T13:10:56.655Z"
   },
   {
    "duration": 152,
    "start_time": "2022-08-08T13:10:57.059Z"
   },
   {
    "duration": 27,
    "start_time": "2022-08-08T13:10:57.213Z"
   },
   {
    "duration": 21,
    "start_time": "2022-08-08T13:10:57.242Z"
   },
   {
    "duration": 21,
    "start_time": "2022-08-08T13:10:57.265Z"
   },
   {
    "duration": 8,
    "start_time": "2022-08-08T13:10:57.287Z"
   },
   {
    "duration": 12,
    "start_time": "2022-08-08T13:10:57.297Z"
   },
   {
    "duration": 18,
    "start_time": "2022-08-08T13:10:57.311Z"
   },
   {
    "duration": 44,
    "start_time": "2022-08-08T13:10:57.331Z"
   },
   {
    "duration": 9,
    "start_time": "2022-08-08T13:10:57.377Z"
   },
   {
    "duration": 72,
    "start_time": "2022-08-08T13:10:57.387Z"
   },
   {
    "duration": 8,
    "start_time": "2022-08-08T13:10:57.461Z"
   },
   {
    "duration": 36,
    "start_time": "2022-08-08T13:10:57.471Z"
   },
   {
    "duration": 4,
    "start_time": "2022-08-08T13:10:57.510Z"
   },
   {
    "duration": 7,
    "start_time": "2022-08-08T13:10:57.515Z"
   },
   {
    "duration": 10,
    "start_time": "2022-08-08T13:10:57.523Z"
   },
   {
    "duration": 23,
    "start_time": "2022-08-08T13:10:57.534Z"
   },
   {
    "duration": 3,
    "start_time": "2022-08-08T13:10:57.559Z"
   },
   {
    "duration": 68,
    "start_time": "2022-08-08T13:10:57.564Z"
   },
   {
    "duration": 0,
    "start_time": "2022-08-08T13:10:57.634Z"
   },
   {
    "duration": 0,
    "start_time": "2022-08-08T13:10:57.635Z"
   },
   {
    "duration": 0,
    "start_time": "2022-08-08T13:10:57.636Z"
   },
   {
    "duration": 0,
    "start_time": "2022-08-08T13:10:57.637Z"
   },
   {
    "duration": 0,
    "start_time": "2022-08-08T13:10:57.637Z"
   },
   {
    "duration": 0,
    "start_time": "2022-08-08T13:10:57.638Z"
   },
   {
    "duration": 0,
    "start_time": "2022-08-08T13:10:57.639Z"
   },
   {
    "duration": 0,
    "start_time": "2022-08-08T13:10:57.657Z"
   },
   {
    "duration": 423,
    "start_time": "2022-08-08T13:12:59.628Z"
   },
   {
    "duration": 157,
    "start_time": "2022-08-08T13:13:00.053Z"
   },
   {
    "duration": 26,
    "start_time": "2022-08-08T13:13:00.212Z"
   },
   {
    "duration": 21,
    "start_time": "2022-08-08T13:13:00.240Z"
   },
   {
    "duration": 25,
    "start_time": "2022-08-08T13:13:00.263Z"
   },
   {
    "duration": 18,
    "start_time": "2022-08-08T13:13:00.290Z"
   },
   {
    "duration": 56,
    "start_time": "2022-08-08T13:13:00.310Z"
   },
   {
    "duration": 43,
    "start_time": "2022-08-08T13:13:00.367Z"
   },
   {
    "duration": 40,
    "start_time": "2022-08-08T13:13:00.412Z"
   },
   {
    "duration": 9,
    "start_time": "2022-08-08T13:13:00.454Z"
   },
   {
    "duration": 75,
    "start_time": "2022-08-08T13:13:00.465Z"
   },
   {
    "duration": 9,
    "start_time": "2022-08-08T13:13:00.541Z"
   },
   {
    "duration": 42,
    "start_time": "2022-08-08T13:13:00.552Z"
   },
   {
    "duration": 22,
    "start_time": "2022-08-08T13:13:00.595Z"
   },
   {
    "duration": 25,
    "start_time": "2022-08-08T13:13:00.619Z"
   },
   {
    "duration": 25,
    "start_time": "2022-08-08T13:13:00.645Z"
   },
   {
    "duration": 15,
    "start_time": "2022-08-08T13:13:00.672Z"
   },
   {
    "duration": 12,
    "start_time": "2022-08-08T13:13:00.689Z"
   },
   {
    "duration": 42,
    "start_time": "2022-08-08T13:13:00.703Z"
   },
   {
    "duration": 68,
    "start_time": "2022-08-08T13:13:00.746Z"
   },
   {
    "duration": 6,
    "start_time": "2022-08-08T13:13:00.815Z"
   },
   {
    "duration": 55,
    "start_time": "2022-08-08T13:13:00.822Z"
   },
   {
    "duration": 432,
    "start_time": "2022-08-08T13:13:00.879Z"
   },
   {
    "duration": 12,
    "start_time": "2022-08-08T13:13:01.313Z"
   },
   {
    "duration": 22,
    "start_time": "2022-08-08T13:13:01.327Z"
   },
   {
    "duration": 7,
    "start_time": "2022-08-08T13:13:01.350Z"
   },
   {
    "duration": 171,
    "start_time": "2022-08-08T13:13:01.359Z"
   },
   {
    "duration": 20,
    "start_time": "2022-08-08T13:16:20.316Z"
   },
   {
    "duration": 35,
    "start_time": "2022-08-08T13:16:28.029Z"
   },
   {
    "duration": 33,
    "start_time": "2022-08-08T13:17:32.585Z"
   },
   {
    "duration": 390,
    "start_time": "2022-08-08T13:27:56.169Z"
   },
   {
    "duration": 154,
    "start_time": "2022-08-08T13:27:56.561Z"
   },
   {
    "duration": 28,
    "start_time": "2022-08-08T13:27:56.716Z"
   },
   {
    "duration": 15,
    "start_time": "2022-08-08T13:27:56.746Z"
   },
   {
    "duration": 23,
    "start_time": "2022-08-08T13:27:56.762Z"
   },
   {
    "duration": 8,
    "start_time": "2022-08-08T13:27:56.787Z"
   },
   {
    "duration": 14,
    "start_time": "2022-08-08T13:27:56.796Z"
   },
   {
    "duration": 21,
    "start_time": "2022-08-08T13:27:56.812Z"
   },
   {
    "duration": 42,
    "start_time": "2022-08-08T13:27:56.834Z"
   },
   {
    "duration": 9,
    "start_time": "2022-08-08T13:27:56.878Z"
   },
   {
    "duration": 78,
    "start_time": "2022-08-08T13:27:56.889Z"
   },
   {
    "duration": 10,
    "start_time": "2022-08-08T13:27:56.969Z"
   },
   {
    "duration": 25,
    "start_time": "2022-08-08T13:27:56.980Z"
   },
   {
    "duration": 4,
    "start_time": "2022-08-08T13:27:57.007Z"
   },
   {
    "duration": 8,
    "start_time": "2022-08-08T13:27:57.013Z"
   },
   {
    "duration": 38,
    "start_time": "2022-08-08T13:27:57.022Z"
   },
   {
    "duration": 6,
    "start_time": "2022-08-08T13:27:57.062Z"
   },
   {
    "duration": 7,
    "start_time": "2022-08-08T13:27:57.069Z"
   },
   {
    "duration": 266,
    "start_time": "2022-08-08T13:27:57.077Z"
   },
   {
    "duration": 0,
    "start_time": "2022-08-08T13:27:57.345Z"
   },
   {
    "duration": 0,
    "start_time": "2022-08-08T13:27:57.346Z"
   },
   {
    "duration": 0,
    "start_time": "2022-08-08T13:27:57.348Z"
   },
   {
    "duration": 0,
    "start_time": "2022-08-08T13:27:57.349Z"
   },
   {
    "duration": 0,
    "start_time": "2022-08-08T13:27:57.351Z"
   },
   {
    "duration": 0,
    "start_time": "2022-08-08T13:27:57.352Z"
   },
   {
    "duration": 0,
    "start_time": "2022-08-08T13:27:57.353Z"
   },
   {
    "duration": 0,
    "start_time": "2022-08-08T13:27:57.354Z"
   },
   {
    "duration": 0,
    "start_time": "2022-08-08T13:27:57.355Z"
   },
   {
    "duration": 357,
    "start_time": "2022-08-08T13:29:17.513Z"
   },
   {
    "duration": 157,
    "start_time": "2022-08-08T13:29:17.872Z"
   },
   {
    "duration": 27,
    "start_time": "2022-08-08T13:29:18.031Z"
   },
   {
    "duration": 21,
    "start_time": "2022-08-08T13:29:18.060Z"
   },
   {
    "duration": 37,
    "start_time": "2022-08-08T13:29:18.082Z"
   },
   {
    "duration": 9,
    "start_time": "2022-08-08T13:29:18.120Z"
   },
   {
    "duration": 45,
    "start_time": "2022-08-08T13:29:18.131Z"
   },
   {
    "duration": 33,
    "start_time": "2022-08-08T13:29:18.178Z"
   },
   {
    "duration": 31,
    "start_time": "2022-08-08T13:29:18.213Z"
   },
   {
    "duration": 10,
    "start_time": "2022-08-08T13:29:18.246Z"
   },
   {
    "duration": 73,
    "start_time": "2022-08-08T13:29:18.257Z"
   },
   {
    "duration": 11,
    "start_time": "2022-08-08T13:29:18.332Z"
   },
   {
    "duration": 57,
    "start_time": "2022-08-08T13:29:18.344Z"
   },
   {
    "duration": 5,
    "start_time": "2022-08-08T13:29:18.402Z"
   },
   {
    "duration": 15,
    "start_time": "2022-08-08T13:29:18.408Z"
   },
   {
    "duration": 26,
    "start_time": "2022-08-08T13:29:18.424Z"
   },
   {
    "duration": 18,
    "start_time": "2022-08-08T13:29:18.452Z"
   },
   {
    "duration": 11,
    "start_time": "2022-08-08T13:29:18.472Z"
   },
   {
    "duration": 436,
    "start_time": "2022-08-08T13:29:18.484Z"
   },
   {
    "duration": 0,
    "start_time": "2022-08-08T13:29:18.921Z"
   },
   {
    "duration": 1,
    "start_time": "2022-08-08T13:29:18.922Z"
   },
   {
    "duration": 0,
    "start_time": "2022-08-08T13:29:18.924Z"
   },
   {
    "duration": 0,
    "start_time": "2022-08-08T13:29:18.925Z"
   },
   {
    "duration": 0,
    "start_time": "2022-08-08T13:29:18.925Z"
   },
   {
    "duration": 0,
    "start_time": "2022-08-08T13:29:18.926Z"
   },
   {
    "duration": 0,
    "start_time": "2022-08-08T13:29:18.927Z"
   },
   {
    "duration": 0,
    "start_time": "2022-08-08T13:29:18.929Z"
   },
   {
    "duration": 0,
    "start_time": "2022-08-08T13:29:18.930Z"
   },
   {
    "duration": 11,
    "start_time": "2022-08-08T13:30:18.094Z"
   },
   {
    "duration": 246,
    "start_time": "2022-08-08T13:30:29.082Z"
   },
   {
    "duration": 416,
    "start_time": "2022-08-08T13:32:06.831Z"
   },
   {
    "duration": 165,
    "start_time": "2022-08-08T13:32:07.250Z"
   },
   {
    "duration": 31,
    "start_time": "2022-08-08T13:32:07.418Z"
   },
   {
    "duration": 15,
    "start_time": "2022-08-08T13:32:07.458Z"
   },
   {
    "duration": 23,
    "start_time": "2022-08-08T13:32:07.475Z"
   },
   {
    "duration": 9,
    "start_time": "2022-08-08T13:32:07.499Z"
   },
   {
    "duration": 14,
    "start_time": "2022-08-08T13:32:07.509Z"
   },
   {
    "duration": 41,
    "start_time": "2022-08-08T13:32:07.525Z"
   },
   {
    "duration": 23,
    "start_time": "2022-08-08T13:32:07.568Z"
   },
   {
    "duration": 9,
    "start_time": "2022-08-08T13:32:07.593Z"
   },
   {
    "duration": 76,
    "start_time": "2022-08-08T13:32:07.604Z"
   },
   {
    "duration": 8,
    "start_time": "2022-08-08T13:32:07.682Z"
   },
   {
    "duration": 24,
    "start_time": "2022-08-08T13:32:07.692Z"
   },
   {
    "duration": 4,
    "start_time": "2022-08-08T13:32:07.717Z"
   },
   {
    "duration": 35,
    "start_time": "2022-08-08T13:32:07.723Z"
   },
   {
    "duration": 8,
    "start_time": "2022-08-08T13:32:07.759Z"
   },
   {
    "duration": 9,
    "start_time": "2022-08-08T13:32:07.768Z"
   },
   {
    "duration": 4,
    "start_time": "2022-08-08T13:32:07.779Z"
   },
   {
    "duration": 289,
    "start_time": "2022-08-08T13:32:07.785Z"
   },
   {
    "duration": 0,
    "start_time": "2022-08-08T13:32:08.076Z"
   },
   {
    "duration": 0,
    "start_time": "2022-08-08T13:32:08.077Z"
   },
   {
    "duration": 0,
    "start_time": "2022-08-08T13:32:08.078Z"
   },
   {
    "duration": 0,
    "start_time": "2022-08-08T13:32:08.079Z"
   },
   {
    "duration": 0,
    "start_time": "2022-08-08T13:32:08.080Z"
   },
   {
    "duration": 0,
    "start_time": "2022-08-08T13:32:08.081Z"
   },
   {
    "duration": 0,
    "start_time": "2022-08-08T13:32:08.082Z"
   },
   {
    "duration": 0,
    "start_time": "2022-08-08T13:32:08.083Z"
   },
   {
    "duration": 0,
    "start_time": "2022-08-08T13:32:08.084Z"
   },
   {
    "duration": 20,
    "start_time": "2022-08-08T13:32:33.302Z"
   },
   {
    "duration": 23,
    "start_time": "2022-08-08T13:33:03.441Z"
   },
   {
    "duration": 33,
    "start_time": "2022-08-08T13:33:16.880Z"
   },
   {
    "duration": 404,
    "start_time": "2022-08-08T13:34:16.340Z"
   },
   {
    "duration": 156,
    "start_time": "2022-08-08T13:34:16.745Z"
   },
   {
    "duration": 26,
    "start_time": "2022-08-08T13:34:16.903Z"
   },
   {
    "duration": 28,
    "start_time": "2022-08-08T13:34:16.931Z"
   },
   {
    "duration": 22,
    "start_time": "2022-08-08T13:34:16.961Z"
   },
   {
    "duration": 8,
    "start_time": "2022-08-08T13:34:16.984Z"
   },
   {
    "duration": 16,
    "start_time": "2022-08-08T13:34:16.993Z"
   },
   {
    "duration": 19,
    "start_time": "2022-08-08T13:34:17.011Z"
   },
   {
    "duration": 40,
    "start_time": "2022-08-08T13:34:17.031Z"
   },
   {
    "duration": 9,
    "start_time": "2022-08-08T13:34:17.074Z"
   },
   {
    "duration": 53,
    "start_time": "2022-08-08T13:34:17.084Z"
   },
   {
    "duration": 9,
    "start_time": "2022-08-08T13:34:17.158Z"
   },
   {
    "duration": 32,
    "start_time": "2022-08-08T13:34:17.168Z"
   },
   {
    "duration": 4,
    "start_time": "2022-08-08T13:34:17.202Z"
   },
   {
    "duration": 9,
    "start_time": "2022-08-08T13:34:17.208Z"
   },
   {
    "duration": 9,
    "start_time": "2022-08-08T13:34:17.219Z"
   },
   {
    "duration": 30,
    "start_time": "2022-08-08T13:34:17.229Z"
   },
   {
    "duration": 3,
    "start_time": "2022-08-08T13:34:17.261Z"
   },
   {
    "duration": 24,
    "start_time": "2022-08-08T13:34:17.266Z"
   },
   {
    "duration": 36,
    "start_time": "2022-08-08T13:34:17.292Z"
   },
   {
    "duration": 5,
    "start_time": "2022-08-08T13:34:17.330Z"
   },
   {
    "duration": 3,
    "start_time": "2022-08-08T13:34:17.358Z"
   },
   {
    "duration": 369,
    "start_time": "2022-08-08T13:34:17.363Z"
   },
   {
    "duration": 13,
    "start_time": "2022-08-08T13:34:17.733Z"
   },
   {
    "duration": 11,
    "start_time": "2022-08-08T13:34:17.758Z"
   },
   {
    "duration": 3,
    "start_time": "2022-08-08T13:34:17.771Z"
   },
   {
    "duration": 177,
    "start_time": "2022-08-08T13:34:17.775Z"
   },
   {
    "duration": 373,
    "start_time": "2022-08-08T13:36:46.999Z"
   },
   {
    "duration": 162,
    "start_time": "2022-08-08T13:36:47.374Z"
   },
   {
    "duration": 30,
    "start_time": "2022-08-08T13:36:47.537Z"
   },
   {
    "duration": 16,
    "start_time": "2022-08-08T13:36:47.569Z"
   },
   {
    "duration": 35,
    "start_time": "2022-08-08T13:36:47.587Z"
   },
   {
    "duration": 10,
    "start_time": "2022-08-08T13:36:47.623Z"
   },
   {
    "duration": 29,
    "start_time": "2022-08-08T13:36:47.634Z"
   },
   {
    "duration": 25,
    "start_time": "2022-08-08T13:36:47.664Z"
   },
   {
    "duration": 37,
    "start_time": "2022-08-08T13:36:47.691Z"
   },
   {
    "duration": 10,
    "start_time": "2022-08-08T13:36:47.731Z"
   },
   {
    "duration": 71,
    "start_time": "2022-08-08T13:36:47.743Z"
   },
   {
    "duration": 9,
    "start_time": "2022-08-08T13:36:47.816Z"
   },
   {
    "duration": 56,
    "start_time": "2022-08-08T13:36:47.827Z"
   },
   {
    "duration": 5,
    "start_time": "2022-08-08T13:36:47.885Z"
   },
   {
    "duration": 8,
    "start_time": "2022-08-08T13:36:47.891Z"
   },
   {
    "duration": 31,
    "start_time": "2022-08-08T13:36:47.900Z"
   },
   {
    "duration": 8,
    "start_time": "2022-08-08T13:36:47.933Z"
   },
   {
    "duration": 4,
    "start_time": "2022-08-08T13:36:47.957Z"
   },
   {
    "duration": 63,
    "start_time": "2022-08-08T13:36:47.963Z"
   },
   {
    "duration": 41,
    "start_time": "2022-08-08T13:36:48.028Z"
   },
   {
    "duration": 8,
    "start_time": "2022-08-08T13:36:48.070Z"
   },
   {
    "duration": 26,
    "start_time": "2022-08-08T13:36:48.079Z"
   },
   {
    "duration": 419,
    "start_time": "2022-08-08T13:36:48.107Z"
   },
   {
    "duration": 14,
    "start_time": "2022-08-08T13:36:48.528Z"
   },
   {
    "duration": 33,
    "start_time": "2022-08-08T13:36:48.543Z"
   },
   {
    "duration": 5,
    "start_time": "2022-08-08T13:36:48.577Z"
   },
   {
    "duration": 187,
    "start_time": "2022-08-08T13:36:48.584Z"
   },
   {
    "duration": 396,
    "start_time": "2022-08-08T13:48:23.273Z"
   },
   {
    "duration": 152,
    "start_time": "2022-08-08T13:48:23.671Z"
   },
   {
    "duration": 28,
    "start_time": "2022-08-08T13:48:23.828Z"
   },
   {
    "duration": 15,
    "start_time": "2022-08-08T13:48:23.858Z"
   },
   {
    "duration": 22,
    "start_time": "2022-08-08T13:48:23.874Z"
   },
   {
    "duration": 7,
    "start_time": "2022-08-08T13:48:23.898Z"
   },
   {
    "duration": 11,
    "start_time": "2022-08-08T13:48:23.907Z"
   },
   {
    "duration": 44,
    "start_time": "2022-08-08T13:48:23.919Z"
   },
   {
    "duration": 23,
    "start_time": "2022-08-08T13:48:23.966Z"
   },
   {
    "duration": 11,
    "start_time": "2022-08-08T13:48:23.990Z"
   },
   {
    "duration": 77,
    "start_time": "2022-08-08T13:48:24.002Z"
   },
   {
    "duration": 9,
    "start_time": "2022-08-08T13:48:24.080Z"
   },
   {
    "duration": 28,
    "start_time": "2022-08-08T13:48:24.090Z"
   },
   {
    "duration": 4,
    "start_time": "2022-08-08T13:48:24.119Z"
   },
   {
    "duration": 34,
    "start_time": "2022-08-08T13:48:24.125Z"
   },
   {
    "duration": 7,
    "start_time": "2022-08-08T13:48:24.161Z"
   },
   {
    "duration": 12,
    "start_time": "2022-08-08T13:48:24.170Z"
   },
   {
    "duration": 6,
    "start_time": "2022-08-08T13:48:24.184Z"
   },
   {
    "duration": 27,
    "start_time": "2022-08-08T13:48:24.191Z"
   },
   {
    "duration": 45,
    "start_time": "2022-08-08T13:48:24.220Z"
   },
   {
    "duration": 5,
    "start_time": "2022-08-08T13:48:24.266Z"
   },
   {
    "duration": 10,
    "start_time": "2022-08-08T13:48:24.273Z"
   },
   {
    "duration": 379,
    "start_time": "2022-08-08T13:48:24.284Z"
   },
   {
    "duration": 4,
    "start_time": "2022-08-08T13:48:24.665Z"
   },
   {
    "duration": 14,
    "start_time": "2022-08-08T13:48:24.671Z"
   },
   {
    "duration": 11,
    "start_time": "2022-08-08T13:48:24.687Z"
   },
   {
    "duration": 2,
    "start_time": "2022-08-08T13:48:24.701Z"
   },
   {
    "duration": 204,
    "start_time": "2022-08-08T13:48:24.705Z"
   },
   {
    "duration": 371,
    "start_time": "2022-08-08T13:48:46.011Z"
   },
   {
    "duration": 159,
    "start_time": "2022-08-08T13:48:46.384Z"
   },
   {
    "duration": 32,
    "start_time": "2022-08-08T13:48:46.548Z"
   },
   {
    "duration": 14,
    "start_time": "2022-08-08T13:48:46.582Z"
   },
   {
    "duration": 23,
    "start_time": "2022-08-08T13:48:46.598Z"
   },
   {
    "duration": 7,
    "start_time": "2022-08-08T13:48:46.623Z"
   },
   {
    "duration": 33,
    "start_time": "2022-08-08T13:48:46.632Z"
   },
   {
    "duration": 36,
    "start_time": "2022-08-08T13:48:46.666Z"
   },
   {
    "duration": 24,
    "start_time": "2022-08-08T13:48:46.704Z"
   },
   {
    "duration": 9,
    "start_time": "2022-08-08T13:48:46.730Z"
   },
   {
    "duration": 68,
    "start_time": "2022-08-08T13:48:46.740Z"
   },
   {
    "duration": 9,
    "start_time": "2022-08-08T13:48:46.810Z"
   },
   {
    "duration": 49,
    "start_time": "2022-08-08T13:48:46.822Z"
   },
   {
    "duration": 5,
    "start_time": "2022-08-08T13:48:46.872Z"
   },
   {
    "duration": 17,
    "start_time": "2022-08-08T13:48:46.878Z"
   },
   {
    "duration": 14,
    "start_time": "2022-08-08T13:48:46.897Z"
   },
   {
    "duration": 10,
    "start_time": "2022-08-08T13:48:46.913Z"
   },
   {
    "duration": 18,
    "start_time": "2022-08-08T13:48:46.925Z"
   },
   {
    "duration": 31,
    "start_time": "2022-08-08T13:48:46.945Z"
   },
   {
    "duration": 34,
    "start_time": "2022-08-08T13:48:46.978Z"
   },
   {
    "duration": 5,
    "start_time": "2022-08-08T13:48:47.014Z"
   },
   {
    "duration": 12,
    "start_time": "2022-08-08T13:48:47.021Z"
   },
   {
    "duration": 423,
    "start_time": "2022-08-08T13:48:47.035Z"
   },
   {
    "duration": 3,
    "start_time": "2022-08-08T13:48:47.460Z"
   },
   {
    "duration": 19,
    "start_time": "2022-08-08T13:48:47.465Z"
   },
   {
    "duration": 13,
    "start_time": "2022-08-08T13:48:47.486Z"
   },
   {
    "duration": 2,
    "start_time": "2022-08-08T13:48:47.501Z"
   },
   {
    "duration": 201,
    "start_time": "2022-08-08T13:48:47.505Z"
   },
   {
    "duration": 402,
    "start_time": "2022-08-08T13:52:42.964Z"
   },
   {
    "duration": 151,
    "start_time": "2022-08-08T13:52:43.368Z"
   },
   {
    "duration": 27,
    "start_time": "2022-08-08T13:52:43.522Z"
   },
   {
    "duration": 15,
    "start_time": "2022-08-08T13:52:43.552Z"
   },
   {
    "duration": 23,
    "start_time": "2022-08-08T13:52:43.569Z"
   },
   {
    "duration": 13,
    "start_time": "2022-08-08T13:52:43.593Z"
   },
   {
    "duration": 21,
    "start_time": "2022-08-08T13:52:43.608Z"
   },
   {
    "duration": 16,
    "start_time": "2022-08-08T13:52:43.631Z"
   },
   {
    "duration": 63,
    "start_time": "2022-08-08T13:52:43.657Z"
   },
   {
    "duration": 9,
    "start_time": "2022-08-08T13:52:43.722Z"
   },
   {
    "duration": 55,
    "start_time": "2022-08-08T13:52:43.733Z"
   },
   {
    "duration": 9,
    "start_time": "2022-08-08T13:52:43.790Z"
   },
   {
    "duration": 43,
    "start_time": "2022-08-08T13:52:43.801Z"
   },
   {
    "duration": 5,
    "start_time": "2022-08-08T13:52:43.846Z"
   },
   {
    "duration": 6,
    "start_time": "2022-08-08T13:52:43.858Z"
   },
   {
    "duration": 13,
    "start_time": "2022-08-08T13:52:43.865Z"
   },
   {
    "duration": 13,
    "start_time": "2022-08-08T13:52:43.880Z"
   },
   {
    "duration": 23,
    "start_time": "2022-08-08T13:52:43.894Z"
   },
   {
    "duration": 28,
    "start_time": "2022-08-08T13:52:43.918Z"
   },
   {
    "duration": 34,
    "start_time": "2022-08-08T13:52:43.948Z"
   },
   {
    "duration": 5,
    "start_time": "2022-08-08T13:52:43.984Z"
   },
   {
    "duration": 14,
    "start_time": "2022-08-08T13:52:43.991Z"
   },
   {
    "duration": 371,
    "start_time": "2022-08-08T13:52:44.006Z"
   },
   {
    "duration": 13,
    "start_time": "2022-08-08T13:52:44.378Z"
   },
   {
    "duration": 13,
    "start_time": "2022-08-08T13:52:44.393Z"
   },
   {
    "duration": 2,
    "start_time": "2022-08-08T13:52:44.407Z"
   },
   {
    "duration": 186,
    "start_time": "2022-08-08T13:52:44.411Z"
   },
   {
    "duration": 393,
    "start_time": "2022-08-08T13:53:13.672Z"
   },
   {
    "duration": 156,
    "start_time": "2022-08-08T13:53:14.067Z"
   },
   {
    "duration": 28,
    "start_time": "2022-08-08T13:53:14.224Z"
   },
   {
    "duration": 15,
    "start_time": "2022-08-08T13:53:14.254Z"
   },
   {
    "duration": 23,
    "start_time": "2022-08-08T13:53:14.271Z"
   },
   {
    "duration": 9,
    "start_time": "2022-08-08T13:53:14.296Z"
   },
   {
    "duration": 19,
    "start_time": "2022-08-08T13:53:14.307Z"
   },
   {
    "duration": 35,
    "start_time": "2022-08-08T13:53:14.327Z"
   },
   {
    "duration": 25,
    "start_time": "2022-08-08T13:53:14.364Z"
   },
   {
    "duration": 9,
    "start_time": "2022-08-08T13:53:14.392Z"
   },
   {
    "duration": 75,
    "start_time": "2022-08-08T13:53:14.403Z"
   },
   {
    "duration": 9,
    "start_time": "2022-08-08T13:53:14.479Z"
   },
   {
    "duration": 44,
    "start_time": "2022-08-08T13:53:14.490Z"
   },
   {
    "duration": 22,
    "start_time": "2022-08-08T13:53:14.536Z"
   },
   {
    "duration": 18,
    "start_time": "2022-08-08T13:53:14.560Z"
   },
   {
    "duration": 30,
    "start_time": "2022-08-08T13:53:14.579Z"
   },
   {
    "duration": 13,
    "start_time": "2022-08-08T13:53:14.611Z"
   },
   {
    "duration": 22,
    "start_time": "2022-08-08T13:53:14.626Z"
   },
   {
    "duration": 41,
    "start_time": "2022-08-08T13:53:14.650Z"
   },
   {
    "duration": 40,
    "start_time": "2022-08-08T13:53:14.693Z"
   },
   {
    "duration": 5,
    "start_time": "2022-08-08T13:53:14.735Z"
   },
   {
    "duration": 12,
    "start_time": "2022-08-08T13:53:14.741Z"
   },
   {
    "duration": 379,
    "start_time": "2022-08-08T13:53:14.754Z"
   },
   {
    "duration": 13,
    "start_time": "2022-08-08T13:53:15.134Z"
   },
   {
    "duration": 29,
    "start_time": "2022-08-08T13:53:15.159Z"
   },
   {
    "duration": 30,
    "start_time": "2022-08-08T13:53:15.190Z"
   },
   {
    "duration": 225,
    "start_time": "2022-08-08T13:53:15.222Z"
   },
   {
    "duration": 394,
    "start_time": "2022-08-08T13:56:26.064Z"
   },
   {
    "duration": 153,
    "start_time": "2022-08-08T13:56:26.460Z"
   },
   {
    "duration": 27,
    "start_time": "2022-08-08T13:56:26.615Z"
   },
   {
    "duration": 15,
    "start_time": "2022-08-08T13:56:26.644Z"
   },
   {
    "duration": 23,
    "start_time": "2022-08-08T13:56:26.661Z"
   },
   {
    "duration": 8,
    "start_time": "2022-08-08T13:56:26.686Z"
   },
   {
    "duration": 13,
    "start_time": "2022-08-08T13:56:26.696Z"
   },
   {
    "duration": 29,
    "start_time": "2022-08-08T13:56:26.711Z"
   },
   {
    "duration": 49,
    "start_time": "2022-08-08T13:56:26.742Z"
   },
   {
    "duration": 9,
    "start_time": "2022-08-08T13:56:26.794Z"
   },
   {
    "duration": 62,
    "start_time": "2022-08-08T13:56:26.804Z"
   },
   {
    "duration": 10,
    "start_time": "2022-08-08T13:56:26.868Z"
   },
   {
    "duration": 61,
    "start_time": "2022-08-08T13:56:26.879Z"
   },
   {
    "duration": 4,
    "start_time": "2022-08-08T13:56:26.942Z"
   },
   {
    "duration": 22,
    "start_time": "2022-08-08T13:56:26.948Z"
   },
   {
    "duration": 12,
    "start_time": "2022-08-08T13:56:26.972Z"
   },
   {
    "duration": 24,
    "start_time": "2022-08-08T13:56:26.985Z"
   },
   {
    "duration": 7,
    "start_time": "2022-08-08T13:56:27.011Z"
   },
   {
    "duration": 41,
    "start_time": "2022-08-08T13:56:27.020Z"
   },
   {
    "duration": 36,
    "start_time": "2022-08-08T13:56:27.063Z"
   },
   {
    "duration": 5,
    "start_time": "2022-08-08T13:56:27.101Z"
   },
   {
    "duration": 26,
    "start_time": "2022-08-08T13:56:27.107Z"
   },
   {
    "duration": 407,
    "start_time": "2022-08-08T13:56:27.135Z"
   },
   {
    "duration": 17,
    "start_time": "2022-08-08T13:56:27.544Z"
   },
   {
    "duration": 14,
    "start_time": "2022-08-08T13:56:27.563Z"
   },
   {
    "duration": 2,
    "start_time": "2022-08-08T13:56:27.578Z"
   },
   {
    "duration": 188,
    "start_time": "2022-08-08T13:56:27.582Z"
   },
   {
    "duration": 375,
    "start_time": "2022-08-08T14:15:10.106Z"
   },
   {
    "duration": 159,
    "start_time": "2022-08-08T14:15:10.483Z"
   },
   {
    "duration": 27,
    "start_time": "2022-08-08T14:15:10.643Z"
   },
   {
    "duration": 14,
    "start_time": "2022-08-08T14:15:10.672Z"
   },
   {
    "duration": 24,
    "start_time": "2022-08-08T14:15:10.688Z"
   },
   {
    "duration": 8,
    "start_time": "2022-08-08T14:15:10.713Z"
   },
   {
    "duration": 35,
    "start_time": "2022-08-08T14:15:10.723Z"
   },
   {
    "duration": 15,
    "start_time": "2022-08-08T14:15:10.760Z"
   },
   {
    "duration": 24,
    "start_time": "2022-08-08T14:15:10.777Z"
   },
   {
    "duration": 9,
    "start_time": "2022-08-08T14:15:10.804Z"
   },
   {
    "duration": 74,
    "start_time": "2022-08-08T14:15:10.815Z"
   },
   {
    "duration": 9,
    "start_time": "2022-08-08T14:15:10.891Z"
   },
   {
    "duration": 53,
    "start_time": "2022-08-08T14:15:10.901Z"
   },
   {
    "duration": 8,
    "start_time": "2022-08-08T14:15:10.956Z"
   },
   {
    "duration": 45,
    "start_time": "2022-08-08T14:15:10.965Z"
   },
   {
    "duration": 21,
    "start_time": "2022-08-08T14:15:11.012Z"
   },
   {
    "duration": 8,
    "start_time": "2022-08-08T14:15:11.035Z"
   },
   {
    "duration": 8,
    "start_time": "2022-08-08T14:15:11.045Z"
   },
   {
    "duration": 35,
    "start_time": "2022-08-08T14:15:11.055Z"
   },
   {
    "duration": 32,
    "start_time": "2022-08-08T14:15:11.091Z"
   },
   {
    "duration": 5,
    "start_time": "2022-08-08T14:15:11.124Z"
   },
   {
    "duration": 15,
    "start_time": "2022-08-08T14:15:11.130Z"
   },
   {
    "duration": 16,
    "start_time": "2022-08-08T14:15:11.146Z"
   },
   {
    "duration": 20,
    "start_time": "2022-08-08T14:15:11.164Z"
   },
   {
    "duration": 10,
    "start_time": "2022-08-08T14:15:11.186Z"
   },
   {
    "duration": 11,
    "start_time": "2022-08-08T14:15:11.198Z"
   },
   {
    "duration": 416,
    "start_time": "2022-08-08T14:16:14.239Z"
   },
   {
    "duration": 156,
    "start_time": "2022-08-08T14:16:14.658Z"
   },
   {
    "duration": 28,
    "start_time": "2022-08-08T14:16:14.816Z"
   },
   {
    "duration": 19,
    "start_time": "2022-08-08T14:16:14.846Z"
   },
   {
    "duration": 24,
    "start_time": "2022-08-08T14:16:14.866Z"
   },
   {
    "duration": 8,
    "start_time": "2022-08-08T14:16:14.891Z"
   },
   {
    "duration": 14,
    "start_time": "2022-08-08T14:16:14.901Z"
   },
   {
    "duration": 25,
    "start_time": "2022-08-08T14:16:14.916Z"
   },
   {
    "duration": 24,
    "start_time": "2022-08-08T14:16:14.958Z"
   },
   {
    "duration": 10,
    "start_time": "2022-08-08T14:16:14.985Z"
   },
   {
    "duration": 79,
    "start_time": "2022-08-08T14:16:14.996Z"
   },
   {
    "duration": 9,
    "start_time": "2022-08-08T14:16:15.077Z"
   },
   {
    "duration": 31,
    "start_time": "2022-08-08T14:16:15.088Z"
   },
   {
    "duration": 5,
    "start_time": "2022-08-08T14:16:15.121Z"
   },
   {
    "duration": 30,
    "start_time": "2022-08-08T14:16:15.128Z"
   },
   {
    "duration": 9,
    "start_time": "2022-08-08T14:16:15.160Z"
   },
   {
    "duration": 8,
    "start_time": "2022-08-08T14:16:15.171Z"
   },
   {
    "duration": 9,
    "start_time": "2022-08-08T14:16:15.181Z"
   },
   {
    "duration": 27,
    "start_time": "2022-08-08T14:16:15.192Z"
   },
   {
    "duration": 68,
    "start_time": "2022-08-08T14:16:15.221Z"
   },
   {
    "duration": 7,
    "start_time": "2022-08-08T14:16:15.291Z"
   },
   {
    "duration": 22,
    "start_time": "2022-08-08T14:16:15.300Z"
   },
   {
    "duration": 460,
    "start_time": "2022-08-08T14:16:15.323Z"
   },
   {
    "duration": 13,
    "start_time": "2022-08-08T14:16:15.785Z"
   },
   {
    "duration": 25,
    "start_time": "2022-08-08T14:16:15.800Z"
   },
   {
    "duration": 2,
    "start_time": "2022-08-08T14:16:15.827Z"
   },
   {
    "duration": 164,
    "start_time": "2022-08-08T15:25:43.818Z"
   },
   {
    "duration": 52,
    "start_time": "2022-08-08T15:27:28.622Z"
   },
   {
    "duration": 75,
    "start_time": "2022-08-08T15:27:35.447Z"
   },
   {
    "duration": 188,
    "start_time": "2022-08-08T15:27:47.686Z"
   },
   {
    "duration": 30,
    "start_time": "2022-08-08T15:30:13.389Z"
   },
   {
    "duration": 153,
    "start_time": "2022-08-08T15:30:24.723Z"
   },
   {
    "duration": 826,
    "start_time": "2022-08-08T15:32:14.264Z"
   },
   {
    "duration": 447,
    "start_time": "2022-08-08T15:37:02.516Z"
   },
   {
    "duration": 155,
    "start_time": "2022-08-08T15:37:02.965Z"
   },
   {
    "duration": 39,
    "start_time": "2022-08-08T15:37:03.121Z"
   },
   {
    "duration": 21,
    "start_time": "2022-08-08T15:37:03.162Z"
   },
   {
    "duration": 38,
    "start_time": "2022-08-08T15:37:03.186Z"
   },
   {
    "duration": 22,
    "start_time": "2022-08-08T15:37:03.226Z"
   },
   {
    "duration": 29,
    "start_time": "2022-08-08T15:37:03.258Z"
   },
   {
    "duration": 42,
    "start_time": "2022-08-08T15:37:03.290Z"
   },
   {
    "duration": 31,
    "start_time": "2022-08-08T15:37:03.334Z"
   },
   {
    "duration": 12,
    "start_time": "2022-08-08T15:37:03.366Z"
   },
   {
    "duration": 86,
    "start_time": "2022-08-08T15:37:03.381Z"
   },
   {
    "duration": 12,
    "start_time": "2022-08-08T15:37:03.469Z"
   },
   {
    "duration": 57,
    "start_time": "2022-08-08T15:37:03.483Z"
   },
   {
    "duration": 7,
    "start_time": "2022-08-08T15:37:03.563Z"
   },
   {
    "duration": 41,
    "start_time": "2022-08-08T15:37:03.571Z"
   },
   {
    "duration": 12,
    "start_time": "2022-08-08T15:37:03.614Z"
   },
   {
    "duration": 10,
    "start_time": "2022-08-08T15:37:03.628Z"
   },
   {
    "duration": 18,
    "start_time": "2022-08-08T15:37:03.640Z"
   },
   {
    "duration": 39,
    "start_time": "2022-08-08T15:37:03.661Z"
   },
   {
    "duration": 62,
    "start_time": "2022-08-08T15:37:03.702Z"
   },
   {
    "duration": 7,
    "start_time": "2022-08-08T15:37:03.766Z"
   },
   {
    "duration": 21,
    "start_time": "2022-08-08T15:37:03.776Z"
   },
   {
    "duration": 431,
    "start_time": "2022-08-08T15:37:03.799Z"
   },
   {
    "duration": 25,
    "start_time": "2022-08-08T15:37:04.232Z"
   },
   {
    "duration": 13,
    "start_time": "2022-08-08T15:37:04.260Z"
   },
   {
    "duration": 28,
    "start_time": "2022-08-08T15:37:04.276Z"
   },
   {
    "duration": 1044,
    "start_time": "2022-08-08T15:37:04.306Z"
   },
   {
    "duration": 458,
    "start_time": "2022-08-09T09:28:25.862Z"
   },
   {
    "duration": 305,
    "start_time": "2022-08-09T09:28:26.324Z"
   },
   {
    "duration": 28,
    "start_time": "2022-08-09T09:28:26.631Z"
   },
   {
    "duration": 31,
    "start_time": "2022-08-09T09:28:26.660Z"
   },
   {
    "duration": 22,
    "start_time": "2022-08-09T09:28:26.692Z"
   },
   {
    "duration": 8,
    "start_time": "2022-08-09T09:28:26.715Z"
   },
   {
    "duration": 18,
    "start_time": "2022-08-09T09:28:26.724Z"
   },
   {
    "duration": 23,
    "start_time": "2022-08-09T09:28:26.744Z"
   },
   {
    "duration": 35,
    "start_time": "2022-08-09T09:28:26.768Z"
   },
   {
    "duration": 9,
    "start_time": "2022-08-09T09:28:26.805Z"
   },
   {
    "duration": 71,
    "start_time": "2022-08-09T09:28:26.815Z"
   },
   {
    "duration": 10,
    "start_time": "2022-08-09T09:28:26.888Z"
   },
   {
    "duration": 25,
    "start_time": "2022-08-09T09:28:26.899Z"
   },
   {
    "duration": 5,
    "start_time": "2022-08-09T09:28:26.926Z"
   },
   {
    "duration": 12,
    "start_time": "2022-08-09T09:28:26.932Z"
   },
   {
    "duration": 9,
    "start_time": "2022-08-09T09:28:26.946Z"
   },
   {
    "duration": 37,
    "start_time": "2022-08-09T09:28:26.956Z"
   },
   {
    "duration": 7,
    "start_time": "2022-08-09T09:28:26.995Z"
   },
   {
    "duration": 26,
    "start_time": "2022-08-09T09:28:27.003Z"
   },
   {
    "duration": 35,
    "start_time": "2022-08-09T09:28:27.031Z"
   },
   {
    "duration": 4,
    "start_time": "2022-08-09T09:28:27.068Z"
   },
   {
    "duration": 3,
    "start_time": "2022-08-09T09:28:27.087Z"
   },
   {
    "duration": 515,
    "start_time": "2022-08-09T09:28:27.092Z"
   },
   {
    "duration": 14,
    "start_time": "2022-08-09T09:28:27.610Z"
   },
   {
    "duration": 15,
    "start_time": "2022-08-09T09:28:27.626Z"
   },
   {
    "duration": 10,
    "start_time": "2022-08-09T09:28:27.643Z"
   },
   {
    "duration": 740,
    "start_time": "2022-08-09T09:28:27.655Z"
   },
   {
    "duration": 808,
    "start_time": "2022-08-09T10:55:56.213Z"
   },
   {
    "duration": 385,
    "start_time": "2022-08-09T10:57:51.802Z"
   },
   {
    "duration": 153,
    "start_time": "2022-08-09T10:57:52.190Z"
   },
   {
    "duration": 25,
    "start_time": "2022-08-09T10:57:52.345Z"
   },
   {
    "duration": 19,
    "start_time": "2022-08-09T10:57:52.372Z"
   },
   {
    "duration": 21,
    "start_time": "2022-08-09T10:57:52.393Z"
   },
   {
    "duration": 8,
    "start_time": "2022-08-09T10:57:52.415Z"
   },
   {
    "duration": 9,
    "start_time": "2022-08-09T10:57:52.425Z"
   },
   {
    "duration": 15,
    "start_time": "2022-08-09T10:57:52.436Z"
   },
   {
    "duration": 50,
    "start_time": "2022-08-09T10:57:52.452Z"
   },
   {
    "duration": 9,
    "start_time": "2022-08-09T10:57:52.504Z"
   },
   {
    "duration": 51,
    "start_time": "2022-08-09T10:57:52.514Z"
   },
   {
    "duration": 10,
    "start_time": "2022-08-09T10:57:52.587Z"
   },
   {
    "duration": 27,
    "start_time": "2022-08-09T10:57:52.598Z"
   },
   {
    "duration": 6,
    "start_time": "2022-08-09T10:57:52.626Z"
   },
   {
    "duration": 8,
    "start_time": "2022-08-09T10:57:52.634Z"
   },
   {
    "duration": 10,
    "start_time": "2022-08-09T10:57:52.644Z"
   },
   {
    "duration": 11,
    "start_time": "2022-08-09T10:57:52.655Z"
   },
   {
    "duration": 6,
    "start_time": "2022-08-09T10:57:52.686Z"
   },
   {
    "duration": 22,
    "start_time": "2022-08-09T10:57:52.694Z"
   },
   {
    "duration": 30,
    "start_time": "2022-08-09T10:57:52.718Z"
   },
   {
    "duration": 5,
    "start_time": "2022-08-09T10:57:52.750Z"
   },
   {
    "duration": 33,
    "start_time": "2022-08-09T10:57:52.756Z"
   },
   {
    "duration": 358,
    "start_time": "2022-08-09T10:57:52.791Z"
   },
   {
    "duration": 12,
    "start_time": "2022-08-09T10:57:53.150Z"
   },
   {
    "duration": 25,
    "start_time": "2022-08-09T10:57:53.163Z"
   },
   {
    "duration": 726,
    "start_time": "2022-08-09T10:57:53.189Z"
   },
   {
    "duration": 7,
    "start_time": "2022-08-09T11:06:16.489Z"
   },
   {
    "duration": 6,
    "start_time": "2022-08-09T11:10:12.026Z"
   },
   {
    "duration": 372,
    "start_time": "2022-08-09T11:35:21.828Z"
   },
   {
    "duration": 152,
    "start_time": "2022-08-09T11:35:22.202Z"
   },
   {
    "duration": 26,
    "start_time": "2022-08-09T11:35:22.355Z"
   },
   {
    "duration": 14,
    "start_time": "2022-08-09T11:35:22.383Z"
   },
   {
    "duration": 21,
    "start_time": "2022-08-09T11:35:22.398Z"
   },
   {
    "duration": 8,
    "start_time": "2022-08-09T11:35:22.421Z"
   },
   {
    "duration": 10,
    "start_time": "2022-08-09T11:35:22.431Z"
   },
   {
    "duration": 17,
    "start_time": "2022-08-09T11:35:22.442Z"
   },
   {
    "duration": 24,
    "start_time": "2022-08-09T11:35:22.487Z"
   },
   {
    "duration": 10,
    "start_time": "2022-08-09T11:35:22.513Z"
   },
   {
    "duration": 78,
    "start_time": "2022-08-09T11:35:22.525Z"
   },
   {
    "duration": 9,
    "start_time": "2022-08-09T11:35:22.604Z"
   },
   {
    "duration": 25,
    "start_time": "2022-08-09T11:35:22.615Z"
   },
   {
    "duration": 4,
    "start_time": "2022-08-09T11:35:22.642Z"
   },
   {
    "duration": 6,
    "start_time": "2022-08-09T11:35:22.648Z"
   },
   {
    "duration": 8,
    "start_time": "2022-08-09T11:35:22.687Z"
   },
   {
    "duration": 8,
    "start_time": "2022-08-09T11:35:22.697Z"
   },
   {
    "duration": 6,
    "start_time": "2022-08-09T11:35:22.707Z"
   },
   {
    "duration": 23,
    "start_time": "2022-08-09T11:35:22.714Z"
   },
   {
    "duration": 53,
    "start_time": "2022-08-09T11:35:22.739Z"
   },
   {
    "duration": 5,
    "start_time": "2022-08-09T11:35:22.794Z"
   },
   {
    "duration": 8,
    "start_time": "2022-08-09T11:35:22.800Z"
   },
   {
    "duration": 417,
    "start_time": "2022-08-09T11:35:22.809Z"
   },
   {
    "duration": 12,
    "start_time": "2022-08-09T11:35:23.227Z"
   },
   {
    "duration": 24,
    "start_time": "2022-08-09T11:35:23.241Z"
   },
   {
    "duration": 719,
    "start_time": "2022-08-09T11:35:23.267Z"
   },
   {
    "duration": 6,
    "start_time": "2022-08-09T11:35:23.988Z"
   },
   {
    "duration": 415,
    "start_time": "2022-08-10T13:29:23.002Z"
   },
   {
    "duration": 421,
    "start_time": "2022-08-10T13:29:23.419Z"
   },
   {
    "duration": 28,
    "start_time": "2022-08-10T13:29:23.842Z"
   },
   {
    "duration": 32,
    "start_time": "2022-08-10T13:29:23.872Z"
   },
   {
    "duration": 35,
    "start_time": "2022-08-10T13:29:23.906Z"
   },
   {
    "duration": 9,
    "start_time": "2022-08-10T13:29:23.943Z"
   },
   {
    "duration": 10,
    "start_time": "2022-08-10T13:29:23.954Z"
   },
   {
    "duration": 40,
    "start_time": "2022-08-10T13:29:23.966Z"
   },
   {
    "duration": 28,
    "start_time": "2022-08-10T13:29:24.007Z"
   },
   {
    "duration": 12,
    "start_time": "2022-08-10T13:29:24.038Z"
   },
   {
    "duration": 85,
    "start_time": "2022-08-10T13:29:24.051Z"
   },
   {
    "duration": 9,
    "start_time": "2022-08-10T13:29:24.138Z"
   },
   {
    "duration": 49,
    "start_time": "2022-08-10T13:29:24.149Z"
   },
   {
    "duration": 5,
    "start_time": "2022-08-10T13:29:24.200Z"
   },
   {
    "duration": 7,
    "start_time": "2022-08-10T13:29:24.206Z"
   },
   {
    "duration": 11,
    "start_time": "2022-08-10T13:29:24.214Z"
   },
   {
    "duration": 6,
    "start_time": "2022-08-10T13:29:24.227Z"
   },
   {
    "duration": 4,
    "start_time": "2022-08-10T13:29:24.235Z"
   },
   {
    "duration": 59,
    "start_time": "2022-08-10T13:29:24.241Z"
   },
   {
    "duration": 36,
    "start_time": "2022-08-10T13:29:24.301Z"
   },
   {
    "duration": 7,
    "start_time": "2022-08-10T13:29:24.339Z"
   },
   {
    "duration": 8,
    "start_time": "2022-08-10T13:29:24.348Z"
   },
   {
    "duration": 600,
    "start_time": "2022-08-10T13:29:24.358Z"
   },
   {
    "duration": 15,
    "start_time": "2022-08-10T13:29:24.959Z"
   },
   {
    "duration": 25,
    "start_time": "2022-08-10T13:29:24.976Z"
   },
   {
    "duration": 836,
    "start_time": "2022-08-10T13:29:25.003Z"
   },
   {
    "duration": 6,
    "start_time": "2022-08-10T13:29:25.841Z"
   },
   {
    "duration": 231,
    "start_time": "2022-08-10T14:49:14.095Z"
   },
   {
    "duration": 162,
    "start_time": "2022-08-10T14:50:12.369Z"
   },
   {
    "duration": 169,
    "start_time": "2022-08-10T14:51:31.387Z"
   },
   {
    "duration": 108,
    "start_time": "2022-08-10T14:55:41.407Z"
   },
   {
    "duration": 20,
    "start_time": "2022-08-10T14:56:03.466Z"
   },
   {
    "duration": 3,
    "start_time": "2022-08-10T14:57:40.665Z"
   },
   {
    "duration": 7,
    "start_time": "2022-08-10T14:58:04.865Z"
   },
   {
    "duration": 34,
    "start_time": "2022-08-10T14:59:22.451Z"
   },
   {
    "duration": 345,
    "start_time": "2022-08-10T15:00:21.505Z"
   },
   {
    "duration": 16,
    "start_time": "2022-08-10T15:00:42.869Z"
   },
   {
    "duration": 404,
    "start_time": "2022-08-10T15:06:22.378Z"
   },
   {
    "duration": 24,
    "start_time": "2022-08-10T15:06:39.186Z"
   },
   {
    "duration": 24,
    "start_time": "2022-08-10T15:07:30.374Z"
   },
   {
    "duration": 13,
    "start_time": "2022-08-10T15:07:58.710Z"
   },
   {
    "duration": 13,
    "start_time": "2022-08-10T15:08:06.507Z"
   },
   {
    "duration": 961,
    "start_time": "2022-08-10T15:09:16.126Z"
   },
   {
    "duration": 8,
    "start_time": "2022-08-10T15:09:57.370Z"
   },
   {
    "duration": 6,
    "start_time": "2022-08-10T15:10:06.899Z"
   },
   {
    "duration": 24,
    "start_time": "2022-08-10T15:17:14.812Z"
   },
   {
    "duration": 8,
    "start_time": "2022-08-10T15:17:32.355Z"
   },
   {
    "duration": 29,
    "start_time": "2022-08-10T15:22:29.923Z"
   },
   {
    "duration": 179,
    "start_time": "2022-08-10T15:22:50.739Z"
   },
   {
    "duration": 10,
    "start_time": "2022-08-10T15:31:56.948Z"
   },
   {
    "duration": 5,
    "start_time": "2022-08-10T15:32:33.148Z"
   },
   {
    "duration": 405,
    "start_time": "2022-08-10T15:33:00.443Z"
   },
   {
    "duration": 182,
    "start_time": "2022-08-10T15:33:00.850Z"
   },
   {
    "duration": 31,
    "start_time": "2022-08-10T15:33:01.034Z"
   },
   {
    "duration": 35,
    "start_time": "2022-08-10T15:33:01.067Z"
   },
   {
    "duration": 61,
    "start_time": "2022-08-10T15:33:01.105Z"
   },
   {
    "duration": 59,
    "start_time": "2022-08-10T15:33:01.168Z"
   },
   {
    "duration": 179,
    "start_time": "2022-08-10T15:33:01.229Z"
   },
   {
    "duration": 0,
    "start_time": "2022-08-10T15:33:01.410Z"
   },
   {
    "duration": 0,
    "start_time": "2022-08-10T15:33:01.411Z"
   },
   {
    "duration": 0,
    "start_time": "2022-08-10T15:33:01.413Z"
   },
   {
    "duration": 0,
    "start_time": "2022-08-10T15:33:01.414Z"
   },
   {
    "duration": 0,
    "start_time": "2022-08-10T15:33:01.415Z"
   },
   {
    "duration": 0,
    "start_time": "2022-08-10T15:33:01.416Z"
   },
   {
    "duration": 0,
    "start_time": "2022-08-10T15:33:01.418Z"
   },
   {
    "duration": 0,
    "start_time": "2022-08-10T15:33:01.420Z"
   },
   {
    "duration": 0,
    "start_time": "2022-08-10T15:33:01.421Z"
   },
   {
    "duration": 0,
    "start_time": "2022-08-10T15:33:01.422Z"
   },
   {
    "duration": 0,
    "start_time": "2022-08-10T15:33:01.422Z"
   },
   {
    "duration": 0,
    "start_time": "2022-08-10T15:33:01.424Z"
   },
   {
    "duration": 0,
    "start_time": "2022-08-10T15:33:01.425Z"
   },
   {
    "duration": 0,
    "start_time": "2022-08-10T15:33:01.426Z"
   },
   {
    "duration": 0,
    "start_time": "2022-08-10T15:33:01.428Z"
   },
   {
    "duration": 0,
    "start_time": "2022-08-10T15:33:01.429Z"
   },
   {
    "duration": 0,
    "start_time": "2022-08-10T15:33:01.430Z"
   },
   {
    "duration": 0,
    "start_time": "2022-08-10T15:33:01.431Z"
   },
   {
    "duration": 0,
    "start_time": "2022-08-10T15:33:01.433Z"
   },
   {
    "duration": 0,
    "start_time": "2022-08-10T15:33:01.434Z"
   },
   {
    "duration": 0,
    "start_time": "2022-08-10T15:33:01.435Z"
   },
   {
    "duration": 0,
    "start_time": "2022-08-10T15:33:01.436Z"
   },
   {
    "duration": 0,
    "start_time": "2022-08-10T15:33:01.437Z"
   },
   {
    "duration": 0,
    "start_time": "2022-08-10T15:33:01.438Z"
   },
   {
    "duration": 0,
    "start_time": "2022-08-10T15:33:01.439Z"
   },
   {
    "duration": 16,
    "start_time": "2022-08-10T15:33:53.889Z"
   },
   {
    "duration": 585,
    "start_time": "2022-08-10T15:36:05.491Z"
   },
   {
    "duration": 352,
    "start_time": "2022-08-10T15:36:33.326Z"
   },
   {
    "duration": 332,
    "start_time": "2022-08-10T15:36:40.796Z"
   },
   {
    "duration": 458,
    "start_time": "2022-08-10T15:36:49.632Z"
   },
   {
    "duration": 414,
    "start_time": "2022-08-10T15:38:42.203Z"
   },
   {
    "duration": 177,
    "start_time": "2022-08-10T15:38:42.619Z"
   },
   {
    "duration": 29,
    "start_time": "2022-08-10T15:38:42.798Z"
   },
   {
    "duration": 25,
    "start_time": "2022-08-10T15:38:42.830Z"
   },
   {
    "duration": 49,
    "start_time": "2022-08-10T15:38:42.857Z"
   },
   {
    "duration": 7,
    "start_time": "2022-08-10T15:38:42.908Z"
   },
   {
    "duration": 30,
    "start_time": "2022-08-10T15:38:42.917Z"
   },
   {
    "duration": 10,
    "start_time": "2022-08-10T15:38:42.950Z"
   },
   {
    "duration": 40,
    "start_time": "2022-08-10T15:38:42.962Z"
   },
   {
    "duration": 19,
    "start_time": "2022-08-10T15:38:43.005Z"
   },
   {
    "duration": 43,
    "start_time": "2022-08-10T15:38:43.026Z"
   },
   {
    "duration": 21,
    "start_time": "2022-08-10T15:38:43.071Z"
   },
   {
    "duration": 62,
    "start_time": "2022-08-10T15:38:43.094Z"
   },
   {
    "duration": 10,
    "start_time": "2022-08-10T15:38:43.158Z"
   },
   {
    "duration": 30,
    "start_time": "2022-08-10T15:38:43.191Z"
   },
   {
    "duration": 24,
    "start_time": "2022-08-10T15:38:43.223Z"
   },
   {
    "duration": 15,
    "start_time": "2022-08-10T15:38:43.249Z"
   },
   {
    "duration": 35,
    "start_time": "2022-08-10T15:38:43.266Z"
   },
   {
    "duration": 31,
    "start_time": "2022-08-10T15:38:43.302Z"
   },
   {
    "duration": 45,
    "start_time": "2022-08-10T15:38:43.335Z"
   },
   {
    "duration": 37,
    "start_time": "2022-08-10T15:38:43.381Z"
   },
   {
    "duration": 35,
    "start_time": "2022-08-10T15:38:43.420Z"
   },
   {
    "duration": 6,
    "start_time": "2022-08-10T15:38:43.457Z"
   },
   {
    "duration": 19,
    "start_time": "2022-08-10T15:38:43.465Z"
   },
   {
    "duration": 481,
    "start_time": "2022-08-10T15:38:43.486Z"
   },
   {
    "duration": 24,
    "start_time": "2022-08-10T15:38:43.969Z"
   },
   {
    "duration": 34,
    "start_time": "2022-08-10T15:38:43.995Z"
   },
   {
    "duration": 818,
    "start_time": "2022-08-10T15:38:44.032Z"
   },
   {
    "duration": 9,
    "start_time": "2022-08-10T15:38:44.852Z"
   },
   {
    "duration": 240,
    "start_time": "2022-08-10T15:38:44.863Z"
   },
   {
    "duration": 172,
    "start_time": "2022-08-10T15:38:45.105Z"
   },
   {
    "duration": 198,
    "start_time": "2022-08-10T15:38:45.278Z"
   },
   {
    "duration": 80,
    "start_time": "2022-08-10T15:39:46.129Z"
   },
   {
    "duration": 11,
    "start_time": "2022-08-10T15:39:53.420Z"
   },
   {
    "duration": 23,
    "start_time": "2022-08-10T15:40:06.186Z"
   },
   {
    "duration": 14,
    "start_time": "2022-08-10T15:40:46.606Z"
   },
   {
    "duration": 164,
    "start_time": "2022-08-10T15:42:10.851Z"
   },
   {
    "duration": 159,
    "start_time": "2022-08-10T15:45:05.617Z"
   },
   {
    "duration": 174,
    "start_time": "2022-08-10T15:46:49.537Z"
   },
   {
    "duration": 185,
    "start_time": "2022-08-10T15:47:13.658Z"
   },
   {
    "duration": 101,
    "start_time": "2022-08-10T15:52:20.170Z"
   },
   {
    "duration": 101,
    "start_time": "2022-08-10T15:52:27.162Z"
   },
   {
    "duration": 164,
    "start_time": "2022-08-10T15:54:11.205Z"
   },
   {
    "duration": 868,
    "start_time": "2022-08-10T15:54:40.275Z"
   },
   {
    "duration": 371,
    "start_time": "2022-08-10T18:45:18.553Z"
   },
   {
    "duration": 297,
    "start_time": "2022-08-10T18:45:18.927Z"
   },
   {
    "duration": 24,
    "start_time": "2022-08-10T18:45:19.226Z"
   },
   {
    "duration": 13,
    "start_time": "2022-08-10T18:45:19.252Z"
   },
   {
    "duration": 20,
    "start_time": "2022-08-10T18:45:19.267Z"
   },
   {
    "duration": 23,
    "start_time": "2022-08-10T18:45:19.288Z"
   },
   {
    "duration": 23,
    "start_time": "2022-08-10T18:45:19.312Z"
   },
   {
    "duration": 7,
    "start_time": "2022-08-10T18:45:19.336Z"
   },
   {
    "duration": 8,
    "start_time": "2022-08-10T18:45:19.344Z"
   },
   {
    "duration": 14,
    "start_time": "2022-08-10T18:45:19.354Z"
   },
   {
    "duration": 50,
    "start_time": "2022-08-10T18:45:19.370Z"
   },
   {
    "duration": 9,
    "start_time": "2022-08-10T18:45:19.422Z"
   },
   {
    "duration": 48,
    "start_time": "2022-08-10T18:45:19.433Z"
   },
   {
    "duration": 32,
    "start_time": "2022-08-10T18:45:19.483Z"
   },
   {
    "duration": 38,
    "start_time": "2022-08-10T18:45:19.516Z"
   },
   {
    "duration": 16,
    "start_time": "2022-08-10T18:45:19.555Z"
   },
   {
    "duration": 17,
    "start_time": "2022-08-10T18:45:19.572Z"
   },
   {
    "duration": 23,
    "start_time": "2022-08-10T18:45:19.590Z"
   },
   {
    "duration": 7,
    "start_time": "2022-08-10T18:45:19.615Z"
   },
   {
    "duration": 3,
    "start_time": "2022-08-10T18:45:19.623Z"
   },
   {
    "duration": 29,
    "start_time": "2022-08-10T18:45:19.628Z"
   },
   {
    "duration": 30,
    "start_time": "2022-08-10T18:45:19.658Z"
   },
   {
    "duration": 4,
    "start_time": "2022-08-10T18:45:19.689Z"
   },
   {
    "duration": 4,
    "start_time": "2022-08-10T18:45:19.710Z"
   },
   {
    "duration": 520,
    "start_time": "2022-08-10T18:45:19.715Z"
   },
   {
    "duration": 12,
    "start_time": "2022-08-10T18:45:20.237Z"
   },
   {
    "duration": 12,
    "start_time": "2022-08-10T18:45:20.250Z"
   },
   {
    "duration": 698,
    "start_time": "2022-08-10T18:45:20.265Z"
   },
   {
    "duration": 6,
    "start_time": "2022-08-10T18:45:20.965Z"
   },
   {
    "duration": 208,
    "start_time": "2022-08-10T18:45:20.973Z"
   },
   {
    "duration": 149,
    "start_time": "2022-08-10T18:45:21.183Z"
   },
   {
    "duration": 449,
    "start_time": "2022-08-10T20:18:08.060Z"
   },
   {
    "duration": 332,
    "start_time": "2022-08-10T20:18:08.511Z"
   },
   {
    "duration": 29,
    "start_time": "2022-08-10T20:18:08.844Z"
   },
   {
    "duration": 16,
    "start_time": "2022-08-10T20:18:08.874Z"
   },
   {
    "duration": 23,
    "start_time": "2022-08-10T20:18:08.892Z"
   },
   {
    "duration": 5,
    "start_time": "2022-08-10T20:18:08.917Z"
   },
   {
    "duration": 30,
    "start_time": "2022-08-10T20:18:08.924Z"
   },
   {
    "duration": 11,
    "start_time": "2022-08-10T20:18:08.955Z"
   },
   {
    "duration": 10,
    "start_time": "2022-08-10T20:18:08.968Z"
   },
   {
    "duration": 19,
    "start_time": "2022-08-10T20:18:08.981Z"
   },
   {
    "duration": 24,
    "start_time": "2022-08-10T20:18:09.002Z"
   },
   {
    "duration": 9,
    "start_time": "2022-08-10T20:18:09.028Z"
   },
   {
    "duration": 68,
    "start_time": "2022-08-10T20:18:09.038Z"
   },
   {
    "duration": 8,
    "start_time": "2022-08-10T20:18:09.110Z"
   },
   {
    "duration": 48,
    "start_time": "2022-08-10T20:18:09.120Z"
   },
   {
    "duration": 5,
    "start_time": "2022-08-10T20:18:09.170Z"
   },
   {
    "duration": 16,
    "start_time": "2022-08-10T20:18:09.177Z"
   },
   {
    "duration": 12,
    "start_time": "2022-08-10T20:18:09.195Z"
   },
   {
    "duration": 10,
    "start_time": "2022-08-10T20:18:09.209Z"
   },
   {
    "duration": 10,
    "start_time": "2022-08-10T20:18:09.221Z"
   },
   {
    "duration": 41,
    "start_time": "2022-08-10T20:18:09.233Z"
   },
   {
    "duration": 43,
    "start_time": "2022-08-10T20:18:09.276Z"
   },
   {
    "duration": 5,
    "start_time": "2022-08-10T20:18:09.321Z"
   },
   {
    "duration": 8,
    "start_time": "2022-08-10T20:18:09.327Z"
   },
   {
    "duration": 884,
    "start_time": "2022-08-10T20:18:09.336Z"
   },
   {
    "duration": 19,
    "start_time": "2022-08-10T20:18:10.222Z"
   },
   {
    "duration": 21,
    "start_time": "2022-08-10T20:18:10.243Z"
   },
   {
    "duration": 1661,
    "start_time": "2022-08-10T20:18:10.266Z"
   },
   {
    "duration": 60,
    "start_time": "2022-08-10T20:18:11.929Z"
   },
   {
    "duration": 525,
    "start_time": "2022-08-10T20:18:11.990Z"
   },
   {
    "duration": 311,
    "start_time": "2022-08-10T20:18:12.517Z"
   },
   {
    "duration": 399,
    "start_time": "2022-08-11T11:41:48.631Z"
   },
   {
    "duration": 409,
    "start_time": "2022-08-11T11:41:49.032Z"
   },
   {
    "duration": 25,
    "start_time": "2022-08-11T11:41:49.443Z"
   },
   {
    "duration": 12,
    "start_time": "2022-08-11T11:41:49.470Z"
   },
   {
    "duration": 44,
    "start_time": "2022-08-11T11:41:49.483Z"
   },
   {
    "duration": 7,
    "start_time": "2022-08-11T11:41:49.529Z"
   },
   {
    "duration": 75,
    "start_time": "2022-08-11T11:41:49.538Z"
   },
   {
    "duration": 8,
    "start_time": "2022-08-11T11:41:49.615Z"
   },
   {
    "duration": 15,
    "start_time": "2022-08-11T11:41:49.625Z"
   },
   {
    "duration": 13,
    "start_time": "2022-08-11T11:41:49.643Z"
   },
   {
    "duration": 20,
    "start_time": "2022-08-11T11:41:49.658Z"
   },
   {
    "duration": 8,
    "start_time": "2022-08-11T11:41:49.680Z"
   },
   {
    "duration": 69,
    "start_time": "2022-08-11T11:41:49.690Z"
   },
   {
    "duration": 13,
    "start_time": "2022-08-11T11:41:49.761Z"
   },
   {
    "duration": 39,
    "start_time": "2022-08-11T11:41:49.775Z"
   },
   {
    "duration": 8,
    "start_time": "2022-08-11T11:41:49.817Z"
   },
   {
    "duration": 7,
    "start_time": "2022-08-11T11:41:49.828Z"
   },
   {
    "duration": 12,
    "start_time": "2022-08-11T11:41:49.837Z"
   },
   {
    "duration": 7,
    "start_time": "2022-08-11T11:41:49.851Z"
   },
   {
    "duration": 3,
    "start_time": "2022-08-11T11:41:49.859Z"
   },
   {
    "duration": 21,
    "start_time": "2022-08-11T11:41:49.863Z"
   },
   {
    "duration": 37,
    "start_time": "2022-08-11T11:41:49.886Z"
   },
   {
    "duration": 7,
    "start_time": "2022-08-11T11:41:49.925Z"
   },
   {
    "duration": 6,
    "start_time": "2022-08-11T11:41:49.934Z"
   },
   {
    "duration": 712,
    "start_time": "2022-08-11T11:41:49.941Z"
   },
   {
    "duration": 12,
    "start_time": "2022-08-11T11:41:50.654Z"
   },
   {
    "duration": 26,
    "start_time": "2022-08-11T11:41:50.668Z"
   },
   {
    "duration": 772,
    "start_time": "2022-08-11T11:41:50.696Z"
   },
   {
    "duration": 7,
    "start_time": "2022-08-11T11:41:51.469Z"
   },
   {
    "duration": 229,
    "start_time": "2022-08-11T11:41:51.477Z"
   },
   {
    "duration": 158,
    "start_time": "2022-08-11T11:41:51.708Z"
   },
   {
    "duration": 376,
    "start_time": "2022-08-11T17:06:46.345Z"
   },
   {
    "duration": 301,
    "start_time": "2022-08-11T17:06:46.723Z"
   },
   {
    "duration": 25,
    "start_time": "2022-08-11T17:06:47.025Z"
   },
   {
    "duration": 13,
    "start_time": "2022-08-11T17:06:47.051Z"
   },
   {
    "duration": 20,
    "start_time": "2022-08-11T17:06:47.066Z"
   },
   {
    "duration": 5,
    "start_time": "2022-08-11T17:06:47.088Z"
   },
   {
    "duration": 24,
    "start_time": "2022-08-11T17:06:47.094Z"
   },
   {
    "duration": 26,
    "start_time": "2022-08-11T17:06:47.120Z"
   },
   {
    "duration": 8,
    "start_time": "2022-08-11T17:06:47.148Z"
   },
   {
    "duration": 14,
    "start_time": "2022-08-11T17:06:47.159Z"
   },
   {
    "duration": 21,
    "start_time": "2022-08-11T17:06:47.175Z"
   },
   {
    "duration": 8,
    "start_time": "2022-08-11T17:06:47.198Z"
   },
   {
    "duration": 79,
    "start_time": "2022-08-11T17:06:47.208Z"
   },
   {
    "duration": 8,
    "start_time": "2022-08-11T17:06:47.288Z"
   },
   {
    "duration": 41,
    "start_time": "2022-08-11T17:06:47.297Z"
   },
   {
    "duration": 4,
    "start_time": "2022-08-11T17:06:47.340Z"
   },
   {
    "duration": 6,
    "start_time": "2022-08-11T17:06:47.346Z"
   },
   {
    "duration": 13,
    "start_time": "2022-08-11T17:06:47.353Z"
   },
   {
    "duration": 9,
    "start_time": "2022-08-11T17:06:47.367Z"
   },
   {
    "duration": 5,
    "start_time": "2022-08-11T17:06:47.378Z"
   },
   {
    "duration": 22,
    "start_time": "2022-08-11T17:06:47.384Z"
   },
   {
    "duration": 53,
    "start_time": "2022-08-11T17:06:47.407Z"
   },
   {
    "duration": 4,
    "start_time": "2022-08-11T17:06:47.462Z"
   },
   {
    "duration": 10,
    "start_time": "2022-08-11T17:06:47.467Z"
   },
   {
    "duration": 491,
    "start_time": "2022-08-11T17:06:47.479Z"
   },
   {
    "duration": 13,
    "start_time": "2022-08-11T17:06:47.971Z"
   },
   {
    "duration": 13,
    "start_time": "2022-08-11T17:06:47.985Z"
   },
   {
    "duration": 672,
    "start_time": "2022-08-11T17:06:48.001Z"
   },
   {
    "duration": 7,
    "start_time": "2022-08-11T17:06:48.674Z"
   },
   {
    "duration": 207,
    "start_time": "2022-08-11T17:06:48.682Z"
   },
   {
    "duration": 168,
    "start_time": "2022-08-11T17:06:48.891Z"
   },
   {
    "duration": 693,
    "start_time": "2022-08-11T17:40:09.824Z"
   },
   {
    "duration": 133,
    "start_time": "2022-08-11T17:48:37.387Z"
   },
   {
    "duration": 5,
    "start_time": "2022-08-11T17:50:01.832Z"
   },
   {
    "duration": 3,
    "start_time": "2022-08-11T18:02:41.407Z"
   },
   {
    "duration": 42,
    "start_time": "2022-08-11T18:02:58.987Z"
   },
   {
    "duration": 5,
    "start_time": "2022-08-11T18:03:30.608Z"
   },
   {
    "duration": 141,
    "start_time": "2022-08-11T18:29:43.944Z"
   },
   {
    "duration": 371,
    "start_time": "2022-08-11T18:36:10.542Z"
   },
   {
    "duration": 151,
    "start_time": "2022-08-11T18:36:10.915Z"
   },
   {
    "duration": 22,
    "start_time": "2022-08-11T18:36:11.068Z"
   },
   {
    "duration": 11,
    "start_time": "2022-08-11T18:36:11.092Z"
   },
   {
    "duration": 37,
    "start_time": "2022-08-11T18:36:11.105Z"
   },
   {
    "duration": 5,
    "start_time": "2022-08-11T18:36:11.144Z"
   },
   {
    "duration": 22,
    "start_time": "2022-08-11T18:36:11.150Z"
   },
   {
    "duration": 8,
    "start_time": "2022-08-11T18:36:11.173Z"
   },
   {
    "duration": 13,
    "start_time": "2022-08-11T18:36:11.182Z"
   },
   {
    "duration": 15,
    "start_time": "2022-08-11T18:36:11.197Z"
   },
   {
    "duration": 42,
    "start_time": "2022-08-11T18:36:11.213Z"
   },
   {
    "duration": 8,
    "start_time": "2022-08-11T18:36:11.257Z"
   },
   {
    "duration": 52,
    "start_time": "2022-08-11T18:36:11.268Z"
   },
   {
    "duration": 8,
    "start_time": "2022-08-11T18:36:11.338Z"
   },
   {
    "duration": 23,
    "start_time": "2022-08-11T18:36:11.347Z"
   },
   {
    "duration": 4,
    "start_time": "2022-08-11T18:36:11.371Z"
   },
   {
    "duration": 10,
    "start_time": "2022-08-11T18:36:11.376Z"
   },
   {
    "duration": 7,
    "start_time": "2022-08-11T18:36:11.387Z"
   },
   {
    "duration": 8,
    "start_time": "2022-08-11T18:36:11.395Z"
   },
   {
    "duration": 3,
    "start_time": "2022-08-11T18:36:11.404Z"
   },
   {
    "duration": 48,
    "start_time": "2022-08-11T18:36:11.408Z"
   },
   {
    "duration": 28,
    "start_time": "2022-08-11T18:36:11.457Z"
   },
   {
    "duration": 4,
    "start_time": "2022-08-11T18:36:11.486Z"
   },
   {
    "duration": 10,
    "start_time": "2022-08-11T18:36:11.492Z"
   },
   {
    "duration": 362,
    "start_time": "2022-08-11T18:36:11.504Z"
   },
   {
    "duration": 11,
    "start_time": "2022-08-11T18:36:11.868Z"
   },
   {
    "duration": 13,
    "start_time": "2022-08-11T18:36:11.880Z"
   },
   {
    "duration": 659,
    "start_time": "2022-08-11T18:36:11.895Z"
   },
   {
    "duration": 6,
    "start_time": "2022-08-11T18:36:12.555Z"
   },
   {
    "duration": 204,
    "start_time": "2022-08-11T18:36:12.562Z"
   },
   {
    "duration": 138,
    "start_time": "2022-08-11T18:36:12.768Z"
   },
   {
    "duration": 340,
    "start_time": "2022-08-11T23:52:29.378Z"
   },
   {
    "duration": 152,
    "start_time": "2022-08-11T23:52:29.719Z"
   },
   {
    "duration": 23,
    "start_time": "2022-08-11T23:52:29.872Z"
   },
   {
    "duration": 12,
    "start_time": "2022-08-11T23:52:29.896Z"
   },
   {
    "duration": 37,
    "start_time": "2022-08-11T23:52:29.909Z"
   },
   {
    "duration": 5,
    "start_time": "2022-08-11T23:52:29.947Z"
   },
   {
    "duration": 24,
    "start_time": "2022-08-11T23:52:29.953Z"
   },
   {
    "duration": 10,
    "start_time": "2022-08-11T23:52:29.979Z"
   },
   {
    "duration": 9,
    "start_time": "2022-08-11T23:52:29.990Z"
   },
   {
    "duration": 14,
    "start_time": "2022-08-11T23:52:30.001Z"
   },
   {
    "duration": 23,
    "start_time": "2022-08-11T23:52:30.037Z"
   },
   {
    "duration": 18,
    "start_time": "2022-08-11T23:52:30.061Z"
   },
   {
    "duration": 57,
    "start_time": "2022-08-11T23:52:30.081Z"
   },
   {
    "duration": 7,
    "start_time": "2022-08-11T23:52:30.140Z"
   },
   {
    "duration": 42,
    "start_time": "2022-08-11T23:52:30.148Z"
   },
   {
    "duration": 3,
    "start_time": "2022-08-11T23:52:30.192Z"
   },
   {
    "duration": 17,
    "start_time": "2022-08-11T23:52:30.196Z"
   },
   {
    "duration": 13,
    "start_time": "2022-08-11T23:52:30.214Z"
   },
   {
    "duration": 34,
    "start_time": "2022-08-11T23:52:30.228Z"
   },
   {
    "duration": 6,
    "start_time": "2022-08-11T23:52:30.263Z"
   },
   {
    "duration": 24,
    "start_time": "2022-08-11T23:52:30.270Z"
   },
   {
    "duration": 28,
    "start_time": "2022-08-11T23:52:30.295Z"
   },
   {
    "duration": 26,
    "start_time": "2022-08-11T23:52:30.324Z"
   },
   {
    "duration": 15,
    "start_time": "2022-08-11T23:52:30.351Z"
   },
   {
    "duration": 334,
    "start_time": "2022-08-11T23:52:30.367Z"
   },
   {
    "duration": 11,
    "start_time": "2022-08-11T23:52:30.702Z"
   },
   {
    "duration": 24,
    "start_time": "2022-08-11T23:52:30.714Z"
   },
   {
    "duration": 638,
    "start_time": "2022-08-11T23:52:30.741Z"
   },
   {
    "duration": 6,
    "start_time": "2022-08-11T23:52:31.380Z"
   },
   {
    "duration": 193,
    "start_time": "2022-08-11T23:52:31.387Z"
   },
   {
    "duration": 129,
    "start_time": "2022-08-11T23:52:31.581Z"
   },
   {
    "duration": 12,
    "start_time": "2022-08-11T23:55:27.882Z"
   },
   {
    "duration": 459,
    "start_time": "2022-08-12T07:42:48.984Z"
   },
   {
    "duration": 433,
    "start_time": "2022-08-12T07:42:49.446Z"
   },
   {
    "duration": 30,
    "start_time": "2022-08-12T07:42:49.881Z"
   },
   {
    "duration": 16,
    "start_time": "2022-08-12T07:42:49.913Z"
   },
   {
    "duration": 25,
    "start_time": "2022-08-12T07:42:49.931Z"
   },
   {
    "duration": 6,
    "start_time": "2022-08-12T07:42:49.958Z"
   },
   {
    "duration": 25,
    "start_time": "2022-08-12T07:42:49.991Z"
   },
   {
    "duration": 18,
    "start_time": "2022-08-12T07:42:50.018Z"
   },
   {
    "duration": 30,
    "start_time": "2022-08-12T07:42:50.038Z"
   },
   {
    "duration": 32,
    "start_time": "2022-08-12T07:42:50.073Z"
   },
   {
    "duration": 33,
    "start_time": "2022-08-12T07:42:50.107Z"
   },
   {
    "duration": 11,
    "start_time": "2022-08-12T07:42:50.142Z"
   },
   {
    "duration": 86,
    "start_time": "2022-08-12T07:42:50.155Z"
   },
   {
    "duration": 10,
    "start_time": "2022-08-12T07:42:50.243Z"
   },
   {
    "duration": 57,
    "start_time": "2022-08-12T07:42:50.255Z"
   },
   {
    "duration": 12,
    "start_time": "2022-08-12T07:42:50.314Z"
   },
   {
    "duration": 11,
    "start_time": "2022-08-12T07:42:50.328Z"
   },
   {
    "duration": 12,
    "start_time": "2022-08-12T07:42:50.341Z"
   },
   {
    "duration": 11,
    "start_time": "2022-08-12T07:42:50.355Z"
   },
   {
    "duration": 27,
    "start_time": "2022-08-12T07:42:50.368Z"
   },
   {
    "duration": 37,
    "start_time": "2022-08-12T07:42:50.398Z"
   },
   {
    "duration": 44,
    "start_time": "2022-08-12T07:42:50.437Z"
   },
   {
    "duration": 17,
    "start_time": "2022-08-12T07:42:50.483Z"
   },
   {
    "duration": 33,
    "start_time": "2022-08-12T07:42:50.501Z"
   },
   {
    "duration": 662,
    "start_time": "2022-08-12T07:42:50.535Z"
   },
   {
    "duration": 18,
    "start_time": "2022-08-12T07:42:51.199Z"
   },
   {
    "duration": 30,
    "start_time": "2022-08-12T07:42:51.220Z"
   },
   {
    "duration": 923,
    "start_time": "2022-08-12T07:42:51.254Z"
   },
   {
    "duration": 14,
    "start_time": "2022-08-12T07:42:52.179Z"
   },
   {
    "duration": 249,
    "start_time": "2022-08-12T07:42:52.195Z"
   },
   {
    "duration": 164,
    "start_time": "2022-08-12T07:42:52.445Z"
   },
   {
    "duration": 19,
    "start_time": "2022-08-12T08:58:17.974Z"
   },
   {
    "duration": 66,
    "start_time": "2022-08-14T13:17:08.854Z"
   },
   {
    "duration": 416,
    "start_time": "2022-08-14T13:17:14.950Z"
   },
   {
    "duration": 406,
    "start_time": "2022-08-14T13:17:15.368Z"
   },
   {
    "duration": 30,
    "start_time": "2022-08-14T13:17:15.777Z"
   },
   {
    "duration": 16,
    "start_time": "2022-08-14T13:17:15.810Z"
   },
   {
    "duration": 17,
    "start_time": "2022-08-14T13:17:15.828Z"
   },
   {
    "duration": 45,
    "start_time": "2022-08-14T13:17:15.847Z"
   },
   {
    "duration": 6,
    "start_time": "2022-08-14T13:17:15.894Z"
   },
   {
    "duration": 35,
    "start_time": "2022-08-14T13:17:15.902Z"
   },
   {
    "duration": 13,
    "start_time": "2022-08-14T13:17:15.939Z"
   },
   {
    "duration": 19,
    "start_time": "2022-08-14T13:17:15.956Z"
   },
   {
    "duration": 18,
    "start_time": "2022-08-14T13:17:15.992Z"
   },
   {
    "duration": 37,
    "start_time": "2022-08-14T13:17:16.011Z"
   },
   {
    "duration": 13,
    "start_time": "2022-08-14T13:17:16.051Z"
   },
   {
    "duration": 113,
    "start_time": "2022-08-14T13:17:16.065Z"
   },
   {
    "duration": 10,
    "start_time": "2022-08-14T13:17:16.180Z"
   },
   {
    "duration": 31,
    "start_time": "2022-08-14T13:17:16.192Z"
   },
   {
    "duration": 5,
    "start_time": "2022-08-14T13:17:16.224Z"
   },
   {
    "duration": 7,
    "start_time": "2022-08-14T13:17:16.231Z"
   },
   {
    "duration": 9,
    "start_time": "2022-08-14T13:17:16.239Z"
   },
   {
    "duration": 7,
    "start_time": "2022-08-14T13:17:16.249Z"
   },
   {
    "duration": 36,
    "start_time": "2022-08-14T13:17:16.258Z"
   },
   {
    "duration": 28,
    "start_time": "2022-08-14T13:17:16.296Z"
   },
   {
    "duration": 44,
    "start_time": "2022-08-14T13:17:16.325Z"
   },
   {
    "duration": 5,
    "start_time": "2022-08-14T13:17:16.370Z"
   },
   {
    "duration": 21,
    "start_time": "2022-08-14T13:17:16.377Z"
   },
   {
    "duration": 693,
    "start_time": "2022-08-14T13:17:16.400Z"
   },
   {
    "duration": 16,
    "start_time": "2022-08-14T13:17:17.095Z"
   },
   {
    "duration": 19,
    "start_time": "2022-08-14T13:17:17.115Z"
   },
   {
    "duration": 897,
    "start_time": "2022-08-14T13:17:17.136Z"
   },
   {
    "duration": 7,
    "start_time": "2022-08-14T13:17:18.036Z"
   },
   {
    "duration": 250,
    "start_time": "2022-08-14T13:17:18.045Z"
   },
   {
    "duration": 175,
    "start_time": "2022-08-14T13:17:18.296Z"
   },
   {
    "duration": 46,
    "start_time": "2022-08-14T13:18:49.344Z"
   },
   {
    "duration": 23,
    "start_time": "2022-08-14T13:18:57.624Z"
   },
   {
    "duration": 32,
    "start_time": "2022-08-14T13:19:20.735Z"
   },
   {
    "duration": 16,
    "start_time": "2022-08-14T13:19:24.370Z"
   },
   {
    "duration": 35,
    "start_time": "2022-08-14T13:19:47.121Z"
   },
   {
    "duration": 21,
    "start_time": "2022-08-14T13:19:50.079Z"
   },
   {
    "duration": 419,
    "start_time": "2022-08-14T13:19:55.556Z"
   },
   {
    "duration": 181,
    "start_time": "2022-08-14T13:19:55.978Z"
   },
   {
    "duration": 41,
    "start_time": "2022-08-14T13:19:56.161Z"
   },
   {
    "duration": 15,
    "start_time": "2022-08-14T13:19:56.205Z"
   },
   {
    "duration": 12,
    "start_time": "2022-08-14T13:19:56.222Z"
   },
   {
    "duration": 25,
    "start_time": "2022-08-14T13:19:56.236Z"
   },
   {
    "duration": 6,
    "start_time": "2022-08-14T13:19:56.263Z"
   },
   {
    "duration": 20,
    "start_time": "2022-08-14T13:19:56.292Z"
   },
   {
    "duration": 13,
    "start_time": "2022-08-14T13:19:56.314Z"
   },
   {
    "duration": 12,
    "start_time": "2022-08-14T13:19:56.330Z"
   },
   {
    "duration": 14,
    "start_time": "2022-08-14T13:19:56.344Z"
   },
   {
    "duration": 43,
    "start_time": "2022-08-14T13:19:56.359Z"
   },
   {
    "duration": 9,
    "start_time": "2022-08-14T13:19:56.403Z"
   },
   {
    "duration": 37,
    "start_time": "2022-08-14T13:19:56.413Z"
   },
   {
    "duration": 8,
    "start_time": "2022-08-14T13:19:56.451Z"
   },
   {
    "duration": 52,
    "start_time": "2022-08-14T13:19:56.460Z"
   },
   {
    "duration": 6,
    "start_time": "2022-08-14T13:19:56.514Z"
   },
   {
    "duration": 8,
    "start_time": "2022-08-14T13:19:56.522Z"
   },
   {
    "duration": 10,
    "start_time": "2022-08-14T13:19:56.532Z"
   },
   {
    "duration": 7,
    "start_time": "2022-08-14T13:19:56.544Z"
   },
   {
    "duration": 4,
    "start_time": "2022-08-14T13:19:56.553Z"
   },
   {
    "duration": 40,
    "start_time": "2022-08-14T13:19:56.559Z"
   },
   {
    "duration": 32,
    "start_time": "2022-08-14T13:19:56.602Z"
   },
   {
    "duration": 5,
    "start_time": "2022-08-14T13:19:56.636Z"
   },
   {
    "duration": 7,
    "start_time": "2022-08-14T13:19:56.642Z"
   },
   {
    "duration": 444,
    "start_time": "2022-08-14T13:19:56.650Z"
   },
   {
    "duration": 13,
    "start_time": "2022-08-14T13:19:57.096Z"
   },
   {
    "duration": 12,
    "start_time": "2022-08-14T13:19:57.113Z"
   },
   {
    "duration": 831,
    "start_time": "2022-08-14T13:19:57.127Z"
   },
   {
    "duration": 6,
    "start_time": "2022-08-14T13:19:57.960Z"
   },
   {
    "duration": 258,
    "start_time": "2022-08-14T13:19:57.968Z"
   },
   {
    "duration": 179,
    "start_time": "2022-08-14T13:19:58.228Z"
   },
   {
    "duration": 395,
    "start_time": "2022-08-14T13:31:15.429Z"
   },
   {
    "duration": 174,
    "start_time": "2022-08-14T13:31:15.826Z"
   },
   {
    "duration": 29,
    "start_time": "2022-08-14T13:31:16.001Z"
   },
   {
    "duration": 74,
    "start_time": "2022-08-14T13:31:16.033Z"
   },
   {
    "duration": 0,
    "start_time": "2022-08-14T13:31:16.111Z"
   },
   {
    "duration": 0,
    "start_time": "2022-08-14T13:31:16.112Z"
   },
   {
    "duration": 0,
    "start_time": "2022-08-14T13:31:16.113Z"
   },
   {
    "duration": 0,
    "start_time": "2022-08-14T13:31:16.114Z"
   },
   {
    "duration": 0,
    "start_time": "2022-08-14T13:31:16.115Z"
   },
   {
    "duration": 0,
    "start_time": "2022-08-14T13:31:16.116Z"
   },
   {
    "duration": 0,
    "start_time": "2022-08-14T13:31:16.117Z"
   },
   {
    "duration": 0,
    "start_time": "2022-08-14T13:31:16.119Z"
   },
   {
    "duration": 0,
    "start_time": "2022-08-14T13:31:16.119Z"
   },
   {
    "duration": 0,
    "start_time": "2022-08-14T13:31:16.120Z"
   },
   {
    "duration": 0,
    "start_time": "2022-08-14T13:31:16.121Z"
   },
   {
    "duration": 0,
    "start_time": "2022-08-14T13:31:16.122Z"
   },
   {
    "duration": 0,
    "start_time": "2022-08-14T13:31:16.123Z"
   },
   {
    "duration": 0,
    "start_time": "2022-08-14T13:31:16.124Z"
   },
   {
    "duration": 0,
    "start_time": "2022-08-14T13:31:16.125Z"
   },
   {
    "duration": 0,
    "start_time": "2022-08-14T13:31:16.126Z"
   },
   {
    "duration": 0,
    "start_time": "2022-08-14T13:31:16.128Z"
   },
   {
    "duration": 0,
    "start_time": "2022-08-14T13:31:16.129Z"
   },
   {
    "duration": 0,
    "start_time": "2022-08-14T13:31:16.130Z"
   },
   {
    "duration": 0,
    "start_time": "2022-08-14T13:31:16.131Z"
   },
   {
    "duration": 0,
    "start_time": "2022-08-14T13:31:16.132Z"
   },
   {
    "duration": 0,
    "start_time": "2022-08-14T13:31:16.133Z"
   },
   {
    "duration": 0,
    "start_time": "2022-08-14T13:31:16.134Z"
   },
   {
    "duration": 0,
    "start_time": "2022-08-14T13:31:16.135Z"
   },
   {
    "duration": 0,
    "start_time": "2022-08-14T13:31:16.137Z"
   },
   {
    "duration": 0,
    "start_time": "2022-08-14T13:31:16.138Z"
   },
   {
    "duration": 0,
    "start_time": "2022-08-14T13:31:16.192Z"
   },
   {
    "duration": 0,
    "start_time": "2022-08-14T13:31:16.193Z"
   },
   {
    "duration": 0,
    "start_time": "2022-08-14T13:31:16.194Z"
   },
   {
    "duration": 16,
    "start_time": "2022-08-14T14:42:52.433Z"
   },
   {
    "duration": 23,
    "start_time": "2022-08-14T14:49:23.936Z"
   },
   {
    "duration": 77,
    "start_time": "2022-08-14T14:55:46.366Z"
   },
   {
    "duration": 85,
    "start_time": "2022-08-14T14:55:56.892Z"
   },
   {
    "duration": 20,
    "start_time": "2022-08-14T14:56:50.940Z"
   },
   {
    "duration": 27,
    "start_time": "2022-08-14T14:58:41.402Z"
   },
   {
    "duration": 45,
    "start_time": "2022-08-14T14:58:56.302Z"
   },
   {
    "duration": 15,
    "start_time": "2022-08-14T14:59:02.828Z"
   },
   {
    "duration": 37,
    "start_time": "2022-08-14T14:59:37.675Z"
   },
   {
    "duration": 16,
    "start_time": "2022-08-14T14:59:57.675Z"
   },
   {
    "duration": 15,
    "start_time": "2022-08-14T15:00:05.728Z"
   },
   {
    "duration": 18,
    "start_time": "2022-08-14T15:00:26.528Z"
   },
   {
    "duration": 33,
    "start_time": "2022-08-14T15:00:53.080Z"
   },
   {
    "duration": 27,
    "start_time": "2022-08-14T15:01:50.183Z"
   },
   {
    "duration": 23,
    "start_time": "2022-08-14T15:01:53.492Z"
   },
   {
    "duration": 23,
    "start_time": "2022-08-14T15:02:30.027Z"
   },
   {
    "duration": 448,
    "start_time": "2022-08-14T15:02:42.019Z"
   },
   {
    "duration": 203,
    "start_time": "2022-08-14T15:02:42.470Z"
   },
   {
    "duration": 89,
    "start_time": "2022-08-14T15:02:42.675Z"
   },
   {
    "duration": 0,
    "start_time": "2022-08-14T15:02:42.769Z"
   },
   {
    "duration": 0,
    "start_time": "2022-08-14T15:02:42.771Z"
   },
   {
    "duration": 0,
    "start_time": "2022-08-14T15:02:42.773Z"
   },
   {
    "duration": 0,
    "start_time": "2022-08-14T15:02:42.775Z"
   },
   {
    "duration": 0,
    "start_time": "2022-08-14T15:02:42.776Z"
   },
   {
    "duration": 0,
    "start_time": "2022-08-14T15:02:42.778Z"
   },
   {
    "duration": 0,
    "start_time": "2022-08-14T15:02:42.792Z"
   },
   {
    "duration": 0,
    "start_time": "2022-08-14T15:02:42.793Z"
   },
   {
    "duration": 0,
    "start_time": "2022-08-14T15:02:42.794Z"
   },
   {
    "duration": 0,
    "start_time": "2022-08-14T15:02:42.795Z"
   },
   {
    "duration": 0,
    "start_time": "2022-08-14T15:02:42.796Z"
   },
   {
    "duration": 0,
    "start_time": "2022-08-14T15:02:42.797Z"
   },
   {
    "duration": 0,
    "start_time": "2022-08-14T15:02:42.799Z"
   },
   {
    "duration": 0,
    "start_time": "2022-08-14T15:02:42.800Z"
   },
   {
    "duration": 0,
    "start_time": "2022-08-14T15:02:42.801Z"
   },
   {
    "duration": 0,
    "start_time": "2022-08-14T15:02:42.802Z"
   },
   {
    "duration": 0,
    "start_time": "2022-08-14T15:02:42.804Z"
   },
   {
    "duration": 0,
    "start_time": "2022-08-14T15:02:42.804Z"
   },
   {
    "duration": 0,
    "start_time": "2022-08-14T15:02:42.805Z"
   },
   {
    "duration": 0,
    "start_time": "2022-08-14T15:02:42.807Z"
   },
   {
    "duration": 0,
    "start_time": "2022-08-14T15:02:42.808Z"
   },
   {
    "duration": 0,
    "start_time": "2022-08-14T15:02:42.809Z"
   },
   {
    "duration": 0,
    "start_time": "2022-08-14T15:02:42.810Z"
   },
   {
    "duration": 0,
    "start_time": "2022-08-14T15:02:42.812Z"
   },
   {
    "duration": 0,
    "start_time": "2022-08-14T15:02:42.813Z"
   },
   {
    "duration": 0,
    "start_time": "2022-08-14T15:02:42.814Z"
   },
   {
    "duration": 0,
    "start_time": "2022-08-14T15:02:42.816Z"
   },
   {
    "duration": 0,
    "start_time": "2022-08-14T15:02:42.817Z"
   },
   {
    "duration": 0,
    "start_time": "2022-08-14T15:02:42.818Z"
   },
   {
    "duration": 32,
    "start_time": "2022-08-14T15:03:51.283Z"
   },
   {
    "duration": 22,
    "start_time": "2022-08-14T15:04:33.323Z"
   },
   {
    "duration": 23,
    "start_time": "2022-08-14T15:06:58.938Z"
   },
   {
    "duration": 17,
    "start_time": "2022-08-14T15:07:15.327Z"
   },
   {
    "duration": 24,
    "start_time": "2022-08-14T15:10:05.086Z"
   },
   {
    "duration": 482,
    "start_time": "2022-08-14T15:10:16.534Z"
   },
   {
    "duration": 67,
    "start_time": "2022-08-14T15:10:57.738Z"
   },
   {
    "duration": 18,
    "start_time": "2022-08-14T15:14:14.771Z"
   },
   {
    "duration": 458,
    "start_time": "2022-08-14T15:15:07.417Z"
   },
   {
    "duration": 198,
    "start_time": "2022-08-14T15:15:07.878Z"
   },
   {
    "duration": 75,
    "start_time": "2022-08-14T15:15:08.078Z"
   },
   {
    "duration": 0,
    "start_time": "2022-08-14T15:15:08.157Z"
   },
   {
    "duration": 0,
    "start_time": "2022-08-14T15:15:08.158Z"
   },
   {
    "duration": 0,
    "start_time": "2022-08-14T15:15:08.159Z"
   },
   {
    "duration": 0,
    "start_time": "2022-08-14T15:15:08.161Z"
   },
   {
    "duration": 0,
    "start_time": "2022-08-14T15:15:08.162Z"
   },
   {
    "duration": 0,
    "start_time": "2022-08-14T15:15:08.164Z"
   },
   {
    "duration": 0,
    "start_time": "2022-08-14T15:15:08.165Z"
   },
   {
    "duration": 0,
    "start_time": "2022-08-14T15:15:08.166Z"
   },
   {
    "duration": 0,
    "start_time": "2022-08-14T15:15:08.167Z"
   },
   {
    "duration": 0,
    "start_time": "2022-08-14T15:15:08.168Z"
   },
   {
    "duration": 0,
    "start_time": "2022-08-14T15:15:08.169Z"
   },
   {
    "duration": 0,
    "start_time": "2022-08-14T15:15:08.192Z"
   },
   {
    "duration": 0,
    "start_time": "2022-08-14T15:15:08.193Z"
   },
   {
    "duration": 0,
    "start_time": "2022-08-14T15:15:08.194Z"
   },
   {
    "duration": 0,
    "start_time": "2022-08-14T15:15:08.195Z"
   },
   {
    "duration": 0,
    "start_time": "2022-08-14T15:15:08.196Z"
   },
   {
    "duration": 0,
    "start_time": "2022-08-14T15:15:08.198Z"
   },
   {
    "duration": 0,
    "start_time": "2022-08-14T15:15:08.199Z"
   },
   {
    "duration": 0,
    "start_time": "2022-08-14T15:15:08.200Z"
   },
   {
    "duration": 0,
    "start_time": "2022-08-14T15:15:08.201Z"
   },
   {
    "duration": 0,
    "start_time": "2022-08-14T15:15:08.203Z"
   },
   {
    "duration": 0,
    "start_time": "2022-08-14T15:15:08.204Z"
   },
   {
    "duration": 0,
    "start_time": "2022-08-14T15:15:08.205Z"
   },
   {
    "duration": 1,
    "start_time": "2022-08-14T15:15:08.205Z"
   },
   {
    "duration": 0,
    "start_time": "2022-08-14T15:15:08.207Z"
   },
   {
    "duration": 0,
    "start_time": "2022-08-14T15:15:08.208Z"
   },
   {
    "duration": 0,
    "start_time": "2022-08-14T15:15:08.209Z"
   },
   {
    "duration": 0,
    "start_time": "2022-08-14T15:15:08.210Z"
   },
   {
    "duration": 0,
    "start_time": "2022-08-14T15:15:08.211Z"
   },
   {
    "duration": 421,
    "start_time": "2022-08-14T15:16:00.925Z"
   },
   {
    "duration": 200,
    "start_time": "2022-08-14T15:16:01.348Z"
   },
   {
    "duration": 455,
    "start_time": "2022-08-14T15:17:00.199Z"
   },
   {
    "duration": 185,
    "start_time": "2022-08-14T15:17:00.657Z"
   },
   {
    "duration": 7,
    "start_time": "2022-08-14T15:17:00.843Z"
   },
   {
    "duration": 34,
    "start_time": "2022-08-14T15:17:00.852Z"
   },
   {
    "duration": 30,
    "start_time": "2022-08-14T15:17:00.891Z"
   },
   {
    "duration": 1551,
    "start_time": "2022-08-14T15:17:00.922Z"
   },
   {
    "duration": 0,
    "start_time": "2022-08-14T15:17:02.476Z"
   },
   {
    "duration": 0,
    "start_time": "2022-08-14T15:17:02.477Z"
   },
   {
    "duration": 0,
    "start_time": "2022-08-14T15:17:02.479Z"
   },
   {
    "duration": 0,
    "start_time": "2022-08-14T15:17:02.480Z"
   },
   {
    "duration": 0,
    "start_time": "2022-08-14T15:17:02.482Z"
   },
   {
    "duration": 0,
    "start_time": "2022-08-14T15:17:02.484Z"
   },
   {
    "duration": 0,
    "start_time": "2022-08-14T15:17:02.486Z"
   },
   {
    "duration": 0,
    "start_time": "2022-08-14T15:17:02.487Z"
   },
   {
    "duration": 0,
    "start_time": "2022-08-14T15:17:02.489Z"
   },
   {
    "duration": 0,
    "start_time": "2022-08-14T15:17:02.490Z"
   },
   {
    "duration": 0,
    "start_time": "2022-08-14T15:17:02.491Z"
   },
   {
    "duration": 0,
    "start_time": "2022-08-14T15:17:02.493Z"
   },
   {
    "duration": 0,
    "start_time": "2022-08-14T15:17:02.495Z"
   },
   {
    "duration": 0,
    "start_time": "2022-08-14T15:17:02.496Z"
   },
   {
    "duration": 0,
    "start_time": "2022-08-14T15:17:02.497Z"
   },
   {
    "duration": 0,
    "start_time": "2022-08-14T15:17:02.498Z"
   },
   {
    "duration": 0,
    "start_time": "2022-08-14T15:17:02.500Z"
   },
   {
    "duration": 0,
    "start_time": "2022-08-14T15:17:02.501Z"
   },
   {
    "duration": 0,
    "start_time": "2022-08-14T15:17:02.502Z"
   },
   {
    "duration": 0,
    "start_time": "2022-08-14T15:17:02.503Z"
   },
   {
    "duration": 0,
    "start_time": "2022-08-14T15:17:02.504Z"
   },
   {
    "duration": 0,
    "start_time": "2022-08-14T15:17:02.505Z"
   },
   {
    "duration": 0,
    "start_time": "2022-08-14T15:17:02.507Z"
   },
   {
    "duration": 0,
    "start_time": "2022-08-14T15:17:02.508Z"
   },
   {
    "duration": 0,
    "start_time": "2022-08-14T15:17:02.511Z"
   },
   {
    "duration": 0,
    "start_time": "2022-08-14T15:17:02.513Z"
   },
   {
    "duration": 15,
    "start_time": "2022-08-14T15:17:59.645Z"
   },
   {
    "duration": 12,
    "start_time": "2022-08-14T15:18:10.139Z"
   },
   {
    "duration": 16,
    "start_time": "2022-08-14T15:19:33.465Z"
   },
   {
    "duration": 18,
    "start_time": "2022-08-14T15:19:37.202Z"
   },
   {
    "duration": 457,
    "start_time": "2022-08-14T15:19:52.954Z"
   },
   {
    "duration": 184,
    "start_time": "2022-08-14T15:19:53.413Z"
   },
   {
    "duration": 16,
    "start_time": "2022-08-14T15:19:53.599Z"
   },
   {
    "duration": 18,
    "start_time": "2022-08-14T15:19:53.618Z"
   },
   {
    "duration": 18,
    "start_time": "2022-08-14T15:19:53.637Z"
   },
   {
    "duration": 52,
    "start_time": "2022-08-14T15:19:53.657Z"
   },
   {
    "duration": 13,
    "start_time": "2022-08-14T15:19:53.711Z"
   },
   {
    "duration": 35,
    "start_time": "2022-08-14T15:19:53.726Z"
   },
   {
    "duration": 24,
    "start_time": "2022-08-14T15:19:53.763Z"
   },
   {
    "duration": 11,
    "start_time": "2022-08-14T15:19:53.793Z"
   },
   {
    "duration": 21,
    "start_time": "2022-08-14T15:19:53.806Z"
   },
   {
    "duration": 30,
    "start_time": "2022-08-14T15:19:53.829Z"
   },
   {
    "duration": 32,
    "start_time": "2022-08-14T15:19:53.862Z"
   },
   {
    "duration": 122,
    "start_time": "2022-08-14T15:19:53.896Z"
   },
   {
    "duration": 13,
    "start_time": "2022-08-14T15:19:54.023Z"
   },
   {
    "duration": 47,
    "start_time": "2022-08-14T15:19:54.038Z"
   },
   {
    "duration": 8,
    "start_time": "2022-08-14T15:19:54.087Z"
   },
   {
    "duration": 8,
    "start_time": "2022-08-14T15:19:54.096Z"
   },
   {
    "duration": 15,
    "start_time": "2022-08-14T15:19:54.106Z"
   },
   {
    "duration": 13,
    "start_time": "2022-08-14T15:19:54.123Z"
   },
   {
    "duration": 13,
    "start_time": "2022-08-14T15:19:54.138Z"
   },
   {
    "duration": 53,
    "start_time": "2022-08-14T15:19:54.153Z"
   },
   {
    "duration": 43,
    "start_time": "2022-08-14T15:19:54.208Z"
   },
   {
    "duration": 8,
    "start_time": "2022-08-14T15:19:54.254Z"
   },
   {
    "duration": 34,
    "start_time": "2022-08-14T15:19:54.264Z"
   },
   {
    "duration": 450,
    "start_time": "2022-08-14T15:19:54.300Z"
   },
   {
    "duration": 16,
    "start_time": "2022-08-14T15:19:54.751Z"
   },
   {
    "duration": 38,
    "start_time": "2022-08-14T15:19:54.771Z"
   },
   {
    "duration": 963,
    "start_time": "2022-08-14T15:19:54.811Z"
   },
   {
    "duration": 17,
    "start_time": "2022-08-14T15:19:55.776Z"
   },
   {
    "duration": 252,
    "start_time": "2022-08-14T15:19:55.795Z"
   },
   {
    "duration": 166,
    "start_time": "2022-08-14T15:19:56.049Z"
   },
   {
    "duration": 21,
    "start_time": "2022-08-14T15:20:21.260Z"
   },
   {
    "duration": 100,
    "start_time": "2022-08-14T15:20:27.994Z"
   },
   {
    "duration": 27,
    "start_time": "2022-08-14T15:20:41.449Z"
   },
   {
    "duration": 301,
    "start_time": "2022-08-14T15:23:28.622Z"
   },
   {
    "duration": 447,
    "start_time": "2022-08-14T15:24:04.733Z"
   },
   {
    "duration": 5,
    "start_time": "2022-08-14T15:24:13.573Z"
   },
   {
    "duration": 8,
    "start_time": "2022-08-14T15:26:02.742Z"
   },
   {
    "duration": 23,
    "start_time": "2022-08-14T15:26:12.233Z"
   },
   {
    "duration": 445,
    "start_time": "2022-08-14T15:26:24.902Z"
   },
   {
    "duration": 195,
    "start_time": "2022-08-14T15:26:25.349Z"
   },
   {
    "duration": 17,
    "start_time": "2022-08-14T15:26:25.546Z"
   },
   {
    "duration": 42,
    "start_time": "2022-08-14T15:26:25.566Z"
   },
   {
    "duration": 17,
    "start_time": "2022-08-14T15:26:25.610Z"
   },
   {
    "duration": 39,
    "start_time": "2022-08-14T15:26:25.630Z"
   },
   {
    "duration": 22,
    "start_time": "2022-08-14T15:26:25.671Z"
   },
   {
    "duration": 49,
    "start_time": "2022-08-14T15:26:25.696Z"
   },
   {
    "duration": 12,
    "start_time": "2022-08-14T15:26:25.748Z"
   },
   {
    "duration": 29,
    "start_time": "2022-08-14T15:26:25.763Z"
   },
   {
    "duration": 20,
    "start_time": "2022-08-14T15:26:25.794Z"
   },
   {
    "duration": 33,
    "start_time": "2022-08-14T15:26:25.816Z"
   },
   {
    "duration": 13,
    "start_time": "2022-08-14T15:26:25.851Z"
   },
   {
    "duration": 93,
    "start_time": "2022-08-14T15:26:25.866Z"
   },
   {
    "duration": 34,
    "start_time": "2022-08-14T15:26:25.962Z"
   },
   {
    "duration": 21,
    "start_time": "2022-08-14T15:26:25.998Z"
   },
   {
    "duration": 5,
    "start_time": "2022-08-14T15:26:26.021Z"
   },
   {
    "duration": 10,
    "start_time": "2022-08-14T15:26:26.028Z"
   },
   {
    "duration": 15,
    "start_time": "2022-08-14T15:26:26.039Z"
   },
   {
    "duration": 40,
    "start_time": "2022-08-14T15:26:26.056Z"
   },
   {
    "duration": 7,
    "start_time": "2022-08-14T15:26:26.098Z"
   },
   {
    "duration": 36,
    "start_time": "2022-08-14T15:26:26.107Z"
   },
   {
    "duration": 68,
    "start_time": "2022-08-14T15:26:26.146Z"
   },
   {
    "duration": 6,
    "start_time": "2022-08-14T15:26:26.217Z"
   },
   {
    "duration": 11,
    "start_time": "2022-08-14T15:26:26.225Z"
   },
   {
    "duration": 468,
    "start_time": "2022-08-14T15:26:26.239Z"
   },
   {
    "duration": 16,
    "start_time": "2022-08-14T15:26:26.709Z"
   },
   {
    "duration": 18,
    "start_time": "2022-08-14T15:26:26.730Z"
   },
   {
    "duration": 978,
    "start_time": "2022-08-14T15:26:26.750Z"
   },
   {
    "duration": 7,
    "start_time": "2022-08-14T15:26:27.730Z"
   },
   {
    "duration": 273,
    "start_time": "2022-08-14T15:26:27.740Z"
   },
   {
    "duration": 183,
    "start_time": "2022-08-14T15:26:28.015Z"
   },
   {
    "duration": 22,
    "start_time": "2022-08-14T15:27:20.216Z"
   },
   {
    "duration": 100,
    "start_time": "2022-08-14T15:27:36.193Z"
   },
   {
    "duration": 18,
    "start_time": "2022-08-14T15:27:43.497Z"
   },
   {
    "duration": 5,
    "start_time": "2022-08-14T15:28:18.196Z"
   },
   {
    "duration": 28,
    "start_time": "2022-08-14T15:28:21.792Z"
   },
   {
    "duration": 26,
    "start_time": "2022-08-14T15:28:29.268Z"
   },
   {
    "duration": 22,
    "start_time": "2022-08-14T15:28:57.548Z"
   },
   {
    "duration": 23,
    "start_time": "2022-08-14T15:29:21.703Z"
   },
   {
    "duration": 27,
    "start_time": "2022-08-14T15:29:41.994Z"
   },
   {
    "duration": 25,
    "start_time": "2022-08-14T15:29:51.663Z"
   },
   {
    "duration": 21,
    "start_time": "2022-08-14T15:29:55.764Z"
   },
   {
    "duration": 24,
    "start_time": "2022-08-14T15:32:05.267Z"
   },
   {
    "duration": 20,
    "start_time": "2022-08-14T15:32:47.214Z"
   },
   {
    "duration": 24,
    "start_time": "2022-08-14T15:34:00.572Z"
   },
   {
    "duration": 28,
    "start_time": "2022-08-14T15:35:02.217Z"
   },
   {
    "duration": 459,
    "start_time": "2022-08-14T15:35:12.985Z"
   },
   {
    "duration": 207,
    "start_time": "2022-08-14T15:35:13.447Z"
   },
   {
    "duration": 43,
    "start_time": "2022-08-14T15:35:13.656Z"
   },
   {
    "duration": 19,
    "start_time": "2022-08-14T15:35:13.709Z"
   },
   {
    "duration": 17,
    "start_time": "2022-08-14T15:35:13.730Z"
   },
   {
    "duration": 49,
    "start_time": "2022-08-14T15:35:13.749Z"
   },
   {
    "duration": 10,
    "start_time": "2022-08-14T15:35:13.800Z"
   },
   {
    "duration": 30,
    "start_time": "2022-08-14T15:35:13.815Z"
   },
   {
    "duration": 34,
    "start_time": "2022-08-14T15:35:13.847Z"
   },
   {
    "duration": 23,
    "start_time": "2022-08-14T15:35:13.885Z"
   },
   {
    "duration": 22,
    "start_time": "2022-08-14T15:35:13.910Z"
   },
   {
    "duration": 31,
    "start_time": "2022-08-14T15:35:13.934Z"
   },
   {
    "duration": 34,
    "start_time": "2022-08-14T15:35:13.967Z"
   },
   {
    "duration": 66,
    "start_time": "2022-08-14T15:35:14.005Z"
   },
   {
    "duration": 29,
    "start_time": "2022-08-14T15:35:14.073Z"
   },
   {
    "duration": 22,
    "start_time": "2022-08-14T15:35:14.106Z"
   },
   {
    "duration": 6,
    "start_time": "2022-08-14T15:35:14.130Z"
   },
   {
    "duration": 8,
    "start_time": "2022-08-14T15:35:14.138Z"
   },
   {
    "duration": 17,
    "start_time": "2022-08-14T15:35:14.147Z"
   },
   {
    "duration": 12,
    "start_time": "2022-08-14T15:35:14.197Z"
   },
   {
    "duration": 7,
    "start_time": "2022-08-14T15:35:14.212Z"
   },
   {
    "duration": 29,
    "start_time": "2022-08-14T15:35:14.221Z"
   },
   {
    "duration": 57,
    "start_time": "2022-08-14T15:35:14.252Z"
   },
   {
    "duration": 6,
    "start_time": "2022-08-14T15:35:14.311Z"
   },
   {
    "duration": 7,
    "start_time": "2022-08-14T15:35:14.319Z"
   },
   {
    "duration": 641,
    "start_time": "2022-08-14T15:35:14.328Z"
   },
   {
    "duration": 21,
    "start_time": "2022-08-14T15:35:14.971Z"
   },
   {
    "duration": 113,
    "start_time": "2022-08-14T15:35:15.006Z"
   },
   {
    "duration": 917,
    "start_time": "2022-08-14T15:35:15.121Z"
   },
   {
    "duration": 8,
    "start_time": "2022-08-14T15:35:16.040Z"
   },
   {
    "duration": 270,
    "start_time": "2022-08-14T15:35:16.050Z"
   },
   {
    "duration": 188,
    "start_time": "2022-08-14T15:35:16.322Z"
   },
   {
    "duration": 25,
    "start_time": "2022-08-14T15:36:44.574Z"
   },
   {
    "duration": 21,
    "start_time": "2022-08-14T15:37:58.122Z"
   },
   {
    "duration": 16,
    "start_time": "2022-08-14T15:51:05.259Z"
   },
   {
    "duration": 21,
    "start_time": "2022-08-14T15:52:53.832Z"
   },
   {
    "duration": 23,
    "start_time": "2022-08-14T16:03:10.537Z"
   },
   {
    "duration": 21,
    "start_time": "2022-08-14T16:04:28.139Z"
   },
   {
    "duration": 21,
    "start_time": "2022-08-14T16:04:34.653Z"
   },
   {
    "duration": 23,
    "start_time": "2022-08-14T16:04:45.947Z"
   },
   {
    "duration": 22,
    "start_time": "2022-08-14T16:05:11.682Z"
   },
   {
    "duration": 24,
    "start_time": "2022-08-14T16:05:33.363Z"
   },
   {
    "duration": 18,
    "start_time": "2022-08-14T16:05:58.473Z"
   },
   {
    "duration": 20,
    "start_time": "2022-08-14T16:07:19.316Z"
   },
   {
    "duration": 20,
    "start_time": "2022-08-14T16:07:28.782Z"
   },
   {
    "duration": 471,
    "start_time": "2022-08-14T16:11:04.826Z"
   },
   {
    "duration": 201,
    "start_time": "2022-08-14T16:11:05.300Z"
   },
   {
    "duration": 23,
    "start_time": "2022-08-14T16:11:05.503Z"
   },
   {
    "duration": 18,
    "start_time": "2022-08-14T16:11:05.529Z"
   },
   {
    "duration": 43,
    "start_time": "2022-08-14T16:11:05.549Z"
   },
   {
    "duration": 17,
    "start_time": "2022-08-14T16:11:05.594Z"
   },
   {
    "duration": 39,
    "start_time": "2022-08-14T16:11:05.613Z"
   },
   {
    "duration": 7,
    "start_time": "2022-08-14T16:11:05.655Z"
   },
   {
    "duration": 44,
    "start_time": "2022-08-14T16:11:05.664Z"
   },
   {
    "duration": 14,
    "start_time": "2022-08-14T16:11:05.711Z"
   },
   {
    "duration": 14,
    "start_time": "2022-08-14T16:11:05.727Z"
   },
   {
    "duration": 30,
    "start_time": "2022-08-14T16:11:05.744Z"
   },
   {
    "duration": 24,
    "start_time": "2022-08-14T16:11:05.791Z"
   },
   {
    "duration": 10,
    "start_time": "2022-08-14T16:11:05.818Z"
   },
   {
    "duration": 74,
    "start_time": "2022-08-14T16:11:05.830Z"
   },
   {
    "duration": 9,
    "start_time": "2022-08-14T16:11:05.906Z"
   },
   {
    "duration": 25,
    "start_time": "2022-08-14T16:11:05.917Z"
   },
   {
    "duration": 6,
    "start_time": "2022-08-14T16:11:05.944Z"
   },
   {
    "duration": 42,
    "start_time": "2022-08-14T16:11:05.952Z"
   },
   {
    "duration": 10,
    "start_time": "2022-08-14T16:11:05.996Z"
   },
   {
    "duration": 10,
    "start_time": "2022-08-14T16:11:06.008Z"
   },
   {
    "duration": 14,
    "start_time": "2022-08-14T16:11:06.020Z"
   },
   {
    "duration": 28,
    "start_time": "2022-08-14T16:11:06.036Z"
   },
   {
    "duration": 58,
    "start_time": "2022-08-14T16:11:06.066Z"
   },
   {
    "duration": 9,
    "start_time": "2022-08-14T16:11:06.126Z"
   },
   {
    "duration": 9,
    "start_time": "2022-08-14T16:11:06.137Z"
   },
   {
    "duration": 485,
    "start_time": "2022-08-14T16:11:06.148Z"
   },
   {
    "duration": 20,
    "start_time": "2022-08-14T16:11:06.637Z"
   },
   {
    "duration": 38,
    "start_time": "2022-08-14T16:11:06.660Z"
   },
   {
    "duration": 997,
    "start_time": "2022-08-14T16:11:06.700Z"
   },
   {
    "duration": 16,
    "start_time": "2022-08-14T16:11:07.699Z"
   },
   {
    "duration": 279,
    "start_time": "2022-08-14T16:11:07.716Z"
   },
   {
    "duration": 182,
    "start_time": "2022-08-14T16:11:07.997Z"
   },
   {
    "duration": 23,
    "start_time": "2022-08-14T16:11:51.582Z"
   },
   {
    "duration": 87,
    "start_time": "2022-08-14T16:20:57.061Z"
   },
   {
    "duration": 31,
    "start_time": "2022-08-14T16:21:21.926Z"
   },
   {
    "duration": 35,
    "start_time": "2022-08-14T16:21:34.531Z"
   },
   {
    "duration": 34,
    "start_time": "2022-08-14T16:21:59.181Z"
   },
   {
    "duration": 37,
    "start_time": "2022-08-14T16:22:04.607Z"
   },
   {
    "duration": 49,
    "start_time": "2022-08-14T16:22:23.442Z"
   },
   {
    "duration": 33,
    "start_time": "2022-08-14T16:22:35.828Z"
   },
   {
    "duration": 440,
    "start_time": "2022-08-14T16:22:50.394Z"
   },
   {
    "duration": 179,
    "start_time": "2022-08-14T16:22:50.836Z"
   },
   {
    "duration": 38,
    "start_time": "2022-08-14T16:22:51.017Z"
   },
   {
    "duration": 34,
    "start_time": "2022-08-14T16:22:51.059Z"
   },
   {
    "duration": 35,
    "start_time": "2022-08-14T16:22:51.095Z"
   },
   {
    "duration": 7,
    "start_time": "2022-08-14T16:22:51.132Z"
   },
   {
    "duration": 51,
    "start_time": "2022-08-14T16:22:51.141Z"
   },
   {
    "duration": 15,
    "start_time": "2022-08-14T16:22:51.194Z"
   },
   {
    "duration": 13,
    "start_time": "2022-08-14T16:22:51.211Z"
   },
   {
    "duration": 21,
    "start_time": "2022-08-14T16:22:51.226Z"
   },
   {
    "duration": 47,
    "start_time": "2022-08-14T16:22:51.249Z"
   },
   {
    "duration": 12,
    "start_time": "2022-08-14T16:22:51.298Z"
   },
   {
    "duration": 86,
    "start_time": "2022-08-14T16:22:51.312Z"
   },
   {
    "duration": 8,
    "start_time": "2022-08-14T16:22:51.400Z"
   },
   {
    "duration": 20,
    "start_time": "2022-08-14T16:22:51.410Z"
   },
   {
    "duration": 7,
    "start_time": "2022-08-14T16:22:51.432Z"
   },
   {
    "duration": 6,
    "start_time": "2022-08-14T16:22:51.440Z"
   },
   {
    "duration": 46,
    "start_time": "2022-08-14T16:22:51.448Z"
   },
   {
    "duration": 6,
    "start_time": "2022-08-14T16:22:51.496Z"
   },
   {
    "duration": 7,
    "start_time": "2022-08-14T16:22:51.504Z"
   },
   {
    "duration": 29,
    "start_time": "2022-08-14T16:22:51.513Z"
   },
   {
    "duration": 56,
    "start_time": "2022-08-14T16:22:51.543Z"
   },
   {
    "duration": 6,
    "start_time": "2022-08-14T16:22:51.601Z"
   },
   {
    "duration": 11,
    "start_time": "2022-08-14T16:22:51.609Z"
   },
   {
    "duration": 594,
    "start_time": "2022-08-14T16:22:51.622Z"
   },
   {
    "duration": 14,
    "start_time": "2022-08-14T16:22:52.218Z"
   },
   {
    "duration": 17,
    "start_time": "2022-08-14T16:22:52.234Z"
   },
   {
    "duration": 831,
    "start_time": "2022-08-14T16:22:52.254Z"
   },
   {
    "duration": 9,
    "start_time": "2022-08-14T16:22:53.086Z"
   },
   {
    "duration": 240,
    "start_time": "2022-08-14T16:22:53.097Z"
   },
   {
    "duration": 174,
    "start_time": "2022-08-14T16:22:53.339Z"
   },
   {
    "duration": 28,
    "start_time": "2022-08-14T16:23:01.943Z"
   },
   {
    "duration": 17,
    "start_time": "2022-08-14T16:23:26.981Z"
   },
   {
    "duration": 18,
    "start_time": "2022-08-14T16:23:34.576Z"
   },
   {
    "duration": 50,
    "start_time": "2022-08-14T16:30:14.002Z"
   },
   {
    "duration": 19,
    "start_time": "2022-08-14T16:31:27.295Z"
   },
   {
    "duration": 6,
    "start_time": "2022-08-14T17:07:37.993Z"
   },
   {
    "duration": 15,
    "start_time": "2022-08-14T17:08:23.920Z"
   },
   {
    "duration": 37,
    "start_time": "2022-08-14T17:10:20.407Z"
   },
   {
    "duration": 24,
    "start_time": "2022-08-14T17:11:39.087Z"
   },
   {
    "duration": 22,
    "start_time": "2022-08-14T17:11:54.958Z"
   },
   {
    "duration": 19,
    "start_time": "2022-08-14T17:13:34.982Z"
   },
   {
    "duration": 15,
    "start_time": "2022-08-14T17:14:02.420Z"
   },
   {
    "duration": 11,
    "start_time": "2022-08-14T17:14:56.425Z"
   },
   {
    "duration": 11,
    "start_time": "2022-08-14T17:17:19.435Z"
   },
   {
    "duration": 14,
    "start_time": "2022-08-14T17:24:13.092Z"
   },
   {
    "duration": 1282,
    "start_time": "2022-08-14T17:27:08.790Z"
   },
   {
    "duration": 14,
    "start_time": "2022-08-14T17:27:36.635Z"
   },
   {
    "duration": 464,
    "start_time": "2022-08-14T17:27:41.385Z"
   },
   {
    "duration": 217,
    "start_time": "2022-08-14T17:27:41.852Z"
   },
   {
    "duration": 53,
    "start_time": "2022-08-14T17:27:42.072Z"
   },
   {
    "duration": 15,
    "start_time": "2022-08-14T17:27:42.128Z"
   },
   {
    "duration": 16,
    "start_time": "2022-08-14T17:27:42.144Z"
   },
   {
    "duration": 47,
    "start_time": "2022-08-14T17:27:42.162Z"
   },
   {
    "duration": 7,
    "start_time": "2022-08-14T17:27:42.211Z"
   },
   {
    "duration": 25,
    "start_time": "2022-08-14T17:27:42.220Z"
   },
   {
    "duration": 12,
    "start_time": "2022-08-14T17:27:42.247Z"
   },
   {
    "duration": 36,
    "start_time": "2022-08-14T17:27:42.263Z"
   },
   {
    "duration": 20,
    "start_time": "2022-08-14T17:27:42.301Z"
   },
   {
    "duration": 27,
    "start_time": "2022-08-14T17:27:42.323Z"
   },
   {
    "duration": 44,
    "start_time": "2022-08-14T17:27:42.351Z"
   },
   {
    "duration": 58,
    "start_time": "2022-08-14T17:27:42.397Z"
   },
   {
    "duration": 6,
    "start_time": "2022-08-14T17:27:42.457Z"
   },
   {
    "duration": 42,
    "start_time": "2022-08-14T17:27:42.464Z"
   },
   {
    "duration": 32,
    "start_time": "2022-08-14T17:27:42.507Z"
   },
   {
    "duration": 5,
    "start_time": "2022-08-14T17:27:42.541Z"
   },
   {
    "duration": 10,
    "start_time": "2022-08-14T17:27:42.548Z"
   },
   {
    "duration": 11,
    "start_time": "2022-08-14T17:27:42.559Z"
   },
   {
    "duration": 24,
    "start_time": "2022-08-14T17:27:42.571Z"
   },
   {
    "duration": 25,
    "start_time": "2022-08-14T17:27:42.597Z"
   },
   {
    "duration": 34,
    "start_time": "2022-08-14T17:27:42.623Z"
   },
   {
    "duration": 5,
    "start_time": "2022-08-14T17:27:42.659Z"
   },
   {
    "duration": 4,
    "start_time": "2022-08-14T17:27:42.692Z"
   },
   {
    "duration": 418,
    "start_time": "2022-08-14T17:27:42.698Z"
   },
   {
    "duration": 14,
    "start_time": "2022-08-14T17:27:43.118Z"
   },
   {
    "duration": 13,
    "start_time": "2022-08-14T17:27:43.135Z"
   },
   {
    "duration": 892,
    "start_time": "2022-08-14T17:27:43.150Z"
   },
   {
    "duration": 8,
    "start_time": "2022-08-14T17:27:44.043Z"
   },
   {
    "duration": 249,
    "start_time": "2022-08-14T17:27:44.053Z"
   },
   {
    "duration": 163,
    "start_time": "2022-08-14T17:27:44.304Z"
   },
   {
    "duration": 6,
    "start_time": "2022-08-14T17:28:36.361Z"
   },
   {
    "duration": 4,
    "start_time": "2022-08-14T17:30:10.034Z"
   },
   {
    "duration": 10,
    "start_time": "2022-08-14T17:30:21.886Z"
   },
   {
    "duration": 4,
    "start_time": "2022-08-14T17:30:32.462Z"
   },
   {
    "duration": 7,
    "start_time": "2022-08-14T17:30:51.763Z"
   },
   {
    "duration": 5,
    "start_time": "2022-08-14T17:30:59.096Z"
   },
   {
    "duration": 5,
    "start_time": "2022-08-14T17:31:13.184Z"
   },
   {
    "duration": 90,
    "start_time": "2022-08-14T17:31:32.331Z"
   },
   {
    "duration": 449,
    "start_time": "2022-08-14T17:32:01.953Z"
   },
   {
    "duration": 191,
    "start_time": "2022-08-14T17:32:02.404Z"
   },
   {
    "duration": 53,
    "start_time": "2022-08-14T17:32:02.597Z"
   },
   {
    "duration": 15,
    "start_time": "2022-08-14T17:32:02.652Z"
   },
   {
    "duration": 36,
    "start_time": "2022-08-14T17:32:02.669Z"
   },
   {
    "duration": 23,
    "start_time": "2022-08-14T17:32:02.707Z"
   },
   {
    "duration": 6,
    "start_time": "2022-08-14T17:32:02.731Z"
   },
   {
    "duration": 25,
    "start_time": "2022-08-14T17:32:02.739Z"
   },
   {
    "duration": 30,
    "start_time": "2022-08-14T17:32:02.766Z"
   },
   {
    "duration": 10,
    "start_time": "2022-08-14T17:32:02.799Z"
   },
   {
    "duration": 19,
    "start_time": "2022-08-14T17:32:02.810Z"
   },
   {
    "duration": 26,
    "start_time": "2022-08-14T17:32:02.830Z"
   },
   {
    "duration": 43,
    "start_time": "2022-08-14T17:32:02.857Z"
   },
   {
    "duration": 58,
    "start_time": "2022-08-14T17:32:02.902Z"
   },
   {
    "duration": 31,
    "start_time": "2022-08-14T17:32:02.961Z"
   },
   {
    "duration": 19,
    "start_time": "2022-08-14T17:32:02.994Z"
   },
   {
    "duration": 5,
    "start_time": "2022-08-14T17:32:03.015Z"
   },
   {
    "duration": 12,
    "start_time": "2022-08-14T17:32:03.021Z"
   },
   {
    "duration": 8,
    "start_time": "2022-08-14T17:32:03.035Z"
   },
   {
    "duration": 10,
    "start_time": "2022-08-14T17:32:03.044Z"
   },
   {
    "duration": 41,
    "start_time": "2022-08-14T17:32:03.056Z"
   },
   {
    "duration": 11,
    "start_time": "2022-08-14T17:32:03.099Z"
   },
   {
    "duration": 13,
    "start_time": "2022-08-14T17:32:03.112Z"
   },
   {
    "duration": 15,
    "start_time": "2022-08-14T17:32:03.127Z"
   },
   {
    "duration": 9,
    "start_time": "2022-08-14T17:32:03.143Z"
   },
   {
    "duration": 7,
    "start_time": "2022-08-14T17:32:03.154Z"
   },
   {
    "duration": 51,
    "start_time": "2022-08-14T17:32:03.163Z"
   },
   {
    "duration": 37,
    "start_time": "2022-08-14T17:32:03.218Z"
   },
   {
    "duration": 6,
    "start_time": "2022-08-14T17:32:03.257Z"
   },
   {
    "duration": 29,
    "start_time": "2022-08-14T17:32:03.265Z"
   },
   {
    "duration": 414,
    "start_time": "2022-08-14T17:32:03.296Z"
   },
   {
    "duration": 13,
    "start_time": "2022-08-14T17:32:03.712Z"
   },
   {
    "duration": 14,
    "start_time": "2022-08-14T17:32:03.727Z"
   },
   {
    "duration": 867,
    "start_time": "2022-08-14T17:32:03.743Z"
   },
   {
    "duration": 7,
    "start_time": "2022-08-14T17:32:04.612Z"
   },
   {
    "duration": 245,
    "start_time": "2022-08-14T17:32:04.621Z"
   },
   {
    "duration": 167,
    "start_time": "2022-08-14T17:32:04.868Z"
   },
   {
    "duration": 462,
    "start_time": "2022-08-14T18:40:10.763Z"
   },
   {
    "duration": 192,
    "start_time": "2022-08-14T18:40:11.227Z"
   },
   {
    "duration": 54,
    "start_time": "2022-08-14T18:40:11.421Z"
   },
   {
    "duration": 27,
    "start_time": "2022-08-14T18:40:11.477Z"
   },
   {
    "duration": 19,
    "start_time": "2022-08-14T18:40:11.505Z"
   },
   {
    "duration": 26,
    "start_time": "2022-08-14T18:40:11.526Z"
   },
   {
    "duration": 7,
    "start_time": "2022-08-14T18:40:11.553Z"
   },
   {
    "duration": 24,
    "start_time": "2022-08-14T18:40:11.591Z"
   },
   {
    "duration": 11,
    "start_time": "2022-08-14T18:40:11.617Z"
   },
   {
    "duration": 12,
    "start_time": "2022-08-14T18:40:11.631Z"
   },
   {
    "duration": 20,
    "start_time": "2022-08-14T18:40:11.644Z"
   },
   {
    "duration": 53,
    "start_time": "2022-08-14T18:40:11.665Z"
   },
   {
    "duration": 11,
    "start_time": "2022-08-14T18:40:11.719Z"
   },
   {
    "duration": 95,
    "start_time": "2022-08-14T18:40:11.732Z"
   },
   {
    "duration": 7,
    "start_time": "2022-08-14T18:40:11.829Z"
   },
   {
    "duration": 21,
    "start_time": "2022-08-14T18:40:11.838Z"
   },
   {
    "duration": 50,
    "start_time": "2022-08-14T18:40:11.861Z"
   },
   {
    "duration": 20,
    "start_time": "2022-08-14T18:40:11.913Z"
   },
   {
    "duration": 9,
    "start_time": "2022-08-14T18:40:11.935Z"
   },
   {
    "duration": 22,
    "start_time": "2022-08-14T18:40:11.946Z"
   },
   {
    "duration": 7,
    "start_time": "2022-08-14T18:40:11.970Z"
   },
   {
    "duration": 15,
    "start_time": "2022-08-14T18:40:11.979Z"
   },
   {
    "duration": 18,
    "start_time": "2022-08-14T18:40:11.996Z"
   },
   {
    "duration": 15,
    "start_time": "2022-08-14T18:40:12.016Z"
   },
   {
    "duration": 5,
    "start_time": "2022-08-14T18:40:12.034Z"
   },
   {
    "duration": 52,
    "start_time": "2022-08-14T18:40:12.041Z"
   },
   {
    "duration": 46,
    "start_time": "2022-08-14T18:40:12.095Z"
   },
   {
    "duration": 7,
    "start_time": "2022-08-14T18:40:12.144Z"
   },
   {
    "duration": 7,
    "start_time": "2022-08-14T18:40:12.152Z"
   },
   {
    "duration": 552,
    "start_time": "2022-08-14T18:40:12.161Z"
   },
   {
    "duration": 13,
    "start_time": "2022-08-14T18:40:12.715Z"
   },
   {
    "duration": 15,
    "start_time": "2022-08-14T18:40:12.730Z"
   },
   {
    "duration": 883,
    "start_time": "2022-08-14T18:40:12.748Z"
   },
   {
    "duration": 7,
    "start_time": "2022-08-14T18:40:13.632Z"
   },
   {
    "duration": 245,
    "start_time": "2022-08-14T18:40:13.641Z"
   },
   {
    "duration": 182,
    "start_time": "2022-08-14T18:40:13.892Z"
   },
   {
    "duration": 439,
    "start_time": "2022-08-14T18:44:28.166Z"
   },
   {
    "duration": 195,
    "start_time": "2022-08-14T18:44:28.607Z"
   },
   {
    "duration": 54,
    "start_time": "2022-08-14T18:44:28.804Z"
   },
   {
    "duration": 16,
    "start_time": "2022-08-14T18:44:28.860Z"
   },
   {
    "duration": 23,
    "start_time": "2022-08-14T18:44:28.894Z"
   },
   {
    "duration": 27,
    "start_time": "2022-08-14T18:44:28.919Z"
   },
   {
    "duration": 7,
    "start_time": "2022-08-14T18:44:28.947Z"
   },
   {
    "duration": 60,
    "start_time": "2022-08-14T18:44:28.956Z"
   },
   {
    "duration": 11,
    "start_time": "2022-08-14T18:44:29.017Z"
   },
   {
    "duration": 13,
    "start_time": "2022-08-14T18:44:29.030Z"
   },
   {
    "duration": 18,
    "start_time": "2022-08-14T18:44:29.045Z"
   },
   {
    "duration": 60,
    "start_time": "2022-08-14T18:44:29.065Z"
   },
   {
    "duration": 11,
    "start_time": "2022-08-14T18:44:29.127Z"
   },
   {
    "duration": 88,
    "start_time": "2022-08-14T18:44:29.140Z"
   },
   {
    "duration": 8,
    "start_time": "2022-08-14T18:44:29.230Z"
   },
   {
    "duration": 18,
    "start_time": "2022-08-14T18:44:29.240Z"
   },
   {
    "duration": 36,
    "start_time": "2022-08-14T18:44:29.260Z"
   },
   {
    "duration": 23,
    "start_time": "2022-08-14T18:44:29.298Z"
   },
   {
    "duration": 5,
    "start_time": "2022-08-14T18:44:29.323Z"
   },
   {
    "duration": 14,
    "start_time": "2022-08-14T18:44:29.330Z"
   },
   {
    "duration": 6,
    "start_time": "2022-08-14T18:44:29.346Z"
   },
   {
    "duration": 11,
    "start_time": "2022-08-14T18:44:29.353Z"
   },
   {
    "duration": 17,
    "start_time": "2022-08-14T18:44:29.392Z"
   },
   {
    "duration": 10,
    "start_time": "2022-08-14T18:44:29.411Z"
   },
   {
    "duration": 5,
    "start_time": "2022-08-14T18:44:29.422Z"
   },
   {
    "duration": 31,
    "start_time": "2022-08-14T18:44:29.429Z"
   },
   {
    "duration": 71,
    "start_time": "2022-08-14T18:44:29.462Z"
   },
   {
    "duration": 6,
    "start_time": "2022-08-14T18:44:29.536Z"
   },
   {
    "duration": 6,
    "start_time": "2022-08-14T18:44:29.544Z"
   },
   {
    "duration": 485,
    "start_time": "2022-08-14T18:44:29.552Z"
   },
   {
    "duration": 15,
    "start_time": "2022-08-14T18:44:30.039Z"
   },
   {
    "duration": 12,
    "start_time": "2022-08-14T18:44:30.056Z"
   },
   {
    "duration": 939,
    "start_time": "2022-08-14T18:44:30.070Z"
   },
   {
    "duration": 10,
    "start_time": "2022-08-14T18:44:31.011Z"
   },
   {
    "duration": 294,
    "start_time": "2022-08-14T18:44:31.023Z"
   },
   {
    "duration": 205,
    "start_time": "2022-08-14T18:44:31.319Z"
   },
   {
    "duration": 58,
    "start_time": "2022-08-14T18:44:55.057Z"
   },
   {
    "duration": 433,
    "start_time": "2022-08-15T12:56:41.673Z"
   },
   {
    "duration": 304,
    "start_time": "2022-08-15T12:56:42.108Z"
   },
   {
    "duration": 44,
    "start_time": "2022-08-15T12:56:42.414Z"
   },
   {
    "duration": 31,
    "start_time": "2022-08-15T12:56:42.459Z"
   },
   {
    "duration": 14,
    "start_time": "2022-08-15T12:56:42.492Z"
   },
   {
    "duration": 19,
    "start_time": "2022-08-15T12:56:42.508Z"
   },
   {
    "duration": 5,
    "start_time": "2022-08-15T12:56:42.528Z"
   },
   {
    "duration": 23,
    "start_time": "2022-08-15T12:56:42.535Z"
   },
   {
    "duration": 34,
    "start_time": "2022-08-15T12:56:42.560Z"
   },
   {
    "duration": 9,
    "start_time": "2022-08-15T12:56:42.596Z"
   },
   {
    "duration": 16,
    "start_time": "2022-08-15T12:56:42.606Z"
   },
   {
    "duration": 21,
    "start_time": "2022-08-15T12:56:42.624Z"
   },
   {
    "duration": 8,
    "start_time": "2022-08-15T12:56:42.647Z"
   },
   {
    "duration": 50,
    "start_time": "2022-08-15T12:56:42.686Z"
   },
   {
    "duration": 5,
    "start_time": "2022-08-15T12:56:42.737Z"
   },
   {
    "duration": 56,
    "start_time": "2022-08-15T12:56:42.744Z"
   },
   {
    "duration": 6,
    "start_time": "2022-08-15T12:56:42.801Z"
   },
   {
    "duration": 16,
    "start_time": "2022-08-15T12:56:42.808Z"
   },
   {
    "duration": 4,
    "start_time": "2022-08-15T12:56:42.825Z"
   },
   {
    "duration": 12,
    "start_time": "2022-08-15T12:56:42.831Z"
   },
   {
    "duration": 8,
    "start_time": "2022-08-15T12:56:42.844Z"
   },
   {
    "duration": 6,
    "start_time": "2022-08-15T12:56:42.853Z"
   },
   {
    "duration": 25,
    "start_time": "2022-08-15T12:56:42.861Z"
   },
   {
    "duration": 5,
    "start_time": "2022-08-15T12:56:42.888Z"
   },
   {
    "duration": 9,
    "start_time": "2022-08-15T12:56:42.894Z"
   },
   {
    "duration": 29,
    "start_time": "2022-08-15T12:56:42.904Z"
   },
   {
    "duration": 40,
    "start_time": "2022-08-15T12:56:42.935Z"
   },
   {
    "duration": 10,
    "start_time": "2022-08-15T12:56:42.978Z"
   },
   {
    "duration": 7,
    "start_time": "2022-08-15T12:56:42.989Z"
   },
   {
    "duration": 492,
    "start_time": "2022-08-15T12:56:42.997Z"
   },
   {
    "duration": 13,
    "start_time": "2022-08-15T12:56:43.491Z"
   },
   {
    "duration": 10,
    "start_time": "2022-08-15T12:56:43.505Z"
   },
   {
    "duration": 752,
    "start_time": "2022-08-15T12:56:43.517Z"
   },
   {
    "duration": 6,
    "start_time": "2022-08-15T12:56:44.271Z"
   },
   {
    "duration": 202,
    "start_time": "2022-08-15T12:56:44.287Z"
   },
   {
    "duration": 148,
    "start_time": "2022-08-15T12:56:44.490Z"
   },
   {
    "duration": 4,
    "start_time": "2022-08-15T14:07:49.321Z"
   },
   {
    "duration": 5,
    "start_time": "2022-08-15T14:08:18.402Z"
   },
   {
    "duration": 4,
    "start_time": "2022-08-15T14:08:32.056Z"
   },
   {
    "duration": 5,
    "start_time": "2022-08-15T14:09:24.563Z"
   },
   {
    "duration": 89,
    "start_time": "2022-08-15T14:10:46.424Z"
   },
   {
    "duration": 69,
    "start_time": "2022-08-15T14:11:04.310Z"
   },
   {
    "duration": 5,
    "start_time": "2022-08-15T14:11:21.007Z"
   },
   {
    "duration": 15,
    "start_time": "2022-08-15T14:39:40.385Z"
   },
   {
    "duration": 364,
    "start_time": "2022-08-15T14:39:49.625Z"
   },
   {
    "duration": 171,
    "start_time": "2022-08-15T14:39:49.991Z"
   },
   {
    "duration": 44,
    "start_time": "2022-08-15T14:39:50.164Z"
   },
   {
    "duration": 14,
    "start_time": "2022-08-15T14:39:50.209Z"
   },
   {
    "duration": 15,
    "start_time": "2022-08-15T14:39:50.224Z"
   },
   {
    "duration": 46,
    "start_time": "2022-08-15T14:39:50.240Z"
   },
   {
    "duration": 6,
    "start_time": "2022-08-15T14:39:50.288Z"
   },
   {
    "duration": 21,
    "start_time": "2022-08-15T14:39:50.295Z"
   },
   {
    "duration": 12,
    "start_time": "2022-08-15T14:39:50.318Z"
   },
   {
    "duration": 10,
    "start_time": "2022-08-15T14:39:50.333Z"
   },
   {
    "duration": 45,
    "start_time": "2022-08-15T14:39:50.345Z"
   },
   {
    "duration": 24,
    "start_time": "2022-08-15T14:39:50.391Z"
   },
   {
    "duration": 13,
    "start_time": "2022-08-15T14:39:50.416Z"
   },
   {
    "duration": 80,
    "start_time": "2022-08-15T14:39:50.431Z"
   },
   {
    "duration": 5,
    "start_time": "2022-08-15T14:39:50.513Z"
   },
   {
    "duration": 39,
    "start_time": "2022-08-15T14:39:50.520Z"
   },
   {
    "duration": 6,
    "start_time": "2022-08-15T14:39:50.587Z"
   },
   {
    "duration": 16,
    "start_time": "2022-08-15T14:39:50.595Z"
   },
   {
    "duration": 5,
    "start_time": "2022-08-15T14:39:50.613Z"
   },
   {
    "duration": 7,
    "start_time": "2022-08-15T14:39:50.620Z"
   },
   {
    "duration": 5,
    "start_time": "2022-08-15T14:39:50.629Z"
   },
   {
    "duration": 6,
    "start_time": "2022-08-15T14:39:50.635Z"
   },
   {
    "duration": 9,
    "start_time": "2022-08-15T14:39:50.643Z"
   },
   {
    "duration": 6,
    "start_time": "2022-08-15T14:39:50.689Z"
   },
   {
    "duration": 13,
    "start_time": "2022-08-15T14:39:50.697Z"
   },
   {
    "duration": 19,
    "start_time": "2022-08-15T14:39:50.712Z"
   },
   {
    "duration": 34,
    "start_time": "2022-08-15T14:39:50.733Z"
   },
   {
    "duration": 33,
    "start_time": "2022-08-15T14:39:50.770Z"
   },
   {
    "duration": 5,
    "start_time": "2022-08-15T14:39:50.805Z"
   },
   {
    "duration": 27,
    "start_time": "2022-08-15T14:39:50.812Z"
   },
   {
    "duration": 365,
    "start_time": "2022-08-15T14:39:50.841Z"
   },
   {
    "duration": 13,
    "start_time": "2022-08-15T14:39:51.208Z"
   },
   {
    "duration": 18,
    "start_time": "2022-08-15T14:39:51.223Z"
   },
   {
    "duration": 754,
    "start_time": "2022-08-15T14:39:51.243Z"
   },
   {
    "duration": 7,
    "start_time": "2022-08-15T14:39:51.999Z"
   },
   {
    "duration": 227,
    "start_time": "2022-08-15T14:39:52.008Z"
   },
   {
    "duration": 151,
    "start_time": "2022-08-15T14:39:52.236Z"
   },
   {
    "duration": 357,
    "start_time": "2022-08-15T14:49:08.123Z"
   },
   {
    "duration": 162,
    "start_time": "2022-08-15T14:49:08.482Z"
   },
   {
    "duration": 48,
    "start_time": "2022-08-15T14:49:08.645Z"
   },
   {
    "duration": 14,
    "start_time": "2022-08-15T14:49:08.695Z"
   },
   {
    "duration": 41,
    "start_time": "2022-08-15T14:49:08.711Z"
   },
   {
    "duration": 30,
    "start_time": "2022-08-15T14:49:08.755Z"
   },
   {
    "duration": 21,
    "start_time": "2022-08-15T14:49:08.787Z"
   },
   {
    "duration": 38,
    "start_time": "2022-08-15T14:49:08.810Z"
   },
   {
    "duration": 34,
    "start_time": "2022-08-15T14:49:08.850Z"
   },
   {
    "duration": 17,
    "start_time": "2022-08-15T14:49:08.887Z"
   },
   {
    "duration": 42,
    "start_time": "2022-08-15T14:49:08.905Z"
   },
   {
    "duration": 36,
    "start_time": "2022-08-15T14:49:08.948Z"
   },
   {
    "duration": 13,
    "start_time": "2022-08-15T14:49:08.985Z"
   },
   {
    "duration": 76,
    "start_time": "2022-08-15T14:49:09.000Z"
   },
   {
    "duration": 7,
    "start_time": "2022-08-15T14:49:09.078Z"
   },
   {
    "duration": 45,
    "start_time": "2022-08-15T14:49:09.087Z"
   },
   {
    "duration": 5,
    "start_time": "2022-08-15T14:49:09.133Z"
   },
   {
    "duration": 32,
    "start_time": "2022-08-15T14:49:09.139Z"
   },
   {
    "duration": 16,
    "start_time": "2022-08-15T14:49:09.173Z"
   },
   {
    "duration": 20,
    "start_time": "2022-08-15T14:49:09.191Z"
   },
   {
    "duration": 15,
    "start_time": "2022-08-15T14:49:09.213Z"
   },
   {
    "duration": 15,
    "start_time": "2022-08-15T14:49:09.230Z"
   },
   {
    "duration": 11,
    "start_time": "2022-08-15T14:49:09.247Z"
   },
   {
    "duration": 19,
    "start_time": "2022-08-15T14:49:09.260Z"
   },
   {
    "duration": 106,
    "start_time": "2022-08-15T14:49:09.281Z"
   },
   {
    "duration": 0,
    "start_time": "2022-08-15T14:49:09.388Z"
   },
   {
    "duration": 0,
    "start_time": "2022-08-15T14:49:09.390Z"
   },
   {
    "duration": 0,
    "start_time": "2022-08-15T14:49:09.391Z"
   },
   {
    "duration": 0,
    "start_time": "2022-08-15T14:49:09.394Z"
   },
   {
    "duration": 0,
    "start_time": "2022-08-15T14:49:09.395Z"
   },
   {
    "duration": 0,
    "start_time": "2022-08-15T14:49:09.397Z"
   },
   {
    "duration": 0,
    "start_time": "2022-08-15T14:49:09.398Z"
   },
   {
    "duration": 0,
    "start_time": "2022-08-15T14:49:09.400Z"
   },
   {
    "duration": 0,
    "start_time": "2022-08-15T14:49:09.401Z"
   },
   {
    "duration": 0,
    "start_time": "2022-08-15T14:49:09.403Z"
   },
   {
    "duration": 0,
    "start_time": "2022-08-15T14:49:09.405Z"
   },
   {
    "duration": 0,
    "start_time": "2022-08-15T14:49:09.406Z"
   },
   {
    "duration": 81,
    "start_time": "2022-08-15T14:50:56.587Z"
   },
   {
    "duration": 19,
    "start_time": "2022-08-15T14:51:02.860Z"
   },
   {
    "duration": 11,
    "start_time": "2022-08-15T14:53:45.942Z"
   },
   {
    "duration": 60,
    "start_time": "2022-08-15T14:53:58.678Z"
   },
   {
    "duration": 21,
    "start_time": "2022-08-15T14:54:01.405Z"
   },
   {
    "duration": 20,
    "start_time": "2022-08-15T15:05:40.958Z"
   },
   {
    "duration": 13,
    "start_time": "2022-08-15T15:07:22.862Z"
   },
   {
    "duration": 12,
    "start_time": "2022-08-15T15:07:46.606Z"
   },
   {
    "duration": 16,
    "start_time": "2022-08-15T15:09:18.649Z"
   },
   {
    "duration": 456,
    "start_time": "2022-08-15T15:10:05.653Z"
   },
   {
    "duration": 209,
    "start_time": "2022-08-15T15:10:06.112Z"
   },
   {
    "duration": 87,
    "start_time": "2022-08-15T15:10:06.323Z"
   },
   {
    "duration": 20,
    "start_time": "2022-08-15T15:10:06.413Z"
   },
   {
    "duration": 28,
    "start_time": "2022-08-15T15:10:06.435Z"
   },
   {
    "duration": 40,
    "start_time": "2022-08-15T15:10:06.465Z"
   },
   {
    "duration": 8,
    "start_time": "2022-08-15T15:10:06.508Z"
   },
   {
    "duration": 36,
    "start_time": "2022-08-15T15:10:06.518Z"
   },
   {
    "duration": 14,
    "start_time": "2022-08-15T15:10:06.556Z"
   },
   {
    "duration": 18,
    "start_time": "2022-08-15T15:10:06.573Z"
   },
   {
    "duration": 27,
    "start_time": "2022-08-15T15:10:06.593Z"
   },
   {
    "duration": 37,
    "start_time": "2022-08-15T15:10:06.622Z"
   },
   {
    "duration": 13,
    "start_time": "2022-08-15T15:10:06.687Z"
   },
   {
    "duration": 57,
    "start_time": "2022-08-15T15:10:06.702Z"
   },
   {
    "duration": 27,
    "start_time": "2022-08-15T15:10:06.760Z"
   },
   {
    "duration": 25,
    "start_time": "2022-08-15T15:10:06.789Z"
   },
   {
    "duration": 5,
    "start_time": "2022-08-15T15:10:06.816Z"
   },
   {
    "duration": 17,
    "start_time": "2022-08-15T15:10:06.822Z"
   },
   {
    "duration": 4,
    "start_time": "2022-08-15T15:10:06.841Z"
   },
   {
    "duration": 48,
    "start_time": "2022-08-15T15:10:06.847Z"
   },
   {
    "duration": 7,
    "start_time": "2022-08-15T15:10:06.897Z"
   },
   {
    "duration": 6,
    "start_time": "2022-08-15T15:10:06.906Z"
   },
   {
    "duration": 16,
    "start_time": "2022-08-15T15:10:06.915Z"
   },
   {
    "duration": 8,
    "start_time": "2022-08-15T15:10:06.933Z"
   },
   {
    "duration": 53,
    "start_time": "2022-08-15T15:10:06.943Z"
   },
   {
    "duration": 24,
    "start_time": "2022-08-15T15:10:06.998Z"
   },
   {
    "duration": 20,
    "start_time": "2022-08-15T15:10:07.024Z"
   },
   {
    "duration": 6,
    "start_time": "2022-08-15T15:10:07.048Z"
   },
   {
    "duration": 53,
    "start_time": "2022-08-15T15:10:07.056Z"
   },
   {
    "duration": 40,
    "start_time": "2022-08-15T15:10:07.111Z"
   },
   {
    "duration": 7,
    "start_time": "2022-08-15T15:10:07.154Z"
   },
   {
    "duration": 4,
    "start_time": "2022-08-15T15:10:07.188Z"
   },
   {
    "duration": 387,
    "start_time": "2022-08-15T15:10:07.194Z"
   },
   {
    "duration": 14,
    "start_time": "2022-08-15T15:10:07.586Z"
   },
   {
    "duration": 21,
    "start_time": "2022-08-15T15:10:07.603Z"
   },
   {
    "duration": 811,
    "start_time": "2022-08-15T15:10:07.627Z"
   },
   {
    "duration": 7,
    "start_time": "2022-08-15T15:10:08.440Z"
   },
   {
    "duration": 228,
    "start_time": "2022-08-15T15:10:08.449Z"
   },
   {
    "duration": 160,
    "start_time": "2022-08-15T15:10:08.678Z"
   },
   {
    "duration": 168,
    "start_time": "2022-08-15T15:15:41.907Z"
   },
   {
    "duration": 160,
    "start_time": "2022-08-15T15:16:28.969Z"
   },
   {
    "duration": 175,
    "start_time": "2022-08-15T15:24:58.175Z"
   },
   {
    "duration": 15,
    "start_time": "2022-08-15T16:14:29.270Z"
   },
   {
    "duration": 14,
    "start_time": "2022-08-15T16:15:41.835Z"
   },
   {
    "duration": 14,
    "start_time": "2022-08-15T16:15:47.010Z"
   },
   {
    "duration": 15,
    "start_time": "2022-08-15T16:16:03.780Z"
   },
   {
    "duration": 14,
    "start_time": "2022-08-15T16:16:08.885Z"
   },
   {
    "duration": 36,
    "start_time": "2022-08-15T16:16:22.528Z"
   },
   {
    "duration": 33,
    "start_time": "2022-08-15T16:17:54.027Z"
   },
   {
    "duration": 35,
    "start_time": "2022-08-15T16:18:29.764Z"
   },
   {
    "duration": 41,
    "start_time": "2022-08-15T16:22:39.064Z"
   },
   {
    "duration": 26,
    "start_time": "2022-08-15T16:22:56.824Z"
   },
   {
    "duration": 25,
    "start_time": "2022-08-15T16:23:02.383Z"
   },
   {
    "duration": 46,
    "start_time": "2022-08-15T16:23:38.176Z"
   },
   {
    "duration": 46,
    "start_time": "2022-08-15T16:31:00.171Z"
   },
   {
    "duration": 46,
    "start_time": "2022-08-15T16:31:24.066Z"
   },
   {
    "duration": 405,
    "start_time": "2022-08-15T16:35:18.906Z"
   },
   {
    "duration": 171,
    "start_time": "2022-08-15T16:35:19.313Z"
   },
   {
    "duration": 54,
    "start_time": "2022-08-15T16:35:19.489Z"
   },
   {
    "duration": 14,
    "start_time": "2022-08-15T16:35:19.544Z"
   },
   {
    "duration": 40,
    "start_time": "2022-08-15T16:35:19.560Z"
   },
   {
    "duration": 31,
    "start_time": "2022-08-15T16:35:19.602Z"
   },
   {
    "duration": 6,
    "start_time": "2022-08-15T16:35:19.635Z"
   },
   {
    "duration": 25,
    "start_time": "2022-08-15T16:35:19.643Z"
   },
   {
    "duration": 37,
    "start_time": "2022-08-15T16:35:19.670Z"
   },
   {
    "duration": 12,
    "start_time": "2022-08-15T16:35:19.708Z"
   },
   {
    "duration": 18,
    "start_time": "2022-08-15T16:35:19.721Z"
   },
   {
    "duration": 28,
    "start_time": "2022-08-15T16:35:19.740Z"
   },
   {
    "duration": 19,
    "start_time": "2022-08-15T16:35:19.769Z"
   },
   {
    "duration": 76,
    "start_time": "2022-08-15T16:35:19.790Z"
   },
   {
    "duration": 23,
    "start_time": "2022-08-15T16:35:19.868Z"
   },
   {
    "duration": 29,
    "start_time": "2022-08-15T16:35:19.894Z"
   },
   {
    "duration": 5,
    "start_time": "2022-08-15T16:35:19.924Z"
   },
   {
    "duration": 13,
    "start_time": "2022-08-15T16:35:19.931Z"
   },
   {
    "duration": 5,
    "start_time": "2022-08-15T16:35:19.946Z"
   },
   {
    "duration": 47,
    "start_time": "2022-08-15T16:35:19.953Z"
   },
   {
    "duration": 13,
    "start_time": "2022-08-15T16:35:20.002Z"
   },
   {
    "duration": 18,
    "start_time": "2022-08-15T16:35:20.017Z"
   },
   {
    "duration": 19,
    "start_time": "2022-08-15T16:35:20.036Z"
   },
   {
    "duration": 15,
    "start_time": "2022-08-15T16:35:20.057Z"
   },
   {
    "duration": 23,
    "start_time": "2022-08-15T16:35:20.074Z"
   },
   {
    "duration": 27,
    "start_time": "2022-08-15T16:35:20.100Z"
   },
   {
    "duration": 11,
    "start_time": "2022-08-15T16:35:20.130Z"
   },
   {
    "duration": 4,
    "start_time": "2022-08-15T16:35:20.142Z"
   },
   {
    "duration": 42,
    "start_time": "2022-08-15T16:35:20.147Z"
   },
   {
    "duration": 39,
    "start_time": "2022-08-15T16:35:20.191Z"
   },
   {
    "duration": 6,
    "start_time": "2022-08-15T16:35:20.231Z"
   },
   {
    "duration": 7,
    "start_time": "2022-08-15T16:35:20.239Z"
   },
   {
    "duration": 417,
    "start_time": "2022-08-15T16:35:20.248Z"
   },
   {
    "duration": 190,
    "start_time": "2022-08-15T16:35:20.667Z"
   },
   {
    "duration": 171,
    "start_time": "2022-08-15T16:35:20.859Z"
   },
   {
    "duration": 56,
    "start_time": "2022-08-15T16:35:21.032Z"
   },
   {
    "duration": 864,
    "start_time": "2022-08-15T16:35:21.090Z"
   },
   {
    "duration": 6,
    "start_time": "2022-08-15T16:35:21.956Z"
   },
   {
    "duration": 174,
    "start_time": "2022-08-15T16:35:21.964Z"
   },
   {
    "duration": 170,
    "start_time": "2022-08-15T16:35:22.140Z"
   },
   {
    "duration": 351,
    "start_time": "2023-05-20T16:22:39.966Z"
   },
   {
    "duration": 292,
    "start_time": "2023-05-20T16:22:40.319Z"
   },
   {
    "duration": 44,
    "start_time": "2023-05-20T16:22:40.614Z"
   },
   {
    "duration": 26,
    "start_time": "2023-05-20T16:22:40.660Z"
   },
   {
    "duration": 30,
    "start_time": "2023-05-20T16:22:40.688Z"
   },
   {
    "duration": 22,
    "start_time": "2023-05-20T16:22:40.720Z"
   },
   {
    "duration": 7,
    "start_time": "2023-05-20T16:22:40.744Z"
   },
   {
    "duration": 22,
    "start_time": "2023-05-20T16:22:40.753Z"
   },
   {
    "duration": 27,
    "start_time": "2023-05-20T16:22:40.776Z"
   },
   {
    "duration": 11,
    "start_time": "2023-05-20T16:22:40.817Z"
   },
   {
    "duration": 22,
    "start_time": "2023-05-20T16:22:40.829Z"
   },
   {
    "duration": 29,
    "start_time": "2023-05-20T16:22:40.857Z"
   },
   {
    "duration": 8,
    "start_time": "2023-05-20T16:22:40.887Z"
   },
   {
    "duration": 66,
    "start_time": "2023-05-20T16:22:40.916Z"
   },
   {
    "duration": 6,
    "start_time": "2023-05-20T16:22:40.984Z"
   },
   {
    "duration": 40,
    "start_time": "2023-05-20T16:22:40.991Z"
   },
   {
    "duration": 4,
    "start_time": "2023-05-20T16:22:41.033Z"
   },
   {
    "duration": 12,
    "start_time": "2023-05-20T16:22:41.038Z"
   },
   {
    "duration": 4,
    "start_time": "2023-05-20T16:22:41.051Z"
   },
   {
    "duration": 8,
    "start_time": "2023-05-20T16:22:41.057Z"
   },
   {
    "duration": 5,
    "start_time": "2023-05-20T16:22:41.066Z"
   },
   {
    "duration": 45,
    "start_time": "2023-05-20T16:22:41.072Z"
   },
   {
    "duration": 7,
    "start_time": "2023-05-20T16:22:41.119Z"
   },
   {
    "duration": 12,
    "start_time": "2023-05-20T16:22:41.127Z"
   },
   {
    "duration": 17,
    "start_time": "2023-05-20T16:22:41.141Z"
   },
   {
    "duration": 19,
    "start_time": "2023-05-20T16:22:41.159Z"
   },
   {
    "duration": 10,
    "start_time": "2023-05-20T16:22:41.179Z"
   },
   {
    "duration": 3,
    "start_time": "2023-05-20T16:22:41.218Z"
   },
   {
    "duration": 27,
    "start_time": "2023-05-20T16:22:41.223Z"
   },
   {
    "duration": 35,
    "start_time": "2023-05-20T16:22:41.252Z"
   },
   {
    "duration": 29,
    "start_time": "2023-05-20T16:22:41.289Z"
   },
   {
    "duration": 4,
    "start_time": "2023-05-20T16:22:41.319Z"
   },
   {
    "duration": 356,
    "start_time": "2023-05-20T16:22:41.324Z"
   },
   {
    "duration": 150,
    "start_time": "2023-05-20T16:22:41.682Z"
   },
   {
    "duration": 142,
    "start_time": "2023-05-20T16:22:41.833Z"
   },
   {
    "duration": 52,
    "start_time": "2023-05-20T16:22:41.977Z"
   },
   {
    "duration": 752,
    "start_time": "2023-05-20T16:22:42.030Z"
   },
   {
    "duration": 6,
    "start_time": "2023-05-20T16:22:42.783Z"
   },
   {
    "duration": 175,
    "start_time": "2023-05-20T16:22:42.790Z"
   },
   {
    "duration": 137,
    "start_time": "2023-05-20T16:22:42.966Z"
   }
  ],
  "colab": {
   "name": "DA+. Сборный проект 1. Шаблон (1).ipynb",
   "provenance": []
  },
  "kernelspec": {
   "display_name": "Python 3 (ipykernel)",
   "language": "python",
   "name": "python3"
  },
  "language_info": {
   "codemirror_mode": {
    "name": "ipython",
    "version": 3
   },
   "file_extension": ".py",
   "mimetype": "text/x-python",
   "name": "python",
   "nbconvert_exporter": "python",
   "pygments_lexer": "ipython3",
   "version": "3.9.5"
  },
  "toc": {
   "base_numbering": 1,
   "nav_menu": {
    "height": "404px",
    "width": "780px"
   },
   "number_sections": true,
   "sideBar": true,
   "skip_h1_title": true,
   "title_cell": "Содержание",
   "title_sidebar": "Contents",
   "toc_cell": true,
   "toc_position": {
    "height": "calc(100% - 180px)",
    "left": "10px",
    "top": "150px",
    "width": "237.387px"
   },
   "toc_section_display": true,
   "toc_window_display": false
  }
 },
 "nbformat": 4,
 "nbformat_minor": 1
}
